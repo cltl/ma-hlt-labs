{
 "cells": [
  {
   "cell_type": "markdown",
   "id": "f4bf91df-b25a-4485-85ce-47db5cbef03e",
   "metadata": {},
   "source": [
    "## Lab4 Assignment Large Language Models"
   ]
  },
  {
   "cell_type": "markdown",
   "id": "ab6472bc-9977-437c-bb2c-561b95862628",
   "metadata": {},
   "source": [
    "Copyright: Vrije Universiteit Amsterdam, Faculty of Humanities, CLTL"
   ]
  },
  {
   "cell_type": "markdown",
   "id": "4b3e785e-0429-4845-85a4-865c5500bfed",
   "metadata": {},
   "source": [
    "For this assignment, you will annotate a slection of 100 turns from the conversations with the finetuned GO-BERT and with a generative LLM. You can experiment with two different prompts and different examples when instructing the LLM server. Explain any choices in the notebook.\n",
    "\n",
    "Create a evaluation report using sklearn and compare the BERT and LLama performance against the \"adjudicated\" gold labels."
   ]
  },
  {
   "cell_type": "markdown",
   "id": "28a82066-9d56-4928-9766-a6a9e60bde11",
   "metadata": {},
   "source": [
    "# Name of the group and the students"
   ]
  },
  {
   "cell_type": "markdown",
   "id": "818a9c38-4744-436a-b690-c0b1f8d93d7e",
   "metadata": {},
   "source": [
    "Group name: [HERE SHOULD BE THE GROUP NAME]\n",
    "\n",
    "Student names: [HERE SHOULD BE THE STUDENT NAMES]"
   ]
  },
  {
   "cell_type": "markdown",
   "id": "1f75ab0d-dd28-4644-a9ea-5ce5d63827da",
   "metadata": {},
   "source": [
    "## Loading the data\n"
   ]
  },
  {
   "cell_type": "code",
   "execution_count": 1,
   "id": "60244cd9-bf18-4ee5-aab9-cf1957342d5f",
   "metadata": {},
   "outputs": [
    {
     "data": {
      "text/html": [
       "<div>\n",
       "<style scoped>\n",
       "    .dataframe tbody tr th:only-of-type {\n",
       "        vertical-align: middle;\n",
       "    }\n",
       "\n",
       "    .dataframe tbody tr th {\n",
       "        vertical-align: top;\n",
       "    }\n",
       "\n",
       "    .dataframe thead th {\n",
       "        text-align: right;\n",
       "    }\n",
       "</style>\n",
       "<table border=\"1\" class=\"dataframe\">\n",
       "  <thead>\n",
       "    <tr style=\"text-align: right;\">\n",
       "      <th></th>\n",
       "      <th>utterance</th>\n",
       "      <th>speaker</th>\n",
       "      <th>turn_id</th>\n",
       "      <th>Gold</th>\n",
       "      <th>Annotator</th>\n",
       "      <th>Votes</th>\n",
       "      <th>Annotators</th>\n",
       "      <th>Adjudication</th>\n",
       "    </tr>\n",
       "  </thead>\n",
       "  <tbody>\n",
       "    <tr>\n",
       "      <th>0</th>\n",
       "      <td>Hey, I'm Lolamama.</td>\n",
       "      <td>Hi, I'm Lalamama.</td>\n",
       "      <td>2</td>\n",
       "      <td>neutral</td>\n",
       "      <td>Yunchong Huang</td>\n",
       "      <td>[neutral, neutral, neutral]</td>\n",
       "      <td>[Yunchong Huang, Aysha, Hannah]</td>\n",
       "      <td>neutral</td>\n",
       "    </tr>\n",
       "    <tr>\n",
       "      <th>1</th>\n",
       "      <td>Let's have a chat, but please restrict your re...</td>\n",
       "      <td>Hey, I'm Lolamama.</td>\n",
       "      <td>4</td>\n",
       "      <td>neutral</td>\n",
       "      <td>Yunchong Huang</td>\n",
       "      <td>[neutral, neutral, neutral]</td>\n",
       "      <td>[Yunchong Huang, Aysha, Hannah]</td>\n",
       "      <td>neutral</td>\n",
       "    </tr>\n",
       "    <tr>\n",
       "      <th>2</th>\n",
       "      <td>The weather today is just ridiculous, I was ca...</td>\n",
       "      <td>Hey, I'm Lolamama.</td>\n",
       "      <td>6</td>\n",
       "      <td>anger</td>\n",
       "      <td>Yunchong Huang</td>\n",
       "      <td>[anger, anger, disgust]</td>\n",
       "      <td>[Yunchong Huang, Aysha, Hannah]</td>\n",
       "      <td>anger</td>\n",
       "    </tr>\n",
       "    <tr>\n",
       "      <th>3</th>\n",
       "      <td>Oh wow, you also know how it feels in rain? Yo...</td>\n",
       "      <td>Hey, I'm Lolamama.</td>\n",
       "      <td>8</td>\n",
       "      <td>surprise</td>\n",
       "      <td>Yunchong Huang</td>\n",
       "      <td>[surprise, surprise, surprise]</td>\n",
       "      <td>[Yunchong Huang, Aysha, Hannah]</td>\n",
       "      <td>surprise</td>\n",
       "    </tr>\n",
       "    <tr>\n",
       "      <th>4</th>\n",
       "      <td>OK, if you are able to hang around in disguise...</td>\n",
       "      <td>Hey, I'm Lolamama.</td>\n",
       "      <td>10</td>\n",
       "      <td>fear</td>\n",
       "      <td>Yunchong Huang</td>\n",
       "      <td>[fear, fear, neutral]</td>\n",
       "      <td>[Yunchong Huang, Aysha, Hannah]</td>\n",
       "      <td>fear</td>\n",
       "    </tr>\n",
       "  </tbody>\n",
       "</table>\n",
       "</div>"
      ],
      "text/plain": [
       "                                           utterance             speaker  \\\n",
       "0                                 Hey, I'm Lolamama.   Hi, I'm Lalamama.   \n",
       "1  Let's have a chat, but please restrict your re...  Hey, I'm Lolamama.   \n",
       "2  The weather today is just ridiculous, I was ca...  Hey, I'm Lolamama.   \n",
       "3  Oh wow, you also know how it feels in rain? Yo...  Hey, I'm Lolamama.   \n",
       "4  OK, if you are able to hang around in disguise...  Hey, I'm Lolamama.   \n",
       "\n",
       "   turn_id      Gold       Annotator                           Votes  \\\n",
       "0        2   neutral  Yunchong Huang     [neutral, neutral, neutral]   \n",
       "1        4   neutral  Yunchong Huang     [neutral, neutral, neutral]   \n",
       "2        6     anger  Yunchong Huang         [anger, anger, disgust]   \n",
       "3        8  surprise  Yunchong Huang  [surprise, surprise, surprise]   \n",
       "4       10      fear  Yunchong Huang           [fear, fear, neutral]   \n",
       "\n",
       "                        Annotators Adjudication  \n",
       "0  [Yunchong Huang, Aysha, Hannah]      neutral  \n",
       "1  [Yunchong Huang, Aysha, Hannah]      neutral  \n",
       "2  [Yunchong Huang, Aysha, Hannah]        anger  \n",
       "3  [Yunchong Huang, Aysha, Hannah]     surprise  \n",
       "4  [Yunchong Huang, Aysha, Hannah]         fear  "
      ]
     },
     "execution_count": 1,
     "metadata": {},
     "output_type": "execute_result"
    }
   ],
   "source": [
    "# THE CODE TO LOAD THE TEST DATA AND LABELS\n",
    "import pandas as pd\n",
    "\n",
    "## specify the path to the adjudicated conversations\n",
    "annotation_file = \"/Users/piek/Desktop/t-MA-HLT-introduction-2024/ma-hlt-labs-class/lab0.llama/other/adjudicated_annotations.json\"\n",
    "\n",
    "df = pd.read_json(annotation_file)\n",
    "df = df.dropna()\n",
    "df.head()"
   ]
  },
  {
   "cell_type": "markdown",
   "id": "7669cf62-a43d-428b-a3bc-66bd72251ca0",
   "metadata": {},
   "source": [
    "## 4.1 Use finetuned goBERT to assign Ekman emotion labels to the utterances "
   ]
  },
  {
   "cell_type": "markdown",
   "id": "66f87568-5a83-469a-a9ee-5099ed190213",
   "metadata": {},
   "source": [
    "You will need to map GO_EMOTIONS to the 6 basic Ekman emotion and to neutral. For the mappings, we added the utility functions to **lab_util.py** . We also define a sort function to list the emotions from the highest score down. The next import makes these functions available in this notebook. There is no need to copy these functions into this notebook explicitly. After the import, you can call the function from **util**, e.g.:\n",
    "\n",
    "```emotion_labels = sort_predictions(emotion_labels[0])```\n",
    "\n",
    "```ekman_labels = util.get_averaged_mapped_scores_by_threshold(ekman_map, emotion_labels, threshold)```\n",
    "\n",
    "```util.plot_labels_with_counts(labels, values)```"
   ]
  },
  {
   "cell_type": "code",
   "execution_count": 1,
   "id": "d2503e12-ca2f-407a-bc24-93d48370e60f",
   "metadata": {},
   "outputs": [],
   "source": [
    "import lab_util as util"
   ]
  },
  {
   "cell_type": "code",
   "execution_count": null,
   "id": "9a3c99e6-fc40-4464-bc1a-6fd395916184",
   "metadata": {},
   "outputs": [],
   "source": [
    "[Your code goes here]"
   ]
  },
  {
   "cell_type": "markdown",
   "id": "459bff6c-b03d-4f50-99ef-9d53b02579fa",
   "metadata": {},
   "source": [
    "## 4.2 Prompting an LLM for emotions"
   ]
  },
  {
   "cell_type": "code",
   "execution_count": null,
   "id": "4b207e05-0887-443e-ad32-d5c14e5e9f98",
   "metadata": {},
   "outputs": [],
   "source": [
    "[Your code goes here]"
   ]
  },
  {
   "cell_type": "markdown",
   "id": "cff89590-e8ce-4969-ba96-b20e95776eaa",
   "metadata": {},
   "source": [
    "Explain the prompts you use."
   ]
  },
  {
   "cell_type": "markdown",
   "id": "996f4b29-1f9b-4bfc-a453-c2bd956e3913",
   "metadata": {},
   "source": [
    "## 4.3 Classification report and confusion matrix"
   ]
  },
  {
   "cell_type": "markdown",
   "id": "1c1ff801-93cc-4397-ba6d-c760e5598c2c",
   "metadata": {},
   "source": [
    "## 4.4 Comparison and discussion"
   ]
  },
  {
   "cell_type": "markdown",
   "id": "462e84e0-6ae6-40ec-ab0a-0435509f0755",
   "metadata": {},
   "source": [
    "## End of this notebook"
   ]
  },
  {
   "cell_type": "code",
   "execution_count": null,
   "id": "f450a2fc-0288-4f68-ac7d-b4eef11b1529",
   "metadata": {},
   "outputs": [],
   "source": []
  }
 ],
 "metadata": {
  "kernelspec": {
   "display_name": "Python 3",
   "language": "python",
   "name": "python3"
  },
  "language_info": {
   "codemirror_mode": {
    "name": "ipython",
    "version": 3
   },
   "file_extension": ".py",
   "mimetype": "text/x-python",
   "name": "python",
   "nbconvert_exporter": "python",
   "pygments_lexer": "ipython3",
   "version": "3.10.11"
  }
 },
 "nbformat": 4,
 "nbformat_minor": 5
}
