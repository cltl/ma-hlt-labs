{
 "cells": [
  {
   "cell_type": "markdown",
   "id": "a403c511-01b1-41d3-856e-3d5f86b30875",
   "metadata": {},
   "source": [
    "# Lab6.2 Emotional classification with an LLM"
   ]
  },
  {
   "cell_type": "markdown",
   "id": "f8a989fb-0cd9-41ee-a45b-b6989c6eef20",
   "metadata": {},
   "source": [
    "Copyright: Vrije Universiteit Amsterdam, Faculty of Humanities, CLTL"
   ]
  },
  {
   "cell_type": "markdown",
   "id": "fb92fb8b-6e76-4a6b-86b3-76db5a46f0da",
   "metadata": {},
   "source": [
    "Through this notebook, you will annotate a text with an LLM. We will use here a small open source model [Qwen version 3:1.7b](https://huggingface.co/Qwen).\n",
    "\n",
    "You will read a conversation and send the utterances to the Ollama server to annotate each using instructions, so-called prompting.  The code for the annotator is given in **llm_annotator.py**. It is an Ollama client that sends a prompt request to a Ollama server server to get a response.\n",
    "\n",
    "We assume you have already installed ```ollama``` locally and pulled the models that you need to your local machine. See lab1 for more instructions."
   ]
  },
  {
   "cell_type": "markdown",
   "id": "bd230988-2c7b-4018-9131-ca6d4f912db7",
   "metadata": {},
   "source": [
    "## 1. Instantiating the annotator"
   ]
  },
  {
   "cell_type": "markdown",
   "id": "bc42fec1-01f8-4f6b-ab30-b4c37e0a95aa",
   "metadata": {},
   "source": [
    "We create an instance of the LLMAnnotator after importing the code."
   ]
  },
  {
   "cell_type": "code",
   "execution_count": 1,
   "id": "96552b4f-f63b-4155-9956-01ff93c62cd0",
   "metadata": {},
   "outputs": [
    {
     "name": "stderr",
     "output_type": "stream",
     "text": [
      "/opt/anaconda3/envs/hltenv/lib/python3.11/site-packages/requests/__init__.py:86: RequestsDependencyWarning: Unable to find acceptable character detection dependency (chardet or charset_normalizer).\n",
      "  warnings.warn(\n"
     ]
    }
   ],
   "source": [
    "from llm_annotator import LLMAnnotator"
   ]
  },
  {
   "cell_type": "markdown",
   "id": "2b8300d5-04bb-4467-bbb3-a94491d40105",
   "metadata": {},
   "source": [
    "To instantiate an LLMAnnotator, we can give it three parameters:\n",
    "\n",
    "1. the name of the model\n",
    "2. the set of labels\n",
    "3. some examples for the few-shot learning\n",
    "4. the maximum amount of context to be considered for each utterance\n",
    "\n",
    "As a model, we use here ```qwen3:1.7b```. This model needs to be available in your local ```ollama``` server. You can also try another model if it fits in your memory. Note that the script for the LLMAnnotator has some specific code to get the answer from the response. The Qwen model outputs its thinking as well surrounded by ```<think>...</think>```. Using another model may imply adapting the processing of the response.\n"
   ]
  },
  {
   "cell_type": "code",
   "execution_count": 2,
   "id": "4a7758a1-1eb6-4ce9-bb4a-c7967ed51788",
   "metadata": {},
   "outputs": [
    {
     "name": "stdout",
     "output_type": "stream",
     "text": [
      "My instructions are: [{'role': 'system', 'content': 'You are an intelligent assistant.'}, {'role': 'system', 'content': 'You will receive utterances from a conversation as Input in JSON format.'}, {'role': 'system', 'content': 'You need to determine the emotion of the last utterance.'}, {'role': 'system', 'content': \"Only use one of the following labels:['anger', 'disgust', 'fear', 'joy', 'sadness', 'surprise', 'neutral'].\"}, {'role': 'system', 'content': 'Only determine the emotion of LAST utterance, use the preceding utterances as context.'}, {'role': 'system', 'content': 'Output the most appropriate label in JSON format.'}, {'role': 'system', 'content': 'Do not output anything else.'}, {'role': 'system', 'content': 'Here are a few examples:'}, {'role': 'user', 'content': 'I love dogs'}, {'role': 'system', 'content': 'joy'}, {'role': 'user', 'content': 'I hate cats'}, {'role': 'system', 'content': 'disgust'}]\n"
     ]
    }
   ],
   "source": [
    "model='qwen3:1.7b'\n",
    "### Labels to try\n",
    "sentiment_labels = [\"positive\", \"negative\", \"neutral\"]\n",
    "ekman_labels = [\"anger\", \"disgust\", \"fear\", \"joy\", \"sadness\", \"surprise\", \"neutral\"]\n",
    "examples = [{\"Input\": \"I love dogs\", \"Output\": \"joy\"}, {\"Input\": \"I hate cats\", \"Output\": \"disgust\"}]\n",
    "annotator = LLMAnnotator(model=model, labels=ekman_labels, examples=examples, max_context=5)"
   ]
  },
  {
   "cell_type": "markdown",
   "id": "01a0efb0-1ee3-4466-858e-74e6c9656287",
   "metadata": {},
   "source": [
    "We are now going to read the conversation that we created before with the LLM with our annotations and send these to the LLM to annotate."
   ]
  },
  {
   "cell_type": "code",
   "execution_count": 6,
   "id": "bab5ae50-badd-4376-a90b-5de41404f917",
   "metadata": {},
   "outputs": [
    {
     "data": {
      "text/html": [
       "<div>\n",
       "<style scoped>\n",
       "    .dataframe tbody tr th:only-of-type {\n",
       "        vertical-align: middle;\n",
       "    }\n",
       "\n",
       "    .dataframe tbody tr th {\n",
       "        vertical-align: top;\n",
       "    }\n",
       "\n",
       "    .dataframe thead th {\n",
       "        text-align: right;\n",
       "    }\n",
       "</style>\n",
       "<table border=\"1\" class=\"dataframe\">\n",
       "  <thead>\n",
       "    <tr style=\"text-align: right;\">\n",
       "      <th></th>\n",
       "      <th>utterance</th>\n",
       "      <th>speaker</th>\n",
       "      <th>turn_id</th>\n",
       "      <th>Gold</th>\n",
       "      <th>Annotator</th>\n",
       "      <th>Votes</th>\n",
       "      <th>Annotators</th>\n",
       "      <th>Adjudication</th>\n",
       "    </tr>\n",
       "  </thead>\n",
       "  <tbody>\n",
       "    <tr>\n",
       "      <th>0</th>\n",
       "      <td>Can you give me ideas on how to deal with some...</td>\n",
       "      <td>Bill</td>\n",
       "      <td>4</td>\n",
       "      <td>neutral</td>\n",
       "      <td>Rico</td>\n",
       "      <td>[neutral, neutral, sadness, sadness, neutral, ...</td>\n",
       "      <td>[Rico, Ella, Vera Langeberg, Giulia, zia, Thom...</td>\n",
       "      <td>sadness</td>\n",
       "    </tr>\n",
       "    <tr>\n",
       "      <th>1</th>\n",
       "      <td>I am so angry. I am blind with rage. I want to...</td>\n",
       "      <td>Bill</td>\n",
       "      <td>6</td>\n",
       "      <td>anger</td>\n",
       "      <td>Rico</td>\n",
       "      <td>[anger, anger, anger, anger, anger, anger]</td>\n",
       "      <td>[Rico, Ella, Vera Langeberg, Giulia, zia, Thom...</td>\n",
       "      <td>anger</td>\n",
       "    </tr>\n",
       "    <tr>\n",
       "      <th>2</th>\n",
       "      <td>But at the same time I am happy that it is ove...</td>\n",
       "      <td>Bill</td>\n",
       "      <td>8</td>\n",
       "      <td>joy</td>\n",
       "      <td>Rico</td>\n",
       "      <td>[joy, joy, anger, anger, joy, joy]</td>\n",
       "      <td>[Rico, Ella, Vera Langeberg, Giulia, zia, Thom...</td>\n",
       "      <td>joy</td>\n",
       "    </tr>\n",
       "    <tr>\n",
       "      <th>3</th>\n",
       "      <td>When I found out I was so surprised. I saw no ...</td>\n",
       "      <td>Bill</td>\n",
       "      <td>10</td>\n",
       "      <td>surprise</td>\n",
       "      <td>Rico</td>\n",
       "      <td>[surprise, surprise, surprise, surprise, surpr...</td>\n",
       "      <td>[Rico, Ella, Vera Langeberg, Giulia, zia, Thom...</td>\n",
       "      <td>surprise</td>\n",
       "    </tr>\n",
       "    <tr>\n",
       "      <th>4</th>\n",
       "      <td>Please do give me some steps to get over this</td>\n",
       "      <td>Bill</td>\n",
       "      <td>12</td>\n",
       "      <td>neutral</td>\n",
       "      <td>Rico</td>\n",
       "      <td>[neutral, neutral, neutral, neutral, neutral, ...</td>\n",
       "      <td>[Rico, Ella, Vera Langeberg, Giulia, zia, Thom...</td>\n",
       "      <td>neutral</td>\n",
       "    </tr>\n",
       "  </tbody>\n",
       "</table>\n",
       "</div>"
      ],
      "text/plain": [
       "                                           utterance speaker  turn_id  \\\n",
       "0  Can you give me ideas on how to deal with some...    Bill        4   \n",
       "1  I am so angry. I am blind with rage. I want to...    Bill        6   \n",
       "2  But at the same time I am happy that it is ove...    Bill        8   \n",
       "3  When I found out I was so surprised. I saw no ...    Bill       10   \n",
       "4      Please do give me some steps to get over this    Bill       12   \n",
       "\n",
       "       Gold Annotator                                              Votes  \\\n",
       "0   neutral      Rico  [neutral, neutral, sadness, sadness, neutral, ...   \n",
       "1     anger      Rico         [anger, anger, anger, anger, anger, anger]   \n",
       "2       joy      Rico                 [joy, joy, anger, anger, joy, joy]   \n",
       "3  surprise      Rico  [surprise, surprise, surprise, surprise, surpr...   \n",
       "4   neutral      Rico  [neutral, neutral, neutral, neutral, neutral, ...   \n",
       "\n",
       "                                          Annotators Adjudication  \n",
       "0  [Rico, Ella, Vera Langeberg, Giulia, zia, Thom...      sadness  \n",
       "1  [Rico, Ella, Vera Langeberg, Giulia, zia, Thom...        anger  \n",
       "2  [Rico, Ella, Vera Langeberg, Giulia, zia, Thom...          joy  \n",
       "3  [Rico, Ella, Vera Langeberg, Giulia, zia, Thom...     surprise  \n",
       "4  [Rico, Ella, Vera Langeberg, Giulia, zia, Thom...      neutral  "
      ]
     },
     "execution_count": 6,
     "metadata": {},
     "output_type": "execute_result"
    }
   ],
   "source": [
    "import pandas as pd\n",
    "\n",
    "annotation_file = \"/Users/piek/Desktop/t-MA-HLT-introduction-2025/ma-hlt-labs/lab1.chat/annotation/chats_2025/adjudicated_annotations.json\"\n",
    "\n",
    "df = pd.read_json(annotation_file)\n",
    "df.head()"
   ]
  },
  {
   "cell_type": "code",
   "execution_count": 7,
   "id": "3b04dcbf-56f3-4046-919d-344282baa027",
   "metadata": {},
   "outputs": [
    {
     "name": "stdout",
     "output_type": "stream",
     "text": [
      "604\n",
      "604\n"
     ]
    }
   ],
   "source": [
    "utterances = df[\"utterance\"]\n",
    "labels = df['Adjudication']\n",
    "print(len(utterances))\n",
    "print(len(labels))"
   ]
  },
  {
   "cell_type": "markdown",
   "id": "6c34b1e4-2ea0-4acb-9b4f-e290b916c006",
   "metadata": {},
   "source": [
    "We have 604 utterances and labels from the conversations. Prompting the LLM to annotate these will take a lot of time as it is slows. We will therefore only select a subset of the data. We use the ```annotate_conversation``` fucntion from the annotator to annotate the subset."
   ]
  },
  {
   "cell_type": "code",
   "execution_count": 8,
   "id": "12a4ffd2-0ab7-4fc4-bc24-84ffbbd27cc3",
   "metadata": {},
   "outputs": [
    {
     "name": "stdout",
     "output_type": "stream",
     "text": [
      "Annotating a conversation with 10 utterances\n",
      "Processed 5 in 67 seconds\n",
      "Processed 5 turns in total out of 10\n",
      "Processed 5 in 92 seconds\n",
      "Processed 10 turns in total out of 10\n",
      "[{'Input': 'Can you give me ideas on how to deal with someone cheating on you? I am going through all kinds of emotions. I am a wreck.', 'Output': 'sadness'}, {'Input': 'I am so angry. I am blind with rage. I want to break stuff!', 'Output': 'anger'}, {'Input': 'But at the same time I am happy that it is over. I deserve better! I am proud to leave that lying bastard! I am proud of listening to my gut and relizing that I do deserve more!', 'Output': '{  \"emotion\": \"anger\"}'}, {'Input': 'When I found out I was so surprised. I saw no clues. ', 'Output': 'surprise'}, {'Input': 'Please do give me some steps to get over this', 'Output': 'sadness'}]\n"
     ]
    }
   ],
   "source": [
    "subset = 10\n",
    "annotations = annotator.annotate_conversation(utterances[:subset])\n",
    "print(annotations[:5])"
   ]
  },
  {
   "cell_type": "markdown",
   "id": "ee78a249-0a47-4b10-a86b-238817ee2526",
   "metadata": {},
   "source": [
    "First of all, note that a generative LLM is very slow, especially compared to an encoder model such as GO-BERT. An encoder represents the full texts in one go before generating the prediction for its classification head. A generative model does not use a classification head but needs to generate the next token at each step. So if it generates a response of ten tokens, it needs to represent the text ten times as well: once for each next token and increasingly as the response grows."
   ]
  },
  {
   "cell_type": "markdown",
   "id": "2e4d2feb-6d0a-4be7-a65a-7988247b2672",
   "metadata": {},
   "source": [
    "We could add the predictions from the LLM to the dataframe but LLMs do not always precisely follow the instructions e.g. \"Output: Output:neutral\". We therefore need to clean and filter the output. Specifically, we check if any of a Ekman label is a substring of the output and if so then take that value. If none of these is matched, we set the value to None."
   ]
  },
  {
   "cell_type": "code",
   "execution_count": 10,
   "id": "29ec6125-84d6-4510-b8b9-dd268881fa78",
   "metadata": {},
   "outputs": [
    {
     "name": "stdout",
     "output_type": "stream",
     "text": [
      "Clean list of predictions for the subset ['sadness', 'anger', 'anger', 'surprise', 'sadness', 'sadness', 'joy', 'sadness', 'sadness', 'sadness']\n"
     ]
    }
   ],
   "source": [
    "llm_predicted_labels = []\n",
    "for anno in annotations:\n",
    "    ## By default the value is None\n",
    "    llm_label = None\n",
    "    if 'Output' in anno:\n",
    "        prediction = anno['Output']\n",
    "        for label in ekman_labels:\n",
    "            if label in prediction:\n",
    "                ### We found a valid label so we replace None by the label\n",
    "                llm_label = label\n",
    "    llm_predicted_labels.append(llm_label)\n",
    "print('Clean list of predictions for the subset', llm_predicted_labels)"
   ]
  },
  {
   "cell_type": "markdown",
   "id": "f2654a61-929d-4c2b-851b-6926df220637",
   "metadata": {},
   "source": [
    "We can now take the adjudicated annotations for the same subset as the gold labels and generate a classification report."
   ]
  },
  {
   "cell_type": "code",
   "execution_count": 11,
   "id": "e3069bfc-20c6-4c51-81a9-1387d37f9f73",
   "metadata": {},
   "outputs": [
    {
     "name": "stdout",
     "output_type": "stream",
     "text": [
      "Adjudicated labels for the subset ['sadness', 'anger', 'joy', 'surprise', 'neutral', 'anger', 'joy', 'sadness', 'anger', 'anger']\n",
      "10 10\n",
      "sadness sadness\n",
      "anger anger\n",
      "joy anger\n",
      "surprise surprise\n",
      "neutral sadness\n",
      "anger sadness\n",
      "joy joy\n",
      "sadness sadness\n",
      "anger sadness\n",
      "anger sadness\n"
     ]
    }
   ],
   "source": [
    "adjudicated_labels = list(df['Adjudication'])[:subset]\n",
    "print('Adjudicated labels for the subset', adjudicated_labels)\n",
    "\n",
    "print(len(llm_predicted_labels), len(adjudicated_labels))\n",
    "for gold, predict in zip(adjudicated_labels, llm_predicted_labels):\n",
    "    print(gold, predict)"
   ]
  },
  {
   "cell_type": "code",
   "execution_count": 12,
   "id": "f98ad790-6ab6-4877-8278-48016f505ac5",
   "metadata": {
    "scrolled": true
   },
   "outputs": [
    {
     "name": "stdout",
     "output_type": "stream",
     "text": [
      "LLM Ekman ----------------------------------------------------------------\n",
      "              precision    recall  f1-score   support\n",
      "\n",
      "     sadness      0.500     0.250     0.333         4\n",
      "    surprise      1.000     0.500     0.667         2\n",
      "         joy      0.000     0.000     0.000         1\n",
      "     neutral      0.333     1.000     0.500         2\n",
      "       anger      1.000     1.000     1.000         1\n",
      "\n",
      "    accuracy                          0.500        10\n",
      "   macro avg      0.567     0.550     0.500        10\n",
      "weighted avg      0.567     0.500     0.467        10\n",
      "\n"
     ]
    },
    {
     "name": "stderr",
     "output_type": "stream",
     "text": [
      "/opt/anaconda3/envs/hltenv/lib/python3.11/site-packages/sklearn/metrics/_classification.py:1706: UndefinedMetricWarning: Precision is ill-defined and being set to 0.0 in labels with no predicted samples. Use `zero_division` parameter to control this behavior.\n",
      "  _warn_prf(average, modifier, f\"{metric.capitalize()} is\", result.shape[0])\n",
      "/opt/anaconda3/envs/hltenv/lib/python3.11/site-packages/sklearn/metrics/_classification.py:1706: UndefinedMetricWarning: Precision is ill-defined and being set to 0.0 in labels with no predicted samples. Use `zero_division` parameter to control this behavior.\n",
      "  _warn_prf(average, modifier, f\"{metric.capitalize()} is\", result.shape[0])\n",
      "/opt/anaconda3/envs/hltenv/lib/python3.11/site-packages/sklearn/metrics/_classification.py:1706: UndefinedMetricWarning: Precision is ill-defined and being set to 0.0 in labels with no predicted samples. Use `zero_division` parameter to control this behavior.\n",
      "  _warn_prf(average, modifier, f\"{metric.capitalize()} is\", result.shape[0])\n"
     ]
    }
   ],
   "source": [
    "from sklearn.metrics import classification_report\n",
    "from sklearn.metrics import confusion_matrix\n",
    "from sklearn.metrics import ConfusionMatrixDisplay\n",
    "\n",
    "label_set = set(adjudicated_labels+llm_predicted_labels)\n",
    "report = classification_report(adjudicated_labels,llm_predicted_labels ,digits = 3, target_names=label_set)\n",
    "print('LLM Ekman ----------------------------------------------------------------')\n",
    "\n",
    "print(report)"
   ]
  },
  {
   "cell_type": "markdown",
   "id": "82ea2d16-48e6-4bec-a229-19442f4ae57c",
   "metadata": {},
   "source": [
    "We can see that the results are not very good, which we could have guessed from the paired list of values: e.g. \"sadness\" is mostly assigned when it should not. "
   ]
  },
  {
   "cell_type": "code",
   "execution_count": 13,
   "id": "ee65ad8b-5d8c-4f91-8824-882724525fd8",
   "metadata": {},
   "outputs": [
    {
     "name": "stdout",
     "output_type": "stream",
     "text": [
      "Confusion matrix SVM\n",
      "[[1 0 0 3 0]\n",
      " [1 1 0 0 0]\n",
      " [0 0 0 1 0]\n",
      " [0 0 0 2 0]\n",
      " [0 0 0 0 1]]\n"
     ]
    },
    {
     "data": {
      "text/plain": [
       "<sklearn.metrics._plot.confusion_matrix.ConfusionMatrixDisplay at 0x12af7fc10>"
      ]
     },
     "execution_count": 13,
     "metadata": {},
     "output_type": "execute_result"
    },
    {
     "data": {
      "image/png": "[encoded data removed]",
      "text/plain": [
       "<Figure size 640x480 with 2 Axes>"
      ]
     },
     "metadata": {},
     "output_type": "display_data"
    }
   ],
   "source": [
    "print('Confusion matrix SVM')\n",
    "cf_matrix = confusion_matrix(adjudicated_labels,llm_predicted_labels)\n",
    "print(cf_matrix)\n",
    "display = ConfusionMatrixDisplay(confusion_matrix=cf_matrix, display_labels=label_set)\n",
    "display.plot()"
   ]
  },
  {
   "cell_type": "markdown",
   "id": "5408a9fc-b4dc-43db-802a-3dc74b493a32",
   "metadata": {},
   "source": [
    "## End of notebook"
   ]
  },
  {
   "cell_type": "code",
   "execution_count": null,
   "id": "4e97370e-8f45-4237-8fa9-89791bf8bc15",
   "metadata": {},
   "outputs": [],
   "source": []
  }
 ],
 "metadata": {
  "kernelspec": {
   "display_name": "hltenv",
   "language": "python",
   "name": "hltenv"
  },
  "language_info": {
   "codemirror_mode": {
    "name": "ipython",
    "version": 3
   },
   "file_extension": ".py",
   "mimetype": "text/x-python",
   "name": "python",
   "nbconvert_exporter": "python",
   "pygments_lexer": "ipython3",
   "version": "3.11.13"
  }
 },
 "nbformat": 4,
 "nbformat_minor": 5
}
