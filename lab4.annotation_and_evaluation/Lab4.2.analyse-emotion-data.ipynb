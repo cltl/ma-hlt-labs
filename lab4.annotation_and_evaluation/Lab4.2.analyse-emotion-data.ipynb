{
 "cells": [
  {
   "cell_type": "markdown",
   "metadata": {},
   "source": [
    "# Lab4.2 Analysing the data for emotion classification"
   ]
  },
  {
   "cell_type": "markdown",
   "metadata": {},
   "source": [
    "Copyright: Vrije Universiteit Amsterdam, Faculty of Humanities, CLTL"
   ]
  },
  {
   "cell_type": "markdown",
   "metadata": {},
   "source": [
    "Before training and testing a classifier, it is good practice to analyse the data. Knowing the data is knowing about the problem that you are trying to solve!\n",
    "\n",
    "You can analyse the data in various ways:\n",
    "\n",
    "1. linguistic analysis: the length of the utterances, the diversiy of words used, the syntactic structures used\n",
    "2. pragmatic analysis: the dialogue acts used such as question, statement, opinion, yes/no answer, appreciation, complaints\n",
    "3. the distribution of the classification labels over the data\n",
    "\n",
    "First of all, we need to know whether the train and test data have the right properties, i.e. is the test set representative for the problem that we want to solve and is the training data a good data set to learn how to tackle this problem.\n",
    "\n",
    "Secondly, we may learn about what words and phrases may be important to detect the categories of our interest, in this case emotions. Setting the parameters of the classifier such as the minimal and maximal frequency threshold, the stopwords filtered but also whether using TD.IDF weighing makes sense all depend on the kind of words, their frequency and their distribution in the data.\n",
    "\n",
    "Finally, the label distribution in the data tells us how much training data there is for each category. Some categories may be too dominant and others may be underrepresented. Obtaining sufficient data for all categories is often a challenge.\n",
    "\n",
    "In the next sections, we will first analyse the vocabularies of the train and test data and after that the label distribution.\n"
   ]
  },
  {
   "cell_type": "markdown",
   "metadata": {},
   "source": [
    "## 1. Loading the train and test data"
   ]
  },
  {
   "attachments": {},
   "cell_type": "markdown",
   "metadata": {},
   "source": [
    "We will load the data from the train and test file in Pandas to analyse the data distribution. We ignore here the development set but you can apply the same analyse to that set as well.\n",
    "We load the data from the  ```Lab3.text_meaning/data/MELD``` folder:\n",
    "\n",
    "* test_sent_emo.csv\n",
    "* train_sent_emo.csv"
   ]
  },
  {
   "cell_type": "code",
   "execution_count": 2,
   "metadata": {
    "tags": []
   },
   "outputs": [],
   "source": [
    "import pandas as pd"
   ]
  },
  {
   "cell_type": "code",
   "execution_count": 3,
   "metadata": {
    "tags": []
   },
   "outputs": [],
   "source": [
    "filepath = '../Lab3.text_meaning/data/MELD/train_sent_emo.csv'\n",
    "# Create a dataframe object 'dftrain' by readig the file.\n",
    "dftrain = pd.read_csv(filepath)\n",
    "filepath = '../Lab3.text_meaning/data/MELD/test_sent_emo.csv'\n",
    "# Create a dataframe object 'dtest' by readig the file.\n",
    "dftest = pd.read_csv(filepath)"
   ]
  },
  {
   "cell_type": "code",
   "execution_count": 4,
   "metadata": {
    "scrolled": true,
    "tags": []
   },
   "outputs": [
    {
     "name": "stdout",
     "output_type": "stream",
     "text": [
      "<class 'pandas.core.frame.DataFrame'>\n",
      "RangeIndex: 9989 entries, 0 to 9988\n",
      "Data columns (total 11 columns):\n",
      " #   Column        Non-Null Count  Dtype \n",
      "---  ------        --------------  ----- \n",
      " 0   Sr No.        9989 non-null   int64 \n",
      " 1   Utterance     9989 non-null   object\n",
      " 2   Speaker       9989 non-null   object\n",
      " 3   Emotion       9989 non-null   object\n",
      " 4   Sentiment     9989 non-null   object\n",
      " 5   Dialogue_ID   9989 non-null   int64 \n",
      " 6   Utterance_ID  9989 non-null   int64 \n",
      " 7   Season        9989 non-null   int64 \n",
      " 8   Episode       9989 non-null   int64 \n",
      " 9   StartTime     9989 non-null   object\n",
      " 10  EndTime       9989 non-null   object\n",
      "dtypes: int64(5), object(6)\n",
      "memory usage: 858.6+ KB\n"
     ]
    }
   ],
   "source": [
    "dftrain.info()"
   ]
  },
  {
   "cell_type": "code",
   "execution_count": 5,
   "metadata": {
    "tags": []
   },
   "outputs": [
    {
     "name": "stdout",
     "output_type": "stream",
     "text": [
      "<class 'pandas.core.frame.DataFrame'>\n",
      "RangeIndex: 2610 entries, 0 to 2609\n",
      "Data columns (total 11 columns):\n",
      " #   Column        Non-Null Count  Dtype \n",
      "---  ------        --------------  ----- \n",
      " 0   Sr No.        2610 non-null   int64 \n",
      " 1   Utterance     2610 non-null   object\n",
      " 2   Speaker       2610 non-null   object\n",
      " 3   Emotion       2610 non-null   object\n",
      " 4   Sentiment     2610 non-null   object\n",
      " 5   Dialogue_ID   2610 non-null   int64 \n",
      " 6   Utterance_ID  2610 non-null   int64 \n",
      " 7   Season        2610 non-null   int64 \n",
      " 8   Episode       2610 non-null   int64 \n",
      " 9   StartTime     2610 non-null   object\n",
      " 10  EndTime       2610 non-null   object\n",
      "dtypes: int64(5), object(6)\n",
      "memory usage: 224.4+ KB\n"
     ]
    }
   ],
   "source": [
    "dftest.info()"
   ]
  },
  {
   "cell_type": "markdown",
   "metadata": {},
   "source": [
    "The MELD data has 9989 entries as train data and 2610 entries as test data. In the next section, we will analys how the emotion labels are distributed over the data."
   ]
  },
  {
   "cell_type": "markdown",
   "metadata": {},
   "source": [
    "## 1. Analysing the vocabulary"
   ]
  },
  {
   "cell_type": "markdown",
   "metadata": {},
   "source": [
    "The simplest way to analyse the vocabulary is to get all the tokens from the utterances and make a dictionary to count the freuqency of each token. From this we can learn:\n",
    "\n",
    "1. How many tokens there are in the data and how many unique tokens (so-called types) there are;\n",
    "2. What is the type/token ratio? A high ratio means a more diverse vocabulary (more words used relatively less frequently) and therefore more variation;\n",
    "3. What are the most frequently used words and which words only occur once;\n",
    "\n",
    "The next code extracts this information for both the training and test data. Take your time to read the code so that you understand it."
   ]
  },
  {
   "cell_type": "code",
   "execution_count": 15,
   "metadata": {},
   "outputs": [
    {
     "name": "stdout",
     "output_type": "stream",
     "text": [
      "Total number of types in training set: 6588\n",
      "Total number of tokens in training set: 106878\n",
      "Type/Token ratio train: 0.06\n"
     ]
    }
   ],
   "source": [
    "from nltk import word_tokenize\n",
    "\n",
    "#### Analysing the training vocabulary\n",
    "train_token_distribution = {}  ## dictionary to store frequency counts for tokens\n",
    "train_token_count = 0  ## counter to get the total number of token occurrences\n",
    "\n",
    "### Get the utterances from the train dataframe\n",
    "train_utterances = dftrain['Utterance']\n",
    "\n",
    "### Tokenize each utterance with NLTK and add the counts to the dictionary\n",
    "for utterance in train_utterances:\n",
    "    tokens = word_tokenize(utterance)\n",
    "    #### Add the number of tokens to the total\n",
    "    train_token_count += len(tokens)\n",
    "    for token in tokens:\n",
    "        if token in train_token_distribution:\n",
    "            train_token_distribution[token]+=1\n",
    "        else:\n",
    "            train_token_distribution[token]=1\n",
    "\n",
    "print('Total number of types in training set:', len(train_token_distribution))\n",
    "print('Total number of tokens in training set:', train_token_count)\n",
    "print('Type/Token ratio train:', round(len(train_token_distribution)/train_token_count, 2))"
   ]
  },
  {
   "cell_type": "markdown",
   "metadata": {},
   "source": [
    "We now derived a dictionary with the train_token_distribution and we obtained the total number of tokens (word occurrences), which is 106,878 tokens, and the  total number of Types, which is 6,588 unique tokens. The ratio is 0.06.\n",
    "\n",
    "We now do the same for the test data:"
   ]
  },
  {
   "cell_type": "code",
   "execution_count": 16,
   "metadata": {},
   "outputs": [
    {
     "name": "stdout",
     "output_type": "stream",
     "text": [
      "Total number of types in test set: 2890\n",
      "Total number of tokens in test set: 28754\n",
      "Type/Token ratio test: 0.1\n"
     ]
    }
   ],
   "source": [
    "#### Analysing the test vocabulary\n",
    "test_token_distribution = {}\n",
    "test_token_count = 0\n",
    "\n",
    "### Get the utterances from the test dataframe\n",
    "test_utterances = dftest['Utterance']\n",
    "\n",
    "### Tokenize each utterance with NLTK and add the counts to the dictionary\n",
    "for utterance in test_utterances:\n",
    "    tokens = word_tokenize(utterance)\n",
    "    #### Add the number of tokens to the total\n",
    "    test_token_count += len(tokens)\n",
    "    for token in tokens:\n",
    "        if token in test_token_distribution:\n",
    "            test_token_distribution[token]+=1\n",
    "        else:\n",
    "            test_token_distribution[token]=1\n",
    "\n",
    "print('Total number of types in test set:', len(test_token_distribution))\n",
    "print('Total number of tokens in test set:', test_token_count)\n",
    "print('Type/Token ratio test:', round(len(test_token_distribution)/test_token_count,2))"
   ]
  },
  {
   "cell_type": "markdown",
   "metadata": {},
   "source": [
    "Obviously, the number of tokens and types are lower but the ratio is higher. This means there is  more variation in the use of words in the test set compared to the train data.\n",
    "\n",
    "This becomes also clear when we compare the ratio of utterences, tokens and types across the training and test set."
   ]
  },
  {
   "cell_type": "code",
   "execution_count": 17,
   "metadata": {},
   "outputs": [
    {
     "name": "stdout",
     "output_type": "stream",
     "text": [
      "Ratio Test/Train utterances 0.26\n",
      "Ratio Test/Train tokens 0.27\n",
      "Ratio Test/Train types 0.44\n"
     ]
    }
   ],
   "source": [
    "print('Ratio Test/Train utterances', round(len(test_utterances)/len(train_utterances), 2))\n",
    "print('Ratio Test/Train tokens', round(test_token_count/train_token_count, 2))\n",
    "print('Ratio Test/Train types', round(len(test_token_distribution)/len(train_token_distribution), 2))"
   ]
  },
  {
   "cell_type": "markdown",
   "metadata": {},
   "source": [
    "The Type ratio is almost twice the token and utterance ratios.\n",
    "\n",
    "By sorting the token distribution dictionaries by their frequency, we can inspect the most frequent tokens in each data set. For this, we use a bit more advanced Python code using a so-called ```lambda``` function, which is a function without a name that carries out a number of actions to some data set, in our case the distribution dictionary. Beginners can ignore this function for now. It is sufficient to know that it derives a new dictionary that is sorted by frequency, from most frequent to lowest frequency."
   ]
  },
  {
   "cell_type": "code",
   "execution_count": 18,
   "metadata": {},
   "outputs": [
    {
     "name": "stdout",
     "output_type": "stream",
     "text": [
      "\n",
      "Top 50 tokens for train and test respectively:\n",
      "(',', 7237) (',', 2037)\n",
      "('.', 6478) ('.', 1698)\n",
      "('!', 4266) ('I', 1149)\n",
      "('I', 4143) ('!', 1090)\n",
      "('you', 2908) ('you', 813)\n",
      "('?', 2887) ('?', 769)\n",
      "(\"'s\", 1796) (\"'s\", 486)\n",
      "('the', 1742) ('the', 446)\n",
      "('to', 1619) ('to', 430)\n",
      "('a', 1525) ('a', 378)\n",
      "('it', 1310) ('it', 377)\n",
      "(\"n't\", 1169) (\"n't\", 356)\n",
      "('that', 1131) ('that', 336)\n",
      "('Oh', 1016) ('do', 289)\n",
      "('do', 967) ('Oh', 275)\n",
      "('and', 940) ('and', 252)\n",
      "(\"'m\", 825) ('is', 220)\n",
      "('is', 735) (\"'m\", 213)\n",
      "('me', 734) ('me', 194)\n",
      "('of', 641) ('have', 175)\n",
      "('this', 620) ('my', 171)\n",
      "('just', 618) ('just', 168)\n",
      "('in', 617) ('of', 164)\n",
      "('have', 603) ('this', 162)\n",
      "('my', 602) ('in', 159)\n",
      "('You', 585) ('Yeah', 157)\n",
      "('we', 577) ('on', 153)\n",
      "(\"'re\", 564) ('not', 145)\n",
      "('Yeah', 510) ('You', 144)\n",
      "('Okay', 502) ('with', 139)\n",
      "('was', 501) ('we', 138)\n",
      "('know', 501) (\"'re\", 136)\n",
      "('on', 493) ('What', 135)\n",
      "('na', 482) ('what', 133)\n",
      "('what', 480) ('Okay', 130)\n",
      "('No', 472) ('was', 127)\n",
      "('for', 469) ('right', 125)\n",
      "('not', 469) ('know', 123)\n",
      "('What', 449) ('your', 121)\n",
      "('with', 442) ('be', 120)\n",
      "('be', 441) ('for', 120)\n",
      "('Hey', 441) ('Well', 115)\n",
      "('are', 432) ('are', 114)\n",
      "('right', 430) ('na', 110)\n",
      "('Well', 416) ('Hey', 108)\n",
      "('so', 403) ('so', 104)\n",
      "('your', 369) ('did', 102)\n",
      "('gon', 365) ('No', 97)\n",
      "('like', 350) ('think', 97)\n",
      "('out', 349) ('like', 96)\n",
      "('go', 346) ('out', 95)\n"
     ]
    }
   ],
   "source": [
    "### Derive a new dictionary sorted by count\n",
    "sorted_by_count = sorted(train_token_distribution.items(), key=lambda x: x[1], reverse=True)\n",
    "\n",
    "# now loop through the sorted_by_count dictionary and get the top 50\n",
    "top_train = []\n",
    "for index, token in enumerate(sorted_by_count):\n",
    "    if index >50:\n",
    "        break\n",
    "    top_train.append(token)\n",
    "    \n",
    "### Derive a new dictionary sorted by count\n",
    "sorted_by_count = sorted(test_token_distribution.items(), key=lambda x: x[1], reverse=True)\n",
    "                              \n",
    "# now loop through the sorted_by_count dictionary and get the top 50\n",
    "top_test = []\n",
    "for index, token in enumerate(sorted_by_count):\n",
    "    if index >50:\n",
    "        break\n",
    "    top_test.append(token)\n",
    "\n",
    "### The next code pairs the top 50 lists for both using the zip function so that we can print these side-by-side\n",
    "print()\n",
    "print('Top 50 tokens for train and test respectively:')\n",
    "for train, test in zip(top_train, top_test):\n",
    "    print(train, test)"
   ]
  },
  {
   "cell_type": "markdown",
   "metadata": {},
   "source": [
    "When we look at the top 50 words, we can see that these are very similar despite the difference in the use of words. Although not identical, more or less the same tokens occur in both list. You can eyeball the list to see how much they overlap but we can also use some Python code to do this for us.\n",
    "\n",
    "In the next code, we take a token from the most frequent words in the training data (top_train) and check if it is in the most frequent words of the test data (top_test). If so, we print the word with the frequencies in train and test respectively, followed by their ratio. We also keep a list of words that are unique in the top list of train. After this we do the same the other way around for the most frequent test words."
   ]
  },
  {
   "cell_type": "code",
   "execution_count": 19,
   "metadata": {},
   "outputs": [
    {
     "name": "stdout",
     "output_type": "stream",
     "text": [
      ", 7237 2037 0.28\n",
      ". 6478 1698 0.26\n",
      "! 4266 1090 0.26\n",
      "I 4143 1149 0.28\n",
      "you 2908 813 0.28\n",
      "? 2887 769 0.27\n",
      "'s 1796 486 0.27\n",
      "the 1742 446 0.26\n",
      "to 1619 430 0.27\n",
      "a 1525 378 0.25\n",
      "it 1310 377 0.29\n",
      "n't 1169 356 0.3\n",
      "that 1131 336 0.3\n",
      "Oh 1016 275 0.27\n",
      "do 967 289 0.3\n",
      "and 940 252 0.27\n",
      "'m 825 213 0.26\n",
      "is 735 220 0.3\n",
      "me 734 194 0.26\n",
      "of 641 164 0.26\n",
      "this 620 162 0.26\n",
      "just 618 168 0.27\n",
      "in 617 159 0.26\n",
      "have 603 175 0.29\n",
      "my 602 171 0.28\n",
      "You 585 144 0.25\n",
      "we 577 138 0.24\n",
      "'re 564 136 0.24\n",
      "Yeah 510 157 0.31\n",
      "Okay 502 130 0.26\n",
      "was 501 127 0.25\n",
      "know 501 123 0.25\n",
      "on 493 153 0.31\n",
      "na 482 110 0.23\n",
      "what 480 133 0.28\n",
      "No 472 97 0.21\n",
      "for 469 120 0.26\n",
      "not 469 145 0.31\n",
      "What 449 135 0.3\n",
      "with 442 139 0.31\n",
      "be 441 120 0.27\n",
      "Hey 441 108 0.24\n",
      "are 432 114 0.26\n",
      "right 430 125 0.29\n",
      "Well 416 115 0.28\n",
      "so 403 104 0.26\n",
      "your 369 121 0.33\n",
      "like 350 96 0.27\n",
      "out 349 95 0.27\n",
      "Only train [('gon', 365), ('go', 346)]\n",
      "Only test [('did', 102), ('think', 97)]\n"
     ]
    }
   ],
   "source": [
    "only_train = []\n",
    "for token1 in top_train:\n",
    "    match = False\n",
    "    for token2 in top_test:\n",
    "        if token1[0]==token2[0]:\n",
    "            ### We print the matching word with the counts and the proportion of the test and train frequency\n",
    "            print(token1[0], token1[1], token2[1], round(token2[1]/token1[1], 2) )\n",
    "            match = True\n",
    "    if not match:\n",
    "        only_train.append(token1)\n",
    "\n",
    "print(\"Only train\", only_train)\n",
    "\n",
    "only_test=[]\n",
    "for token1 in top_test:\n",
    "    match = False\n",
    "    for token2 in top_train:\n",
    "        if token1[0]==token2[0]:\n",
    "            match = True\n",
    "    if not match:\n",
    "        only_test.append(token1)\n",
    "print(\"Only test\", only_test)"
   ]
  },
  {
   "cell_type": "markdown",
   "metadata": {},
   "source": [
    "We can see that there are only four mismatching words in the top 50. Even more striking is that the frequency ratio of test and train are consistent around 30%. Note that this is similar to the ratio of the utterances and the tokens in general. Obviously, the most frequent words dominate the overall statistics. The fact that the most frequent words are very similar, suggest that the difference in word usage may be in the long-tail distribution, i.e. words with low frequency.\n",
    "\n",
    "Think about what this could mean for emotion detection. Would these low frequent words be relevant to detect the emotion? If not, it could be still hold that the training data are representative for the test data when it comes to emotion detection.\n",
    "\n",
    "The next code shows the tail of the distribution in both train and test data:"
   ]
  },
  {
   "cell_type": "code",
   "execution_count": 20,
   "metadata": {},
   "outputs": [
    {
     "name": "stdout",
     "output_type": "stream",
     "text": [
      "\n",
      "Top 50 tokens for train and test respectively:\n",
      "('transition', 1) ('mugs', 1)\n",
      "('KL-5', 1) ('numbers', 1)\n",
      "('GR-6', 1) (\"'Where\", 1)\n",
      "('amount', 1) ('27', 1)\n",
      "('detail', 1) ('Lydia', 1)\n",
      "('definite', 1) (\"just'yeah\", 1)\n",
      "('confidence', 1) ('elevator', 1)\n",
      "('Chris', 1) ('lift', 1)\n",
      "('turning', 1) ('Straight', 1)\n",
      "('betcha', 1) ('glasses', 1)\n",
      "('Um-mm', 1) ('elastic', 1)\n",
      "('Poor', 1) ('busted', 1)\n",
      "(\"'My\", 1) ('overslept', 1)\n",
      "('vessel', 1) ('stink', 1)\n",
      "('emptier', 1) ('ten', 1)\n",
      "('interviewed', 1) ('blocks', 1)\n",
      "('coached', 1) ('coincidence', 1)\n",
      "('Ameri-ccan', 1) ('Previously', 1)\n",
      "('Top', 1) ('wrestling', 1)\n",
      "('Oh-ho-ho', 1) ('costumes', 1)\n",
      "('Did-did', 1) (\"'They\", 1)\n",
      "('War', 1) ('eye', 1)\n",
      "('ambulance', 1) ('gouging', 1)\n",
      "('Truth-Day', 1) ('describe', 1)\n",
      "('wander', 1) ('taste', 1)\n",
      "('nether', 1) ('bath', 1)\n",
      "('eternity', 1) ('compared', 1)\n",
      "('usual', 1) ('lip', 1)\n",
      "('aerobics', 1) ('screaming', 1)\n",
      "('poster', 1) ('bumpy', 1)\n",
      "('Perk', 1) ('Bumpy', 1)\n",
      "('Village', 1) ('style', 1)\n",
      "('five-ish', 1) ('damage', 1)\n",
      "('Having', 1) ('contained', 1)\n",
      "('tomorow', 1) ('bedrooms', 1)\n",
      "('seek', 1) ('burned', 1)\n",
      "('comfort', 1) ('ruined', 1)\n",
      "('wry', 1) ('loss', 1)\n",
      "('respects', 1) ('Oh-okay', 1)\n",
      "(\"You'll-you\", 1) ('pal', 1)\n",
      "('Phobo', 1) ('Fireman', 1)\n",
      "('Phewbedo', 1) ('offense', 1)\n",
      "('Phaybobo', 1) ('jobs', 1)\n",
      "('auditions', 1) ('weddings', 1)\n",
      "('blinding', 1) ('frown', 1)\n",
      "('lifting', 1) ('fighting', 1)\n",
      "('weights', 1) ('handle', 1)\n",
      "('passed', 1) ('Okay-okay', 1)\n",
      "(\"to'you-you\", 1) ('points', 1)\n",
      "('sticking', 1) ('known', 1)\n",
      "('15s', 1) ('one/millionth', 1)\n"
     ]
    }
   ],
   "source": [
    "### Derive a new dictionary sorted by count\n",
    "train_sorted_by_count = sorted(train_token_distribution.items(), key=lambda x: x[1], reverse=False)\n",
    "                              \n",
    "# now loop through the sorted_by_count dictionary and get the tail 50\n",
    "tail_train = []\n",
    "for index, token in enumerate(train_sorted_by_count):\n",
    "    if index >50:\n",
    "        break\n",
    "    tail_train.append(token)\n",
    "\n",
    "### Derive a new dictionary sorted by count\n",
    "test_sorted_by_count = sorted(test_token_distribution.items(), key=lambda x: x[1], reverse=False)\n",
    "                              \n",
    "# now loop through the sorted_by_count dictionary and get the tail 50\n",
    "tail_test = []\n",
    "for index, token in enumerate(test_sorted_by_count):\n",
    "    if index >50:\n",
    "        break\n",
    "    tail_test.append(token)\n",
    "\n",
    "### The next code pairs the tail 50 lists for both using the zip function so that we can print these side-by-side\n",
    "print()\n",
    "print('Top 50 tokens for train and test respectively:')\n",
    "for train, test in zip(tail_train, tail_test):\n",
    "    print(train, test)"
   ]
  },
  {
   "cell_type": "markdown",
   "metadata": {},
   "source": [
    "Check the lists to see if there are words that could be relevant to detect an emotion. It is not easy to say without further context but ```screaming``` could flag ```anger``` and ```stink``` ```disgust```. Realize that these words are filtered out in the classifier that we built in Lab3 due to the minimal frequency threshold that was set to 5."
   ]
  },
  {
   "cell_type": "markdown",
   "metadata": {},
   "source": [
    "### 2.2 Analysing the label distribution"
   ]
  },
  {
   "cell_type": "markdown",
   "metadata": {},
   "source": [
    "Analysing the data distributions may help getting insight as it may show **biases** or inspire **baseline** approaches. Data **biases** can make your system overfit to certain dominant classes and make it hard to detect rare cases. A **baseline** system is a solid and simple approach against which you want to compare your trained system. Typical baselines are:  assign **random classes** as output or always assign the most dominant **majority class**. Let's see what the majority class is in our data."
   ]
  },
  {
   "cell_type": "markdown",
   "metadata": {},
   "source": [
    "We can get the counts for any list in Python through the standard ```Counter``` function which is part of ```collections```. Below we import ```collections``` first and apply the function to the list of emotion labels in the Emotion column of the ```dftrain``` dataframe."
   ]
  },
  {
   "cell_type": "code",
   "execution_count": 21,
   "metadata": {},
   "outputs": [
    {
     "name": "stdout",
     "output_type": "stream",
     "text": [
      "Counter({'neutral': 4710, 'joy': 1743, 'surprise': 1205, 'anger': 1109, 'sadness': 683, 'disgust': 271, 'fear': 268})\n"
     ]
    }
   ],
   "source": [
    "import collections\n",
    "counts = collections.Counter(dftrain['Emotion'])\n",
    "print(counts)"
   ]
  },
  {
   "cell_type": "markdown",
   "metadata": {},
   "source": [
    "The counts are sorted by frequency and we see that ```neutral``` is most dominant and ```disgust``` and ``fear``` are rare."
   ]
  },
  {
   "cell_type": "markdown",
   "metadata": {},
   "source": [
    "Visualising such counts is a good way to get a feel for biases in the data refelcted by these counts. There are many ways and packages for visualising data. We will use the **seaborn** package: https://seaborn.pydata.org/index.html\n",
    "\n",
    "Seaborn can do fancy data visualisations. Checkout the website to learn more.\n",
    "For now, we will use a simple function that you can apply to a column in a Pandas dataframe.\n",
    "\n",
    "Seaborn should have been installed through the requirements.txt at the start of the course.\n",
    "If you did not install it yet, you need to install the package. Otherwise, you can skip the next cell."
   ]
  },
  {
   "cell_type": "code",
   "execution_count": 24,
   "metadata": {
    "tags": []
   },
   "outputs": [],
   "source": [
    "#!pip install seaborn==0.13.2"
   ]
  },
  {
   "cell_type": "markdown",
   "metadata": {},
   "source": [
    "We import it in this notebook as **sns**."
   ]
  },
  {
   "cell_type": "code",
   "execution_count": 22,
   "metadata": {
    "tags": []
   },
   "outputs": [],
   "source": [
    "import seaborn as sns"
   ]
  },
  {
   "cell_type": "markdown",
   "metadata": {},
   "source": [
    "Seaborn can create a figure directly from a column in a Pandas dataframe using the **countplot** function:"
   ]
  },
  {
   "cell_type": "code",
   "execution_count": 23,
   "metadata": {
    "tags": []
   },
   "outputs": [
    {
     "data": {
      "text/plain": [
       "<Axes: xlabel='Emotion', ylabel='count'>"
      ]
     },
     "execution_count": 23,
     "metadata": {},
     "output_type": "execute_result"
    },
    {
     "data": {
      "image/png": "[encoded data removed]",
      "text/plain": [
       "<Figure size 640x480 with 1 Axes>"
      ]
     },
     "metadata": {},
     "output_type": "display_data"
    }
   ],
   "source": [
    "sns.countplot(x=dftrain['Emotion'])"
   ]
  },
  {
   "cell_type": "markdown",
   "metadata": {},
   "source": [
    "This figure is rather basic. We do not see the totals of each category and need to guess the counts by eye-balling it. We want to get the proportions for these labels."
   ]
  },
  {
   "cell_type": "markdown",
   "metadata": {},
   "source": [
    "To add more information to the figure, we will use another package called **matplotlib**. There are many options and functions you can use to modify and adapt plots using **matplotlib**. We will show only a few here. You can read more about setting parameters for plotting figures here: https://matplotlib.org/stable/tutorials/introductory/customizing.html \n",
    "\n",
    "Also **matplotlib** should have been installed at the start of the course through the requirements.txt. If not installed, install **matplotlib** in the usual way if you have not done so before. Otherwise, you can skip the next cell."
   ]
  },
  {
   "cell_type": "code",
   "execution_count": 25,
   "metadata": {
    "tags": []
   },
   "outputs": [],
   "source": [
    "#%conda install matplotlib==3.10.3\n",
    "\n",
    "#or\n",
    "\n",
    "#pip install matplotlib==3.10.3"
   ]
  },
  {
   "cell_type": "markdown",
   "metadata": {},
   "source": [
    "We import **matplotlib** as 'plt': "
   ]
  },
  {
   "cell_type": "code",
   "execution_count": 26,
   "metadata": {
    "tags": []
   },
   "outputs": [],
   "source": [
    "import matplotlib.pyplot as plt"
   ]
  },
  {
   "cell_type": "markdown",
   "metadata": {},
   "source": [
    "We use the ```Counter``` and ```OrderedDict``` functions to get an alphabetically sorted list of the emotions by frequency:"
   ]
  },
  {
   "cell_type": "code",
   "execution_count": 28,
   "metadata": {
    "tags": []
   },
   "outputs": [
    {
     "name": "stdout",
     "output_type": "stream",
     "text": [
      "OrderedDict([('anger', 1109), ('disgust', 271), ('fear', 268), ('joy', 1743), ('neutral', 4710), ('sadness', 683), ('surprise', 1205)])\n",
      "['anger', 'disgust', 'fear', 'joy', 'neutral', 'sadness', 'surprise'] [1109, 271, 268, 1743, 4710, 683, 1205]\n"
     ]
    }
   ],
   "source": [
    "from collections import Counter, OrderedDict\n",
    "counts = Counter(dftrain['Emotion'])\n",
    "counts_sorted = OrderedDict(sorted(counts.items()))\n",
    "print(counts_sorted)\n",
    "labels = list(counts_sorted.keys())\n",
    "values = list(counts_sorted.values())\n",
    "print(labels, values)"
   ]
  },
  {
   "cell_type": "markdown",
   "metadata": {},
   "source": [
    "To make things easier, we define a function called **plot_labels_with_counts** that takes the labels and count values and plots them as bars using **Seaborn**. This will augment the bars with the proportion out of the total."
   ]
  },
  {
   "cell_type": "code",
   "execution_count": 29,
   "metadata": {},
   "outputs": [],
   "source": [
    "#### Adding proportions to plotted labels counts\n",
    "def plot_labels_with_counts(labels, values):\n",
    "    total = 0\n",
    "    total = sum(values)\n",
    "   # print('Total of values', total)\n",
    "    ax = sns.barplot(x=labels, y=values)\n",
    "    # Add values above bars\n",
    "    for i, v in enumerate(values):\n",
    "        ax.text(i, v + 0.2, str(int((v/total*100)))+'%', ha='center')\n",
    "    plt.show()"
   ]
  },
  {
   "cell_type": "markdown",
   "metadata": {},
   "source": [
    "We can now simply call this function to augment the plot with proportion values:"
   ]
  },
  {
   "cell_type": "code",
   "execution_count": 30,
   "metadata": {
    "tags": []
   },
   "outputs": [
    {
     "data": {
      "image/png": "[encoded data removed]",
      "text/plain": [
       "<Figure size 640x480 with 1 Axes>"
      ]
     },
     "metadata": {},
     "output_type": "display_data"
    }
   ],
   "source": [
    "plot_labels_with_counts(labels, values)"
   ]
  },
  {
   "cell_type": "markdown",
   "metadata": {},
   "source": [
    "Now, we have the proportions on top of the bars. We clearly see that the emotions are not equally distributed over the utterances. Most utterances are `neutral` (47%) and `fear` and `disgust` are rare. It is important to realize this when training and testing the classifier."
   ]
  },
  {
   "cell_type": "markdown",
   "metadata": {},
   "source": [
    "On the basis of the stats for the emotion values, we can already have expectations for what a machine will learn from this data: **assign the class neutral!**\n",
    "\n",
    "A possible majority class baseline could always assign `neutral`. If the label distribution in the test set is the same, it will be correct in 47% of the cases. "
   ]
  },
  {
   "cell_type": "markdown",
   "metadata": {},
   "source": [
    "Let us see if the test data has a similar distribution:"
   ]
  },
  {
   "cell_type": "code",
   "execution_count": 32,
   "metadata": {
    "tags": []
   },
   "outputs": [
    {
     "name": "stdout",
     "output_type": "stream",
     "text": [
      "OrderedDict([('anger', 345), ('disgust', 68), ('fear', 50), ('joy', 402), ('neutral', 1256), ('sadness', 208), ('surprise', 281)])\n"
     ]
    },
    {
     "data": {
      "image/png": "[encoded data removed]",
      "text/plain": [
       "<Figure size 640x480 with 1 Axes>"
      ]
     },
     "metadata": {},
     "output_type": "display_data"
    }
   ],
   "source": [
    "counts = Counter(dftest['Emotion'])\n",
    "counts_sorted = OrderedDict(sorted(counts.items()))\n",
    "print(counts_sorted)\n",
    "labels = list(counts_sorted.keys())\n",
    "values = list(counts_sorted.values())\n",
    "plot_labels_with_counts(labels, values)"
   ]
  },
  {
   "cell_type": "markdown",
   "metadata": {},
   "source": [
    "We see that the test data is similar in terms of the distribution of emotions. This means that statistical expectations learned from the training data will be relevant for the test data. A ```neutral``` baseline always assigns the class neutral and will be correct in 48% of the cases. We want to build a model that performs better than this baseline. Anything performing at this level or lower did not learn much or the wrong things."
   ]
  },
  {
   "cell_type": "markdown",
   "metadata": {},
   "source": [
    "# End of this notebook"
   ]
  },
  {
   "cell_type": "code",
   "execution_count": null,
   "metadata": {},
   "outputs": [],
   "source": []
  }
 ],
 "metadata": {
  "kernelspec": {
   "display_name": "Python 3 (ipykernel)",
   "language": "python",
   "name": "python3"
  },
  "language_info": {
   "codemirror_mode": {
    "name": "ipython",
    "version": 3
   },
   "file_extension": ".py",
   "mimetype": "text/x-python",
   "name": "python",
   "nbconvert_exporter": "python",
   "pygments_lexer": "ipython3",
   "version": "3.11.13"
  }
 },
 "nbformat": 4,
 "nbformat_minor": 4
}
