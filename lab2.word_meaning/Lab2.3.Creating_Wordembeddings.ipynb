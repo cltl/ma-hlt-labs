{
 "cells": [
  {
   "cell_type": "markdown",
   "metadata": {},
   "source": [
    "# LAB2.3 Creating Wordembeddings from a text corpus"
   ]
  },
  {
   "cell_type": "markdown",
   "metadata": {},
   "source": [
    "Copyright: Vrije Universiteit Amsterdam, Faculty of Humanities, CLTL"
   ]
  },
  {
   "cell_type": "markdown",
   "metadata": {},
   "source": [
    "In this notebook, we are going to show how you can build a word embedding model from a text corpus:\n",
    "\n",
    "<ol>\n",
    "<li>Obtain a text corpus from the web. We will use the Leipzig Corpora Collection that contains texts in different languages and was already preprocessed.\n",
    "<li>Tokenize the text to get lists of individual words grouped by sentences. We use the NLTK toolkit and a specific tokenization function to do that.\n",
    "<li>Create an embedding model from the tokenized text using the Gensim package.\n",
    "<li>Demonstrate how to save the embedding model to disk and load it again for usage.\n",
    "</ol>\n"
   ]
  },
  {
   "cell_type": "markdown",
   "metadata": {},
   "source": [
    "## 1. Obtaining text from the Leipzig Corpora collection"
   ]
  },
  {
   "cell_type": "markdown",
   "metadata": {},
   "source": [
    "The Leipzig corpora collection has corpora for over 250 languages. These corpora are collected from Wikipedia, news and web crawls and have been curated for research purposes.\n",
    "\n",
    "For this notebook, you download a corpus in a language of you choice from:\n",
    "\n",
    "http://wortschatz.uni-leipzig.de/en/download/\n",
    "\n",
    "We will use the 'eng_news_2005_1M-text' corpus here for demonstration purposes. The files come as compressed ```tar``` files (extension \".tar.gz\"). Depending on the decompression software you first need to decompress the file and next unpack the tar file (some software does that directly). \n",
    "\n",
    "Unpack the decompressed ```tar``` file somewhere on your computer. You will see it yields a directory, e.g. \"end_news_2005_1M-text\" with a number of files. For example, the files \"...-sources.txt\" contain the list of URLs from which the text was obtained preceded by an identifier and followed by the date of crawling:\n",
    "\n",
    "```\n",
    "1\thttp://davesipaq.com/articles/iPAQ_Plustek_portable_scanning_solution.html\t2005-06-12\n",
    "2\thttp://www.independent.com/cover/Cover959.htm\t2005-04-08\n",
    "3\thttp://www.insidebayarea.com/ci_2736737?rss\t2005-05-15\n",
    "4\thttp://www.dailycollegian.com/vnews/display.v/ART/2005/05/13/4282dbfadd830\t2005-05-12\n",
    "5\thttp://p2pnet.net/story/4856\t2005-05-16\n",
    "6\thttp://www.imf.org/external/np/tr/2005/tr050324a.htm\t2005-04-09\n",
    "```\n",
    "\n",
    "The file \"...-words.txt\" contains the vocabulary of words with their frequency, e.g.:\n",
    "\n",
    "```\n",
    "452\tlaw\t5521\n",
    "453\tmaking\t5514\n",
    "454\trecord\t5511\n",
    "455\twhether\t5496\n",
    "456\ttimes\t5488\n",
    "457\tSt.\t5485\n",
    "458\tscored\t5484\n",
    "459\ttaken\t5484\n",
    "```\n",
    "\n",
    "We are going to use the file named \"...-sentences.txt\", which contains sentences separated on each line preceded by an identifier, e.g.:\n",
    "\n",
    "```\n",
    "1\tI didn't know it was police housing,\" officers quoted Tsuchida as saying.\n",
    "2\tYou would be a great client for Southern Indiana Homeownership's credit counseling but you are saying to yourself \"Oh, we can pay that off.\"\n",
    "3\tHe believes the 21st century will be the \"century of biology\" just as the 20th century was the century of IT.\n",
    "4\tThey even call the civil rights organization a bit hypocritical.\n",
    "```\n",
    "\n",
    "Our goal is to use these sentences to create word embeddings. To be able to do that we need to process this file line by line, to obtain the tokens from each sentence and separate punctuation from each token. We are going to do this with the NLTK toolkit and define a specific function called 'preprocess_rawtext' that does all the work for us."
   ]
  },
  {
   "cell_type": "markdown",
   "metadata": {},
   "source": [
    "## Preprocessing function"
   ]
  },
  {
   "cell_type": "markdown",
   "metadata": {},
   "source": [
    "What is a function? \n",
    "\n",
    "A function is an ordered sequence of instructions packaged into a group (like a recipe) with a name and possibly parameters between round brackets. So far you have been calling functions for instances of classes such as ```string``` or ```list``` that have been defined by other programners. You can however also define functions yourself. This is specifically useful if:\n",
    "\n",
    "<ol>\n",
    "<li> the code becomes too long and you want to group many smaller steps into higher level steps without bothering about what happens inside: e.g. like playing music instead of pushing piano keys.\n",
    "<li> the code needs to be applied more than once and you do not want to repeat the code and make sure it is consistent across the repeated calls.\n",
    "</ol>\n",
    "    \n",
    "The function that we define below calls other functions as well that we also need to define. So it is definitely a higher-order function.\n",
    "\n",
    "Once defined, we only need to apply this function to a local file on our disk to carry out a whole series of instructions and we can easliy do this many times for all kinds of files in the same format, e.g. downloaded from the Leipzig website. The function guarantees that exactly the same process is applied each time.\n",
    "\n",
    "The next cell contains the processing function. After your run the cell in your notebook, the function is available to do the work for you. This means it is defined but it has not been used yet. For that we need to apply it to something. We do that right after defining it.\n",
    "\n",
    "For now, you can try to read and understand the function or just call it when you need it."
   ]
  },
  {
   "cell_type": "code",
   "execution_count": 3,
   "metadata": {
    "tags": []
   },
   "outputs": [],
   "source": [
    "# We use the NLTK tokenization function to process the text\n",
    "# For this we import the modules word_tokenize and sent_tokenize\n",
    "\n",
    "from nltk.tokenize import word_tokenize, sent_tokenize\n",
    "import string\n",
    "\n",
    "#Function to remove punctuation from word tokens, \n",
    "#Takes a list of tokens as input\n",
    "\n",
    "#Note that these functions only work if you also imported NLTK and string before calling the function\n",
    "def remove_punct(tokens):\n",
    "    # punct is a string with all punctuation tokens: !\"#$%&'()*+,-./:;<=>?@[\\]^_`{|}~\n",
    "    punct = string.punctuation\n",
    "    # empty list in which we put the clean tokens\n",
    "    tokens_clean = []\n",
    "\n",
    "    # Iterate over all characters in tokens \n",
    "    # and only keeps them if not in punct\n",
    "    for t in tokens:\n",
    "        if t not in punct:\n",
    "            tokens_clean.append(t)\n",
    "    # The result is a list with the cleaned tokens\n",
    "    return tokens_clean\n",
    "\n",
    "# The Leipzig corpus is already processed into sentences, so we do not need to split the text into sentences\n",
    "# We can read it line by line but \n",
    "# we need to skip the first token in each line which is the identifier and not regular text\n",
    "\n",
    "# Takes as input parameter the path to a file\n",
    "def preprocess_leipzig_sentences(file):\n",
    "    clean_sentences = []\n",
    "    \n",
    "    with open(file, \"r\") as i:\n",
    "            for sentence in i:\n",
    "                # We downcase each sentence, word_tokenize it with NLTK\n",
    "                tokens = word_tokenize(sentence.lower())\n",
    "                # We apply our custom remove_punct function and exclude the first token\n",
    "                tokens_clean = remove_punct(tokens[1:]) # we skip the first token which is the identifier.\n",
    "                # We add the clean tokens as a list to the list of sentences\n",
    "                clean_sentences.append(tokens_clean)\n",
    "                \n",
    "    # The result is a list of lists, each representing the tokens of a sentence as elements\n",
    "    return clean_sentences\n",
    "\n",
    "# If you want to process other text than the Leipzig corpus that is not split into sentences,\n",
    "# you can call the next function. The difference is:\n",
    "# - we read the complete file as a text string\n",
    "# - we apply the NLTK sent_tokenize function to the get a list of sentences\n",
    "# - we do not need to remove the identifier\n",
    "def preprocess_rawtext(file):\n",
    "    clean_sentences = []\n",
    "\n",
    "    with open(file) as infile:\n",
    "        text = infile.read()\n",
    "        \n",
    "    sentences = sent_tokenize(text.strip())\n",
    "\n",
    "    for sentence in sentences:\n",
    "        tokens = word_tokenize(sentence.lower())\n",
    "        tokens_clean = remove_punct(tokens)\n",
    "        clean_sentences.append(tokens_clean)\n",
    "    return clean_sentences\n"
   ]
  },
  {
   "cell_type": "markdown",
   "metadata": {},
   "source": [
    "We now apply the above custom function to the Leipzig text corpus file with the sentences.\n",
    "\n",
    "You need to adapt the path_to_the_corpus_file to the correct location of the file on your computer.\n",
    "If the path is wrong you get an error message!\n",
    "\n",
    "It takes a while before the whole file is processed."
   ]
  },
  {
   "cell_type": "code",
   "execution_count": 4,
   "metadata": {
    "tags": []
   },
   "outputs": [],
   "source": [
    "#eng_news_2005_1M-sentences.txt\n",
    "path_to_the_corpus_file='/Users/piek/Desktop/t-ONDERWIJS/data/leipzig-corpora/eng_news_2005_1M-text/eng_news_2005_1M-sentences.txt'\n",
    "text_leipzigcorpus_clean = preprocess_leipzig_sentences(path_to_the_corpus_file)"
   ]
  },
  {
   "cell_type": "markdown",
   "metadata": {},
   "source": [
    "We can inspect text_leipzigcorpus_clean by asking for its length and printing a small sample, in this case sentence 201 till 208. "
   ]
  },
  {
   "cell_type": "code",
   "execution_count": 5,
   "metadata": {
    "scrolled": true,
    "tags": []
   },
   "outputs": [
    {
     "name": "stdout",
     "output_type": "stream",
     "text": [
      "Number of sentences= 1000000\n",
      "[['his', 'forehead', 'is', 'fractured', 'in', 'several', 'places', 'and', 'his', 'brain', 'and', 'one', 'of', 'his', 'lungs', 'are', 'bruised', 'she', 'said'], [\"''\", 'their', 'reputation', 'is', 'totally', 'vindicated', \"''\", 'loevy', 'said'], ['he', 'also', 'was', 'administratively', 'charged', 'with', 'breaking', 'state', 'law', 'lying', 'and', 'failing', 'to', 'report', 'information', 'to', 'the', 'department', 'in', 'the', 'jude', 'beating'], [\"''\", 'the', 'mta', 'were', 'directed', 'to', 'make', 'certain', 'amendments', 'to', 'their', 'constitution', 'to', 'ensure', 'clubs', 'are', 'directly', 'affiliated', 'to', 'the', 'national', 'body', 'with', 'voting', 'rights', \"''\", 'said', 'elyas'], ['both', 'last', 'raced', 'in', 'the', 'florida', 'derby', 'on', 'april', '2'], ['they', 'were', 'fifth', 'last', 'year', 'in', 'prague', 'fourth', 'in', '2003', 'at', 'helsinki', 'and', 'fifth', 'in', '2002', 'at', 'goteborg', 'sweden'], ['nicklaus', 'said', 'farewell', 'to', 'the', 'us', 'masters', 'a', 'tournament', 'he', 'won', 'a', 'record', 'six', 'times', 'last', 'month', 'carding', 'a', 'second', 'round', '76', 'to', 'miss', 'the', 'cut', 'by', 'five', 'strokes']]\n"
     ]
    }
   ],
   "source": [
    "print('Number of sentences=',len(text_leipzigcorpus_clean))\n",
    "#we print a few sentences to see how it looks like\n",
    "print(text_leipzigcorpus_clean[201:208])"
   ]
  },
  {
   "cell_type": "markdown",
   "metadata": {},
   "source": [
    "## Training word embeddings"
   ]
  },
  {
   "cell_type": "markdown",
   "metadata": {},
   "source": [
    "To train a language model with word embeddings, we will use the **gensim** package. \n",
    "\n",
    "In order to build the word embeddings through gensim, we are going to use its **Word2Vec** function."
   ]
  },
  {
   "cell_type": "markdown",
   "metadata": {},
   "source": [
    "Gensim allows us to set a number of parameters for training. The most important of these are `min_count`, `window`, `size` and `sg`:\n",
    "\n",
    "* `min_count` is the minimum frequency of the words in our corpus. For infrequent words, we just don't have enough information to train reliable word embeddings. It therefore makes sense to set this minimum frequency to at least 10. In these experiments, we'll set it to 100 to limit the size of our model even more and to speed up things.\n",
    "* `window` is number of words to the left and to the right that make up the context that word2vec will take into account to make predictions.\n",
    "* `size` is the dimensionality of the word vectors. This is generally between 100 and 500. You often have to make a trade-off: embeddings with a higher dimensionality are able to model more information, but also need more data to train.\n",
    "* `sg`: there are two algorithms to train word2vec: skip-gram and CBOW. Skip-gram tries to predict the context on the basis of the target word; CBOW tries to find the target on the basis of the context. By default, Gensim uses CBOW (```sg=0```). To use skip-gram set ```sg=1```).\n",
    "\n",
    "We'll investigate the impact of some of these parameters later."
   ]
  },
  {
   "cell_type": "markdown",
   "metadata": {},
   "source": [
    "The next command creates an embedding model from our cleaned corpus. The model is assigned to the variable 'englishleipzig_w2v'(any name will do) and can be used next in this notebook. We also save the embedding model to disk as 'txt' file and as 'binary' data (bin) so that we can load it later and do not need to build the model over and over again in each notebook."
   ]
  },
  {
   "cell_type": "code",
   "execution_count": 6,
   "metadata": {
    "tags": []
   },
   "outputs": [],
   "source": [
    "# You need to do the next commands only once. When you have succesfully created and saved the embeddings you can load them afterwards\n",
    "from gensim.models import Word2Vec\n",
    "englishleipzig_w2v = Word2Vec(text_leipzigcorpus_clean, vector_size=100, window =4, min_count =100)"
   ]
  },
  {
   "cell_type": "markdown",
   "metadata": {},
   "source": [
    "Please note that every time we train a model, even with the same data, the resulting embeddings will be slightly different. This is because the neural network will use different random seeds to initialize its weights. The details of this go beyond what you will learn in this lab, but keep in mind that when you run this notebook your results might be different in the details, but the general trends should hold. For example, the similarity scores between 'king' and 'queen' might not be exactly the same, but the most similar words for 'king' will be mostly the same and in the same ranked order.\n",
    "\n",
    "After the model is built, you can save it to disk for future usage. This may be handy if for some reason the notebook is killed or gets stuck.\n",
    "\n",
    "We use the function **wv.save_word2vec_format** to save the model. Make sure the folder exist in the path you specify."
   ]
  },
  {
   "cell_type": "markdown",
   "metadata": {},
   "source": [
    "We can save the model as a text file or as a binary file. The binary file loads faster but you could have problems porting it from machine to machines with different OS. The text file you can load in a text editor and inspect!"
   ]
  },
  {
   "cell_type": "code",
   "execution_count": 7,
   "metadata": {
    "tags": []
   },
   "outputs": [],
   "source": [
    "englishleipzig_w2v.wv.save_word2vec_format('/Users/piek/Desktop/t-ONDERWIJS/data/leipzig-corpora/models/eng_news_2005_1M-sentences.txt')\n",
    "englishleipzig_w2v.wv.save_word2vec_format('/Users/piek/Desktop/t-ONDERWIJS/data/leipzig-corpora/models/eng_news_2005_1M-sentences.bin', binary=True)"
   ]
  },
  {
   "cell_type": "markdown",
   "metadata": {},
   "source": [
    "If you have a powerful plain text editor, you can open the txt file and inspect it. You can also use the command line and type the following command:"
   ]
  },
  {
   "cell_type": "code",
   "execution_count": 8,
   "metadata": {
    "tags": []
   },
   "outputs": [
    {
     "name": "stdout",
     "output_type": "stream",
     "text": [
      "12336 100\n",
      "the 1.4171938 0.19886859 0.15757857 1.0682825 -1.2170258 0.47073677 0.5311779 -1.1778394 -0.19688056 0.4274103 -0.038369786 0.35101968 1.1600295 0.058567423 0.15782231 0.09109298 1.3882715 1.55663 -0.058293235 0.5576438 0.2610913 0.2629073 0.694968 0.5450368 0.8548721 -0.8205738 -1.9545425 -0.1743459 -0.7750079 0.28192964 0.9474471 0.2267074 -0.15550677 -0.05284116 1.006297 -0.60006493 0.71066123 1.2553871 -0.57392114 -0.26796442 -1.9194419 0.40045175 -1.148668 -0.4620119 -0.5133186 2.1878824 0.42352217 0.4531833 -0.7956174 -0.5827346 -1.5622813 1.2775507 -1.2018695 -0.20327899 0.64684075 -0.21247993 0.22135949 -0.09313451 0.6530807 0.84720755 0.064873494 -0.2041589 -1.3471535 0.46274233 1.8550614 -0.2309431 -0.37530425 -0.81255424 0.42157054 0.50462186 0.5017427 0.9819089 -0.5339767 -0.25220793 -0.14769663 0.38650087 0.08987247 0.5337634 0.932526 -0.4588827 0.76393574 -1.5314038 -0.7657424 1.5264592 -0.3588032 -0.18507506 0.28125474 -1.6985829 0.10605182 0.7804757 -0.905671 -1.2989911 1.996292 -0.29634452 0.09025759 0.84452146 -0.46752724 0.107961595 0.51527333 -0.43175858\n",
      "to 0.30803818 -2.1035929 1.6499095 0.255353 0.716362 0.68525666 -0.7629378 -0.3789519 0.92221147 0.60218424 -1.0025905 1.7704271 -1.8309594 -0.10738995 1.3881115 3.8275547 1.0551971 0.89870787 -0.23581332 2.2568889 -0.8813966 -0.4281886 -0.383374 -2.6762404 2.061858 1.5294294 -1.1665717 1.0350949 0.9558866 1.6362782 2.3419173 0.6400278 -0.5031128 -0.6702827 0.3700886 -0.10710754 0.8226444 -0.21409728 0.6309377 2.2133799 1.4032149 -0.09574725 1.6220546 -2.4935064 -0.6664871 0.86241174 0.22169551 1.4367062 -0.12428279 1.5855228 0.9158235 -0.4272741 0.56153697 3.3847399 -0.7093421 2.1295257 1.2770474 0.97677976 0.13891485 0.4700083 0.2:\u001b[K"
     ]
    }
   ],
   "source": [
    "%cat /Users/piek/Desktop/t-ONDERWIJS/data/leipzig-corpora/models/eng_news_2005_1M-sentences.txt | more"
   ]
  },
  {
   "cell_type": "markdown",
   "metadata": {},
   "source": [
    "Note that you need to stop the previous cell manually in this notebook because the \"more\" command only shows the beginning of the file and waits for an enter to continue or ctrl-c for cancel. You stop the cell by clicking on the square next to the play symbol in the menu of the notebook."
   ]
  },
  {
   "cell_type": "markdown",
   "metadata": {},
   "source": [
    "The first line has two numbers: the first is the size of the vocabulary and the second is the number of dimensions or the length of the vectors. Both depend on the parameters you used to build the model. The file contains a line for each word with its embedding representation. Depending on the parameters used, you may see the embeddings for the very frequent words \"the\" and \"to\" on the first lines."
   ]
  },
  {
   "cell_type": "markdown",
   "metadata": {},
   "source": [
    "## Using word embeddings"
   ]
  },
  {
   "cell_type": "markdown",
   "metadata": {},
   "source": [
    "Now we saved our model to disk, we can load it any time and use it. The next time you launch this notebook, you do not need to collect and preprocess the corpus and build a model from it. You can load the model directly from the location where you saved it. That's what we are going to do now."
   ]
  },
  {
   "cell_type": "code",
   "execution_count": 7,
   "metadata": {
    "tags": []
   },
   "outputs": [],
   "source": [
    "# How to load a stored model:\n",
    "from gensim.models import KeyedVectors\n",
    "\n",
    "# You can load it either as text or as binary data. \n",
    "#The latter is more efficient but you may not be able to port it from machine to machine.\n",
    "englishleipzig_w2v = KeyedVectors.load_word2vec_format('/Users/piek/Desktop/t-ONDERWIJS/data/leipzig-corpora/models/eng_news_2005_1M-sentences.txt') "
   ]
  },
  {
   "cell_type": "markdown",
   "metadata": {},
   "source": [
    "Notice that loading is much faster than building! Let's check some of the properties of the englishleipzig_w2v model: "
   ]
  },
  {
   "cell_type": "code",
   "execution_count": 8,
   "metadata": {
    "tags": []
   },
   "outputs": [
    {
     "name": "stdout",
     "output_type": "stream",
     "text": [
      "Vector size = 100\n",
      "Vocabulary size = 12336\n"
     ]
    }
   ],
   "source": [
    "# Show some properties of our model. Notice these are also in the text file.\n",
    "print('Vector size =', englishleipzig_w2v.vector_size)\n",
    "print('Vocabulary size =', len(englishleipzig_w2v.key_to_index))"
   ]
  },
  {
   "cell_type": "markdown",
   "metadata": {},
   "source": [
    "We have limited the dimensions to '100' which is the vector size and the vocabulary is much smaller than the Wikipedia vocabulary and even smaller than WordNet. We can now use any word from the vocabulary as a key to obtain the vector:"
   ]
  },
  {
   "cell_type": "code",
   "execution_count": 9,
   "metadata": {
    "tags": []
   },
   "outputs": [
    {
     "name": "stdout",
     "output_type": "stream",
     "text": [
      "100\n",
      "[ 1.5469513   1.6860337   0.12301197  0.58989465  0.2739735  -0.4105389\n",
      "  0.41100827  0.37610853  0.03646443 -0.38568762 -0.48197266 -0.88005334\n",
      "  0.4279704   0.03546716  1.5243983   0.18495554  0.41031778 -0.6879221\n",
      "  1.2044296  -0.25107986  1.1485189   0.5648805   1.8861083  -0.4446929\n",
      "  0.1834296  -1.1384511  -0.30667162 -0.006758    0.12008601  0.71690995\n",
      "  0.18232372 -0.30673692  0.9085713  -0.5810559   1.2307783  -0.60112196\n",
      " -0.5376805   1.4571023   0.30190334 -1.5316579   1.1415538  -0.6962501\n",
      "  0.42538154 -0.62837195  0.5986211  -1.4499973   0.46742278 -1.3125943\n",
      " -0.29398197 -0.5775949  -0.6936858  -0.21864018 -1.8093103  -1.8649422\n",
      " -0.76891977 -0.62112063  1.9832606  -0.579999   -0.6700343   0.32070187\n",
      " -2.226239   -1.0541159   1.1721869   0.02004264  0.705233    0.28031504\n",
      "  0.01082416  1.5786729  -0.04534668 -0.12843108 -0.7548811   0.12520216\n",
      "  1.1254116   0.5978487   0.6776862   0.7284394   0.47489783  0.39948747\n",
      " -0.87342185 -0.25798327  0.36016706 -0.25010848 -0.86765105  0.38123667\n",
      " -0.61917204  0.15453868  0.70198417  0.8461343  -0.25612676  0.36808914\n",
      "  0.30231544  0.02861699  0.68193793 -0.5552655   1.8976727   0.64462066\n",
      "  0.6937874   0.03229577 -1.2906262   0.38780147]\n"
     ]
    }
   ],
   "source": [
    "king_vector = englishleipzig_w2v[\"king\"]\n",
    "print(len(king_vector))\n",
    "print(king_vector)"
   ]
  },
  {
   "cell_type": "markdown",
   "metadata": {},
   "source": [
    "We see we get a dense vector with values for all 100 dimensions."
   ]
  },
  {
   "cell_type": "markdown",
   "metadata": {},
   "source": [
    "We can also easily find the similarity between two words. As expected, the figures below show that *king* is closer to *queen* than to *coffee*."
   ]
  },
  {
   "cell_type": "code",
   "execution_count": 10,
   "metadata": {
    "tags": []
   },
   "outputs": [
    {
     "name": "stdout",
     "output_type": "stream",
     "text": [
      "0.6832746\n",
      "0.08221461\n"
     ]
    }
   ],
   "source": [
    "print(englishleipzig_w2v.similarity(\"king\", \"queen\"))\n",
    "print(englishleipzig_w2v.similarity(\"king\", \"coffee\"))"
   ]
  },
  {
   "cell_type": "markdown",
   "metadata": {},
   "source": [
    "In a similar vein, we can find the words that are most similar to a target word. The words with the most similar embedding to *king* are all similar titles (such as *prince*  and *queen*) or they are semantically related to royalty."
   ]
  },
  {
   "cell_type": "code",
   "execution_count": 11,
   "metadata": {
    "tags": []
   },
   "outputs": [
    {
     "data": {
      "text/plain": [
       "[('prince', 0.7564889788627625),\n",
       " ('queen', 0.6832746863365173),\n",
       " ('alexander', 0.6774353981018066),\n",
       " ('rainier', 0.6738333702087402),\n",
       " ('buchanan', 0.6554375886917114),\n",
       " ('martin', 0.6489624381065369),\n",
       " ('henry', 0.6395936012268066),\n",
       " ('elizabeth', 0.6394978165626526),\n",
       " ('bishop', 0.6369951367378235),\n",
       " ('diana', 0.6360077261924744)]"
      ]
     },
     "execution_count": 11,
     "metadata": {},
     "output_type": "execute_result"
    }
   ],
   "source": [
    "englishleipzig_w2v.similar_by_word(\"king\", topn=10)"
   ]
  },
  {
   "cell_type": "markdown",
   "metadata": {},
   "source": [
    "Note that this model was trained from the Leipzig news corpus for English, which is not that big! Companies such as Google, Amazon and Facebook train their models on many magnitudes more data. Much bigger corpora in many languages can be found at: https://commoncrawl.org\n",
    "\n",
    "Note that training a model on such data sets also requires a powerful computing infrastructure."
   ]
  },
  {
   "cell_type": "markdown",
   "metadata": {},
   "source": [
    "# End of notebook"
   ]
  },
  {
   "cell_type": "code",
   "execution_count": null,
   "metadata": {},
   "outputs": [],
   "source": []
  }
 ],
 "metadata": {
  "kernelspec": {
   "display_name": "hltenv",
   "language": "python",
   "name": "hltenv"
  },
  "language_info": {
   "codemirror_mode": {
    "name": "ipython",
    "version": 3
   },
   "file_extension": ".py",
   "mimetype": "text/x-python",
   "name": "python",
   "nbconvert_exporter": "python",
   "pygments_lexer": "ipython3",
   "version": "3.9.16"
  }
 },
 "nbformat": 4,
 "nbformat_minor": 4
}
