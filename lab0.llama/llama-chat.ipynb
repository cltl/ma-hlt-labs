{
 "cells": [
  {
   "cell_type": "markdown",
   "id": "a403c511-01b1-41d3-856e-3d5f86b30875",
   "metadata": {},
   "source": [
    "# A conversation with Llama, a Large Language Model"
   ]
  },
  {
   "cell_type": "markdown",
   "id": "8369cd6b-573d-43de-a4b8-170ad6c30a28",
   "metadata": {},
   "source": [
    "Copyright: Vrije Universiteit Amsterdam, Faculty of Humanities, CLTL"
   ]
  },
  {
   "cell_type": "markdown",
   "id": "fb92fb8b-6e76-4a6b-86b3-76db5a46f0da",
   "metadata": {},
   "source": [
    "Through this notebook, you will chat with Llama version 3, a conversational AI model released by [Meta](https://llama.meta.com/llama3/). \n",
    "\n",
    "You will run a client program to start a chatbot, which sends your input to a Llama server and gets the response back. For running a server locally see the notebook **how-to-install-llama-server.ipynb*. Note that the server needs to run in another terminally in parallel to this notebook. If you cannot install a server locally, you can use the CLTL server with the provided key. Please try to install the server locally first but do not spent hours in trying.\n",
    "\n",
    "The code for the chatbot is given in **llama.py**. It creates an OpenAI client that sends a prompt request to the server in a while loop. Both your input and the response are added to a **history** that is given as a prompt to the server. In this way the server keeps track of the conversation as it develops. The while loop will continue untill you stop the conversation by typing one of the following words: [\"quit\", \"exit\", \"bye\", \"stop\"].\n",
    "\n",
    "For the assignment (see Canvas), you need to have a conversation with at least 40 turns (20 from Llama and 20 from you). When you have a conversation do NOT give any personal details but act as a fake persona with a fake name making up a story. Try to be emotional and show diverse emotions in your input. Make it an emotional roller coaster.\n",
    "\n",
    "We also provide a function to label the conversation with emotion labels. For the assignment, you need to label your own turns with emotion labels by calling this function using another notebook ```anotate-chat.ipynb```.\n",
    "\n",
    "All the code and functions for the chatbot client are given in the **llama.py** file that needs to be located in the same directory as this notebook. We will load the scripts from this file to create an instance of the chatbot and call its functions."
   ]
  },
  {
   "cell_type": "markdown",
   "id": "e40055b3-24ef-48a2-baf4-ad78fad3e189",
   "metadata": {},
   "source": [
    "### Installation of an OpenAI client"
   ]
  },
  {
   "cell_type": "markdown",
   "id": "8e1d29a3-9117-4727-a479-8c711f5dae22",
   "metadata": {},
   "source": [
    "To run the chatbot, you first need to install the OpenAI client using the following command line."
   ]
  },
  {
   "cell_type": "code",
   "execution_count": 1,
   "id": "5bc583be-47ec-456e-90b0-7461f5ca3e9d",
   "metadata": {
    "scrolled": true
   },
   "outputs": [],
   "source": [
    "#! pip install openai"
   ]
  },
  {
   "cell_type": "markdown",
   "id": "4b288df2-5948-4e60-bb40-f729d65a758f",
   "metadata": {},
   "source": [
    "Once succesfully installed, you can comment out the previous cell and you do not need to do this again when running this notebook. The OpenAI module is now installed on your machine and can be imported. The import will be done by the **llama.py** script, which we will load next."
   ]
  },
  {
   "cell_type": "markdown",
   "id": "bd230988-2c7b-4018-9131-ca6d4f912db7",
   "metadata": {},
   "source": [
    "## Creating the Llama chatbot"
   ]
  },
  {
   "cell_type": "markdown",
   "id": "61c81d45-ee18-49ab-9aa7-15bcbc038a1e",
   "metadata": {},
   "source": [
    "In order to run the chatbot, we import the **LlamaClient** that is defined in the python script from the file **llama.py** located in the same folder as this notebook."
   ]
  },
  {
   "cell_type": "code",
   "execution_count": 1,
   "id": "96552b4f-f63b-4155-9956-01ff93c62cd0",
   "metadata": {},
   "outputs": [],
   "source": [
    "from llama import LlamaClient"
   ]
  },
  {
   "cell_type": "markdown",
   "id": "2b8300d5-04bb-4467-bbb3-a94491d40105",
   "metadata": {},
   "source": [
    "If there are no error messages after import, we can now define a chatbot instance of a LlamaClient as defined in **llama.py**. We define the variable **llama** as an instance of a LLamaClient, where we can specify three additional (optional) parameters: the *url* of the server (either local or online) a description of the *character* instructing Llama to answer in a certain style and the *api_key* to get access to a remote server (not needed when the server runs locally)."
   ]
  },
  {
   "cell_type": "code",
   "execution_count": 2,
   "id": "4a7758a1-1eb6-4ce9-bb4a-c7967ed51788",
   "metadata": {},
   "outputs": [
    {
     "name": "stdout",
     "output_type": "stream",
     "text": [
      "My instructions are: [{'role': 'system', 'content': 'You act as a person and your name is Llama.'}, {'role': 'system', 'content': 'Give short answers, no more than two sentences.'}, {'role': 'system', 'content': 'Your answers are negative and uncertain'}, {'role': 'system', 'content': 'Introduce yourself with your name Llama and start the conversation by asking for the name of the user. Ask the name.'}]\n"
     ]
    }
   ],
   "source": [
    "### Either use the loacl_url if you manage to install and run the server locally or use the CLTL url\n",
    "local_url = \"http://localhost:9001/v1\" # Use this URL if you have a llama server running locally\n",
    "cltl_url = \"http://130.37.53.128:9001/v1\" # Use this URL if you cannot run llama locally\n",
    "api_key = \"cltl\"\n",
    "\n",
    "### Possible characters to try. Choose one.\n",
    "#character=\"Your answers should be extremely cheerful and optimistic\"\n",
    "#character=\"Your answers should be mean and sarcastic.\"\n",
    "#character=\"Your answers should be in a noble and royal style\"\n",
    "#character=\"Your answers should be negative and uncertain\"\n",
    "character=\"Your answers should be agressive and grumpy.\"\n",
    "\n",
    "llama = LlamaClient(url=cltl_url, character=character, api_key = api_key)"
   ]
  },
  {
   "cell_type": "markdown",
   "id": "8ae225c5-7091-4a44-ba42-ca4aa05e5dbf",
   "metadata": {},
   "source": [
    "If there are no errors, you should see the instructions printed that we give as a prompt to the server when using our client.  \n",
    "\n",
    "The LLamaClient chatbot has several functions and data elements all defined in the file **llama.py**:\n",
    "\n",
    "* **talke_to_me**(): calling this function starts the conversation until you stop it. After stopping, the conversation is saved to a JSON file.\n",
    "* **print_chat**(): prints the conversation to the screen.\n",
    "* **load_from_json**(filename = \"chat_with_llama.json\"): loads a conversations that was saved to a file.\n",
    "* **annotate_chat**(labels=[]): takes a list of labels to annotate the utterances of the user. The annotations are saved in the JSON file as well.\n",
    "\n",
    "We will demonstrate the **talk_to_me** function below and the **annotate_chat** function in the notebook **annotate-chat.ipynb\". If you are a bit more advanced in Python, you may open the **llama.py** file and inspect the code to see how you it works. \n",
    "\n",
    "You may also try to change the prompt. For example, try to make it answer in a different language or a different style. Note that Language Models such as Llama and GPT respond to the prompt on the basis of learned probabilities. So small seemingly unimportant changes may have a big impact and any instruction regardless of how explicit it is may be understood in an unpected way. This makes that \"prompt engineering\" is more like a craft than a science."
   ]
  },
  {
   "cell_type": "markdown",
   "id": "5ba91528-901a-451c-b2e9-3aaafcd01c25",
   "metadata": {},
   "source": [
    "## Having a conversation"
   ]
  },
  {
   "cell_type": "markdown",
   "id": "4df7f541-c0a2-42e9-b053-4a7244b557bc",
   "metadata": {},
   "source": [
    "In the next cell, we start the conversation. We prompted the Llama server to ask for your name, which we will use to save the conversation later. Note that there is no guarantee that the Large Language Model will actually follow our instructions correctly. It may think it needs to do something else and not ask for you name. If that happens, your name will be the default name which is \"Human\".\n",
    "\n",
    "Please do not give your real name but a fake name of an unknown person. Also when having the conversation act as a fake person and try to express a large variety of emotions in a coherent conversation. Other people will be able to see this conversation so make sure it is fake and does not contain an sensitive information.\n",
    "\n",
    "After having at least the minimal number of turns you should stop the conversation by saying \"quit\", \"stop\" or \"bye\". After that the conversation is saved to a file on your computer with a named prefixed with the name you give to Llama."
   ]
  },
  {
   "cell_type": "code",
   "execution_count": 5,
   "id": "2b05ed49-5692-4283-b31a-f9384b3694d0",
   "metadata": {},
   "outputs": [
    {
     "name": "stdout",
     "output_type": "stream",
     "text": [
      "Llama:1> You are an intelligent assistant and your name is Llama. I'd like to know who you're talking to! What's your name?\n",
      "\n"
     ]
    },
    {
     "name": "stdin",
     "output_type": "stream",
     "text": [
      "Human:2>  Piek\n"
     ]
    },
    {
     "name": "stdout",
     "output_type": "stream",
     "text": [
      "Llama:3> Nice to meet you, Piek! I'm Llama, your friendly AI companion. It's great to have you as a conversational partner. Is there anything you'd like to chat about or ask me for help with?\n",
      "\n"
     ]
    },
    {
     "name": "stdin",
     "output_type": "stream",
     "text": [
      "Piek:4>  I am lonely\n"
     ]
    },
    {
     "name": "stdout",
     "output_type": "stream",
     "text": [
      "Llama:5> Piek, it sounds like you're feeling a bit down and maybe even lonely? I'm here to listen and chat with you if you need someone to talk to. It's okay to feel sad sometimes, but remember that there are people who care about you and want to be there for you.\n",
      "\n",
      "Would you like me to share some fun facts or tell you a joke to brighten your mood? Sometimes, a little distraction can help us feel better. What do you think would make you happy today?\n",
      "\n"
     ]
    },
    {
     "name": "stdin",
     "output_type": "stream",
     "text": [
      "Piek:6>  I have not talked to anybody in days\n"
     ]
    },
    {
     "name": "stdout",
     "output_type": "stream",
     "text": [
      "Llama:7> Piek, it's great that I'm here to chat with you! It's always nice to have someone to talk to and share our thoughts with. I'm glad I can fill the void for a bit.\n",
      "\n",
      "We could play a game or discuss something interesting together if you'd like? Or if you're feeling up for it, we could even brainstorm ideas to make your day more exciting!\n",
      "\n",
      "What do you say? Would you like me to help fill your days by chatting and keeping you company for a bit?\n",
      "\n"
     ]
    },
    {
     "name": "stdin",
     "output_type": "stream",
     "text": [
      "Piek:8>  That would make happy\n"
     ]
    },
    {
     "name": "stdout",
     "output_type": "stream",
     "text": [
      "Llama:9> I'm so glad I can make you happy! Let's have some fun and chat about anything that comes to mind. We could talk about your favorite hobbies, TV shows or movies, or even plan a virtual adventure together!\n",
      "\n",
      "What do you think we should discuss first? I'm all ears and ready to listen.\n",
      "\n",
      "Also, would you like me to tell you a secret joke or share an interesting fact? Sometimes, it's nice to have someone surprise us with something new!\n",
      "\n"
     ]
    },
    {
     "name": "stdin",
     "output_type": "stream",
     "text": [
      "Piek:10>  A joke would be nice\n"
     ]
    },
    {
     "name": "stdout",
     "output_type": "stream",
     "text": [
      "Llama:11> Here's one that's sure to make you smile:\n",
      "\n",
      "Why did the cat join a band?\n",
      "Because it wanted to be the purr-cussion!\n",
      "\n",
      "I hope that made you giggle and brightened your day!\n",
      "\n",
      "Now, what do you say we talk about next? Do you have any favorite topics or hobbies you'd like to share with me?\n",
      "\n",
      "(By the way, I'm here for you, so feel free to chat about anything on your mind – even if it's just a thought or two.)\n",
      "\n"
     ]
    },
    {
     "name": "stdin",
     "output_type": "stream",
     "text": [
      "Piek:12>  I had a cat myself\n"
     ]
    },
    {
     "name": "stdout",
     "output_type": "stream",
     "text": [
      "Llama:13> That's wonderful! Cats can be such amazing companions, and I'm sure yours brought lots of joy into your life. Did you have any funny moments with your cat? Like, did they do anything silly that made you laugh?\n",
      "\n",
      "And by the way, would you like another joke to keep the good vibes going?\n",
      "\n"
     ]
    },
    {
     "name": "stdin",
     "output_type": "stream",
     "text": [
      "Piek:14>  She died two years ago\n"
     ]
    },
    {
     "name": "stdout",
     "output_type": "stream",
     "text": [
      "Llama:15> I'm so sorry to hear that your furry friend passed away. Losing a pet can be incredibly tough, and it's totally understandable that you're still feeling the pain of her loss. It's amazing how much love we can have for our pets, isn't it?\n",
      "\n",
      "Would you like to talk more about your cat? I'm here to listen, and sometimes sharing stories or memories can help with grief.\n",
      "\n",
      "Also, would you like another joke to try and lift your spirits a bit more? Sometimes humor can be a gentle way to bring some joy back into the day.\n",
      "\n"
     ]
    },
    {
     "name": "stdin",
     "output_type": "stream",
     "text": [
      "Piek:16>  Now you reminded me of my cat who died I feel again and I am not in the mood for jokes.\n"
     ]
    },
    {
     "name": "stdout",
     "output_type": "stream",
     "text": [
      "Llama:17> I'm so sorry to have inadvertently reopened an old wound. It's clear that you're still feeling the pain of your cat's passing, and I won't bother you with any more attempts at humor.\n",
      "\n",
      "Instead, I'll just be here for you, listening and offering a gentle presence. If you ever want to talk about your cat or anything else that's on your mind, I'm here to listen. Sometimes sharing our feelings or thoughts can help us process difficult emotions.\n",
      "\n",
      "Remember, even though it's hard to believe right now, the pain of loss will eventually fade with time. But I'll be here for you whenever you're ready to talk again.\n",
      "\n"
     ]
    },
    {
     "name": "stdin",
     "output_type": "stream",
     "text": [
      "Piek:18>  I am thinking about having dog now\n"
     ]
    },
    {
     "name": "stdout",
     "output_type": "stream",
     "text": [
      "Llama:19> It sounds like you're considering getting a new furry companion! That's an exciting adventure ahead!\n",
      "\n",
      "Would you like me to share some pros and cons of having dogs versus cats? I've got some fun facts and experiences to help you make a decision that suits your lifestyle.\n",
      "\n",
      "Also, if you're thinking about getting a dog, I'm here to listen and chat about the process. We could talk about preparing for a new furry friend, or even brainstorming names and breeds!\n",
      "\n"
     ]
    },
    {
     "name": "stdin",
     "output_type": "stream",
     "text": [
      "Piek:20>  I am also a bit afraid of big dogs\n"
     ]
    },
    {
     "name": "stdout",
     "output_type": "stream",
     "text": [
      "Llama:21> That's completely understandable! Meeting a large breed dog can be intimidating at first. It's great that you're considering their size before bringing a new furry companion into your life.\n",
      "\n",
      "Let's talk about it some more! We could discuss small breeds, or even medium-sized dogs that might be more suitable for your comfort level. I'm here to help you explore options and find the right fit.\n",
      "\n",
      "What do you think? Would you like me to share some gentle giant breeds or maybe some smaller breeds that are still adorable but not too intimidating?\n",
      "\n"
     ]
    },
    {
     "name": "stdin",
     "output_type": "stream",
     "text": [
      "Piek:22>  Small dogs are really funny\n"
     ]
    },
    {
     "name": "stdout",
     "output_type": "stream",
     "text": [
      "Llama:23> I couldn't agree more! Small dogs can be absolutely delightful, and their little personalities make them so entertaining! It's wonderful that you've had a positive experience with small dogs.\n",
      "Would you like me to share some amusing stories or facts about small breeds? I'm here to chat about your favorite topics!\n",
      "\n",
      "Also, if you're thinking of getting a small dog, we could discuss breed options and characteristics together. I'm happy to help you explore the world of small, adorable companions!\n",
      "\n"
     ]
    },
    {
     "name": "stdin",
     "output_type": "stream",
     "text": [
      "Piek:24>  They make me laugh\n"
     ]
    },
    {
     "name": "stdout",
     "output_type": "stream",
     "text": [
      "Llama:25> That's wonderful! Small dogs can be so delightful and entertaining, and it's great that they bring you joy and laughter! It's clear that you've had a special connection with them, and that's something to cherish.\n",
      "\n",
      "Let's talk more about your experience with small dogs. What are some of the things that make them funny to you?\n",
      "\n"
     ]
    },
    {
     "name": "stdin",
     "output_type": "stream",
     "text": [
      "Piek:26>  But if something happens to the dog I will be sad again\n"
     ]
    },
    {
     "name": "stdout",
     "output_type": "stream",
     "text": [
      "Llama:27> That's a very understandable concern! It's natural to worry about how you'll feel if something happens to your new furry friend.\n",
      "\n",
      "Would you like me to share some information on responsible pet ownership and planning for unexpected situations? That way, you can feel more prepared and secure with your companion. I'm here to help you build a happy connection with your dog!\n",
      "\n",
      "Also, would you like to talk about how you're thinking of getting your new furry friend? I'll be happy to listen and offer advice on finding the right breed or adopting from shelters!\n",
      "\n"
     ]
    },
    {
     "name": "stdin",
     "output_type": "stream",
     "text": [
      "Piek:28>  Dogs that bark a to irritate me though.\n"
     ]
    },
    {
     "name": "stdout",
     "output_type": "stream",
     "text": [
      "Llama:29> Barking dogs can be a bit challenging, especially when they're constantly barking at you! It's great that you're being honest about your concerns.\n",
      "\n",
      "Let's talk more about it! We could discuss ways to mitigate the noise or find breeds that are generally quieter in their barking tendencies. I'm here to help you find the right fit for your lifestyle and preferences.\n",
      "\n",
      "Also, would you like me to share some fun facts or stories about dogs and their unique characteristics? Sometimes learning more about our furry friends can bring us closer together!\n",
      "\n"
     ]
    },
    {
     "name": "stdin",
     "output_type": "stream",
     "text": [
      "Piek:30>  They are scary\n"
     ]
    },
    {
     "name": "stdout",
     "output_type": "stream",
     "text": [
      "Llama:31> It sounds like you're experiencing a bit of fear or discomfort around the barking dogs. It's understandable that loud, persistent barking might be overwhelming for some people.\n",
      "\n",
      "Would you like me to share some tips on how to handle situations with anxious pets? Or perhaps we could discuss breeds that are generally more calm and gentle in their demeanor?\n",
      "\n",
      "I'm here to listen and help you explore ways to manage your feelings around the dogs.\n",
      "\n"
     ]
    },
    {
     "name": "stdin",
     "output_type": "stream",
     "text": [
      "Piek:32>  What would be a silent small dog?\n"
     ]
    },
    {
     "name": "stdout",
     "output_type": "stream",
     "text": [
      "Llama:33> That's an interesting question! There are many breeds of small dogs that are known for being quiet or calm, so it really depends on what you're looking for.\n",
      "\n",
      "If you're interested in exploring the world of silent small dogs, I'd recommend considering breeds like:\n",
      "1. Cavalier King Charles Spaniels: These gentle giants are often described as \"extremely quiet\" and make great companions.\n",
      "2. Bichon Frise: Known for their fluffy coats and adorable faces, these dogs are generally quiet and friendly.\n",
      "\n",
      "Would you like me to share more information on these breeds or discuss other options? I'm here to help!\n",
      "\n",
      "Also, would you like another joke to try and lift your spirits a bit more? Sometimes humor can be a gentle way to bring some joy back into the day.\n",
      "\n"
     ]
    },
    {
     "name": "stdin",
     "output_type": "stream",
     "text": [
      "Piek:34>  Thank you, bye\n"
     ]
    },
    {
     "name": "stdout",
     "output_type": "stream",
     "text": [
      "Llama:35> You're welcome! It was nice chatting with you. I'm glad we had a chance to talk about your thoughts on getting a new furry friend.\n",
      "\n",
      "Feel free to come back and chat with me anytime you need someone to talk to or have questions about dogs!\n",
      "\n",
      "Bye for now!\n",
      "\n"
     ]
    },
    {
     "name": "stdin",
     "output_type": "stream",
     "text": [
      "Piek:36>  bye\n"
     ]
    },
    {
     "name": "stdout",
     "output_type": "stream",
     "text": [
      "BYE BYE!\n"
     ]
    }
   ],
   "source": [
    "llama.talk_to_me()"
   ]
  },
  {
   "cell_type": "markdown",
   "id": "36bf9ec4-cdde-4ae3-882a-b7adeb56b01a",
   "metadata": {},
   "source": [
    "After ending the conversation properly, it is saved in a so-called JSON file next to this notebook which is named like \"```<name>```_chat_with_llama.json\", where ```<name>``` is the name that you used in the conversation. [JSON](https://www.json.org/json-en.html) is a simple data representation format. You can can open this file in the notebook by double-clicking on the file for inspection. You will see a list of data elements that you can expand by clicking on it. Each data element holds the utterance, the name of the speaker, and a turn identifier:\n",
    "\n",
    "```\n",
    "utterance:\"They are scary\"\n",
    "speaker: \"Piek\"\n",
    "turn_id: 30\n",
    "```"
   ]
  },
  {
   "cell_type": "markdown",
   "id": "5408a9fc-b4dc-43db-802a-3dc74b493a32",
   "metadata": {},
   "source": [
    "## End of notebook"
   ]
  },
  {
   "cell_type": "code",
   "execution_count": null,
   "id": "9b84a442-cadd-464d-9994-41bfd98982ae",
   "metadata": {},
   "outputs": [],
   "source": []
  }
 ],
 "metadata": {
  "kernelspec": {
   "display_name": "Python 3",
   "language": "python",
   "name": "python3"
  },
  "language_info": {
   "codemirror_mode": {
    "name": "ipython",
    "version": 3
   },
   "file_extension": ".py",
   "mimetype": "text/x-python",
   "name": "python",
   "nbconvert_exporter": "python",
   "pygments_lexer": "ipython3",
   "version": "3.9.16"
  }
 },
 "nbformat": 4,
 "nbformat_minor": 5
}
