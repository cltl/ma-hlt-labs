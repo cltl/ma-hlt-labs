{
 "cells": [
  {
   "cell_type": "markdown",
   "metadata": {},
   "source": [
    "# Lab3.4 Sentiment Analysis with machine-learning"
   ]
  },
  {
   "cell_type": "markdown",
   "metadata": {},
   "source": [
    "Copyright: Vrije Universiteit Amsterdam, Faculty of Humanities, CLTL"
   ]
  },
  {
   "cell_type": "markdown",
   "metadata": {},
   "source": [
    "The focus of this notebook is on performing sentiment analysis using the scikit-learn package. Material from [this notebook](http://www.pitt.edu/~naraehan/presentation/Movie+Reviews+sentiment+analysis+with+Scikit-Learn.html) was re-used and adapted.\n",
    "The notebook will give you a recipe to train a classifier to assign sentiment labels to texts and evaluate their performance. This counts as supervised learning because the labels are assigned by people judging the texts and the machine mimics this behaviour.\n",
    "\n",
    "**At the end of this notebook, you will be able to**:\n",
    "* load text data from subdirectories on disk, i.e. airline tweets and movie reviews, with the names of the subdirectories as their interpretation labels\n",
    "* inspect the data and their distribution over the labels\n",
    "* represent each text as a Bag-of-Words\n",
    "* convert Bag-of-Word counts to TF-IDF values\n",
    "* split the data into a train and test set\n",
    "* train a *NaiveBayesClassifier* with the training part\n",
    "* apply the trained classifier on the test data\n",
    "* evaluate the result\n",
    "* apply the classifier to any other set of text data"
   ]
  },
  {
   "cell_type": "markdown",
   "metadata": {
    "tags": []
   },
   "source": [
    "## Prerequisites"
   ]
  },
  {
   "cell_type": "markdown",
   "metadata": {},
   "source": [
    "For training a machine learning system we need a number of packages, the most important ones are *sklearn* and *numpy* to manipulate data and call machine learning functions. Since we are dealing with texts, we also need some specific packages from *sklearn* to operate on texts to get words as features. Finally, we use the *nltk* package to split a text in words abd to get a list of *stop words*. *Stop words* occur frequently and are not very discriminative across texts. We assume you have all these packages already installed using **pip** or **conda** in the previous notebooks so you can import them here."
   ]
  },
  {
   "cell_type": "code",
   "execution_count": 2,
   "metadata": {
    "tags": []
   },
   "outputs": [],
   "source": [
    "import sklearn\n",
    "import numpy\n",
    "import nltk\n",
    "from nltk.corpus import stopwords\n",
    "from sklearn.datasets import load_files\n",
    "from sklearn.feature_extraction.text import CountVectorizer\n",
    "from sklearn.feature_extraction.text import TfidfTransformer"
   ]
  },
  {
   "cell_type": "markdown",
   "metadata": {},
   "source": [
    "## Loading a dataset\n",
    "We are first going to load and inspect the **airlinetweets** dataset (which is included in the data folder that you downloaded from the HLT course Github). This data set originates from:\n",
    "\n",
    "https://www.kaggle.com/crowdflower/twitter-airline-sentiment\n",
    "\n",
    "Kaggle is a platform where you can find many more data sets.\n",
    "\n",
    "We are going to use the imported method **load_files** which is part of sklearn. Let's first inspect what the help message of the function **load_files** states."
   ]
  },
  {
   "cell_type": "code",
   "execution_count": 2,
   "metadata": {
    "tags": []
   },
   "outputs": [
    {
     "name": "stdout",
     "output_type": "stream",
     "text": [
      "Help on function load_files in module sklearn.datasets._base:\n",
      "\n",
      "load_files(container_path, *, description=None, categories=None, load_content=True, shuffle=True, encoding=None, decode_error='strict', random_state=0, allowed_extensions=None)\n",
      "    Load text files with categories as subfolder names.\n",
      "    \n",
      "    Individual samples are assumed to be files stored a two levels folder\n",
      "    structure such as the following:\n",
      "    \n",
      "        container_folder/\n",
      "            category_1_folder/\n",
      "                file_1.txt\n",
      "                file_2.txt\n",
      "                ...\n",
      "                file_42.txt\n",
      "            category_2_folder/\n",
      "                file_43.txt\n",
      "                file_44.txt\n",
      "                ...\n",
      "    \n",
      "    The folder names are used as supervised signal label names. The individual\n",
      "    file names are not important.\n",
      "    \n",
      "    This function does not try to extract features into a numpy array or scipy\n",
      "    sparse matrix. In addition, if load_content is false it does not try to\n",
      "    load the files in memory.\n",
      "    \n",
      "    To use text files in a scikit-learn classification or clustering algorithm,\n",
      "    you will need to use the :mod`~sklearn.feature_extraction.text` module to\n",
      "    build a feature extraction transformer that suits your problem.\n",
      "    \n",
      "    If you set load_content=True, you should also specify the encoding of the\n",
      "    text using the 'encoding' parameter. For many modern text files, 'utf-8'\n",
      "    will be the correct encoding. If you leave encoding equal to None, then the\n",
      "    content will be made of bytes instead of Unicode, and you will not be able\n",
      "    to use most functions in :mod:`~sklearn.feature_extraction.text`.\n",
      "    \n",
      "    Similar feature extractors should be built for other kind of unstructured\n",
      "    data input such as images, audio, video, ...\n",
      "    \n",
      "    If you want files with a specific file extension (e.g. `.txt`) then you\n",
      "    can pass a list of those file extensions to `allowed_extensions`.\n",
      "    \n",
      "    Read more in the :ref:`User Guide <datasets>`.\n",
      "    \n",
      "    Parameters\n",
      "    ----------\n",
      "    container_path : str\n",
      "        Path to the main folder holding one subfolder per category.\n",
      "    \n",
      "    description : str, default=None\n",
      "        A paragraph describing the characteristic of the dataset: its source,\n",
      "        reference, etc.\n",
      "    \n",
      "    categories : list of str, default=None\n",
      "        If None (default), load all the categories. If not None, list of\n",
      "        category names to load (other categories ignored).\n",
      "    \n",
      "    load_content : bool, default=True\n",
      "        Whether to load or not the content of the different files. If true a\n",
      "        'data' attribute containing the text information is present in the data\n",
      "        structure returned. If not, a filenames attribute gives the path to the\n",
      "        files.\n",
      "    \n",
      "    shuffle : bool, default=True\n",
      "        Whether or not to shuffle the data: might be important for models that\n",
      "        make the assumption that the samples are independent and identically\n",
      "        distributed (i.i.d.), such as stochastic gradient descent.\n",
      "    \n",
      "    encoding : str, default=None\n",
      "        If None, do not try to decode the content of the files (e.g. for images\n",
      "        or other non-text content). If not None, encoding to use to decode text\n",
      "        files to Unicode if load_content is True.\n",
      "    \n",
      "    decode_error : {'strict', 'ignore', 'replace'}, default='strict'\n",
      "        Instruction on what to do if a byte sequence is given to analyze that\n",
      "        contains characters not of the given `encoding`. Passed as keyword\n",
      "        argument 'errors' to bytes.decode.\n",
      "    \n",
      "    random_state : int, RandomState instance or None, default=0\n",
      "        Determines random number generation for dataset shuffling. Pass an int\n",
      "        for reproducible output across multiple function calls.\n",
      "        See :term:`Glossary <random_state>`.\n",
      "    \n",
      "    allowed_extensions : list of str, default=None\n",
      "        List of desired file extensions to filter the files to be loaded.\n",
      "    \n",
      "    Returns\n",
      "    -------\n",
      "    data : :class:`~sklearn.utils.Bunch`\n",
      "        Dictionary-like object, with the following attributes.\n",
      "    \n",
      "        data : list of str\n",
      "            Only present when `load_content=True`.\n",
      "            The raw text data to learn.\n",
      "        target : ndarray\n",
      "            The target labels (integer index).\n",
      "        target_names : list\n",
      "            The names of target classes.\n",
      "        DESCR : str\n",
      "            The full description of the dataset.\n",
      "        filenames: ndarray\n",
      "            The filenames holding the dataset.\n",
      "\n"
     ]
    }
   ],
   "source": [
    "help(load_files)"
   ]
  },
  {
   "cell_type": "markdown",
   "metadata": {},
   "source": [
    "There are many options and parameters but here we focus on the structure of the data on disk in order to use it.\n",
    "The function assumes you have the following general structure:\n",
    "\n",
    "* container_folder/\n",
    "    * category_1_folder/ (e.g., 'positive')\n",
    "        * file_1.txt\n",
    "        * file_2.txt\n",
    "        * ...\n",
    "        * file_42.txt\n",
    "    * category_2_folder/ (e.g., 'negative')\n",
    "        * file_43.txt\n",
    "        * file_44.txt\n",
    "        * ...\n",
    "        \n",
    "The names of the subfolders are treated as the labels for the data and you are supposed to divide the text files over the subfolders accordingly. These names could be sentiment labels but also topics, genres, style or any other label that is associated with the collection of texts in each subfolder.\n",
    "\n",
    "The texts should be in plain text format (extension .txt) so it will not work for PDF, Word or HTML files."
   ]
  },
  {
   "cell_type": "markdown",
   "metadata": {},
   "source": [
    "Let's check whether our **airlinetweets** corpus has this structure. In the data folder, you will see a folder \"airlinetweets\" with 3 subfolders: \"negative\", \"neutral\", and \"positive\". These subfolder names will represent our sentiment labels. In each folder, you find many text files, each containing a tweet. This is our data per sentiment category. \n",
    "\n",
    "To load this data, we need to pass the function the full path to the directory. We are not going to type tyhe path but use another method. We will use the **pathlib** package to get the path of this notebook with the function ```cwd``` (**c**urrent **w**orking **d**irectory) and extend it with \"data/airlinetweets\" with the function ```joinpath```, assuming that you stored the data in this location."
   ]
  },
  {
   "cell_type": "code",
   "execution_count": 76,
   "metadata": {
    "tags": []
   },
   "outputs": [
    {
     "name": "stdout",
     "output_type": "stream",
     "text": [
      "current_working_directory /Users/piek/Desktop/t-MA-HLT-introduction-2024/ma-hlt-labs/lab3.machine_learning\n",
      "path: /Users/piek/Desktop/t-MA-HLT-introduction-2024/ma-hlt-labs/lab3.machine_learning/data/airlinetweets\n",
      "this will print True if the folder exists: True\n"
     ]
    }
   ],
   "source": [
    "import pathlib\n",
    "current_working_directory = pathlib.Path.cwd()\n",
    "print('current_working_directory', current_working_directory)\n",
    "airline_tweets_folder = current_working_directory.joinpath('data/airlinetweets')\n",
    "print('path:', airline_tweets_folder)\n",
    "print('this will print True if the folder exists:', \n",
    "      airline_tweets_folder.exists())"
   ]
  },
  {
   "cell_type": "code",
   "execution_count": 77,
   "metadata": {
    "tags": []
   },
   "outputs": [
    {
     "data": {
      "text/plain": [
       "'/Users/piek/Desktop/t-MA-HLT-introduction-2024/ma-hlt-labs/lab3.machine_learning/data/airlinetweets'"
      ]
     },
     "execution_count": 77,
     "metadata": {},
     "output_type": "execute_result"
    }
   ],
   "source": [
    "str(airline_tweets_folder)"
   ]
  },
  {
   "cell_type": "markdown",
   "metadata": {},
   "source": [
    "Inspect on your local machine whether the data has the required structure. Take your time to open files and inspect them. It is always good to know your data."
   ]
  },
  {
   "cell_type": "markdown",
   "metadata": {},
   "source": [
    "...."
   ]
  },
  {
   "cell_type": "markdown",
   "metadata": {},
   "source": [
    "...."
   ]
  },
  {
   "cell_type": "markdown",
   "metadata": {},
   "source": [
    "Let's now load it using the **load_files** function."
   ]
  },
  {
   "cell_type": "code",
   "execution_count": 5,
   "metadata": {
    "tags": []
   },
   "outputs": [],
   "source": [
    "# loading all files as data.\n",
    "airline_tweets_data = load_files(str(airline_tweets_folder))"
   ]
  },
  {
   "cell_type": "markdown",
   "metadata": {},
   "source": [
    "Note!! If you get an error about not being able to load files with the name ```/.ipynb_checkpoints``` this means you opened the folder from the notebook and Jupyter created a hidden directory to trace this. You can remove these files using the following command for the full path to the directory. E.g.:"
   ]
  },
  {
   "cell_type": "code",
   "execution_count": 9,
   "metadata": {
    "tags": []
   },
   "outputs": [],
   "source": [
    "!rm -r '/Users/piek/Desktop/t-MA-HLT-introduction-2024/ma-hlt-labs/lab3.machine_learning/data/airlinetweets/negative/.ipynb_checkpoints'"
   ]
  },
  {
   "cell_type": "markdown",
   "metadata": {},
   "source": [
    "Alternatively, you can download the data from Github again and replace the date folder altogether manually."
   ]
  },
  {
   "cell_type": "markdown",
   "metadata": {},
   "source": [
    "## Inspecting the dataset"
   ]
  },
  {
   "cell_type": "markdown",
   "metadata": {},
   "source": [
    "The load_files function will read each file separately and store it as a data item. The data is internally stored as a specfic type of object called *Bunch*, which consists of:\n",
    "\n",
    "* `DESCR`: a description of the data \n",
    "* `filenames`: a list with the content of the loaded files, \n",
    "* `data`: a list with all the texts loaded from the files,\n",
    "* `target`: a list with the numeric representations of the corresponding labels, and\n",
    "* `target_names`: a list with the names of the category in the order of their numerical representation\n"
   ]
  },
  {
   "cell_type": "code",
   "execution_count": 6,
   "metadata": {
    "tags": []
   },
   "outputs": [
    {
     "name": "stdout",
     "output_type": "stream",
     "text": [
      "<class 'sklearn.utils._bunch.Bunch'>\n",
      "['DESCR', 'data', 'filenames', 'target', 'target_names']\n",
      "<class 'numpy.ndarray'>\n",
      "Target names ['negative', 'neutral', 'positive']\n"
     ]
    }
   ],
   "source": [
    "print(type(airline_tweets_data))\n",
    "print(dir(airline_tweets_data))\n",
    "print(type(airline_tweets_data.target))\n",
    "print('Target names', airline_tweets_data.target_names)"
   ]
  },
  {
   "cell_type": "markdown",
   "metadata": {},
   "source": [
    "How many files do we have? Well, that should be the same as the number of text items in `data` and labels in `target`."
   ]
  },
  {
   "cell_type": "code",
   "execution_count": 7,
   "metadata": {
    "tags": []
   },
   "outputs": [
    {
     "name": "stdout",
     "output_type": "stream",
     "text": [
      "Number of filenames loaded 4755\n",
      "Number of text data items created from the loaded files 4755\n",
      "Number of text data labels created from the loaded files 4755\n"
     ]
    }
   ],
   "source": [
    "print('Number of filenames loaded', len(airline_tweets_data.filenames))\n",
    "print('Number of text data items created from the loaded files', len(airline_tweets_data.data))\n",
    "print('Number of text data labels created from the loaded files', len(airline_tweets_data.target.tolist())) "
   ]
  },
  {
   "cell_type": "code",
   "execution_count": 8,
   "metadata": {
    "tags": []
   },
   "outputs": [
    {
     "name": "stdout",
     "output_type": "stream",
     "text": [
      "[b'@AmericanAir Why is your cover photo of TWA? Just wondering.', b'@united next day', b'\"@JetBlue Thank you that it is not just a livery; it is a culture that 16', b'@SouthwestAir I cannot DM you as you do not follow me.', b'\"@VirginAmerica Funny story', b'@united flight 403 is delayed 40 min bc a missing screw and were in danger of missing flight 6491', b'@AmericanAir does it show that we are on the same plane?', b\"@united @perfectomobile You really shouldn't use the word 'crashing.' Just sayin'.\", b\"@united what's a good number to call to speak with someone about how you can fix what you did to 50 people and their luggage on Saturday?\", b'@USAirways Im researching a flight &amp; noticed a small issue w/class of service between your site &amp; other sites. Could Reservations help me?']\n"
     ]
    }
   ],
   "source": [
    "#Print the first ten items in the list of data\n",
    "print(airline_tweets_data.data[:10])"
   ]
  },
  {
   "cell_type": "markdown",
   "metadata": {},
   "source": [
    "We see here the first ten tweets that were loaded. So what are the associated labels?"
   ]
  },
  {
   "cell_type": "markdown",
   "metadata": {},
   "source": [
    "Note that *target* is a **numpy.ndarray** which stands for numeric data array. To print them, we need to convert the **ndarray** to a list."
   ]
  },
  {
   "cell_type": "code",
   "execution_count": 9,
   "metadata": {
    "tags": []
   },
   "outputs": [
    {
     "name": "stdout",
     "output_type": "stream",
     "text": [
      "[1, 1, 2, 1, 0, 0, 1, 1, 0, 1]\n"
     ]
    }
   ],
   "source": [
    "#Print the first ten items in the list\n",
    "print(airline_tweets_data.target.tolist()[:10])"
   ]
  },
  {
   "cell_type": "markdown",
   "metadata": {},
   "source": [
    "We see a sequence of 0, 1, 2 values which are the first ten labels for each of the first ten texts. To decode the numbers, you need to check the list of ```target_names```. A ```0``` corresponds to the first element in that list (negative), a ```1``` with the second (neutral) and a ```2``` to the third (positive). The first ten labels printed can thus be decoded to:\n",
    "\n",
    "```[neutral, neutral, positive, neutral, negative, negative, neutral, neutral, negative, neutral]```\n",
    "\n",
    "Let's is look at the actual text instances. What is the first text, which is supposed to be neutral:"
   ]
  },
  {
   "cell_type": "code",
   "execution_count": 10,
   "metadata": {
    "tags": []
   },
   "outputs": [
    {
     "data": {
      "text/plain": [
       "b'@AmericanAir Why is your cover photo of TWA? Just wondering.'"
      ]
     },
     "execution_count": 10,
     "metadata": {},
     "output_type": "execute_result"
    }
   ],
   "source": [
    "# Let's inspect the first data element\n",
    "airline_tweets_data.data[0]"
   ]
  },
  {
   "cell_type": "code",
   "execution_count": 11,
   "metadata": {
    "tags": []
   },
   "outputs": [
    {
     "data": {
      "text/plain": [
       "np.str_('/Users/piek/Desktop/t-MA-HLT-introduction-2024/ma-hlt-labs/lab3.machine_learning/data/airlinetweets/neutral/AL_570069345818161152.txt')"
      ]
     },
     "execution_count": 11,
     "metadata": {},
     "output_type": "execute_result"
    }
   ],
   "source": [
    "# which comes from the first file which is loaded from the \"neutral\" folder\n",
    "airline_tweets_data.filenames[0]"
   ]
  },
  {
   "cell_type": "code",
   "execution_count": 12,
   "metadata": {
    "tags": []
   },
   "outputs": [
    {
     "data": {
      "text/plain": [
       "np.int64(1)"
      ]
     },
     "execution_count": 12,
     "metadata": {},
     "output_type": "execute_result"
    }
   ],
   "source": [
    "# first file is a neutral review and is mapped to index 1 in target_names\n",
    "airline_tweets_data.target[0]"
   ]
  },
  {
   "cell_type": "markdown",
   "metadata": {},
   "source": [
    "We can find out what the index means by inserting it into **target_names**"
   ]
  },
  {
   "cell_type": "code",
   "execution_count": 13,
   "metadata": {
    "tags": []
   },
   "outputs": [
    {
     "data": {
      "text/plain": [
       "'neutral'"
      ]
     },
     "execution_count": 13,
     "metadata": {},
     "output_type": "execute_result"
    }
   ],
   "source": [
    "airline_tweets_data.target_names[1]"
   ]
  },
  {
   "cell_type": "markdown",
   "metadata": {},
   "source": [
    "How many do we have for each category? We can use the **Counter** package in Python to get statistics from the target structure by counting each category value and displaying the category using the index. The **Counter** function takes as input a list, so we give it the sequence of labels and let it count.\n",
    "\n",
    "**Counter** returns a list of pairs with the counted item and its frequency. We create a for loop over this list and for each item, we get the item and the count. Next, we print the item, which is the numeric representation of the category, the name of the category that we get from `target_names`, and the frequency count."
   ]
  },
  {
   "cell_type": "code",
   "execution_count": 14,
   "metadata": {
    "tags": []
   },
   "outputs": [
    {
     "name": "stdout",
     "output_type": "stream",
     "text": [
      "<class 'collections.Counter'>\n",
      "1 neutral 1515\n",
      "2 positive 1490\n",
      "0 negative 1750\n"
     ]
    }
   ],
   "source": [
    "from collections import Counter\n",
    "\n",
    "freqs = Counter(airline_tweets_data.target)\n",
    "print(type(freqs))\n",
    "\n",
    "## a Counter object consists of items which are pairs with an element and its count\n",
    "for item, frequency in freqs.items():\n",
    "    print(item, airline_tweets_data.target_names[item], frequency)"
   ]
  },
  {
   "cell_type": "markdown",
   "metadata": {},
   "source": [
    "We can see that the data are more or less equally distributed over the three categories, which is good!"
   ]
  },
  {
   "cell_type": "markdown",
   "metadata": {},
   "source": [
    "Think about how the data was structured in terms of subfolders that represent the label names and a collection of texts distributed over the corresponding folders. You could create such a data set yourself easily. Subfolders could be emotion labels, text topic labels, or any other label that you want to associate with a text. You just need to find sufficient examples to train and test a classifier.\n",
    "\n",
    "Next, we will represent the text such that a machine learning system can handle them and associate with interpretation labels.\n",
    "To do so, we create a **numeric** representation of the text that is called a **Bag-of-Words**. In this representation, the order of the words does not matter, but just the words that occur in it. This representation looses information but generalises well to other unseen texts."
   ]
  },
  {
   "cell_type": "markdown",
   "metadata": {},
   "source": [
    "## Extracting a Bag-of-Words text representations from the data"
   ]
  },
  {
   "cell_type": "markdown",
   "metadata": {},
   "source": [
    "We loaded a data set as instances of the object <class 'sklearn.utils.Bunch'>. Next, we are going to use the **CountVectorizer** function to process the text data and to create a **Bag-of-Words** presentation as we have done in the previous notebook 3.1 for the toy data. We define an instance of CountVectorizer for the data set and set a number of parameters that define the model:\n",
    "\n",
    "* `min_df`: a frequency threshold below which words are ignored to represent a document\n",
    "* `max_df`: a frequency threshold above which words are ignored to represent a document\n",
    "* `tokenizer`: a tokenizer that determines what the words are in a text (a.o. separating punctuation from words)\n",
    "* `stop_words`: an explicit list of words to be excluded from the representation\n",
    "\n",
    "These parameter settings can be adapted to create a different model. Increasing the `min_df` threshold and lowering the `max_df` threshold mean less words to represent a document. In general, words that only occur once poorly generalise to other data and words that always occur in all texts poorly discriminate between different texts. Furthermore, stop word lists are often derived from large text collections taking the most frequent words, which may boil down to set a `max_df` threshold. However, this is not always the case and you could add specific words yourself to remove noisy or disturbing words from the model.\n",
    "\n",
    "As a language technology engineer, you need to think about these parameter settings in relation to properties of the texts and the interpretation labels. These are considerations that may be relevant:\n",
    "\n",
    "* Which words are excluded by setting thresholds or using stopwords and how relevant are these for the interpretation labels?\n",
    "* Which words occur a lot and do not convey information for my labels?\n",
    "\n",
    "By experimenting with the parameters, you may tune a model to your texts and your interpretations. For example, words such as \"not\", \"should\", \"will\", \"want\", etc. may be very frequent in certain text and not others. They may be important for sentiment and emotion detection but not for determining the topic of a text."
   ]
  },
  {
   "cell_type": "markdown",
   "metadata": {},
   "source": [
    "In the current notebook, we set a minimal threshold `min_df=2`. We also use **nltk** to tokenize the text and provide a stop word list:"
   ]
  },
  {
   "cell_type": "code",
   "execution_count": 45,
   "metadata": {
    "tags": []
   },
   "outputs": [],
   "source": [
    "# initialize airline_vec object, and then turn airline tweets train data into a vector \n",
    "\n",
    "airline_vec = CountVectorizer(min_df=2, # If a token appears fewer times than this, across all documents, it will be ignored\n",
    "                             tokenizer=nltk.word_tokenize, # we use the nltk tokenizer\n",
    "                             stop_words=stopwords.words('english')) # stopwords are removed"
   ]
  },
  {
   "cell_type": "markdown",
   "metadata": {},
   "source": [
    "We now created a specific instance `airline_vec` of the **CountVectorizer** with the parameter settings. You could create other instances with different settings. We can use **airline_vec** to generate a vector representation from our texts and count how often which words ocurred in each text. \n",
    "\n",
    "**To recap:**\n",
    "The vector representation reserves position in the list for each word in the complete data set that matches the parameter conditions. If there are only 5 words, it is a vector of five positions. When initialised it will contain five zeros: `[0,0,0,0,0]`. Each document is then represented by counting how frequent each of these words occurs in the text, replacing the zeros by the counts if these words are present. If words do not occur the counts remain zero."
   ]
  },
  {
   "cell_type": "markdown",
   "metadata": {},
   "source": [
    "In order to represent each document in terms of such a vector derived from the complete data set, we use the ```fit_transform``` function to generate a matrix of documents (rows) and  vector representations for each document. The function counts how frequently each word occurs in each document and updates the corresponding positions in each vector (row). This creates the **Bag-of-Words** (BoW) representation of the document."
   ]
  },
  {
   "cell_type": "markdown",
   "metadata": {},
   "source": [
    "Note: you might get a warning when you run the following cell. You do NOT have to resolve the warning. It is just a suggestion to extend the stop words list."
   ]
  },
  {
   "cell_type": "code",
   "execution_count": 46,
   "metadata": {
    "tags": []
   },
   "outputs": [
    {
     "name": "stderr",
     "output_type": "stream",
     "text": [
      "/Users/piek/Desktop/t-MA-HLT-introduction-2024/ma-hlt-labs/venv/lib/python3.10/site-packages/sklearn/feature_extraction/text.py:406: UserWarning: Your stop_words may be inconsistent with your preprocessing. Tokenizing the stop words generated tokens [\"'d\", \"'ll\", \"'re\", \"'s\", \"'ve\", 'could', 'might', 'must', \"n't\", 'need', 'sha', 'wo', 'would'] not in stop_words.\n",
      "  warnings.warn(\n"
     ]
    }
   ],
   "source": [
    "airline_counts = airline_vec.fit_transform(airline_tweets_data.data)"
   ]
  },
  {
   "cell_type": "markdown",
   "metadata": {},
   "source": [
    "We have now created a vector representation *airline_counts* using the instance **airline_vec** based on the parameters settings applied to the vocabulary of the full data set. Every position in this vector represents a unique word from the dataset that matched the parameter settings. These vector positions make up the `dimensions` of the model."
   ]
  },
  {
   "cell_type": "code",
   "execution_count": 47,
   "metadata": {
    "tags": []
   },
   "outputs": [
    {
     "name": "stdout",
     "output_type": "stream",
     "text": [
      "Total number of words in our vectors, which represent dimensions in the model: 2907\n"
     ]
    }
   ],
   "source": [
    "#Total number of word features or the length of the total vector\n",
    "print('Total number of words in our vectors, which represent dimensions in the model:', len(airline_vec.vocabulary_))"
   ]
  },
  {
   "cell_type": "code",
   "execution_count": 48,
   "metadata": {
    "tags": []
   },
   "outputs": [
    {
     "name": "stdout",
     "output_type": "stream",
     "text": [
      "['!', '#', '$', '%', '&', \"'\", \"''\", \"'d\", \"'ll\", \"'m\", \"'re\", \"'s\", \"'various\", \"'ve\", '(', ')', '*', '+', '+1', '-', '--', '-/', '.', '..', '...', '....', '.....', '.50', '/', '//t.co/8wbzorrn3c', '//t.co/aqjn4hwnac', '//t.co/f2lfulcbq7', '0', '1', '1.', '1.5', '1.75', '1/2', '10', '10-24', '100', '100+', '1000', '103', '1051', '1071', '10:30', '10:55', '11', '1142']\n"
     ]
    }
   ],
   "source": [
    "# First 50 feature names\n",
    "print(list(airline_vec.get_feature_names_out())[:50])"
   ]
  },
  {
   "cell_type": "code",
   "execution_count": 49,
   "metadata": {
    "tags": []
   },
   "outputs": [
    {
     "data": {
      "text/plain": [
       "1953"
      ]
     },
     "execution_count": 49,
     "metadata": {},
     "output_type": "execute_result"
    }
   ],
   "source": [
    "# 'plane' is found in the corpus, mapped to index 1948\n",
    "airline_vec.vocabulary_.get('plane')"
   ]
  },
  {
   "cell_type": "markdown",
   "metadata": {},
   "source": [
    "Try to change the parameter settings and run the cells again to see what happens to the vocabulary of airline_vec."
   ]
  },
  {
   "cell_type": "markdown",
   "metadata": {},
   "source": [
    "So **airline_counts** represents the data according to the model defined in **airline_vec**.\n",
    "We can now inspect its dimensions as a feature array by getting the shape: the rows (documents) and columns (the word vector length)."
   ]
  },
  {
   "cell_type": "code",
   "execution_count": 50,
   "metadata": {
    "tags": []
   },
   "outputs": [
    {
     "data": {
      "text/plain": [
       "(4755, 2907)"
      ]
     },
     "execution_count": 50,
     "metadata": {},
     "output_type": "execute_result"
    }
   ],
   "source": [
    "# large dimensions! 4,755 documents, 2902 unique terms. \n",
    "airline_counts.shape"
   ]
  },
  {
   "cell_type": "markdown",
   "metadata": {},
   "source": [
    "We see that we have 4,755 text instances (rows) with each a vector array of 2907 positions (columns)."
   ]
  },
  {
   "cell_type": "markdown",
   "metadata": {},
   "source": [
    "We can convert the matrix to an array and get the 30th element `datarow=30` and look at the vector values for slots `[10:100]` out of the 653 dimensions in total:"
   ]
  },
  {
   "cell_type": "code",
   "execution_count": 51,
   "metadata": {
    "tags": []
   },
   "outputs": [
    {
     "name": "stdout",
     "output_type": "stream",
     "text": [
      "[0 0 0 0 0 0 0 0 0 0 0 0 0 0 0 0 0 0 0 0 0 0 0 0 0 0 0 0 1 0 0 0 0 0 0 0 0\n",
      " 0 0 0 0 0 0 0 0 0 0 0 0 0 0 0 0 0 0 0 0 0 0 0 0 0 0 0 0 0 0 0 0 0 0 0 0 0\n",
      " 0 0 0 0 0 0 0 0 0 0 0 0 0 0 0 0]\n"
     ]
    }
   ],
   "source": [
    "datarow = 30\n",
    "print(airline_counts.toarray()[datarow][10:100])"
   ]
  },
  {
   "cell_type": "markdown",
   "metadata": {},
   "source": [
    "We can see that most values are zeros and few have the value 1. This is what we call a *sparse vector*. If you change the parameter settings when creating **airline_vec** to use more words, the vector becomes larger and more words of a text are represented. The question is whether these words are also useful, e.g. sufficiently shared across different documents."
   ]
  },
  {
   "cell_type": "markdown",
   "metadata": {},
   "source": [
    "As we have seen in the previous Lab, we can also transform the counts into information value scores using the *TfidfTransformer* function ```fit_transform```."
   ]
  },
  {
   "cell_type": "code",
   "execution_count": 52,
   "metadata": {
    "tags": []
   },
   "outputs": [],
   "source": [
    "# Convert raw frequency counts into TF-IDF values\n",
    "airline_tfidf_transformer = TfidfTransformer()\n",
    "airline_tfidf = airline_tfidf_transformer.fit_transform(airline_counts)"
   ]
  },
  {
   "cell_type": "markdown",
   "metadata": {},
   "source": [
    "Obviously the shape remains the same but the values for the previous example are now weighted scores between zero and one."
   ]
  },
  {
   "cell_type": "code",
   "execution_count": 53,
   "metadata": {
    "tags": []
   },
   "outputs": [
    {
     "name": "stdout",
     "output_type": "stream",
     "text": [
      "(4755, 2907)\n",
      "[0.         0.         0.         0.         0.         0.\n",
      " 0.         0.         0.         0.         0.         0.\n",
      " 0.         0.         0.         0.         0.         0.\n",
      " 0.         0.         0.         0.         0.         0.\n",
      " 0.         0.         0.         0.         0.33609914 0.\n",
      " 0.         0.         0.         0.         0.         0.\n",
      " 0.         0.         0.         0.         0.         0.\n",
      " 0.         0.         0.         0.         0.         0.\n",
      " 0.         0.         0.         0.         0.         0.\n",
      " 0.         0.         0.         0.         0.         0.\n",
      " 0.         0.         0.         0.         0.         0.\n",
      " 0.         0.         0.         0.         0.         0.\n",
      " 0.         0.         0.         0.         0.         0.\n",
      " 0.         0.         0.         0.         0.         0.\n",
      " 0.         0.         0.         0.         0.         0.        ]\n"
     ]
    }
   ],
   "source": [
    "# Same dimensions, now with tf-idf values instead of raw frequency counts\n",
    "print(airline_tfidf.shape)\n",
    "# we print values 10:100 for datarow \n",
    "print(airline_tfidf.toarray()[datarow][10:100])"
   ]
  },
  {
   "cell_type": "markdown",
   "metadata": {},
   "source": [
    "## Training and testing a Naive Bayes classifier for airline tweets"
   ]
  },
  {
   "cell_type": "markdown",
   "metadata": {},
   "source": [
    "We can now use the above data representation as data to train and test a classifier. To train the classifier, we are first going to split the data into a test and train part. **Sklearn** has a built-in function for this that we need to import."
   ]
  },
  {
   "cell_type": "markdown",
   "metadata": {
    "tags": []
   },
   "source": [
    "#### Splitting the data into train and test"
   ]
  },
  {
   "cell_type": "code",
   "execution_count": 54,
   "metadata": {
    "tags": []
   },
   "outputs": [],
   "source": [
    "# Split data into training and test sets\n",
    "from sklearn.model_selection import train_test_split"
   ]
  },
  {
   "cell_type": "markdown",
   "metadata": {},
   "source": [
    "The **train_test_split** function takes as input paramters the full data set as a list of vectors, the labels in the corresponding order and the proportion of the test set out of the total data set. It then returns the proportion of training data, test data, training labels and test labels in this order. We need to catch the output in four variables: ```docs_train```, ```docs_test```, ```human_labels_train```, ```human_labels_test```. We choose 80% training and 20% test and assign the output to four coresponding variables."
   ]
  },
  {
   "cell_type": "code",
   "execution_count": 55,
   "metadata": {
    "tags": []
   },
   "outputs": [],
   "source": [
    "docs_train, docs_test, human_labels_train, human_labels_test = train_test_split(\n",
    "    airline_tfidf, # the tf-idf model derived from all the data \n",
    "    airline_tweets_data.target, # the labels for all the data\n",
    "    test_size = 0.20 # we use 80% for training and 20% for development\n",
    "    ) "
   ]
  },
  {
   "cell_type": "markdown",
   "metadata": {},
   "source": [
    "We now find our training texts in *docs_train* and our test texts in *docs_test*. The corresponding sequence of labels for training are in *human_labels_train*, and those for testing are in *human_labels_test*."
   ]
  },
  {
   "cell_type": "code",
   "execution_count": 56,
   "metadata": {
    "tags": []
   },
   "outputs": [
    {
     "name": "stdout",
     "output_type": "stream",
     "text": [
      "Training texts: 3804\n",
      "Training labels: 3804\n",
      "Test texts: 951\n",
      "Test labels: 951\n"
     ]
    }
   ],
   "source": [
    "print(\"Training texts:\", len(docs_train.toarray()))\n",
    "print(\"Training labels:\", len(human_labels_train))\n",
    "print(\"Test texts:\", len(docs_test.toarray()))\n",
    "print(\"Test labels:\", len(human_labels_test))"
   ]
  },
  {
   "cell_type": "markdown",
   "metadata": {},
   "source": [
    "We see that we have an equal number of texts and labels for train and test. The values should be in the right order.\n",
    "\n",
    "One training instance looks like this:"
   ]
  },
  {
   "cell_type": "code",
   "execution_count": 57,
   "metadata": {
    "tags": []
   },
   "outputs": [
    {
     "data": {
      "text/plain": [
       "array([0.        , 0.        , 0.        , 0.50884755, 0.        ,\n",
       "       0.        , 0.        , 0.        , 0.        , 0.        ,\n",
       "       0.        , 0.        , 0.        , 0.        , 0.        ,\n",
       "       0.        , 0.        , 0.        , 0.        , 0.        ,\n",
       "       0.        , 0.        , 0.        , 0.        , 0.        ,\n",
       "       0.        , 0.        , 0.        , 0.        , 0.        ,\n",
       "       0.        , 0.        , 0.        , 0.        , 0.        ,\n",
       "       0.        , 0.        , 0.        , 0.        , 0.        ,\n",
       "       0.        , 0.        , 0.        , 0.        , 0.        ,\n",
       "       0.        , 0.        , 0.        , 0.        , 0.        ,\n",
       "       0.        , 0.        , 0.        , 0.        , 0.        ,\n",
       "       0.        , 0.        , 0.        , 0.        , 0.        ,\n",
       "       0.        , 0.        , 0.        , 0.        , 0.        ,\n",
       "       0.        , 0.        , 0.        , 0.        , 0.        ,\n",
       "       0.        , 0.        , 0.        , 0.        , 0.        ,\n",
       "       0.        , 0.        , 0.        , 0.        , 0.        ,\n",
       "       0.        , 0.        , 0.        , 0.        , 0.        ,\n",
       "       0.        , 0.        , 0.        , 0.        , 0.        ])"
      ]
     },
     "execution_count": 57,
     "metadata": {},
     "output_type": "execute_result"
    }
   ],
   "source": [
    "docs_train[55].toarray()[0][10:100]"
   ]
  },
  {
   "cell_type": "markdown",
   "metadata": {},
   "source": [
    "it's label is:"
   ]
  },
  {
   "cell_type": "code",
   "execution_count": 58,
   "metadata": {
    "tags": []
   },
   "outputs": [
    {
     "data": {
      "text/plain": [
       "np.int64(2)"
      ]
     },
     "execution_count": 58,
     "metadata": {},
     "output_type": "execute_result"
    }
   ],
   "source": [
    "human_labels_train[55]"
   ]
  },
  {
   "cell_type": "markdown",
   "metadata": {},
   "source": [
    "which we know is:"
   ]
  },
  {
   "cell_type": "code",
   "execution_count": 59,
   "metadata": {
    "tags": []
   },
   "outputs": [
    {
     "data": {
      "text/plain": [
       "'positive'"
      ]
     },
     "execution_count": 59,
     "metadata": {},
     "output_type": "execute_result"
    }
   ],
   "source": [
    "airline_tweets_data.target_names[human_labels_train[55]]"
   ]
  },
  {
   "cell_type": "markdown",
   "metadata": {},
   "source": [
    "#### Training a **NaiveBayes** classifier"
   ]
  },
  {
   "cell_type": "markdown",
   "metadata": {},
   "source": [
    "Now that we separated the train and test data, we can train a model. **Sklearn** provides a large variety of classifiers. We will use here a *NaiveBayes* classifier. A NaiveBayes (NB) classifier is a so-called generative classifier that learns the probablity of a word given a category. By assessing the probability of words for a text, it can aggregate how likely a text is for a category. You will learn more about this type of classifier in the machine learning course. For now it is enough to know that NB works reasonably for smaller data sets and with little training.\n",
    "\n",
    "Because we have multiple labels (negative, positive, neutral) and therefore are dealing with 3 classes, we need a *multinomial classifier*."
   ]
  },
  {
   "cell_type": "code",
   "execution_count": 60,
   "metadata": {
    "tags": []
   },
   "outputs": [],
   "source": [
    "# Now ready to build a classifier. \n",
    "# We will use Multinomial NaiveBayes as our model\n",
    "from sklearn.naive_bayes import MultinomialNB"
   ]
  },
  {
   "cell_type": "markdown",
   "metadata": {},
   "source": [
    "**Sklearn** classifiers have a generic **fit** function that takes as input the training data and the human-assigned labels."
   ]
  },
  {
   "cell_type": "code",
   "execution_count": 61,
   "metadata": {
    "tags": []
   },
   "outputs": [],
   "source": [
    "# Train a Multimoda Naive Bayes classifier\n",
    "airline_tweets_clf = MultinomialNB().fit(docs_train, human_labels_train)"
   ]
  },
  {
   "cell_type": "markdown",
   "metadata": {},
   "source": [
    "#### Applying the classifier to the test data to generate predictions"
   ]
  },
  {
   "cell_type": "markdown",
   "metadata": {},
   "source": [
    "After training the classifier, we can apply it to test data that is represented in the same way. For this we use the *predict* function."
   ]
  },
  {
   "cell_type": "code",
   "execution_count": 62,
   "metadata": {
    "tags": []
   },
   "outputs": [],
   "source": [
    "# Predicting the Test set results, find macro recall\n",
    "system_labels_pred = airline_tweets_clf.predict(docs_test)"
   ]
  },
  {
   "cell_type": "markdown",
   "metadata": {},
   "source": [
    "We can now print each test tweet and get the corresponding prediction."
   ]
  },
  {
   "cell_type": "code",
   "execution_count": 63,
   "metadata": {
    "tags": []
   },
   "outputs": [
    {
     "name": "stdout",
     "output_type": "stream",
     "text": [
      "Tweet number: 3823\n",
      "The test tweet: b'\"Bruh...real tweet from @JetBlue \"\"Our fleet\\'s on fleek. http://t.co/dqny4aKTg9\"\"\"'\n",
      "The test tweet representation, showing dimensions 10:100: [0. 0. 0. 0. 0. 0. 0. 0. 0. 0. 0. 0. 0. 0. 0. 0. 0. 0. 0. 0. 0. 0. 0. 0.\n",
      " 0. 0. 0. 0. 0. 0. 0. 0. 0. 0. 0. 0. 0. 0. 0. 0. 0. 0. 0. 0. 0. 0. 0. 0.\n",
      " 0. 0. 0. 0. 0. 0. 0. 0. 0. 0. 0. 0. 0. 0. 0. 0. 0. 0. 0. 0. 0. 0. 0. 0.\n",
      " 0. 0. 0. 0. 0. 0. 0. 0. 0. 0. 0. 0. 0. 0. 0. 0. 0. 0.]\n",
      "The gold label: 1\n",
      "The classifier predicted: 1\n"
     ]
    }
   ],
   "source": [
    "test_item = 20\n",
    "#### we need to get the text from the original text data before we did the split.\n",
    "#### Remember that the nTH item in an array has an index of n-1 because we start the index with zero.\n",
    "#### Likewise, we take the length of the training data minus 1, to find the start of the test data.\n",
    "data_index = len(docs_train.toarray())-1+test_item\n",
    "print('Tweet number:', data_index)\n",
    "print('The test tweet:', airline_tweets_data.data[data_index])\n",
    "print('The test tweet representation, showing dimensions 10:100:', docs_test[test_item-1].toarray()[0][10:100])\n",
    "print('The gold label:', human_labels_test[test_item-1])\n",
    "print('The classifier predicted:', system_labels_pred[test_item-1])"
   ]
  },
  {
   "cell_type": "markdown",
   "metadata": {},
   "source": [
    "Obviously to evaluate the performance it is a lot easier to use the evaluation metrics built in **sklearn**."
   ]
  },
  {
   "cell_type": "markdown",
   "metadata": {},
   "source": [
    "### Measuring the quality of the system output against the human labels"
   ]
  },
  {
   "cell_type": "markdown",
   "metadata": {},
   "source": [
    "Sklearn provides functions to obtain the **recall**, **precision** and **f-score** for all the test set results. We can simply pass the human labels and the system labels as input and set a parameter how to aggregate the overall score. The ```classification_report``` function gives the complete result:"
   ]
  },
  {
   "cell_type": "code",
   "execution_count": 64,
   "metadata": {
    "tags": []
   },
   "outputs": [
    {
     "name": "stdout",
     "output_type": "stream",
     "text": [
      "              precision    recall  f1-score   support\n",
      "\n",
      "    negative      0.834     0.914     0.872       347\n",
      "     neutral      0.867     0.706     0.778       313\n",
      "    positive      0.829     0.900     0.863       291\n",
      "\n",
      "    accuracy                          0.841       951\n",
      "   macro avg      0.843     0.840     0.838       951\n",
      "weighted avg      0.843     0.841     0.838       951\n",
      "\n"
     ]
    }
   ],
   "source": [
    "from sklearn.metrics import classification_report\n",
    "labels=[\"negative\", \"neutral\", \"positive\"]\n",
    "\n",
    "report = classification_report(human_labels_test, system_labels_pred, digits = 3, target_names = labels)\n",
    "print(report)"
   ]
  },
  {
   "cell_type": "markdown",
   "metadata": {},
   "source": [
    "Whenever you generate a report such as this, not only consider the overall performance such as **accuracy** or (macro/weighted) average **f1-score** but also the results per category and what the relation is between **recall** and **precision**. Ideally, recall and precision are balanced but if they deviate it is worth thinking about the causes. Furthermore, what works for some cateories does not work for others and categories compete with each other. Some good causes for unbalanced or poor results are:\n",
    "\n",
    "<ol>\n",
    "<li>Not enough training data to capture all <b>variation</b> in the test data\n",
    "<li>Biased training data that makes one category stronger than the other(s)\n",
    "<li>Too much <b>ambiguity</b> so that words (as features) get different interpretations in different contexts\n",
    "<li>Over-fitting to the training data so that it learns features that do not generalise to the test data\n",
    "</ol>\n",
    "\n",
    "During this master programme, you will work with many different data sets and analyse the performance of classifiers. Analysing different data, experimenting with text representations and machine learning algorithms is the best way to learn about possible causes and how to mitigate them."
   ]
  },
  {
   "cell_type": "markdown",
   "metadata": {},
   "source": [
    "Creating a confusion matrix is the first step in understanding the behaviour of a classifier model. For this we use the sklearn.metrics functions *confusion_matrix* and *ConfusionMatricxDisplay*:"
   ]
  },
  {
   "cell_type": "code",
   "execution_count": 65,
   "metadata": {
    "tags": []
   },
   "outputs": [
    {
     "name": "stdout",
     "output_type": "stream",
     "text": [
      "[[317  20  10]\n",
      " [ 48 221  44]\n",
      " [ 15  14 262]]\n"
     ]
    }
   ],
   "source": [
    "from sklearn.metrics import confusion_matrix\n",
    "matrix = confusion_matrix(human_labels_test, system_labels_pred)\n",
    "print(matrix)"
   ]
  },
  {
   "cell_type": "code",
   "execution_count": 66,
   "metadata": {
    "tags": []
   },
   "outputs": [
    {
     "data": {
      "text/plain": [
       "<sklearn.metrics._plot.confusion_matrix.ConfusionMatrixDisplay at 0x1191870a0>"
      ]
     },
     "execution_count": 66,
     "metadata": {},
     "output_type": "execute_result"
    },
    {
     "data": {
      "image/png": "[encoded data removed]",
      "text/plain": [
       "<Figure size 640x480 with 2 Axes>"
      ]
     },
     "metadata": {},
     "output_type": "display_data"
    }
   ],
   "source": [
    "from sklearn.metrics import ConfusionMatrixDisplay\n",
    "import matplotlib.pyplot as plt\n",
    "display = ConfusionMatrixDisplay(confusion_matrix=matrix, display_labels=labels)\n",
    "display.plot()"
   ]
  },
  {
   "cell_type": "markdown",
   "metadata": {},
   "source": [
    "We can see here that by far most test cases are classified correctly. There is some spill over to other categories but no significant differences. Most notably is the confusion of \"negative\" and \"positive\" with \"neutral\" cases (48and 44 respectively). This is in line with the precision/recall/f-score results, where \"neutral\" has lower recall.\n",
    "\n",
    "The results are reasonable but one of the things you may want to try is to resolve the false positives of the \"negative\" and \"positive\" class so that the recall of \"neutral\" increases. To find out which words cause this, you need to do an error analysis into these false positive test cases: predicted \"negative\"/\"positive\" but the true label was \"neutral\"."
   ]
  },
  {
   "cell_type": "markdown",
   "metadata": {
    "tags": []
   },
   "source": [
    "### The train, develop and test paradigm"
   ]
  },
  {
   "cell_type": "markdown",
   "metadata": {},
   "source": [
    "Note that in practice, results are often more obscure than you see here and you need to work on balancing recall and precision across the different categories. While doing that realise that a scientific approach should **NOT** optimize the model for the test set but on a development set.\n",
    "\n",
    "Once you found the optimal model settings while testing and analysing the development set, you run a single and final evaluation on the test set. The independent test results count and is what you should report in a scientific publication.\n",
    "\n",
    "In this notebook, we only made a split between train and test. To do this propertly, we should split into train (80%), test (10%) and developemnt (10%) sets."
   ]
  },
  {
   "cell_type": "markdown",
   "metadata": {},
   "source": [
    "## Applying the airline tweets classifier on your own data\n",
    "\n",
    "Instead of the test set, we can apply our classifier to any other text data as well. Let's type a few potential tweets."
   ]
  },
  {
   "cell_type": "code",
   "execution_count": 67,
   "metadata": {
    "tags": []
   },
   "outputs": [
    {
     "data": {
      "text/plain": [
       "11"
      ]
     },
     "execution_count": 67,
     "metadata": {},
     "output_type": "execute_result"
    }
   ],
   "source": [
    "# very short and fake movie reviews\n",
    "my_reviews = ['This movie was excellent', \n",
    "               'Absolute joy ride', \n",
    "               'Steven Seagal was terrible', \n",
    "               'Steven Seagal shined through.', \n",
    "               'This was certainly a movie', \n",
    "               'Two thumbs up', \n",
    "               'I fell asleep halfway through', \n",
    "               \"We can't wait for the sequel!!\", \n",
    "               'I cannot recommend this highly enough', \n",
    "               'instant classic.', \n",
    "               'Steven Seagal was amazing.']\n",
    "len(my_reviews)"
   ]
  },
  {
   "cell_type": "markdown",
   "metadata": {},
   "source": [
    "To be able to apply our model to these texts, we need to represent the text using the same vector dimensions (columns!) as we used for training the model.\n",
    "\n",
    "The sklearn transformer function does this work for you using the ```transform``` function. This function uses the vector model from the training data. Note that these vectors only have a position for every word in the training data. So we cannot represent words that do not occur outside the training data, so-called Out-of-Vocabulary (OoV) words. Technically, we do not need to worry because the **transform** function will take care of this but you can imagine that texts that are very different from the training data will be represented poorly by the model."
   ]
  },
  {
   "cell_type": "code",
   "execution_count": 68,
   "metadata": {},
   "outputs": [],
   "source": [
    "# We re-use airline_vec to transform it in the same way as the training data\n",
    "my_review_counts = airline_vec.transform(my_reviews)"
   ]
  },
  {
   "cell_type": "markdown",
   "metadata": {},
   "source": [
    "To check the representation, we can ask for the shape of the matrix to see if we have the correct number of dimensions."
   ]
  },
  {
   "cell_type": "code",
   "execution_count": 69,
   "metadata": {
    "tags": []
   },
   "outputs": [
    {
     "data": {
      "text/plain": [
       "(11, 2907)"
      ]
     },
     "execution_count": 69,
     "metadata": {},
     "output_type": "execute_result"
    }
   ],
   "source": [
    "my_review_counts.shape"
   ]
  },
  {
   "cell_type": "markdown",
   "metadata": {},
   "source": [
    "We can see that the shape of our matrix represents 11 rows using the vectors with as many dimensions as words selected from the training data.\n",
    "\n",
    "Using the **fit_transform** function instead of **transform** for our tweets, would create a whole new model from our 11 tweets and destroy our training model."
   ]
  },
  {
   "cell_type": "code",
   "execution_count": 70,
   "metadata": {
    "tags": []
   },
   "outputs": [
    {
     "name": "stderr",
     "output_type": "stream",
     "text": [
      "/Users/piek/Desktop/t-MA-HLT-introduction-2024/ma-hlt-labs/venv/lib/python3.10/site-packages/sklearn/feature_extraction/text.py:521: UserWarning: The parameter 'token_pattern' will not be used since 'tokenizer' is not None'\n",
      "  warnings.warn(\n"
     ]
    },
    {
     "data": {
      "text/plain": [
       "(11, 4)"
      ]
     },
     "execution_count": 70,
     "metadata": {},
     "output_type": "execute_result"
    }
   ],
   "source": [
    "#### NEVER DO THE FOLLOWING ON TEST DATA\n",
    "bad_my_review_counts = airline_vec.fit_transform(my_reviews)\n",
    "bad_my_review_counts.shape"
   ]
  },
  {
   "cell_type": "markdown",
   "metadata": {},
   "source": [
    "If you did the above depending on the paramter settings of your ```airline_vec```, you will get either no or only a few dimensions because the CountVectorizer created complete new vector representations using our settings: min_df=2,tokenizer=nltk.word_tokenize, stop_words=stopwords.words('english'). The vector only represents words from my_reviews and this representation is incompatible with our trained model. So we cannot use this representation!!\n",
    "\n",
    "This is a mistake you are likely to make. Remember:\n",
    "\n",
    "1. build a vectore representation from the features from the training data: use **fit** or **fit_transform** with your defined CountVectorizer instance\n",
    "2. train a classifier from these representation using the **fit** function\n",
    "3. always, always use the **transform** function from your defined CountVectorizer instance (which has been derived using the training data) to represent any other texts that you want to classify\n",
    "\n",
    "It is good practice to always use the **shape** function to check that the data has the same number of dimensions as the training data."
   ]
  },
  {
   "cell_type": "markdown",
   "metadata": {},
   "source": [
    "Assuming that our own review texts are now propery represented in *my_review_counts*, we can proceed with calculating **TF\\*IDF** values and use our trained classifier to make predictions on these representations."
   ]
  },
  {
   "cell_type": "code",
   "execution_count": 71,
   "metadata": {
    "tags": []
   },
   "outputs": [],
   "source": [
    "# we compute tf idf values\n",
    "my_reviews_tfidf = airline_tfidf_transformer.transform(my_review_counts)"
   ]
  },
  {
   "cell_type": "code",
   "execution_count": 72,
   "metadata": {
    "tags": []
   },
   "outputs": [
    {
     "data": {
      "text/plain": [
       "(11, 2907)"
      ]
     },
     "execution_count": 72,
     "metadata": {},
     "output_type": "execute_result"
    }
   ],
   "source": [
    "my_reviews_tfidf.shape"
   ]
  },
  {
   "cell_type": "markdown",
   "metadata": {},
   "source": [
    "These dimensions are correct so let's get the predictions:"
   ]
  },
  {
   "cell_type": "code",
   "execution_count": 73,
   "metadata": {
    "tags": []
   },
   "outputs": [],
   "source": [
    "# have classifier make a prediction\n",
    "pred_on_my_reviews = airline_tweets_clf.predict(my_reviews_tfidf)"
   ]
  },
  {
   "cell_type": "code",
   "execution_count": 74,
   "metadata": {
    "tags": []
   },
   "outputs": [
    {
     "name": "stdout",
     "output_type": "stream",
     "text": [
      "This movie was excellent => positive\n",
      "Absolute joy ride => positive\n",
      "Steven Seagal was terrible => negative\n",
      "Steven Seagal shined through. => negative\n",
      "This was certainly a movie => negative\n",
      "Two thumbs up => negative\n",
      "I fell asleep halfway through => neutral\n",
      "We can't wait for the sequel!! => negative\n",
      "I cannot recommend this highly enough => negative\n",
      "instant classic. => negative\n",
      "Steven Seagal was amazing. => positive\n"
     ]
    }
   ],
   "source": [
    "# print out results ()\n",
    "for review, predicted_label in zip(my_reviews, pred_on_my_reviews):\n",
    "    \n",
    "    print('%s => %s' % (review, \n",
    "                        airline_tweets_data.target_names[predicted_label]))"
   ]
  },
  {
   "cell_type": "markdown",
   "metadata": {},
   "source": [
    "Take a minute to see if these reviews are correctly classified. Obviously, the classifier was trained on airline tweets and not on tweets reviewing movies."
   ]
  },
  {
   "cell_type": "markdown",
   "metadata": {},
   "source": [
    "Obviously, you could manually create a list of the correct sentiments for each review and use the above **sklearn** metrics to evaluate the list of predictions with the manually created list. This would give an objective evaluation. In that case, the previous test set could be used as the development set and this independent data could represent the actual use case on which you want to test the classifier."
   ]
  },
  {
   "cell_type": "markdown",
   "metadata": {},
   "source": [
    "## Training another classifier with movie reviews"
   ]
  },
  {
   "cell_type": "markdown",
   "metadata": {},
   "source": [
    "Through the **load_files** function, we can easily load any text collection per category by putting them into separate subfolders. Let's try another one and go through the above procedure once again but now in a series of steps following a fixed recipe.\n",
    "\n",
    "Remember from the first Lab that some of the NLTK data is structured precisely in the same way as the airline tweets data, e.g. nltk_data/corpora/movie_reviews.\n",
    "\n",
    "Likewise, we can load this data in the same way using the ```load_files``` function. First adapt the path below to point to the location on your local laptop."
   ]
  },
  {
   "cell_type": "code",
   "execution_count": 79,
   "metadata": {
    "tags": []
   },
   "outputs": [
    {
     "name": "stdout",
     "output_type": "stream",
     "text": [
      "path: /Users/piek/nltk_data/corpora/movie_reviews\n",
      "this will print True if the folder exists: True\n"
     ]
    }
   ],
   "source": [
    "movie_reviews_folder = pathlib.Path.cwd().joinpath('/Users/piek/nltk_data/corpora/movie_reviews')\n",
    "print('path:', movie_reviews_folder)\n",
    "print('this will print True if the folder exists:', movie_reviews_folder.exists())"
   ]
  },
  {
   "cell_type": "code",
   "execution_count": 80,
   "metadata": {
    "tags": []
   },
   "outputs": [
    {
     "name": "stdout",
     "output_type": "stream",
     "text": [
      "<class 'sklearn.utils._bunch.Bunch'>\n",
      "['DESCR', 'data', 'filenames', 'target', 'target_names']\n",
      "Number of data items 2000\n",
      "Target names ['neg', 'pos']\n",
      "First data record b\"arnold schwarzenegger has been an icon for action enthusiasts , since the late 80's , but lately his films have been very sloppy and the one-liners are getting worse . \\nit's hard seeing arnold as mr . freeze in batman and robin , especially when he says tons of ice jokes , but hey he got 15 million , what's it matter to him ? \\nonce again arnold has signed to do another expensive blockbuster , that can't compare with the likes of the terminator series , true lies and even eraser . \\nin this so called dark thriller , the devil ( gabriel byrne ) has come upon earth , to impregnate a woman ( robin tunney ) which happens every 1000 years , and basically destroy the world , but apparently god has chosen one man , and that one man is jericho cane ( arnold himself ) . \\nwith the help of a trusty sidekick ( kevin pollack ) , they will stop at nothing to let the devil take over the world ! \\nparts of this are actually so absurd , that they would fit right in with dogma . \\nyes , the film is that weak , but it's better than the other blockbuster right now ( sleepy hollow ) , but it makes the world is not enough look like a 4 star film . \\nanyway , this definitely doesn't seem like an arnold movie . \\nit just wasn't the type of film you can see him doing . \\nsure he gave us a few chuckles with his well known one-liners , but he seemed confused as to where his character and the film was going . \\nit's understandable , especially when the ending had to be changed according to some sources . \\naside form that , he still walked through it , much like he has in the past few films . \\ni'm sorry to say this arnold but maybe these are the end of your action days . \\nspeaking of action , where was it in this film ? \\nthere was hardly any explosions or fights . \\nthe devil made a few places explode , but arnold wasn't kicking some devil butt . \\nthe ending was changed to make it more spiritual , which undoubtedly ruined the film . \\ni was at least hoping for a cool ending if nothing else occurred , but once again i was let down . \\ni also don't know why the film took so long and cost so much . \\nthere was really no super affects at all , unless you consider an invisible devil , who was in it for 5 minutes tops , worth the overpriced budget . \\nthe budget should have gone into a better script , where at least audiences could be somewhat entertained instead of facing boredom . \\nit's pitiful to see how scripts like these get bought and made into a movie . \\ndo they even read these things anymore ? \\nit sure doesn't seem like it . \\nthankfully gabriel's performance gave some light to this poor film . \\nwhen he walks down the street searching for robin tunney , you can't help but feel that he looked like a devil . \\nthe guy is creepy looking anyway ! \\nwhen it's all over , you're just glad it's the end of the movie . \\ndon't bother to see this , if you're expecting a solid action flick , because it's neither solid nor does it have action . \\nit's just another movie that we are suckered in to seeing , due to a strategic marketing campaign . \\nsave your money and see the world is not enough for an entertaining experience . \\n\"\n"
     ]
    }
   ],
   "source": [
    "movie_reviews_data = load_files(str(movie_reviews_folder))\n",
    "print(type(movie_reviews_data))\n",
    "print(dir(movie_reviews_data))\n",
    "print('Number of data items', len(movie_reviews_data.data))\n",
    "print('Target names', movie_reviews_data.target_names)\n",
    "print('First data record', movie_reviews_data.data[0])"
   ]
  },
  {
   "cell_type": "markdown",
   "metadata": {},
   "source": [
    "Given that you loaded your data in the above way, this is the text classification recipe:"
   ]
  },
  {
   "cell_type": "markdown",
   "metadata": {},
   "source": [
    "## Text classification recipe\n",
    "\n",
    "We proceed in seven simple steps:\n",
    "\n",
    "<ol>\n",
    "    <li>We create a CountVectorizer instance given the parameter settings \n",
    "    <li>We use the <b>fit_transform</b> function of the vectorizer to:\n",
    "        <ol>\n",
    "            <li>create vector representations for each selected word from the dataset\n",
    "            <li>represent each text as a vector based on the words counts in the document\n",
    "        </ol>\n",
    "    <li>We transfer the count values using <b>TfidfTransformer</b> to information values\n",
    "    <li>We split the data into train and test with their corresponding labels (maintaining the sequence!)\n",
    "    <li>We create a <b>MultinomialNB</b> classifier from the training data and their labels\n",
    "    <li>We apply the classifier on the test data\n",
    "    <li>We evaluate the test results by comparing the gold labels to the predicted labels\n",
    "</ol>\n",
    "\n",
    "You can use the above zeven steps as a **magic recipe** to create any type of text classifier."
   ]
  },
  {
   "cell_type": "markdown",
   "metadata": {
    "tags": []
   },
   "source": [
    "#### 1. Create an instance of the CountVectorizer defining the parameter settings"
   ]
  },
  {
   "cell_type": "code",
   "execution_count": 81,
   "metadata": {
    "tags": []
   },
   "outputs": [],
   "source": [
    "movie_vec = CountVectorizer(min_df=2, # If a token appears fewer times than this, across all documents, it will be ignored\n",
    "                             tokenizer=nltk.word_tokenize, # we use the nltk tokenizer\n",
    "                             stop_words=stopwords.words('english')) # stopwords are removed"
   ]
  },
  {
   "cell_type": "markdown",
   "metadata": {
    "tags": []
   },
   "source": [
    "#### 2. Model the data according the CountVectorizer instance"
   ]
  },
  {
   "cell_type": "markdown",
   "metadata": {},
   "source": [
    "Using this instance of CountVectorizer, we can now derive a new (and very different) vector representation from the movie_review data we loaded before. We use here the **fit_transform** function."
   ]
  },
  {
   "cell_type": "code",
   "execution_count": 82,
   "metadata": {
    "tags": []
   },
   "outputs": [
    {
     "name": "stderr",
     "output_type": "stream",
     "text": [
      "/Users/piek/Desktop/t-MA-HLT-introduction-2024/ma-hlt-labs/venv/lib/python3.10/site-packages/sklearn/feature_extraction/text.py:406: UserWarning: Your stop_words may be inconsistent with your preprocessing. Tokenizing the stop words generated tokens [\"'d\", \"'ll\", \"'re\", \"'s\", \"'ve\", 'could', 'might', 'must', \"n't\", 'need', 'sha', 'wo', 'would'] not in stop_words.\n",
      "  warnings.warn(\n"
     ]
    }
   ],
   "source": [
    "movie_counts = movie_vec.fit_transform(movie_reviews_data.data)"
   ]
  },
  {
   "cell_type": "markdown",
   "metadata": {},
   "source": [
    "#### 3. Transform the counts into TD*IDF values"
   ]
  },
  {
   "cell_type": "code",
   "execution_count": 83,
   "metadata": {
    "tags": []
   },
   "outputs": [],
   "source": [
    "movie_tfidf_transformer = TfidfTransformer()\n",
    "movie_tfidf = movie_tfidf_transformer.fit_transform(movie_counts)"
   ]
  },
  {
   "cell_type": "markdown",
   "metadata": {},
   "source": [
    "We can use **shape** to see how many rows and dimensions (columns) our matrix has."
   ]
  },
  {
   "cell_type": "code",
   "execution_count": 84,
   "metadata": {
    "tags": []
   },
   "outputs": [
    {
     "data": {
      "text/plain": [
       "(2000, 25139)"
      ]
     },
     "execution_count": 84,
     "metadata": {},
     "output_type": "execute_result"
    }
   ],
   "source": [
    "movie_tfidf.shape"
   ]
  },
  {
   "cell_type": "markdown",
   "metadata": {},
   "source": [
    "So this is a very different vector representation than derived from the airline tweets. Why is that?"
   ]
  },
  {
   "cell_type": "markdown",
   "metadata": {},
   "source": [
    "#### 4. Split the data and labels into train and test"
   ]
  },
  {
   "cell_type": "markdown",
   "metadata": {},
   "source": [
    "After representing all the data, we split it into train and test data with their according labels."
   ]
  },
  {
   "cell_type": "code",
   "execution_count": 85,
   "metadata": {
    "tags": []
   },
   "outputs": [],
   "source": [
    "movie_docs_train, movie_docs_test, movie_human_labels_train, movie_human_labels_test = train_test_split(\n",
    "    movie_tfidf, # the tf-idf model based on all the movie reviews\n",
    "    movie_reviews_data.target, # the movie review labels\n",
    "    test_size = 0.20 # we use 80% for training and 20% for development\n",
    "    ) "
   ]
  },
  {
   "cell_type": "code",
   "execution_count": 86,
   "metadata": {
    "tags": []
   },
   "outputs": [
    {
     "name": "stdout",
     "output_type": "stream",
     "text": [
      "Training texts: 1600\n",
      "Training labels: 1600\n",
      "Test texts: 400\n",
      "Test labels: 400\n"
     ]
    }
   ],
   "source": [
    "print(\"Training texts:\", len(movie_docs_train.toarray()))\n",
    "print(\"Training labels:\", len(movie_human_labels_train))\n",
    "print(\"Test texts:\", len(movie_docs_test.toarray()))\n",
    "print(\"Test labels:\", len(movie_human_labels_test))"
   ]
  },
  {
   "cell_type": "markdown",
   "metadata": {
    "tags": []
   },
   "source": [
    "#### 5. Train a classifier with the train data and labels"
   ]
  },
  {
   "cell_type": "code",
   "execution_count": 87,
   "metadata": {
    "tags": []
   },
   "outputs": [],
   "source": [
    "movie_review_clf = MultinomialNB().fit(movie_docs_train, movie_human_labels_train)"
   ]
  },
  {
   "cell_type": "markdown",
   "metadata": {},
   "source": [
    "#### 6. Apply the classifier to the test data to get the system predictions"
   ]
  },
  {
   "cell_type": "code",
   "execution_count": 88,
   "metadata": {
    "tags": []
   },
   "outputs": [],
   "source": [
    "# Predicting the Test set results, find macro recall\n",
    "system_labels_movie_pred = movie_review_clf.predict(movie_docs_test)"
   ]
  },
  {
   "cell_type": "markdown",
   "metadata": {},
   "source": [
    "#### 7. Evaluate the predictions on the test data against the gold labels"
   ]
  },
  {
   "cell_type": "code",
   "execution_count": 89,
   "metadata": {
    "tags": []
   },
   "outputs": [
    {
     "name": "stdout",
     "output_type": "stream",
     "text": [
      "              precision    recall  f1-score   support\n",
      "\n",
      "    negative      0.820     0.897     0.856       203\n",
      "    positive      0.882     0.797     0.837       197\n",
      "\n",
      "    accuracy                          0.848       400\n",
      "   macro avg      0.851     0.847     0.847       400\n",
      "weighted avg      0.850     0.848     0.847       400\n",
      "\n"
     ]
    }
   ],
   "source": [
    "from sklearn.metrics import classification_report\n",
    "movie_labels=[\"negative\", \"positive\"]\n",
    "\n",
    "report = classification_report(movie_human_labels_test, system_labels_movie_pred, digits = 3, target_names = movie_labels)\n",
    "print(report)"
   ]
  },
  {
   "cell_type": "code",
   "execution_count": 90,
   "metadata": {
    "tags": []
   },
   "outputs": [
    {
     "data": {
      "text/plain": [
       "<sklearn.metrics._plot.confusion_matrix.ConfusionMatrixDisplay at 0x119473ee0>"
      ]
     },
     "execution_count": 90,
     "metadata": {},
     "output_type": "execute_result"
    },
    {
     "data": {
      "image/png": "[encoded data removed]",
      "text/plain": [
       "<Figure size 640x480 with 2 Axes>"
      ]
     },
     "metadata": {},
     "output_type": "display_data"
    }
   ],
   "source": [
    "from sklearn.metrics import confusion_matrix\n",
    "from sklearn.metrics import ConfusionMatrixDisplay\n",
    "import matplotlib.pyplot as plt\n",
    "movie_matrix = confusion_matrix(movie_human_labels_test, system_labels_movie_pred)\n",
    "display = ConfusionMatrixDisplay(confusion_matrix=movie_matrix, display_labels=movie_labels)\n",
    "display.plot()"
   ]
  },
  {
   "cell_type": "markdown",
   "metadata": {},
   "source": [
    "The confusion matric tells us that  there are 40 false positives with a predicted negative and 21 false positive for predicted positive. This means that the negative category is slightly stronger than the positive category. Again, an error analysis should target these false positives to find out why they get misinterpreted and how to fix this."
   ]
  },
  {
   "cell_type": "markdown",
   "metadata": {
    "tags": []
   },
   "source": [
    "## Applying the movie review classifier to your own data"
   ]
  },
  {
   "cell_type": "markdown",
   "metadata": {},
   "source": [
    "To apply our new classifier to the same my_reviews data, we first need to represent these texts according to the vectors of the movie_review data. So, we call again the **transform** function "
   ]
  },
  {
   "cell_type": "code",
   "execution_count": 91,
   "metadata": {
    "tags": []
   },
   "outputs": [
    {
     "data": {
      "text/plain": [
       "(11, 25139)"
      ]
     },
     "execution_count": 91,
     "metadata": {},
     "output_type": "execute_result"
    }
   ],
   "source": [
    "# We re-use airline_vec to transform it in the same way as the training data\n",
    "my_review_movie_review_counts = movie_vec.transform(my_reviews)\n",
    "my_review_movie_review_counts.shape"
   ]
  },
  {
   "cell_type": "code",
   "execution_count": 92,
   "metadata": {
    "tags": []
   },
   "outputs": [],
   "source": [
    "reviews_new_tfidf = movie_tfidf_transformer.transform(my_review_movie_review_counts)"
   ]
  },
  {
   "cell_type": "code",
   "execution_count": 93,
   "metadata": {
    "tags": []
   },
   "outputs": [],
   "source": [
    "movie_review_clf_pred = movie_review_clf.predict(reviews_new_tfidf)"
   ]
  },
  {
   "cell_type": "code",
   "execution_count": 94,
   "metadata": {
    "tags": []
   },
   "outputs": [
    {
     "name": "stdout",
     "output_type": "stream",
     "text": [
      "This movie was excellent => pos\n",
      "Absolute joy ride => pos\n",
      "Steven Seagal was terrible => neg\n",
      "Steven Seagal shined through. => neg\n",
      "This was certainly a movie => neg\n",
      "Two thumbs up => neg\n",
      "I fell asleep halfway through => neg\n",
      "We can't wait for the sequel!! => neg\n",
      "I cannot recommend this highly enough => pos\n",
      "instant classic. => pos\n",
      "Steven Seagal was amazing. => neg\n"
     ]
    }
   ],
   "source": [
    "# print out results ()\n",
    "for review, predicted_label in zip(my_reviews, movie_review_clf_pred):\n",
    "    \n",
    "    print('%s => %s' % (review, \n",
    "                        movie_reviews_data.target_names[predicted_label]))"
   ]
  },
  {
   "cell_type": "markdown",
   "metadata": {},
   "source": [
    "Our moview review classifier only uses two categories instead of the airlinetweets classifier. Is it doing any better?\n",
    "\n",
    "To really evaluate and compare the performances, we need to use a manual list of labels. Note that this classifier only uses two labels and the airline classifier uses three labels. This makes the comparison difficult. It would require to manal evaluation datasets with three and two labels respectively."
   ]
  },
  {
   "cell_type": "markdown",
   "metadata": {},
   "source": [
    "## End of this notebook"
   ]
  }
 ],
 "metadata": {
  "kernelspec": {
   "display_name": "Python 3 (ipykernel)",
   "language": "python",
   "name": "python3"
  },
  "language_info": {
   "codemirror_mode": {
    "name": "ipython",
    "version": 3
   },
   "file_extension": ".py",
   "mimetype": "text/x-python",
   "name": "python",
   "nbconvert_exporter": "python",
   "pygments_lexer": "ipython3",
   "version": "3.10.11"
  }
 },
 "nbformat": 4,
 "nbformat_minor": 4
}
