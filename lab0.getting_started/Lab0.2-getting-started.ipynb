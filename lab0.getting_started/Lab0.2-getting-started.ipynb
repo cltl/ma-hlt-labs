{
 "cells": [
  {
   "cell_type": "markdown",
   "metadata": {},
   "source": [
    "# Lab-0.2: Using Jupyter notebooks and installing Python packages\n",
    "\n",
    "Copyright, Vrije Universiteit Amsterdam, Faculty of Humanities, CLTL"
   ]
  },
  {
   "cell_type": "markdown",
   "metadata": {
    "tags": []
   },
   "source": [
    "## In a nutshell\n",
    "In this notebook, we will prepare you for working with your computer:\n",
    "\n",
    "\n",
    "* How do I work with Jupyter Notebooks?\n",
    "* How do I install Python packages for this course"
   ]
  },
  {
   "cell_type": "markdown",
   "metadata": {},
   "source": [
    "In this course, you will be working with so-called Jupyter notebooks. Jupyter notebooks can be opened in a web browser and let you run python commands, visualise the output and add documentation using Markdown language. They are very easy to use and adapt so that you can experiment with the material step-by-step. By making your own notes in addition you can create your own learning experience. We will next explain how to install and use it."
   ]
  },
  {
   "cell_type": "markdown",
   "metadata": {},
   "source": [
    "## How do I work with Jupyter Notebooks? \n",
    "\n",
    "You already know how to launch a notebook. There are different ways to edit or run a Jupyter notebook. The editor that we recommend is [JupyterLab] (https://jupyterlab.readthedocs.io/en/stable/index.html) and maybe you are already using it. If not, the best way to launch [JupyterLab] is from the command line:\n",
    "\n",
    "<ul>\n",
    "<li> Step 1: open the command line or a terminal.\n",
    "<li>  Step 2: type \"jupyter lab\" and press enter.\n",
    "<li>  Step 3: navigate to the folder where you stored the notebooks for Lab1.\n",
    "</ul>\n",
    "\n",
    "The documentation for JupyterLab can be found [here](https://jupyterlab.readthedocs.io/en/stable/).\n",
    "    \n",
    "After that you've chosen and opened an editor, it is important that you know how to work with notebooks. \n",
    "We are going to practice Python using Notebooks. These Notebooks contain instructions and so-called 'code blocks'. The instructions are paragraphs of text that explain the concepts we are going to use. The 'code blocks' contain Python code.\n",
    "\n",
    "Notebooks are pretty straightforward. Some tips:\n",
    "* Cells in a notebook contain code or text (Markdown). If you run a cell, it will either run the code or render the text from the Markdown.\n",
    "* There are five ways to run a cell:\n",
    "    * Click the 'play' button next to the 'stop' and 'refresh' button in the toolbar.\n",
    "    * Alt + Enter runs the current cell and creates a new cell. \n",
    "    * Ctrl + Enter runs the current cell without creating a new cell.\n",
    "    * Shift + Enter runs the current cell and moves to the next one.\n",
    "    * Use the menu and select *Kernel* -> *Restart Kernal and Run All Cells*\n",
    "* The instructions are written in Markdown. [Here](https://github.com/adam-p/markdown-here/wiki/Markdown-Cheatsheet) is a nice Markdown cheatsheet if you want to write some more.\n",
    "* Explore the menus for more options! You can even create a presentation using Notebooks.\n",
    "\n",
    "If want to know more, [this](https://www.dataquest.io/blog/jupyter-notebook-tutorial/) is a nice tutorial on notebooks."
   ]
  },
  {
   "cell_type": "markdown",
   "metadata": {},
   "source": [
    "## Installing third party packages"
   ]
  },
  {
   "cell_type": "markdown",
   "metadata": {},
   "source": [
    "One of the advantages of coding in Python is that there are a large community that is very productive. Building on the shoulders of others, you do not need to solve all problems yourself. We can focus on processing language while relying on powerfull packages that are freely available. The most important ones that we will use are:\n",
    "\n",
    "* NLTK: basic NLP toolkit\n",
    "* spaCy (not in this course but in the Python course): basic NLP toolkit\n",
    "* gensim: for building and using word embeddings\n",
    "* sklearn: for machine learning and training and testing classifiers\n",
    "* pandas: for loading and saving data\n",
    "* transformers: for using Large Language Models\n",
    "* ollama: for using Generative Large Language Models\n",
    "\n",
    "There are a few others as well. These packages do not come with Python and need to be installed in order run our notebooks. We tell you in each lab session which packages you need to install and how."
   ]
  },
  {
   "cell_type": "markdown",
   "metadata": {},
   "source": [
    "There are different online platforms where people can pusblish their packages and from which you can install them locally on your machine. The two most populr ones are:\n",
    "\n",
    "* [pip](https://pypi.org/project/pip/)\n",
    "* [conda](https://docs.conda.io/projects/conda/en/stable/user-guide/install/index.html)\n",
    "\n",
    "Conda is a bit more conservative with providing the latest versions, whereas Pip often provides the most recent updates. The downside of using the most recent versions is that it may show bugs or problems with dependencies on other software. We will mostly use **pip** to install software.\n",
    "\n",
    "Regardless of the platform, you can either install software from the command line or in the notebook. Which is best depends on the specific environment in which you are running the notebook. When you install within the notebook, the package is available in the same environment that the notebook uses. When installing from the command line, it is installed in the environment that is active there. \n",
    "\n",
    "During the course, we will explain which packages need to be installed and how to instal packages in either way. In the next notebook, we you need to install the Natural Language Toolkit or NLTK package, which has many modules for basic processing of text."
   ]
  },
  {
   "cell_type": "markdown",
   "metadata": {},
   "source": [
    "### Python package dependencies"
   ]
  },
  {
   "cell_type": "markdown",
   "metadata": {},
   "source": [
    "Installing many packages can be tedious due to the dependencies on other packages. For example, many important Python packages rely on ```numpy```, which is an efficient package to handle so-called arrays with numbers. In machine learning and Large Language Models these **arrays** are used to make calculations. One of the problems you may come across is that different packages rely on different versions of **numpy** which are incompatible. So **numpy** is updated and one developer updates his/her package using the new version of **numpy** while another developer does not. The result is that you cannot use the combination of packages because they require different versions of **numpy**."
   ]
  },
  {
   "cell_type": "markdown",
   "metadata": {},
   "source": [
    "The solution to the problem is to downgrade packages to versions that are still compatible in their dependencies. Very often this does not make a difference for the kind of things you want to do. After a while developers may update to more recent versions as well and the problem may disappear.\n",
    "\n",
    "To make life easier for you, we compiled a list of all the packages that are needed for this course in the requirements.txt file. The next cell shows the content of this file (use **dir** instead of **cat** on a Windows machine):"
   ]
  },
  {
   "cell_type": "code",
   "execution_count": 1,
   "metadata": {},
   "outputs": [
    {
     "name": "stdout",
     "output_type": "stream",
     "text": [
      "## Python 3.10\n",
      "\n",
      "### NLP and machine learning\n",
      "nltk==3.9.1\n",
      "scikit-learn==1.7.0\n",
      "gensim==4.3.3\n",
      "\n",
      "### data loading and representation\n",
      "numpy==1.26.4\n",
      "pandas==2.2.3\n",
      "\n",
      "### LLMs\n",
      "thinc==8.2.5\n",
      "torch==2.2.2\n",
      "transformers==4.51.3\n",
      "ollama==0.5.1\n",
      "langchain==0.3.21\n",
      "langchain_ollama==0.2.1\n",
      "openai==1.97.0\n",
      "\n",
      "### visualising data and results\n",
      "seaborn==0.13.2\n",
      "matplotlib==3.10.3\n"
     ]
    }
   ],
   "source": [
    "!cat ../requirements.txt ## Mac/Unix or Linuc machine\n",
    "#!dir requirements.txt ## Windows machine"
   ]
  },
  {
   "cell_type": "markdown",
   "metadata": {},
   "source": [
    "You see here a list of package names that can be installed with **Pip**. Each package has a specific version specified. We tested these versions on compatibility.\n",
    "The document ```HLT-getting-started.pdf``` explains how to install all these packages in the \"htlenv\" environment. If this notebook is running in the same environment, it should show ```hltenv``` in the top right corner of this screen."
   ]
  },
  {
   "cell_type": "markdown",
   "metadata": {},
   "source": [
    "<img src=\"img/hltenv.png\">"
   ]
  },
  {
   "cell_type": "markdown",
   "metadata": {},
   "source": [
    "If all the packages are installed without an error message, you can test the installation by running the next cell which loads all packages in this notebook:"
   ]
  },
  {
   "cell_type": "code",
   "execution_count": 9,
   "metadata": {},
   "outputs": [],
   "source": [
    "import openai\n",
    "import ollama\n",
    "import langchain\n",
    "import nltk\n",
    "import gensim\n",
    "import sklearn\n",
    "import seaborn\n",
    "import transformers\n",
    "import pandas\n",
    "import numpy\n",
    "import gensim\n",
    "import langchain_ollama"
   ]
  },
  {
   "cell_type": "markdown",
   "metadata": {},
   "source": [
    "If there is no error and this cell completes, then you are ready to go for this course. Note that you only need to install the above packages once. Any notebook or python script that you run in the same environment will have access to these packages and can load them."
   ]
  },
  {
   "cell_type": "markdown",
   "metadata": {},
   "source": [
    "## End of this notebook"
   ]
  },
  {
   "cell_type": "code",
   "execution_count": null,
   "metadata": {},
   "outputs": [],
   "source": []
  }
 ],
 "metadata": {
  "kernelspec": {
   "display_name": "hltenv",
   "language": "python",
   "name": "hltenv"
  },
  "language_info": {
   "codemirror_mode": {
    "name": "ipython",
    "version": 3
   },
   "file_extension": ".py",
   "mimetype": "text/x-python",
   "name": "python",
   "nbconvert_exporter": "python",
   "pygments_lexer": "ipython3",
   "version": "3.11.13"
  }
 },
 "nbformat": 4,
 "nbformat_minor": 4
}
