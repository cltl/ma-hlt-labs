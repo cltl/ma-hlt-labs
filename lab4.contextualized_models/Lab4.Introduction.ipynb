{
 "cells": [
  {
   "cell_type": "markdown",
   "id": "995cee22-4169-4df5-942f-9eb61649bdf9",
   "metadata": {},
   "source": [
    "# Lab4 Large Language Models"
   ]
  },
  {
   "cell_type": "markdown",
   "id": "d3b1fb00-ea53-42ac-b762-3cffd0c7e64b",
   "metadata": {},
   "source": [
    "In Lab4 you will learn to use Large Language Models (LLMs) for Natural Language Processing (NLP). Large Language Models are built by unsupervised learning on large amounts of texts, so-called pretraining. During pretraining the task is to learn a presentation that predicts context words with the help of yet other context words. \n",
    "\n",
    "We discuss two types of LLMs:\n",
    "\n",
    "* bidirectional encoders, e.g. BERT: words to the left and right are masked and also left and right context words can help\n",
    "* genererative decoders, e.g. GPT and LLama: only words to the left can be used to predict the next word in a sequence\n",
    "\n",
    "We explain the basics and show how these models are used to perform NLP tasks."
   ]
  },
  {
   "cell_type": "markdown",
   "id": "ca055446-97bf-4362-94ec-50bb41a307dd",
   "metadata": {},
   "source": [
    "In this Lab you find the following notebooks\n",
    "\n",
    "* Lab4.1 Bert-and-XLM-roBERTa\n",
    "* Lab4.2 Llama-for-text-generation\n",
    "* Lab4.3 Finetuned-models\n",
    "* Lab4.4 Emotion-classification-with-BERT\n",
    "* Lab4.5 Emotion-classication-with-Llama\n",
    "* Lab4.6 Assignment\n",
    "\n",
    "You should study the notebooks in this order. For your final assignment, it is important that you understand notebooks Lab4.4 and Lab4.5. The other notebooks explain the basics of LLMs."
   ]
  },
  {
   "cell_type": "markdown",
   "id": "87092357-8c15-4025-a877-004ba1967c27",
   "metadata": {},
   "source": [
    "# End of notebook"
   ]
  },
  {
   "cell_type": "code",
   "execution_count": null,
   "id": "e784ce98-7cc0-455c-afe0-18a0c4d1aaa1",
   "metadata": {},
   "outputs": [],
   "source": []
  }
 ],
 "metadata": {
  "kernelspec": {
   "display_name": "Python 3 (ipykernel)",
   "language": "python",
   "name": "python3"
  },
  "language_info": {
   "codemirror_mode": {
    "name": "ipython",
    "version": 3
   },
   "file_extension": ".py",
   "mimetype": "text/x-python",
   "name": "python",
   "nbconvert_exporter": "python",
   "pygments_lexer": "ipython3",
   "version": "3.10.11"
  }
 },
 "nbformat": 4,
 "nbformat_minor": 5
}
