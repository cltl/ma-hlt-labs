{
 "cells": [
  {
   "cell_type": "markdown",
   "metadata": {},
   "source": [
    "# LAB2.3 Creating Wordembeddings from a text corpus"
   ]
  },
  {
   "cell_type": "markdown",
   "metadata": {},
   "source": [
    "Copyright: Vrije Universiteit Amsterdam, Faculty of Humanities, CLTL"
   ]
  },
  {
   "cell_type": "markdown",
   "metadata": {},
   "source": [
    "In this notebook, we are going to show how you can build a word embedding model from a text corpus:\n",
    "\n",
    "<ol>\n",
    "<li>Obtain a text corpus from the web. We will use the Leipzig Corpora Collection that contains texts in different languages and was already preprocessed.\n",
    "<li>Tokenize the text to get lists of individual words grouped by sentences. We use the NLTK toolkit and a specific tokenization function to do that.\n",
    "<li>Create an embedding model from the tokenized text using the Gensim package.\n",
    "<li>Demonstrate how to save the embedding model to disk and load it again for usage.\n",
    "</ol>\n"
   ]
  },
  {
   "cell_type": "markdown",
   "metadata": {},
   "source": [
    "## 1. Obtaining text from the Leipzig Corpora collection"
   ]
  },
  {
   "cell_type": "markdown",
   "metadata": {},
   "source": [
    "The Leipzig corpora collection has corpora for over 250 languages. These corpora are collected from Wikipedia, news and web crawls and have been curated for research purposes.\n",
    "\n",
    "For this notebook, you download a corpus in a language of you choice from:\n",
    "\n",
    "http://wortschatz.uni-leipzig.de/en/download/\n",
    "\n",
    "If, for some reason, the downloads are not available, you can download the English news corpus with 1 million token from here:\n",
    "\n",
    "[English news corpus, 1 million](https://drive.google.com/file/d/1qBeqSvszUbvp2ysCDtdCkP14VjQVp57E/view?usp=share_link)\n",
    "\n",
    "We will use the 'eng_news_2005_1M-text' corpus here for demonstration purposes. The files come as compressed ```tar``` files (extension \".tar.gz\"). Depending on the decompression software you first need to decompress the file and next unpack the tar file (some software does that directly). \n",
    "\n",
    "Unpack the decompressed ```tar``` file somewhere on your computer. You will see it yields a directory, e.g. \"end_news_2005_1M-text\" with a number of files. For example, the files \"...-sources.txt\" contain the list of URLs from which the text was obtained preceded by an identifier and followed by the date of crawling:\n",
    "\n",
    "```\n",
    "1\thttp://davesipaq.com/articles/iPAQ_Plustek_portable_scanning_solution.html\t2005-06-12\n",
    "2\thttp://www.independent.com/cover/Cover959.htm\t2005-04-08\n",
    "3\thttp://www.insidebayarea.com/ci_2736737?rss\t2005-05-15\n",
    "4\thttp://www.dailycollegian.com/vnews/display.v/ART/2005/05/13/4282dbfadd830\t2005-05-12\n",
    "5\thttp://p2pnet.net/story/4856\t2005-05-16\n",
    "6\thttp://www.imf.org/external/np/tr/2005/tr050324a.htm\t2005-04-09\n",
    "```\n",
    "\n",
    "The file \"...-words.txt\" contains the vocabulary of words with their frequency, e.g.:\n",
    "\n",
    "```\n",
    "452\tlaw\t5521\n",
    "453\tmaking\t5514\n",
    "454\trecord\t5511\n",
    "455\twhether\t5496\n",
    "456\ttimes\t5488\n",
    "457\tSt.\t5485\n",
    "458\tscored\t5484\n",
    "459\ttaken\t5484\n",
    "```\n",
    "\n",
    "We are going to use the file named \"...-sentences.txt\", which contains sentences separated on each line preceded by an identifier, e.g.:\n",
    "\n",
    "```\n",
    "1\tI didn't know it was police housing,\" officers quoted Tsuchida as saying.\n",
    "2\tYou would be a great client for Southern Indiana Homeownership's credit counseling but you are saying to yourself \"Oh, we can pay that off.\"\n",
    "3\tHe believes the 21st century will be the \"century of biology\" just as the 20th century was the century of IT.\n",
    "4\tThey even call the civil rights organization a bit hypocritical.\n",
    "```\n",
    "\n",
    "Our goal is to use these sentences to create word embeddings. To be able to do that we need to process this file line by line, to obtain the tokens from each sentence and separate punctuation from each token. We are going to do this with the NLTK toolkit and define a specific function called 'preprocess_rawtext' that does all the work for us."
   ]
  },
  {
   "cell_type": "markdown",
   "metadata": {},
   "source": [
    "## Preprocessing function"
   ]
  },
  {
   "cell_type": "markdown",
   "metadata": {},
   "source": [
    "What is a function? \n",
    "\n",
    "A function is an ordered sequence of instructions packaged into a group (like a recipe) with a name and possibly parameters between round brackets. So far you have been calling functions for instances of classes such as ```string``` or ```list``` that have been defined by other programners. You can however also define functions yourself. This is specifically useful if:\n",
    "\n",
    "<ol>\n",
    "<li> the code becomes too long and you want to group many smaller steps into higher level steps without bothering about what happens inside: e.g. like playing music instead of pushing piano keys.\n",
    "<li> the code needs to be applied more than once and you do not want to repeat the code and make sure it is consistent across the repeated calls.\n",
    "</ol>\n",
    "    \n",
    "The function that we define below calls other functions as well that we also need to define. So it is definitely a higher-order function.\n",
    "\n",
    "Once defined, we only need to apply this function to a local file on our disk to carry out a whole series of instructions and we can easliy do this many times for all kinds of files in the same format, e.g. downloaded from the Leipzig website. The function guarantees that exactly the same process is applied each time.\n",
    "\n",
    "The next cell contains the processing function. After your run the cell in your notebook, the function is available to do the work for you. This means it is defined but it has not been used yet. For that we need to apply it to something. We do that right after defining it.\n",
    "\n",
    "For now, you can try to read and understand the function or just call it when you need it."
   ]
  },
  {
   "cell_type": "code",
   "execution_count": 1,
   "metadata": {
    "tags": []
   },
   "outputs": [],
   "source": [
    "# We use the NLTK tokenization function to process the text\n",
    "# For this we import the modules word_tokenize and sent_tokenize\n",
    "\n",
    "from nltk.tokenize import word_tokenize, sent_tokenize\n",
    "import string\n",
    "\n",
    "#Function to remove punctuation from word tokens, \n",
    "#Takes a list of tokens as input\n",
    "\n",
    "#Note that these functions only work if you also imported NLTK and string before calling the function\n",
    "def remove_punct(tokens):\n",
    "    # punct is a string with all punctuation tokens: !\"#$%&'()*+,-./:;<=>?@[\\]^_`{|}~\n",
    "    punct = string.punctuation\n",
    "    # empty list in which we put the clean tokens\n",
    "    tokens_clean = []\n",
    "\n",
    "    # Iterate over all characters in tokens \n",
    "    # and only keeps them if not in punct\n",
    "    for t in tokens:\n",
    "        if t not in punct:\n",
    "            tokens_clean.append(t)\n",
    "    # The result is a list with the cleaned tokens\n",
    "    return tokens_clean\n",
    "\n",
    "# The Leipzig corpus is already processed into sentences, so we do not need to split the text into sentences\n",
    "# We can read it line by line but \n",
    "# we need to skip the first token in each line which is the identifier and not regular text\n",
    "\n",
    "# Takes as input parameter the path to a file\n",
    "def preprocess_leipzig_sentences(file):\n",
    "    clean_sentences = []\n",
    "    \n",
    "    with open(file, \"r\") as i:\n",
    "            for sentence in i:\n",
    "                # We downcase each sentence, word_tokenize it with NLTK\n",
    "                tokens = word_tokenize(sentence.lower())\n",
    "                # We apply our custom remove_punct function and exclude the first token\n",
    "                tokens_clean = remove_punct(tokens[1:]) # we skip the first token which is the identifier.\n",
    "                # We add the clean tokens as a list to the list of sentences\n",
    "                clean_sentences.append(tokens_clean)\n",
    "                \n",
    "    # The result is a list of lists, each representing the tokens of a sentence as elements\n",
    "    return clean_sentences\n",
    "\n",
    "# If you want to process other text than the Leipzig corpus that is not split into sentences,\n",
    "# you can call the next function. The difference is:\n",
    "# - we read the complete file as a text string\n",
    "# - we apply the NLTK sent_tokenize function to the get a list of sentences\n",
    "# - we do not need to remove the identifier\n",
    "def preprocess_rawtext(file):\n",
    "    clean_sentences = []\n",
    "\n",
    "    with open(file) as infile:\n",
    "        text = infile.read()\n",
    "        \n",
    "    sentences = sent_tokenize(text.strip())\n",
    "\n",
    "    for sentence in sentences:\n",
    "        tokens = word_tokenize(sentence.lower())\n",
    "        tokens_clean = remove_punct(tokens)\n",
    "        clean_sentences.append(tokens_clean)\n",
    "    return clean_sentences\n"
   ]
  },
  {
   "cell_type": "markdown",
   "metadata": {},
   "source": [
    "We now apply the above custom function to the Leipzig text corpus file with the sentences.\n",
    "\n",
    "You need to adapt the path_to_the_corpus_file to the correct location of the file on your computer.\n",
    "If the path is wrong you get an error message!\n",
    "\n",
    "It takes a while before the whole file is processed."
   ]
  },
  {
   "cell_type": "code",
   "execution_count": 2,
   "metadata": {
    "tags": []
   },
   "outputs": [],
   "source": [
    "#eng_news_2005_1M-sentences.txt\n",
    "path_to_the_corpus_file='/Users/piek/Desktop/t-ONDERWIJS/data/leipzig-corpora/eng_news_2005_1M-text/eng_news_2005_1M-sentences.txt'\n",
    "text_leipzigcorpus_clean = preprocess_leipzig_sentences(path_to_the_corpus_file)"
   ]
  },
  {
   "cell_type": "markdown",
   "metadata": {},
   "source": [
    "We can inspect text_leipzigcorpus_clean by asking for its length and printing a small sample, in this case sentence 201 till 208. "
   ]
  },
  {
   "cell_type": "code",
   "execution_count": 3,
   "metadata": {
    "scrolled": true,
    "tags": []
   },
   "outputs": [
    {
     "name": "stdout",
     "output_type": "stream",
     "text": [
      "Number of sentences= 1000000\n",
      "[['his', 'forehead', 'is', 'fractured', 'in', 'several', 'places', 'and', 'his', 'brain', 'and', 'one', 'of', 'his', 'lungs', 'are', 'bruised', 'she', 'said'], [\"''\", 'their', 'reputation', 'is', 'totally', 'vindicated', \"''\", 'loevy', 'said'], ['he', 'also', 'was', 'administratively', 'charged', 'with', 'breaking', 'state', 'law', 'lying', 'and', 'failing', 'to', 'report', 'information', 'to', 'the', 'department', 'in', 'the', 'jude', 'beating'], [\"''\", 'the', 'mta', 'were', 'directed', 'to', 'make', 'certain', 'amendments', 'to', 'their', 'constitution', 'to', 'ensure', 'clubs', 'are', 'directly', 'affiliated', 'to', 'the', 'national', 'body', 'with', 'voting', 'rights', \"''\", 'said', 'elyas'], ['both', 'last', 'raced', 'in', 'the', 'florida', 'derby', 'on', 'april', '2'], ['they', 'were', 'fifth', 'last', 'year', 'in', 'prague', 'fourth', 'in', '2003', 'at', 'helsinki', 'and', 'fifth', 'in', '2002', 'at', 'goteborg', 'sweden'], ['nicklaus', 'said', 'farewell', 'to', 'the', 'us', 'masters', 'a', 'tournament', 'he', 'won', 'a', 'record', 'six', 'times', 'last', 'month', 'carding', 'a', 'second', 'round', '76', 'to', 'miss', 'the', 'cut', 'by', 'five', 'strokes']]\n"
     ]
    }
   ],
   "source": [
    "print('Number of sentences=',len(text_leipzigcorpus_clean))\n",
    "#we print a few sentences to see how it looks like\n",
    "print(text_leipzigcorpus_clean[201:208])"
   ]
  },
  {
   "cell_type": "markdown",
   "metadata": {},
   "source": [
    "## Training word embeddings"
   ]
  },
  {
   "cell_type": "markdown",
   "metadata": {},
   "source": [
    "To train a language model with word embeddings, we will use the **gensim** package. \n",
    "\n",
    "In order to build the word embeddings through gensim, we are going to use its **Word2Vec** function."
   ]
  },
  {
   "cell_type": "markdown",
   "metadata": {},
   "source": [
    "Gensim allows us to set a number of parameters for training. The most important of these are `min_count`, `window`, `size` and `sg`:\n",
    "\n",
    "* `min_count` is the minimum frequency of the words in our corpus. For infrequent words, we just don't have enough information to train reliable word embeddings. It therefore makes sense to set this minimum frequency to at least 10. In these experiments, we'll set it to 100 to limit the size of our model even more and to speed up things.\n",
    "* `window` is number of words to the left and to the right that make up the context that word2vec will take into account to make predictions.\n",
    "* `size` is the dimensionality of the word vectors. This is generally between 100 and 500. You often have to make a trade-off: embeddings with a higher dimensionality are able to model more information, but also need more data to train.\n",
    "* `sg`: there are two algorithms to train word2vec: skip-gram and CBOW. Skip-gram tries to predict the context on the basis of the target word; CBOW tries to find the target on the basis of the context. By default, Gensim uses CBOW (```sg=0```). To use skip-gram set ```sg=1```).\n",
    "\n",
    "We'll investigate the impact of some of these parameters later."
   ]
  },
  {
   "cell_type": "markdown",
   "metadata": {},
   "source": [
    "The next command creates an embedding model from our cleaned corpus. The model is assigned to the variable 'englishleipzig_w2v'(any name will do) and can be used next in this notebook. We also save the embedding model to disk as 'txt' file and as 'binary' data (bin) so that we can load it later and do not need to build the model over and over again in each notebook."
   ]
  },
  {
   "cell_type": "code",
   "execution_count": 4,
   "metadata": {
    "tags": []
   },
   "outputs": [
    {
     "name": "stderr",
     "output_type": "stream",
     "text": [
      "/opt/anaconda3/envs/hltenv/lib/python3.11/site-packages/requests/__init__.py:86: RequestsDependencyWarning: Unable to find acceptable character detection dependency (chardet or charset_normalizer).\n",
      "  warnings.warn(\n"
     ]
    }
   ],
   "source": [
    "# You need to do the next commands only once. When you have succesfully created and saved the embeddings you can load them afterwards\n",
    "from gensim.models import Word2Vec\n",
    "englishleipzig_w2v = Word2Vec(text_leipzigcorpus_clean, vector_size=100, window =4, min_count =100)"
   ]
  },
  {
   "cell_type": "markdown",
   "metadata": {},
   "source": [
    "Please note that every time we train a model, even with the same data, the resulting embeddings will be slightly different. This is because the neural network will use different random seeds to initialize its weights. The details of this go beyond what you will learn in this lab, but keep in mind that when you run this notebook your results might be different in the details, but the general trends should hold. For example, the similarity scores between 'king' and 'queen' might not be exactly the same, but the most similar words for 'king' will be mostly the same and in the same ranked order.\n",
    "\n",
    "After the model is built, you can save it to disk for future usage. This may be handy if for some reason the notebook is killed or gets stuck.\n",
    "\n",
    "We use the function **wv.save_word2vec_format** to save the model. Make sure the folder exist in the path you specify."
   ]
  },
  {
   "cell_type": "markdown",
   "metadata": {},
   "source": [
    "We can save the model as a text file or as a binary file. The binary file loads faster but you could have problems porting it from machine to machines with different OS. The text file you can load in a text editor and inspect!"
   ]
  },
  {
   "cell_type": "code",
   "execution_count": 5,
   "metadata": {
    "tags": []
   },
   "outputs": [],
   "source": [
    "englishleipzig_w2v.wv.save_word2vec_format('/Users/piek/Desktop/t-ONDERWIJS/data/leipzig-corpora/models/eng_news_2005_1M-sentences.txt')\n",
    "englishleipzig_w2v.wv.save_word2vec_format('/Users/piek/Desktop/t-ONDERWIJS/data/leipzig-corpora/models/eng_news_2005_1M-sentences.bin', binary=True)"
   ]
  },
  {
   "cell_type": "markdown",
   "metadata": {},
   "source": [
    "If you have a powerful plain text editor, you can open the txt file and inspect it. You can also use the command line and type the following command:"
   ]
  },
  {
   "cell_type": "code",
   "execution_count": 6,
   "metadata": {
    "tags": []
   },
   "outputs": [
    {
     "name": "stdout",
     "output_type": "stream",
     "text": [
      "12339 100\n",
      "the 0.43878198 0.13890956 0.33064646 0.8629379 -0.34864327 -0.24505235 0.7846212 -0.2350852 -0.5778795 0.30479327 -0.38992566 0.09016871 2.0361357 -0.28926075 0.6669508 -0.094555266 0.31595647 0.97869503 0.16408062 1.5952712 1.4810102 1.3153936 0.18710873 0.25868303 1.0179962 -1.0571513 -1.5034277 0.4277363 -0.28257298 -0.2684798 0.8512991 -0.01838903 -0.6020413 0.22433855 0.790614 0.07063612 -0.62720037 0.109454565 -0.50721896 0.22083303 -2.0764675 0.15333045 -0.443579 -0.6312865 0.83066195 1.393178 -0.4496998 1.7498579 -0.39005914 -0.09095216 -1.1865538 1.132261 -1.3192126 -0.72644913 -0.7472594 -0.41017976 0.42344117 0.10256328 -0.26045457 1.261406 0.0069958824 0.06686291 -0.67947114 -0.58443975 1.5370603 -0.122663416 0.20756985 -0.81858146 0.4216926 0.20820583 -0.44396377 -0.27460632 -1.0908026 -0.6763414 -0.101431206 0.7496403 0.9460748 0.7845003 1.1551883 0.64481276 -0.54816973 -1.781279 1.1289631 1.3687819 -1.420225 1.1206739 -0.19305876 -1.1273247 -1.5549269 0.42103887 -1.2998866 -0.34024188 1.350526 -0.647851 -0.06674355 -0.10780764 -0.5794564 0.44510955 0.33510405 -1.4037448\n",
      "to -0.21199934 -2.4410625 2.5844207 1.4617898 0.64310163 0.3791324 -1.1173649 -2.3409228 2.0642629 1.1402998 -0.3404259 1.2622534 -1.5595523 0.48405617 1.2424632 2.5418785 0.7058434 1.3340266 1.0322481 1.0399085 -1.3125746 -0.7770953 -0.15759064 -1.6190287 3.1167245 1.5935129 -1.0955833 0.5107571 -0.25033996 0.86161923 2.0899093 0.5497031 -0.34634438 0.118876986 0.764744 -0.40956077 1.0906397 -0.5582312 1.9241657 2.772921 2.3865705 0.15938592 0.8889119 -2.0574152 -1.5752058 0.250405 -0.3863661 -0.15868984 0.98561865 0.5373152 0.0653446 -1.1249325 0.53147554 2.3893058 -2.215341 2.9187186 2.2490437 0.13789871 0.8831341 1.7647693 -0.44:\u001b[K"
     ]
    }
   ],
   "source": [
    "%cat /Users/piek/Desktop/t-ONDERWIJS/data/leipzig-corpora/models/eng_news_2005_1M-sentences.txt | more"
   ]
  },
  {
   "cell_type": "markdown",
   "metadata": {},
   "source": [
    "Note that you need to stop the previous cell manually in this notebook because the \"more\" command only shows the beginning of the file and waits for an enter to continue or ctrl-c for cancel. You stop the cell by clicking on the square next to the play symbol in the menu of the notebook."
   ]
  },
  {
   "cell_type": "markdown",
   "metadata": {},
   "source": [
    "The first line has two numbers: the first is the size of the vocabulary and the second is the number of dimensions or the length of the vectors. Both depend on the parameters you used to build the model. The file contains a line for each word with its embedding representation. Depending on the parameters used, you may see the embeddings for the very frequent words \"the\" and \"to\" on the first lines."
   ]
  },
  {
   "cell_type": "markdown",
   "metadata": {},
   "source": [
    "## Using word embeddings"
   ]
  },
  {
   "cell_type": "markdown",
   "metadata": {},
   "source": [
    "Now we saved our model to disk, we can load it any time and use it. The next time you launch this notebook, you do not need to collect and preprocess the corpus and build a model from it. You can load the model directly from the location where you saved it. That's what we are going to do now."
   ]
  },
  {
   "cell_type": "code",
   "execution_count": 8,
   "metadata": {
    "tags": []
   },
   "outputs": [],
   "source": [
    "# How to load a stored model:\n",
    "from gensim.models import KeyedVectors\n",
    "\n",
    "# You can load it either as text or as binary data. \n",
    "#The latter is more efficient but you may not be able to port it from machine to machine.\n",
    "englishleipzig_w2v = KeyedVectors.load_word2vec_format('/Users/piek/Desktop/t-ONDERWIJS/data/leipzig-corpora/models/eng_news_2005_1M-sentences.txt') "
   ]
  },
  {
   "cell_type": "markdown",
   "metadata": {},
   "source": [
    "Notice that loading is much faster than building! Let's check some of the properties of the englishleipzig_w2v model: "
   ]
  },
  {
   "cell_type": "code",
   "execution_count": 9,
   "metadata": {
    "tags": []
   },
   "outputs": [
    {
     "name": "stdout",
     "output_type": "stream",
     "text": [
      "Vector size = 100\n",
      "Vocabulary size = 12339\n"
     ]
    }
   ],
   "source": [
    "# Show some properties of our model. Notice these are also in the text file.\n",
    "print('Vector size =', englishleipzig_w2v.vector_size)\n",
    "print('Vocabulary size =', len(englishleipzig_w2v.key_to_index))"
   ]
  },
  {
   "cell_type": "markdown",
   "metadata": {},
   "source": [
    "We have limited the dimensions to '100' which is the vector size and the vocabulary is much smaller than the Wikipedia vocabulary and even smaller than WordNet. We can now use any word from the vocabulary as a key to obtain the vector:"
   ]
  },
  {
   "cell_type": "code",
   "execution_count": 10,
   "metadata": {
    "tags": []
   },
   "outputs": [
    {
     "name": "stdout",
     "output_type": "stream",
     "text": [
      "100\n",
      "[ 0.7220467   1.7324114   0.57378316 -0.06318664 -0.25640887  0.5650723\n",
      " -0.48152018 -0.02141915  0.36488667 -1.2500275  -0.31935847 -1.0502671\n",
      " -0.12677681 -0.23292741  0.13289432 -0.27411297  0.36538854 -0.4622561\n",
      "  0.8174808  -1.4299532   1.4623358   1.4912913   2.0142994  -0.38022667\n",
      "  0.59690404 -0.6220935   0.12135573 -1.2947651  -0.07489658 -0.28120792\n",
      "  0.08744182  0.55885094  1.2630752  -0.72481436  0.31566116 -0.87561244\n",
      " -0.760305    0.9858776   0.86147684 -1.0110977   1.3014994  -0.53792775\n",
      " -0.6292242  -0.47524276  0.6114541  -0.77579314 -0.7585612   0.10244258\n",
      "  0.07038065  0.16437754 -0.0812287   0.03793543 -1.2026597  -2.2819488\n",
      " -0.00641656 -0.09293531  1.7402239   0.02477398 -0.39313185 -0.70710194\n",
      " -0.8763517   0.29983923  0.2229409  -0.40698552 -1.3294253  -0.18790412\n",
      "  0.71097165  0.9704435  -0.45544043 -0.58631986 -0.8197195  -0.9011815\n",
      "  1.3937114   0.43483183  0.72458655  0.63638896 -0.11348833  1.7041119\n",
      "  0.34169817 -0.75897944 -0.32127473 -1.2021345  -0.1285254   1.1547972\n",
      " -1.7839452  -0.00942085  1.568516    1.8021942  -0.91893864  0.19408366\n",
      "  0.5243853  -0.2703988  -1.03328    -0.10772926  1.8483338   0.30786777\n",
      "  0.15559812 -0.42113423 -0.44488862 -0.02389165]\n"
     ]
    }
   ],
   "source": [
    "king_vector = englishleipzig_w2v[\"king\"]\n",
    "print(len(king_vector))\n",
    "print(king_vector)"
   ]
  },
  {
   "cell_type": "markdown",
   "metadata": {},
   "source": [
    "We see we get a dense vector with values for all 100 dimensions."
   ]
  },
  {
   "cell_type": "markdown",
   "metadata": {},
   "source": [
    "We can also easily find the similarity between two words. As expected, the figures below show that *king* is closer to *queen* than to *coffee*."
   ]
  },
  {
   "cell_type": "code",
   "execution_count": 10,
   "metadata": {
    "tags": []
   },
   "outputs": [
    {
     "name": "stdout",
     "output_type": "stream",
     "text": [
      "0.6832746\n",
      "0.08221461\n"
     ]
    }
   ],
   "source": [
    "print(englishleipzig_w2v.similarity(\"king\", \"queen\"))\n",
    "print(englishleipzig_w2v.similarity(\"king\", \"coffee\"))"
   ]
  },
  {
   "cell_type": "markdown",
   "metadata": {},
   "source": [
    "In a similar vein, we can find the words that are most similar to a target word. The words with the most similar embedding to *king* are all similar titles (such as *prince*  and *queen*) or they are semantically related to royalty."
   ]
  },
  {
   "cell_type": "code",
   "execution_count": 11,
   "metadata": {
    "tags": []
   },
   "outputs": [
    {
     "data": {
      "text/plain": [
       "[('prince', 0.7564889788627625),\n",
       " ('queen', 0.6832746863365173),\n",
       " ('alexander', 0.6774353981018066),\n",
       " ('rainier', 0.6738333702087402),\n",
       " ('buchanan', 0.6554375886917114),\n",
       " ('martin', 0.6489624381065369),\n",
       " ('henry', 0.6395936012268066),\n",
       " ('elizabeth', 0.6394978165626526),\n",
       " ('bishop', 0.6369951367378235),\n",
       " ('diana', 0.6360077261924744)]"
      ]
     },
     "execution_count": 11,
     "metadata": {},
     "output_type": "execute_result"
    }
   ],
   "source": [
    "englishleipzig_w2v.similar_by_word(\"king\", topn=10)"
   ]
  },
  {
   "cell_type": "markdown",
   "metadata": {},
   "source": [
    "Note that this model was trained from the Leipzig news corpus for English, which is not that big! Companies such as Google, Amazon and Facebook train their models on many magnitudes more data. Much bigger corpora in many languages can be found at: https://commoncrawl.org\n",
    "\n",
    "Note that training a model on such data sets also requires a powerful computing infrastructure."
   ]
  },
  {
   "cell_type": "markdown",
   "metadata": {},
   "source": [
    "# End of notebook"
   ]
  },
  {
   "cell_type": "code",
   "execution_count": null,
   "metadata": {},
   "outputs": [],
   "source": []
  }
 ],
 "metadata": {
  "kernelspec": {
   "display_name": "hltenv",
   "language": "python",
   "name": "hltenv"
  },
  "language_info": {
   "codemirror_mode": {
    "name": "ipython",
    "version": 3
   },
   "file_extension": ".py",
   "mimetype": "text/x-python",
   "name": "python",
   "nbconvert_exporter": "python",
   "pygments_lexer": "ipython3",
   "version": "3.11.13"
  }
 },
 "nbformat": 4,
 "nbformat_minor": 4
}
