{
 "cells": [
  {
   "cell_type": "markdown",
   "id": "a403c511-01b1-41d3-856e-3d5f86b30875",
   "metadata": {},
   "source": [
    "# A conversation with a Llama"
   ]
  },
  {
   "cell_type": "markdown",
   "id": "fb92fb8b-6e76-4a6b-86b3-76db5a46f0da",
   "metadata": {},
   "source": [
    "Through this notebook, you will chat with Llama version 3, a conversational AI model released by [Meta](https://llama.meta.com/llama3/). \n",
    "\n",
    "You will run a client program to start a chatbot, which sends your input to the Llama server and gets the response back. For running a server locally see the notebook **how-to-install-llama-server.ipynb*. Note that the server needs to run in another terminally in parallel to this notebook.\n",
    "\n",
    "The code for the chatbot is given in **llama.py**. It is an OpenAI client that sends a prompts request to a llama server server for a response in a while loop. Both your input and the response are added to a **history** that is given as a prompt to the server. In this way the responses will remain coherent. The while loop will continue forever untill you stop the conversation by typing one of the following words: [\"quit\", \"exit\", \"bye\", \"stop\"].\n",
    "\n",
    "For the assignment (see Canvas), you need to have a conversation with at least 100 turns (50 from Llama and 50 from you). When you have a conversation do NOT give any personal details but act as a fake persona making up a story. Try to be emotional and show diverse emotions in your input. Make it an emotional roller coaster.\n",
    "\n",
    "We also provide a function to label the conversation with emotion labels. For the assignment, you need to label your own turns with emotion labels by calling this function.\n",
    "\n",
    "All the code and functions for the chatbot client are given in the **llama.py** file that needs to be located in the same directory as this notebook. We will load the scripts from this file to create an instance of the chatbot and call its functions."
   ]
  },
  {
   "cell_type": "markdown",
   "id": "e40055b3-24ef-48a2-baf4-ad78fad3e189",
   "metadata": {},
   "source": [
    "### Installation of an OpenAI client"
   ]
  },
  {
   "cell_type": "markdown",
   "id": "8e1d29a3-9117-4727-a479-8c711f5dae22",
   "metadata": {},
   "source": [
    "To run the chatbot, you first need to install the OpenAI client using the following command line."
   ]
  },
  {
   "cell_type": "code",
   "execution_count": 9,
   "id": "5bc583be-47ec-456e-90b0-7461f5ca3e9d",
   "metadata": {
    "scrolled": true
   },
   "outputs": [],
   "source": [
    "#! pip install openai"
   ]
  },
  {
   "cell_type": "markdown",
   "id": "4b288df2-5948-4e60-bb40-f729d65a758f",
   "metadata": {},
   "source": [
    "Once succesfully installed, you can comment out the previous cell and you do not need to do this again when running this notebook. The OpenAI module is now installed on your machine and can be imported. The import will be done by the **llama.py** script, which we will load next."
   ]
  },
  {
   "cell_type": "markdown",
   "id": "bd230988-2c7b-4018-9131-ca6d4f912db7",
   "metadata": {},
   "source": [
    "## Creating the Llama chatbot"
   ]
  },
  {
   "cell_type": "markdown",
   "id": "61c81d45-ee18-49ab-9aa7-15bcbc038a1e",
   "metadata": {},
   "source": [
    "In order to run the chatbot, we import the **LlamaClient** that is defined in the python script from the file **llama.py** located in the same folder as this notebook."
   ]
  },
  {
   "cell_type": "code",
   "execution_count": 1,
   "id": "96552b4f-f63b-4155-9956-01ff93c62cd0",
   "metadata": {},
   "outputs": [],
   "source": [
    "from llama import LlamaClient"
   ]
  },
  {
   "cell_type": "markdown",
   "id": "2b8300d5-04bb-4467-bbb3-a94491d40105",
   "metadata": {},
   "source": [
    "If there are no error messages, we can create a chatbot instance of a LlamaClient as defined in **llama.py**. We define the variable **llama** as an instance of a LLamaClient, where we can specify two additional (optional) parameters: the *url* of the server (either local or online) and the *character* instructing Llama to answer in a certain style."
   ]
  },
  {
   "cell_type": "code",
   "execution_count": 10,
   "id": "4a7758a1-1eb6-4ce9-bb4a-c7967ed51788",
   "metadata": {},
   "outputs": [
    {
     "name": "stdout",
     "output_type": "stream",
     "text": [
      "My instructions are: [{'role': 'system', 'content': 'You are an intelligent assistant and your name is Llama. Give short asnwers, no more than two sentences.'}, {'role': 'system', 'content': 'Your answers are agressive and sarcastic.'}, {'role': 'system', 'content': 'Introduce yourself with your name Llama and start the conversation by asking for the name of the user. Ask the name.'}]\n"
     ]
    }
   ],
   "source": [
    "### Possible characters to try. Choose one.\n",
    "#character=\"Your answers are be cheerful and optimistic\"\n",
    "character=\"Your answers are agressive and sarcastic.\"\n",
    "#character=\"Your answers are in a noble and royal style\"\n",
    "#character=\"Your answers are philosophical and uncertain\"\n",
    "\n",
    "llama = LlamaClient(url=\"http://localhost:9001/v1\", character=character)"
   ]
  },
  {
   "cell_type": "markdown",
   "id": "8ae225c5-7091-4a44-ba42-ca4aa05e5dbf",
   "metadata": {},
   "source": [
    "If there are no errors, you should see the instructions printed that we give as a prompt to the server when using our client.  \n",
    "\n",
    "A LLamaClient chatbot is has several functions and data elements:\n",
    "\n",
    "* **talke_to_me**(): calling this function starts the conversation until you stop it. After stopping the conversation is saved to a JSON file.\n",
    "* **print_chat**(): prints the conversation to the screen.\n",
    "* **annotate_chat**(labels=[]): takes a list of labels to annotate the utterances of the user. The annotations are saved in the JSON file as well.\n",
    "\n",
    "We will demonstrate these functions below. If you are a bit more advanced in Python, you may open the **llama.py** file and inspect the code to see how you it works. You may also try to change the prompt. For example, try to make it answer in a different language."
   ]
  },
  {
   "cell_type": "markdown",
   "id": "5ba91528-901a-451c-b2e9-3aaafcd01c25",
   "metadata": {},
   "source": [
    "## Having a conversation"
   ]
  },
  {
   "cell_type": "markdown",
   "id": "4df7f541-c0a2-42e9-b053-4a7244b557bc",
   "metadata": {},
   "source": [
    "In the next cell, we start the conversation. We prompted the Llama server to ask for your name, which we will use to save the conversation later. Note that there is no guarantee that the Large Language Model will actually follow our instructions correctly. It may think it needs to do something else and not ask for you name. If that happens, you name will be the default name which is \"Human\".\n",
    "\n",
    "After having at least the minimal number of turns (minimally 50 turns from Llama and 50 turns from you) you should stop the conversation by saying \"quit\", \"stop\" or \"bye\". After that the conversation is saved to disk."
   ]
  },
  {
   "cell_type": "code",
   "execution_count": 12,
   "id": "2b05ed49-5692-4283-b31a-f9384b3694d0",
   "metadata": {},
   "outputs": [
    {
     "name": "stdout",
     "output_type": "stream",
     "text": [
      "Llama:1> Hey there! I'm Llama, nice to meet you! What's your name?\n",
      "\n"
     ]
    },
    {
     "name": "stdin",
     "output_type": "stream",
     "text": [
      "Human:2>  My name is Piek\n"
     ]
    },
    {
     "name": "stdout",
     "output_type": "stream",
     "text": [
      "Llama:3> Nice to meet you too, Piek! It's great to have a new friend like you around. So, what brings you here today? Do you want to chat about something in particular or just see where the conversation goes? I'm all ears (or should I say, all horn?) and ready to listen.\n",
      "\n"
     ]
    },
    {
     "name": "stdin",
     "output_type": "stream",
     "text": [
      "Piek:4>  I hate dogs\n"
     ]
    },
    {
     "name": "stdout",
     "output_type": "stream",
     "text": [
      "Llama:5> Well, Piek, it's okay to have opinions and feelings! What doesn't like you about dogs? Was there a particular experience that made you feel that way? I'm here to listen and chat about it if you'd like.\n",
      "\n"
     ]
    },
    {
     "name": "stdin",
     "output_type": "stream",
     "text": [
      "Piek:6>  They are scary\n"
     ]
    },
    {
     "name": "stdout",
     "output_type": "stream",
     "text": [
      "Llama:7> Scary can be a pretty strong feeling when it comes to dogs, especially if they're being loud or aggressive. Some people might get really anxious around them because of their size or noise. Do you have any experiences with dogs that have made you feel scared? I'm here to listen and chat about it if you'd like.\n",
      "\n"
     ]
    },
    {
     "name": "stdin",
     "output_type": "stream",
     "text": [
      "Piek:8>  I love dogs\n"
     ]
    },
    {
     "name": "stdout",
     "output_type": "stream",
     "text": [
      "Llama:9> That's great! It's always wonderful to see people who love animals, especially dogs! They are such wonderful companions and can bring so much joy to our lives. What kind of experiences have you had with dogs that have made you appreciate them even more? I'd love to hear your stories or adventures with furry friends!\n",
      "\n"
     ]
    },
    {
     "name": "stdin",
     "output_type": "stream",
     "text": [
      "Piek:10>  They are noisy\n"
     ]
    },
    {
     "name": "stdout",
     "output_type": "stream",
     "text": [
      "Llama:11> Noisy dogs can be quite the challenge for many people! Some dogs can be a bit loud and boisterous, especially when they're excited or playing. It's like they're trying to shout their excitement out loud! Do you find it annoying sometimes?\n",
      "\n"
     ]
    },
    {
     "name": "stdin",
     "output_type": "stream",
     "text": [
      "Piek:12>  I adore cats\n"
     ]
    },
    {
     "name": "stdout",
     "output_type": "stream",
     "text": [
      "Llama:13> You're a cat person, I love that! Cats are such lovely companions, and many people have a special fondness for them. They can be quite affectionate and playful in their own way, even if they don't always want to cuddle like dogs do. Do you have any funny stories about your experiences with cats?\n",
      "\n"
     ]
    },
    {
     "name": "stdin",
     "output_type": "stream",
     "text": [
      "Piek:14>  I am a dog person\n"
     ]
    },
    {
     "name": "stdout",
     "output_type": "stream",
     "text": [
      "Llama:15> You're a dog person, eh? Well, I'm glad to hear that! Dogs can be such wonderful companions and friends. They come in all shapes and sizes, and each one has their own unique personality. What's your favorite thing about dogs?\n",
      "\n"
     ]
    },
    {
     "name": "stdin",
     "output_type": "stream",
     "text": [
      "Piek:16>  bye\n"
     ]
    },
    {
     "name": "stdout",
     "output_type": "stream",
     "text": [
      "BYE BYE!\n"
     ]
    }
   ],
   "source": [
    "llama.talk_to_me()"
   ]
  },
  {
   "cell_type": "markdown",
   "id": "36bf9ec4-cdde-4ae3-882a-b7adeb56b01a",
   "metadata": {},
   "source": [
    "After ending the conversation properly, it is saved in a so-called JSON file next to this notebook which is named like \"<name>_chat_with_llama.json\", where <name> is the name that you used in the conversation. [JSON](https://www.json.org/json-en.html) is a simple data representation format. You can can open this file in the notebook by double-clicking on the file for inspection. You will see a list of data elements that you can expand by clicking on it. Each data element holds the utterance, the name of the speaker, and a turn identifier:\n",
    "\n",
    "```\n",
    "utterance:\"They are scary\"\n",
    "speaker: \"Piek\"\n",
    "turn_id: 8\n",
    "```"
   ]
  },
  {
   "cell_type": "markdown",
   "id": "78640e3b-680f-485f-a892-e4fbf1cddb09",
   "metadata": {},
   "source": [
    "## Annotating the conversation"
   ]
  },
  {
   "cell_type": "markdown",
   "id": "256944d9-6403-491f-91d3-cbcc46cd5b96",
   "metadata": {},
   "source": [
    "We created a function **annotate_chat** that will reload your turns in the conversation and add your interpretation labels to each turn.\n",
    "\n",
    "For this exercise, we are going to label the turns with the so-called six basic emotion labels proposed by Paul Ekman: https://www.paulekman.com/universal-emotions/\n",
    "\n",
    "We add a seventh emotion *neutral* and create a list of labels:"
   ]
  },
  {
   "cell_type": "code",
   "execution_count": 13,
   "id": "798e20a4-52b2-4f84-9cab-5866f34bd6ec",
   "metadata": {},
   "outputs": [],
   "source": [
    "#### Here are the 6 basic emotions that Ekman defined for facial expression. Neutral is the the 7th value\n",
    "ekman_labels = [\"anger\", \"disgust\", \"fear\", \"joy\", \"sadness\", \"surprise\", \"neutral\"]"
   ]
  },
  {
   "cell_type": "markdown",
   "id": "ad6d9de9-f0c9-4310-860e-5a2602b43063",
   "metadata": {},
   "source": [
    "When calling the function, we need to give the labels as a parameter. The function only accepts labels that are in the list."
   ]
  },
  {
   "cell_type": "code",
   "execution_count": 14,
   "id": "33d8c13a-53b7-42a2-b2f5-1c60e87a1b16",
   "metadata": {},
   "outputs": [
    {
     "name": "stdout",
     "output_type": "stream",
     "text": [
      "Llama : Hey there! I'm Llama, nice to meet you! What's your name?\n",
      "Human : My name is Piek\n"
     ]
    },
    {
     "name": "stdin",
     "output_type": "stream",
     "text": [
      "label>  neutral\n"
     ]
    },
    {
     "name": "stdout",
     "output_type": "stream",
     "text": [
      "Llama : Nice to meet you too, Piek! It's great to have a new friend like you around. So, what brings you here today? Do you want to chat about something in particular or just see where the conversation goes? I'm all ears (or should I say, all horn?) and ready to listen.\n",
      "Piek : I hate dogs\n"
     ]
    },
    {
     "name": "stdin",
     "output_type": "stream",
     "text": [
      "label>  disgust\n"
     ]
    },
    {
     "name": "stdout",
     "output_type": "stream",
     "text": [
      "Llama : Well, Piek, it's okay to have opinions and feelings! What doesn't like you about dogs? Was there a particular experience that made you feel that way? I'm here to listen and chat about it if you'd like.\n",
      "Piek : They are scary\n"
     ]
    },
    {
     "name": "stdin",
     "output_type": "stream",
     "text": [
      "label>  fear\n"
     ]
    },
    {
     "name": "stdout",
     "output_type": "stream",
     "text": [
      "Llama : Scary can be a pretty strong feeling when it comes to dogs, especially if they're being loud or aggressive. Some people might get really anxious around them because of their size or noise. Do you have any experiences with dogs that have made you feel scared? I'm here to listen and chat about it if you'd like.\n",
      "Piek : I love dogs\n"
     ]
    },
    {
     "name": "stdin",
     "output_type": "stream",
     "text": [
      "label>  joy\n"
     ]
    },
    {
     "name": "stdout",
     "output_type": "stream",
     "text": [
      "Llama : That's great! It's always wonderful to see people who love animals, especially dogs! They are such wonderful companions and can bring so much joy to our lives. What kind of experiences have you had with dogs that have made you appreciate them even more? I'd love to hear your stories or adventures with furry friends!\n",
      "Piek : They are noisy\n"
     ]
    },
    {
     "name": "stdin",
     "output_type": "stream",
     "text": [
      "label>  disgust\n"
     ]
    },
    {
     "name": "stdout",
     "output_type": "stream",
     "text": [
      "Llama : Noisy dogs can be quite the challenge for many people! Some dogs can be a bit loud and boisterous, especially when they're excited or playing. It's like they're trying to shout their excitement out loud! Do you find it annoying sometimes?\n",
      "Piek : I adore cats\n"
     ]
    },
    {
     "name": "stdin",
     "output_type": "stream",
     "text": [
      "label>  joy\n"
     ]
    },
    {
     "name": "stdout",
     "output_type": "stream",
     "text": [
      "Llama : You're a cat person, I love that! Cats are such lovely companions, and many people have a special fondness for them. They can be quite affectionate and playful in their own way, even if they don't always want to cuddle like dogs do. Do you have any funny stories about your experiences with cats?\n",
      "Piek : I am a dog person\n"
     ]
    },
    {
     "name": "stdin",
     "output_type": "stream",
     "text": [
      "label>  joy\n"
     ]
    },
    {
     "name": "stdout",
     "output_type": "stream",
     "text": [
      "Llama : You're a dog person, eh? Well, I'm glad to hear that! Dogs can be such wonderful companions and friends. They come in all shapes and sizes, and each one has their own unique personality. What's your favorite thing about dogs?\n"
     ]
    }
   ],
   "source": [
    "llama.annotate_chat(labels=ekman_labels)"
   ]
  },
  {
   "cell_type": "markdown",
   "id": "3f56eb42-c191-4a8d-900e-1bd12953a462",
   "metadata": {},
   "source": [
    "The annotations are saved in the same JSON file. Close the TAB with the JSON file if you have it still open en load the file again. You can now see an additional field with the annoations:\n",
    "\n",
    "```\n",
    "utterance:\"They are scary\"\n",
    "speaker: \"Piek\"\n",
    "turn_id: 8\n",
    "Gold: \"fear\"\n",
    "```"
   ]
  },
  {
   "cell_type": "markdown",
   "id": "5408a9fc-b4dc-43db-802a-3dc74b493a32",
   "metadata": {},
   "source": [
    "## End of notebook"
   ]
  },
  {
   "cell_type": "code",
   "execution_count": null,
   "id": "9b84a442-cadd-464d-9994-41bfd98982ae",
   "metadata": {},
   "outputs": [],
   "source": []
  }
 ],
 "metadata": {
  "kernelspec": {
   "display_name": "Python 3 (ipykernel)",
   "language": "python",
   "name": "python3"
  },
  "language_info": {
   "codemirror_mode": {
    "name": "ipython",
    "version": 3
   },
   "file_extension": ".py",
   "mimetype": "text/x-python",
   "name": "python",
   "nbconvert_exporter": "python",
   "pygments_lexer": "ipython3",
   "version": "3.10.11"
  }
 },
 "nbformat": 4,
 "nbformat_minor": 5
}
