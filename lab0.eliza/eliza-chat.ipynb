{
 "cells": [
  {
   "cell_type": "markdown",
   "metadata": {
    "tags": []
   },
   "source": [
    "# Eliza for having an emotional conversation\n",
    "\n",
    "This notebook is taken from: https://github.com/itu-qsp/eliza\n",
    "\n",
    "Eliza is a very basic chatbot created by Joseph Weizenbaum in 1964. It was intended to act as a psychotherapist by replying to human utterances on the basis of basic word cues in their input following simple psychological strategies. It uses very simple rules and patterns to create the responses of the system.\n",
    "\n",
    "This notebook is a Python implementation of Eliza that runs from a notebook. The basic code was implemented by students from IT University of Copenhagen, Denmark. It is not an exact replication of the original Eliza code but follows the overall design and is easy to understand.\n",
    "\n",
    "The notebook imports the main Python script **eliza** from the file **eliza.py**. The function **talk_to_me** starts the conversation asking for your input. Whatever you type is matched with patterns given in the **eliza_language.py** file. If there is a match, the program will select randomly one of the list of possible responses, optionally re-using words or phrases from the input.\n",
    "\n",
    "You can inspect the **eliza_language.py** to see the patterns for the cues and the corresponding responses. You can easly adapt the variable **PSYCHOBABBLE** yourself to adapt the system to your own insights, creating your own Eliza.\n",
    "\n",
    "We further adapted the code in  *eliza.py* file from the original Github so that the complete conversation is saved with the Speaker information and a turn identifier. We also provided functions to store the conversation to a file and to label the turns with interpretation labels.\n",
    "\n",
    "In this notebook, you import the Eliza code, have a conversation, label your input turns with emotion labels and save the conversation to disk."
   ]
  },
  {
   "cell_type": "markdown",
   "metadata": {},
   "source": [
    "## 1. Loading and running Eliza"
   ]
  },
  {
   "cell_type": "markdown",
   "metadata": {},
   "source": [
    "We first need to tell the notebook to load the **eliza** code, which it can find in the same directory in the **eliza.py** script."
   ]
  },
  {
   "cell_type": "code",
   "execution_count": 1,
   "metadata": {
    "scrolled": true,
    "tags": []
   },
   "outputs": [],
   "source": [
    "import eliza as el"
   ]
  },
  {
   "cell_type": "markdown",
   "metadata": {},
   "source": [
    "The next cell starts the chat with Eliza. Feel free to have a conversation as along as you like. Eliza will never stop! To stop type \"stop\", \"quit\" or \"bye\"."
   ]
  },
  {
   "cell_type": "code",
   "execution_count": 2,
   "metadata": {
    "tags": []
   },
   "outputs": [
    {
     "name": "stdout",
     "output_type": "stream",
     "text": [
      "My name is Eliza. What is your name?\n"
     ]
    },
    {
     "name": "stdin",
     "output_type": "stream",
     "text": [
      ">  Pi\n"
     ]
    },
    {
     "name": "stdout",
     "output_type": "stream",
     "text": [
      "Hello Pi. How are you feeling today?\n"
     ]
    },
    {
     "name": "stdin",
     "output_type": "stream",
     "text": [
      ">  I am sad\n"
     ]
    },
    {
     "name": "stdout",
     "output_type": "stream",
     "text": [
      "How do you feel about being sad?\n"
     ]
    },
    {
     "name": "stdin",
     "output_type": "stream",
     "text": [
      ">  Make me more sad\n"
     ]
    },
    {
     "name": "stdout",
     "output_type": "stream",
     "text": [
      "Very interesting.\n"
     ]
    },
    {
     "name": "stdin",
     "output_type": "stream",
     "text": [
      ">  My cat died this week\n"
     ]
    },
    {
     "name": "stdout",
     "output_type": "stream",
     "text": [
      "I see, your cat died this week.\n"
     ]
    },
    {
     "name": "stdin",
     "output_type": "stream",
     "text": [
      ">  We were very close\n"
     ]
    },
    {
     "name": "stdout",
     "output_type": "stream",
     "text": [
      "Why do you say that we were very close?\n"
     ]
    },
    {
     "name": "stdin",
     "output_type": "stream",
     "text": [
      ">  She liked me and followed me everywhere\n"
     ]
    },
    {
     "name": "stdout",
     "output_type": "stream",
     "text": [
      "Can you elaborate on that?\n"
     ]
    },
    {
     "name": "stdin",
     "output_type": "stream",
     "text": [
      ">  I call her my shadow\n"
     ]
    },
    {
     "name": "stdout",
     "output_type": "stream",
     "text": [
      "Very interesting.\n"
     ]
    },
    {
     "name": "stdin",
     "output_type": "stream",
     "text": [
      ">  I also liked her a lot\n"
     ]
    },
    {
     "name": "stdout",
     "output_type": "stream",
     "text": [
      "Very interesting.\n"
     ]
    },
    {
     "name": "stdin",
     "output_type": "stream",
     "text": [
      ">  Now she is gone\n"
     ]
    },
    {
     "name": "stdout",
     "output_type": "stream",
     "text": [
      "I see.  And what does that tell you?\n"
     ]
    },
    {
     "name": "stdin",
     "output_type": "stream",
     "text": [
      ">  I miss her\n"
     ]
    },
    {
     "name": "stdout",
     "output_type": "stream",
     "text": [
      "I see.\n"
     ]
    },
    {
     "name": "stdin",
     "output_type": "stream",
     "text": [
      ">  bye\n"
     ]
    }
   ],
   "source": [
    "el.talk_to_me()"
   ]
  },
  {
   "cell_type": "markdown",
   "metadata": {},
   "source": [
    "We kept the conversation in the **eliza** program as the **conversation**. We can now simply print the content to the screen in this notebook."
   ]
  },
  {
   "cell_type": "code",
   "execution_count": 3,
   "metadata": {
    "tags": []
   },
   "outputs": [
    {
     "name": "stdout",
     "output_type": "stream",
     "text": [
      "[{'utterance': 'Hello Pi. How are you feeling today?', 'speaker': 'Eliza', 'turn_id': 0}, {'utterance': 'I am sad', 'speaker': 'Pi', 'turn_id': 1}, {'utterance': 'How do you feel about being sad?', 'speaker': 'Eliza', 'turn_id': 1}, {'utterance': 'Make me more sad', 'speaker': 'Pi', 'turn_id': 2}, {'utterance': 'Very interesting.', 'speaker': 'Eliza', 'turn_id': 2}, {'utterance': 'My cat died this week', 'speaker': 'Pi', 'turn_id': 3}, {'utterance': 'I see, your cat died this week.', 'speaker': 'Eliza', 'turn_id': 3}, {'utterance': 'We were very close', 'speaker': 'Pi', 'turn_id': 4}, {'utterance': 'Why do you say that we were very close?', 'speaker': 'Eliza', 'turn_id': 4}, {'utterance': 'She liked me and followed me everywhere', 'speaker': 'Pi', 'turn_id': 5}, {'utterance': 'Can you elaborate on that?', 'speaker': 'Eliza', 'turn_id': 5}, {'utterance': 'I call her my shadow', 'speaker': 'Pi', 'turn_id': 6}, {'utterance': 'Very interesting.', 'speaker': 'Eliza', 'turn_id': 6}, {'utterance': 'I also liked her a lot', 'speaker': 'Pi', 'turn_id': 7}, {'utterance': 'Very interesting.', 'speaker': 'Eliza', 'turn_id': 7}, {'utterance': 'Now she is gone', 'speaker': 'Pi', 'turn_id': 8}, {'utterance': 'I see.  And what does that tell you?', 'speaker': 'Eliza', 'turn_id': 8}, {'utterance': 'I miss her', 'speaker': 'Pi', 'turn_id': 9}, {'utterance': 'I see.', 'speaker': 'Eliza', 'turn_id': 9}, {'utterance': 'bye', 'speaker': 'Pi', 'turn_id': 10}]\n"
     ]
    }
   ],
   "source": [
    "print(el.conversation)"
   ]
  },
  {
   "cell_type": "markdown",
   "metadata": {},
   "source": [
    "You see a rather technical structure with our utterances and other fields in a sequence. What this structure is and how to deal with it will be explained in more detail in the coming weeks. For now you do not need to understand everything."
   ]
  },
  {
   "cell_type": "markdown",
   "metadata": {},
   "source": [
    "We extended the **eliza** code with a save function that stores it in a so-called **JSON** file. **JSON** is a light-weight format for saving data, which will be explained in more detail later in this course as well."
   ]
  },
  {
   "cell_type": "code",
   "execution_count": 4,
   "metadata": {},
   "outputs": [],
   "source": [
    "el.save_to_json()"
   ]
  },
  {
   "cell_type": "markdown",
   "metadata": {},
   "source": [
    "Calling the previous cell creates a file on your disk with the name `<name>_chat_with_eliza.json`, where `<name>` is the name you gave to Eliza. In the above case example, I used the name \"Pi\" so you see the file \"pi_chat_with_eliza.json\" appears in the left panel if you use Jupyter lab. If you used another name, another file will appear. You can open the file in this notebook in a separate TAB by double-clicking it. You see a `root` element with items. Expand each item by clicking on the arrow-head. It shows you the structure of a turn from the conversation with the fields `utterance`, `speaker`, `turn_id` for each turn."
   ]
  },
  {
   "cell_type": "markdown",
   "metadata": {},
   "source": [
    "# 2. Annotate the conversation with emotion labels"
   ]
  },
  {
   "cell_type": "markdown",
   "metadata": {},
   "source": [
    "We also create a function that will reload the conversation and play it again turn by turn. In this case, it allows you to add your interpretation labels to each turn.\n",
    "\n",
    "For this exercise, we are going to label the turns with the so-called six basic emotion labels proposed by Paul Ekman: https://www.paulekman.com/universal-emotions/\n",
    "\n",
    "We add a seventh emotion neutral and create a list of labels:"
   ]
  },
  {
   "cell_type": "code",
   "execution_count": 5,
   "metadata": {
    "tags": []
   },
   "outputs": [],
   "source": [
    "#### Here are the 6 basic emotions that Ekman defined for facial expression. Neutral is the the 7th value\n",
    "ekman_labels = [\"anger\", \"disgust\", \"fear\", \"joy\", \"sadness\", \"surprise\", \"neutral\"]"
   ]
  },
  {
   "cell_type": "markdown",
   "metadata": {},
   "source": [
    "The next cell calls the **annotate_chat** function that we added to **eliza** that will guide you through the turns of your previsou conversation and asks you to assign one of the seven labels from the list to each of the turns that is not from Eliza. Note that it keeps on asking until your input matches one of the items."
   ]
  },
  {
   "cell_type": "code",
   "execution_count": 6,
   "metadata": {},
   "outputs": [
    {
     "name": "stdout",
     "output_type": "stream",
     "text": [
      "Eliza : Hello Pi. How are you feeling today?\n",
      "Pi : I am sad\n"
     ]
    },
    {
     "name": "stdin",
     "output_type": "stream",
     "text": [
      "label>  sad\n",
      "label>  sadness\n"
     ]
    },
    {
     "name": "stdout",
     "output_type": "stream",
     "text": [
      "Eliza : How do you feel about being sad?\n",
      "Pi : Make me more sad\n"
     ]
    },
    {
     "name": "stdin",
     "output_type": "stream",
     "text": [
      "label>  sadness\n"
     ]
    },
    {
     "name": "stdout",
     "output_type": "stream",
     "text": [
      "Eliza : Very interesting.\n",
      "Pi : My cat died this week\n"
     ]
    },
    {
     "name": "stdin",
     "output_type": "stream",
     "text": [
      "label>  sadness\n"
     ]
    },
    {
     "name": "stdout",
     "output_type": "stream",
     "text": [
      "Eliza : I see, your cat died this week.\n",
      "Pi : We were very close\n"
     ]
    },
    {
     "name": "stdin",
     "output_type": "stream",
     "text": [
      "label>  joy\n"
     ]
    },
    {
     "name": "stdout",
     "output_type": "stream",
     "text": [
      "Eliza : Why do you say that we were very close?\n",
      "Pi : She liked me and followed me everywhere\n"
     ]
    },
    {
     "name": "stdin",
     "output_type": "stream",
     "text": [
      "label>  neutral\n"
     ]
    },
    {
     "name": "stdout",
     "output_type": "stream",
     "text": [
      "Eliza : Can you elaborate on that?\n",
      "Pi : I call her my shadow\n"
     ]
    },
    {
     "name": "stdin",
     "output_type": "stream",
     "text": [
      "label>  neutral\n"
     ]
    },
    {
     "name": "stdout",
     "output_type": "stream",
     "text": [
      "Eliza : Very interesting.\n",
      "Pi : I also liked her a lot\n"
     ]
    },
    {
     "name": "stdin",
     "output_type": "stream",
     "text": [
      "label>  joy\n"
     ]
    },
    {
     "name": "stdout",
     "output_type": "stream",
     "text": [
      "Eliza : Very interesting.\n",
      "Pi : Now she is gone\n"
     ]
    },
    {
     "name": "stdin",
     "output_type": "stream",
     "text": [
      "label>  sadness\n"
     ]
    },
    {
     "name": "stdout",
     "output_type": "stream",
     "text": [
      "Eliza : I see.  And what does that tell you?\n",
      "Pi : I miss her\n"
     ]
    },
    {
     "name": "stdin",
     "output_type": "stream",
     "text": [
      "label>  sadness\n"
     ]
    },
    {
     "name": "stdout",
     "output_type": "stream",
     "text": [
      "Eliza : I see.\n",
      "Pi : bye\n"
     ]
    },
    {
     "name": "stdin",
     "output_type": "stream",
     "text": [
      "label>  neutral\n"
     ]
    }
   ],
   "source": [
    "el.annotate_chat(ekman_labels)"
   ]
  },
  {
   "cell_type": "markdown",
   "metadata": {},
   "source": [
    "If we print the **conversation** again, we see that the turns have a new element representing the labels that you assigned. Also note that all turns from Eliza have been labeled as \"neutral\" by our code. Eliza does NOT have emotions."
   ]
  },
  {
   "cell_type": "code",
   "execution_count": 7,
   "metadata": {
    "tags": []
   },
   "outputs": [
    {
     "name": "stdout",
     "output_type": "stream",
     "text": [
      "[{'utterance': 'Hello Pi. How are you feeling today?', 'speaker': 'Eliza', 'turn_id': 0, 'Gold': 'neutral'}, {'utterance': 'I am sad', 'speaker': 'Pi', 'turn_id': 1, 'Gold': 'sadness'}, {'utterance': 'How do you feel about being sad?', 'speaker': 'Eliza', 'turn_id': 1, 'Gold': 'neutral'}, {'utterance': 'Make me more sad', 'speaker': 'Pi', 'turn_id': 2, 'Gold': 'sadness'}, {'utterance': 'Very interesting.', 'speaker': 'Eliza', 'turn_id': 2, 'Gold': 'neutral'}, {'utterance': 'My cat died this week', 'speaker': 'Pi', 'turn_id': 3, 'Gold': 'sadness'}, {'utterance': 'I see, your cat died this week.', 'speaker': 'Eliza', 'turn_id': 3, 'Gold': 'neutral'}, {'utterance': 'We were very close', 'speaker': 'Pi', 'turn_id': 4, 'Gold': 'joy'}, {'utterance': 'Why do you say that we were very close?', 'speaker': 'Eliza', 'turn_id': 4, 'Gold': 'neutral'}, {'utterance': 'She liked me and followed me everywhere', 'speaker': 'Pi', 'turn_id': 5, 'Gold': 'neutral'}, {'utterance': 'Can you elaborate on that?', 'speaker': 'Eliza', 'turn_id': 5, 'Gold': 'neutral'}, {'utterance': 'I call her my shadow', 'speaker': 'Pi', 'turn_id': 6, 'Gold': 'neutral'}, {'utterance': 'Very interesting.', 'speaker': 'Eliza', 'turn_id': 6, 'Gold': 'neutral'}, {'utterance': 'I also liked her a lot', 'speaker': 'Pi', 'turn_id': 7, 'Gold': 'joy'}, {'utterance': 'Very interesting.', 'speaker': 'Eliza', 'turn_id': 7, 'Gold': 'neutral'}, {'utterance': 'Now she is gone', 'speaker': 'Pi', 'turn_id': 8, 'Gold': 'sadness'}, {'utterance': 'I see.  And what does that tell you?', 'speaker': 'Eliza', 'turn_id': 8, 'Gold': 'neutral'}, {'utterance': 'I miss her', 'speaker': 'Pi', 'turn_id': 9, 'Gold': 'sadness'}, {'utterance': 'I see.', 'speaker': 'Eliza', 'turn_id': 9, 'Gold': 'neutral'}, {'utterance': 'bye', 'speaker': 'Pi', 'turn_id': 10, 'Gold': 'neutral'}]\n"
     ]
    }
   ],
   "source": [
    "print(el.conversation)"
   ]
  },
  {
   "cell_type": "markdown",
   "metadata": {},
   "source": [
    "# 3. Save the annotated conversation to disk"
   ]
  },
  {
   "cell_type": "markdown",
   "metadata": {},
   "source": [
    "You saved the conversation before to a file before you annotated it. To save your annotations, you need to do it again."
   ]
  },
  {
   "cell_type": "code",
   "execution_count": 8,
   "metadata": {
    "tags": []
   },
   "outputs": [],
   "source": [
    "el.save_to_json()"
   ]
  },
  {
   "cell_type": "markdown",
   "metadata": {},
   "source": [
    "You can close the TAB with the conversation in the notebook and open it again. Inspect the items and check if there is a Gold label for each of them. If so, you are all set."
   ]
  },
  {
   "cell_type": "markdown",
   "metadata": {},
   "source": [
    "## End of Notebook"
   ]
  },
  {
   "cell_type": "code",
   "execution_count": null,
   "metadata": {},
   "outputs": [],
   "source": []
  }
 ],
 "metadata": {
  "kernelspec": {
   "display_name": "Python 3 (ipykernel)",
   "language": "python",
   "name": "python3"
  },
  "language_info": {
   "codemirror_mode": {
    "name": "ipython",
    "version": 3
   },
   "file_extension": ".py",
   "mimetype": "text/x-python",
   "name": "python",
   "nbconvert_exporter": "python",
   "pygments_lexer": "ipython3",
   "version": "3.10.11"
  }
 },
 "nbformat": 4,
 "nbformat_minor": 4
}
