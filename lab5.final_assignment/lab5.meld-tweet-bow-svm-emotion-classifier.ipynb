{
 "cells": [
  {
   "cell_type": "markdown",
   "metadata": {},
   "source": [
    "# Lab5 Creating a BoW SVM Classifier from MELD and Tweets"
   ]
  },
  {
   "cell_type": "markdown",
   "metadata": {},
   "source": [
    "Copyright: Vrije Universiteit Amsterdam, Faculty of Humanities, CLTL"
   ]
  },
  {
   "cell_type": "markdown",
   "metadata": {},
   "source": [
    "To classify your conversation with Eliza, you need to build a SVM emotion classifier using a TFIDF Bag-of-Words representation using all the data from MELD and WASSA Tweets. In this case you can use al the train, test and development data to train the final classifier as you are going to test it on your conversation."
   ]
  },
  {
   "cell_type": "code",
   "execution_count": 2,
   "metadata": {},
   "outputs": [],
   "source": [
    "import pandas as pd\n",
    "from collections import Counter\n",
    "import nltk\n",
    "from nltk.corpus import stopwords\n",
    "import pickle\n",
    "import sklearn\n",
    "from sklearn import svm\n",
    "from sklearn.metrics import classification_report\n",
    "from sklearn.feature_extraction.text import CountVectorizer\n",
    "from sklearn.feature_extraction.text import TfidfTransformer\n",
    "import seaborn as sns"
   ]
  },
  {
   "cell_type": "markdown",
   "metadata": {},
   "source": [
    "### 1. Loading the tweet data set"
   ]
  },
  {
   "cell_type": "code",
   "execution_count": 1,
   "metadata": {},
   "outputs": [],
   "source": [
    "# HERE COMES THE CODE TO LOAD THE TWEET TRAINING DATA\n",
    "# dftweets_train = "
   ]
  },
  {
   "cell_type": "code",
   "execution_count": 2,
   "metadata": {},
   "outputs": [],
   "source": [
    "# HERE COMES THE CODE TO LOAD THE TWEET TEST DATA\n",
    "# dftweets_test = "
   ]
  },
  {
   "cell_type": "code",
   "execution_count": 3,
   "metadata": {},
   "outputs": [],
   "source": [
    "# HERE COMES THE CODE TO LOAD THE TWEET DEVELOPMENT DATA\n",
    "# dftweets_dev = "
   ]
  },
  {
   "cell_type": "markdown",
   "metadata": {},
   "source": [
    "Get the training texts and labels"
   ]
  },
  {
   "cell_type": "code",
   "execution_count": 4,
   "metadata": {},
   "outputs": [],
   "source": [
    "tweet_train_instances = []\n",
    "# HERE COMES THE CODE TO GET THE TEXT FROM TRAIN\n",
    "\n",
    "tweet_train_labels = []\n",
    "# HERE COMES THE CODE TO GET THE LABELS FROM TRAIN\n",
    "\n",
    "tweet_test_instances = []\n",
    "# HERE COMES THE CODE TO GET THE TEXT FROM TEST\n",
    "\n",
    "tweet_test_labels = []\n",
    "# HERE COMES THE CODE TO GET THE LABEL FROM TEST\n",
    "    \n",
    "tweet_dev_instances = []\n",
    "# HERE COMES THE CODE TO GET THE TEXT FROM DEV\n",
    "\n",
    "tweet_dev_labels = []\n",
    "# HERE COMES THE CODE TO GET THE LABELS FROM DEV\n"
   ]
  },
  {
   "cell_type": "markdown",
   "metadata": {},
   "source": [
    "## 2. Loading the MELD data set"
   ]
  },
  {
   "cell_type": "code",
   "execution_count": 5,
   "metadata": {},
   "outputs": [],
   "source": [
    "# HERE COMES THE CODE TO LOAD THE MELD TRAINING DATA\n",
    "# dfmeld_train "
   ]
  },
  {
   "cell_type": "code",
   "execution_count": 6,
   "metadata": {},
   "outputs": [],
   "source": [
    "# HERE COMES THE CODE TO LOAD THE MELD TEST DATA\n",
    "# dfmeld_tEST"
   ]
  },
  {
   "cell_type": "code",
   "execution_count": 7,
   "metadata": {},
   "outputs": [],
   "source": [
    "# HERE COMES THE CODE TO LOAD THE MELD DEVELOPMENT DATA\n",
    "# dfmeld_DEV"
   ]
  },
  {
   "cell_type": "code",
   "execution_count": 13,
   "metadata": {},
   "outputs": [],
   "source": [
    "meld_train_instances = []\n",
    "# HERE COMES THE CODE TO GET THE TEXT FROM TRAIN\n",
    "\n",
    "meld_train_labels = []\n",
    "# HERE COMES THE CODE TO GET THE LABELS FROM TRAIN\n",
    "\n",
    "meld_test_instances = []\n",
    "# HERE COMES THE CODE TO GET THE TEXT FROM TEST\n",
    "\n",
    "meld_test_labels = []\n",
    "# HERE COMES THE CODE TO GET THE LABEL FROM TEST\n",
    "    \n",
    "meld_dev_instances = []\n",
    "# HERE COMES THE CODE TO GET THE TEXT FROM DEV\n",
    "\n",
    "meld_dev_labels = []\n",
    "# HERE COMES THE CODE TO GET THE LABELS FROM DEV\n"
   ]
  },
  {
   "cell_type": "markdown",
   "metadata": {},
   "source": [
    "## 3. Combining the training data"
   ]
  },
  {
   "cell_type": "code",
   "execution_count": 15,
   "metadata": {},
   "outputs": [],
   "source": [
    "# HERE COMES THE CODE FOR CREATING A SINGLE TRAINING DATA SET\n",
    "# TWEET TRAIN, TEST and DEV INSTANCES\n",
    "# MELD TRAIN, TEST and DEV INSTANCES\n",
    "\n",
    "# TWEET TRAIN, TEST and DEV LABEL\n",
    "# MELD TRAIN, TEST and DEV LABEL\n",
    "\n",
    "\n",
    "combined_train_instances = []\n",
    "combined_train_labels = []"
   ]
  },
  {
   "cell_type": "code",
   "execution_count": null,
   "metadata": {},
   "outputs": [],
   "source": [
    "# HERE COMES THE CODE TO CHECK THE DATA AND ANALYSE THE DISTRIBUTION OVER THE EMOTION LABELS"
   ]
  },
  {
   "cell_type": "code",
   "execution_count": 8,
   "metadata": {},
   "outputs": [],
   "source": [
    "# HERE COMES THE CODE TO TRAIN AN SVM CLASSIFIER WITH A BOW TFIDF DATA REPRESENTATION"
   ]
  },
  {
   "cell_type": "markdown",
   "metadata": {},
   "source": [
    "## 4. Saving the final combined classifier to disk"
   ]
  },
  {
   "cell_type": "code",
   "execution_count": 9,
   "metadata": {},
   "outputs": [],
   "source": [
    "# HERE COMES THE CODE TO SAVE THE CLASSIFIER TO DISK SO THAT YOU CAN USE IT FOR THE FINAL ASSIGNMENT"
   ]
  },
  {
   "cell_type": "markdown",
   "metadata": {},
   "source": [
    "# End of notebook"
   ]
  }
 ],
 "metadata": {
  "kernelspec": {
   "display_name": "Python 3 (ipykernel)",
   "language": "python",
   "name": "python3"
  },
  "language_info": {
   "codemirror_mode": {
    "name": "ipython",
    "version": 3
   },
   "file_extension": ".py",
   "mimetype": "text/x-python",
   "name": "python",
   "nbconvert_exporter": "python",
   "pygments_lexer": "ipython3",
   "version": "3.10.11"
  }
 },
 "nbformat": 4,
 "nbformat_minor": 4
}
