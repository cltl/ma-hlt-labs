{
 "cells": [
  {
   "cell_type": "markdown",
   "metadata": {},
   "source": [
    "# Lab-1: Introduction to Natural Language Processing tools\n",
    "\n",
    "Copyright, Vrije Universiteit Amsterdam, Faculty of Humanities, CLTL"
   ]
  },
  {
   "cell_type": "markdown",
   "metadata": {
    "tags": []
   },
   "source": [
    "## Lab-1 in a nutshell\n",
    "In this notebook, we try to answer the most important questions you might have about this lab session:\n",
    "\n",
    "* How to work with the Terminal (Mac, Linux) or the Command Line (Windows)?\n",
    "* How do I work with Jupyter Notebooks?\n",
    "* In what order should I go through the notebooks of Lab-1?"
   ]
  },
  {
   "cell_type": "markdown",
   "metadata": {},
   "source": [
    "In this course, you will be working with so-called Jupyter notebooks. Jupyter notebooks can be opened in a web browser and let you run python commands, visualise the output and add documentation using Markdown language. They are very easy to use and adapt so that you can experiment with the material step-by-step. By making your own notes in addition you can create your own learning experience. We will next explain how to install and use it."
   ]
  },
  {
   "cell_type": "markdown",
   "metadata": {},
   "source": [
    "## Working with the terminal"
   ]
  },
  {
   "cell_type": "markdown",
   "metadata": {},
   "source": [
    "Mac (unix) and Linux come with a terminal application that is straight forward to use. Windows also has a terminal, which can be installed and activated as explained here:\n",
    "\n",
    " https://docs.microsoft.com/en-us/windows/terminal/get-started\n",
    "\n",
    "You can also simulate a Linux terminal in Windows through Git bash:\n",
    "\n",
    " https://www.atlassian.com/git/tutorials/git-bash\n",
    " "
   ]
  },
  {
   "cell_type": "markdown",
   "metadata": {
    "tags": []
   },
   "source": [
    "## Why do you need to work from the command line?"
   ]
  },
  {
   "cell_type": "markdown",
   "metadata": {},
   "source": [
    "Why do you need to learn how to work from the command line if there are so many cool visual applications?\n",
    "\n",
    "Working from the command line seems awfully out-dated. However, they have some advantages:\n",
    "\n",
    "* they do not take up unnecessary memory when running code on large amounts of data\n",
    "* they are more transparant, which gives you full controll over what is running, where the data come from and where the result is stored\n",
    "* when it runs from command line, it can run practically anywhere, which makes sharing easier\n",
    "* graphical tools get out-dated quickly and may not run anymore in newer versions of operating systems\n",
    "\n",
    "You may argue that Jupyter notebook is also a graphical tool and you are right although a very ligh-weight graphical tool. However, we also do not advice you to use Jupyter notebooks in your future work for building and doing complex Natural Language Processing. We use notebooks solely for teaching purposes and documenting scientific experiments and eventually, we teach you how to put important code in python files that can run from the command line and which can be called from high-level notebooks as well. In the latter case, the notebook documents your experiment whereas the work is done in the python script files."
   ]
  },
  {
   "cell_type": "markdown",
   "metadata": {},
   "source": [
    "## Useful command line commands"
   ]
  },
  {
   "cell_type": "markdown",
   "metadata": {},
   "source": [
    "A terminal gives you access to a so-called UNIX/Linux *shell*. There are many things you can within such a shell, which was the only interface for computers for years. Working with shell commands is extremely fast and efficient. You do not need to learn all these commands but some of them come in very handy when doing Natural Language Processing.\n",
    "\n",
    "If you want to have a taste of the power of shell commands, please check out the following paper \"Unix for Poets\" by Kenneth Church. It explains how to make your own scripts for counting words, sort word lists, make n-grams and make concordances, for large amounts of text:\n",
    "\n",
    "https://www.cs.upc.edu/~padro/Unixforpoets.pdf\n",
    "\n",
    "For now, we will go through a small number of basic commands that you need to know for the classes:\n",
    "\n",
    "<ul>\n",
    "<li> <b>pwd</b>: gives the path to the current directory\n",
    "<li> <b>ls</b> (<b>dir</b>): gives a list of what is stored in the current directory\n",
    "<li> <b>cd</b>: change directory, either going up to the parent or going into a subdirectory\n",
    "<li> <b>mkdir</b>: create a new directory in the current directory\n",
    "<li> <b>rmdir</b>: remove a subfolder when empty\n",
    "<li> <b>rm</b>: permanently remove files and folders \n",
    "</ul>\n",
    "\n",
    "You can carry out some of these Unix commands in your notebook using the prefix '%'. We will go through the above commands in this notebook but you should try them in a terminal or Windows command line."
   ]
  },
  {
   "cell_type": "markdown",
   "metadata": {},
   "source": [
    "### pwd"
   ]
  },
  {
   "cell_type": "markdown",
   "metadata": {},
   "source": [
    "When you open a terminal or command line box, you will be somewhere on your hard disk. You will see a prompt where you can type a command to the computer. The first thing you want to know is where you are on your disk. For this we use the *pwd* command. Let's try this in this notebook, where we need to put \"!\" in front of it to tell Jupyter to run a shell command. On your terminal you can type *pwd* directly after the prompt and hit enter."
   ]
  },
  {
   "cell_type": "code",
   "execution_count": 1,
   "metadata": {
    "tags": []
   },
   "outputs": [
    {
     "name": "stdout",
     "output_type": "stream",
     "text": [
      "/Users/piek/Desktop/t-MA-HLT-introduction-2024/ma-hlt-labs/lab1.toolkits\n"
     ]
    }
   ],
   "source": [
    "!pwd"
   ]
  },
  {
   "cell_type": "markdown",
   "metadata": {},
   "source": [
    "The result is the full path to the location where this notebook is running. Note the use of slashes. On a Mac and Linux, *pathes* are created with forward slashes to separate subdirectories. On a Windows machine, you will see backward slashes, e.g. \"C:\\\\Users\\piek\\Desktop\\t-MA-HLT-introduction-2023\\ma-hlt-labs\\lab1.toolkits\".\n",
    "\n",
    "The use of slashes in a path is a very common error when people exchange code across platform. Note that I use a Mac for the notebooks so any path I show you has forward slashes. If you are on a Windows machine, flip these to backward slashes."
   ]
  },
  {
   "cell_type": "markdown",
   "metadata": {},
   "source": [
    "### ls (Mac/Linux) or dir (Windows)"
   ]
  },
  {
   "cell_type": "markdown",
   "metadata": {},
   "source": [
    "In a visual interface, opening a directory immediately shows you the content. In a command line interface you use the *ls* (Mac, Linux) or *dir* (WIndows) command: "
   ]
  },
  {
   "cell_type": "code",
   "execution_count": 2,
   "metadata": {},
   "outputs": [
    {
     "name": "stdout",
     "output_type": "stream",
     "text": [
      "Lab1-apple-samsung-example.txt      Lab1.3-introduction-to-spaCy.ipynb\n",
      "Lab1-assignment.ipynb               \u001b[34mimg\u001b[m\u001b[m/\n",
      "Lab1.1-introduction.ipynb           my_parse_tree.ps\n",
      "Lab1.2-introduction-to-NLTK.ipynb   spacy_tree_structure.svg\n"
     ]
    }
   ],
   "source": [
    "%ls"
   ]
  },
  {
   "cell_type": "markdown",
   "metadata": {},
   "source": [
    "We now get a listing of all the content of the lab1-toolkits directory, which is where we are."
   ]
  },
  {
   "cell_type": "markdown",
   "metadata": {},
   "source": [
    "### cd"
   ]
  },
  {
   "cell_type": "markdown",
   "metadata": {},
   "source": [
    "Now we can try out other things. Lets use the 'cd' (change directory) command to enter the directory named 'img', which is inside the lab1.toolkits directory."
   ]
  },
  {
   "cell_type": "code",
   "execution_count": 3,
   "metadata": {},
   "outputs": [
    {
     "name": "stdout",
     "output_type": "stream",
     "text": [
      "/Users/piek/Desktop/t-MA-HLT-introduction-2024/ma-hlt-labs/lab1.toolkits/img\n"
     ]
    },
    {
     "name": "stderr",
     "output_type": "stream",
     "text": [
      "/Users/piek/Desktop/t-MA-HLT-introduction-2024/ma-hlt-labs/venv/lib/python3.10/site-packages/IPython/core/magics/osm.py:417: UserWarning: This is now an optional IPython functionality, setting dhist requires you to install the `pickleshare` library.\n",
      "  self.shell.db['dhist'] = compress_dhist(dhist)[-100:]\n"
     ]
    }
   ],
   "source": [
    "%cd img"
   ]
  },
  {
   "cell_type": "markdown",
   "metadata": {
    "tags": []
   },
   "source": [
    "We can inspect the content of this directory using the same *ls* or *dir* command. However, we will now use a parameter \"-l\" that we add after the command. This parameter tells the system to provide details for each file and subdirectory shown as columns."
   ]
  },
  {
   "cell_type": "code",
   "execution_count": 4,
   "metadata": {
    "tags": []
   },
   "outputs": [
    {
     "name": "stdout",
     "output_type": "stream",
     "text": [
      "total 9456\n",
      "-rw-r--r--  1 piek  staff   135495 Jul 17 13:48 anaconda-navigator.png\n",
      "-rw-r--r--  1 piek  staff  1283626 Jul 17 13:48 anaconda-terminal.png\n",
      "-rw-r--r--  1 piek  staff    34449 Jul 17 13:48 f.png\n",
      "-rw-r--r--  1 piek  staff   575830 Jul 17 13:48 import-error-env.png\n",
      "-rw-r--r--  1 piek  staff    68604 Jul 17 13:48 jupyter-lab.png\n",
      "-rw-r--r--  1 piek  staff   157126 Jul 17 13:48 lab1.png\n",
      "-rw-r--r--  1 piek  staff    43641 Jul 17 13:48 nltk-parse-2.png\n",
      "-rw-r--r--  1 piek  staff    48520 Jul 17 13:48 nltk-parse.png\n",
      "-rw-r--r--  1 piek  staff    62260 Jul 17 13:48 nltk-parser-3.png\n",
      "-rw-r--r--  1 piek  staff   211656 Jul 17 13:48 nltk.download.png\n",
      "-rw-r--r--  1 piek  staff    30893 Jul 17 13:48 nltk.tools.png\n",
      "-rw-r--r--  1 piek  staff  1189585 Jul 17 13:48 pip-list.png\n",
      "-rw-r--r--  1 piek  staff   202859 Jul 17 13:48 terminal.png\n",
      "-rw-r--r--  1 piek  staff   769161 Jul 17 13:48 venv.png\n"
     ]
    }
   ],
   "source": [
    "%ls -l"
   ]
  },
  {
   "cell_type": "markdown",
   "metadata": {},
   "source": [
    "We see several image files (.png) that are used in the notebooks of Lab1. The file names are preceded by their creation date and time and their size. The first three columns provide information on ownership and rights to use. We will not explain all of these here but you can find documentation online what they mean and how to change use and access rights.\n",
    "\n",
    "Let's try a few more commands. We already used *cd* to enter a subdirectory but you can image that you also want to move out of a directory by going a level up. For leaving a directory and going back to the parent you do not have to provide the name but can use the generic specification \"..\":"
   ]
  },
  {
   "cell_type": "code",
   "execution_count": 5,
   "metadata": {},
   "outputs": [
    {
     "name": "stdout",
     "output_type": "stream",
     "text": [
      "/Users/piek/Desktop/t-MA-HLT-introduction-2024/ma-hlt-labs/lab1.toolkits\n",
      "Lab1-apple-samsung-example.txt      Lab1.3-introduction-to-spaCy.ipynb\n",
      "Lab1-assignment.ipynb               \u001b[34mimg\u001b[m\u001b[m/\n",
      "Lab1.1-introduction.ipynb           my_parse_tree.ps\n",
      "Lab1.2-introduction-to-NLTK.ipynb   spacy_tree_structure.svg\n"
     ]
    }
   ],
   "source": [
    "%cd ..\n",
    "%ls"
   ]
  },
  {
   "cell_type": "code",
   "execution_count": 6,
   "metadata": {
    "tags": []
   },
   "outputs": [
    {
     "name": "stdout",
     "output_type": "stream",
     "text": [
      "/Users/piek/Desktop/t-MA-HLT-introduction-2024/ma-hlt-labs\n",
      "README.md                   \u001b[34mlab2.word_meaning\u001b[m\u001b[m/\n",
      "\u001b[34mdata-formats\u001b[m\u001b[m/               \u001b[34mlab3.machine_learning\u001b[m\u001b[m/\n",
      "\u001b[34mlab0.eliza\u001b[m\u001b[m/                 \u001b[34mlab4.contextualized_models\u001b[m\u001b[m/\n",
      "\u001b[34mlab0.llama\u001b[m\u001b[m/                 \u001b[34mlab5.final_assignment\u001b[m\u001b[m/\n",
      "\u001b[34mlab1.toolkits\u001b[m\u001b[m/              \u001b[34mvenv\u001b[m\u001b[m/\n"
     ]
    }
   ],
   "source": [
    "%cd ..\n",
    "%ls"
   ]
  },
  {
   "cell_type": "markdown",
   "metadata": {},
   "source": [
    "You can see that the \"..\" is an abstract reference to the parent and we can repeat this all the way up through the path as a tree till we end at the root.\n",
    "\n",
    "Obviously, you can also specify the exact path to go somehwere if you know it. For example the next command brings us back to the \"img\" subdirectory directly."
   ]
  },
  {
   "cell_type": "code",
   "execution_count": 7,
   "metadata": {
    "tags": []
   },
   "outputs": [
    {
     "name": "stdout",
     "output_type": "stream",
     "text": [
      "[Errno 2] No such file or directory: '/Users/piek/Desktop/t-MA-HLT-introduction-2023/ma-hlt-labs/lab1.toolkits/img'\n",
      "/Users/piek/Desktop/t-MA-HLT-introduction-2024/ma-hlt-labs\n"
     ]
    },
    {
     "name": "stderr",
     "output_type": "stream",
     "text": [
      "/Users/piek/Desktop/t-MA-HLT-introduction-2024/ma-hlt-labs/venv/lib/python3.10/site-packages/IPython/core/magics/osm.py:393: UserWarning: This is now an optional IPython functionality, using bookmarks requires you to install the `pickleshare` library.\n",
      "  bkms = self.shell.db.get('bookmarks', {})\n"
     ]
    }
   ],
   "source": [
    "%cd /Users/piek/Desktop/t-MA-HLT-introduction-2023/ma-hlt-labs/lab1.toolkits/img"
   ]
  },
  {
   "cell_type": "markdown",
   "metadata": {},
   "source": [
    "### mkdir"
   ]
  },
  {
   "cell_type": "markdown",
   "metadata": {},
   "source": [
    "If you want to create a directory yourself you can do this using the *mkdir* command follwed by a name. So let's create a subdirectory witht he name \"test\":"
   ]
  },
  {
   "cell_type": "code",
   "execution_count": 8,
   "metadata": {},
   "outputs": [
    {
     "name": "stdout",
     "output_type": "stream",
     "text": [
      "/Users/piek/Desktop/t-MA-HLT-introduction-2024/ma-hlt-labs/test\n",
      "total 0\n"
     ]
    }
   ],
   "source": [
    "%mkdir test\n",
    "%cd test\n",
    "%ls -l"
   ]
  },
  {
   "cell_type": "markdown",
   "metadata": {},
   "source": [
    "What happens if you repeat running the above cell?"
   ]
  },
  {
   "cell_type": "markdown",
   "metadata": {},
   "source": [
    "### rmdir"
   ]
  },
  {
   "cell_type": "markdown",
   "metadata": {},
   "source": [
    "Make sure you clean your mess afterwards and delete the test folder. We do this using the *rmdir*:"
   ]
  },
  {
   "cell_type": "code",
   "execution_count": 9,
   "metadata": {
    "tags": []
   },
   "outputs": [
    {
     "name": "stdout",
     "output_type": "stream",
     "text": [
      "rmdir: test: No such file or directory\n"
     ]
    }
   ],
   "source": [
    "%rmdir test"
   ]
  },
  {
   "cell_type": "markdown",
   "metadata": {},
   "source": [
    "He! We get an error. Are you surprised? Let check where we are using *pwd* and check what is there using *ls*:"
   ]
  },
  {
   "cell_type": "code",
   "execution_count": 10,
   "metadata": {
    "tags": []
   },
   "outputs": [
    {
     "data": {
      "text/plain": [
       "'/Users/piek/Desktop/t-MA-HLT-introduction-2024/ma-hlt-labs/test'"
      ]
     },
     "execution_count": 10,
     "metadata": {},
     "output_type": "execute_result"
    }
   ],
   "source": [
    "%pwd"
   ]
  },
  {
   "cell_type": "code",
   "execution_count": 11,
   "metadata": {
    "tags": []
   },
   "outputs": [],
   "source": [
    "%ls"
   ]
  },
  {
   "cell_type": "markdown",
   "metadata": {},
   "source": [
    "We are still inside the \"test\" folder and there is nothing in there. To remove it, we need to go up to the parent first and remove it from there:"
   ]
  },
  {
   "cell_type": "code",
   "execution_count": 11,
   "metadata": {},
   "outputs": [
    {
     "name": "stdout",
     "output_type": "stream",
     "text": [
      "/Users/piek/Desktop/t-MA-HLT-introduction-2024/ma-hlt-labs\n",
      "README.md                   \u001b[34mlab3.machine_learning\u001b[m\u001b[m/\n",
      "\u001b[34mdata-formats\u001b[m\u001b[m/               \u001b[34mlab4.contextualized_models\u001b[m\u001b[m/\n",
      "\u001b[34mlab0.eliza\u001b[m\u001b[m/                 \u001b[34mlab5.final_assignment\u001b[m\u001b[m/\n",
      "\u001b[34mlab0.llama\u001b[m\u001b[m/                 \u001b[34mtest\u001b[m\u001b[m/\n",
      "\u001b[34mlab1.toolkits\u001b[m\u001b[m/              \u001b[34mvenv\u001b[m\u001b[m/\n",
      "\u001b[34mlab2.word_meaning\u001b[m\u001b[m/\n",
      "/Users/piek/Desktop/t-MA-HLT-introduction-2024/ma-hlt-labs\n",
      "README.md                   \u001b[34mlab2.word_meaning\u001b[m\u001b[m/\n",
      "\u001b[34mdata-formats\u001b[m\u001b[m/               \u001b[34mlab3.machine_learning\u001b[m\u001b[m/\n",
      "\u001b[34mlab0.eliza\u001b[m\u001b[m/                 \u001b[34mlab4.contextualized_models\u001b[m\u001b[m/\n",
      "\u001b[34mlab0.llama\u001b[m\u001b[m/                 \u001b[34mlab5.final_assignment\u001b[m\u001b[m/\n",
      "\u001b[34mlab1.toolkits\u001b[m\u001b[m/              \u001b[34mvenv\u001b[m\u001b[m/\n"
     ]
    }
   ],
   "source": [
    "%cd ..\n",
    "%ls\n",
    "%rmdir test\n",
    "%cd .\n",
    "%ls"
   ]
  },
  {
   "cell_type": "markdown",
   "metadata": {},
   "source": [
    "You can see that *test* was there before the *rmdir* and no longer is there now."
   ]
  },
  {
   "cell_type": "markdown",
   "metadata": {},
   "source": [
    "### To use or not to use the \"rm\" command"
   ]
  },
  {
   "cell_type": "markdown",
   "metadata": {
    "tags": []
   },
   "source": [
    "If a directory is not empty, *rmdir* will not work. There is a very powerful shell command *rm* that can remove anything and can do that recursively. This is the *rm* command. You can use it to remove directories and files and when used recursively it will also delete all subdirectories with their content.\n",
    "\n",
    "Before you use this command, we advise you to study the documentation carefully. The *rm* command will NOT put your data into the trash but immediately remove it permanently.\n",
    "\n",
    "What will happen if you go to the root of your disk using *cd* and call the *rm* command recursively to remove any directory or file using a wild card for their name? Don't try it, think about it!!!"
   ]
  },
  {
   "cell_type": "markdown",
   "metadata": {},
   "source": [
    "It will permanently delete everything from your harddrive! To be save remove files and directories using your graphical interface unless you know exactly how the *rm* command works."
   ]
  },
  {
   "cell_type": "markdown",
   "metadata": {},
   "source": [
    "A final note on working with the terminal/command line. In your professional work, you are most likley going to use the terminal. You may have to connect your laptop to a server that runs Linux or Unix or Windows and run scripts with series of commands without a graphical interface. Typically, you run jobs with a lot of text data (hunderds of thousands, millions of documents) on these servers and not on your laptop.\n",
    "\n",
    "So it is good to familiarize yourself in due time with different operating systems: Linux, Unix (Mac), Windows and using a command line interface. If it is too overwhelming now, don't worry. You will get it eventually during the master."
   ]
  },
  {
   "cell_type": "markdown",
   "metadata": {},
   "source": [
    "Some other useful links:\n",
    "* Unix tutorial: https://www.ibm.com/developerworks/aix/library/au-unixtext/\n",
    "* Linux tutorial: https://tldp.org/LDP/intro-linux/html/intro-linux.html"
   ]
  },
  {
   "cell_type": "markdown",
   "metadata": {},
   "source": [
    "## How do I work with Jupyter Notebooks? \n",
    "\n",
    "The first choice you have to make is what editor you want to use for running and creating notebooks. The editor that we recommend is [JupyterLab](https://jupyterlab.readthedocs.io/en/stable/index.html). \n",
    "\n",
    "The best way to launch [JupyterLab] is from the command line:\n",
    "\n",
    "<ul>\n",
    "<li> Step 1: open the command line or a terminal.\n",
    "<li>  Step 2: type \"jupyter lab\" and press enter.\n",
    "<li>  Step 3: navigate to the folder where you stored the notebooks for Lab1.\n",
    "</ul>\n",
    "\n",
    "The documentation for JupyterLab can be found [here](https://jupyterlab.readthedocs.io/en/stable/).\n",
    "    \n",
    "After that you've chosen and opened an editor, it is important that you know how to work with notebooks. \n",
    "We are going to practice Python using Notebooks. These Notebooks contain instructions and so-called 'code blocks'. The instructions are paragraphs of text that explain the concepts we are going to use. The 'code blocks' contain Python code.\n",
    "\n",
    "Notebooks are pretty straightforward. Some tips:\n",
    "* Cells in a notebook contain code or text (Markdown). If you run a cell, it will either run the code or render the text from the Markdown.\n",
    "* There are five ways to run a cell:\n",
    "    * Click the 'play' button next to the 'stop' and 'refresh' button in the toolbar.\n",
    "    * Alt + Enter runs the current cell and creates a new cell. \n",
    "    * Ctrl + Enter runs the current cell without creating a new cell.\n",
    "    * Shift + Enter runs the current cell and moves to the next one.\n",
    "    * Use the menu and select *Kernel* -> *Restart Kernal and Run All Cells*\n",
    "* The instructions are written in Markdown. [Here](https://github.com/adam-p/markdown-here/wiki/Markdown-Cheatsheet) is a nice Markdown cheatsheet if you want to write some more.\n",
    "* Explore the menus for more options! You can even create a presentation using Notebooks.\n",
    "\n",
    "If want to know more, [this](https://www.dataquest.io/blog/jupyter-notebook-tutorial/) is a nice tutorial on notebooks."
   ]
  },
  {
   "cell_type": "markdown",
   "metadata": {},
   "source": [
    "## In what order should I go through the notebooks of Lab 1?\n",
    "Please go through the notebooks in the following order:\n",
    "* **Lab1.1-introduction.ipynb** (the notebook you are now reading)\n",
    "* **Lab1.2-introduction-to-NLTK.ipynb** \n",
    "* **Lab1.3-introduction-to-spaCy.ipynb**\n",
    "* **Lab1-assignment.ipynb**"
   ]
  },
  {
   "cell_type": "markdown",
   "metadata": {},
   "source": [
    "## What are we going to discuss in this lab session?\n",
    "Natural Language Processing (NLP) tools transform text in some meaningful way (e.g. translation or summarization) or create interpretations (e.g. determining morpho-syntactic text structure, text meaning or use it for answering questions). This can be through low-level, e.g. splitting a text into separate words, assign part-of-speech tags to each word, and high-level analysis, e.g. detecting entities in text, detecting events, determining the sentiment or emotions."
   ]
  },
  {
   "cell_type": "markdown",
   "metadata": {},
   "source": [
    "There are powerfull Python toolkits available that allow you to run all the above NLP tasks and more. \n",
    "\n",
    "In this lab, we introduce two popular toolkits:\n",
    "* [Natural Language Toolkit](https://www.nltk.org/) (NLTK) (see notebook **Lab1.2-introduction-to-NLTK.ipynb**)\n",
    "* [spaCy](https://spacy.io/) (see notebook **Lab1.3-introduction-to-spaCy.ipynb**)\n",
    "\n",
    "In the notebook in which we introduce NLTK, we not only show how to perform these tasks in NLTK, but we also **explain** how they work. The online NLTK book is a good aid for this.\n",
    "\n",
    "For SpaCy, we show how to **interpret** its output. SpaCy is a more modern library that can be used for production purposes. It is fast, works for many languages and is regularly updated. It is less useful for didactic purposes, as it is less clear what technology is inside."
   ]
  },
  {
   "cell_type": "markdown",
   "metadata": {},
   "source": [
    "## End of this notebook"
   ]
  }
 ],
 "metadata": {
  "kernelspec": {
   "display_name": "Python 3 (ipykernel)",
   "language": "python",
   "name": "python3"
  },
  "language_info": {
   "codemirror_mode": {
    "name": "ipython",
    "version": 3
   },
   "file_extension": ".py",
   "mimetype": "text/x-python",
   "name": "python",
   "nbconvert_exporter": "python",
   "pygments_lexer": "ipython3",
   "version": "3.10.11"
  }
 },
 "nbformat": 4,
 "nbformat_minor": 4
}
