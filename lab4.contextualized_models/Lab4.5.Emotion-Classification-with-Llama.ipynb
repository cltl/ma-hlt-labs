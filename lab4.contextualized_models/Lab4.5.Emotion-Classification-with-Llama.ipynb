{
 "cells": [
  {
   "cell_type": "markdown",
   "id": "a403c511-01b1-41d3-856e-3d5f86b30875",
   "metadata": {},
   "source": [
    "# Lab4.5 Emotional classification with Llama3"
   ]
  },
  {
   "cell_type": "markdown",
   "id": "f8a989fb-0cd9-41ee-a45b-b6989c6eef20",
   "metadata": {},
   "source": [
    "Copyright: Vrije Universiteit Amsterdam, Faculty of Humanities, CLTL"
   ]
  },
  {
   "cell_type": "markdown",
   "id": "fb92fb8b-6e76-4a6b-86b3-76db5a46f0da",
   "metadata": {},
   "source": [
    "Through this notebook, you will annotate a text with Llama version 3, a Generative Large Language Model model released by [Meta](https://llama.meta.com/llama3/). \n",
    "\n",
    "You will read a conversation and send the utterances to the Llama server to annotate each using instructions, soca-lled prompting. For running a server locally see the notebook **how-to-install-llama-server.ipynb* from the start of the course. Note that the server needs to run in another terminally in parallel to this notebook. In case you cannot run the server, use the credentials for the CLTL server.\n",
    "\n",
    "The code for the annotator is given in **llama_annotator.py**. It is an OpenAI client that sends a prompt request to a llama server server for a response."
   ]
  },
  {
   "cell_type": "markdown",
   "id": "e40055b3-24ef-48a2-baf4-ad78fad3e189",
   "metadata": {},
   "source": [
    "### Installation of an OpenAI client"
   ]
  },
  {
   "cell_type": "markdown",
   "id": "8e1d29a3-9117-4727-a479-8c711f5dae22",
   "metadata": {},
   "source": [
    "To run the annotator, you first need to install the OpenAI client using the following command line. If you ran the code for Llama Chat client you already did this."
   ]
  },
  {
   "cell_type": "code",
   "execution_count": 9,
   "id": "5bc583be-47ec-456e-90b0-7461f5ca3e9d",
   "metadata": {
    "scrolled": true
   },
   "outputs": [],
   "source": [
    "#! pip install openai"
   ]
  },
  {
   "cell_type": "markdown",
   "id": "4b288df2-5948-4e60-bb40-f729d65a758f",
   "metadata": {},
   "source": [
    "Once succesfully installed, you can comment out the previous cell and you do not need to do this again when running this notebook. The OpenAI module is now installed on your machine and can be imported. The import will be done by the **llama_annotator.py** script, which we will load next."
   ]
  },
  {
   "cell_type": "markdown",
   "id": "bd230988-2c7b-4018-9131-ca6d4f912db7",
   "metadata": {},
   "source": [
    "## Creating the Llama chatbot"
   ]
  },
  {
   "cell_type": "code",
   "execution_count": 1,
   "id": "96552b4f-f63b-4155-9956-01ff93c62cd0",
   "metadata": {},
   "outputs": [],
   "source": [
    "from llama_annotator import LlamaAnnotator"
   ]
  },
  {
   "cell_type": "markdown",
   "id": "2b8300d5-04bb-4467-bbb3-a94491d40105",
   "metadata": {},
   "source": [
    "If there are no error messages, we can create a chatbot instance of a LlamaAnnotator as defined in **llama_annotator.py**. We define **annotator** as an instance of a LLamaCAnnotator, where we can specify three additional parameters: the *url* of the server (either local or online), the labels that we want to use for the annoation and optionally examples of the input and output."
   ]
  },
  {
   "cell_type": "code",
   "execution_count": 2,
   "id": "4a7758a1-1eb6-4ce9-bb4a-c7967ed51788",
   "metadata": {},
   "outputs": [
    {
     "name": "stdout",
     "output_type": "stream",
     "text": [
      "My instructions are: [{'role': 'system', 'content': 'You are an intelligent assistant.'}, {'role': 'system', 'content': 'You will receive utterances from a conversation as Input in JSON format.'}, {'role': 'system', 'content': \"You need to decide whether one of the following labels apply:['anger', 'disgust', 'fear', 'joy', 'sadness', 'surprise', 'neutral']\"}, {'role': 'system', 'content': 'Output the most appropriate label in JSON format.'}, {'role': 'system', 'content': 'Do not output anything else.'}, {'role': 'system', 'content': 'Here are a few examples:'}, {'role': 'user', 'content': 'I love dogs'}, {'role': 'system', 'content': 'joy'}, {'role': 'user', 'content': 'I hate cats'}, {'role': 'system', 'content': 'disgust'}]\n"
     ]
    }
   ],
   "source": [
    "### Labels to try\n",
    "sentiment_labels = [\"positive\", \"negative\", \"neutral\"]\n",
    "ekman_labels = [\"anger\", \"disgust\", \"fear\", \"joy\", \"sadness\", \"surprise\", \"neutral\"]\n",
    "examples = [{\"Input\": \"I love dogs\", \"Output\": \"joy\"}, {\"Input\": \"I hate cats\", \"Output\": \"disgust\"}]\n",
    "\n",
    "annotator = LlamaAnnotator(url=\"http://localhost:9001/v1\", labels=ekman_labels, examples=examples)"
   ]
  },
  {
   "cell_type": "markdown",
   "id": "01a0efb0-1ee3-4466-858e-74e6c9656287",
   "metadata": {},
   "source": [
    "We are now going to read the conversation that we had before with Llama with our annotations and send these to the server again to annotate."
   ]
  },
  {
   "cell_type": "code",
   "execution_count": 3,
   "id": "bab5ae50-badd-4376-a90b-5de41404f917",
   "metadata": {},
   "outputs": [
    {
     "data": {
      "text/html": [
       "<div>\n",
       "<style scoped>\n",
       "    .dataframe tbody tr th:only-of-type {\n",
       "        vertical-align: middle;\n",
       "    }\n",
       "\n",
       "    .dataframe tbody tr th {\n",
       "        vertical-align: top;\n",
       "    }\n",
       "\n",
       "    .dataframe thead th {\n",
       "        text-align: right;\n",
       "    }\n",
       "</style>\n",
       "<table border=\"1\" class=\"dataframe\">\n",
       "  <thead>\n",
       "    <tr style=\"text-align: right;\">\n",
       "      <th></th>\n",
       "      <th>utterance</th>\n",
       "      <th>speaker</th>\n",
       "      <th>turn_id</th>\n",
       "      <th>Gold</th>\n",
       "      <th>Annotator</th>\n",
       "      <th>Votes</th>\n",
       "      <th>Annotators</th>\n",
       "    </tr>\n",
       "  </thead>\n",
       "  <tbody>\n",
       "    <tr>\n",
       "      <th>0</th>\n",
       "      <td>No my name is Coins.</td>\n",
       "      <td>Coins</td>\n",
       "      <td>4</td>\n",
       "      <td>neutral</td>\n",
       "      <td>Yuleum</td>\n",
       "      <td>[neutral, neutral]</td>\n",
       "      <td>[Yuleum, Lara]</td>\n",
       "    </tr>\n",
       "    <tr>\n",
       "      <th>1</th>\n",
       "      <td>No I am not interested in Coins at all. My par...</td>\n",
       "      <td>Coins</td>\n",
       "      <td>6</td>\n",
       "      <td>anger</td>\n",
       "      <td>Yuleum</td>\n",
       "      <td>[anger, anger]</td>\n",
       "      <td>[Yuleum, Lara]</td>\n",
       "    </tr>\n",
       "    <tr>\n",
       "      <th>2</th>\n",
       "      <td>They laugh at it a lot, which makes me annoyed...</td>\n",
       "      <td>Coins</td>\n",
       "      <td>8</td>\n",
       "      <td>anger</td>\n",
       "      <td>Yuleum</td>\n",
       "      <td>[anger, sadness]</td>\n",
       "      <td>[Yuleum, Lara]</td>\n",
       "    </tr>\n",
       "    <tr>\n",
       "      <th>3</th>\n",
       "      <td>Wow thanks. But my parents have passed away so...</td>\n",
       "      <td>Coins</td>\n",
       "      <td>10</td>\n",
       "      <td>sadness</td>\n",
       "      <td>Yuleum</td>\n",
       "      <td>[sadness, surprise]</td>\n",
       "      <td>[Yuleum, Lara]</td>\n",
       "    </tr>\n",
       "    <tr>\n",
       "      <th>4</th>\n",
       "      <td>I'm not sure yet. Can you give me some recomme...</td>\n",
       "      <td>Coins</td>\n",
       "      <td>12</td>\n",
       "      <td>neutral</td>\n",
       "      <td>Yuleum</td>\n",
       "      <td>[neutral, neutral]</td>\n",
       "      <td>[Yuleum, Lara]</td>\n",
       "    </tr>\n",
       "  </tbody>\n",
       "</table>\n",
       "</div>"
      ],
      "text/plain": [
       "                                           utterance speaker  turn_id  \\\n",
       "0                               No my name is Coins.   Coins        4   \n",
       "1  No I am not interested in Coins at all. My par...   Coins        6   \n",
       "2  They laugh at it a lot, which makes me annoyed...   Coins        8   \n",
       "3  Wow thanks. But my parents have passed away so...   Coins       10   \n",
       "4  I'm not sure yet. Can you give me some recomme...   Coins       12   \n",
       "\n",
       "      Gold Annotator                Votes      Annotators  \n",
       "0  neutral    Yuleum   [neutral, neutral]  [Yuleum, Lara]  \n",
       "1    anger    Yuleum       [anger, anger]  [Yuleum, Lara]  \n",
       "2    anger    Yuleum     [anger, sadness]  [Yuleum, Lara]  \n",
       "3  sadness    Yuleum  [sadness, surprise]  [Yuleum, Lara]  \n",
       "4  neutral    Yuleum   [neutral, neutral]  [Yuleum, Lara]  "
      ]
     },
     "execution_count": 3,
     "metadata": {},
     "output_type": "execute_result"
    }
   ],
   "source": [
    "import pandas as pd\n",
    "\n",
    "annotation_file = \"/Users/piek/Desktop/t-MA-HLT-introduction-2024/ma-hlt-labs-class/lab0.llama/other/all_annotations.json\"\n",
    "\n",
    "df = pd.read_json(annotation_file)\n",
    "df.head()"
   ]
  },
  {
   "cell_type": "markdown",
   "id": "cf4df24a-75c7-4671-8e8e-6836dee05399",
   "metadata": {},
   "source": [
    "From the Pandas dataframe, we can select the \"utterance\" column as the list of utterances and give this to the ```anotate``` funciton that is defined for our LlamaAnotator. We store the output in the annotations list."
   ]
  },
  {
   "cell_type": "code",
   "execution_count": 5,
   "id": "12a4ffd2-0ab7-4fc4-bc24-84ffbbd27cc3",
   "metadata": {},
   "outputs": [
    {
     "name": "stdout",
     "output_type": "stream",
     "text": [
      "Processed 10 turns out of 60\n",
      "Processed 20 turns out of 60\n",
      "Processed 30 turns out of 60\n",
      "Processed 40 turns out of 60\n",
      "Processed 50 turns out of 60\n",
      "Processed 60 turns out of 60\n",
      "[{'Input': 'No my name is Coins.', 'Output': 'neutral'}, {'Input': 'No I am not interested in Coins at all. My parents just named it after a pile of coins they saw on their table the day I was born. What a bad name! I hate my name.', 'Output': 'sadness'}, {'Input': 'They laugh at it a lot, which makes me annoyed. I am even thinking about changing my name because I am so stressed!', 'Output': 'anger'}, {'Input': 'Wow thanks. But my parents have passed away some time ago so their opinion does not matter to me anymore. I just want to get a nice name! A normal name.', 'Output': 'anger'}, {'Input': \"I'm not sure yet. Can you give me some recommendations?\", 'Output': '{\\n\"anger\": 0.8,\\n\"neutral\": 0.2\\n}'}, {'Input': 'I want an easy name that a lot of people from different background pronounces the name. ', 'Output': 'neutral'}, {'Input': 'Alex sounds good! I will be considering it.', 'Output': 'neutral'}, {'Input': 'Should I also add a middle name? What do you think.', 'Output': 'neutral'}, {'Input': 'I was thinking more like Alex Llama', 'Output': 'neutral'}, {'Input': 'Bye', 'Output': 'neutral'}]\n"
     ]
    }
   ],
   "source": [
    "utterances = df[\"utterance\"]\n",
    "annotations = annotator.annotate(utterances[:60])\n",
    "print(annotations[:10])"
   ]
  },
  {
   "cell_type": "markdown",
   "id": "2e4d2feb-6d0a-4be7-a65a-7988247b2672",
   "metadata": {},
   "source": [
    "We can add the predictions from Llama to the dataframe but Llama does not always precisely follow the instructions e.g. \"Output: Output:neutral\". We therefore need to clean and filter the output. Specifically, we check if any of the Ekman labels is a substring of the Llama output and then take that value. If none of these is matched, we set the value to None."
   ]
  },
  {
   "cell_type": "code",
   "execution_count": 6,
   "id": "29ec6125-84d6-4510-b8b9-dd268881fa78",
   "metadata": {},
   "outputs": [
    {
     "name": "stdout",
     "output_type": "stream",
     "text": [
      "['neutral', 'sadness', 'anger', 'anger', 'neutral', 'neutral', 'neutral', 'neutral', 'neutral', 'neutral', 'fear', 'anger', 'sadness', 'fear', 'fear', 'surprise', 'fear', 'sadness', 'sadness', 'anger', 'neutral', 'anger', 'anger', 'neutral', 'anger', 'neutral', 'joy', 'joy', 'neutral', 'neutral', 'None', 'neutral', 'neutral', 'neutral', 'neutral', 'neutral', 'neutral', 'anger', 'neutral', 'neutral', 'neutral', 'neutral', 'neutral', 'neutral', 'neutral', 'neutral', 'neutral', 'neutral', 'neutral', 'neutral', 'neutral', 'neutral', 'neutral', 'neutral', 'sadness', 'None', 'neutral', 'neutral', 'neutral', 'None']\n"
     ]
    }
   ],
   "source": [
    "test_labels = df['Gold'][:60]\n",
    "\n",
    "predictions = []\n",
    "for anno in annotations:\n",
    "    if 'Output' in anno:\n",
    "        prediction = anno['Output']\n",
    "    else:\n",
    "        prediction = \"None\"\n",
    "    llama_label = \"None\"\n",
    "    for label in test_labels:\n",
    "        if label in prediction:\n",
    "            llama_label = label\n",
    "    predictions.append(llama_label)\n",
    "print(predictions)"
   ]
  },
  {
   "cell_type": "markdown",
   "id": "f1e0b6f4-91b7-4c18-8ee3-f25fd54cb1a8",
   "metadata": {},
   "source": [
    "Note that Llama may not follow the instructions correctly despite the instructions. It may ignore the JSON format, make up new labels or do other \"creative\" things being triggered by the input text. Always check the output carefully. If Llama does not generate the right output, we can consider this as an error. In this case, it generates \"Output:sadness\" as a label in one case."
   ]
  },
  {
   "cell_type": "code",
   "execution_count": 7,
   "id": "e3069bfc-20c6-4c51-81a9-1387d37f9f73",
   "metadata": {},
   "outputs": [
    {
     "name": "stdout",
     "output_type": "stream",
     "text": [
      "('neutral', 'neutral')\n",
      "('anger', 'sadness')\n",
      "('anger', 'anger')\n",
      "('sadness', 'anger')\n",
      "('neutral', 'neutral')\n",
      "('neutral', 'neutral')\n",
      "('joy', 'neutral')\n",
      "('neutral', 'neutral')\n",
      "('neutral', 'neutral')\n",
      "('neutral', 'neutral')\n",
      "('sadness', 'fear')\n",
      "('anger', 'anger')\n",
      "('sadness', 'sadness')\n",
      "('sadness', 'fear')\n",
      "('fear', 'fear')\n",
      "('joy', 'surprise')\n",
      "('neutral', 'fear')\n",
      "('anger', 'sadness')\n",
      "('sadness', 'sadness')\n",
      "('anger', 'anger')\n",
      "('joy', 'neutral')\n",
      "('anger', 'anger')\n",
      "('sadness', 'anger')\n",
      "('disgust', 'neutral')\n",
      "('sadness', 'anger')\n",
      "('neutral', 'neutral')\n",
      "('joy', 'joy')\n",
      "('neutral', 'joy')\n",
      "('joy', 'neutral')\n",
      "('neutral', 'neutral')\n",
      "('neutral', 'None')\n",
      "('neutral', 'neutral')\n",
      "('neutral', 'neutral')\n",
      "('sadness', 'neutral')\n",
      "('joy', 'neutral')\n",
      "('anger', 'neutral')\n",
      "('neutral', 'neutral')\n",
      "('fear', 'anger')\n",
      "('anger', 'neutral')\n",
      "('neutral', 'neutral')\n",
      "('neutral', 'neutral')\n",
      "('neutral', 'neutral')\n",
      "('disgust', 'neutral')\n",
      "('neutral', 'neutral')\n",
      "('disgust', 'neutral')\n",
      "('joy', 'neutral')\n",
      "('joy', 'neutral')\n",
      "('anger', 'neutral')\n",
      "('anger', 'neutral')\n",
      "('neutral', 'neutral')\n",
      "('fear', 'neutral')\n",
      "('neutral', 'neutral')\n",
      "('joy', 'neutral')\n",
      "('sadness', 'neutral')\n",
      "('sadness', 'sadness')\n",
      "('surprise', 'None')\n",
      "('neutral', 'neutral')\n",
      "('neutral', 'neutral')\n",
      "('anger', 'neutral')\n",
      "('neutral', 'None')\n",
      "['None', 'anger', 'disgust', 'fear', 'joy', 'neutral', 'sadness', 'surprise']\n"
     ]
    }
   ],
   "source": [
    "### We pair the test_labels and the predictions\n",
    "for pair in zip(test_labels,predictions):\n",
    "    print(pair)\n",
    "\n",
    "labels = list(test_labels)+list(predictions)\n",
    "label_set = sorted(set(labels))\n",
    "print(label_set)"
   ]
  },
  {
   "cell_type": "code",
   "execution_count": 8,
   "id": "f98ad790-6ab6-4877-8278-48016f505ac5",
   "metadata": {
    "scrolled": true
   },
   "outputs": [
    {
     "name": "stdout",
     "output_type": "stream",
     "text": [
      "Llama Ekman ----------------------------------------------------------------\n",
      "              precision    recall  f1-score   support\n",
      "\n",
      "        None  0.0000000 0.0000000 0.0000000         0\n",
      "       anger  0.5000000 0.3636364 0.4210526        11\n",
      "     disgust  0.0000000 0.0000000 0.0000000         3\n",
      "        fear  0.2500000 0.3333333 0.2857143         3\n",
      "         joy  0.5000000 0.1111111 0.1818182         9\n",
      "     neutral  0.5135135 0.8260870 0.6333333        23\n",
      "     sadness  0.6000000 0.3000000 0.4000000        10\n",
      "    surprise  0.0000000 0.0000000 0.0000000         1\n",
      "\n",
      "    accuracy                      0.4666667        60\n",
      "   macro avg  0.2954392 0.2417710 0.2402398        60\n",
      "weighted avg  0.4760135 0.4666667 0.4281959        60\n",
      "\n"
     ]
    },
    {
     "name": "stderr",
     "output_type": "stream",
     "text": [
      "/Users/piek/Desktop/t-MA-HLT-introduction-2024/ma-hlt-labs-class/venv2/lib/python3.10/site-packages/sklearn/metrics/_classification.py:1531: UndefinedMetricWarning: Precision is ill-defined and being set to 0.0 in labels with no predicted samples. Use `zero_division` parameter to control this behavior.\n",
      "  _warn_prf(average, modifier, f\"{metric.capitalize()} is\", len(result))\n",
      "/Users/piek/Desktop/t-MA-HLT-introduction-2024/ma-hlt-labs-class/venv2/lib/python3.10/site-packages/sklearn/metrics/_classification.py:1531: UndefinedMetricWarning: Recall is ill-defined and being set to 0.0 in labels with no true samples. Use `zero_division` parameter to control this behavior.\n",
      "  _warn_prf(average, modifier, f\"{metric.capitalize()} is\", len(result))\n",
      "/Users/piek/Desktop/t-MA-HLT-introduction-2024/ma-hlt-labs-class/venv2/lib/python3.10/site-packages/sklearn/metrics/_classification.py:1531: UndefinedMetricWarning: Precision is ill-defined and being set to 0.0 in labels with no predicted samples. Use `zero_division` parameter to control this behavior.\n",
      "  _warn_prf(average, modifier, f\"{metric.capitalize()} is\", len(result))\n",
      "/Users/piek/Desktop/t-MA-HLT-introduction-2024/ma-hlt-labs-class/venv2/lib/python3.10/site-packages/sklearn/metrics/_classification.py:1531: UndefinedMetricWarning: Recall is ill-defined and being set to 0.0 in labels with no true samples. Use `zero_division` parameter to control this behavior.\n",
      "  _warn_prf(average, modifier, f\"{metric.capitalize()} is\", len(result))\n",
      "/Users/piek/Desktop/t-MA-HLT-introduction-2024/ma-hlt-labs-class/venv2/lib/python3.10/site-packages/sklearn/metrics/_classification.py:1531: UndefinedMetricWarning: Precision is ill-defined and being set to 0.0 in labels with no predicted samples. Use `zero_division` parameter to control this behavior.\n",
      "  _warn_prf(average, modifier, f\"{metric.capitalize()} is\", len(result))\n",
      "/Users/piek/Desktop/t-MA-HLT-introduction-2024/ma-hlt-labs-class/venv2/lib/python3.10/site-packages/sklearn/metrics/_classification.py:1531: UndefinedMetricWarning: Recall is ill-defined and being set to 0.0 in labels with no true samples. Use `zero_division` parameter to control this behavior.\n",
      "  _warn_prf(average, modifier, f\"{metric.capitalize()} is\", len(result))\n"
     ]
    }
   ],
   "source": [
    "from sklearn.metrics import classification_report\n",
    "from sklearn.metrics import confusion_matrix\n",
    "from sklearn.metrics import ConfusionMatrixDisplay\n",
    "\n",
    "report = classification_report(test_labels,predictions ,digits = 7, target_names=label_set)\n",
    "print('Llama Ekman ----------------------------------------------------------------')\n",
    "\n",
    "print(report)"
   ]
  },
  {
   "cell_type": "markdown",
   "id": "82ea2d16-48e6-4bec-a229-19442f4ae57c",
   "metadata": {},
   "source": [
    "We can see that the results are not very good, which we could have guessed from the paired list of values: \"joy\" is never assigned and \"sadness\" is assigned when it should not. Think about how to improve the prompt to make it better. "
   ]
  },
  {
   "cell_type": "code",
   "execution_count": 9,
   "id": "ee65ad8b-5d8c-4f91-8824-882724525fd8",
   "metadata": {},
   "outputs": [
    {
     "name": "stdout",
     "output_type": "stream",
     "text": [
      "Confusion matrix SVM\n",
      "[[ 0  0  0  0  0  0  0  0]\n",
      " [ 0  4  0  0  0  5  2  0]\n",
      " [ 0  0  0  0  0  3  0  0]\n",
      " [ 0  1  0  1  0  1  0  0]\n",
      " [ 0  0  0  0  1  7  0  1]\n",
      " [ 2  0  0  1  1 19  0  0]\n",
      " [ 0  3  0  2  0  2  3  0]\n",
      " [ 1  0  0  0  0  0  0  0]]\n"
     ]
    },
    {
     "data": {
      "text/plain": [
       "<sklearn.metrics._plot.confusion_matrix.ConfusionMatrixDisplay at 0x1080c2440>"
      ]
     },
     "execution_count": 9,
     "metadata": {},
     "output_type": "execute_result"
    },
    {
     "data": {
      "image/png": "[encoded data removed]",
      "text/plain": [
       "<Figure size 640x480 with 2 Axes>"
      ]
     },
     "metadata": {},
     "output_type": "display_data"
    }
   ],
   "source": [
    "print('Confusion matrix SVM')\n",
    "cf_matrix = confusion_matrix(test_labels,predictions)\n",
    "print(cf_matrix)\n",
    "display = ConfusionMatrixDisplay(confusion_matrix=cf_matrix, display_labels=label_set)\n",
    "display.plot()"
   ]
  },
  {
   "cell_type": "markdown",
   "id": "5408a9fc-b4dc-43db-802a-3dc74b493a32",
   "metadata": {},
   "source": [
    "## End of notebook"
   ]
  },
  {
   "cell_type": "code",
   "execution_count": null,
   "id": "9b84a442-cadd-464d-9994-41bfd98982ae",
   "metadata": {},
   "outputs": [],
   "source": []
  }
 ],
 "metadata": {
  "kernelspec": {
   "display_name": "Python 3",
   "language": "python",
   "name": "python3"
  },
  "language_info": {
   "codemirror_mode": {
    "name": "ipython",
    "version": 3
   },
   "file_extension": ".py",
   "mimetype": "text/x-python",
   "name": "python",
   "nbconvert_exporter": "python",
   "pygments_lexer": "ipython3",
   "version": "3.10.11"
  }
 },
 "nbformat": 4,
 "nbformat_minor": 5
}
