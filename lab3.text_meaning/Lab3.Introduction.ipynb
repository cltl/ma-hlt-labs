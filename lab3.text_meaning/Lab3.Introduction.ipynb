{
 "cells": [
  {
   "cell_type": "markdown",
   "metadata": {},
   "source": [
    "# Lab3 Introduction"
   ]
  },
  {
   "cell_type": "markdown",
   "metadata": {},
   "source": [
    "Copyright: Vrije Universiteit Amsterdam, Faculty of Humanities, CLTL\n",
    "\n",
    "RMA/Text Mining MA, Introduction to HLT\n",
    "\n",
    "In Lab3, we are going to introduce machine learning. Lab3 contains the following notebooks:\n",
    "\n",
    "<ol>\n",
    "    <li>Lab3.1.ml.basics.ipynb\n",
    "    <li>Lab3.2.train-emotion-detection-bow.ipynb\n",
    "    <li>Lab3.3.train-pos-tagger-crf.ipynb</li>\n",
    "</ol>\n",
    "\n",
    "In Lab3.1, you build a classifier with some toy data. In Lab3.2 and Lab3.3, we describe two classifiers: 1) a BoW classifier for emotion detection and 2) a TiS classifier for Part-of-Speech tagging.\n",
    "\n",
    "There are two assignments in Lab3. These are due after Lab4 which is about evaluation of the classifier."
   ]
  },
  {
   "cell_type": "markdown",
   "metadata": {},
   "source": [
    "## End of this notebook"
   ]
  }
 ],
 "metadata": {
  "kernelspec": {
   "display_name": "Python 3 (ipykernel)",
   "language": "python",
   "name": "python3"
  },
  "language_info": {
   "codemirror_mode": {
    "name": "ipython",
    "version": 3
   },
   "file_extension": ".py",
   "mimetype": "text/x-python",
   "name": "python",
   "nbconvert_exporter": "python",
   "pygments_lexer": "ipython3",
   "version": "3.11.13"
  }
 },
 "nbformat": 4,
 "nbformat_minor": 4
}
