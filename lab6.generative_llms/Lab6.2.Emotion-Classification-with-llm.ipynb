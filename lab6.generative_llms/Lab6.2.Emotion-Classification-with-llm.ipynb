{
 "cells": [
  {
   "cell_type": "markdown",
   "id": "a403c511-01b1-41d3-856e-3d5f86b30875",
   "metadata": {},
   "source": [
    "# Lab6.2 Emotional classification with an LLM"
   ]
  },
  {
   "cell_type": "markdown",
   "id": "f8a989fb-0cd9-41ee-a45b-b6989c6eef20",
   "metadata": {},
   "source": [
    "Copyright: Vrije Universiteit Amsterdam, Faculty of Humanities, CLTL"
   ]
  },
  {
   "cell_type": "markdown",
   "id": "fb92fb8b-6e76-4a6b-86b3-76db5a46f0da",
   "metadata": {},
   "source": [
    "Through this notebook, you will annotate a text with an LLM. We will use here a small open source model [Qwen version 3:1.7b](https://huggingface.co/Qwen).\n",
    "\n",
    "You will read a conversation and send the utterances to the Ollama server to annotate each using instructions, so-called prompting.  The code for the annotator is given in **llm_annotator.py**. It is an Ollama client that sends a prompt request to a Ollama server server to get a response.\n",
    "\n",
    "We assume you have already installed ```ollama``` locally and pulled the models that you need to your local machine. See lab1 for more instructions."
   ]
  },
  {
   "cell_type": "markdown",
   "id": "bd230988-2c7b-4018-9131-ca6d4f912db7",
   "metadata": {},
   "source": [
    "## 1. Instantiating the annotator"
   ]
  },
  {
   "cell_type": "markdown",
   "id": "bc42fec1-01f8-4f6b-ab30-b4c37e0a95aa",
   "metadata": {},
   "source": [
    "We create an instance of the LLMAnnotator after importing the code."
   ]
  },
  {
   "cell_type": "code",
   "execution_count": 2,
   "id": "96552b4f-f63b-4155-9956-01ff93c62cd0",
   "metadata": {},
   "outputs": [],
   "source": [
    "from llm_annotator import LLMAnnotator"
   ]
  },
  {
   "cell_type": "markdown",
   "id": "2b8300d5-04bb-4467-bbb3-a94491d40105",
   "metadata": {},
   "source": [
    "To instantiate an LLMAnnotator, we can give it three parameters:\n",
    "\n",
    "1. the name of the model\n",
    "2. the set of labels\n",
    "3. some examples for the few-shot learning\n",
    "4. the maximum amount of context to be considered for each utterance\n",
    "\n",
    "As a model, we use here ```qwen3:1.7b```. This model needs to be available in your local ```ollama``` server. You can also try another model if it fits in your memory. Note that the script for the LLMAnnotator has some specific code to get the answer from the response. The Qwen model outputs its thinking as well surrounded by ```<think>...</think>```. Using another model may imply adapting the processing of the response.\n"
   ]
  },
  {
   "cell_type": "code",
   "execution_count": 3,
   "id": "4a7758a1-1eb6-4ce9-bb4a-c7967ed51788",
   "metadata": {},
   "outputs": [
    {
     "name": "stdout",
     "output_type": "stream",
     "text": [
      "My instructions are: [{'role': 'system', 'content': 'You are an intelligent assistant.'}, {'role': 'system', 'content': 'You will receive utterances from a conversation as Input in JSON format.'}, {'role': 'system', 'content': 'You need to determine the emotion of the last utterance.'}, {'role': 'system', 'content': \"Only use one of the following labels:['anger', 'disgust', 'fear', 'joy', 'sadness', 'surprise', 'neutral'].\"}, {'role': 'system', 'content': 'Only determine the emotion of LAST utterance, use the preceding utterances as context.'}, {'role': 'system', 'content': 'Output the most appropriate label in JSON format.'}, {'role': 'system', 'content': 'Do not output anything else.'}, {'role': 'system', 'content': 'Here are a few examples:'}, {'role': 'user', 'content': 'I love dogs'}, {'role': 'system', 'content': 'joy'}, {'role': 'user', 'content': 'I hate cats'}, {'role': 'system', 'content': 'disgust'}]\n"
     ]
    }
   ],
   "source": [
    "model='qwen3:1.7b'\n",
    "### Labels to try\n",
    "sentiment_labels = [\"positive\", \"negative\", \"neutral\"]\n",
    "ekman_labels = [\"anger\", \"disgust\", \"fear\", \"joy\", \"sadness\", \"surprise\", \"neutral\"]\n",
    "examples = [{\"Input\": \"I love dogs\", \"Output\": \"joy\"}, {\"Input\": \"I hate cats\", \"Output\": \"disgust\"}]\n",
    "annotator = LLMAnnotator(model=model, labels=ekman_labels, examples=examples, max_context=5)"
   ]
  },
  {
   "cell_type": "markdown",
   "id": "01a0efb0-1ee3-4466-858e-74e6c9656287",
   "metadata": {},
   "source": [
    "We are now going to read the conversation that we created before with the LLM with our annotations and send these to the LLM to annotate."
   ]
  },
  {
   "cell_type": "code",
   "execution_count": 4,
   "id": "bab5ae50-badd-4376-a90b-5de41404f917",
   "metadata": {},
   "outputs": [
    {
     "data": {
      "text/html": [
       "<div>\n",
       "<style scoped>\n",
       "    .dataframe tbody tr th:only-of-type {\n",
       "        vertical-align: middle;\n",
       "    }\n",
       "\n",
       "    .dataframe tbody tr th {\n",
       "        vertical-align: top;\n",
       "    }\n",
       "\n",
       "    .dataframe thead th {\n",
       "        text-align: right;\n",
       "    }\n",
       "</style>\n",
       "<table border=\"1\" class=\"dataframe\">\n",
       "  <thead>\n",
       "    <tr style=\"text-align: right;\">\n",
       "      <th></th>\n",
       "      <th>utterance</th>\n",
       "      <th>speaker</th>\n",
       "      <th>turn_id</th>\n",
       "      <th>Annotator</th>\n",
       "      <th>Gold</th>\n",
       "      <th>Votes</th>\n",
       "      <th>Annotators</th>\n",
       "      <th>Adjudication</th>\n",
       "    </tr>\n",
       "  </thead>\n",
       "  <tbody>\n",
       "    <tr>\n",
       "      <th>0</th>\n",
       "      <td>Hi there! Going going well!</td>\n",
       "      <td>Raul</td>\n",
       "      <td>4</td>\n",
       "      <td>Pawel</td>\n",
       "      <td>neutral</td>\n",
       "      <td>[neutral, joy, joy]</td>\n",
       "      <td>[Pawel, Leo Mylonadis, Matt]</td>\n",
       "      <td>joy</td>\n",
       "    </tr>\n",
       "    <tr>\n",
       "      <th>1</th>\n",
       "      <td>From hike? Do yo want to convince me you're a ...</td>\n",
       "      <td>Raul</td>\n",
       "      <td>6</td>\n",
       "      <td>Pawel</td>\n",
       "      <td>neutral</td>\n",
       "      <td>[neutral, neutral, surprise]</td>\n",
       "      <td>[Pawel, Leo Mylonadis, Matt]</td>\n",
       "      <td>neutral</td>\n",
       "    </tr>\n",
       "    <tr>\n",
       "      <th>2</th>\n",
       "      <td>I hope that your dried llama food isn't anythi...</td>\n",
       "      <td>Raul</td>\n",
       "      <td>8</td>\n",
       "      <td>Pawel</td>\n",
       "      <td>disgust</td>\n",
       "      <td>[disgust, disgust, neutral]</td>\n",
       "      <td>[Pawel, Leo Mylonadis, Matt]</td>\n",
       "      <td>disgust</td>\n",
       "    </tr>\n",
       "    <tr>\n",
       "      <th>3</th>\n",
       "      <td>Don't wink wink at me!</td>\n",
       "      <td>Raul</td>\n",
       "      <td>10</td>\n",
       "      <td>Pawel</td>\n",
       "      <td>anger</td>\n",
       "      <td>[anger, anger, anger]</td>\n",
       "      <td>[Pawel, Leo Mylonadis, Matt]</td>\n",
       "      <td>anger</td>\n",
       "    </tr>\n",
       "    <tr>\n",
       "      <th>4</th>\n",
       "      <td>I think all the LLM hype is quite suspicious!</td>\n",
       "      <td>Raul</td>\n",
       "      <td>12</td>\n",
       "      <td>Pawel</td>\n",
       "      <td>anger</td>\n",
       "      <td>[anger, fear, surprise]</td>\n",
       "      <td>[Pawel, Leo Mylonadis, Matt]</td>\n",
       "      <td>anger</td>\n",
       "    </tr>\n",
       "  </tbody>\n",
       "</table>\n",
       "</div>"
      ],
      "text/plain": [
       "                                           utterance speaker  turn_id  \\\n",
       "0                        Hi there! Going going well!    Raul        4   \n",
       "1  From hike? Do yo want to convince me you're a ...    Raul        6   \n",
       "2  I hope that your dried llama food isn't anythi...    Raul        8   \n",
       "3                             Don't wink wink at me!    Raul       10   \n",
       "4      I think all the LLM hype is quite suspicious!    Raul       12   \n",
       "\n",
       "  Annotator     Gold                         Votes  \\\n",
       "0     Pawel  neutral           [neutral, joy, joy]   \n",
       "1     Pawel  neutral  [neutral, neutral, surprise]   \n",
       "2     Pawel  disgust   [disgust, disgust, neutral]   \n",
       "3     Pawel    anger         [anger, anger, anger]   \n",
       "4     Pawel    anger       [anger, fear, surprise]   \n",
       "\n",
       "                     Annotators Adjudication  \n",
       "0  [Pawel, Leo Mylonadis, Matt]          joy  \n",
       "1  [Pawel, Leo Mylonadis, Matt]      neutral  \n",
       "2  [Pawel, Leo Mylonadis, Matt]      disgust  \n",
       "3  [Pawel, Leo Mylonadis, Matt]        anger  \n",
       "4  [Pawel, Leo Mylonadis, Matt]        anger  "
      ]
     },
     "execution_count": 4,
     "metadata": {},
     "output_type": "execute_result"
    }
   ],
   "source": [
    "import pandas as pd\n",
    "\n",
    "annotation_file = \"/Users/piek/Desktop/t-MA-HLT-introduction-2025/ma-hlt-labs/lab1.chat/annotation/chats_2024/adjudicated_annotations.json\"\n",
    "\n",
    "df = pd.read_json(annotation_file)\n",
    "df.head()"
   ]
  },
  {
   "cell_type": "markdown",
   "id": "cf4df24a-75c7-4671-8e8e-6836dee05399",
   "metadata": {},
   "source": [
    "From the Pandas dataframe, we select the \"utterance\" column as the list of utterances and take a subset for demonstration purposes. We call the ```annotate_conversation``` fucntion from the annotator to annotate the subset."
   ]
  },
  {
   "cell_type": "code",
   "execution_count": 5,
   "id": "12a4ffd2-0ab7-4fc4-bc24-84ffbbd27cc3",
   "metadata": {},
   "outputs": [
    {
     "name": "stdout",
     "output_type": "stream",
     "text": [
      "Annotating a conversation with 10 utterances\n",
      "Processed 5 in 96 seconds\n",
      "Processed 5 turns in total out of 10\n",
      "Processed 5 in 115 seconds\n",
      "Processed 10 turns in total out of 10\n",
      "[{'Input': 'Hi there! Going going well!', 'Output': 'joy'}, {'Input': \"From hike? Do yo want to convince me you're a hiker? \", 'Output': 'neutral'}, {'Input': \"I hope that your dried llama food isn't anything illicit! \", 'Output': 'neutral'}, {'Input': \"Don't wink wink at me!\", 'Output': 'anger'}, {'Input': 'I think all the LLM hype is quite suspicious!', 'Output': 'sadness'}]\n"
     ]
    }
   ],
   "source": [
    "utterances = df[\"utterance\"]\n",
    "subset = 10\n",
    "annotations = annotator.annotate_conversation(utterances[:subset])\n",
    "print(annotations[:5])"
   ]
  },
  {
   "cell_type": "markdown",
   "id": "ee78a249-0a47-4b10-a86b-238817ee2526",
   "metadata": {},
   "source": [
    "First of all, note that a generative LLM is very slow, especially compared to an encoder model such as GO-BERT. An encoder represents the full texts in one go before generating the prediction for its classification head. A generative model does not use a classification head but needs to generate the next token at each step. So of it generates a response of ten tokens, it needs to represent the text ten times as well: once for each next token."
   ]
  },
  {
   "cell_type": "markdown",
   "id": "2e4d2feb-6d0a-4be7-a65a-7988247b2672",
   "metadata": {},
   "source": [
    "We could add the predictions from the LLM to the dataframe but LLMs do not always precisely follow the instructions e.g. \"Output: Output:neutral\". We therefore need to clean and filter the output. Specifically, we check if any of a Ekman label is a substring of the output and if so then take that value. If none of these is matched, we set the value to None."
   ]
  },
  {
   "cell_type": "code",
   "execution_count": 6,
   "id": "29ec6125-84d6-4510-b8b9-dd268881fa78",
   "metadata": {},
   "outputs": [
    {
     "name": "stdout",
     "output_type": "stream",
     "text": [
      "Clean list of predictions for the subset ['joy', 'neutral', 'neutral', 'anger', 'sadness', 'neutral', 'fear', 'disgust', 'sadness', 'sadness', 'anger', 'joy', 'sadness', 'sadness', 'fear', 'anger', 'sadness', 'sadness', 'neutral', 'anger']\n"
     ]
    }
   ],
   "source": [
    "llm_predicted_labels = []\n",
    "for anno in annotations:\n",
    "    ## By default the value is None\n",
    "    llm_label = None\n",
    "    if 'Output' in anno:\n",
    "        prediction = anno['Output']\n",
    "        for label in ekman_labels:\n",
    "            if label in prediction:\n",
    "                ### We found a valid label so we replace None by the label\n",
    "                llm_label = label\n",
    "    llm_predicted_labels.append(llm_label)\n",
    "print('Clean list of predictions for the subset', llm_predicted_labels)"
   ]
  },
  {
   "cell_type": "markdown",
   "id": "f2654a61-929d-4c2b-851b-6926df220637",
   "metadata": {},
   "source": [
    "We can now take the adjudicated annotations for the same subset as the gold labels and generate a classification report."
   ]
  },
  {
   "cell_type": "code",
   "execution_count": 7,
   "id": "e3069bfc-20c6-4c51-81a9-1387d37f9f73",
   "metadata": {},
   "outputs": [
    {
     "name": "stdout",
     "output_type": "stream",
     "text": [
      "Adjudicated labels for the subset ['joy', 'neutral', 'disgust', 'anger', 'anger', 'neutral', 'anger', 'sadness', 'sadness', 'neutral', 'anger', 'neutral', 'anger', 'neutral', 'neutral', 'anger', 'neutral', 'disgust', 'neutral', 'neutral']\n",
      "20 20\n",
      "joy joy\n",
      "neutral neutral\n",
      "disgust neutral\n",
      "anger anger\n",
      "anger sadness\n",
      "neutral neutral\n",
      "anger fear\n",
      "sadness disgust\n",
      "sadness sadness\n",
      "neutral sadness\n",
      "anger anger\n",
      "neutral joy\n",
      "anger sadness\n",
      "neutral sadness\n",
      "neutral fear\n",
      "anger anger\n",
      "neutral sadness\n",
      "disgust sadness\n",
      "neutral neutral\n",
      "neutral anger\n"
     ]
    }
   ],
   "source": [
    "adjudicated_labels = list(df['Adjudication'])[:subset]\n",
    "print('Adjudicated labels for the subset', adjudicated_labels)\n",
    "\n",
    "print(len(llm_predicted_labels), len(adjudicated_labels))\n",
    "for gold, predict in zip(adjudicated_labels, llm_predicted_labels):\n",
    "    print(gold, predict)"
   ]
  },
  {
   "cell_type": "code",
   "execution_count": 12,
   "id": "f98ad790-6ab6-4877-8278-48016f505ac5",
   "metadata": {
    "scrolled": true
   },
   "outputs": [
    {
     "name": "stdout",
     "output_type": "stream",
     "text": [
      "LLM Ekman ----------------------------------------------------------------\n",
      "              precision    recall  f1-score   support\n",
      "\n",
      "     disgust      0.750     0.500     0.600         6\n",
      "     sadness      0.000     0.000     0.000         2\n",
      "        fear      0.000     0.000     0.000         0\n",
      "         joy      0.500     1.000     0.667         1\n",
      "       anger      0.750     0.333     0.462         9\n",
      "     neutral      0.143     0.500     0.222         2\n",
      "\n",
      "    accuracy                          0.400        20\n",
      "   macro avg      0.357     0.389     0.325        20\n",
      "weighted avg      0.602     0.400     0.443        20\n",
      "\n"
     ]
    },
    {
     "name": "stderr",
     "output_type": "stream",
     "text": [
      "/Users/piek/.pyenv/versions/3.10.11/lib/python3.10/site-packages/sklearn/metrics/_classification.py:1531: UndefinedMetricWarning: Recall is ill-defined and being set to 0.0 in labels with no true samples. Use `zero_division` parameter to control this behavior.\n",
      "  _warn_prf(average, modifier, f\"{metric.capitalize()} is\", len(result))\n",
      "/Users/piek/.pyenv/versions/3.10.11/lib/python3.10/site-packages/sklearn/metrics/_classification.py:1531: UndefinedMetricWarning: Recall is ill-defined and being set to 0.0 in labels with no true samples. Use `zero_division` parameter to control this behavior.\n",
      "  _warn_prf(average, modifier, f\"{metric.capitalize()} is\", len(result))\n",
      "/Users/piek/.pyenv/versions/3.10.11/lib/python3.10/site-packages/sklearn/metrics/_classification.py:1531: UndefinedMetricWarning: Recall is ill-defined and being set to 0.0 in labels with no true samples. Use `zero_division` parameter to control this behavior.\n",
      "  _warn_prf(average, modifier, f\"{metric.capitalize()} is\", len(result))\n"
     ]
    }
   ],
   "source": [
    "from sklearn.metrics import classification_report\n",
    "from sklearn.metrics import confusion_matrix\n",
    "from sklearn.metrics import ConfusionMatrixDisplay\n",
    "\n",
    "label_set = set(adjudicated_labels+llm_predicted_labels)\n",
    "report = classification_report(adjudicated_labels,llm_predicted_labels ,digits = 3, target_names=label_set)\n",
    "print('LLM Ekman ----------------------------------------------------------------')\n",
    "\n",
    "print(report)"
   ]
  },
  {
   "cell_type": "markdown",
   "id": "82ea2d16-48e6-4bec-a229-19442f4ae57c",
   "metadata": {},
   "source": [
    "We can see that the results are not very good, which we could have guessed from the paired list of values: e.g. \"sadness\" is mostly assigned when it should not. "
   ]
  },
  {
   "cell_type": "code",
   "execution_count": 14,
   "id": "ee65ad8b-5d8c-4f91-8824-882724525fd8",
   "metadata": {},
   "outputs": [
    {
     "name": "stdout",
     "output_type": "stream",
     "text": [
      "Confusion matrix SVM\n",
      "[[3 0 1 0 0 2]\n",
      " [0 0 0 0 1 1]\n",
      " [0 0 0 0 0 0]\n",
      " [0 0 0 1 0 0]\n",
      " [1 0 1 1 3 3]\n",
      " [0 1 0 0 0 1]]\n"
     ]
    },
    {
     "data": {
      "text/plain": [
       "<sklearn.metrics._plot.confusion_matrix.ConfusionMatrixDisplay at 0x13de2caf0>"
      ]
     },
     "execution_count": 14,
     "metadata": {},
     "output_type": "execute_result"
    },
    {
     "data": {
      "image/png": "[encoded data removed]",
      "text/plain": [
       "<Figure size 640x480 with 2 Axes>"
      ]
     },
     "metadata": {},
     "output_type": "display_data"
    }
   ],
   "source": [
    "print('Confusion matrix SVM')\n",
    "cf_matrix = confusion_matrix(adjudicated_labels,llm_predicted_labels)\n",
    "print(cf_matrix)\n",
    "display = ConfusionMatrixDisplay(confusion_matrix=cf_matrix, display_labels=label_set)\n",
    "display.plot()"
   ]
  },
  {
   "cell_type": "markdown",
   "id": "5408a9fc-b4dc-43db-802a-3dc74b493a32",
   "metadata": {},
   "source": [
    "## End of notebook"
   ]
  },
  {
   "cell_type": "code",
   "execution_count": null,
   "id": "4e97370e-8f45-4237-8fa9-89791bf8bc15",
   "metadata": {},
   "outputs": [],
   "source": []
  }
 ],
 "metadata": {
  "kernelspec": {
   "display_name": "Python 3",
   "language": "python",
   "name": "python3"
  },
  "language_info": {
   "codemirror_mode": {
    "name": "ipython",
    "version": 3
   },
   "file_extension": ".py",
   "mimetype": "text/x-python",
   "name": "python",
   "nbconvert_exporter": "python",
   "pygments_lexer": "ipython3",
   "version": "3.10.11"
  }
 },
 "nbformat": 4,
 "nbformat_minor": 5
}
