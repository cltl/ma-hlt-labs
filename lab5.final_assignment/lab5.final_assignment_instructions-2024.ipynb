{
 "cells": [
  {
   "cell_type": "markdown",
   "metadata": {
    "tags": []
   },
   "source": [
    "# Lab5 Final assignment: putting it all together"
   ]
  },
  {
   "cell_type": "markdown",
   "metadata": {},
   "source": [
    "The final assignment is an individual assignment in which you put things together. You earn 6 points when you carry out the basic tasks and an additional 4 points for analysing and discussing the results poperly. The maximum score is 10 points.\n",
    "\n",
    "<ol>\n",
    "    <li><b>Annotated conversations</b>\n",
    "        <ul>\n",
    "        <li> Load the annotated conversations in a Pandas data frame (code is given)\n",
    "        <li> Provide a statistical analysis of the distribution of the emotion labels\n",
    "        </ul>\n",
    "    <li><b>Create two different BoW-SVM emotion classifiers, one focusing on high recall and the other on high precision</b>\n",
    "        <ul>\n",
    "        <li> Load the train, test and development data combining MELD and WASSA data sets\n",
    "        <li> Give an overview and discuss the statistics of the Ekman emotion labels\n",
    "        <li> High recall:\n",
    "            <ul>\n",
    "                <li>Motivate and define the settings for getting high recall scores\n",
    "                <li>Create a BoW vector representation and train an SVM classifier\n",
    "                <li>Save the classifier to disk\n",
    "            </ul>\n",
    "        <li> High precision:\n",
    "            <ul>\n",
    "                <li>Motivate and define the settings for getting high precision scores\n",
    "                <li>Create a BoW vector representation and train an SVM classifier\n",
    "                <li>Save the classifier to disk\n",
    "            </ul>\n",
    "        <li> Load both classifiers in this notebook and apply them to the utterances in the conversations\n",
    "        <li> Generate a classification report and confusion matrix for both.\n",
    "        </ul>\n",
    "    <li><b>Discuss the result</b>\n",
    "        <ul>\n",
    "        <li> Report on similarities and differences in performances and confusion matrixes \n",
    "        <li> What did you expect (recall and precision) and is this confirmed or falsified?\n",
    "        </ul>\n",
    "    <li><b>Error analysis</b>\n",
    "        <ul>\n",
    "        <li> Manually select 20 utterances for an error analysis\n",
    "        <li> Motivate your selection to get a deeper understanding: under stand cases where the classifiers underperform\n",
    "        <li> Discuss how you may improve the SVM classification\n",
    "        <li> Apply the BERT-GO model to the 20 utterances and map the emotion labels to the Ekman emotions\n",
    "        <li> Prompt the Llama3 server to classify the 20 utterances with the Ekman emotions\n",
    "        <li> Compare the BERT-GO and Llama annotations with your SVM classifier results\n",
    "        </ul>    \n",
    "</ol>"
   ]
  },
  {
   "cell_type": "markdown",
   "metadata": {},
   "source": [
    "For 2.), you build two BoW SVM classifiers in a separate notebook (use **lab5.meld-tweet-bow-svm-emotion-classifier.ipynb**) by combining the MELD and Tweet data into a single set of training data. Note that you can also include the test and development data for training since we are applying the model to the Llama conversations and not to the MELD and Wassa tests. "
   ]
  },
  {
   "cell_type": "markdown",
   "metadata": {},
   "source": [
    "## 1. Submission"
   ]
  },
  {
   "cell_type": "markdown",
   "metadata": {},
   "source": [
    "The assignment should be made individually and submiited on CANVAS as a zip file that includes the following:\n",
    "\n",
    "   1. The notebook to create two different BoW-SVM classifiers: **lab5.meld-tweet-bow-svm-emotion-classifier.ipynb**\n",
    "   2. The current notebook **lab5.final_assignment.ipynb** with your code\n",
    "   3. A PDF report of max 5 pages:\n",
    "       1. Section 1: what you have done and what choices did you make: be explicit about the settings and any data changes you made to train the two different classifiers on MELD+Tweets in order to get a high recall and a high precision version.\n",
    "       2. Section 2: report on the Ekman classification results of the two SVM versions. Use a single table for recall, precision and f-score for both classifiers and put confusion matrixes in the appendix if necessary.\n",
    "       3. Section 3: describe the error analysis and compare the SVM classifier results with the results from the Llama and the go-BERT-classifiers.\n",
    "       4. Section 4: how to improve the SVM classifier.\n",
    "    \n",
    "Use the notebooks that are given as a guide with the code and the output. You should NOT discuss the results in the notebooks but in the report. Use the notebooks to run the experiments and get the results. Include the tables and figures in the report."
   ]
  },
  {
   "cell_type": "markdown",
   "metadata": {},
   "source": [
    "Some utility functions presented during this course are needed for this assignment. They are all included in the Python file **lab5_util.py**. The next import makes these functions available in this notebook. There is no need to copy these functions into this notebook explicitly. After the import, you can call the function from **util**, e.g.:\n",
    "\n",
    "```emotion_labels = util.sort_predictions(emotion_labels[0])```\n",
    "\n",
    "```ekman_labels = util.get_averaged_mapped_scores_by_threshold(ekman_map, emotion_labels, threshold)```\n",
    "\n",
    "```util.plot_labels_with_counts(labels, values)```"
   ]
  },
  {
   "cell_type": "code",
   "execution_count": 2,
   "metadata": {
    "tags": []
   },
   "outputs": [],
   "source": [
    "import lab5_util as util"
   ]
  },
  {
   "cell_type": "markdown",
   "metadata": {
    "tags": []
   },
   "source": [
    "## 2. Loading the conversation saved on disk"
   ]
  },
  {
   "cell_type": "markdown",
   "metadata": {},
   "source": [
    "You receive a file with all the annoated conversations in JSON format. Adapt the path below to load this file using Pandas to create a data frame."
   ]
  },
  {
   "cell_type": "code",
   "execution_count": 2,
   "metadata": {},
   "outputs": [],
   "source": [
    "# THE CODE TO LOAD THE TEST DATA AND LABELS\n",
    "# replace the file path shown here to the JSON file that is given for the final assignment\n",
    "import pandas as pd\n",
    "annotation_file = \"/Users/piek/Desktop/t-MA-HLT-introduction-2024/ma-hlt-labs-class/lab0.llama/other/adjudicated_annotations.json\"\n",
    "df = pd.read_json(annotation_file)\n",
    "df = df.dropna()"
   ]
  },
  {
   "cell_type": "code",
   "execution_count": 3,
   "metadata": {},
   "outputs": [
    {
     "data": {
      "text/html": [
       "<div>\n",
       "<style scoped>\n",
       "    .dataframe tbody tr th:only-of-type {\n",
       "        vertical-align: middle;\n",
       "    }\n",
       "\n",
       "    .dataframe tbody tr th {\n",
       "        vertical-align: top;\n",
       "    }\n",
       "\n",
       "    .dataframe thead th {\n",
       "        text-align: right;\n",
       "    }\n",
       "</style>\n",
       "<table border=\"1\" class=\"dataframe\">\n",
       "  <thead>\n",
       "    <tr style=\"text-align: right;\">\n",
       "      <th></th>\n",
       "      <th>utterance</th>\n",
       "      <th>speaker</th>\n",
       "      <th>turn_id</th>\n",
       "      <th>Gold</th>\n",
       "      <th>Annotator</th>\n",
       "      <th>Votes</th>\n",
       "      <th>Annotators</th>\n",
       "      <th>Adjudication</th>\n",
       "    </tr>\n",
       "  </thead>\n",
       "  <tbody>\n",
       "    <tr>\n",
       "      <th>0</th>\n",
       "      <td>Hey, I'm Lolamama.</td>\n",
       "      <td>Hi, I'm Lalamama.</td>\n",
       "      <td>2</td>\n",
       "      <td>neutral</td>\n",
       "      <td>Yunchong Huang</td>\n",
       "      <td>[neutral, neutral, neutral]</td>\n",
       "      <td>[Yunchong Huang, Aysha, Hannah]</td>\n",
       "      <td>neutral</td>\n",
       "    </tr>\n",
       "    <tr>\n",
       "      <th>1</th>\n",
       "      <td>Let's have a chat, but please restrict your re...</td>\n",
       "      <td>Hey, I'm Lolamama.</td>\n",
       "      <td>4</td>\n",
       "      <td>neutral</td>\n",
       "      <td>Yunchong Huang</td>\n",
       "      <td>[neutral, neutral, neutral]</td>\n",
       "      <td>[Yunchong Huang, Aysha, Hannah]</td>\n",
       "      <td>neutral</td>\n",
       "    </tr>\n",
       "    <tr>\n",
       "      <th>2</th>\n",
       "      <td>The weather today is just ridiculous, I was ca...</td>\n",
       "      <td>Hey, I'm Lolamama.</td>\n",
       "      <td>6</td>\n",
       "      <td>anger</td>\n",
       "      <td>Yunchong Huang</td>\n",
       "      <td>[anger, anger, disgust]</td>\n",
       "      <td>[Yunchong Huang, Aysha, Hannah]</td>\n",
       "      <td>anger</td>\n",
       "    </tr>\n",
       "    <tr>\n",
       "      <th>3</th>\n",
       "      <td>Oh wow, you also know how it feels in rain? Yo...</td>\n",
       "      <td>Hey, I'm Lolamama.</td>\n",
       "      <td>8</td>\n",
       "      <td>surprise</td>\n",
       "      <td>Yunchong Huang</td>\n",
       "      <td>[surprise, surprise, surprise]</td>\n",
       "      <td>[Yunchong Huang, Aysha, Hannah]</td>\n",
       "      <td>surprise</td>\n",
       "    </tr>\n",
       "    <tr>\n",
       "      <th>4</th>\n",
       "      <td>OK, if you are able to hang around in disguise...</td>\n",
       "      <td>Hey, I'm Lolamama.</td>\n",
       "      <td>10</td>\n",
       "      <td>fear</td>\n",
       "      <td>Yunchong Huang</td>\n",
       "      <td>[fear, fear, neutral]</td>\n",
       "      <td>[Yunchong Huang, Aysha, Hannah]</td>\n",
       "      <td>fear</td>\n",
       "    </tr>\n",
       "  </tbody>\n",
       "</table>\n",
       "</div>"
      ],
      "text/plain": [
       "                                           utterance             speaker  \\\n",
       "0                                 Hey, I'm Lolamama.   Hi, I'm Lalamama.   \n",
       "1  Let's have a chat, but please restrict your re...  Hey, I'm Lolamama.   \n",
       "2  The weather today is just ridiculous, I was ca...  Hey, I'm Lolamama.   \n",
       "3  Oh wow, you also know how it feels in rain? Yo...  Hey, I'm Lolamama.   \n",
       "4  OK, if you are able to hang around in disguise...  Hey, I'm Lolamama.   \n",
       "\n",
       "   turn_id      Gold       Annotator                           Votes  \\\n",
       "0        2   neutral  Yunchong Huang     [neutral, neutral, neutral]   \n",
       "1        4   neutral  Yunchong Huang     [neutral, neutral, neutral]   \n",
       "2        6     anger  Yunchong Huang         [anger, anger, disgust]   \n",
       "3        8  surprise  Yunchong Huang  [surprise, surprise, surprise]   \n",
       "4       10      fear  Yunchong Huang           [fear, fear, neutral]   \n",
       "\n",
       "                        Annotators Adjudication  \n",
       "0  [Yunchong Huang, Aysha, Hannah]      neutral  \n",
       "1  [Yunchong Huang, Aysha, Hannah]      neutral  \n",
       "2  [Yunchong Huang, Aysha, Hannah]        anger  \n",
       "3  [Yunchong Huang, Aysha, Hannah]     surprise  \n",
       "4  [Yunchong Huang, Aysha, Hannah]         fear  "
      ]
     },
     "execution_count": 3,
     "metadata": {},
     "output_type": "execute_result"
    }
   ],
   "source": [
    "df.head()"
   ]
  },
  {
   "cell_type": "markdown",
   "metadata": {
    "tags": []
   },
   "source": [
    "## 3 Provide a statistical analysis of the test data"
   ]
  },
  {
   "cell_type": "code",
   "execution_count": 1,
   "metadata": {},
   "outputs": [],
   "source": [
    "# [YOUR CODE FOR THE ANALYSIS GOES HERE]"
   ]
  },
  {
   "cell_type": "markdown",
   "metadata": {},
   "source": [
    "## 4 Apply the BoW classifiers for high recall and high precision"
   ]
  },
  {
   "cell_type": "markdown",
   "metadata": {},
   "source": [
    "### 4.1 Load the BoW SVM classifier from MELD and TWEETS"
   ]
  },
  {
   "cell_type": "code",
   "execution_count": 2,
   "metadata": {
    "tags": []
   },
   "outputs": [],
   "source": [
    "# HERE COMES THE CODE TO LOAD THE BOW SVM CLASSIFIER BUILT FROM MELD AND WASSA TWEETS"
   ]
  },
  {
   "cell_type": "markdown",
   "metadata": {},
   "source": [
    "### 4.2 Apply each classifier to the conversation"
   ]
  },
  {
   "cell_type": "code",
   "execution_count": 3,
   "metadata": {
    "tags": []
   },
   "outputs": [],
   "source": [
    "# HERE COMES THE CODE TO APPLY THE CLASSIFIER TO THE UTTERANCES"
   ]
  },
  {
   "cell_type": "markdown",
   "metadata": {},
   "source": [
    "## 4.3 Evaluation"
   ]
  },
  {
   "cell_type": "code",
   "execution_count": 4,
   "metadata": {
    "tags": []
   },
   "outputs": [],
   "source": [
    "# HERE COMES THE CODE TO GENERATE THE CLASSIFICATION REPORT AND CONFUSION MATRIX"
   ]
  },
  {
   "cell_type": "markdown",
   "metadata": {},
   "source": [
    "## End of the assignment"
   ]
  },
  {
   "cell_type": "code",
   "execution_count": null,
   "metadata": {},
   "outputs": [],
   "source": []
  }
 ],
 "metadata": {
  "kernelspec": {
   "display_name": "Python 3 (ipykernel)",
   "language": "python",
   "name": "python3"
  },
  "language_info": {
   "codemirror_mode": {
    "name": "ipython",
    "version": 3
   },
   "file_extension": ".py",
   "mimetype": "text/x-python",
   "name": "python",
   "nbconvert_exporter": "python",
   "pygments_lexer": "ipython3",
   "version": "3.10.11"
  }
 },
 "nbformat": 4,
 "nbformat_minor": 4
}
