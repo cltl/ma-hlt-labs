{
 "cells": [
  {
   "cell_type": "code",
   "execution_count": null,
   "id": "20e1c1fb-7159-4bd1-9ee6-4a9156177e5f",
   "metadata": {},
   "outputs": [],
   "source": [
    "# Lab4.5 Evaluating a part of speech tagger"
   ]
  },
  {
   "cell_type": "code",
   "execution_count": null,
   "id": "c32a1555-6cfb-4b05-a44b-66d606205978",
   "metadata": {},
   "outputs": [],
   "source": []
  },
  {
   "cell_type": "code",
   "execution_count": null,
   "id": "83447ef9-2fa6-4940-8966-349ba4e995b4",
   "metadata": {},
   "outputs": [],
   "source": []
  }
 ],
 "metadata": {
  "kernelspec": {
   "display_name": "Python 3",
   "language": "python",
   "name": "python3"
  },
  "language_info": {
   "codemirror_mode": {
    "name": "ipython",
    "version": 3
   },
   "file_extension": ".py",
   "mimetype": "text/x-python",
   "name": "python",
   "nbconvert_exporter": "python",
   "pygments_lexer": "ipython3",
   "version": "3.10.11"
  }
 },
 "nbformat": 4,
 "nbformat_minor": 5
}
