{
 "cells": [
  {
   "cell_type": "markdown",
   "id": "02ae9d9a-b347-4f82-a1ce-a172e6932a6e",
   "metadata": {},
   "source": [
    "# Lab3.3 Part-of-Speech tagger as Token in Sequence classification"
   ]
  },
  {
   "cell_type": "markdown",
   "id": "46559498-a422-4a49-933d-044deed52cb6",
   "metadata": {},
   "source": [
    "In Lab3.2, you represented a text as a Bag-of-Words or BoW. In a BoW, the order of the words does not matter. This may be fine for text classification tasks such as emotion detection and topic classification in which the text as a whole can be associated with an interpretation. However for many other NLP tasks, words or phrases need to be interpreted as they occur in order. For this we need to represent a text as a **sequence** of words and we need to classify words or phrases as being part of such a sequence.\n",
    "\n",
    "The task of assigning an interpretation to a word or phrase in a sequence is called **Token in Sequence** or **TiS** classification. Typical **TiS** classification tasks are: Part-of-Speech tagging, Named Entity Recognition, Syntactic Structure and Dependencies, Event Recognition and Semantic Role Labelling.\n",
    "\n",
    "Whereas in the case of a Text Classification task, we represent the complete text as a feature vector such as a BoW, in the case of TiS we need to represent each token in a sequence using a feature vector.\n",
    "\n",
    "Assume we use a feature vector with four dimension for the presence of words \"the\", \"chicken\", \"produced\" and \"egg\" in this order. The difference between a very simple BoW and a TiS representation for the following two sentences would be as follows:\n",
    "\n",
    "```\n",
    "the chicken produced the egg\n",
    "    BoW = [1, 1, 1, 1]\n",
    "    TiS = [1, 0, 0, 0][0, 1, 0, 0][0, 0, 1, 0][1, 0, 0, 0][0, 0, 0, 1]\n",
    "the egg produced the chicken\n",
    "    BoW = [1, 1, 1, 1]\n",
    "    TiS = [1, 0, 0, 0][0, 0, 0, 1][0, 0, 1, 0][1, 0, 0, 0][0, 1, 0, 0]\n",
    "```\n",
    "\n",
    "The BoW repersentation of the two sentences would be the same but the TiS representations are different. Here the TiS representation only captures the word itself as a so-called one-hot vector. In reality, we package a lot of features in the representation of a token among which the position in the sentence, word-shape, suffixes and prefixes, previous and following words.\n",
    "\n",
    "In this notebook, we are going to demonstrate how you can train a so-called **Conditional Random Field** or **CRF** classifier to predict the part-of-speech of words in a sequence. For this we are going to represent the training data as TiS and feed this to a CRF classifier. "
   ]
  },
  {
   "cell_type": "markdown",
   "id": "d63ca5e9-ed47-4e5f-90f1-4f2c53bc1877",
   "metadata": {},
   "source": [
    "## 1. Conditional Random Fields or CRF"
   ]
  },
  {
   "cell_type": "markdown",
   "id": "76410b6c-1c72-4ceb-b4d0-cfea817205c9",
   "metadata": {},
   "source": [
    "**CRF** is a discriminative classifier  that evaluates the probabilities that a set of states are dependent or not between themselves based on a set of observations. In this case, it evaluates the probabilities that a word observed in a context belongs to a specific PoS. In training time, it takes what is the best state given the set of current observations and probabilities.\n",
    "\n",
    "In the next image, X1 to X4 represent a sequence of input tokens or words. The goal is to predict Y1 to Y4 as labels given the sequence of input tokens. For each X there is a probability $\\Phi$ for the token to predict a label Y. We also see that there is another probability $\\Phi$ that a label Y is followed by another Y. In a sequence classification task these conditional probablities are taken into account as well. The algorithm progresses through the sequence to choose the optimal set of corresponding labels.\n",
    "\n",
    "<div>\n",
    "<img src=\"images/CRF.png\" width=\"400\"/>\n",
    "</div>\n",
    "\n",
    "Further mathematical details can be found in: https://towardsdatascience.com/conditional-random-fields-explained-e5b8256da776"
   ]
  },
  {
   "cell_type": "markdown",
   "id": "dff7985f-d192-49c5-b80f-bf702122fba8",
   "metadata": {},
   "source": [
    "## 2. Creating a token in sequence representation of a sentence"
   ]
  },
  {
   "cell_type": "markdown",
   "id": "c65b2691-3293-42d8-bb66-a86ee800d9c7",
   "metadata": {},
   "source": [
    "Token-in-Sequence or TiS representations are typically created for sentences and not for long documents. The sequential relations between words are stronger in a sentence with some grammatical structure. Long-distance (beyond the sentence boundary) dependencies between words are more difficult to capture.\n",
    "\n",
    "In order to make a prediction for each word in a sequence, you need to know a lot about the word and about the sequence in which it occurs. Furthermore, you want the model to generalise over the word itself. For example, the sequence ```determiner - adjective``` is very likely to be followed by ```noun``` in English regardless of the words. Furthermore to know that something could be an adjective or a noun can also be learned from the beginning (prefix) and ending (suffix) of a word. In the same vein, the use of capitals, digits, or the position of the word in the sentence can play a role.\n",
    "\n",
    "For TiS classification tasks, very rich feature bundles are defined to define each word or token in a sequence. Below is a very simple function that takes a list of tokens as a sentence as input and returns a feature bundle for the n-th word in a sentence. Take a minute to study the next function. Note that the ```re``` module is used for creating regular expressions, which are small grammars that define patterns of characters in strings."
   ]
  },
  {
   "cell_type": "code",
   "execution_count": 3,
   "id": "03604c70-62cd-4b6b-aa66-f334c2b69fa7",
   "metadata": {},
   "outputs": [],
   "source": [
    "#Regex module for checking alphanumeric values.\n",
    "import re\n",
    "\n",
    "### Function that takes a list of words as input (presumably a sentence) and a integer (index) pointing to the nth word of the list as input.\n",
    "### Returns a Python dictionary with features and values based on the properties of the word\n",
    "def extract_features(sentence: str, index: int):\n",
    "  return {\n",
    "      'word':sentence[index], ## the word itself is a feature, where index is the nth words in the sentence\n",
    "      'is_first':index==0, ## True if it is the first word in a sentence otherwise False\n",
    "      'is_last':index ==len(sentence)-1, ## True if it is the last word in a sentence, otherwise False\n",
    "      'is_capitalized':sentence[index][0].upper() == sentence[index][0], ## True if the first character is a capital, otherwise False\n",
    "      'is_all_caps': sentence[index].upper() == sentence[index], ## True if all characters capitalized, otherwise False\n",
    "      'is_all_lower': sentence[index].lower() == sentence[index], ## True if all characters are lower case, otherwise False\n",
    "      'is_alphanumeric': int(bool((re.match('^(?=.*[0-9]$)(?=.*[a-zA-Z])',sentence[index])))), ## Mixture of characters and digits\n",
    "      'prefix-1':sentence[index][0], ## first character of a word\n",
    "      'prefix-2':sentence[index][:2], ## first two chars of a word\n",
    "      'prefix-3':sentence[index][:3], ## first three chars of a word\n",
    "      'suffix-1':sentence[index][-1], ## last character of a word\n",
    "      'suffix-2':sentence[index][-2:], ## last two chars of a word\n",
    "      'suffix-3':sentence[index][-3:], ## last three chars of a word\n",
    "      'prev_word':'' if index == 0 else sentence[index-1], ## previous word if any\n",
    "      'next_word':'' if index == len(sentence)-1 else sentence[index+1], ## next word if any\n",
    "      'has_hyphen': '-' in sentence[index], ## True if it has a hyphen, otherwise False\n",
    "      'is_numeric': sentence[index].isdigit(), ## only digits\n",
    "      'capitals_inside': sentence[index][1:].lower() != sentence[index][1:] ## True if any capitals inside the word, otherwise False\n",
    "  }"
   ]
  },
  {
   "cell_type": "markdown",
   "id": "d3928f7a-9172-4af0-9f12-6526d982ce99",
   "metadata": {},
   "source": [
    "By tokenizing a sentence using ```NLTK```, we can turn a sentence into a list of words and pass these one by one to the function through their position in the list. The function will return the feature dictionary for each word, which we append to the feature sequence."
   ]
  },
  {
   "cell_type": "code",
   "execution_count": 4,
   "id": "0e17e66a-00a4-41be-9336-8bb1933063f5",
   "metadata": {},
   "outputs": [
    {
     "name": "stdout",
     "output_type": "stream",
     "text": [
      "{'word': 'Fruit', 'is_first': True, 'is_last': False, 'is_capitalized': True, 'is_all_caps': False, 'is_all_lower': False, 'is_alphanumeric': 0, 'prefix-1': 'F', 'prefix-2': 'Fr', 'prefix-3': 'Fru', 'suffix-1': 't', 'suffix-2': 'it', 'suffix-3': 'uit', 'prev_word': '', 'next_word': 'flies', 'has_hyphen': False, 'is_numeric': False, 'capitals_inside': False}\n",
      "\n",
      "{'word': 'flies', 'is_first': False, 'is_last': False, 'is_capitalized': False, 'is_all_caps': False, 'is_all_lower': True, 'is_alphanumeric': 0, 'prefix-1': 'f', 'prefix-2': 'fl', 'prefix-3': 'fli', 'suffix-1': 's', 'suffix-2': 'es', 'suffix-3': 'ies', 'prev_word': 'Fruit', 'next_word': 'like', 'has_hyphen': False, 'is_numeric': False, 'capitals_inside': False}\n",
      "\n",
      "{'word': 'like', 'is_first': False, 'is_last': False, 'is_capitalized': False, 'is_all_caps': False, 'is_all_lower': True, 'is_alphanumeric': 0, 'prefix-1': 'l', 'prefix-2': 'li', 'prefix-3': 'lik', 'suffix-1': 'e', 'suffix-2': 'ke', 'suffix-3': 'ike', 'prev_word': 'flies', 'next_word': 'a', 'has_hyphen': False, 'is_numeric': False, 'capitals_inside': False}\n",
      "\n",
      "{'word': 'a', 'is_first': False, 'is_last': False, 'is_capitalized': False, 'is_all_caps': False, 'is_all_lower': True, 'is_alphanumeric': 0, 'prefix-1': 'a', 'prefix-2': 'a', 'prefix-3': 'a', 'suffix-1': 'a', 'suffix-2': 'a', 'suffix-3': 'a', 'prev_word': 'like', 'next_word': 'banana', 'has_hyphen': False, 'is_numeric': False, 'capitals_inside': False}\n",
      "\n",
      "{'word': 'banana', 'is_first': False, 'is_last': False, 'is_capitalized': False, 'is_all_caps': False, 'is_all_lower': True, 'is_alphanumeric': 0, 'prefix-1': 'b', 'prefix-2': 'ba', 'prefix-3': 'ban', 'suffix-1': 'a', 'suffix-2': 'na', 'suffix-3': 'ana', 'prev_word': 'a', 'next_word': '.', 'has_hyphen': False, 'is_numeric': False, 'capitals_inside': False}\n",
      "\n",
      "{'word': '.', 'is_first': False, 'is_last': True, 'is_capitalized': True, 'is_all_caps': True, 'is_all_lower': True, 'is_alphanumeric': 0, 'prefix-1': '.', 'prefix-2': '.', 'prefix-3': '.', 'suffix-1': '.', 'suffix-2': '.', 'suffix-3': '.', 'prev_word': 'banana', 'next_word': '', 'has_hyphen': False, 'is_numeric': False, 'capitals_inside': False}\n",
      "\n"
     ]
    }
   ],
   "source": [
    "import nltk\n",
    "\n",
    "sentence = \"Fruit flies like a banana.\"\n",
    "token_sequence_sentence = nltk.word_tokenize(sentence)\n",
    "\n",
    "## The sequence of features that we will extract\n",
    "feature_sequence_sentence = []\n",
    "for index in range(len(token_sequence_sentence)):\n",
    "    word_feature_dictionary =extract_features(token_sequence_sentence, index)\n",
    "    feature_sequence_sentence.append(word_feature_dictionary),\n",
    "\n",
    "for item in feature_sequence_sentence:\n",
    "    print(item)\n",
    "    print()"
   ]
  },
  {
   "cell_type": "markdown",
   "id": "b858a24e-c170-49e8-b95b-8acbb931ec75",
   "metadata": {},
   "source": [
    "We see that each word is now represented by a dictionary with feature names and values. The classifier will turn these feature representations internally into numeric representations and associate these with a sequence of labels, e.g.:"
   ]
  },
  {
   "cell_type": "code",
   "execution_count": 5,
   "id": "db3fe92b-e013-40dd-ac80-4c9bdc8d2b8a",
   "metadata": {},
   "outputs": [],
   "source": [
    "label_sequence = [\"NOUN\", \"NOUN\", \"VERB\", \"DET\", \"NOUN\", \"PUNCT\"]"
   ]
  },
  {
   "cell_type": "markdown",
   "id": "6ed5a248-f35c-4010-8d4c-c08eda41ccf6",
   "metadata": {},
   "source": [
    "In order to train a classifier, we need a lot more than one sentence and the corresponding labels. We therefore use a real data set next and convert these into sequences of features with the above function."
   ]
  },
  {
   "cell_type": "markdown",
   "id": "fbb009d7-504f-4335-8f52-429236182ae9",
   "metadata": {},
   "source": [
    "## Training a Part-of-Speech tagger using the Penn Treebank"
   ]
  },
  {
   "cell_type": "markdown",
   "id": "551819d4-2e16-41a8-b392-15257b570fe6",
   "metadata": {},
   "source": [
    "The [Penn Treebank](https://paperswithcode.com/dataset/penn-treebank) is a famous data set in which sentences have been labeled with Part-of-Speech tags. The data set is included in NLTK but you may have to download it separately. You only need to download it once to use it."
   ]
  },
  {
   "cell_type": "code",
   "execution_count": 6,
   "id": "73b6469a-e3ed-4577-b62c-74c6f613fc32",
   "metadata": {},
   "outputs": [
    {
     "name": "stderr",
     "output_type": "stream",
     "text": [
      "[nltk_data] Downloading package treebank to /Users/piek/nltk_data...\n",
      "[nltk_data]   Package treebank is already up-to-date!\n"
     ]
    },
    {
     "data": {
      "text/plain": [
       "True"
      ]
     },
     "execution_count": 6,
     "metadata": {},
     "output_type": "execute_result"
    }
   ],
   "source": [
    "#Ensure that the treebank corpus is downloaded\n",
    "nltk.download('treebank')"
   ]
  },
  {
   "cell_type": "markdown",
   "id": "dc3ddf3c-da5b-489f-a095-f272b895fd7b",
   "metadata": {},
   "source": [
    "The data has a specific structure in which sentences are stored as lists of words that can be retrieved through separate file ids. The corresponding seuences of Part-of-Speech tags can be retrieved witht he same id. The next code pulls out sequences of words and sequences of tags that we pair as a set (note the \"(\", \")\" brackets) and save in a list called ```penn_treebank```."
   ]
  },
  {
   "cell_type": "code",
   "execution_count": 7,
   "id": "1222d454-7c36-4328-b3ce-d5c4933de341",
   "metadata": {},
   "outputs": [
    {
     "name": "stdout",
     "output_type": "stream",
     "text": [
      "Number of paired sentences and tags in Penn 199\n"
     ]
    }
   ],
   "source": [
    "#Load the treebank corpus class\n",
    "from nltk.corpus import treebank\n",
    "\n",
    "#Now we iterate over all samples from the corpus (the fileids are equivalent to sentences)\n",
    "#and retrieve the word and the pre-labeled PoS tag. This will be added as a list of tuples with\n",
    "#a list of words and a list of their respective PoS tags (in the same order).\n",
    "penn_treebank = []\n",
    "for fileid in treebank.fileids():\n",
    "  tokens = []\n",
    "  tags = []\n",
    "  for word, tag in treebank.tagged_words(fileid):\n",
    "    tokens.append(word)\n",
    "    tags.append(tag)\n",
    "  penn_treebank.append((tokens, tags))\n",
    "\n",
    "print('Number of paired sentences and tags in Penn', len(penn_treebank))"
   ]
  },
  {
   "cell_type": "markdown",
   "id": "92f2dd5e-8125-4114-b146-46ad33945921",
   "metadata": {},
   "source": [
    "So there are 199 sentences in this data set with sequences of Part-of-Speech.\n",
    "Each sentence is now represented as two list: a sequence of words and a sequences of tags."
   ]
  },
  {
   "cell_type": "code",
   "execution_count": 8,
   "id": "45bf24d2-c87c-4988-b856-cc011fd1f908",
   "metadata": {},
   "outputs": [
    {
     "name": "stdout",
     "output_type": "stream",
     "text": [
      "['Pierre', 'Vinken', ',', '61', 'years', 'old', ',', 'will', 'join', 'the', 'board', 'as', 'a', 'nonexecutive', 'director', 'Nov.', '29', '.', 'Mr.', 'Vinken', 'is', 'chairman', 'of', 'Elsevier', 'N.V.', ',', 'the', 'Dutch', 'publishing', 'group', '.'] ['NNP', 'NNP', ',', 'CD', 'NNS', 'JJ', ',', 'MD', 'VB', 'DT', 'NN', 'IN', 'DT', 'JJ', 'NN', 'NNP', 'CD', '.', 'NNP', 'NNP', 'VBZ', 'NN', 'IN', 'NNP', 'NNP', ',', 'DT', 'NNP', 'VBG', 'NN', '.']\n"
     ]
    }
   ],
   "source": [
    "### Showing the first two\n",
    "for token_tag_sequences in penn_treebank:\n",
    "    print(token_tag_sequences[0], token_tag_sequences[1])\n",
    "    break"
   ]
  },
  {
   "cell_type": "markdown",
   "id": "671b75f0-70dc-4234-8c1e-f4a99ab7d0af",
   "metadata": {},
   "source": [
    "We can now use the feature extraction function that we described above to represent all sentences and associate these with the sequences of tags."
   ]
  },
  {
   "cell_type": "markdown",
   "id": "d43d40ab-ceba-434b-91c2-864c40be9f72",
   "metadata": {},
   "source": [
    "Before we transform the Penn treebank with the above function, we split in 80% train and 20% test data."
   ]
  },
  {
   "cell_type": "code",
   "execution_count": 9,
   "id": "04543f2d-2b2f-4d09-a107-69e9d503aa89",
   "metadata": {},
   "outputs": [],
   "source": [
    "# Split into train and test\n",
    "penn_train_size = int(0.8*len(penn_treebank))\n",
    "penn_training = penn_treebank[:penn_train_size]\n",
    "penn_testing = penn_treebank[penn_train_size:]"
   ]
  },
  {
   "cell_type": "markdown",
   "id": "f9b4214c-d5ac-4909-9ffe-d189d0c5be83",
   "metadata": {},
   "source": [
    "We will define a new function ```transform_to_dataset``` that will take the list of paired lists of words and tags, convert each word into a feature dictionary and pair the word features wih the corresponding label."
   ]
  },
  {
   "cell_type": "code",
   "execution_count": 10,
   "id": "48e44777-9576-4909-929b-33b9158a7f73",
   "metadata": {},
   "outputs": [],
   "source": [
    "#This function returns the data as two lists, one of Dicts of features and the other with the labels.\n",
    "def transform_to_dataset(tagged_sentence_pairs):\n",
    "  feature_sequences, label_sequences = [], []\n",
    "  for sentence, tags in tagged_sentence_pairs:\n",
    "    sent_word_features, sent_tags = [],[]\n",
    "    for index in range(len(sentence)):\n",
    "        sent_word_features.append(extract_features(sentence, index)),\n",
    "        sent_tags.append(tags[index])\n",
    "    feature_sequences.append(sent_word_features)\n",
    "    label_sequences.append(sent_tags)\n",
    "  return feature_sequences, label_sequences"
   ]
  },
  {
   "cell_type": "code",
   "execution_count": 11,
   "id": "7ccfa31e-cbd7-471f-a549-be8eb8a42a8d",
   "metadata": {},
   "outputs": [],
   "source": [
    "# Extract for each the feature sequences and label sequences\n",
    "penn_train_feature_sequences, penn_train_label_sequences = transform_to_dataset(penn_training)\n",
    "penn_test_feature_sequences, penn_test_label_sequences = transform_to_dataset(penn_testing)"
   ]
  },
  {
   "cell_type": "code",
   "execution_count": 12,
   "id": "b3d39620-de80-4e34-8803-e704c0407b3a",
   "metadata": {},
   "outputs": [
    {
     "name": "stdout",
     "output_type": "stream",
     "text": [
      "Nr. of annotated sentences 159 159\n",
      "{'word': 'Pierre', 'is_first': True, 'is_last': False, 'is_capitalized': True, 'is_all_caps': False, 'is_all_lower': False, 'is_alphanumeric': 0, 'prefix-1': 'P', 'prefix-2': 'Pi', 'prefix-3': 'Pie', 'suffix-1': 'e', 'suffix-2': 're', 'suffix-3': 'rre', 'prev_word': '', 'next_word': 'Vinken', 'has_hyphen': False, 'is_numeric': False, 'capitals_inside': False}\n",
      "\n",
      "{'word': 'Vinken', 'is_first': False, 'is_last': False, 'is_capitalized': True, 'is_all_caps': False, 'is_all_lower': False, 'is_alphanumeric': 0, 'prefix-1': 'V', 'prefix-2': 'Vi', 'prefix-3': 'Vin', 'suffix-1': 'n', 'suffix-2': 'en', 'suffix-3': 'ken', 'prev_word': 'Pierre', 'next_word': ',', 'has_hyphen': False, 'is_numeric': False, 'capitals_inside': False}\n",
      "\n",
      "{'word': ',', 'is_first': False, 'is_last': False, 'is_capitalized': True, 'is_all_caps': True, 'is_all_lower': True, 'is_alphanumeric': 0, 'prefix-1': ',', 'prefix-2': ',', 'prefix-3': ',', 'suffix-1': ',', 'suffix-2': ',', 'suffix-3': ',', 'prev_word': 'Vinken', 'next_word': '61', 'has_hyphen': False, 'is_numeric': False, 'capitals_inside': False}\n",
      "\n",
      "{'word': '61', 'is_first': False, 'is_last': False, 'is_capitalized': True, 'is_all_caps': True, 'is_all_lower': True, 'is_alphanumeric': 0, 'prefix-1': '6', 'prefix-2': '61', 'prefix-3': '61', 'suffix-1': '1', 'suffix-2': '61', 'suffix-3': '61', 'prev_word': ',', 'next_word': 'years', 'has_hyphen': False, 'is_numeric': True, 'capitals_inside': False}\n",
      "\n",
      "{'word': 'years', 'is_first': False, 'is_last': False, 'is_capitalized': False, 'is_all_caps': False, 'is_all_lower': True, 'is_alphanumeric': 0, 'prefix-1': 'y', 'prefix-2': 'ye', 'prefix-3': 'yea', 'suffix-1': 's', 'suffix-2': 'rs', 'suffix-3': 'ars', 'prev_word': '61', 'next_word': 'old', 'has_hyphen': False, 'is_numeric': False, 'capitals_inside': False}\n",
      "\n",
      "{'word': 'old', 'is_first': False, 'is_last': False, 'is_capitalized': False, 'is_all_caps': False, 'is_all_lower': True, 'is_alphanumeric': 0, 'prefix-1': 'o', 'prefix-2': 'ol', 'prefix-3': 'old', 'suffix-1': 'd', 'suffix-2': 'ld', 'suffix-3': 'old', 'prev_word': 'years', 'next_word': ',', 'has_hyphen': False, 'is_numeric': False, 'capitals_inside': False}\n",
      "\n",
      "{'word': ',', 'is_first': False, 'is_last': False, 'is_capitalized': True, 'is_all_caps': True, 'is_all_lower': True, 'is_alphanumeric': 0, 'prefix-1': ',', 'prefix-2': ',', 'prefix-3': ',', 'suffix-1': ',', 'suffix-2': ',', 'suffix-3': ',', 'prev_word': 'old', 'next_word': 'will', 'has_hyphen': False, 'is_numeric': False, 'capitals_inside': False}\n",
      "\n",
      "{'word': 'will', 'is_first': False, 'is_last': False, 'is_capitalized': False, 'is_all_caps': False, 'is_all_lower': True, 'is_alphanumeric': 0, 'prefix-1': 'w', 'prefix-2': 'wi', 'prefix-3': 'wil', 'suffix-1': 'l', 'suffix-2': 'll', 'suffix-3': 'ill', 'prev_word': ',', 'next_word': 'join', 'has_hyphen': False, 'is_numeric': False, 'capitals_inside': False}\n",
      "\n",
      "{'word': 'join', 'is_first': False, 'is_last': False, 'is_capitalized': False, 'is_all_caps': False, 'is_all_lower': True, 'is_alphanumeric': 0, 'prefix-1': 'j', 'prefix-2': 'jo', 'prefix-3': 'joi', 'suffix-1': 'n', 'suffix-2': 'in', 'suffix-3': 'oin', 'prev_word': 'will', 'next_word': 'the', 'has_hyphen': False, 'is_numeric': False, 'capitals_inside': False}\n",
      "\n",
      "{'word': 'the', 'is_first': False, 'is_last': False, 'is_capitalized': False, 'is_all_caps': False, 'is_all_lower': True, 'is_alphanumeric': 0, 'prefix-1': 't', 'prefix-2': 'th', 'prefix-3': 'the', 'suffix-1': 'e', 'suffix-2': 'he', 'suffix-3': 'the', 'prev_word': 'join', 'next_word': 'board', 'has_hyphen': False, 'is_numeric': False, 'capitals_inside': False}\n",
      "\n",
      "{'word': 'board', 'is_first': False, 'is_last': False, 'is_capitalized': False, 'is_all_caps': False, 'is_all_lower': True, 'is_alphanumeric': 0, 'prefix-1': 'b', 'prefix-2': 'bo', 'prefix-3': 'boa', 'suffix-1': 'd', 'suffix-2': 'rd', 'suffix-3': 'ard', 'prev_word': 'the', 'next_word': 'as', 'has_hyphen': False, 'is_numeric': False, 'capitals_inside': False}\n",
      "\n",
      "{'word': 'as', 'is_first': False, 'is_last': False, 'is_capitalized': False, 'is_all_caps': False, 'is_all_lower': True, 'is_alphanumeric': 0, 'prefix-1': 'a', 'prefix-2': 'as', 'prefix-3': 'as', 'suffix-1': 's', 'suffix-2': 'as', 'suffix-3': 'as', 'prev_word': 'board', 'next_word': 'a', 'has_hyphen': False, 'is_numeric': False, 'capitals_inside': False}\n",
      "\n",
      "{'word': 'a', 'is_first': False, 'is_last': False, 'is_capitalized': False, 'is_all_caps': False, 'is_all_lower': True, 'is_alphanumeric': 0, 'prefix-1': 'a', 'prefix-2': 'a', 'prefix-3': 'a', 'suffix-1': 'a', 'suffix-2': 'a', 'suffix-3': 'a', 'prev_word': 'as', 'next_word': 'nonexecutive', 'has_hyphen': False, 'is_numeric': False, 'capitals_inside': False}\n",
      "\n",
      "{'word': 'nonexecutive', 'is_first': False, 'is_last': False, 'is_capitalized': False, 'is_all_caps': False, 'is_all_lower': True, 'is_alphanumeric': 0, 'prefix-1': 'n', 'prefix-2': 'no', 'prefix-3': 'non', 'suffix-1': 'e', 'suffix-2': 've', 'suffix-3': 'ive', 'prev_word': 'a', 'next_word': 'director', 'has_hyphen': False, 'is_numeric': False, 'capitals_inside': False}\n",
      "\n",
      "{'word': 'director', 'is_first': False, 'is_last': False, 'is_capitalized': False, 'is_all_caps': False, 'is_all_lower': True, 'is_alphanumeric': 0, 'prefix-1': 'd', 'prefix-2': 'di', 'prefix-3': 'dir', 'suffix-1': 'r', 'suffix-2': 'or', 'suffix-3': 'tor', 'prev_word': 'nonexecutive', 'next_word': 'Nov.', 'has_hyphen': False, 'is_numeric': False, 'capitals_inside': False}\n",
      "\n",
      "{'word': 'Nov.', 'is_first': False, 'is_last': False, 'is_capitalized': True, 'is_all_caps': False, 'is_all_lower': False, 'is_alphanumeric': 0, 'prefix-1': 'N', 'prefix-2': 'No', 'prefix-3': 'Nov', 'suffix-1': '.', 'suffix-2': 'v.', 'suffix-3': 'ov.', 'prev_word': 'director', 'next_word': '29', 'has_hyphen': False, 'is_numeric': False, 'capitals_inside': False}\n",
      "\n",
      "{'word': '29', 'is_first': False, 'is_last': False, 'is_capitalized': True, 'is_all_caps': True, 'is_all_lower': True, 'is_alphanumeric': 0, 'prefix-1': '2', 'prefix-2': '29', 'prefix-3': '29', 'suffix-1': '9', 'suffix-2': '29', 'suffix-3': '29', 'prev_word': 'Nov.', 'next_word': '.', 'has_hyphen': False, 'is_numeric': True, 'capitals_inside': False}\n",
      "\n",
      "{'word': '.', 'is_first': False, 'is_last': False, 'is_capitalized': True, 'is_all_caps': True, 'is_all_lower': True, 'is_alphanumeric': 0, 'prefix-1': '.', 'prefix-2': '.', 'prefix-3': '.', 'suffix-1': '.', 'suffix-2': '.', 'suffix-3': '.', 'prev_word': '29', 'next_word': 'Mr.', 'has_hyphen': False, 'is_numeric': False, 'capitals_inside': False}\n",
      "\n",
      "{'word': 'Mr.', 'is_first': False, 'is_last': False, 'is_capitalized': True, 'is_all_caps': False, 'is_all_lower': False, 'is_alphanumeric': 0, 'prefix-1': 'M', 'prefix-2': 'Mr', 'prefix-3': 'Mr.', 'suffix-1': '.', 'suffix-2': 'r.', 'suffix-3': 'Mr.', 'prev_word': '.', 'next_word': 'Vinken', 'has_hyphen': False, 'is_numeric': False, 'capitals_inside': False}\n",
      "\n",
      "{'word': 'Vinken', 'is_first': False, 'is_last': False, 'is_capitalized': True, 'is_all_caps': False, 'is_all_lower': False, 'is_alphanumeric': 0, 'prefix-1': 'V', 'prefix-2': 'Vi', 'prefix-3': 'Vin', 'suffix-1': 'n', 'suffix-2': 'en', 'suffix-3': 'ken', 'prev_word': 'Mr.', 'next_word': 'is', 'has_hyphen': False, 'is_numeric': False, 'capitals_inside': False}\n",
      "\n",
      "{'word': 'is', 'is_first': False, 'is_last': False, 'is_capitalized': False, 'is_all_caps': False, 'is_all_lower': True, 'is_alphanumeric': 0, 'prefix-1': 'i', 'prefix-2': 'is', 'prefix-3': 'is', 'suffix-1': 's', 'suffix-2': 'is', 'suffix-3': 'is', 'prev_word': 'Vinken', 'next_word': 'chairman', 'has_hyphen': False, 'is_numeric': False, 'capitals_inside': False}\n",
      "\n",
      "{'word': 'chairman', 'is_first': False, 'is_last': False, 'is_capitalized': False, 'is_all_caps': False, 'is_all_lower': True, 'is_alphanumeric': 0, 'prefix-1': 'c', 'prefix-2': 'ch', 'prefix-3': 'cha', 'suffix-1': 'n', 'suffix-2': 'an', 'suffix-3': 'man', 'prev_word': 'is', 'next_word': 'of', 'has_hyphen': False, 'is_numeric': False, 'capitals_inside': False}\n",
      "\n",
      "{'word': 'of', 'is_first': False, 'is_last': False, 'is_capitalized': False, 'is_all_caps': False, 'is_all_lower': True, 'is_alphanumeric': 0, 'prefix-1': 'o', 'prefix-2': 'of', 'prefix-3': 'of', 'suffix-1': 'f', 'suffix-2': 'of', 'suffix-3': 'of', 'prev_word': 'chairman', 'next_word': 'Elsevier', 'has_hyphen': False, 'is_numeric': False, 'capitals_inside': False}\n",
      "\n",
      "{'word': 'Elsevier', 'is_first': False, 'is_last': False, 'is_capitalized': True, 'is_all_caps': False, 'is_all_lower': False, 'is_alphanumeric': 0, 'prefix-1': 'E', 'prefix-2': 'El', 'prefix-3': 'Els', 'suffix-1': 'r', 'suffix-2': 'er', 'suffix-3': 'ier', 'prev_word': 'of', 'next_word': 'N.V.', 'has_hyphen': False, 'is_numeric': False, 'capitals_inside': False}\n",
      "\n",
      "{'word': 'N.V.', 'is_first': False, 'is_last': False, 'is_capitalized': True, 'is_all_caps': True, 'is_all_lower': False, 'is_alphanumeric': 0, 'prefix-1': 'N', 'prefix-2': 'N.', 'prefix-3': 'N.V', 'suffix-1': '.', 'suffix-2': 'V.', 'suffix-3': '.V.', 'prev_word': 'Elsevier', 'next_word': ',', 'has_hyphen': False, 'is_numeric': False, 'capitals_inside': True}\n",
      "\n",
      "{'word': ',', 'is_first': False, 'is_last': False, 'is_capitalized': True, 'is_all_caps': True, 'is_all_lower': True, 'is_alphanumeric': 0, 'prefix-1': ',', 'prefix-2': ',', 'prefix-3': ',', 'suffix-1': ',', 'suffix-2': ',', 'suffix-3': ',', 'prev_word': 'N.V.', 'next_word': 'the', 'has_hyphen': False, 'is_numeric': False, 'capitals_inside': False}\n",
      "\n",
      "{'word': 'the', 'is_first': False, 'is_last': False, 'is_capitalized': False, 'is_all_caps': False, 'is_all_lower': True, 'is_alphanumeric': 0, 'prefix-1': 't', 'prefix-2': 'th', 'prefix-3': 'the', 'suffix-1': 'e', 'suffix-2': 'he', 'suffix-3': 'the', 'prev_word': ',', 'next_word': 'Dutch', 'has_hyphen': False, 'is_numeric': False, 'capitals_inside': False}\n",
      "\n",
      "{'word': 'Dutch', 'is_first': False, 'is_last': False, 'is_capitalized': True, 'is_all_caps': False, 'is_all_lower': False, 'is_alphanumeric': 0, 'prefix-1': 'D', 'prefix-2': 'Du', 'prefix-3': 'Dut', 'suffix-1': 'h', 'suffix-2': 'ch', 'suffix-3': 'tch', 'prev_word': 'the', 'next_word': 'publishing', 'has_hyphen': False, 'is_numeric': False, 'capitals_inside': False}\n",
      "\n",
      "{'word': 'publishing', 'is_first': False, 'is_last': False, 'is_capitalized': False, 'is_all_caps': False, 'is_all_lower': True, 'is_alphanumeric': 0, 'prefix-1': 'p', 'prefix-2': 'pu', 'prefix-3': 'pub', 'suffix-1': 'g', 'suffix-2': 'ng', 'suffix-3': 'ing', 'prev_word': 'Dutch', 'next_word': 'group', 'has_hyphen': False, 'is_numeric': False, 'capitals_inside': False}\n",
      "\n",
      "{'word': 'group', 'is_first': False, 'is_last': False, 'is_capitalized': False, 'is_all_caps': False, 'is_all_lower': True, 'is_alphanumeric': 0, 'prefix-1': 'g', 'prefix-2': 'gr', 'prefix-3': 'gro', 'suffix-1': 'p', 'suffix-2': 'up', 'suffix-3': 'oup', 'prev_word': 'publishing', 'next_word': '.', 'has_hyphen': False, 'is_numeric': False, 'capitals_inside': False}\n",
      "\n",
      "{'word': '.', 'is_first': False, 'is_last': True, 'is_capitalized': True, 'is_all_caps': True, 'is_all_lower': True, 'is_alphanumeric': 0, 'prefix-1': '.', 'prefix-2': '.', 'prefix-3': '.', 'suffix-1': '.', 'suffix-2': '.', 'suffix-3': '.', 'prev_word': 'group', 'next_word': '', 'has_hyphen': False, 'is_numeric': False, 'capitals_inside': False}\n",
      "\n",
      "['NNP', 'NNP', ',', 'CD', 'NNS', 'JJ', ',', 'MD', 'VB', 'DT', 'NN', 'IN', 'DT', 'JJ', 'NN', 'NNP', 'CD', '.', 'NNP', 'NNP', 'VBZ', 'NN', 'IN', 'NNP', 'NNP', ',', 'DT', 'NNP', 'VBG', 'NN', '.']\n"
     ]
    }
   ],
   "source": [
    "print('Nr. of annotated sentences', len(penn_train_feature_sequences), len(penn_train_label_sequences))\n",
    "\n",
    "### Showing the first feature sequence\n",
    "for features in penn_train_feature_sequences:\n",
    "    for feature in features:\n",
    "        print(feature)\n",
    "        print()\n",
    "    break\n",
    "\n",
    "### Showing the first tag sequence\n",
    "for tags in penn_train_label_sequences:\n",
    "    print(tags)\n",
    "    break"
   ]
  },
  {
   "cell_type": "markdown",
   "id": "ea4a1226-bbec-47bc-af71-4d47c6ed3cc2",
   "metadata": {},
   "source": [
    "We can now feed the data to an Sklearn CRF classifier as is. "
   ]
  },
  {
   "cell_type": "markdown",
   "id": "5d659097-4d6c-4f91-8b99-22a986ac7a52",
   "metadata": {},
   "source": [
    "## 3 Training  the CRF Pos-tagger"
   ]
  },
  {
   "cell_type": "markdown",
   "id": "d628dea5-8873-4f16-8f42-6cee1d98ae4c",
   "metadata": {},
   "source": [
    "Now, we use the Conditional Random Fields (CRF) algorithm that is provided in a specific package of Sklearn called ```sklearn_crfsuite``` to train a Token in Sequence or TiS classifier that assigns PoS tags to sequences of words in a sentence. The package should already be installed at the start of the course. Otherwise, run the next cell after removing the comment tag:"
   ]
  },
  {
   "cell_type": "code",
   "execution_count": 13,
   "id": "fc3018ac-6954-4cf2-b02c-157fb1132172",
   "metadata": {},
   "outputs": [],
   "source": [
    "#!pip install sklearn_crfsuite==0.5.0"
   ]
  },
  {
   "cell_type": "markdown",
   "id": "ecd99576-892b-42e8-91e9-b60b67f27c6d",
   "metadata": {},
   "source": [
    "We can create an instance of ```CRF``` with the deault settings as follows:"
   ]
  },
  {
   "cell_type": "code",
   "execution_count": 14,
   "id": "9c55e726-9050-4d52-92bb-c7405a629e50",
   "metadata": {},
   "outputs": [],
   "source": [
    "from sklearn_crfsuite import CRF\n",
    "penn_crf_pos = CRF()"
   ]
  },
  {
   "cell_type": "markdown",
   "id": "4113a831-0553-4be8-bb49-013b47511129",
   "metadata": {},
   "source": [
    "We created the CRF instance without specifying any parameters. This means we are using the default settings. There are a number of parameters that can be defined. Here are some:\n",
    "\n",
    "* algorithm: methodology used to check if results are improving. Default is lbfgs (gradient descent).\n",
    "* c1 and c2:  coefficients used for regularization.\n",
    "* max_iterations: max number of iterations\n",
    "* all_possible_transitions: CRF creates a \"network\" of probability transition states, this option allows it to map \"connections\" not directly present in the data.\n",
    "\n",
    "You could also use a more advance setting to define our instance:\n",
    "```\n",
    "penn_crf = CRF(\n",
    "    algorithm='lbfgs',\n",
    "    c1=0.01,\n",
    "    c2=0.1,\n",
    "    max_iterations=100,\n",
    "    all_possible_transitions=True)\n",
    "```"
   ]
  },
  {
   "cell_type": "markdown",
   "id": "fa1d83ca-a4f7-469d-8187-e982f5c0391e",
   "metadata": {},
   "source": [
    "We call the ```fit``` function to pass the feature representation of the sentences and the corresponding PoS tag sequences."
   ]
  },
  {
   "cell_type": "code",
   "execution_count": 15,
   "id": "f715a345-29b7-4ff0-80c4-a34c206e7203",
   "metadata": {},
   "outputs": [
    {
     "name": "stdout",
     "output_type": "stream",
     "text": [
      "Started training on Penn Treebank corpus!\n",
      "Finished training on Penn Treebank corpus!\n"
     ]
    }
   ],
   "source": [
    "#The fit method is the default name used by Machine Learning algorithms to start training.\n",
    "print(\"Started training on Penn Treebank corpus!\")\n",
    "penn_crf_pos.fit(penn_train_feature_sequences, penn_train_label_sequences)\n",
    "print(\"Finished training on Penn Treebank corpus!\")"
   ]
  },
  {
   "cell_type": "markdown",
   "id": "6f4d393c-3a73-4bcf-a55f-3b57faa4c376",
   "metadata": {},
   "source": [
    "## 4. Evaluation"
   ]
  },
  {
   "cell_type": "markdown",
   "id": "e0941ce6-0e55-4fa6-aa88-9a526a1e420a",
   "metadata": {},
   "source": [
    "For evaluating the Penn Treebank test set that we split off, we can feed the feature sequence representation of the test set directly to the classifier to get the predictions."
   ]
  },
  {
   "cell_type": "code",
   "execution_count": 16,
   "id": "c1369333-2223-4f37-b216-773ee835a53e",
   "metadata": {},
   "outputs": [
    {
     "name": "stdout",
     "output_type": "stream",
     "text": [
      "40\n",
      "40\n",
      "The first sentence gold labels in sequence\n",
      "['NNP', 'NNP', 'VBD', 'DT', 'NN', 'JJ', 'NN', 'IN', '$', 'CD', 'CD', '-NONE-', ',', 'CC', 'CD', 'NNS', 'DT', 'NN', ',', 'VBN', 'IN', 'JJ', 'NN', 'IN', '$', 'CD', 'CD', '-NONE-', ',', 'CC', 'CD', 'NN', 'DT', 'NN', '.', 'DT', 'NN', 'IN', 'DT', 'NNP', ',', 'JJ', 'NN', 'VBD', '-NONE-', 'NNS', 'VBD', 'DT', 'NN', 'IN', '$', 'CD', 'CD', '-NONE-', 'IN', 'DT', 'NN', ':', 'IN', 'NN', ',', 'DT', 'NN', 'VBD', 'VBN', '-NONE-', 'IN', 'VBG', 'NNS', 'VBG', '$', 'CD', 'CD', '-NONE-', 'CC', '$', 'CD', 'CD', '-NONE-', 'IN', 'NN', 'NNS', 'IN', 'PRP', 'VBD', '-NONE-', 'IN', '``', 'JJ', '.', \"''\", 'DT', 'NNS', 'VBD', 'RB', 'VBN', '-NONE-', 'IN', 'DT', '$', 'CD', 'CD', '-NONE-', 'NN', 'IN', 'DT', 'NN', 'IN', 'NNS', 'IN', 'CD', 'JJ', 'NNS', ',', 'PRP', 'VBD', '-NONE-', '-NONE-', '.', 'NN', 'VBD', 'CD', 'NN', 'TO', '$', 'CD', 'CD', '-NONE-', ',', 'IN', '$', 'CD', 'CD', '-NONE-', 'DT', 'NN', 'JJR', '.', 'NNP', 'VBD', '``', 'DT', 'JJ', 'NN', 'IN', 'DT', 'NN', 'IN', 'NN', 'NNS', 'IN', 'DT', 'NN', 'NNS', 'IN', 'WDT', 'NNP', 'VBZ', '-NONE-', '.']\n",
      "The first sentence predicted labels in sequence\n",
      "['NNP', 'NNP', 'VBD', 'DT', 'JJ', 'JJ', 'NN', 'IN', '$', 'CD', 'CD', '-NONE-', ',', 'CC', 'CD', 'NNS', 'DT', 'NN', ',', 'VBN', 'IN', 'JJ', 'NN', 'IN', '$', 'CD', 'CD', '-NONE-', ',', 'CC', 'CD', 'NN', 'DT', 'NN', '.', 'DT', 'NN', 'IN', 'DT', 'NNP', ',', 'VBN', 'NN', 'VBD', '-NONE-', 'NNS', 'VBD', 'DT', 'NN', 'IN', '$', 'CD', 'CD', '-NONE-', 'IN', 'DT', 'NN', ':', 'IN', 'NN', ',', 'DT', 'NN', 'VBD', 'VBN', '-NONE-', 'IN', 'JJ', 'NNS', 'VBG', '$', 'CD', 'CD', '-NONE-', 'CC', '$', 'CD', 'CD', '-NONE-', 'IN', 'NN', 'NNS', 'IN', 'PRP', 'VBD', '-NONE-', 'IN', '``', 'JJ', '.', \"''\", 'DT', 'NNS', 'VBD', 'RB', 'VBN', '-NONE-', 'IN', 'DT', '$', 'CD', 'CD', '-NONE-', 'NN', 'IN', 'DT', 'NN', 'IN', 'NNS', 'IN', 'CD', 'JJ', 'NNS', ',', 'PRP', 'VBD', '-NONE-', '-NONE-', '.', 'NNP', 'VBD', 'CD', 'NN', 'TO', '$', 'CD', 'CD', '-NONE-', ',', 'IN', '$', 'CD', 'CD', '-NONE-', 'DT', 'NN', 'JJR', '.', 'NNP', 'VBD', '``', 'DT', 'JJ', 'NN', 'IN', 'DT', 'NN', 'IN', 'NN', 'NNS', 'IN', 'DT', 'NN', 'NNS', 'IN', 'WDT', 'NNP', 'VBZ', '-NONE-', '.']\n"
     ]
    }
   ],
   "source": [
    "penn_predictions=penn_crf_pos.predict(penn_test_feature_sequences)\n",
    "print(len(penn_test_label_sequences))\n",
    "print(len(penn_predictions))\n",
    "print('The first sentence gold labels in sequence')\n",
    "print(penn_test_label_sequences[0])\n",
    "print('The first sentence predicted labels in sequence')\n",
    "print(penn_predictions[0])"
   ]
  },
  {
   "cell_type": "code",
   "execution_count": 17,
   "id": "59dcabac-9d21-41a5-a1b7-f184fd41af80",
   "metadata": {},
   "outputs": [
    {
     "name": "stdout",
     "output_type": "stream",
     "text": [
      "Gold NNP Predicted NNP\n",
      "Gold NNP Predicted NNP\n",
      "Gold VBD Predicted VBD\n",
      "Gold DT Predicted DT\n",
      "Gold NN Predicted JJ\n",
      "Gold JJ Predicted JJ\n",
      "Gold NN Predicted NN\n",
      "Gold IN Predicted IN\n",
      "Gold $ Predicted $\n",
      "Gold CD Predicted CD\n",
      "Gold CD Predicted CD\n",
      "Gold -NONE- Predicted -NONE-\n",
      "Gold , Predicted ,\n",
      "Gold CC Predicted CC\n",
      "Gold CD Predicted CD\n",
      "Gold NNS Predicted NNS\n",
      "Gold DT Predicted DT\n",
      "Gold NN Predicted NN\n",
      "Gold , Predicted ,\n",
      "Gold VBN Predicted VBN\n",
      "Gold IN Predicted IN\n",
      "Gold JJ Predicted JJ\n",
      "Gold NN Predicted NN\n",
      "Gold IN Predicted IN\n",
      "Gold $ Predicted $\n",
      "Gold CD Predicted CD\n",
      "Gold CD Predicted CD\n",
      "Gold -NONE- Predicted -NONE-\n",
      "Gold , Predicted ,\n",
      "Gold CC Predicted CC\n",
      "Gold CD Predicted CD\n",
      "Gold NN Predicted NN\n",
      "Gold DT Predicted DT\n",
      "Gold NN Predicted NN\n",
      "Gold . Predicted .\n",
      "Gold DT Predicted DT\n",
      "Gold NN Predicted NN\n",
      "Gold IN Predicted IN\n",
      "Gold DT Predicted DT\n",
      "Gold NNP Predicted NNP\n",
      "Gold , Predicted ,\n",
      "Gold JJ Predicted VBN\n",
      "Gold NN Predicted NN\n",
      "Gold VBD Predicted VBD\n",
      "Gold -NONE- Predicted -NONE-\n",
      "Gold NNS Predicted NNS\n",
      "Gold VBD Predicted VBD\n",
      "Gold DT Predicted DT\n",
      "Gold NN Predicted NN\n",
      "Gold IN Predicted IN\n",
      "Gold $ Predicted $\n",
      "Gold CD Predicted CD\n",
      "Gold CD Predicted CD\n",
      "Gold -NONE- Predicted -NONE-\n",
      "Gold IN Predicted IN\n",
      "Gold DT Predicted DT\n",
      "Gold NN Predicted NN\n",
      "Gold : Predicted :\n",
      "Gold IN Predicted IN\n",
      "Gold NN Predicted NN\n",
      "Gold , Predicted ,\n",
      "Gold DT Predicted DT\n",
      "Gold NN Predicted NN\n",
      "Gold VBD Predicted VBD\n",
      "Gold VBN Predicted VBN\n",
      "Gold -NONE- Predicted -NONE-\n",
      "Gold IN Predicted IN\n",
      "Gold VBG Predicted JJ\n",
      "Gold NNS Predicted NNS\n",
      "Gold VBG Predicted VBG\n",
      "Gold $ Predicted $\n",
      "Gold CD Predicted CD\n",
      "Gold CD Predicted CD\n",
      "Gold -NONE- Predicted -NONE-\n",
      "Gold CC Predicted CC\n",
      "Gold $ Predicted $\n",
      "Gold CD Predicted CD\n",
      "Gold CD Predicted CD\n",
      "Gold -NONE- Predicted -NONE-\n",
      "Gold IN Predicted IN\n",
      "Gold NN Predicted NN\n",
      "Gold NNS Predicted NNS\n",
      "Gold IN Predicted IN\n",
      "Gold PRP Predicted PRP\n",
      "Gold VBD Predicted VBD\n",
      "Gold -NONE- Predicted -NONE-\n",
      "Gold IN Predicted IN\n",
      "Gold `` Predicted ``\n",
      "Gold JJ Predicted JJ\n",
      "Gold . Predicted .\n",
      "Gold '' Predicted ''\n",
      "Gold DT Predicted DT\n",
      "Gold NNS Predicted NNS\n",
      "Gold VBD Predicted VBD\n",
      "Gold RB Predicted RB\n",
      "Gold VBN Predicted VBN\n",
      "Gold -NONE- Predicted -NONE-\n",
      "Gold IN Predicted IN\n",
      "Gold DT Predicted DT\n",
      "Gold $ Predicted $\n",
      "Gold CD Predicted CD\n",
      "Gold CD Predicted CD\n",
      "Gold -NONE- Predicted -NONE-\n",
      "Gold NN Predicted NN\n",
      "Gold IN Predicted IN\n",
      "Gold DT Predicted DT\n",
      "Gold NN Predicted NN\n",
      "Gold IN Predicted IN\n",
      "Gold NNS Predicted NNS\n",
      "Gold IN Predicted IN\n",
      "Gold CD Predicted CD\n",
      "Gold JJ Predicted JJ\n",
      "Gold NNS Predicted NNS\n",
      "Gold , Predicted ,\n",
      "Gold PRP Predicted PRP\n",
      "Gold VBD Predicted VBD\n",
      "Gold -NONE- Predicted -NONE-\n",
      "Gold -NONE- Predicted -NONE-\n",
      "Gold . Predicted .\n",
      "Gold NN Predicted NNP\n",
      "Gold VBD Predicted VBD\n",
      "Gold CD Predicted CD\n",
      "Gold NN Predicted NN\n",
      "Gold TO Predicted TO\n",
      "Gold $ Predicted $\n",
      "Gold CD Predicted CD\n",
      "Gold CD Predicted CD\n",
      "Gold -NONE- Predicted -NONE-\n",
      "Gold , Predicted ,\n",
      "Gold IN Predicted IN\n",
      "Gold $ Predicted $\n",
      "Gold CD Predicted CD\n",
      "Gold CD Predicted CD\n",
      "Gold -NONE- Predicted -NONE-\n",
      "Gold DT Predicted DT\n",
      "Gold NN Predicted NN\n",
      "Gold JJR Predicted JJR\n",
      "Gold . Predicted .\n",
      "Gold NNP Predicted NNP\n",
      "Gold VBD Predicted VBD\n",
      "Gold `` Predicted ``\n",
      "Gold DT Predicted DT\n",
      "Gold JJ Predicted JJ\n",
      "Gold NN Predicted NN\n",
      "Gold IN Predicted IN\n",
      "Gold DT Predicted DT\n",
      "Gold NN Predicted NN\n",
      "Gold IN Predicted IN\n",
      "Gold NN Predicted NN\n",
      "Gold NNS Predicted NNS\n",
      "Gold IN Predicted IN\n",
      "Gold DT Predicted DT\n",
      "Gold NN Predicted NN\n",
      "Gold NNS Predicted NNS\n",
      "Gold IN Predicted IN\n",
      "Gold WDT Predicted WDT\n",
      "Gold NNP Predicted NNP\n",
      "Gold VBZ Predicted VBZ\n",
      "Gold -NONE- Predicted -NONE-\n",
      "Gold . Predicted .\n"
     ]
    }
   ],
   "source": [
    "for gold, predict in zip(penn_test_label_sequences[0], penn_predictions[0]):\n",
    "    print('Gold', gold, 'Predicted', predict)"
   ]
  },
  {
   "cell_type": "markdown",
   "id": "f6b6995d-1245-41b5-a0f8-6fec69af3e37",
   "metadata": {},
   "source": [
    "The predictions are made sentence by sentence and the result is a list of 40 sentence predictions. To evaluate the results, we  need to use a specific method ```flat_classification_report``` from ```sklearn_crfsuite.metrics``` to handle lists of lists as predictions."
   ]
  },
  {
   "cell_type": "code",
   "execution_count": 18,
   "id": "1426c61a-cb2f-4dbf-ab41-ae7025f1a3d6",
   "metadata": {},
   "outputs": [
    {
     "name": "stdout",
     "output_type": "stream",
     "text": [
      "## Penn Treebank CRF PoS tagger##\n",
      "              precision    recall  f1-score   support\n",
      "\n",
      "         NNP      0.947     0.965     0.956      1213\n",
      "           ,      1.000     1.000     1.000       592\n",
      "          CD      1.000     0.990     0.995       683\n",
      "         NNS      0.938     0.978     0.958       740\n",
      "          JJ      0.854     0.896     0.874       731\n",
      "          MD      0.993     1.000     0.996       135\n",
      "          VB      0.970     0.930     0.949       313\n",
      "          DT      0.992     0.993     0.992      1062\n",
      "          NN      0.952     0.933     0.942      1899\n",
      "          IN      0.978     0.981     0.980      1285\n",
      "           .      1.000     1.000     1.000       509\n",
      "         VBZ      0.952     0.900     0.925       219\n",
      "         VBG      0.933     0.908     0.921       185\n",
      "          CC      1.000     0.997     0.998       287\n",
      "         VBD      0.957     0.947     0.952       492\n",
      "         VBN      0.907     0.907     0.907       279\n",
      "      -NONE-      0.998     1.000     0.999       871\n",
      "          RB      0.925     0.878     0.901       296\n",
      "          TO      1.000     1.000     1.000       298\n",
      "         PRP      1.000     1.000     1.000       150\n",
      "         RBR      0.500     0.308     0.381        13\n",
      "         WDT      0.969     1.000     0.984        62\n",
      "         VBP      0.876     0.884     0.880       112\n",
      "          RP      0.581     0.720     0.643        25\n",
      "        PRP$      1.000     1.000     1.000        74\n",
      "         JJS      0.778     0.875     0.824        24\n",
      "         POS      0.992     1.000     0.996       124\n",
      "          ``      1.000     1.000     1.000        55\n",
      "          EX      0.750     1.000     0.857         3\n",
      "          ''      1.000     1.000     1.000        52\n",
      "          WP      1.000     1.000     1.000        13\n",
      "           :      1.000     1.000     1.000        49\n",
      "         JJR      0.784     0.851     0.816        47\n",
      "         WRB      1.000     0.909     0.952        22\n",
      "           $      1.000     1.000     1.000       170\n",
      "        NNPS      0.667     0.486     0.562        37\n",
      "         WP$      1.000     1.000     1.000         4\n",
      "       -LRB-      1.000     1.000     1.000        16\n",
      "       -RRB-      1.000     1.000     1.000        16\n",
      "         PDT      1.000     0.250     0.400         4\n",
      "         RBS      1.000     1.000     1.000         1\n",
      "          FW      0.000     0.000     0.000         0\n",
      "          UH      0.000     0.000     0.000         0\n",
      "         SYM      0.000     0.000     0.000         0\n",
      "          LS      0.000     0.000     0.000         0\n",
      "           #      0.000     0.000     0.000         0\n",
      "\n",
      "    accuracy                          0.961     13162\n",
      "   macro avg      0.830     0.815     0.816     13162\n",
      "weighted avg      0.961     0.961     0.961     13162\n",
      "\n"
     ]
    }
   ],
   "source": [
    "from sklearn_crfsuite import metrics\n",
    "print(\"## Penn Treebank CRF PoS tagger##\")\n",
    "print(metrics.flat_classification_report(penn_test_label_sequences, penn_predictions, labels=penn_crf_pos.classes_, digits=3, zero_division=0))"
   ]
  },
  {
   "cell_type": "markdown",
   "id": "6b0497d2-2e7d-4d56-bb98-5cf8004e91a5",
   "metadata": {},
   "source": [
    "The weighted average is pretty high but not the state-of-the art. Still on average almost one out of twenty words gets a wrong Part-of-Speech.\n",
    "\n",
    "We can see that Penn Treebank uses a large variety of PoS tags and that the performance varies across these tags, which correlates also with the support. Lower support means less training data and more arbitrary testing. For example ```EX`` has a support of 3 and a score of 0.75 for precision. \n",
    "\n",
    "Due to the variation, there is a large difference between the macro average and the weighted average. Adapting the parameters when creating the CRF instance may improve the macro average results."
   ]
  },
  {
   "cell_type": "markdown",
   "id": "2ef9e1e0-984f-40c1-95a4-c41b5f64321b",
   "metadata": {},
   "source": [
    "The Counter function can be used to show the frequency of the PoS labels in the training data set."
   ]
  },
  {
   "cell_type": "code",
   "execution_count": 149,
   "id": "be2666bc-2be0-4f69-902c-3e980f023fd0",
   "metadata": {},
   "outputs": [
    {
     "name": "stdout",
     "output_type": "stream",
     "text": [
      "Counter({'NN': 11267, 'IN': 8572, 'NNP': 8197, 'DT': 7103, '-NONE-': 5721, 'NNS': 5307, 'JJ': 5103, ',': 4294, '.': 3365, 'CD': 2863, 'VBD': 2551, 'RB': 2526, 'VB': 2241, 'CC': 1978, 'VBZ': 1906, 'TO': 1881, 'VBN': 1855, 'PRP': 1566, 'VBG': 1275, 'VBP': 1209, 'MD': 792, 'POS': 700, 'PRP$': 692, '``': 657, \"''\": 642, '$': 554, ':': 514, 'WDT': 383, 'JJR': 334, 'WP': 228, 'NNPS': 207, 'RP': 191, 'JJS': 158, 'WRB': 156, 'RBR': 123, '-RRB-': 110, '-LRB-': 104, 'EX': 85, 'RBS': 34, 'PDT': 23, '#': 16, 'LS': 13, 'WP$': 10, 'FW': 4, 'UH': 3, 'SYM': 1})\n"
     ]
    }
   ],
   "source": [
    "from collections import Counter\n",
    "label_counts = Counter(metrics.flatten(penn_train_label_sequences))\n",
    "print(label_counts)"
   ]
  },
  {
   "cell_type": "markdown",
   "id": "0556b219-1725-47d4-bfdf-7c84a14f009d",
   "metadata": {},
   "source": [
    "Tags that occur less frequently could perhaps be merged or generalised."
   ]
  },
  {
   "cell_type": "markdown",
   "id": "fa43f0fa-7e6f-4a14-8194-5f688f2ca1d2",
   "metadata": {},
   "source": [
    "## 4. Representation after thought"
   ]
  },
  {
   "cell_type": "markdown",
   "id": "00846a12-8764-46d1-9747-3c5c50f50919",
   "metadata": {},
   "source": [
    "The DictVectorizer function of Sklearn will convert the data to numerical one-hot vector representations for each feature. It will extract all possible values for each feature from the data and create a vector that can mark which value is true. If you inspect the above representation, you will see that many features only have two values such as True and False, but others are more open, such as the word itself and the suffixes. The latter require long sparse vectors as one-hot encodings.\n",
    "\n",
    "CRF does not provide functions to show the feature vectors that it extracts directly. However, we can use the DictVectorizer to create the vectors from our feature representation and print these to inspect them. Lets do that for our \"Fruit flies\" sentence."
   ]
  },
  {
   "cell_type": "code",
   "execution_count": 20,
   "id": "f434038b-6bc0-4c49-bd93-c9e13bb4c131",
   "metadata": {},
   "outputs": [
    {
     "name": "stdout",
     "output_type": "stream",
     "text": [
      "Feature representation of the \"Fruit flies like a banana.\" sentence.\n",
      "[{'word': 'Fruit', 'is_first': True, 'is_last': False, 'is_capitalized': True, 'is_all_caps': False, 'is_all_lower': False, 'is_alphanumeric': 0, 'prefix-1': 'F', 'prefix-2': 'Fr', 'prefix-3': 'Fru', 'suffix-1': 't', 'suffix-2': 'it', 'suffix-3': 'uit', 'prev_word': '', 'next_word': 'flies', 'has_hyphen': False, 'is_numeric': False, 'capitals_inside': False}, {'word': 'flies', 'is_first': False, 'is_last': False, 'is_capitalized': False, 'is_all_caps': False, 'is_all_lower': True, 'is_alphanumeric': 0, 'prefix-1': 'f', 'prefix-2': 'fl', 'prefix-3': 'fli', 'suffix-1': 's', 'suffix-2': 'es', 'suffix-3': 'ies', 'prev_word': 'Fruit', 'next_word': 'like', 'has_hyphen': False, 'is_numeric': False, 'capitals_inside': False}, {'word': 'like', 'is_first': False, 'is_last': False, 'is_capitalized': False, 'is_all_caps': False, 'is_all_lower': True, 'is_alphanumeric': 0, 'prefix-1': 'l', 'prefix-2': 'li', 'prefix-3': 'lik', 'suffix-1': 'e', 'suffix-2': 'ke', 'suffix-3': 'ike', 'prev_word': 'flies', 'next_word': 'a', 'has_hyphen': False, 'is_numeric': False, 'capitals_inside': False}, {'word': 'a', 'is_first': False, 'is_last': False, 'is_capitalized': False, 'is_all_caps': False, 'is_all_lower': True, 'is_alphanumeric': 0, 'prefix-1': 'a', 'prefix-2': 'a', 'prefix-3': 'a', 'suffix-1': 'a', 'suffix-2': 'a', 'suffix-3': 'a', 'prev_word': 'like', 'next_word': 'banana', 'has_hyphen': False, 'is_numeric': False, 'capitals_inside': False}, {'word': 'banana', 'is_first': False, 'is_last': False, 'is_capitalized': False, 'is_all_caps': False, 'is_all_lower': True, 'is_alphanumeric': 0, 'prefix-1': 'b', 'prefix-2': 'ba', 'prefix-3': 'ban', 'suffix-1': 'a', 'suffix-2': 'na', 'suffix-3': 'ana', 'prev_word': 'a', 'next_word': '.', 'has_hyphen': False, 'is_numeric': False, 'capitals_inside': False}, {'word': '.', 'is_first': False, 'is_last': True, 'is_capitalized': True, 'is_all_caps': True, 'is_all_lower': True, 'is_alphanumeric': 0, 'prefix-1': '.', 'prefix-2': '.', 'prefix-3': '.', 'suffix-1': '.', 'suffix-2': '.', 'suffix-3': '.', 'prev_word': 'banana', 'next_word': '', 'has_hyphen': False, 'is_numeric': False, 'capitals_inside': False}]\n",
      "\n"
     ]
    }
   ],
   "source": [
    "from sklearn.feature_extraction import DictVectorizer\n",
    "\n",
    "print('Feature representation of the \"Fruit flies like a banana.\" sentence.')\n",
    "print(feature_sequence_sentence)\n",
    "print()"
   ]
  },
  {
   "cell_type": "markdown",
   "id": "c5f08216-ecd1-4b70-92cd-7c34623c35d0",
   "metadata": {},
   "source": [
    "We will create an instance of the DictVectorizer that takes the above dictionary representation and converts it to the vector representation that CRF will use internally."
   ]
  },
  {
   "cell_type": "code",
   "execution_count": 21,
   "id": "c649d379-6bdd-4ecc-8b64-c2359a133526",
   "metadata": {},
   "outputs": [
    {
     "name": "stdout",
     "output_type": "stream",
     "text": [
      "Shape (6, 62)\n",
      "\n",
      "[[0. 0. 0. 0. 0. 1. 1. 0. 0. 0. 0. 0. 0. 1. 0. 0. 1. 0. 0. 0. 0. 0. 1. 0.\n",
      "  0. 0. 0. 0. 1. 0. 0. 0. 0. 1. 0. 0. 0. 0. 0. 0. 0. 0. 0. 1. 0. 0. 0. 1.\n",
      "  0. 0. 0. 0. 0. 0. 0. 1. 0. 1. 0. 0. 0. 0.]]\n",
      "[[0. 0. 0. 1. 0. 0. 0. 0. 0. 0. 0. 0. 0. 0. 1. 0. 0. 0. 0. 1. 0. 0. 0. 0.\n",
      "  0. 1. 0. 0. 0. 0. 0. 1. 0. 0. 1. 0. 0. 0. 0. 0. 0. 0. 1. 0. 0. 0. 1. 0.\n",
      "  0. 0. 0. 0. 0. 1. 0. 0. 0. 0. 0. 0. 1. 0.]]\n",
      "[[0. 0. 0. 1. 0. 0. 0. 0. 0. 0. 0. 1. 0. 0. 0. 0. 0. 0. 0. 0. 1. 0. 0. 0.\n",
      "  0. 0. 1. 0. 0. 0. 0. 0. 1. 0. 0. 0. 0. 1. 0. 0. 0. 1. 0. 0. 0. 0. 0. 0.\n",
      "  1. 0. 0. 0. 0. 0. 1. 0. 0. 0. 0. 0. 0. 1.]]\n",
      "[[0. 0. 0. 1. 0. 0. 0. 0. 0. 0. 0. 0. 1. 0. 0. 0. 0. 1. 0. 0. 0. 0. 0. 1.\n",
      "  0. 0. 0. 0. 0. 1. 0. 0. 0. 0. 0. 0. 0. 0. 1. 0. 1. 0. 0. 0. 0. 1. 0. 0.\n",
      "  0. 0. 0. 1. 0. 0. 0. 0. 0. 0. 1. 0. 0. 0.]]\n",
      "[[0. 0. 0. 1. 0. 0. 0. 0. 0. 0. 1. 0. 0. 0. 0. 0. 0. 0. 1. 0. 0. 0. 0. 0.\n",
      "  1. 0. 0. 0. 0. 0. 1. 0. 0. 0. 0. 1. 0. 0. 0. 0. 1. 0. 0. 0. 0. 0. 0. 0.\n",
      "  0. 1. 0. 0. 1. 0. 0. 0. 0. 0. 0. 1. 0. 0.]]\n",
      "[[0. 0. 1. 1. 0. 1. 0. 1. 0. 1. 0. 0. 0. 0. 0. 1. 0. 0. 0. 0. 0. 1. 0. 0.\n",
      "  0. 0. 0. 1. 0. 0. 0. 0. 0. 0. 0. 0. 1. 0. 0. 1. 0. 0. 0. 0. 1. 0. 0. 0.\n",
      "  0. 0. 1. 0. 0. 0. 0. 0. 1. 0. 0. 0. 0. 0.]]\n",
      "\n",
      "['capitals_inside' 'has_hyphen' 'is_all_caps' 'is_all_lower'\n",
      " 'is_alphanumeric' 'is_capitalized' 'is_first' 'is_last' 'is_numeric'\n",
      " 'next_word=' 'next_word=.' 'next_word=a' 'next_word=banana'\n",
      " 'next_word=flies' 'next_word=like' 'prefix-1=.' 'prefix-1=F' 'prefix-1=a'\n",
      " 'prefix-1=b' 'prefix-1=f' 'prefix-1=l' 'prefix-2=.' 'prefix-2=Fr'\n",
      " 'prefix-2=a' 'prefix-2=ba' 'prefix-2=fl' 'prefix-2=li' 'prefix-3=.'\n",
      " 'prefix-3=Fru' 'prefix-3=a' 'prefix-3=ban' 'prefix-3=fli' 'prefix-3=lik'\n",
      " 'prev_word=' 'prev_word=Fruit' 'prev_word=a' 'prev_word=banana'\n",
      " 'prev_word=flies' 'prev_word=like' 'suffix-1=.' 'suffix-1=a' 'suffix-1=e'\n",
      " 'suffix-1=s' 'suffix-1=t' 'suffix-2=.' 'suffix-2=a' 'suffix-2=es'\n",
      " 'suffix-2=it' 'suffix-2=ke' 'suffix-2=na' 'suffix-3=.' 'suffix-3=a'\n",
      " 'suffix-3=ana' 'suffix-3=ies' 'suffix-3=ike' 'suffix-3=uit' 'word=.'\n",
      " 'word=Fruit' 'word=a' 'word=banana' 'word=flies' 'word=like']\n"
     ]
    }
   ],
   "source": [
    "\n",
    "vec = DictVectorizer(sparse=True)\n",
    "sentence_vec = vec.fit_transform(feature_sequence_sentence)  # Sparse matrix of shape (n_tokens, n_features)\n",
    "\n",
    "# Dense vector for easier viewing\n",
    "print('Shape', sentence_vec.shape)\n",
    "print()\n",
    "for token in sentence_vec:\n",
    "    print(token.toarray())\n",
    "\n",
    "print()\n",
    "# Feature names (column names of the vector)\n",
    "print(vec.get_feature_names_out())"
   ]
  },
  {
   "cell_type": "markdown",
   "id": "679b1096-4105-41ed-90d1-39a4812024af",
   "metadata": {},
   "source": [
    "The ```shape``` of sentence_vec is (6, 62), which means an ordered list of 6 words or tokens, each represented by a vector with 62 dimensions.\n",
    "Below the vector representation, we printed the names of the 62 dimensions. You can see that the 6 words themselves are dimensions, as well as prefixes and suffixes of the word."
   ]
  },
  {
   "cell_type": "markdown",
   "id": "7fd4a77a-ae40-487b-94ed-dcd6b971859d",
   "metadata": {},
   "source": [
    "What will happen if we need to represent the full Penn Treebank corpus? How many dimensions does it need to create?\n",
    "\n",
    "We will not do this for the full data set but for a small set of sentences. To get the vectors we need to flatten the list of sentence representations to a single list of all the tokens. We also need some other functions to print these as the vectors get very long. We will only print the vector for the first sentence represented by the dimensions extracted from the first three sentences only."
   ]
  },
  {
   "cell_type": "code",
   "execution_count": 23,
   "id": "aedacd7d-e03c-4930-9a7b-767c5b2cbc3c",
   "metadata": {},
   "outputs": [
    {
     "name": "stdout",
     "output_type": "stream",
     "text": [
      "Total sequence of words 840\n",
      "\n",
      "We now have a list of tokens for the selection of sentences from the Penn treebank, each represented by a long sparse vector.\n",
      "Shape for the total set of tokens (840, 2181)\n",
      "\n",
      "[[0. 0. 0. 0. 0. 1. 1. 0. 0. 0. 0. 0. 0. 0. 0. 0. 0. 0. 0. 0. 0. 0. 0. 0.\n",
      "  0. 0. 0. 0. 0. 0. 0. 0. 0. 0. 0. 0. 0. 0. 0. 0. 0. 0. 0. 0. 0. 0. 0. 0.\n",
      "  0. 0. 0. 0. 0. 0. 0. 0. 0. 0. 0. 0. 0. 0. 0. 0. 0. 0. 0. 0. 0. 0. 0. 0.\n",
      "  0. 0. 0. 0. 0. 0. 0. 0. 0. 0. 0. 0. 0. 0. 0. 0. 0. 0. 0. 0. 0. 0. 0. 0.\n",
      "  0. 0. 0. 0. 0. 0. 0. 0. 0. 0. 0. 0. 0. 0. 0. 0. 0. 0. 0. 0. 0. 1. 0. 0.\n",
      "  0. 0. 0. 0. 0. 0. 0. 0. 0. 0. 0. 0. 0. 0. 0. 0. 0. 0. 0. 0. 0. 0. 0. 0.\n",
      "  0. 0. 0. 0. 0. 0. 0. 0. 0. 0. 0. 0. 0. 0. 0. 0. 0. 0. 0. 0. 0. 0. 0. 0.\n",
      "  0. 0. 0. 0. 0. 0. 0. 0. 0. 0. 0. 0. 0. 0. 0. 0. 0. 0. 0. 0. 0. 0. 0. 0.\n",
      "  0. 0. 0. 0. 0. 0. 0. 0. 0. 0. 0. 0. 0. 0. 0. 0. 0. 0. 0. 0. 0. 0. 0. 0.\n",
      "  0. 0. 0. 0. 0. 0. 0. 0. 0. 0. 0. 0. 0. 0. 0. 0. 0. 0. 0. 0. 0. 0. 0. 0.\n",
      "  0. 0. 0. 0. 0. 0. 0. 0. 0. 0. 0. 0. 0. 0. 0. 0. 0. 0. 0. 0. 0. 0. 0. 0.\n",
      "  0. 0. 0. 0. 0. 0. 0. 0. 0. 0. 0. 0. 0. 0. 0. 0. 0. 0. 0. 0. 0. 0. 0. 0.\n",
      "  0. 0. 0. 0. 0. 0. 0. 0. 0. 0. 0. 0. 0. 0. 0. 0. 0. 0. 0. 0. 0. 0. 0. 0.\n",
      "  0. 0. 0. 0. 0. 0. 0. 0. 0. 0. 0. 0. 0. 0. 0. 0. 0. 0. 0. 0. 0. 0. 0. 0.\n",
      "  0. 0. 0. 0. 0. 0. 0. 0. 0. 0. 0. 0. 0. 0. 0. 0. 0. 0. 0. 0. 0. 0. 0. 0.\n",
      "  0. 0. 0. 0. 0. 0. 0. 0. 0. 0. 0. 0. 0. 0. 0. 0. 0. 0. 0. 0. 0. 0. 0. 0.\n",
      "  0. 0. 0. 0. 0. 0. 0. 0. 0. 0. 0. 0. 0. 0. 0. 0. 0. 0. 0. 0. 0. 0. 0. 0.\n",
      "  0. 0. 0. 0. 0. 0. 0. 0. 0. 0. 0. 0. 0. 0. 0. 0. 1. 0. 0. 0. 0. 0. 0. 0.\n",
      "  0. 0. 0. 0. 0. 0. 0. 0. 0. 0. 0. 0. 0. 0. 0. 0. 0. 0. 0. 0. 0. 0. 0. 0.\n",
      "  0. 0. 0. 0. 0. 0. 0. 0. 0. 0. 0. 0. 0. 0. 0. 0. 0. 0. 0. 0. 0. 0. 0. 0.\n",
      "  0. 0. 0. 0. 0. 0. 0. 0. 0. 0. 0. 0. 0. 0. 0. 0. 0. 0. 0. 0. 0. 0. 0. 0.\n",
      "  0. 0. 0. 0. 0. 0. 0. 0. 0. 0. 0. 0. 0. 0. 0. 0. 0. 0. 0. 1. 0. 0. 0. 0.\n",
      "  0. 0. 0. 0. 0. 0. 0. 0. 0. 0. 0. 0. 0. 0. 0. 0. 0. 0. 0. 0. 0. 0. 0. 0.\n",
      "  0. 0. 0. 0. 0. 0. 0. 0. 0. 0. 0. 0. 0. 0. 0. 0. 0. 0. 0. 0. 0. 0. 0. 0.\n",
      "  0. 0. 0. 0. 0. 0. 0. 0. 0. 0. 0. 0. 0. 0. 0. 0. 0. 0. 0. 0. 0. 0. 0. 0.\n",
      "  0. 0. 0. 0. 0. 0. 0. 0. 0. 0. 0. 0. 0. 0. 0. 0. 0. 0. 0. 0. 0. 0. 0. 0.\n",
      "  0. 0. 0. 0. 0. 0. 0. 0. 0. 0. 0. 0. 0. 0. 0. 0. 0. 0. 0. 0. 0. 0. 0. 0.\n",
      "  0. 0. 0. 0. 0. 0. 0. 0. 0. 0. 0. 0. 0. 0. 0. 0. 0. 0. 0. 0. 0. 0. 0. 0.\n",
      "  0. 0. 0. 0. 0. 0. 0. 0. 0. 0. 0. 0. 0. 0. 0. 0. 0. 0. 0. 0. 0. 0. 0. 0.\n",
      "  0. 0. 0. 0. 0. 0. 0. 0. 0. 0. 0. 0. 0. 0. 0. 0. 0. 0. 0. 0. 0. 0. 0. 0.\n",
      "  0. 0. 0. 0. 0. 0. 0. 0. 0. 0. 0. 0. 0. 0. 1. 0. 0. 0. 0. 0. 0. 0. 0. 0.\n",
      "  0. 0. 0. 0. 0. 0. 0. 0. 0. 0. 0. 0. 0. 0. 0. 0. 0. 0. 0. 0. 0. 0. 0. 0.\n",
      "  0. 0. 0. 0. 0. 0. 0. 0. 0. 0. 0. 0. 0. 0. 0. 0. 0. 0. 0. 0. 0. 0. 0. 0.\n",
      "  0. 0. 0. 0. 0. 0. 0. 0. 0. 0. 0. 0. 0. 0. 0. 0. 0. 0. 0. 0. 0. 0. 0. 0.\n",
      "  0. 0. 0. 0. 0. 0. 0. 0. 0. 0. 0. 0. 0. 0. 0. 0. 0. 0. 0. 0. 0. 0. 0. 0.\n",
      "  0. 0. 0. 0. 0. 0. 0. 0. 0. 0. 0. 0. 0. 0. 0. 0. 0. 0. 0. 0. 0. 0. 0. 0.\n",
      "  0. 0. 0. 0. 0. 0. 0. 0. 0. 0. 0. 0. 0. 0. 0. 0. 0. 0. 0. 0. 0. 0. 0. 0.\n",
      "  0. 0. 0. 0. 0. 0. 0. 0. 0. 0. 0. 0. 0. 0. 0. 0. 0. 0. 0. 0. 0. 0. 0. 0.\n",
      "  0. 0. 0. 0. 0. 0. 0. 0. 0. 0. 0. 0. 0. 0. 0. 0. 0. 0. 0. 0. 0. 0. 0. 0.\n",
      "  0. 0. 0. 0. 0. 0. 0. 0. 0. 0. 0. 0. 0. 0. 0. 0. 0. 0. 1. 0. 0. 0. 0. 0.\n",
      "  0. 0. 0. 0. 0. 0. 0. 0. 0. 0. 0. 0. 0. 0. 0. 0. 0. 0. 0. 0. 0. 0. 0. 0.\n",
      "  0. 0. 0. 0. 0. 0. 0. 0. 0. 0. 0. 0. 0. 0. 0. 0. 0. 0. 0. 0. 0. 0. 0. 0.\n",
      "  0. 0. 0. 0. 0. 0. 0. 0. 0. 0. 0. 0. 0. 0. 0. 0. 0. 0. 0. 0. 0. 0. 0. 0.\n",
      "  0. 0. 0. 0. 0. 0. 0. 0. 0. 0. 0. 0. 0. 0. 0. 0. 0. 0. 0. 0. 0. 0. 0. 0.\n",
      "  0. 0. 0. 0. 0. 0. 0. 0. 0. 0. 0. 0. 0. 0. 0. 0. 0. 0. 0. 0. 0. 0. 0. 0.\n",
      "  0. 0. 0. 0. 0. 0. 0. 0. 0. 0. 0. 0. 0. 0. 0. 0. 0. 0. 0. 0. 0. 0. 0. 0.\n",
      "  0. 0. 0. 0. 0. 0. 0. 0. 0. 0. 0. 0. 0. 0. 0. 0. 0. 0. 0. 0. 0. 0. 0. 0.\n",
      "  0. 0. 0. 0. 0. 0. 0. 0. 0. 0. 0. 0. 0. 0. 0. 0. 0. 0. 0. 0. 0. 0. 0. 0.\n",
      "  0. 0. 0. 0. 0. 0. 0. 0. 0. 0. 0. 0. 0. 0. 0. 0. 0. 0. 0. 0. 0. 0. 0. 0.\n",
      "  0. 0. 0. 0. 0. 0. 0. 0. 0. 0. 0. 0. 0. 0. 0. 0. 0. 0. 0. 0. 0. 0. 0. 0.\n",
      "  0. 0. 0. 0. 0. 0. 0. 0. 0. 0. 0. 0. 0. 0. 0. 0. 0. 0. 0. 0. 0. 0. 0. 0.\n",
      "  0. 0. 0. 0. 0. 0. 0. 0. 0. 0. 0. 0. 0. 0. 0. 0. 0. 0. 0. 0. 0. 0. 0. 0.\n",
      "  0. 0. 0. 0. 0. 0. 0. 0. 0. 0. 0. 0. 0. 0. 0. 0. 0. 0. 0. 0. 0. 0. 0. 0.\n",
      "  0. 0. 0. 0. 0. 0. 0. 0. 0. 0. 0. 0. 0. 0. 0. 0. 0. 0. 0. 0. 0. 0. 0. 0.\n",
      "  0. 0. 0. 0. 0. 0. 0. 0. 0. 0. 0. 0. 0. 0. 0. 0. 0. 0. 0. 0. 0. 0. 0. 0.\n",
      "  0. 0. 0. 0. 0. 0. 0. 0. 0. 0. 0. 0. 0. 0. 0. 0. 0. 0. 0. 0. 0. 0. 0. 0.\n",
      "  0. 0. 0. 0. 0. 0. 0. 0. 0. 0. 0. 0. 0. 0. 0. 0. 0. 0. 0. 0. 0. 1. 0. 0.\n",
      "  0. 0. 0. 0. 0. 0. 0. 0. 0. 0. 0. 0. 0. 0. 0. 0. 0. 0. 0. 0. 0. 0. 0. 0.\n",
      "  0. 0. 0. 0. 0. 0. 0. 0. 0. 0. 0. 0. 0. 0. 0. 0. 0. 0. 0. 0. 0. 0. 0. 0.\n",
      "  0. 0. 0. 0. 0. 0. 0. 0. 0. 0. 0. 0. 0. 0. 0. 0. 0. 0. 0. 0. 0. 0. 0. 0.\n",
      "  0. 0. 0. 0. 0. 0. 0. 0. 0. 0. 0. 0. 0. 0. 0. 0. 0. 0. 0. 0. 0. 0. 0. 0.\n",
      "  0. 0. 0. 0. 0. 0. 0. 0. 0. 0. 0. 0. 0. 0. 0. 0. 0. 0. 0. 0. 0. 0. 0. 0.\n",
      "  0. 0. 0. 0. 0. 0. 0. 0. 1. 0. 0. 0. 0. 0. 0. 0. 0. 0. 0. 0. 0. 0. 0. 0.\n",
      "  0. 0. 0. 0. 0. 0. 0. 0. 0. 0. 0. 0. 0. 0. 0. 0. 0. 0. 0. 0. 0. 0. 0. 0.\n",
      "  0. 0. 0. 0. 0. 0. 0. 0. 0. 0. 0. 0. 0. 0. 0. 0. 0. 0. 0. 0. 0. 0. 0. 0.\n",
      "  0. 0. 0. 0. 0. 0. 0. 0. 0. 0. 0. 0. 0. 0. 0. 0. 0. 0. 0. 0. 0. 0. 0. 0.\n",
      "  0. 0. 0. 0. 0. 0. 0. 0. 0. 0. 0. 0. 0. 0. 0. 0. 0. 0. 0. 0. 0. 0. 0. 0.\n",
      "  0. 0. 0. 0. 0. 0. 0. 0. 0. 0. 0. 0. 0. 0. 0. 0. 0. 0. 0. 0. 0. 0. 0. 0.\n",
      "  0. 0. 0. 0. 0. 0. 0. 0. 0. 0. 0. 0. 0. 0. 0. 0. 0. 0. 0. 0. 0. 0. 0. 0.\n",
      "  0. 0. 0. 0. 0. 0. 0. 0. 0. 0. 0. 0. 0. 0. 0. 0. 0. 0. 0. 0. 0. 0. 0. 0.\n",
      "  0. 0. 0. 0. 0. 0. 0. 0. 0. 0. 0. 0. 0. 0. 0. 0. 0. 0. 0. 0. 0. 0. 0. 0.\n",
      "  0. 0. 0. 0. 0. 0. 0. 0. 0. 0. 0. 0. 0. 0. 0. 0. 0. 0. 0. 0. 0. 0. 0. 0.\n",
      "  0. 0. 0. 0. 0. 0. 0. 0. 0. 0. 0. 0. 0. 0. 0. 0. 0. 0. 1. 0. 0. 0. 0. 0.\n",
      "  0. 0. 0. 0. 0. 0. 0. 0. 0. 0. 0. 0. 0. 0. 0. 0. 0. 0. 0. 0. 0. 0. 0. 0.\n",
      "  0. 0. 0. 0. 0. 0. 0. 0. 0. 0. 0. 0. 0. 0. 0. 0. 0. 0. 0. 0. 0. 0. 0. 0.\n",
      "  0. 0. 0. 0. 0. 0. 0. 0. 0. 0. 0. 0. 0. 0. 0. 0. 0. 0. 0. 0. 0. 0. 0. 0.\n",
      "  0. 0. 0. 0. 0. 0. 0. 0. 0. 0. 0. 0. 0. 0. 0. 0. 0. 0. 0. 0. 0. 0. 0. 0.\n",
      "  0. 0. 0. 0. 0. 0. 0. 0. 0. 0. 0. 0. 0. 0. 0. 0. 0. 0. 0. 0. 0. 0. 0. 0.\n",
      "  0. 0. 0. 0. 0. 0. 0. 0. 0. 0. 0. 0. 0. 0. 0. 0. 0. 0. 1. 0. 0. 0. 0. 0.\n",
      "  0. 0. 0. 0. 0. 0. 0. 0. 0. 0. 0. 0. 0. 0. 0. 0. 0. 0. 0. 0. 0. 0. 0. 0.\n",
      "  0. 0. 0. 0. 0. 0. 0. 0. 0. 0. 0. 0. 0. 0. 0. 0. 0. 0. 0. 0. 0. 0. 0. 0.\n",
      "  0. 0. 0. 0. 0. 0. 0. 0. 0. 0. 0. 0. 0. 0. 0. 0. 0. 0. 0. 0. 0. 0. 0. 0.\n",
      "  0. 0. 0. 0. 0. 0. 0. 0. 0. 0. 0. 0. 0. 0. 0. 0. 0. 0. 0. 0. 0. 0. 0. 0.\n",
      "  0. 0. 0. 0. 0. 0. 0. 0. 0. 0. 0. 0. 0. 0. 0. 0. 0. 0. 0. 0. 0. 0. 0. 0.\n",
      "  0. 0. 0. 0. 0. 0. 0. 0. 0. 0. 0. 0. 0. 0. 0. 0. 0. 0. 0. 0. 0. 0. 0. 0.\n",
      "  0. 0. 0. 0. 0. 0. 0. 0. 0. 0. 0. 0. 0. 0. 0. 0. 0. 0. 0. 0. 0. 0. 0. 0.\n",
      "  0. 0. 0. 0. 0. 0. 0. 0. 0. 0. 0. 0. 0. 0. 0. 0. 0. 0. 0. 0. 0. 0. 0. 0.\n",
      "  0. 0. 0. 0. 0. 0. 0. 0. 0. 0. 0. 0. 0. 0. 0. 0. 0. 0. 0. 0. 0. 0. 0. 0.\n",
      "  0. 0. 0. 0. 0. 0. 0. 0. 0. 0. 0. 0. 0. 0. 0. 0. 0. 0. 0. 0. 0. 0. 0. 0.\n",
      "  0. 0. 0. 0. 0. 0. 0. 0. 0. 0. 0. 0. 0. 0. 0. 0. 0. 0. 0. 0. 0. 0. 0. 0.\n",
      "  0. 0. 0. 0. 0. 0. 0. 0. 0. 0. 0. 0. 0. 0. 0. 0. 0. 0. 0. 0. 0.]]\n",
      "\n",
      "['capitals_inside', 'has_hyphen', 'is_all_caps', 'is_all_lower', 'is_alphanumeric', 'is_capitalized', 'is_first', 'is_last', 'is_numeric', 'next_word=', 'next_word=&', \"next_word=''\", \"next_word='re\", \"next_word='s\", 'next_word=*', 'next_word=*-1', 'next_word=*-2', 'next_word=*-3', 'next_word=*-4', 'next_word=*-5', 'next_word=*-6', 'next_word=*-7', 'next_word=*-8', 'next_word=*?*', 'next_word=*ICH*-1', 'next_word=*ICH*-2', 'next_word=*T*-1', 'next_word=*T*-2', 'next_word=*T*-3', 'next_word=*T*-4', 'next_word=*T*-5', 'next_word=*T*-6', 'next_word=*T*-7', 'next_word=*T*-8', 'next_word=,', 'next_word=--', 'next_word=.', 'next_word=0', 'next_word=160', 'next_word=18', 'next_word=1950s', 'next_word=1953', 'next_word=1955', 'next_word=1956', 'next_word=1997', 'next_word=28', 'next_word=29', 'next_word=30', 'next_word=33', 'next_word=35', 'next_word=55', 'next_word=61', 'next_word=9.8', 'next_word=A', 'next_word=A.', 'next_word=About', 'next_word=Agency', 'next_word=Agnew', 'next_word=Although', 'next_word=Among', 'next_word=Areas', 'next_word=Boston', 'next_word=British', 'next_word=Brooke', 'next_word=But', 'next_word=By', 'next_word=Cancer', 'next_word=Co.', 'next_word=College', 'next_word=Consolidated', 'next_word=Corp.', 'next_word=Dana-Farber', 'next_word=Darrell', 'next_word=Dr.', 'next_word=Dutch', 'next_word=Elsevier', 'next_word=England', 'next_word=Environmental', 'next_word=Fields', 'next_word=Four', 'next_word=From', 'next_word=Gold', 'next_word=Groton', 'next_word=Harvard', 'next_word=Hollingsworth', 'next_word=In', 'next_word=Inc.', 'next_word=Institute', 'next_word=It', 'next_word=James', 'next_word=Journal', 'next_word=July', 'next_word=Kent', 'next_word=Loews', 'next_word=Lorillard', 'next_word=Mass.', 'next_word=Medicine', 'next_word=Micronite', 'next_word=More', 'next_word=Mossman', 'next_word=Mr.', 'next_word=N.V.', 'next_word=National', 'next_word=Neither', 'next_word=New', 'next_word=Nov.', 'next_word=PLC', 'next_word=Phillips', 'next_word=Protection', 'next_word=T.', 'next_word=Talcott', 'next_word=The', 'next_word=There', 'next_word=This', 'next_word=U.S.', 'next_word=University', 'next_word=Vermont', 'next_word=Vinken', 'next_word=Vose', 'next_word=We', 'next_word=West', 'next_word=Western', 'next_word=Workers', 'next_word=York-based', 'next_word=``', 'next_word=a', 'next_word=about', 'next_word=according', 'next_word=acetate', 'next_word=ago', 'next_word=all', 'next_word=almost', 'next_word=among', 'next_word=amounts', 'next_word=amphobiles', 'next_word=an', 'next_word=and', 'next_word=any', 'next_word=anyone', 'next_word=appear', 'next_word=appears', 'next_word=are', 'next_word=area', 'next_word=argue', 'next_word=as', 'next_word=asbestos', 'next_word=asbestos-related', 'next_word=asbestosis', 'next_word=at', 'next_word=attention', 'next_word=aware', 'next_word=ban', 'next_word=be', 'next_word=bearing', 'next_word=before', 'next_word=billion', 'next_word=bin', 'next_word=blue', 'next_word=board', 'next_word=body', 'next_word=brief', 'next_word=bring', 'next_word=buildings', 'next_word=burlap', 'next_word=by', 'next_word=cancer', 'next_word=cancer-causing', 'next_word=caused', 'next_word=causing', 'next_word=chairman', 'next_word=chrysotile', 'next_word=cigarette', 'next_word=cigarettes', 'next_word=class', 'next_word=classified', 'next_word=closely', 'next_word=clouds', 'next_word=common', 'next_word=company', 'next_word=conglomerate', 'next_word=contract', 'next_word=contracted', 'next_word=cotton', 'next_word=countries', 'next_word=crocidolite', 'next_word=curly', 'next_word=deaths', 'next_word=decades', 'next_word=described', 'next_word=diagnosed', 'next_word=died', 'next_word=different', 'next_word=director', 'next_word=diseases', 'next_word=does', 'next_word=dry', 'next_word=dumped', 'next_word=dust', 'next_word=dusty', 'next_word=early', 'next_word=easily', 'next_word=enters', 'next_word=even', 'next_word=events', 'next_word=exhaust', 'next_word=expected', 'next_word=explained', 'next_word=exposed', 'next_word=exposures', 'next_word=factory', 'next_word=fans', 'next_word=far', 'next_word=few', 'next_word=fiber', 'next_word=fibers', 'next_word=filter', 'next_word=filters', 'next_word=finding', 'next_word=findings', 'next_word=five', 'next_word=for', 'next_word=force', 'next_word=form', 'next_word=former', 'next_word=forum', 'next_word=found', 'next_word=from', 'next_word=gradual', 'next_word=group', 'next_word=has', 'next_word=have', 'next_word=having', 'next_word=he', 'next_word=heard', 'next_word=high', 'next_word=higher', 'next_word=highest', 'next_word=huge', 'next_word=human', 'next_word=hung', 'next_word=imported', 'next_word=imposed', 'next_word=in', 'next_word=including', 'next_word=industrial', 'next_word=industrialized', 'next_word=information', 'next_word=into', 'next_word=is', 'next_word=it', 'next_word=its', 'next_word=join', 'next_word=kind', 'next_word=large', 'next_word=later', 'next_word=latest', 'next_word=led', 'next_word=likely', 'next_word=lung', 'next_word=lungs', 'next_word=made', 'next_word=make', 'next_word=makes', 'next_word=making', 'next_word=malignant', 'next_word=managers', 'next_word=material', 'next_word=mechanically', 'next_word=medical', 'next_word=men', 'next_word=mesothelioma', 'next_word=mixed', 'next_word=modest', 'next_word=morbidity', 'next_word=more', 'next_word=most', \"next_word=n't\", 'next_word=named', 'next_word=nations', 'next_word=needle-like', 'next_word=new', 'next_word=no', 'next_word=nonexecutive', 'next_word=nor', 'next_word=now', 'next_word=number', 'next_word=of', 'next_word=old', 'next_word=on', 'next_word=once', 'next_word=one', 'next_word=other', 'next_word=our', 'next_word=outlawed', 'next_word=over', 'next_word=owned', 'next_word=paper', 'next_word=particularly', 'next_word=parts', 'next_word=pathlogy', 'next_word=percentage', 'next_word=place', 'next_word=plant', 'next_word=poured', 'next_word=preliminary', 'next_word=president', 'next_word=probably', 'next_word=problem', 'next_word=process', 'next_word=products', 'next_word=professor', 'next_word=properties', 'next_word=publishing', 'next_word=question', 'next_word=questionable', 'next_word=rate', 'next_word=recently', 'next_word=recognize', 'next_word=regulate', 'next_word=regulation', 'next_word=rejected', 'next_word=remaining', 'next_word=replaced', 'next_word=reported', 'next_word=research', 'next_word=researchers', 'next_word=resilient', 'next_word=resources', 'next_word=results', 'next_word=risk', 'next_word=sacks', 'next_word=said', 'next_word=schools', 'next_word=should', 'next_word=show', 'next_word=smokers', 'next_word=smooth', 'next_word=sold', 'next_word=some', 'next_word=spokeswoman', 'next_word=spokewoman', 'next_word=standard', 'next_word=stopped', 'next_word=story', 'next_word=striking', 'next_word=stringently', 'next_word=studied', 'next_word=study', 'next_word=substance', 'next_word=such', 'next_word=support', 'next_word=surviving', 'next_word=symptoms', 'next_word=talking', 'next_word=team', 'next_word=than', 'next_word=that', 'next_word=the', 'next_word=these', 'next_word=this', 'next_word=those', 'next_word=though', 'next_word=three', 'next_word=times', 'next_word=to', 'next_word=today', 'next_word=took', 'next_word=total', 'next_word=type', 'next_word=under', 'next_word=unit', 'next_word=unusually', 'next_word=up', 'next_word=us', 'next_word=used', 'next_word=useful', 'next_word=users', 'next_word=uses', 'next_word=using', 'next_word=ventilated', 'next_word=very', 'next_word=vice', 'next_word=virtually', 'next_word=was', 'next_word=were', 'next_word=where', 'next_word=whether', 'next_word=which', 'next_word=who', 'next_word=will', 'next_word=with', 'next_word=work', 'next_word=worked', 'next_word=workers', 'next_word=year', 'next_word=years', 'next_word=you', 'prefix-1=&', \"prefix-1='\", 'prefix-1=*', 'prefix-1=,', 'prefix-1=-', 'prefix-1=.', 'prefix-1=0', 'prefix-1=1', 'prefix-1=2', 'prefix-1=3', 'prefix-1=5', 'prefix-1=6', 'prefix-1=9', 'prefix-1=A', 'prefix-1=B', 'prefix-1=C', 'prefix-1=D', 'prefix-1=E', 'prefix-1=F', 'prefix-1=G', 'prefix-1=H', 'prefix-1=I', 'prefix-1=J', 'prefix-1=K', 'prefix-1=L', 'prefix-1=M', 'prefix-1=N', 'prefix-1=P', 'prefix-1=R', 'prefix-1=T', 'prefix-1=U', 'prefix-1=V', 'prefix-1=W', 'prefix-1=Y', 'prefix-1=`', 'prefix-1=a', 'prefix-1=b', 'prefix-1=c', 'prefix-1=d', 'prefix-1=e', 'prefix-1=f', 'prefix-1=g', 'prefix-1=h', 'prefix-1=i', 'prefix-1=j', 'prefix-1=k', 'prefix-1=l', 'prefix-1=m', 'prefix-1=n', 'prefix-1=o', 'prefix-1=p', 'prefix-1=q', 'prefix-1=r', 'prefix-1=s', 'prefix-1=t', 'prefix-1=u', 'prefix-1=v', 'prefix-1=w', 'prefix-1=y', 'prefix-2=&', \"prefix-2=''\", \"prefix-2='r\", \"prefix-2='s\", 'prefix-2=*', 'prefix-2=*-', 'prefix-2=*?', 'prefix-2=*I', 'prefix-2=*T', 'prefix-2=,', 'prefix-2=--', 'prefix-2=.', 'prefix-2=0', 'prefix-2=16', 'prefix-2=18', 'prefix-2=19', 'prefix-2=28', 'prefix-2=29', 'prefix-2=30', 'prefix-2=33', 'prefix-2=35', 'prefix-2=55', 'prefix-2=61', 'prefix-2=9.', 'prefix-2=A', 'prefix-2=A.', 'prefix-2=Ab', 'prefix-2=Ag', 'prefix-2=Al', 'prefix-2=Am', 'prefix-2=Ar', 'prefix-2=Bo', 'prefix-2=Br', 'prefix-2=Bu', 'prefix-2=By', 'prefix-2=Ca', 'prefix-2=Co', 'prefix-2=Da', 'prefix-2=Dr', 'prefix-2=Du', 'prefix-2=El', 'prefix-2=En', 'prefix-2=Fi', 'prefix-2=Fo', 'prefix-2=Fr', 'prefix-2=Go', 'prefix-2=Gr', 'prefix-2=Ha', 'prefix-2=Ho', 'prefix-2=In', 'prefix-2=It', 'prefix-2=Ja', 'prefix-2=Jo', 'prefix-2=Ju', 'prefix-2=Ke', 'prefix-2=Lo', 'prefix-2=Ma', 'prefix-2=Me', 'prefix-2=Mi', 'prefix-2=Mo', 'prefix-2=Mr', 'prefix-2=N.', 'prefix-2=Na', 'prefix-2=Ne', 'prefix-2=No', 'prefix-2=PL', 'prefix-2=Ph', 'prefix-2=Pi', 'prefix-2=Pr', 'prefix-2=Ru', 'prefix-2=T.', 'prefix-2=Ta', 'prefix-2=Th', 'prefix-2=U.', 'prefix-2=Un', 'prefix-2=Ve', 'prefix-2=Vi', 'prefix-2=Vo', 'prefix-2=We', 'prefix-2=Wo', 'prefix-2=Yo', 'prefix-2=``', 'prefix-2=a', 'prefix-2=ab', 'prefix-2=ac', 'prefix-2=ag', 'prefix-2=al', 'prefix-2=am', 'prefix-2=an', 'prefix-2=ap', 'prefix-2=ar', 'prefix-2=as', 'prefix-2=at', 'prefix-2=aw', 'prefix-2=ba', 'prefix-2=be', 'prefix-2=bi', 'prefix-2=bl', 'prefix-2=bo', 'prefix-2=br', 'prefix-2=bu', 'prefix-2=by', 'prefix-2=ca', 'prefix-2=ch', 'prefix-2=ci', 'prefix-2=cl', 'prefix-2=co', 'prefix-2=cr', 'prefix-2=cu', 'prefix-2=de', 'prefix-2=di', 'prefix-2=do', 'prefix-2=dr', 'prefix-2=du', 'prefix-2=ea', 'prefix-2=en', 'prefix-2=ev', 'prefix-2=ex', 'prefix-2=fa', 'prefix-2=fe', 'prefix-2=fi', 'prefix-2=fo', 'prefix-2=fr', 'prefix-2=gr', 'prefix-2=ha', 'prefix-2=he', 'prefix-2=hi', 'prefix-2=hu', 'prefix-2=im', 'prefix-2=in', 'prefix-2=is', 'prefix-2=it', 'prefix-2=jo', 'prefix-2=ki', 'prefix-2=la', 'prefix-2=le', 'prefix-2=li', 'prefix-2=lu', 'prefix-2=ma', 'prefix-2=me', 'prefix-2=mi', 'prefix-2=mo', \"prefix-2=n'\", 'prefix-2=na', 'prefix-2=ne', 'prefix-2=no', 'prefix-2=nu', 'prefix-2=of', 'prefix-2=ol', 'prefix-2=on', 'prefix-2=ot', 'prefix-2=ou', 'prefix-2=ov', 'prefix-2=ow', 'prefix-2=pa', 'prefix-2=pe', 'prefix-2=pl', 'prefix-2=po', 'prefix-2=pr', 'prefix-2=pu', 'prefix-2=qu', 'prefix-2=ra', 'prefix-2=re', 'prefix-2=ri', 'prefix-2=sa', 'prefix-2=sc', 'prefix-2=sh', 'prefix-2=sm', 'prefix-2=so', 'prefix-2=sp', 'prefix-2=st', 'prefix-2=su', 'prefix-2=sy', 'prefix-2=ta', 'prefix-2=te', 'prefix-2=th', 'prefix-2=ti', 'prefix-2=to', 'prefix-2=ty', 'prefix-2=un', 'prefix-2=up', 'prefix-2=us', 'prefix-2=ve', 'prefix-2=vi', 'prefix-2=wa', 'prefix-2=we', 'prefix-2=wh', 'prefix-2=wi', 'prefix-2=wo', 'prefix-2=ye', 'prefix-2=yo', 'prefix-3=&', \"prefix-3=''\", \"prefix-3='re\", \"prefix-3='s\", 'prefix-3=*', 'prefix-3=*-1', 'prefix-3=*-2', 'prefix-3=*-3', 'prefix-3=*-4', 'prefix-3=*-5', 'prefix-3=*-6', 'prefix-3=*-7', 'prefix-3=*-8', 'prefix-3=*?*', 'prefix-3=*IC', 'prefix-3=*T*', 'prefix-3=,', 'prefix-3=--', 'prefix-3=.', 'prefix-3=0', 'prefix-3=160', 'prefix-3=18', 'prefix-3=195', 'prefix-3=199', 'prefix-3=28', 'prefix-3=29', 'prefix-3=30', 'prefix-3=33', 'prefix-3=35', 'prefix-3=55', 'prefix-3=61', 'prefix-3=9.8', 'prefix-3=A', 'prefix-3=A.', 'prefix-3=Abo', 'prefix-3=Age', 'prefix-3=Agn', 'prefix-3=Alt', 'prefix-3=Amo', 'prefix-3=Are', 'prefix-3=Bos', 'prefix-3=Bri', 'prefix-3=Bro', 'prefix-3=But', 'prefix-3=By', 'prefix-3=Can', 'prefix-3=Co.', 'prefix-3=Col', 'prefix-3=Con', 'prefix-3=Cor', 'prefix-3=Dan', 'prefix-3=Dar', 'prefix-3=Dr.', 'prefix-3=Dut', 'prefix-3=Els', 'prefix-3=Eng', 'prefix-3=Env', 'prefix-3=Fie', 'prefix-3=Fou', 'prefix-3=Fro', 'prefix-3=Gol', 'prefix-3=Gro', 'prefix-3=Har', 'prefix-3=Hol', 'prefix-3=In', 'prefix-3=Inc', 'prefix-3=Ins', 'prefix-3=It', 'prefix-3=Jam', 'prefix-3=Jou', 'prefix-3=Jul', 'prefix-3=Ken', 'prefix-3=Loe', 'prefix-3=Lor', 'prefix-3=Mas', 'prefix-3=Med', 'prefix-3=Mic', 'prefix-3=Mor', 'prefix-3=Mos', 'prefix-3=Mr.', 'prefix-3=N.V', 'prefix-3=Nat', 'prefix-3=Nei', 'prefix-3=New', 'prefix-3=Nov', 'prefix-3=PLC', 'prefix-3=Phi', 'prefix-3=Pie', 'prefix-3=Pro', 'prefix-3=Rud', 'prefix-3=T.', 'prefix-3=Tal', 'prefix-3=The', 'prefix-3=Thi', 'prefix-3=U.S', 'prefix-3=Uni', 'prefix-3=Ver', 'prefix-3=Vin', 'prefix-3=Vos', 'prefix-3=We', 'prefix-3=Wes', 'prefix-3=Wor', 'prefix-3=Yor', 'prefix-3=``', 'prefix-3=a', 'prefix-3=abo', 'prefix-3=acc', 'prefix-3=ace', 'prefix-3=ago', 'prefix-3=all', 'prefix-3=alm', 'prefix-3=amo', 'prefix-3=amp', 'prefix-3=an', 'prefix-3=and', 'prefix-3=any', 'prefix-3=app', 'prefix-3=are', 'prefix-3=arg', 'prefix-3=as', 'prefix-3=asb', 'prefix-3=at', 'prefix-3=att', 'prefix-3=awa', 'prefix-3=ban', 'prefix-3=be', 'prefix-3=bea', 'prefix-3=bef', 'prefix-3=bil', 'prefix-3=bin', 'prefix-3=blu', 'prefix-3=boa', 'prefix-3=bod', 'prefix-3=bri', 'prefix-3=bui', 'prefix-3=bur', 'prefix-3=by', 'prefix-3=can', 'prefix-3=cau', 'prefix-3=cha', 'prefix-3=chr', 'prefix-3=cig', 'prefix-3=cla', 'prefix-3=clo', 'prefix-3=com', 'prefix-3=con', 'prefix-3=cot', 'prefix-3=cou', 'prefix-3=cro', 'prefix-3=cur', 'prefix-3=dea', 'prefix-3=dec', 'prefix-3=des', 'prefix-3=dia', 'prefix-3=die', 'prefix-3=dif', 'prefix-3=dir', 'prefix-3=dis', 'prefix-3=doe', 'prefix-3=dry', 'prefix-3=dum', 'prefix-3=dus', 'prefix-3=ear', 'prefix-3=eas', 'prefix-3=ent', 'prefix-3=eve', 'prefix-3=exh', 'prefix-3=exp', 'prefix-3=fac', 'prefix-3=fan', 'prefix-3=far', 'prefix-3=few', 'prefix-3=fib', 'prefix-3=fil', 'prefix-3=fin', 'prefix-3=fiv', 'prefix-3=for', 'prefix-3=fou', 'prefix-3=fro', 'prefix-3=gra', 'prefix-3=gro', 'prefix-3=has', 'prefix-3=hav', 'prefix-3=he', 'prefix-3=hea', 'prefix-3=hig', 'prefix-3=hug', 'prefix-3=hum', 'prefix-3=hun', 'prefix-3=imp', 'prefix-3=in', 'prefix-3=inc', 'prefix-3=ind', 'prefix-3=inf', 'prefix-3=int', 'prefix-3=is', 'prefix-3=it', 'prefix-3=its', 'prefix-3=joi', 'prefix-3=kin', 'prefix-3=lar', 'prefix-3=lat', 'prefix-3=led', 'prefix-3=lik', 'prefix-3=lun', 'prefix-3=mad', 'prefix-3=mak', 'prefix-3=mal', 'prefix-3=man', 'prefix-3=mat', 'prefix-3=mec', 'prefix-3=med', 'prefix-3=men', 'prefix-3=mes', 'prefix-3=mix', 'prefix-3=mod', 'prefix-3=mor', 'prefix-3=mos', \"prefix-3=n't\", 'prefix-3=nam', 'prefix-3=nat', 'prefix-3=nee', 'prefix-3=new', 'prefix-3=no', 'prefix-3=non', 'prefix-3=nor', 'prefix-3=now', 'prefix-3=num', 'prefix-3=of', 'prefix-3=old', 'prefix-3=on', 'prefix-3=onc', 'prefix-3=one', 'prefix-3=oth', 'prefix-3=our', 'prefix-3=out', 'prefix-3=ove', 'prefix-3=own', 'prefix-3=pap', 'prefix-3=par', 'prefix-3=pat', 'prefix-3=per', 'prefix-3=pla', 'prefix-3=pou', 'prefix-3=pre', 'prefix-3=pro', 'prefix-3=pub', 'prefix-3=que', 'prefix-3=rat', 'prefix-3=rec', 'prefix-3=reg', 'prefix-3=rej', 'prefix-3=rem', 'prefix-3=rep', 'prefix-3=res', 'prefix-3=ris', 'prefix-3=sac', 'prefix-3=sai', 'prefix-3=sch', 'prefix-3=sho', 'prefix-3=smo', 'prefix-3=sol', 'prefix-3=som', 'prefix-3=spo', 'prefix-3=sta', 'prefix-3=sto', 'prefix-3=str', 'prefix-3=stu', 'prefix-3=sub', 'prefix-3=suc', 'prefix-3=sup', 'prefix-3=sur', 'prefix-3=sym', 'prefix-3=tal', 'prefix-3=tea', 'prefix-3=tha', 'prefix-3=the', 'prefix-3=thi', 'prefix-3=tho', 'prefix-3=thr', 'prefix-3=tim', 'prefix-3=to', 'prefix-3=tod', 'prefix-3=too', 'prefix-3=tot', 'prefix-3=typ', 'prefix-3=und', 'prefix-3=uni', 'prefix-3=unu', 'prefix-3=up', 'prefix-3=us', 'prefix-3=use', 'prefix-3=usi', 'prefix-3=ven', 'prefix-3=ver', 'prefix-3=vic', 'prefix-3=vir', 'prefix-3=was', 'prefix-3=wer', 'prefix-3=whe', 'prefix-3=whi', 'prefix-3=who', 'prefix-3=wil', 'prefix-3=wit', 'prefix-3=wor', 'prefix-3=yea', 'prefix-3=you', 'prev_word=', 'prev_word=&', \"prev_word=''\", \"prev_word='re\", \"prev_word='s\", 'prev_word=*', 'prev_word=*-1', 'prev_word=*-2', 'prev_word=*-3', 'prev_word=*-4', 'prev_word=*-5', 'prev_word=*-6', 'prev_word=*-7', 'prev_word=*-8', 'prev_word=*?*', 'prev_word=*ICH*-1', 'prev_word=*ICH*-2', 'prev_word=*T*-1', 'prev_word=*T*-2', 'prev_word=*T*-3', 'prev_word=*T*-4', 'prev_word=*T*-5', 'prev_word=*T*-6', 'prev_word=*T*-7', 'prev_word=*T*-8', 'prev_word=,', 'prev_word=--', 'prev_word=.', 'prev_word=0', 'prev_word=160', 'prev_word=18', 'prev_word=1950s', 'prev_word=1953', 'prev_word=1955', 'prev_word=1956', 'prev_word=1997', 'prev_word=28', 'prev_word=29', 'prev_word=30', 'prev_word=33', 'prev_word=35', 'prev_word=55', 'prev_word=61', 'prev_word=9.8', 'prev_word=A', 'prev_word=A.', 'prev_word=About', 'prev_word=Agency', 'prev_word=Agnew', 'prev_word=Although', 'prev_word=Among', 'prev_word=Areas', 'prev_word=Boston', 'prev_word=British', 'prev_word=Brooke', 'prev_word=But', 'prev_word=By', 'prev_word=Cancer', 'prev_word=Co.', 'prev_word=College', 'prev_word=Consolidated', 'prev_word=Corp.', 'prev_word=Dana-Farber', 'prev_word=Darrell', 'prev_word=Dr.', 'prev_word=Dutch', 'prev_word=Elsevier', 'prev_word=England', 'prev_word=Environmental', 'prev_word=Fields', 'prev_word=Four', 'prev_word=From', 'prev_word=Gold', 'prev_word=Groton', 'prev_word=Harvard', 'prev_word=Hollingsworth', 'prev_word=In', 'prev_word=Inc.', 'prev_word=Institute', 'prev_word=It', 'prev_word=James', 'prev_word=Journal', 'prev_word=July', 'prev_word=Kent', 'prev_word=Loews', 'prev_word=Lorillard', 'prev_word=Mass.', 'prev_word=Medicine', 'prev_word=Micronite', 'prev_word=More', 'prev_word=Mossman', 'prev_word=Mr.', 'prev_word=N.V.', 'prev_word=National', 'prev_word=Neither', 'prev_word=New', 'prev_word=Nov.', 'prev_word=PLC', 'prev_word=Phillips', 'prev_word=Pierre', 'prev_word=Protection', 'prev_word=Rudolph', 'prev_word=T.', 'prev_word=Talcott', 'prev_word=The', 'prev_word=There', 'prev_word=This', 'prev_word=U.S.', 'prev_word=University', 'prev_word=Vermont', 'prev_word=Vinken', 'prev_word=Vose', 'prev_word=We', 'prev_word=West', 'prev_word=Western', 'prev_word=Workers', 'prev_word=York-based', 'prev_word=``', 'prev_word=a', 'prev_word=about', 'prev_word=according', 'prev_word=acetate', 'prev_word=ago', 'prev_word=all', 'prev_word=almost', 'prev_word=among', 'prev_word=amounts', 'prev_word=amphobiles', 'prev_word=an', 'prev_word=and', 'prev_word=any', 'prev_word=anyone', 'prev_word=appear', 'prev_word=appears', 'prev_word=are', 'prev_word=area', 'prev_word=argue', 'prev_word=as', 'prev_word=asbestos', 'prev_word=asbestos-related', 'prev_word=asbestosis', 'prev_word=at', 'prev_word=attention', 'prev_word=aware', 'prev_word=ban', 'prev_word=be', 'prev_word=bearing', 'prev_word=before', 'prev_word=billion', 'prev_word=bin', 'prev_word=blue', 'prev_word=board', 'prev_word=body', 'prev_word=brief', 'prev_word=bring', 'prev_word=buildings', 'prev_word=burlap', 'prev_word=by', 'prev_word=cancer', 'prev_word=cancer-causing', 'prev_word=caused', 'prev_word=causing', 'prev_word=chairman', 'prev_word=chrysotile', 'prev_word=cigarette', 'prev_word=cigarettes', 'prev_word=class', 'prev_word=classified', 'prev_word=closely', 'prev_word=clouds', 'prev_word=common', 'prev_word=company', 'prev_word=conglomerate', 'prev_word=contract', 'prev_word=contracted', 'prev_word=cotton', 'prev_word=countries', 'prev_word=crocidolite', 'prev_word=curly', 'prev_word=deaths', 'prev_word=decades', 'prev_word=described', 'prev_word=diagnosed', 'prev_word=died', 'prev_word=different', 'prev_word=director', 'prev_word=diseases', 'prev_word=does', 'prev_word=dry', 'prev_word=dumped', 'prev_word=dust', 'prev_word=dusty', 'prev_word=early', 'prev_word=easily', 'prev_word=enters', 'prev_word=even', 'prev_word=events', 'prev_word=exhaust', 'prev_word=expected', 'prev_word=explained', 'prev_word=exposed', 'prev_word=exposures', 'prev_word=factory', 'prev_word=fans', 'prev_word=far', 'prev_word=few', 'prev_word=fiber', 'prev_word=fibers', 'prev_word=filter', 'prev_word=filters', 'prev_word=finding', 'prev_word=findings', 'prev_word=five', 'prev_word=for', 'prev_word=force', 'prev_word=form', 'prev_word=former', 'prev_word=forum', 'prev_word=found', 'prev_word=from', 'prev_word=gradual', 'prev_word=group', 'prev_word=has', 'prev_word=have', 'prev_word=having', 'prev_word=he', 'prev_word=heard', 'prev_word=high', 'prev_word=higher', 'prev_word=highest', 'prev_word=huge', 'prev_word=human', 'prev_word=hung', 'prev_word=imported', 'prev_word=imposed', 'prev_word=in', 'prev_word=including', 'prev_word=industrial', 'prev_word=industrialized', 'prev_word=information', 'prev_word=into', 'prev_word=is', 'prev_word=it', 'prev_word=its', 'prev_word=join', 'prev_word=kind', 'prev_word=large', 'prev_word=later', 'prev_word=latest', 'prev_word=led', 'prev_word=likely', 'prev_word=lung', 'prev_word=lungs', 'prev_word=made', 'prev_word=make', 'prev_word=makes', 'prev_word=making', 'prev_word=malignant', 'prev_word=managers', 'prev_word=material', 'prev_word=mechanically', 'prev_word=medical', 'prev_word=men', 'prev_word=mesothelioma', 'prev_word=mixed', 'prev_word=modest', 'prev_word=morbidity', 'prev_word=more', 'prev_word=most', \"prev_word=n't\", 'prev_word=named', 'prev_word=nations', 'prev_word=needle-like', 'prev_word=new', 'prev_word=no', 'prev_word=nonexecutive', 'prev_word=nor', 'prev_word=now', 'prev_word=number', 'prev_word=of', 'prev_word=old', 'prev_word=on', 'prev_word=once', 'prev_word=one', 'prev_word=other', 'prev_word=our', 'prev_word=outlawed', 'prev_word=over', 'prev_word=owned', 'prev_word=paper', 'prev_word=particularly', 'prev_word=parts', 'prev_word=pathlogy', 'prev_word=percentage', 'prev_word=place', 'prev_word=plant', 'prev_word=poured', 'prev_word=preliminary', 'prev_word=president', 'prev_word=probably', 'prev_word=problem', 'prev_word=process', 'prev_word=products', 'prev_word=professor', 'prev_word=properties', 'prev_word=publishing', 'prev_word=question', 'prev_word=questionable', 'prev_word=rate', 'prev_word=recently', 'prev_word=recognize', 'prev_word=regulate', 'prev_word=regulation', 'prev_word=rejected', 'prev_word=remaining', 'prev_word=replaced', 'prev_word=reported', 'prev_word=research', 'prev_word=researchers', 'prev_word=resilient', 'prev_word=resources', 'prev_word=results', 'prev_word=risk', 'prev_word=sacks', 'prev_word=said', 'prev_word=schools', 'prev_word=should', 'prev_word=show', 'prev_word=smokers', 'prev_word=smooth', 'prev_word=sold', 'prev_word=some', 'prev_word=spokeswoman', 'prev_word=spokewoman', 'prev_word=standard', 'prev_word=stopped', 'prev_word=story', 'prev_word=striking', 'prev_word=stringently', 'prev_word=studied', 'prev_word=study', 'prev_word=substance', 'prev_word=such', 'prev_word=support', 'prev_word=surviving', 'prev_word=symptoms', 'prev_word=talking', 'prev_word=team', 'prev_word=than', 'prev_word=that', 'prev_word=the', 'prev_word=these', 'prev_word=this', 'prev_word=those', 'prev_word=though', 'prev_word=three', 'prev_word=times', 'prev_word=to', 'prev_word=today', 'prev_word=took', 'prev_word=total', 'prev_word=type', 'prev_word=under', 'prev_word=unit', 'prev_word=unusually', 'prev_word=up', 'prev_word=us', 'prev_word=used', 'prev_word=useful', 'prev_word=users', 'prev_word=uses', 'prev_word=using', 'prev_word=ventilated', 'prev_word=very', 'prev_word=vice', 'prev_word=virtually', 'prev_word=was', 'prev_word=were', 'prev_word=where', 'prev_word=whether', 'prev_word=which', 'prev_word=who', 'prev_word=will', 'prev_word=with', 'prev_word=work', 'prev_word=worked', 'prev_word=workers', 'prev_word=year', 'prev_word=years', 'prev_word=you', 'suffix-1=&', \"suffix-1='\", 'suffix-1=*', 'suffix-1=,', 'suffix-1=-', 'suffix-1=.', 'suffix-1=0', 'suffix-1=1', 'suffix-1=2', 'suffix-1=3', 'suffix-1=4', 'suffix-1=5', 'suffix-1=6', 'suffix-1=7', 'suffix-1=8', 'suffix-1=9', 'suffix-1=A', 'suffix-1=C', 'suffix-1=`', 'suffix-1=a', 'suffix-1=d', 'suffix-1=e', 'suffix-1=f', 'suffix-1=g', 'suffix-1=h', 'suffix-1=k', 'suffix-1=l', 'suffix-1=m', 'suffix-1=n', 'suffix-1=o', 'suffix-1=p', 'suffix-1=r', 'suffix-1=s', 'suffix-1=t', 'suffix-1=u', 'suffix-1=w', 'suffix-1=y', 'suffix-2=&', \"suffix-2=''\", \"suffix-2='s\", \"suffix-2='t\", 'suffix-2=*', 'suffix-2=,', 'suffix-2=--', 'suffix-2=-1', 'suffix-2=-2', 'suffix-2=-3', 'suffix-2=-4', 'suffix-2=-5', 'suffix-2=-6', 'suffix-2=-7', 'suffix-2=-8', 'suffix-2=.', 'suffix-2=.8', 'suffix-2=0', 'suffix-2=0s', 'suffix-2=18', 'suffix-2=28', 'suffix-2=29', 'suffix-2=30', 'suffix-2=33', 'suffix-2=35', 'suffix-2=53', 'suffix-2=55', 'suffix-2=56', 'suffix-2=60', 'suffix-2=61', 'suffix-2=97', 'suffix-2=?*', 'suffix-2=A', 'suffix-2=A.', 'suffix-2=By', 'suffix-2=In', 'suffix-2=It', 'suffix-2=LC', 'suffix-2=S.', 'suffix-2=T.', 'suffix-2=V.', 'suffix-2=We', 'suffix-2=``', 'suffix-2=a', 'suffix-2=al', 'suffix-2=am', 'suffix-2=an', 'suffix-2=ap', 'suffix-2=ar', 'suffix-2=as', 'suffix-2=at', 'suffix-2=ay', 'suffix-2=be', 'suffix-2=by', 'suffix-2=c.', 'suffix-2=ce', 'suffix-2=ch', 'suffix-2=ct', 'suffix-2=cy', 'suffix-2=de', 'suffix-2=ds', 'suffix-2=dy', 'suffix-2=ea', 'suffix-2=ed', 'suffix-2=ee', 'suffix-2=ef', 'suffix-2=em', 'suffix-2=en', 'suffix-2=er', 'suffix-2=es', 'suffix-2=ew', 'suffix-2=ge', 'suffix-2=gh', 'suffix-2=go', 'suffix-2=gs', 'suffix-2=gy', 'suffix-2=he', 'suffix-2=ho', 'suffix-2=hs', 'suffix-2=id', 'suffix-2=in', 'suffix-2=is', 'suffix-2=it', 'suffix-2=ke', 'suffix-2=ks', 'suffix-2=ld', 'suffix-2=le', 'suffix-2=ll', 'suffix-2=ls', 'suffix-2=ly', 'suffix-2=ma', 'suffix-2=me', 'suffix-2=ms', 'suffix-2=nd', 'suffix-2=ne', 'suffix-2=ng', 'suffix-2=no', 'suffix-2=ns', 'suffix-2=nt', 'suffix-2=ny', 'suffix-2=o.', 'suffix-2=of', 'suffix-2=ok', 'suffix-2=om', 'suffix-2=on', 'suffix-2=or', 'suffix-2=os', 'suffix-2=ou', 'suffix-2=ow', 'suffix-2=p.', 'suffix-2=pe', 'suffix-2=ph', 'suffix-2=ps', 'suffix-2=r.', 'suffix-2=rd', 'suffix-2=re', 'suffix-2=rk', 'suffix-2=rm', 'suffix-2=rn', 'suffix-2=rs', 'suffix-2=rt', 'suffix-2=ry', 'suffix-2=s.', 'suffix-2=se', 'suffix-2=sh', 'suffix-2=sk', 'suffix-2=ss', 'suffix-2=st', 'suffix-2=te', 'suffix-2=th', 'suffix-2=to', 'suffix-2=ts', 'suffix-2=tt', 'suffix-2=ty', 'suffix-2=ue', 'suffix-2=ul', 'suffix-2=um', 'suffix-2=up', 'suffix-2=ur', 'suffix-2=us', 'suffix-2=ut', 'suffix-2=v.', 'suffix-2=ve', 'suffix-2=ws', 'suffix-2=ze', 'suffix-3=&', \"suffix-3=''\", \"suffix-3='re\", \"suffix-3='s\", 'suffix-3=*', 'suffix-3=*-1', 'suffix-3=*-2', 'suffix-3=*-3', 'suffix-3=*-4', 'suffix-3=*-5', 'suffix-3=*-6', 'suffix-3=*-7', 'suffix-3=*-8', 'suffix-3=*?*', 'suffix-3=,', 'suffix-3=--', 'suffix-3=.', 'suffix-3=.S.', 'suffix-3=.V.', 'suffix-3=0', 'suffix-3=160', 'suffix-3=18', 'suffix-3=28', 'suffix-3=29', 'suffix-3=30', 'suffix-3=33', 'suffix-3=35', 'suffix-3=50s', 'suffix-3=55', 'suffix-3=61', 'suffix-3=9.8', 'suffix-3=953', 'suffix-3=955', 'suffix-3=956', 'suffix-3=997', 'suffix-3=A', 'suffix-3=A.', 'suffix-3=But', 'suffix-3=By', 'suffix-3=Co.', 'suffix-3=Dr.', 'suffix-3=In', 'suffix-3=It', 'suffix-3=Mr.', 'suffix-3=New', 'suffix-3=PLC', 'suffix-3=T.', 'suffix-3=The', 'suffix-3=We', 'suffix-3=``', 'suffix-3=a', 'suffix-3=ace', 'suffix-3=act', 'suffix-3=ade', 'suffix-3=age', 'suffix-3=ago', 'suffix-3=aid', 'suffix-3=ake', 'suffix-3=all', 'suffix-3=an', 'suffix-3=and', 'suffix-3=ans', 'suffix-3=ant', 'suffix-3=any', 'suffix-3=ard', 'suffix-3=are', 'suffix-3=ars', 'suffix-3=ary', 'suffix-3=as', 'suffix-3=ass', 'suffix-3=at', 'suffix-3=ate', 'suffix-3=ave', 'suffix-3=ban', 'suffix-3=be', 'suffix-3=bed', 'suffix-3=ber', 'suffix-3=bin', 'suffix-3=ble', 'suffix-3=bly', 'suffix-3=by', 'suffix-3=cal', 'suffix-3=ced', 'suffix-3=cer', 'suffix-3=ces', 'suffix-3=cks', 'suffix-3=cts', 'suffix-3=day', 'suffix-3=der', 'suffix-3=des', 'suffix-3=dry', 'suffix-3=eam', 'suffix-3=ear', 'suffix-3=eas', 'suffix-3=ege', 'suffix-3=ell', 'suffix-3=ely', 'suffix-3=ent', 'suffix-3=ere', 'suffix-3=ern', 'suffix-3=ers', 'suffix-3=ery', 'suffix-3=ese', 'suffix-3=ess', 'suffix-3=est', 'suffix-3=ews', 'suffix-3=far', 'suffix-3=few', 'suffix-3=for', 'suffix-3=ful', 'suffix-3=gue', 'suffix-3=han', 'suffix-3=has', 'suffix-3=hat', 'suffix-3=he', 'suffix-3=her', 'suffix-3=his', 'suffix-3=how', 'suffix-3=ial', 'suffix-3=ice', 'suffix-3=ich', 'suffix-3=ied', 'suffix-3=ief', 'suffix-3=ier', 'suffix-3=ies', 'suffix-3=igh', 'suffix-3=ike', 'suffix-3=ile', 'suffix-3=ill', 'suffix-3=ily', 'suffix-3=in', 'suffix-3=ind', 'suffix-3=ine', 'suffix-3=ing', 'suffix-3=ion', 'suffix-3=ips', 'suffix-3=is', 'suffix-3=ish', 'suffix-3=isk', 'suffix-3=it', 'suffix-3=ite', 'suffix-3=ith', 'suffix-3=its', 'suffix-3=ity', 'suffix-3=ive', 'suffix-3=ize', 'suffix-3=ked', 'suffix-3=ken', 'suffix-3=kes', 'suffix-3=lap', 'suffix-3=lds', 'suffix-3=led', 'suffix-3=lem', 'suffix-3=les', 'suffix-3=lly', 'suffix-3=lph', 'suffix-3=lts', 'suffix-3=lue', 'suffix-3=man', 'suffix-3=med', 'suffix-3=men', 'suffix-3=mer', 'suffix-3=mes', 'suffix-3=mon', \"suffix-3=n't\", 'suffix-3=nal', 'suffix-3=nc.', 'suffix-3=nce', 'suffix-3=ncy', 'suffix-3=ned', 'suffix-3=new', 'suffix-3=ngs', 'suffix-3=nit', 'suffix-3=no', 'suffix-3=nor', 'suffix-3=now', 'suffix-3=nto', 'suffix-3=nts', 'suffix-3=ody', 'suffix-3=oes', 'suffix-3=of', 'suffix-3=ogy', 'suffix-3=oin', 'suffix-3=oke', 'suffix-3=old', 'suffix-3=ols', 'suffix-3=oma', 'suffix-3=ome', 'suffix-3=oms', 'suffix-3=on', 'suffix-3=one', 'suffix-3=ong', 'suffix-3=ons', 'suffix-3=ont', 'suffix-3=ook', 'suffix-3=ore', 'suffix-3=ork', 'suffix-3=orm', 'suffix-3=ort', 'suffix-3=ory', 'suffix-3=ose', 'suffix-3=ost', 'suffix-3=oth', 'suffix-3=ott', 'suffix-3=oup', 'suffix-3=our', 'suffix-3=out', 'suffix-3=ov.', 'suffix-3=ped', 'suffix-3=per', 'suffix-3=rce', 'suffix-3=rch', 'suffix-3=rea', 'suffix-3=red', 'suffix-3=ree', 'suffix-3=res', 'suffix-3=rge', 'suffix-3=rly', 'suffix-3=rom', 'suffix-3=rp.', 'suffix-3=rre', 'suffix-3=rth', 'suffix-3=rts', 'suffix-3=rum', 'suffix-3=sed', 'suffix-3=ses', 'suffix-3=sis', 'suffix-3=sor', 'suffix-3=ss.', 'suffix-3=sty', 'suffix-3=tal', 'suffix-3=tch', 'suffix-3=ted', 'suffix-3=ter', 'suffix-3=tes', 'suffix-3=the', 'suffix-3=ths', 'suffix-3=tly', 'suffix-3=to', 'suffix-3=ton', 'suffix-3=tor', 'suffix-3=tos', 'suffix-3=tte', 'suffix-3=ual', 'suffix-3=uch', 'suffix-3=uds', 'suffix-3=udy', 'suffix-3=uge', 'suffix-3=ugh', 'suffix-3=uld', 'suffix-3=uly', 'suffix-3=und', 'suffix-3=ung', 'suffix-3=up', 'suffix-3=us', 'suffix-3=ust', 'suffix-3=ute', 'suffix-3=ven', 'suffix-3=ver', 'suffix-3=was', 'suffix-3=wed', 'suffix-3=who', 'suffix-3=xed', 'suffix-3=you', 'suffix-3=ype', 'suffix-3=zed', 'word=&', \"word=''\", \"word='re\", \"word='s\", 'word=*', 'word=*-1', 'word=*-2', 'word=*-3', 'word=*-4', 'word=*-5', 'word=*-6', 'word=*-7', 'word=*-8', 'word=*?*', 'word=*ICH*-1', 'word=*ICH*-2', 'word=*T*-1', 'word=*T*-2', 'word=*T*-3', 'word=*T*-4', 'word=*T*-5', 'word=*T*-6', 'word=*T*-7', 'word=*T*-8', 'word=,', 'word=--', 'word=.', 'word=0', 'word=160', 'word=18', 'word=1950s', 'word=1953', 'word=1955', 'word=1956', 'word=1997', 'word=28', 'word=29', 'word=30', 'word=33', 'word=35', 'word=55', 'word=61', 'word=9.8', 'word=A', 'word=A.', 'word=About', 'word=Agency', 'word=Agnew', 'word=Although', 'word=Among', 'word=Areas', 'word=Boston', 'word=British', 'word=Brooke', 'word=But', 'word=By', 'word=Cancer', 'word=Co.', 'word=College', 'word=Consolidated', 'word=Corp.', 'word=Dana-Farber', 'word=Darrell', 'word=Dr.', 'word=Dutch', 'word=Elsevier', 'word=England', 'word=Environmental', 'word=Fields', 'word=Four', 'word=From', 'word=Gold', 'word=Groton', 'word=Harvard', 'word=Hollingsworth', 'word=In', 'word=Inc.', 'word=Institute', 'word=It', 'word=James', 'word=Journal', 'word=July', 'word=Kent', 'word=Loews', 'word=Lorillard', 'word=Mass.', 'word=Medicine', 'word=Micronite', 'word=More', 'word=Mossman', 'word=Mr.', 'word=N.V.', 'word=National', 'word=Neither', 'word=New', 'word=Nov.', 'word=PLC', 'word=Phillips', 'word=Pierre', 'word=Protection', 'word=Rudolph', 'word=T.', 'word=Talcott', 'word=The', 'word=There', 'word=This', 'word=U.S.', 'word=University', 'word=Vermont', 'word=Vinken', 'word=Vose', 'word=We', 'word=West', 'word=Western', 'word=Workers', 'word=York-based', 'word=``', 'word=a', 'word=about', 'word=according', 'word=acetate', 'word=ago', 'word=all', 'word=almost', 'word=among', 'word=amounts', 'word=amphobiles', 'word=an', 'word=and', 'word=any', 'word=anyone', 'word=appear', 'word=appears', 'word=are', 'word=area', 'word=argue', 'word=as', 'word=asbestos', 'word=asbestos-related', 'word=asbestosis', 'word=at', 'word=attention', 'word=aware', 'word=ban', 'word=be', 'word=bearing', 'word=before', 'word=billion', 'word=bin', 'word=blue', 'word=board', 'word=body', 'word=brief', 'word=bring', 'word=buildings', 'word=burlap', 'word=by', 'word=cancer', 'word=cancer-causing', 'word=caused', 'word=causing', 'word=chairman', 'word=chrysotile', 'word=cigarette', 'word=cigarettes', 'word=class', 'word=classified', 'word=closely', 'word=clouds', 'word=common', 'word=company', 'word=conglomerate', 'word=contract', 'word=contracted', 'word=cotton', 'word=countries', 'word=crocidolite', 'word=curly', 'word=deaths', 'word=decades', 'word=described', 'word=diagnosed', 'word=died', 'word=different', 'word=director', 'word=diseases', 'word=does', 'word=dry', 'word=dumped', 'word=dust', 'word=dusty', 'word=early', 'word=easily', 'word=enters', 'word=even', 'word=events', 'word=exhaust', 'word=expected', 'word=explained', 'word=exposed', 'word=exposures', 'word=factory', 'word=fans', 'word=far', 'word=few', 'word=fiber', 'word=fibers', 'word=filter', 'word=filters', 'word=finding', 'word=findings', 'word=five', 'word=for', 'word=force', 'word=form', 'word=former', 'word=forum', 'word=found', 'word=from', 'word=gradual', 'word=group', 'word=has', 'word=have', 'word=having', 'word=he', 'word=heard', 'word=high', 'word=higher', 'word=highest', 'word=huge', 'word=human', 'word=hung', 'word=imported', 'word=imposed', 'word=in', 'word=including', 'word=industrial', 'word=industrialized', 'word=information', 'word=into', 'word=is', 'word=it', 'word=its', 'word=join', 'word=kind', 'word=large', 'word=later', 'word=latest', 'word=led', 'word=likely', 'word=lung', 'word=lungs', 'word=made', 'word=make', 'word=makes', 'word=making', 'word=malignant', 'word=managers', 'word=material', 'word=mechanically', 'word=medical', 'word=men', 'word=mesothelioma', 'word=mixed', 'word=modest', 'word=morbidity', 'word=more', 'word=most', \"word=n't\", 'word=named', 'word=nations', 'word=needle-like', 'word=new', 'word=no', 'word=nonexecutive', 'word=nor', 'word=now', 'word=number', 'word=of', 'word=old', 'word=on', 'word=once', 'word=one', 'word=other', 'word=our', 'word=outlawed', 'word=over', 'word=owned', 'word=paper', 'word=particularly', 'word=parts', 'word=pathlogy', 'word=percentage', 'word=place', 'word=plant', 'word=poured', 'word=preliminary', 'word=president', 'word=probably', 'word=problem', 'word=process', 'word=products', 'word=professor', 'word=properties', 'word=publishing', 'word=question', 'word=questionable', 'word=rate', 'word=recently', 'word=recognize', 'word=regulate', 'word=regulation', 'word=rejected', 'word=remaining', 'word=replaced', 'word=reported', 'word=research', 'word=researchers', 'word=resilient', 'word=resources', 'word=results', 'word=risk', 'word=sacks', 'word=said', 'word=schools', 'word=should', 'word=show', 'word=smokers', 'word=smooth', 'word=sold', 'word=some', 'word=spokeswoman', 'word=spokewoman', 'word=standard', 'word=stopped', 'word=story', 'word=striking', 'word=stringently', 'word=studied', 'word=study', 'word=substance', 'word=such', 'word=support', 'word=surviving', 'word=symptoms', 'word=talking', 'word=team', 'word=than', 'word=that', 'word=the', 'word=these', 'word=this', 'word=those', 'word=though', 'word=three', 'word=times', 'word=to', 'word=today', 'word=took', 'word=total', 'word=type', 'word=under', 'word=unit', 'word=unusually', 'word=up', 'word=us', 'word=used', 'word=useful', 'word=users', 'word=uses', 'word=using', 'word=ventilated', 'word=very', 'word=vice', 'word=virtually', 'word=was', 'word=were', 'word=where', 'word=whether', 'word=which', 'word=who', 'word=will', 'word=with', 'word=work', 'word=worked', 'word=workers', 'word=year', 'word=years', 'word=you']\n"
     ]
    }
   ],
   "source": [
    "from itertools import chain\n",
    "import numpy as np\n",
    "import sys \n",
    "\n",
    "# Flatten your list of sentence features into a single list of token features\n",
    "# This ignores the sentence structure and creates a single list of the tokens of all sentence selected\n",
    "tokens_flat = list(chain.from_iterable(penn_train_feature_sequences[:3])) ## selecting three sentence\n",
    "print('Total sequence of words', len(tokens_flat))\n",
    "print()\n",
    "vec = DictVectorizer(sparse=True)\n",
    "penn_vec = vec.fit_transform(tokens_flat)  # Sparse matrix of shape (n_tokens, n_features)\n",
    "\n",
    "print('We now have a list of tokens for the selection of sentences from the Penn treebank, each represented by a long sparse vector.')\n",
    "print('Shape for the total set of tokens', penn_vec.shape)\n",
    "print()\n",
    "# Dense vector for easier viewing\n",
    "for sentence_vec in penn_vec:    \n",
    "    # Dense vector for easier viewing\n",
    "    for token in sentence_vec:\n",
    "        with np.printoptions(threshold=sys.maxsize):\n",
    "            print(token.toarray())\n",
    "    print()\n",
    "    break\n",
    "    \n",
    "# Feature names (column names of the vector)\n",
    "print(list(vec.get_feature_names_out()))"
   ]
  },
  {
   "cell_type": "markdown",
   "id": "b23fc66d-609d-4f06-ac00-84cf58b3a56b",
   "metadata": {},
   "source": [
    "Each token from the first three sentences in the Penn Treebank is represented by the same features but the number of values increased a lot. From the first three sentences it extracted a flat list of 840 tokens, which resulted in a 2181 dimensions, each representing a possible feature-value combination.\n",
    "\n",
    "This is a lot more than the 62 feature-value combinations or dimensions that we got for our \"Fruit flies\" sentence. This is because the open-values grow with each sentence. Try to include more sentences than three from the Penn Treebank and see how the dimensions explode.\n",
    "\n",
    "With 20 sentences, we get a shape of: (5986, 8304), so more than three times the number of dimensions. At some point, the increase of the dimensions will slow down as the same words will be repreated."
   ]
  },
  {
   "cell_type": "markdown",
   "id": "0fdecd23-e441-4f7c-9e85-fcd3ace3b436",
   "metadata": {},
   "source": [
    "## End of notebook"
   ]
  },
  {
   "cell_type": "code",
   "execution_count": 24,
   "id": "7b81472b-d486-4def-a681-ceffb9a9a682",
   "metadata": {},
   "outputs": [
    {
     "name": "stdout",
     "output_type": "stream",
     "text": [
      "Total sequence of words 5986\n",
      "\n",
      "We now have a list of tokens for the selection of sentences from the Penn treebank, each represented by a long sparse vector.\n",
      "Shape for the total set of tokens (5986, 8304)\n",
      "\n",
      "['capitals_inside', 'has_hyphen', 'is_all_caps', 'is_all_lower', 'is_alphanumeric', 'is_capitalized', 'is_first', 'is_last', 'is_numeric', 'next_word=', 'next_word=$', 'next_word=%', 'next_word=&', \"next_word='\", \"next_word=''\", \"next_word='re\", \"next_word='s\", 'next_word=*', 'next_word=*-1', 'next_word=*-10', 'next_word=*-11', 'next_word=*-12', 'next_word=*-13', 'next_word=*-14', 'next_word=*-15', 'next_word=*-16', 'next_word=*-17', 'next_word=*-18', 'next_word=*-19', 'next_word=*-2', 'next_word=*-20', 'next_word=*-21', 'next_word=*-22', 'next_word=*-23', 'next_word=*-24', 'next_word=*-25', 'next_word=*-26', 'next_word=*-27', 'next_word=*-28', 'next_word=*-29', 'next_word=*-3', 'next_word=*-4', 'next_word=*-5', 'next_word=*-6', 'next_word=*-7', 'next_word=*-8', 'next_word=*-9', 'next_word=*?*', 'next_word=*ICH*-1', 'next_word=*ICH*-2', 'next_word=*ICH*-3', 'next_word=*RNR*-1', 'next_word=*RNR*-4', 'next_word=*T*-1', 'next_word=*T*-10', 'next_word=*T*-11', 'next_word=*T*-12', 'next_word=*T*-13', 'next_word=*T*-14', 'next_word=*T*-15', 'next_word=*T*-16', 'next_word=*T*-17', 'next_word=*T*-18', 'next_word=*T*-19', 'next_word=*T*-2', 'next_word=*T*-20', 'next_word=*T*-21', 'next_word=*T*-22', 'next_word=*T*-23', 'next_word=*T*-24', 'next_word=*T*-25', 'next_word=*T*-26', 'next_word=*T*-27', 'next_word=*T*-28', 'next_word=*T*-3', 'next_word=*T*-4', 'next_word=*T*-5', 'next_word=*T*-6', 'next_word=*T*-7', 'next_word=*T*-8', 'next_word=*T*-9', 'next_word=*U*', 'next_word=,', 'next_word=--', 'next_word=-LCB-', 'next_word=-RCB-', 'next_word=.', 'next_word=...', 'next_word=0', 'next_word=0.4', 'next_word=0.7', 'next_word=1', 'next_word=1,620', 'next_word=1.5', 'next_word=1.55', 'next_word=10-lap', 'next_word=100', 'next_word=100,980', 'next_word=101', 'next_word=11', 'next_word=12', 'next_word=12-member', 'next_word=12.5', 'next_word=120', 'next_word=120,000', 'next_word=125', 'next_word=13,056', 'next_word=140', 'next_word=15', 'next_word=16', 'next_word=160', 'next_word=17', 'next_word=18', 'next_word=19', 'next_word=19.3', 'next_word=190', 'next_word=195', 'next_word=1950s', 'next_word=1953', 'next_word=1955', 'next_word=1956', 'next_word=1985', 'next_word=1986', 'next_word=1988', 'next_word=1989', 'next_word=1990', 'next_word=1991', 'next_word=1997', 'next_word=1\\\\/2', 'next_word=2', 'next_word=2,303,328', 'next_word=2,700', 'next_word=2.2', 'next_word=2.25', 'next_word=2.29', 'next_word=2.5', 'next_word=2.6', 'next_word=2.80', 'next_word=2.87', 'next_word=2.875', 'next_word=20', 'next_word=20.5', 'next_word=21', 'next_word=212', 'next_word=22', 'next_word=240,000', 'next_word=241', 'next_word=245', 'next_word=25', 'next_word=250', 'next_word=27', 'next_word=28', 'next_word=29', 'next_word=295', 'next_word=3', 'next_word=3,288,453', 'next_word=3.01', 'next_word=3.1', 'next_word=3.2', 'next_word=3.75', 'next_word=30', 'next_word=30,841', 'next_word=30-day', 'next_word=301', 'next_word=31', 'next_word=325,000', 'next_word=33', 'next_word=340,000', 'next_word=35', 'next_word=352.7', 'next_word=361,376', 'next_word=37', 'next_word=370', 'next_word=38', 'next_word=38.375', 'next_word=4', 'next_word=4,393,237', 'next_word=4.75', 'next_word=4.8', 'next_word=40', 'next_word=400', 'next_word=41', 'next_word=43', 'next_word=45', 'next_word=450', 'next_word=47', 'next_word=49', 'next_word=5', 'next_word=5.29', 'next_word=5.39', 'next_word=5.5', 'next_word=5.9', 'next_word=50', 'next_word=50.38', 'next_word=50.45', 'next_word=500', 'next_word=500,004', 'next_word=52', 'next_word=53', 'next_word=55', 'next_word=59', 'next_word=60', 'next_word=600,000', 'next_word=61', 'next_word=63', 'next_word=64-year-old', 'next_word=68', 'next_word=7.3', 'next_word=7.5', 'next_word=7.90', 'next_word=71', 'next_word=72.7', 'next_word=737.5', 'next_word=8.04', 'next_word=8.12', 'next_word=8.14', 'next_word=8.19', 'next_word=8.22', 'next_word=8.45', 'next_word=8.47', 'next_word=8.53', 'next_word=8.56', 'next_word=83.4', 'next_word=9', 'next_word=9.37', 'next_word=9.45', 'next_word=9.8', 'next_word=98.3', 'next_word=:', 'next_word=;', 'next_word=A', 'next_word=A.', 'next_word=About', 'next_word=According', 'next_word=After', 'next_word=Agency', 'next_word=Agnew', 'next_word=Alan', 'next_word=All', 'next_word=Along', 'next_word=Although', 'next_word=American', 'next_word=Among', 'next_word=Analysts', 'next_word=And', 'next_word=Appellate', 'next_word=April', 'next_word=Arabia', 'next_word=Areas', 'next_word=Arthur', 'next_word=Assets', 'next_word=Association', 'next_word=At', 'next_word=Audit', 'next_word=August', 'next_word=Automobile', 'next_word=Average', 'next_word=B.', 'next_word=Babcock', 'next_word=Back', 'next_word=Bailey', 'next_word=Banking', 'next_word=Barnum', 'next_word=Belt', 'next_word=Besides', 'next_word=Big', 'next_word=Blanchard', 'next_word=Boca', 'next_word=Bolduc', 'next_word=Borge', 'next_word=Boston', 'next_word=Both', 'next_word=Braidwood', 'next_word=Brazil', 'next_word=Brenda', 'next_word=British', 'next_word=Brooke', 'next_word=Bureau', 'next_word=Business', 'next_word=But', 'next_word=By', 'next_word=Byron', 'next_word=C-90', 'next_word=CEOs', 'next_word=Canada', 'next_word=Cancer', 'next_word=Carla', 'next_word=Carney', 'next_word=Champagne', 'next_word=Chapter', 'next_word=Cheese', 'next_word=China', 'next_word=Chinchon', 'next_word=Chrysler', 'next_word=Circuit', 'next_word=Circulation', 'next_word=Circulations', 'next_word=City', 'next_word=Co.', 'next_word=College', 'next_word=Colo.', 'next_word=Colorado', 'next_word=Commerce', 'next_word=Commission', 'next_word=Commonwealth', 'next_word=Compound', 'next_word=Computer', 'next_word=Congress', 'next_word=Conn', 'next_word=Conn.', 'next_word=Consolidated', 'next_word=Controls', 'next_word=Corp', 'next_word=Corp.', 'next_word=Court', 'next_word=Cray', 'next_word=Cray-3', 'next_word=Credit', 'next_word=Curry', 'next_word=D.', 'next_word=Dana-Farber', 'next_word=Daniel', 'next_word=Daniels', 'next_word=Darrell', 'next_word=Davenport', 'next_word=Dealers', 'next_word=Deane', 'next_word=Dec.', 'next_word=Despite', 'next_word=Documents', 'next_word=Dollar', 'next_word=Donald', 'next_word=Donoghue', 'next_word=Douglas', 'next_word=Dr.', 'next_word=Dreyfus', 'next_word=Du', 'next_word=Dutch', 'next_word=Eastern', 'next_word=Edison', 'next_word=Electric', 'next_word=Elsevier', 'next_word=Energy', 'next_word=England', 'next_word=Environmental', 'next_word=Exchange', 'next_word=Exports', 'next_word=FERC', 'next_word=Factory', 'next_word=Feb.', 'next_word=February', 'next_word=Federal', 'next_word=Fields', 'next_word=Financial', 'next_word=Finmeccanica', 'next_word=First', 'next_word=For', 'next_word=Fortune', 'next_word=Four', 'next_word=Frederick', 'next_word=From', 'next_word=Fujitsu', 'next_word=Fund', 'next_word=Gary', 'next_word=Glauber', 'next_word=Gold', 'next_word=Government', 'next_word=Grace', 'next_word=Greece', 'next_word=Gregory', 'next_word=Groton', 'next_word=Group', 'next_word=H.', 'next_word=Hammerton', 'next_word=Hampshire', 'next_word=Hartford', 'next_word=Harvard', 'next_word=Hatch', 'next_word=Haven', 'next_word=He', 'next_word=Hills', 'next_word=Hitachi', 'next_word=Hoffman', 'next_word=Hollingsworth', 'next_word=Hoosier', 'next_word=Hot', 'next_word=House', 'next_word=However', 'next_word=Hudnut', 'next_word=I', 'next_word=IBC', 'next_word=III', 'next_word=Ill.', 'next_word=Illinois', 'next_word=Illuminating', 'next_word=Imports', 'next_word=In', 'next_word=Inc.', 'next_word=India', 'next_word=Indiana', 'next_word=Indianapolis', 'next_word=Industry', 'next_word=Information', 'next_word=Instead', 'next_word=Institute', 'next_word=Instruments', 'next_word=International', 'next_word=It', 'next_word=Italian', 'next_word=Italy', 'next_word=J.', 'next_word=James', 'next_word=January', 'next_word=Japan', 'next_word=Japanese', 'next_word=John', 'next_word=Joseph', 'next_word=Journal', 'next_word=Jr.', 'next_word=Judge', 'next_word=July', 'next_word=Kent', 'next_word=Knowing', 'next_word=Korea', 'next_word=LaSalle', 'next_word=Last', 'next_word=Legislation', 'next_word=Loews', 'next_word=Longer', 'next_word=Lorillard', 'next_word=Ltd', 'next_word=Ltd.', 'next_word=M.', 'next_word=Machines', 'next_word=Malaysia', 'next_word=Malcolm', 'next_word=Malizia', 'next_word=Manchester', 'next_word=Manufacturers', 'next_word=March', 'next_word=Mass.', 'next_word=May', 'next_word=Mayor', 'next_word=Maytag', 'next_word=Mazda', 'next_word=Medicine', 'next_word=Messrs.', 'next_word=Mexico', 'next_word=Micronite', 'next_word=Ministry', 'next_word=Minneapolis', 'next_word=Minneapolis-based', 'next_word=Monday', 'next_word=Money', 'next_word=More', 'next_word=Moreover', 'next_word=Mortimer', 'next_word=Mossman', 'next_word=Motor', 'next_word=Mr.', 'next_word=Mrs.', 'next_word=N.H.', 'next_word=N.V.', 'next_word=NEC', 'next_word=Nasdaq', 'next_word=National', 'next_word=Negus', 'next_word=Neil', 'next_word=Neither', 'next_word=Nevertheless', 'next_word=New', 'next_word=News', 'next_word=Newsweek', 'next_word=No', 'next_word=Northeast', 'next_word=Not', 'next_word=Nov.', 'next_word=Now', 'next_word=October', 'next_word=Ohio', 'next_word=On', 'next_word=Operations', 'next_word=Orchestra', 'next_word=P.', 'next_word=PLC', 'next_word=PS', 'next_word=Pardus', 'next_word=Phillips', 'next_word=Plan', 'next_word=Plans', 'next_word=Pont', 'next_word=Post', 'next_word=Preliminary', 'next_word=Previously', 'next_word=Pro-forma', 'next_word=Protection', 'next_word=Public', 'next_word=Publishers', 'next_word=Queen', 'next_word=R', 'next_word=R.', 'next_word=Raton', 'next_word=Regarded', 'next_word=Regulatory', 'next_word=Report', 'next_word=Representative', 'next_word=Research', 'next_word=Rexinger', 'next_word=Richard', 'next_word=Ricken', 'next_word=Robert', 'next_word=Rockford', 'next_word=Roof', 'next_word=Ross', 'next_word=Rothschild', 'next_word=Rowe', 'next_word=Royal', 'next_word=Rust', 'next_word=S.p', 'next_word=SEC', 'next_word=Sales', 'next_word=Saudi', 'next_word=Securities', 'next_word=Senate', 'next_word=Seoul', 'next_word=Separately', 'next_word=September', 'next_word=Service', 'next_word=Seymour', 'next_word=She', 'next_word=Shorter', 'next_word=Signet', 'next_word=Smaby', 'next_word=So', 'next_word=South', 'next_word=Spain', 'next_word=Speedway', 'next_word=Spoon', 'next_word=Springs', 'next_word=State', 'next_word=Steel', 'next_word=Stevens', 'next_word=Stock', 'next_word=Supreme', 'next_word=Symphony', 'next_word=System', 'next_word=T.', 'next_word=Taipei', 'next_word=Taiwan', 'next_word=Talcott', 'next_word=Tassinari', 'next_word=Terrence', 'next_word=Texas', 'next_word=Thailand', 'next_word=That', 'next_word=The', 'next_word=Then', 'next_word=There', 'next_word=These', 'next_word=They', 'next_word=This', 'next_word=Those', 'next_word=Three', 'next_word=Time', 'next_word=Toronto', 'next_word=Toys', 'next_word=Trade', 'next_word=Treasury', 'next_word=Trojan', 'next_word=Trustco', 'next_word=Tuesday', 'next_word=Turkey', 'next_word=Typically', 'next_word=U.S.', 'next_word=Under', 'next_word=United', 'next_word=University', 'next_word=Until', 'next_word=Us', 'next_word=Utilities', 'next_word=Valley', 'next_word=Vermont', 'next_word=Victor', 'next_word=Vinken', 'next_word=Vitulli', 'next_word=Vose', 'next_word=W.R.', 'next_word=Warner', 'next_word=Washington', 'next_word=We', 'next_word=Wednesday', 'next_word=West', 'next_word=Westborough', 'next_word=Western', 'next_word=What', 'next_word=Wheeland', 'next_word=When', 'next_word=While', 'next_word=Wickliffe', 'next_word=Wilbur', 'next_word=Wilcox', 'next_word=William', 'next_word=Without', 'next_word=Workers', 'next_word=World', 'next_word=World-Wide', 'next_word=York', 'next_word=York-based', 'next_word=You', 'next_word=Zuckerman', 'next_word=``', 'next_word=a', 'next_word=able', 'next_word=about', 'next_word=accelerated', 'next_word=according', 'next_word=accumulated', 'next_word=acetate', 'next_word=acquire', 'next_word=acquisition', 'next_word=act', 'next_word=acts', 'next_word=actual', 'next_word=ad', 'next_word=added', 'next_word=addition', 'next_word=additional', 'next_word=addresses', 'next_word=administrative', 'next_word=advertisers', 'next_word=advertising', 'next_word=adviser', 'next_word=after', 'next_word=again', 'next_word=against', 'next_word=age', 'next_word=ago', 'next_word=agreement', 'next_word=aid', 'next_word=all', 'next_word=allegedly', 'next_word=almost', 'next_word=along', 'next_word=already', 'next_word=also', 'next_word=although', 'next_word=amending', 'next_word=amid', 'next_word=among', 'next_word=amount', 'next_word=amounts', 'next_word=amphobiles', 'next_word=an', 'next_word=and', 'next_word=announce', 'next_word=announced', 'next_word=announcer', 'next_word=annual', 'next_word=another', 'next_word=anticipated', 'next_word=anticipates', 'next_word=any', 'next_word=anyone', 'next_word=appealing', 'next_word=appeals', 'next_word=appear', 'next_word=appears', 'next_word=appliances', 'next_word=applied', 'next_word=apply', 'next_word=approval', 'next_word=approved', 'next_word=are', 'next_word=area', 'next_word=argue', 'next_word=arising', 'next_word=arm', 'next_word=around', 'next_word=arrangement', 'next_word=arsenide', 'next_word=as', 'next_word=asbestos', 'next_word=asbestos-related', 'next_word=asbestosis', 'next_word=asserted', 'next_word=assets', 'next_word=assume', 'next_word=at', 'next_word=attached', 'next_word=attempt', 'next_word=attempts', 'next_word=attention', 'next_word=attracts', 'next_word=auction', 'next_word=audit', 'next_word=authority', 'next_word=authors', 'next_word=auto', 'next_word=average', 'next_word=awards', 'next_word=aware', 'next_word=away', 'next_word=bad', 'next_word=balance', 'next_word=ballroom', 'next_word=ban', 'next_word=bankruptcy', 'next_word=banned', 'next_word=base', 'next_word=based', 'next_word=be', 'next_word=bearing', 'next_word=beat', 'next_word=because', 'next_word=become', 'next_word=been', 'next_word=before', 'next_word=began', 'next_word=begin', 'next_word=beginning', 'next_word=being', 'next_word=believe', 'next_word=believes', 'next_word=below', 'next_word=benefited', 'next_word=best', 'next_word=between', 'next_word=biannual', 'next_word=bid', 'next_word=bidders', 'next_word=bidding', 'next_word=big', 'next_word=bilateral', 'next_word=billion', 'next_word=bills', 'next_word=bin', 'next_word=blip', 'next_word=block', 'next_word=blue', 'next_word=board', 'next_word=boarding', 'next_word=body', 'next_word=bonds', 'next_word=bonuses', 'next_word=book', 'next_word=boom', 'next_word=boosts', 'next_word=borrowing', 'next_word=both', 'next_word=bowed', 'next_word=breakfast', 'next_word=brief', 'next_word=bring', 'next_word=buckle', 'next_word=buffet', 'next_word=buildings', 'next_word=burlap', 'next_word=buses', 'next_word=business', 'next_word=busloads', 'next_word=but', 'next_word=by', 'next_word=calculate', 'next_word=calculations', 'next_word=called', 'next_word=came', 'next_word=can', 'next_word=cancer', 'next_word=cancer-causing', 'next_word=capital', 'next_word=capital-gains', 'next_word=capture', 'next_word=cars', 'next_word=case', 'next_word=cases', 'next_word=cash', 'next_word=casting', 'next_word=caused', 'next_word=causing', 'next_word=ceiling', 'next_word=cents', 'next_word=chain', 'next_word=chairman', 'next_word=challenge', 'next_word=changed', 'next_word=chefs', 'next_word=chief', 'next_word=chip', 'next_word=chips', 'next_word=chocolate', 'next_word=choice', 'next_word=chrysotile', 'next_word=cigarette', 'next_word=cigarettes', 'next_word=circulation', 'next_word=citizens', 'next_word=city', 'next_word=claiming', 'next_word=class', 'next_word=classified', 'next_word=clearly', 'next_word=close', 'next_word=closed', 'next_word=closely', 'next_word=cloud', 'next_word=clouds', 'next_word=cluttered', 'next_word=collected', 'next_word=collecting', 'next_word=collections', 'next_word=combined', 'next_word=come', 'next_word=comment', 'next_word=commission', 'next_word=common', 'next_word=companies', 'next_word=company', 'next_word=comparable', 'next_word=compared', 'next_word=compatible', 'next_word=compel', 'next_word=compete', 'next_word=competition', 'next_word=competitor', 'next_word=complained', 'next_word=complete', 'next_word=completed', 'next_word=completely', 'next_word=complicate', 'next_word=complicated', 'next_word=composite', 'next_word=compound', 'next_word=computer', 'next_word=computerized', 'next_word=concept', 'next_word=concern', 'next_word=concerned', 'next_word=concerns', 'next_word=confines', 'next_word=conflicts', 'next_word=conglomerate', 'next_word=considered', 'next_word=considering', 'next_word=consomme', 'next_word=construction', 'next_word=consumer', 'next_word=consumption', 'next_word=contain', 'next_word=continue', 'next_word=continued', 'next_word=continues', 'next_word=continuing', 'next_word=contract', 'next_word=contracted', 'next_word=contractor', 'next_word=control', 'next_word=controls', 'next_word=copyright', 'next_word=copyrights', 'next_word=corporate', 'next_word=cost', 'next_word=costs', 'next_word=cotton', 'next_word=could', 'next_word=countries', 'next_word=country', 'next_word=course', 'next_word=court', 'next_word=court-ordered', 'next_word=courts', 'next_word=craft', 'next_word=creating', 'next_word=creativity', 'next_word=credits', 'next_word=crews', 'next_word=crocidolite', 'next_word=curly', 'next_word=current', 'next_word=currently', 'next_word=customers', 'next_word=cutting', 'next_word=dancing', 'next_word=day', 'next_word=days', 'next_word=deaths', 'next_word=debt', 'next_word=decades', 'next_word=decide', 'next_word=decided', 'next_word=decision', 'next_word=decline', 'next_word=declines', 'next_word=declining', 'next_word=decrease', 'next_word=deemed', 'next_word=default', 'next_word=deficit', 'next_word=degrees', 'next_word=demand', 'next_word=denial', 'next_word=department', 'next_word=depend', 'next_word=describe', 'next_word=described', 'next_word=designer', 'next_word=dessert', 'next_word=details', 'next_word=determined', 'next_word=deterring', 'next_word=development', 'next_word=developments', 'next_word=devices', 'next_word=diagnosed', 'next_word=did', 'next_word=died', 'next_word=different', 'next_word=differential', 'next_word=dinner', 'next_word=diplomacy', 'next_word=direct', 'next_word=directly', 'next_word=director', 'next_word=directors', 'next_word=disclosed', 'next_word=discounts', 'next_word=discouraging', 'next_word=diseases', 'next_word=disputed', 'next_word=disputes', 'next_word=disregard', 'next_word=distribution', 'next_word=disturbing', 'next_word=diversifying', 'next_word=dividends', 'next_word=division', 'next_word=do', 'next_word=documents', 'next_word=does', 'next_word=doing', 'next_word=dollar-denominated', 'next_word=domestic', 'next_word=doubled', 'next_word=down', 'next_word=downtown', 'next_word=drain', 'next_word=drinks', 'next_word=drivers', 'next_word=drooled', 'next_word=drop', 'next_word=dropped', 'next_word=dry', 'next_word=duckling', 'next_word=dummies', 'next_word=dumped', 'next_word=during', 'next_word=dust', 'next_word=dusty', 'next_word=each', 'next_word=earlier', 'next_word=earliest', 'next_word=early', 'next_word=earnings', 'next_word=eased', 'next_word=easily', 'next_word=eat', 'next_word=economic', 'next_word=economy', 'next_word=editor', 'next_word=effective', 'next_word=effectively', 'next_word=efficiencies', 'next_word=efforts', 'next_word=either', 'next_word=elaborate', 'next_word=elected', 'next_word=electric', 'next_word=electric-utility', 'next_word=electricity', 'next_word=electronic', 'next_word=electronics', 'next_word=emerges', 'next_word=employs', 'next_word=enact', 'next_word=end', 'next_word=ended', 'next_word=energy-services', 'next_word=enforcement', 'next_word=engineering', 'next_word=enough', 'next_word=ensnarled', 'next_word=enters', 'next_word=entertain', 'next_word=equipment', 'next_word=equity', 'next_word=escort', 'next_word=estimated', 'next_word=evaluated', 'next_word=even', 'next_word=evening', 'next_word=events', 'next_word=ever', 'next_word=every', 'next_word=everyday', 'next_word=exact', 'next_word=example', 'next_word=exceed', 'next_word=execs', 'next_word=executive', 'next_word=executives', 'next_word=exhaust', 'next_word=exhibition', 'next_word=existed', 'next_word=expand', 'next_word=expect', 'next_word=expected', 'next_word=expects', 'next_word=expedited', 'next_word=expenses', 'next_word=explained', 'next_word=export-oriented', 'next_word=exports', 'next_word=exposed', 'next_word=exposures', 'next_word=face', 'next_word=faces', 'next_word=fact', 'next_word=factors', 'next_word=factory', 'next_word=failing', 'next_word=fall', 'next_word=fans', 'next_word=far', 'next_word=father', 'next_word=favored', 'next_word=fed', 'next_word=federal', 'next_word=fees', 'next_word=fell', 'next_word=few', 'next_word=fewer', 'next_word=fiber', 'next_word=fibers', 'next_word=field', 'next_word=fierce', 'next_word=fifth', 'next_word=fight', 'next_word=figures', 'next_word=filed', 'next_word=filing', 'next_word=films', 'next_word=filter', 'next_word=filters', 'next_word=financial', 'next_word=financing', 'next_word=finding', 'next_word=findings', 'next_word=fine', 'next_word=firm', 'next_word=firms', 'next_word=first', 'next_word=five', 'next_word=fixtures', 'next_word=flat', 'next_word=fledgling', 'next_word=followed', 'next_word=food', 'next_word=for', 'next_word=force', 'next_word=forecast', 'next_word=forecasts', 'next_word=foreign', 'next_word=form', 'next_word=former', 'next_word=formerly', 'next_word=forum', 'next_word=forward', 'next_word=found', 'next_word=four', 'next_word=four-color', 'next_word=fraction', 'next_word=fragile', 'next_word=free', 'next_word=from', 'next_word=full', 'next_word=fully', 'next_word=fund', 'next_word=funds', 'next_word=further', 'next_word=future', 'next_word=gaining', 'next_word=gains', 'next_word=gallium', 'next_word=gave', 'next_word=general', 'next_word=genuine', 'next_word=giants', 'next_word=give', 'next_word=giveaways', 'next_word=gloomy', 'next_word=go', 'next_word=good', 'next_word=got', 'next_word=government', 'next_word=governor', 'next_word=gradual', 'next_word=grew', 'next_word=group', 'next_word=groups', 'next_word=growing', 'next_word=growth', 'next_word=guaranteed', 'next_word=guest', 'next_word=guests', 'next_word=had', 'next_word=half', 'next_word=hand', 'next_word=handling', 'next_word=hard', 'next_word=hardware', 'next_word=harms', 'next_word=has', 'next_word=hauled', 'next_word=have', 'next_word=having', 'next_word=he', 'next_word=heads', 'next_word=heard', 'next_word=heartland', 'next_word=heavily', 'next_word=heavy', 'next_word=held', 'next_word=help', 'next_word=high', 'next_word=high-technology', 'next_word=higher', 'next_word=highest', 'next_word=him', 'next_word=his', 'next_word=holders', 'next_word=holding', 'next_word=holds', 'next_word=honor', 'next_word=hook', 'next_word=hope', 'next_word=hopes', 'next_word=hostage', 'next_word=hotel', 'next_word=hottest', 'next_word=household', 'next_word=huge', 'next_word=human', 'next_word=hung', 'next_word=hurting', 'next_word=idea', 'next_word=if', 'next_word=illegal', 'next_word=imported', 'next_word=imports', 'next_word=imposed', 'next_word=improve', 'next_word=improved', 'next_word=improvements', 'next_word=in', 'next_word=inadequate', 'next_word=incentive', 'next_word=inched', 'next_word=include', 'next_word=includes', 'next_word=including', 'next_word=increase', 'next_word=increased', 'next_word=increases', 'next_word=increasing', 'next_word=incurred', 'next_word=independent', 'next_word=indicate', 'next_word=indicator', 'next_word=industrial', 'next_word=industrialized', 'next_word=industry', 'next_word=information', 'next_word=initial', 'next_word=initialing', 'next_word=instituted', 'next_word=institutions', 'next_word=intellectual', 'next_word=intellectual-property', 'next_word=intense', 'next_word=interest', 'next_word=interests', 'next_word=interim', 'next_word=internal', 'next_word=international', 'next_word=interview', 'next_word=into', 'next_word=introduce', 'next_word=introducing', 'next_word=introduction', 'next_word=inventiveness', 'next_word=investigation', 'next_word=investigations', 'next_word=investing', 'next_word=investments', 'next_word=investor', 'next_word=investors', 'next_word=invests', 'next_word=involving', 'next_word=is', 'next_word=issue', 'next_word=it', 'next_word=its', 'next_word=jet', 'next_word=join', 'next_word=joined', 'next_word=jump', 'next_word=just', 'next_word=justify', 'next_word=keep', 'next_word=kind', 'next_word=knowns', 'next_word=labor', 'next_word=large', 'next_word=largest', 'next_word=last', 'next_word=later', 'next_word=latest', 'next_word=lauded', 'next_word=law', 'next_word=lawyer', 'next_word=least', 'next_word=leave', 'next_word=leaves', 'next_word=led', 'next_word=legislation', 'next_word=lengthened', 'next_word=less', 'next_word=less-serious', 'next_word=lesser', 'next_word=lieutenant', 'next_word=lift', 'next_word=lifted', 'next_word=lights', 'next_word=like', 'next_word=likely', 'next_word=link', 'next_word=list', 'next_word=literary', 'next_word=lobster', 'next_word=local', 'next_word=located', 'next_word=long', 'next_word=longer', 'next_word=longest', 'next_word=longevity', 'next_word=looking', 'next_word=loss', 'next_word=lower', 'next_word=lower-priority', 'next_word=lowered', 'next_word=lung', 'next_word=lungs', 'next_word=machine', 'next_word=machines', 'next_word=made', 'next_word=magazine', 'next_word=maintaining', 'next_word=make', 'next_word=maker', 'next_word=makers', 'next_word=makes', 'next_word=making', 'next_word=malignant', 'next_word=management', 'next_word=manager', 'next_word=managers', 'next_word=manufacture', 'next_word=manufacturing', 'next_word=many', 'next_word=market', 'next_word=marketing', 'next_word=marketplace', 'next_word=material', 'next_word=matter', 'next_word=matters', 'next_word=maturities', 'next_word=maturity', 'next_word=may', 'next_word=meal', 'next_word=measure', 'next_word=mechanical', 'next_word=mechanically', 'next_word=medical', 'next_word=medium-sized', 'next_word=meet', 'next_word=meeting', 'next_word=meetings', 'next_word=men', 'next_word=mere', 'next_word=merit', 'next_word=mesothelioma', 'next_word=message', 'next_word=mid-October', 'next_word=midnight', 'next_word=might', 'next_word=mignon', 'next_word=miles', 'next_word=million', 'next_word=minute', 'next_word=mixed', 'next_word=modest', 'next_word=money', 'next_word=money-fund', 'next_word=money-market', 'next_word=month', 'next_word=monthly', 'next_word=months', 'next_word=moons', 'next_word=morbidity', 'next_word=more', 'next_word=morning', 'next_word=most', 'next_word=motor', 'next_word=mousseline', 'next_word=move', 'next_word=moved', 'next_word=movie', 'next_word=much', 'next_word=museum', 'next_word=mutual', \"next_word=n't\", 'next_word=name', 'next_word=named', 'next_word=nation', 'next_word=nations', 'next_word=near', 'next_word=needing', 'next_word=needle-like', 'next_word=negotiations', 'next_word=negotiators', 'next_word=new', 'next_word=news', 'next_word=newsweekly', 'next_word=next', 'next_word=nightmare', 'next_word=nine', 'next_word=no', 'next_word=none', 'next_word=nonexecutive', 'next_word=nor', 'next_word=not', 'next_word=note', 'next_word=noted', 'next_word=now', 'next_word=nuclear', 'next_word=number', 'next_word=obligations', 'next_word=obtain', 'next_word=occur', 'next_word=of', 'next_word=off', 'next_word=offending', 'next_word=offer', 'next_word=offered', 'next_word=officer', 'next_word=officers', 'next_word=official', 'next_word=officials', 'next_word=old', 'next_word=on', 'next_word=once', 'next_word=one', 'next_word=only', 'next_word=open', 'next_word=opened', 'next_word=operating', 'next_word=operational', 'next_word=operations', 'next_word=or', 'next_word=order', 'next_word=ordered', 'next_word=orders', 'next_word=other', 'next_word=our', 'next_word=out', 'next_word=outlawed', 'next_word=outside', 'next_word=ovation', 'next_word=over', 'next_word=overruns', 'next_word=overseas', 'next_word=oversee', 'next_word=own', 'next_word=owned', 'next_word=owners', 'next_word=owns', 'next_word=pace', 'next_word=page', 'next_word=pages', 'next_word=paid', 'next_word=paper', 'next_word=parlors', 'next_word=part', 'next_word=particularly', 'next_word=parts', 'next_word=passenger', 'next_word=past', 'next_word=patent', 'next_word=patents', 'next_word=pathlogy', 'next_word=pay', 'next_word=paying', 'next_word=payoff', 'next_word=pending', 'next_word=people', 'next_word=per', 'next_word=percentage', 'next_word=performance', 'next_word=perhaps', 'next_word=period', 'next_word=permanent', 'next_word=permit', 'next_word=persistent', 'next_word=pharmaceutical', 'next_word=pianist-comedian', 'next_word=piracy', 'next_word=pirates', 'next_word=place', 'next_word=placed', 'next_word=places', 'next_word=plan', 'next_word=plant', 'next_word=plus', 'next_word=point', 'next_word=pointed', 'next_word=police', 'next_word=political', 'next_word=pool', 'next_word=poor', 'next_word=portfolio', 'next_word=pose', 'next_word=position', 'next_word=positions', 'next_word=possible', 'next_word=posted', 'next_word=potential', 'next_word=pour', 'next_word=poured', 'next_word=power', 'next_word=powwow', 'next_word=precedent', 'next_word=preliminary', 'next_word=presence', 'next_word=president', 'next_word=presumably', 'next_word=previous', 'next_word=previously', 'next_word=price', 'next_word=priced', 'next_word=primarily', 'next_word=priority', 'next_word=probably', 'next_word=problem', 'next_word=problems', 'next_word=procedures', 'next_word=proceedings', 'next_word=process', 'next_word=processors', 'next_word=produce', 'next_word=producers', 'next_word=product-design', 'next_word=products', 'next_word=professor', 'next_word=profit', 'next_word=progress', 'next_word=project', 'next_word=prolonged', 'next_word=promissory', 'next_word=prompted', 'next_word=properties', 'next_word=property', 'next_word=proposed', 'next_word=prosecutors', 'next_word=prospects', 'next_word=protect', 'next_word=protecting', 'next_word=protection', 'next_word=protections', 'next_word=prototype', 'next_word=prove', 'next_word=providing', 'next_word=provision', 'next_word=public', 'next_word=publishing', 'next_word=purchase', 'next_word=pursue', 'next_word=question', 'next_word=questionable', 'next_word=race', 'next_word=raced', 'next_word=raise', 'next_word=raising', 'next_word=range', 'next_word=raspberry', 'next_word=rate', 'next_word=ratepayers', 'next_word=rates', 'next_word=rather', 'next_word=reached', 'next_word=realization', 'next_word=receive', 'next_word=received', 'next_word=receiving', 'next_word=recent', 'next_word=recently', 'next_word=recognition', 'next_word=recognize', 'next_word=record', 'next_word=recorded', 'next_word=records', 'next_word=red', 'next_word=red-carpet', 'next_word=reductions', 'next_word=refile', 'next_word=reflecting', 'next_word=refund', 'next_word=refunded', 'next_word=refunds', 'next_word=registered', 'next_word=regulate', 'next_word=regulation', 'next_word=regulatory', 'next_word=reinvestment', 'next_word=rejected', 'next_word=related', 'next_word=relatively', 'next_word=released', 'next_word=remain', 'next_word=remaining', 'next_word=removed', 'next_word=renewal', 'next_word=renovated', 'next_word=reorganization', 'next_word=replaced', 'next_word=report', 'next_word=reported', 'next_word=reports', 'next_word=request', 'next_word=require', 'next_word=required', 'next_word=requires', 'next_word=research', 'next_word=researchers', 'next_word=resigned', 'next_word=resilient', 'next_word=resort', 'next_word=resources', 'next_word=result', 'next_word=results', 'next_word=retailing', 'next_word=retain', 'next_word=retaliation', 'next_word=retired', 'next_word=return', 'next_word=revenue', 'next_word=review', 'next_word=reward', 'next_word=rewards', 'next_word=rights', 'next_word=rises', 'next_word=rising', 'next_word=risk', 'next_word=risks', 'next_word=rival', 'next_word=robotic', 'next_word=rock', 'next_word=roll', 'next_word=rose', 'next_word=round', 'next_word=royalty', 'next_word=rule', 'next_word=ruled', 'next_word=ruling', 'next_word=rusty', 'next_word=sacks', 'next_word=said', 'next_word=sale', 'next_word=sales', 'next_word=same', 'next_word=sanctions', 'next_word=sauce', 'next_word=savings', 'next_word=say', 'next_word=saying', 'next_word=says', 'next_word=scenario', 'next_word=schoolboys', 'next_word=schools', 'next_word=scientists', 'next_word=scrapped', 'next_word=scrutiny', 'next_word=search-and-seizure', 'next_word=seats', 'next_word=second', 'next_word=securities', 'next_word=seeking', 'next_word=seemed', 'next_word=senior', 'next_word=service', 'next_word=set', 'next_word=setback', 'next_word=setting', 'next_word=settled', 'next_word=seven', 'next_word=seven-day', 'next_word=several', 'next_word=share', 'next_word=shareholders', 'next_word=shares', 'next_word=sharply', 'next_word=she', 'next_word=sheet', 'next_word=sheets', 'next_word=shore', 'next_word=short-term', 'next_word=should', 'next_word=show', 'next_word=showed', 'next_word=showing', 'next_word=showings', 'next_word=sign', 'next_word=signs', 'next_word=simple', 'next_word=since', 'next_word=six', 'next_word=six-month', 'next_word=slash', 'next_word=slid', 'next_word=slide', 'next_word=slow', 'next_word=sluggish', 'next_word=sluggishness', 'next_word=small', 'next_word=smokers', 'next_word=smooth', 'next_word=so', 'next_word=so-called', 'next_word=software', 'next_word=sold', 'next_word=some', 'next_word=sooner', 'next_word=space', 'next_word=special', 'next_word=specializing', 'next_word=speed', 'next_word=speedway', 'next_word=spending', 'next_word=spent', 'next_word=spinoff', 'next_word=spokesman', 'next_word=spokeswoman', 'next_word=spokewoman', 'next_word=sponsor', 'next_word=spring', 'next_word=squeezed', 'next_word=standard', 'next_word=standards', 'next_word=standing', 'next_word=stars', 'next_word=starters', 'next_word=state', 'next_word=state-owned', 'next_word=stiff', 'next_word=still', 'next_word=stock', 'next_word=stockholders', 'next_word=stood', 'next_word=stopped', 'next_word=story', 'next_word=striking', 'next_word=stringently', 'next_word=strings', 'next_word=strong', 'next_word=stronger', 'next_word=studied', 'next_word=study', 'next_word=subject', 'next_word=subscriber', 'next_word=subscribers', 'next_word=substance', 'next_word=substantial', 'next_word=succeed', 'next_word=succeeds', 'next_word=success', 'next_word=such', 'next_word=suffer', 'next_word=summer', 'next_word=summer\\\\/winter', 'next_word=sunny', 'next_word=supercomputer', 'next_word=supercomputers', 'next_word=support', 'next_word=surplus', 'next_word=survival', 'next_word=surviving', 'next_word=suspended', 'next_word=symptoms', 'next_word=systems', 'next_word=take', 'next_word=talking', 'next_word=tallies', 'next_word=target', 'next_word=task', 'next_word=tasty', 'next_word=tax', 'next_word=taxable', 'next_word=taxes', 'next_word=team', 'next_word=teams', 'next_word=technology', 'next_word=telephones', 'next_word=tells', 'next_word=tempts', 'next_word=terms', 'next_word=terrine', 'next_word=than', 'next_word=that', 'next_word=the', 'next_word=their', 'next_word=them', 'next_word=themselves', 'next_word=then', 'next_word=theory', 'next_word=there', 'next_word=these', 'next_word=they', 'next_word=this', 'next_word=those', 'next_word=though', 'next_word=thought', 'next_word=threat', 'next_word=three', 'next_word=thrift', 'next_word=through', 'next_word=tied', 'next_word=time', 'next_word=times', 'next_word=titans', 'next_word=to', 'next_word=today', 'next_word=too', 'next_word=took', 'next_word=top', 'next_word=top-yielding', 'next_word=total', 'next_word=totaled', 'next_word=touchy', 'next_word=town', 'next_word=towns', 'next_word=tracked', 'next_word=tracking', 'next_word=trade', 'next_word=trademark', 'next_word=trading', 'next_word=traffic', 'next_word=trained', 'next_word=transaction', 'next_word=transferring', 'next_word=treat', 'next_word=treatment', 'next_word=tricky', 'next_word=trillion', 'next_word=troubled', 'next_word=trucks', 'next_word=true', 'next_word=trying', 'next_word=turned', 'next_word=twice', 'next_word=two', 'next_word=type', 'next_word=typically', 'next_word=unauthorized', 'next_word=under', 'next_word=underlying', 'next_word=underscore', 'next_word=undersecretary', 'next_word=unfair-trade', 'next_word=unimpeded', 'next_word=unit', 'next_word=units', 'next_word=unproven', 'next_word=unreasonable', 'next_word=until', 'next_word=unusually', 'next_word=up', 'next_word=upheld', 'next_word=us', 'next_word=use', 'next_word=used', 'next_word=useful', 'next_word=users', 'next_word=uses', 'next_word=using', 'next_word=utility', 'next_word=valuation', 'next_word=value', 'next_word=values', 'next_word=vary', 'next_word=varying', 'next_word=veal', 'next_word=vehicles', 'next_word=ventilated', 'next_word=very', 'next_word=vice', 'next_word=video-viewing', 'next_word=videocassette', 'next_word=virtually', 'next_word=visitors', 'next_word=voted', 'next_word=vowed', 'next_word=waiving', 'next_word=want', 'next_word=was', 'next_word=watch', 'next_word=watches', 'next_word=watching', 'next_word=way', 'next_word=we', 'next_word=week', 'next_word=weeklies', 'next_word=weeks', 'next_word=welcomed', 'next_word=well', 'next_word=were', 'next_word=what', 'next_word=when', 'next_word=where', 'next_word=whether', 'next_word=which', 'next_word=while', 'next_word=who', 'next_word=whose', 'next_word=why', 'next_word=will', 'next_word=winter', 'next_word=with', 'next_word=withdraw', 'next_word=withdrawal', 'next_word=without', 'next_word=wives', 'next_word=work', 'next_word=worked', 'next_word=workers', 'next_word=working', 'next_word=works', 'next_word=world', 'next_word=world-wide', 'next_word=worried', 'next_word=worst-case', 'next_word=worth', 'next_word=would', 'next_word=year', 'next_word=year-end', 'next_word=year-to-year', 'next_word=years', 'next_word=yesterday', 'next_word=yet', 'next_word=yield', 'next_word=yielding', 'next_word=yields', 'next_word=you', 'prefix-1=$', 'prefix-1=%', 'prefix-1=&', \"prefix-1='\", 'prefix-1=*', 'prefix-1=,', 'prefix-1=-', 'prefix-1=.', 'prefix-1=0', 'prefix-1=1', 'prefix-1=2', 'prefix-1=3', 'prefix-1=4', 'prefix-1=5', 'prefix-1=6', 'prefix-1=7', 'prefix-1=8', 'prefix-1=9', 'prefix-1=:', 'prefix-1=;', 'prefix-1=A', 'prefix-1=B', 'prefix-1=C', 'prefix-1=D', 'prefix-1=E', 'prefix-1=F', 'prefix-1=G', 'prefix-1=H', 'prefix-1=I', 'prefix-1=J', 'prefix-1=K', 'prefix-1=L', 'prefix-1=M', 'prefix-1=N', 'prefix-1=O', 'prefix-1=P', 'prefix-1=Q', 'prefix-1=R', 'prefix-1=S', 'prefix-1=T', 'prefix-1=U', 'prefix-1=V', 'prefix-1=W', 'prefix-1=Y', 'prefix-1=Z', 'prefix-1=`', 'prefix-1=a', 'prefix-1=b', 'prefix-1=c', 'prefix-1=d', 'prefix-1=e', 'prefix-1=f', 'prefix-1=g', 'prefix-1=h', 'prefix-1=i', 'prefix-1=j', 'prefix-1=k', 'prefix-1=l', 'prefix-1=m', 'prefix-1=n', 'prefix-1=o', 'prefix-1=p', 'prefix-1=q', 'prefix-1=r', 'prefix-1=s', 'prefix-1=t', 'prefix-1=u', 'prefix-1=v', 'prefix-1=w', 'prefix-1=y', 'prefix-2=$', 'prefix-2=%', 'prefix-2=&', \"prefix-2='\", \"prefix-2=''\", \"prefix-2='r\", \"prefix-2='s\", 'prefix-2=*', 'prefix-2=*-', 'prefix-2=*?', 'prefix-2=*I', 'prefix-2=*R', 'prefix-2=*T', 'prefix-2=*U', 'prefix-2=,', 'prefix-2=--', 'prefix-2=-L', 'prefix-2=-R', 'prefix-2=.', 'prefix-2=..', 'prefix-2=0', 'prefix-2=0.', 'prefix-2=1', 'prefix-2=1,', 'prefix-2=1.', 'prefix-2=10', 'prefix-2=11', 'prefix-2=12', 'prefix-2=13', 'prefix-2=14', 'prefix-2=15', 'prefix-2=16', 'prefix-2=17', 'prefix-2=18', 'prefix-2=19', 'prefix-2=1\\\\', 'prefix-2=2', 'prefix-2=2,', 'prefix-2=2.', 'prefix-2=20', 'prefix-2=21', 'prefix-2=22', 'prefix-2=24', 'prefix-2=25', 'prefix-2=27', 'prefix-2=28', 'prefix-2=29', 'prefix-2=3', 'prefix-2=3,', 'prefix-2=3.', 'prefix-2=30', 'prefix-2=31', 'prefix-2=32', 'prefix-2=33', 'prefix-2=34', 'prefix-2=35', 'prefix-2=36', 'prefix-2=37', 'prefix-2=38', 'prefix-2=4', 'prefix-2=4,', 'prefix-2=4.', 'prefix-2=40', 'prefix-2=41', 'prefix-2=43', 'prefix-2=45', 'prefix-2=47', 'prefix-2=49', 'prefix-2=5', 'prefix-2=5.', 'prefix-2=50', 'prefix-2=52', 'prefix-2=53', 'prefix-2=55', 'prefix-2=59', 'prefix-2=60', 'prefix-2=61', 'prefix-2=63', 'prefix-2=64', 'prefix-2=68', 'prefix-2=7.', 'prefix-2=71', 'prefix-2=72', 'prefix-2=73', 'prefix-2=8.', 'prefix-2=83', 'prefix-2=9', 'prefix-2=9.', 'prefix-2=98', 'prefix-2=:', 'prefix-2=;', 'prefix-2=A', 'prefix-2=A.', 'prefix-2=Ab', 'prefix-2=Ac', 'prefix-2=Af', 'prefix-2=Ag', 'prefix-2=Al', 'prefix-2=Am', 'prefix-2=An', 'prefix-2=Ap', 'prefix-2=Ar', 'prefix-2=As', 'prefix-2=At', 'prefix-2=Au', 'prefix-2=Av', 'prefix-2=B.', 'prefix-2=Ba', 'prefix-2=Be', 'prefix-2=Bi', 'prefix-2=Bl', 'prefix-2=Bo', 'prefix-2=Br', 'prefix-2=Bu', 'prefix-2=By', 'prefix-2=C-', 'prefix-2=CE', 'prefix-2=Ca', 'prefix-2=Ch', 'prefix-2=Ci', 'prefix-2=Cl', 'prefix-2=Co', 'prefix-2=Cr', 'prefix-2=Cu', 'prefix-2=D.', 'prefix-2=Da', 'prefix-2=De', 'prefix-2=Do', 'prefix-2=Dr', 'prefix-2=Du', 'prefix-2=Ea', 'prefix-2=Ed', 'prefix-2=El', 'prefix-2=En', 'prefix-2=Ex', 'prefix-2=FE', 'prefix-2=Fa', 'prefix-2=Fe', 'prefix-2=Fi', 'prefix-2=Fo', 'prefix-2=Fr', 'prefix-2=Fu', 'prefix-2=Ga', 'prefix-2=Gl', 'prefix-2=Go', 'prefix-2=Gr', 'prefix-2=H.', 'prefix-2=Ha', 'prefix-2=He', 'prefix-2=Hi', 'prefix-2=Ho', 'prefix-2=Hu', 'prefix-2=I', 'prefix-2=IB', 'prefix-2=II', 'prefix-2=Il', 'prefix-2=Im', 'prefix-2=In', 'prefix-2=It', 'prefix-2=J.', 'prefix-2=Ja', 'prefix-2=Jo', 'prefix-2=Jr', 'prefix-2=Ju', 'prefix-2=Ke', 'prefix-2=Kn', 'prefix-2=Ko', 'prefix-2=La', 'prefix-2=Le', 'prefix-2=Lo', 'prefix-2=Lt', 'prefix-2=M.', 'prefix-2=Ma', 'prefix-2=Mc', 'prefix-2=Me', 'prefix-2=Mi', 'prefix-2=Mo', 'prefix-2=Mr', 'prefix-2=N.', 'prefix-2=NE', 'prefix-2=Na', 'prefix-2=Ne', 'prefix-2=No', 'prefix-2=Oc', 'prefix-2=Oh', 'prefix-2=On', 'prefix-2=Op', 'prefix-2=Or', 'prefix-2=P.', 'prefix-2=PL', 'prefix-2=PS', 'prefix-2=Pa', 'prefix-2=Ph', 'prefix-2=Pi', 'prefix-2=Pl', 'prefix-2=Po', 'prefix-2=Pr', 'prefix-2=Pu', 'prefix-2=Qu', 'prefix-2=R', 'prefix-2=R.', 'prefix-2=Ra', 'prefix-2=Re', 'prefix-2=Ri', 'prefix-2=Ro', 'prefix-2=Ru', 'prefix-2=S.', 'prefix-2=SE', 'prefix-2=Sa', 'prefix-2=Se', 'prefix-2=Sh', 'prefix-2=Si', 'prefix-2=Sm', 'prefix-2=So', 'prefix-2=Sp', 'prefix-2=St', 'prefix-2=Su', 'prefix-2=Sy', 'prefix-2=T.', 'prefix-2=Ta', 'prefix-2=Te', 'prefix-2=Th', 'prefix-2=Ti', 'prefix-2=To', 'prefix-2=Tr', 'prefix-2=Tu', 'prefix-2=Ty', 'prefix-2=U.', 'prefix-2=Un', 'prefix-2=Us', 'prefix-2=Ut', 'prefix-2=Va', 'prefix-2=Ve', 'prefix-2=Vi', 'prefix-2=Vo', 'prefix-2=W.', 'prefix-2=Wa', 'prefix-2=We', 'prefix-2=Wh', 'prefix-2=Wi', 'prefix-2=Wo', 'prefix-2=Yi', 'prefix-2=Yo', 'prefix-2=Zu', 'prefix-2=``', 'prefix-2=a', 'prefix-2=ab', 'prefix-2=ac', 'prefix-2=ad', 'prefix-2=af', 'prefix-2=ag', 'prefix-2=ai', 'prefix-2=al', 'prefix-2=am', 'prefix-2=an', 'prefix-2=ap', 'prefix-2=ar', 'prefix-2=as', 'prefix-2=at', 'prefix-2=au', 'prefix-2=av', 'prefix-2=aw', 'prefix-2=ba', 'prefix-2=be', 'prefix-2=bi', 'prefix-2=bl', 'prefix-2=bo', 'prefix-2=br', 'prefix-2=bu', 'prefix-2=by', 'prefix-2=ca', 'prefix-2=ce', 'prefix-2=ch', 'prefix-2=ci', 'prefix-2=cl', 'prefix-2=co', 'prefix-2=cr', 'prefix-2=cu', 'prefix-2=da', 'prefix-2=de', 'prefix-2=di', 'prefix-2=do', 'prefix-2=dr', 'prefix-2=du', 'prefix-2=ea', 'prefix-2=ec', 'prefix-2=ed', 'prefix-2=ef', 'prefix-2=ei', 'prefix-2=el', 'prefix-2=em', 'prefix-2=en', 'prefix-2=eq', 'prefix-2=es', 'prefix-2=ev', 'prefix-2=ex', 'prefix-2=fa', 'prefix-2=fe', 'prefix-2=fi', 'prefix-2=fl', 'prefix-2=fo', 'prefix-2=fr', 'prefix-2=fu', 'prefix-2=ga', 'prefix-2=ge', 'prefix-2=gi', 'prefix-2=gl', 'prefix-2=go', 'prefix-2=gr', 'prefix-2=gu', 'prefix-2=ha', 'prefix-2=he', 'prefix-2=hi', 'prefix-2=ho', 'prefix-2=hu', 'prefix-2=id', 'prefix-2=if', 'prefix-2=il', 'prefix-2=im', 'prefix-2=in', 'prefix-2=is', 'prefix-2=it', 'prefix-2=je', 'prefix-2=jo', 'prefix-2=ju', 'prefix-2=ke', 'prefix-2=ki', 'prefix-2=kn', 'prefix-2=la', 'prefix-2=le', 'prefix-2=li', 'prefix-2=lo', 'prefix-2=lu', 'prefix-2=ma', 'prefix-2=me', 'prefix-2=mi', 'prefix-2=mo', 'prefix-2=mu', \"prefix-2=n'\", 'prefix-2=na', 'prefix-2=ne', 'prefix-2=ni', 'prefix-2=no', 'prefix-2=nu', 'prefix-2=ob', 'prefix-2=oc', 'prefix-2=of', 'prefix-2=ol', 'prefix-2=on', 'prefix-2=op', 'prefix-2=or', 'prefix-2=ot', 'prefix-2=ou', 'prefix-2=ov', 'prefix-2=ow', 'prefix-2=pa', 'prefix-2=pe', 'prefix-2=ph', 'prefix-2=pi', 'prefix-2=pl', 'prefix-2=po', 'prefix-2=pr', 'prefix-2=pu', 'prefix-2=qu', 'prefix-2=ra', 'prefix-2=re', 'prefix-2=ri', 'prefix-2=ro', 'prefix-2=ru', 'prefix-2=sa', 'prefix-2=sc', 'prefix-2=se', 'prefix-2=sh', 'prefix-2=si', 'prefix-2=sl', 'prefix-2=sm', 'prefix-2=so', 'prefix-2=sp', 'prefix-2=sq', 'prefix-2=st', 'prefix-2=su', 'prefix-2=sy', 'prefix-2=ta', 'prefix-2=te', 'prefix-2=th', 'prefix-2=ti', 'prefix-2=to', 'prefix-2=tr', 'prefix-2=tu', 'prefix-2=tw', 'prefix-2=ty', 'prefix-2=un', 'prefix-2=up', 'prefix-2=us', 'prefix-2=ut', 'prefix-2=va', 'prefix-2=ve', 'prefix-2=vi', 'prefix-2=vo', 'prefix-2=wa', 'prefix-2=we', 'prefix-2=wh', 'prefix-2=wi', 'prefix-2=wo', 'prefix-2=ye', 'prefix-2=yi', 'prefix-2=yo', 'prefix-3=$', 'prefix-3=%', 'prefix-3=&', \"prefix-3='\", \"prefix-3=''\", \"prefix-3='re\", \"prefix-3='s\", 'prefix-3=*', 'prefix-3=*-1', 'prefix-3=*-2', 'prefix-3=*-3', 'prefix-3=*-4', 'prefix-3=*-5', 'prefix-3=*-6', 'prefix-3=*-7', 'prefix-3=*-8', 'prefix-3=*-9', 'prefix-3=*?*', 'prefix-3=*IC', 'prefix-3=*RN', 'prefix-3=*T*', 'prefix-3=*U*', 'prefix-3=,', 'prefix-3=--', 'prefix-3=-LC', 'prefix-3=-RC', 'prefix-3=.', 'prefix-3=...', 'prefix-3=0', 'prefix-3=0.4', 'prefix-3=0.7', 'prefix-3=1', 'prefix-3=1,6', 'prefix-3=1.5', 'prefix-3=10-', 'prefix-3=100', 'prefix-3=101', 'prefix-3=11', 'prefix-3=12', 'prefix-3=12-', 'prefix-3=12.', 'prefix-3=120', 'prefix-3=125', 'prefix-3=13,', 'prefix-3=140', 'prefix-3=15', 'prefix-3=16', 'prefix-3=160', 'prefix-3=17', 'prefix-3=18', 'prefix-3=19', 'prefix-3=19.', 'prefix-3=190', 'prefix-3=195', 'prefix-3=198', 'prefix-3=199', 'prefix-3=1\\\\/', 'prefix-3=2', 'prefix-3=2,3', 'prefix-3=2,7', 'prefix-3=2.2', 'prefix-3=2.5', 'prefix-3=2.6', 'prefix-3=2.8', 'prefix-3=20', 'prefix-3=20.', 'prefix-3=21', 'prefix-3=212', 'prefix-3=22', 'prefix-3=240', 'prefix-3=241', 'prefix-3=245', 'prefix-3=25', 'prefix-3=250', 'prefix-3=27', 'prefix-3=28', 'prefix-3=29', 'prefix-3=295', 'prefix-3=3', 'prefix-3=3,2', 'prefix-3=3.0', 'prefix-3=3.1', 'prefix-3=3.2', 'prefix-3=3.7', 'prefix-3=30', 'prefix-3=30,', 'prefix-3=30-', 'prefix-3=301', 'prefix-3=31', 'prefix-3=325', 'prefix-3=33', 'prefix-3=340', 'prefix-3=35', 'prefix-3=352', 'prefix-3=361', 'prefix-3=37', 'prefix-3=370', 'prefix-3=38', 'prefix-3=38.', 'prefix-3=4', 'prefix-3=4,3', 'prefix-3=4.7', 'prefix-3=4.8', 'prefix-3=40', 'prefix-3=400', 'prefix-3=41', 'prefix-3=43', 'prefix-3=45', 'prefix-3=450', 'prefix-3=47', 'prefix-3=49', 'prefix-3=5', 'prefix-3=5.2', 'prefix-3=5.3', 'prefix-3=5.5', 'prefix-3=5.9', 'prefix-3=50', 'prefix-3=50.', 'prefix-3=500', 'prefix-3=52', 'prefix-3=53', 'prefix-3=55', 'prefix-3=59', 'prefix-3=60', 'prefix-3=600', 'prefix-3=61', 'prefix-3=63', 'prefix-3=64-', 'prefix-3=68', 'prefix-3=7.3', 'prefix-3=7.5', 'prefix-3=7.9', 'prefix-3=71', 'prefix-3=72.', 'prefix-3=737', 'prefix-3=8.0', 'prefix-3=8.1', 'prefix-3=8.2', 'prefix-3=8.4', 'prefix-3=8.5', 'prefix-3=83.', 'prefix-3=9', 'prefix-3=9.3', 'prefix-3=9.4', 'prefix-3=9.8', 'prefix-3=98.', 'prefix-3=:', 'prefix-3=;', 'prefix-3=A', 'prefix-3=A.', 'prefix-3=Abo', 'prefix-3=Acc', 'prefix-3=Aft', 'prefix-3=Age', 'prefix-3=Agn', 'prefix-3=Ala', 'prefix-3=All', 'prefix-3=Alo', 'prefix-3=Alt', 'prefix-3=Ame', 'prefix-3=Amo', 'prefix-3=Ana', 'prefix-3=And', 'prefix-3=App', 'prefix-3=Apr', 'prefix-3=Ara', 'prefix-3=Are', 'prefix-3=Art', 'prefix-3=Ass', 'prefix-3=At', 'prefix-3=Aud', 'prefix-3=Aug', 'prefix-3=Aut', 'prefix-3=Ave', 'prefix-3=B.', 'prefix-3=Bab', 'prefix-3=Bac', 'prefix-3=Bai', 'prefix-3=Ban', 'prefix-3=Bar', 'prefix-3=Bel', 'prefix-3=Bes', 'prefix-3=Big', 'prefix-3=Bla', 'prefix-3=Boc', 'prefix-3=Bol', 'prefix-3=Bor', 'prefix-3=Bos', 'prefix-3=Bot', 'prefix-3=Bra', 'prefix-3=Bre', 'prefix-3=Bri', 'prefix-3=Bro', 'prefix-3=Bur', 'prefix-3=Bus', 'prefix-3=But', 'prefix-3=By', 'prefix-3=Byr', 'prefix-3=C-9', 'prefix-3=CEO', 'prefix-3=Can', 'prefix-3=Car', 'prefix-3=Cha', 'prefix-3=Che', 'prefix-3=Chi', 'prefix-3=Chr', 'prefix-3=Cir', 'prefix-3=Cit', 'prefix-3=Cla', 'prefix-3=Co.', 'prefix-3=Col', 'prefix-3=Com', 'prefix-3=Con', 'prefix-3=Cor', 'prefix-3=Cou', 'prefix-3=Cra', 'prefix-3=Cre', 'prefix-3=Cur', 'prefix-3=D.', 'prefix-3=Dan', 'prefix-3=Dar', 'prefix-3=Dav', 'prefix-3=Dea', 'prefix-3=Dec', 'prefix-3=Des', 'prefix-3=Doc', 'prefix-3=Dol', 'prefix-3=Don', 'prefix-3=Dou', 'prefix-3=Dr.', 'prefix-3=Dre', 'prefix-3=Du', 'prefix-3=Dut', 'prefix-3=Eas', 'prefix-3=Edi', 'prefix-3=Ele', 'prefix-3=Els', 'prefix-3=Ene', 'prefix-3=Eng', 'prefix-3=Env', 'prefix-3=Exc', 'prefix-3=Exp', 'prefix-3=FER', 'prefix-3=Fac', 'prefix-3=Feb', 'prefix-3=Fed', 'prefix-3=Fie', 'prefix-3=Fin', 'prefix-3=Fir', 'prefix-3=For', 'prefix-3=Fou', 'prefix-3=Fre', 'prefix-3=Fro', 'prefix-3=Fuj', 'prefix-3=Fun', 'prefix-3=Gar', 'prefix-3=Gla', 'prefix-3=Gol', 'prefix-3=Gov', 'prefix-3=Gra', 'prefix-3=Gre', 'prefix-3=Gro', 'prefix-3=H.', 'prefix-3=Ham', 'prefix-3=Har', 'prefix-3=Hat', 'prefix-3=Hav', 'prefix-3=He', 'prefix-3=Hil', 'prefix-3=Hit', 'prefix-3=Hof', 'prefix-3=Hol', 'prefix-3=Hoo', 'prefix-3=Hot', 'prefix-3=Hou', 'prefix-3=How', 'prefix-3=Hud', 'prefix-3=I', 'prefix-3=IBC', 'prefix-3=III', 'prefix-3=Ill', 'prefix-3=Imp', 'prefix-3=In', 'prefix-3=Inc', 'prefix-3=Ind', 'prefix-3=Inf', 'prefix-3=Ins', 'prefix-3=Int', 'prefix-3=It', 'prefix-3=Ita', 'prefix-3=J.', 'prefix-3=J.P', 'prefix-3=Jam', 'prefix-3=Jan', 'prefix-3=Jap', 'prefix-3=Joh', 'prefix-3=Jos', 'prefix-3=Jou', 'prefix-3=Jr.', 'prefix-3=Jud', 'prefix-3=Jul', 'prefix-3=Ken', 'prefix-3=Kno', 'prefix-3=Kor', 'prefix-3=LaS', 'prefix-3=Las', 'prefix-3=Leg', 'prefix-3=Loe', 'prefix-3=Lon', 'prefix-3=Lor', 'prefix-3=Ltd', 'prefix-3=M.', 'prefix-3=Mac', 'prefix-3=Mal', 'prefix-3=Man', 'prefix-3=Mar', 'prefix-3=Mas', 'prefix-3=May', 'prefix-3=Maz', 'prefix-3=McD', 'prefix-3=Med', 'prefix-3=Mes', 'prefix-3=Mex', 'prefix-3=Mic', 'prefix-3=Min', 'prefix-3=Mon', 'prefix-3=Mor', 'prefix-3=Mos', 'prefix-3=Mot', 'prefix-3=Mr.', 'prefix-3=Mrs', 'prefix-3=N.H', 'prefix-3=N.V', 'prefix-3=NEC', 'prefix-3=Nas', 'prefix-3=Nat', 'prefix-3=Neg', 'prefix-3=Nei', 'prefix-3=Nev', 'prefix-3=New', 'prefix-3=No', 'prefix-3=Nor', 'prefix-3=Not', 'prefix-3=Nov', 'prefix-3=Now', 'prefix-3=Oct', 'prefix-3=Ohi', 'prefix-3=On', 'prefix-3=Ope', 'prefix-3=Orc', 'prefix-3=P.', 'prefix-3=PLC', 'prefix-3=PS', 'prefix-3=Pac', 'prefix-3=Par', 'prefix-3=Phi', 'prefix-3=Pie', 'prefix-3=Pla', 'prefix-3=Pon', 'prefix-3=Pos', 'prefix-3=Pre', 'prefix-3=Pro', 'prefix-3=Pub', 'prefix-3=Que', 'prefix-3=R', 'prefix-3=R.', 'prefix-3=Rat', 'prefix-3=Reg', 'prefix-3=Rep', 'prefix-3=Res', 'prefix-3=Rex', 'prefix-3=Ric', 'prefix-3=Rob', 'prefix-3=Roc', 'prefix-3=Roo', 'prefix-3=Ros', 'prefix-3=Rot', 'prefix-3=Row', 'prefix-3=Roy', 'prefix-3=Rud', 'prefix-3=Rus', 'prefix-3=S.p', 'prefix-3=SEC', 'prefix-3=Sal', 'prefix-3=Sau', 'prefix-3=Sec', 'prefix-3=Sen', 'prefix-3=Seo', 'prefix-3=Sep', 'prefix-3=Ser', 'prefix-3=Sey', 'prefix-3=She', 'prefix-3=Sho', 'prefix-3=Sig', 'prefix-3=Sma', 'prefix-3=So', 'prefix-3=Sou', 'prefix-3=Spa', 'prefix-3=Spe', 'prefix-3=Spo', 'prefix-3=Spr', 'prefix-3=Sta', 'prefix-3=Ste', 'prefix-3=Sto', 'prefix-3=Sup', 'prefix-3=Sym', 'prefix-3=Sys', 'prefix-3=T.', 'prefix-3=Tai', 'prefix-3=Tal', 'prefix-3=Tas', 'prefix-3=Ter', 'prefix-3=Tex', 'prefix-3=Tha', 'prefix-3=The', 'prefix-3=Thi', 'prefix-3=Tho', 'prefix-3=Thr', 'prefix-3=Tim', 'prefix-3=Tor', 'prefix-3=Toy', 'prefix-3=Tra', 'prefix-3=Tre', 'prefix-3=Tro', 'prefix-3=Tru', 'prefix-3=Tue', 'prefix-3=Tur', 'prefix-3=Typ', 'prefix-3=U.S', 'prefix-3=Und', 'prefix-3=Uni', 'prefix-3=Unt', 'prefix-3=Us', 'prefix-3=Uti', 'prefix-3=Val', 'prefix-3=Ver', 'prefix-3=Vic', 'prefix-3=Vin', 'prefix-3=Vit', 'prefix-3=Vos', 'prefix-3=W.R', 'prefix-3=War', 'prefix-3=Was', 'prefix-3=We', 'prefix-3=Wed', 'prefix-3=Wes', 'prefix-3=Wha', 'prefix-3=Whe', 'prefix-3=Whi', 'prefix-3=Wic', 'prefix-3=Wil', 'prefix-3=Wit', 'prefix-3=Wor', 'prefix-3=Yie', 'prefix-3=Yor', 'prefix-3=You', 'prefix-3=Zuc', 'prefix-3=``', 'prefix-3=a', 'prefix-3=abl', 'prefix-3=abo', 'prefix-3=acc', 'prefix-3=ace', 'prefix-3=acq', 'prefix-3=act', 'prefix-3=ad', 'prefix-3=add', 'prefix-3=adm', 'prefix-3=adv', 'prefix-3=aft', 'prefix-3=aga', 'prefix-3=age', 'prefix-3=ago', 'prefix-3=agr', 'prefix-3=aid', 'prefix-3=all', 'prefix-3=alm', 'prefix-3=alo', 'prefix-3=alr', 'prefix-3=als', 'prefix-3=alt', 'prefix-3=ame', 'prefix-3=ami', 'prefix-3=amo', 'prefix-3=amp', 'prefix-3=an', 'prefix-3=and', 'prefix-3=ann', 'prefix-3=ano', 'prefix-3=ant', 'prefix-3=any', 'prefix-3=app', 'prefix-3=are', 'prefix-3=arg', 'prefix-3=ari', 'prefix-3=arm', 'prefix-3=aro', 'prefix-3=arr', 'prefix-3=ars', 'prefix-3=as', 'prefix-3=asb', 'prefix-3=ass', 'prefix-3=at', 'prefix-3=att', 'prefix-3=auc', 'prefix-3=aud', 'prefix-3=aut', 'prefix-3=ave', 'prefix-3=awa', 'prefix-3=bad', 'prefix-3=bal', 'prefix-3=ban', 'prefix-3=bas', 'prefix-3=be', 'prefix-3=bea', 'prefix-3=bec', 'prefix-3=bee', 'prefix-3=bef', 'prefix-3=beg', 'prefix-3=bei', 'prefix-3=bel', 'prefix-3=ben', 'prefix-3=bes', 'prefix-3=bet', 'prefix-3=bia', 'prefix-3=bid', 'prefix-3=big', 'prefix-3=bil', 'prefix-3=bin', 'prefix-3=bli', 'prefix-3=blo', 'prefix-3=blu', 'prefix-3=boa', 'prefix-3=bod', 'prefix-3=bon', 'prefix-3=boo', 'prefix-3=bor', 'prefix-3=bot', 'prefix-3=bow', 'prefix-3=bre', 'prefix-3=bri', 'prefix-3=buc', 'prefix-3=buf', 'prefix-3=bui', 'prefix-3=bur', 'prefix-3=bus', 'prefix-3=but', 'prefix-3=by', 'prefix-3=cal', 'prefix-3=cam', 'prefix-3=can', 'prefix-3=cap', 'prefix-3=car', 'prefix-3=cas', 'prefix-3=cau', 'prefix-3=cei', 'prefix-3=cen', 'prefix-3=cha', 'prefix-3=che', 'prefix-3=chi', 'prefix-3=cho', 'prefix-3=chr', 'prefix-3=cig', 'prefix-3=cir', 'prefix-3=cit', 'prefix-3=cla', 'prefix-3=cle', 'prefix-3=clo', 'prefix-3=clu', 'prefix-3=col', 'prefix-3=com', 'prefix-3=con', 'prefix-3=cop', 'prefix-3=cor', 'prefix-3=cos', 'prefix-3=cot', 'prefix-3=cou', 'prefix-3=cra', 'prefix-3=cre', 'prefix-3=cro', 'prefix-3=cur', 'prefix-3=cus', 'prefix-3=cut', 'prefix-3=dan', 'prefix-3=day', 'prefix-3=dea', 'prefix-3=deb', 'prefix-3=dec', 'prefix-3=dee', 'prefix-3=def', 'prefix-3=deg', 'prefix-3=dem', 'prefix-3=den', 'prefix-3=dep', 'prefix-3=des', 'prefix-3=det', 'prefix-3=dev', 'prefix-3=dia', 'prefix-3=did', 'prefix-3=die', 'prefix-3=dif', 'prefix-3=din', 'prefix-3=dip', 'prefix-3=dir', 'prefix-3=dis', 'prefix-3=div', 'prefix-3=do', 'prefix-3=doc', 'prefix-3=doe', 'prefix-3=doi', 'prefix-3=dol', 'prefix-3=dom', 'prefix-3=dou', 'prefix-3=dow', 'prefix-3=dra', 'prefix-3=dri', 'prefix-3=dro', 'prefix-3=dry', 'prefix-3=duc', 'prefix-3=dum', 'prefix-3=dur', 'prefix-3=dus', 'prefix-3=eac', 'prefix-3=ear', 'prefix-3=eas', 'prefix-3=eat', 'prefix-3=eco', 'prefix-3=edi', 'prefix-3=eff', 'prefix-3=eit', 'prefix-3=ela', 'prefix-3=ele', 'prefix-3=eme', 'prefix-3=emp', 'prefix-3=ena', 'prefix-3=end', 'prefix-3=ene', 'prefix-3=enf', 'prefix-3=eng', 'prefix-3=eno', 'prefix-3=ens', 'prefix-3=ent', 'prefix-3=equ', 'prefix-3=esc', 'prefix-3=est', 'prefix-3=eva', 'prefix-3=eve', 'prefix-3=exa', 'prefix-3=exc', 'prefix-3=exe', 'prefix-3=exh', 'prefix-3=exi', 'prefix-3=exp', 'prefix-3=fac', 'prefix-3=fai', 'prefix-3=fal', 'prefix-3=fan', 'prefix-3=far', 'prefix-3=fat', 'prefix-3=fav', 'prefix-3=fed', 'prefix-3=fee', 'prefix-3=fel', 'prefix-3=few', 'prefix-3=fib', 'prefix-3=fie', 'prefix-3=fif', 'prefix-3=fig', 'prefix-3=fil', 'prefix-3=fin', 'prefix-3=fir', 'prefix-3=fiv', 'prefix-3=fix', 'prefix-3=fla', 'prefix-3=fle', 'prefix-3=fol', 'prefix-3=foo', 'prefix-3=for', 'prefix-3=fou', 'prefix-3=fra', 'prefix-3=fre', 'prefix-3=fro', 'prefix-3=ful', 'prefix-3=fun', 'prefix-3=fur', 'prefix-3=fut', 'prefix-3=gai', 'prefix-3=gal', 'prefix-3=gav', 'prefix-3=gen', 'prefix-3=gia', 'prefix-3=giv', 'prefix-3=glo', 'prefix-3=go', 'prefix-3=goo', 'prefix-3=got', 'prefix-3=gov', 'prefix-3=gra', 'prefix-3=gre', 'prefix-3=gro', 'prefix-3=gua', 'prefix-3=gue', 'prefix-3=had', 'prefix-3=hal', 'prefix-3=han', 'prefix-3=har', 'prefix-3=has', 'prefix-3=hau', 'prefix-3=hav', 'prefix-3=he', 'prefix-3=hea', 'prefix-3=hel', 'prefix-3=hig', 'prefix-3=him', 'prefix-3=his', 'prefix-3=hol', 'prefix-3=hon', 'prefix-3=hoo', 'prefix-3=hop', 'prefix-3=hos', 'prefix-3=hot', 'prefix-3=hou', 'prefix-3=hug', 'prefix-3=hum', 'prefix-3=hun', 'prefix-3=hur', 'prefix-3=ide', 'prefix-3=if', 'prefix-3=ill', 'prefix-3=imp', 'prefix-3=in', 'prefix-3=ina', 'prefix-3=inc', 'prefix-3=ind', 'prefix-3=inf', 'prefix-3=ini', 'prefix-3=ins', 'prefix-3=int', 'prefix-3=inv', 'prefix-3=is', 'prefix-3=iss', 'prefix-3=it', 'prefix-3=its', 'prefix-3=jet', 'prefix-3=joi', 'prefix-3=jum', 'prefix-3=jus', 'prefix-3=kee', 'prefix-3=kin', 'prefix-3=kno', 'prefix-3=lab', 'prefix-3=lar', 'prefix-3=las', 'prefix-3=lat', 'prefix-3=lau', 'prefix-3=law', 'prefix-3=lea', 'prefix-3=led', 'prefix-3=leg', 'prefix-3=len', 'prefix-3=les', 'prefix-3=lie', 'prefix-3=lif', 'prefix-3=lig', 'prefix-3=lik', 'prefix-3=lin', 'prefix-3=lis', 'prefix-3=lit', 'prefix-3=lob', 'prefix-3=loc', 'prefix-3=lon', 'prefix-3=loo', 'prefix-3=los', 'prefix-3=low', 'prefix-3=lun', 'prefix-3=mac', 'prefix-3=mad', 'prefix-3=mag', 'prefix-3=mai', 'prefix-3=mak', 'prefix-3=mal', 'prefix-3=man', 'prefix-3=mar', 'prefix-3=mat', 'prefix-3=may', 'prefix-3=mea', 'prefix-3=mec', 'prefix-3=med', 'prefix-3=mee', 'prefix-3=men', 'prefix-3=mer', 'prefix-3=mes', 'prefix-3=mid', 'prefix-3=mig', 'prefix-3=mil', 'prefix-3=min', 'prefix-3=mix', 'prefix-3=mod', 'prefix-3=mon', 'prefix-3=moo', 'prefix-3=mor', 'prefix-3=mos', 'prefix-3=mot', 'prefix-3=mou', 'prefix-3=mov', 'prefix-3=muc', 'prefix-3=mus', 'prefix-3=mut', \"prefix-3=n't\", 'prefix-3=nam', 'prefix-3=nat', 'prefix-3=nea', 'prefix-3=nee', 'prefix-3=neg', 'prefix-3=new', 'prefix-3=nex', 'prefix-3=nig', 'prefix-3=nin', 'prefix-3=no', 'prefix-3=non', 'prefix-3=nor', 'prefix-3=not', 'prefix-3=now', 'prefix-3=nuc', 'prefix-3=num', 'prefix-3=obl', 'prefix-3=obt', 'prefix-3=occ', 'prefix-3=of', 'prefix-3=off', 'prefix-3=old', 'prefix-3=on', 'prefix-3=onc', 'prefix-3=one', 'prefix-3=onl', 'prefix-3=ope', 'prefix-3=or', 'prefix-3=ord', 'prefix-3=oth', 'prefix-3=our', 'prefix-3=out', 'prefix-3=ova', 'prefix-3=ove', 'prefix-3=own', 'prefix-3=pac', 'prefix-3=pag', 'prefix-3=pai', 'prefix-3=pap', 'prefix-3=par', 'prefix-3=pas', 'prefix-3=pat', 'prefix-3=pay', 'prefix-3=pen', 'prefix-3=peo', 'prefix-3=per', 'prefix-3=pha', 'prefix-3=pia', 'prefix-3=pir', 'prefix-3=pla', 'prefix-3=plu', 'prefix-3=poi', 'prefix-3=pol', 'prefix-3=poo', 'prefix-3=por', 'prefix-3=pos', 'prefix-3=pot', 'prefix-3=pou', 'prefix-3=pow', 'prefix-3=pre', 'prefix-3=pri', 'prefix-3=pro', 'prefix-3=pub', 'prefix-3=pur', 'prefix-3=que', 'prefix-3=rac', 'prefix-3=rai', 'prefix-3=ran', 'prefix-3=ras', 'prefix-3=rat', 'prefix-3=rea', 'prefix-3=rec', 'prefix-3=red', 'prefix-3=ref', 'prefix-3=reg', 'prefix-3=rei', 'prefix-3=rej', 'prefix-3=rel', 'prefix-3=rem', 'prefix-3=ren', 'prefix-3=reo', 'prefix-3=rep', 'prefix-3=req', 'prefix-3=res', 'prefix-3=ret', 'prefix-3=rev', 'prefix-3=rew', 'prefix-3=rig', 'prefix-3=ris', 'prefix-3=riv', 'prefix-3=rob', 'prefix-3=roc', 'prefix-3=rol', 'prefix-3=ros', 'prefix-3=rou', 'prefix-3=roy', 'prefix-3=rul', 'prefix-3=rus', 'prefix-3=sac', 'prefix-3=sai', 'prefix-3=sal', 'prefix-3=sam', 'prefix-3=san', 'prefix-3=sau', 'prefix-3=sav', 'prefix-3=say', 'prefix-3=sce', 'prefix-3=sch', 'prefix-3=sci', 'prefix-3=scr', 'prefix-3=sea', 'prefix-3=sec', 'prefix-3=see', 'prefix-3=sen', 'prefix-3=ser', 'prefix-3=set', 'prefix-3=sev', 'prefix-3=sha', 'prefix-3=she', 'prefix-3=sho', 'prefix-3=sig', 'prefix-3=sim', 'prefix-3=sin', 'prefix-3=six', 'prefix-3=sla', 'prefix-3=sli', 'prefix-3=slo', 'prefix-3=slu', 'prefix-3=sma', 'prefix-3=smo', 'prefix-3=so', 'prefix-3=so-', 'prefix-3=sof', 'prefix-3=sol', 'prefix-3=som', 'prefix-3=soo', 'prefix-3=spa', 'prefix-3=spe', 'prefix-3=spi', 'prefix-3=spo', 'prefix-3=spr', 'prefix-3=squ', 'prefix-3=sta', 'prefix-3=sti', 'prefix-3=sto', 'prefix-3=str', 'prefix-3=stu', 'prefix-3=sub', 'prefix-3=suc', 'prefix-3=suf', 'prefix-3=sum', 'prefix-3=sun', 'prefix-3=sup', 'prefix-3=sur', 'prefix-3=sus', 'prefix-3=sym', 'prefix-3=sys', 'prefix-3=tak', 'prefix-3=tal', 'prefix-3=tar', 'prefix-3=tas', 'prefix-3=tax', 'prefix-3=tea', 'prefix-3=tec', 'prefix-3=tel', 'prefix-3=tem', 'prefix-3=ter', 'prefix-3=tha', 'prefix-3=the', 'prefix-3=thi', 'prefix-3=tho', 'prefix-3=thr', 'prefix-3=tie', 'prefix-3=tim', 'prefix-3=tit', 'prefix-3=to', 'prefix-3=tod', 'prefix-3=too', 'prefix-3=top', 'prefix-3=tot', 'prefix-3=tou', 'prefix-3=tow', 'prefix-3=tra', 'prefix-3=tre', 'prefix-3=tri', 'prefix-3=tro', 'prefix-3=tru', 'prefix-3=try', 'prefix-3=tur', 'prefix-3=twi', 'prefix-3=two', 'prefix-3=typ', 'prefix-3=una', 'prefix-3=und', 'prefix-3=unf', 'prefix-3=uni', 'prefix-3=unp', 'prefix-3=unr', 'prefix-3=unt', 'prefix-3=unu', 'prefix-3=up', 'prefix-3=uph', 'prefix-3=us', 'prefix-3=use', 'prefix-3=usi', 'prefix-3=uti', 'prefix-3=val', 'prefix-3=var', 'prefix-3=vea', 'prefix-3=veh', 'prefix-3=ven', 'prefix-3=ver', 'prefix-3=vic', 'prefix-3=vid', 'prefix-3=vir', 'prefix-3=vis', 'prefix-3=vot', 'prefix-3=vow', 'prefix-3=wai', 'prefix-3=wan', 'prefix-3=was', 'prefix-3=wat', 'prefix-3=way', 'prefix-3=we', 'prefix-3=wee', 'prefix-3=wel', 'prefix-3=wer', 'prefix-3=wha', 'prefix-3=whe', 'prefix-3=whi', 'prefix-3=who', 'prefix-3=why', 'prefix-3=wil', 'prefix-3=win', 'prefix-3=wit', 'prefix-3=wiv', 'prefix-3=wor', 'prefix-3=wou', 'prefix-3=yea', 'prefix-3=yes', 'prefix-3=yet', 'prefix-3=yie', 'prefix-3=you', 'prev_word=', 'prev_word=$', 'prev_word=%', 'prev_word=&', \"prev_word='\", \"prev_word=''\", \"prev_word='re\", \"prev_word='s\", 'prev_word=*', 'prev_word=*-1', 'prev_word=*-10', 'prev_word=*-11', 'prev_word=*-12', 'prev_word=*-13', 'prev_word=*-14', 'prev_word=*-15', 'prev_word=*-16', 'prev_word=*-17', 'prev_word=*-18', 'prev_word=*-19', 'prev_word=*-2', 'prev_word=*-20', 'prev_word=*-21', 'prev_word=*-22', 'prev_word=*-23', 'prev_word=*-24', 'prev_word=*-25', 'prev_word=*-26', 'prev_word=*-27', 'prev_word=*-28', 'prev_word=*-29', 'prev_word=*-3', 'prev_word=*-4', 'prev_word=*-5', 'prev_word=*-6', 'prev_word=*-7', 'prev_word=*-8', 'prev_word=*-9', 'prev_word=*?*', 'prev_word=*ICH*-1', 'prev_word=*ICH*-2', 'prev_word=*ICH*-3', 'prev_word=*RNR*-1', 'prev_word=*RNR*-4', 'prev_word=*T*-1', 'prev_word=*T*-10', 'prev_word=*T*-11', 'prev_word=*T*-12', 'prev_word=*T*-13', 'prev_word=*T*-14', 'prev_word=*T*-15', 'prev_word=*T*-16', 'prev_word=*T*-17', 'prev_word=*T*-18', 'prev_word=*T*-19', 'prev_word=*T*-2', 'prev_word=*T*-20', 'prev_word=*T*-21', 'prev_word=*T*-22', 'prev_word=*T*-23', 'prev_word=*T*-24', 'prev_word=*T*-25', 'prev_word=*T*-26', 'prev_word=*T*-27', 'prev_word=*T*-28', 'prev_word=*T*-3', 'prev_word=*T*-4', 'prev_word=*T*-5', 'prev_word=*T*-6', 'prev_word=*T*-7', 'prev_word=*T*-8', 'prev_word=*T*-9', 'prev_word=*U*', 'prev_word=,', 'prev_word=--', 'prev_word=-LCB-', 'prev_word=-RCB-', 'prev_word=.', 'prev_word=...', 'prev_word=0', 'prev_word=0.4', 'prev_word=0.7', 'prev_word=1', 'prev_word=1,620', 'prev_word=1.5', 'prev_word=1.55', 'prev_word=10-lap', 'prev_word=100', 'prev_word=100,980', 'prev_word=101', 'prev_word=11', 'prev_word=12', 'prev_word=12-member', 'prev_word=12.5', 'prev_word=120', 'prev_word=120,000', 'prev_word=125', 'prev_word=13,056', 'prev_word=140', 'prev_word=15', 'prev_word=16', 'prev_word=160', 'prev_word=17', 'prev_word=18', 'prev_word=19', 'prev_word=19.3', 'prev_word=190', 'prev_word=195', 'prev_word=1950s', 'prev_word=1953', 'prev_word=1955', 'prev_word=1956', 'prev_word=1985', 'prev_word=1986', 'prev_word=1988', 'prev_word=1989', 'prev_word=1990', 'prev_word=1991', 'prev_word=1997', 'prev_word=1\\\\/2', 'prev_word=2', 'prev_word=2,303,328', 'prev_word=2,700', 'prev_word=2.2', 'prev_word=2.25', 'prev_word=2.29', 'prev_word=2.5', 'prev_word=2.6', 'prev_word=2.80', 'prev_word=2.87', 'prev_word=2.875', 'prev_word=20', 'prev_word=20.5', 'prev_word=21', 'prev_word=212', 'prev_word=22', 'prev_word=240,000', 'prev_word=241', 'prev_word=245', 'prev_word=25', 'prev_word=250', 'prev_word=27', 'prev_word=28', 'prev_word=29', 'prev_word=295', 'prev_word=3', 'prev_word=3,288,453', 'prev_word=3.01', 'prev_word=3.1', 'prev_word=3.2', 'prev_word=3.75', 'prev_word=30', 'prev_word=30,841', 'prev_word=30-day', 'prev_word=301', 'prev_word=31', 'prev_word=325,000', 'prev_word=33', 'prev_word=340,000', 'prev_word=35', 'prev_word=352.7', 'prev_word=361,376', 'prev_word=37', 'prev_word=370', 'prev_word=38', 'prev_word=38.375', 'prev_word=4', 'prev_word=4,393,237', 'prev_word=4.75', 'prev_word=4.8', 'prev_word=40', 'prev_word=400', 'prev_word=41', 'prev_word=43', 'prev_word=45', 'prev_word=450', 'prev_word=47', 'prev_word=49', 'prev_word=5', 'prev_word=5.29', 'prev_word=5.39', 'prev_word=5.5', 'prev_word=5.9', 'prev_word=50', 'prev_word=50.38', 'prev_word=50.45', 'prev_word=500', 'prev_word=500,004', 'prev_word=52', 'prev_word=53', 'prev_word=55', 'prev_word=59', 'prev_word=60', 'prev_word=600,000', 'prev_word=61', 'prev_word=63', 'prev_word=64-year-old', 'prev_word=68', 'prev_word=7.3', 'prev_word=7.5', 'prev_word=7.90', 'prev_word=71', 'prev_word=72.7', 'prev_word=737.5', 'prev_word=8.04', 'prev_word=8.12', 'prev_word=8.14', 'prev_word=8.19', 'prev_word=8.22', 'prev_word=8.45', 'prev_word=8.47', 'prev_word=8.53', 'prev_word=8.56', 'prev_word=83.4', 'prev_word=9', 'prev_word=9.37', 'prev_word=9.45', 'prev_word=9.8', 'prev_word=98.3', 'prev_word=:', 'prev_word=;', 'prev_word=A', 'prev_word=A.', 'prev_word=About', 'prev_word=According', 'prev_word=After', 'prev_word=Agency', 'prev_word=Agnew', 'prev_word=Alan', 'prev_word=All', 'prev_word=Along', 'prev_word=Although', 'prev_word=American', 'prev_word=Among', 'prev_word=Analysts', 'prev_word=And', 'prev_word=Appellate', 'prev_word=April', 'prev_word=Arabia', 'prev_word=Areas', 'prev_word=Arthur', 'prev_word=Assets', 'prev_word=Association', 'prev_word=At', 'prev_word=Audit', 'prev_word=August', 'prev_word=Automobile', 'prev_word=Average', 'prev_word=B.', 'prev_word=Babcock', 'prev_word=Back', 'prev_word=Bailey', 'prev_word=Banking', 'prev_word=Barnum', 'prev_word=Belt', 'prev_word=Besides', 'prev_word=Big', 'prev_word=Blanchard', 'prev_word=Boca', 'prev_word=Bolduc', 'prev_word=Borge', 'prev_word=Boston', 'prev_word=Both', 'prev_word=Braidwood', 'prev_word=Brazil', 'prev_word=Brenda', 'prev_word=British', 'prev_word=Brooke', 'prev_word=Bureau', 'prev_word=Business', 'prev_word=But', 'prev_word=By', 'prev_word=Byron', 'prev_word=C-90', 'prev_word=CEOs', 'prev_word=Canada', 'prev_word=Cancer', 'prev_word=Carla', 'prev_word=Carney', 'prev_word=Champagne', 'prev_word=Chapter', 'prev_word=Cheese', 'prev_word=China', 'prev_word=Chinchon', 'prev_word=Chrysler', 'prev_word=Circuit', 'prev_word=Circulation', 'prev_word=Circulations', 'prev_word=City', 'prev_word=Clark', 'prev_word=Co.', 'prev_word=College', 'prev_word=Colo.', 'prev_word=Colorado', 'prev_word=Commerce', 'prev_word=Commission', 'prev_word=Commonwealth', 'prev_word=Compound', 'prev_word=Computer', 'prev_word=Congress', 'prev_word=Conn', 'prev_word=Conn.', 'prev_word=Consolidated', 'prev_word=Controls', 'prev_word=Corp', 'prev_word=Corp.', 'prev_word=Court', 'prev_word=Cray', 'prev_word=Cray-3', 'prev_word=Credit', 'prev_word=Curry', 'prev_word=D.', 'prev_word=Dana-Farber', 'prev_word=Daniel', 'prev_word=Daniels', 'prev_word=Darrell', 'prev_word=Davenport', 'prev_word=Dealers', 'prev_word=Deane', 'prev_word=Dec.', 'prev_word=Despite', 'prev_word=Documents', 'prev_word=Dollar', 'prev_word=Donald', 'prev_word=Donoghue', 'prev_word=Douglas', 'prev_word=Dr.', 'prev_word=Dreyfus', 'prev_word=Du', 'prev_word=Dutch', 'prev_word=Eastern', 'prev_word=Edison', 'prev_word=Electric', 'prev_word=Elsevier', 'prev_word=Energy', 'prev_word=England', 'prev_word=Environmental', 'prev_word=Exchange', 'prev_word=Exports', 'prev_word=FERC', 'prev_word=Factory', 'prev_word=Feb.', 'prev_word=February', 'prev_word=Federal', 'prev_word=Fields', 'prev_word=Financial', 'prev_word=Finmeccanica', 'prev_word=First', 'prev_word=For', 'prev_word=Fortune', 'prev_word=Four', 'prev_word=Frederick', 'prev_word=From', 'prev_word=Fujitsu', 'prev_word=Fund', 'prev_word=Gary', 'prev_word=Glauber', 'prev_word=Gold', 'prev_word=Government', 'prev_word=Grace', 'prev_word=Greece', 'prev_word=Gregory', 'prev_word=Groton', 'prev_word=Group', 'prev_word=H.', 'prev_word=Hammerton', 'prev_word=Hampshire', 'prev_word=Hartford', 'prev_word=Harvard', 'prev_word=Hatch', 'prev_word=Haven', 'prev_word=He', 'prev_word=Hills', 'prev_word=Hitachi', 'prev_word=Hoffman', 'prev_word=Hollingsworth', 'prev_word=Hoosier', 'prev_word=Hot', 'prev_word=House', 'prev_word=However', 'prev_word=Hudnut', 'prev_word=I', 'prev_word=IBC', 'prev_word=III', 'prev_word=Ill.', 'prev_word=Illinois', 'prev_word=Illuminating', 'prev_word=Imports', 'prev_word=In', 'prev_word=Inc.', 'prev_word=India', 'prev_word=Indiana', 'prev_word=Indianapolis', 'prev_word=Industry', 'prev_word=Information', 'prev_word=Instead', 'prev_word=Institute', 'prev_word=Instruments', 'prev_word=International', 'prev_word=It', 'prev_word=Italian', 'prev_word=Italy', 'prev_word=J.', 'prev_word=J.P.', 'prev_word=James', 'prev_word=January', 'prev_word=Japan', 'prev_word=Japanese', 'prev_word=John', 'prev_word=Joseph', 'prev_word=Journal', 'prev_word=Jr.', 'prev_word=Judge', 'prev_word=July', 'prev_word=Kent', 'prev_word=Knowing', 'prev_word=Korea', 'prev_word=LaSalle', 'prev_word=Last', 'prev_word=Legislation', 'prev_word=Loews', 'prev_word=Longer', 'prev_word=Lorillard', 'prev_word=Ltd', 'prev_word=Ltd.', 'prev_word=M.', 'prev_word=Machines', 'prev_word=Malaysia', 'prev_word=Malcolm', 'prev_word=Malizia', 'prev_word=Manchester', 'prev_word=Manufacturers', 'prev_word=March', 'prev_word=Mass.', 'prev_word=May', 'prev_word=Mayor', 'prev_word=Maytag', 'prev_word=Mazda', 'prev_word=McDermott', 'prev_word=Medicine', 'prev_word=Messrs.', 'prev_word=Mexico', 'prev_word=Micronite', 'prev_word=Ministry', 'prev_word=Minneapolis', 'prev_word=Minneapolis-based', 'prev_word=Monday', 'prev_word=Money', 'prev_word=More', 'prev_word=Moreover', 'prev_word=Mortimer', 'prev_word=Mossman', 'prev_word=Motor', 'prev_word=Mr.', 'prev_word=Mrs.', 'prev_word=N.H.', 'prev_word=N.V.', 'prev_word=NEC', 'prev_word=Nasdaq', 'prev_word=National', 'prev_word=Negus', 'prev_word=Neil', 'prev_word=Neither', 'prev_word=Nevertheless', 'prev_word=New', 'prev_word=News', 'prev_word=Newsweek', 'prev_word=No', 'prev_word=Norman', 'prev_word=Northeast', 'prev_word=Not', 'prev_word=Nov.', 'prev_word=Now', 'prev_word=October', 'prev_word=Ohio', 'prev_word=On', 'prev_word=Operations', 'prev_word=Orchestra', 'prev_word=P.', 'prev_word=PLC', 'prev_word=PS', 'prev_word=Pacific', 'prev_word=Pardus', 'prev_word=Phillips', 'prev_word=Pierre', 'prev_word=Plan', 'prev_word=Plans', 'prev_word=Pont', 'prev_word=Post', 'prev_word=Preliminary', 'prev_word=Previously', 'prev_word=Pro-forma', 'prev_word=Protection', 'prev_word=Public', 'prev_word=Publishers', 'prev_word=Queen', 'prev_word=R', 'prev_word=R.', 'prev_word=Raton', 'prev_word=Regarded', 'prev_word=Regulatory', 'prev_word=Report', 'prev_word=Representative', 'prev_word=Research', 'prev_word=Rexinger', 'prev_word=Richard', 'prev_word=Ricken', 'prev_word=Robert', 'prev_word=Rockford', 'prev_word=Roof', 'prev_word=Ross', 'prev_word=Rothschild', 'prev_word=Rowe', 'prev_word=Royal', 'prev_word=Rudolph', 'prev_word=Rust', 'prev_word=S.p', 'prev_word=SEC', 'prev_word=Sales', 'prev_word=Saudi', 'prev_word=Securities', 'prev_word=Senate', 'prev_word=Seoul', 'prev_word=Separately', 'prev_word=September', 'prev_word=Service', 'prev_word=Seymour', 'prev_word=She', 'prev_word=Shorter', 'prev_word=Signet', 'prev_word=Smaby', 'prev_word=So', 'prev_word=South', 'prev_word=Spain', 'prev_word=Speedway', 'prev_word=Spoon', 'prev_word=Springs', 'prev_word=State', 'prev_word=Steel', 'prev_word=Stevens', 'prev_word=Stock', 'prev_word=Supreme', 'prev_word=Symphony', 'prev_word=System', 'prev_word=T.', 'prev_word=Taipei', 'prev_word=Taiwan', 'prev_word=Talcott', 'prev_word=Tassinari', 'prev_word=Terrence', 'prev_word=Texas', 'prev_word=Thailand', 'prev_word=That', 'prev_word=The', 'prev_word=Then', 'prev_word=There', 'prev_word=These', 'prev_word=They', 'prev_word=This', 'prev_word=Those', 'prev_word=Three', 'prev_word=Time', 'prev_word=Toronto', 'prev_word=Toys', 'prev_word=Trade', 'prev_word=Treasury', 'prev_word=Trojan', 'prev_word=Trustco', 'prev_word=Tuesday', 'prev_word=Turkey', 'prev_word=Typically', 'prev_word=U.S.', 'prev_word=Under', 'prev_word=United', 'prev_word=University', 'prev_word=Until', 'prev_word=Us', 'prev_word=Utilities', 'prev_word=Valley', 'prev_word=Vermont', 'prev_word=Victor', 'prev_word=Vinken', 'prev_word=Vitulli', 'prev_word=Vose', 'prev_word=W.R.', 'prev_word=Warner', 'prev_word=Washington', 'prev_word=We', 'prev_word=Wednesday', 'prev_word=West', 'prev_word=Westborough', 'prev_word=Western', 'prev_word=What', 'prev_word=Wheeland', 'prev_word=When', 'prev_word=While', 'prev_word=Wickliffe', 'prev_word=Wilbur', 'prev_word=Wilcox', 'prev_word=William', 'prev_word=Without', 'prev_word=Workers', 'prev_word=World', 'prev_word=World-Wide', 'prev_word=Yields', 'prev_word=York', 'prev_word=York-based', 'prev_word=You', 'prev_word=Zuckerman', 'prev_word=``', 'prev_word=a', 'prev_word=able', 'prev_word=about', 'prev_word=accelerated', 'prev_word=according', 'prev_word=accumulated', 'prev_word=acetate', 'prev_word=acquire', 'prev_word=acquisition', 'prev_word=act', 'prev_word=acts', 'prev_word=actual', 'prev_word=ad', 'prev_word=added', 'prev_word=addition', 'prev_word=additional', 'prev_word=addresses', 'prev_word=administrative', 'prev_word=advertisers', 'prev_word=advertising', 'prev_word=adviser', 'prev_word=after', 'prev_word=again', 'prev_word=against', 'prev_word=age', 'prev_word=ago', 'prev_word=agreement', 'prev_word=aid', 'prev_word=all', 'prev_word=allegedly', 'prev_word=almost', 'prev_word=along', 'prev_word=already', 'prev_word=also', 'prev_word=although', 'prev_word=amending', 'prev_word=amid', 'prev_word=among', 'prev_word=amount', 'prev_word=amounts', 'prev_word=amphobiles', 'prev_word=an', 'prev_word=and', 'prev_word=announce', 'prev_word=announced', 'prev_word=announcer', 'prev_word=annual', 'prev_word=another', 'prev_word=anticipated', 'prev_word=anticipates', 'prev_word=any', 'prev_word=anyone', 'prev_word=appealing', 'prev_word=appeals', 'prev_word=appear', 'prev_word=appears', 'prev_word=appliances', 'prev_word=applied', 'prev_word=apply', 'prev_word=approval', 'prev_word=approved', 'prev_word=are', 'prev_word=area', 'prev_word=argue', 'prev_word=arising', 'prev_word=arm', 'prev_word=around', 'prev_word=arrangement', 'prev_word=arsenide', 'prev_word=as', 'prev_word=asbestos', 'prev_word=asbestos-related', 'prev_word=asbestosis', 'prev_word=asserted', 'prev_word=assets', 'prev_word=assume', 'prev_word=at', 'prev_word=attached', 'prev_word=attempt', 'prev_word=attempts', 'prev_word=attention', 'prev_word=attracts', 'prev_word=auction', 'prev_word=audit', 'prev_word=authority', 'prev_word=authors', 'prev_word=auto', 'prev_word=average', 'prev_word=awards', 'prev_word=aware', 'prev_word=away', 'prev_word=bad', 'prev_word=balance', 'prev_word=ballroom', 'prev_word=ban', 'prev_word=bankruptcy', 'prev_word=banned', 'prev_word=base', 'prev_word=based', 'prev_word=be', 'prev_word=bearing', 'prev_word=beat', 'prev_word=because', 'prev_word=become', 'prev_word=been', 'prev_word=before', 'prev_word=began', 'prev_word=begin', 'prev_word=beginning', 'prev_word=being', 'prev_word=believe', 'prev_word=believes', 'prev_word=below', 'prev_word=benefited', 'prev_word=best', 'prev_word=between', 'prev_word=biannual', 'prev_word=bid', 'prev_word=bidders', 'prev_word=bidding', 'prev_word=big', 'prev_word=bilateral', 'prev_word=billion', 'prev_word=bills', 'prev_word=bin', 'prev_word=blip', 'prev_word=block', 'prev_word=blue', 'prev_word=board', 'prev_word=boarding', 'prev_word=body', 'prev_word=bonds', 'prev_word=bonuses', 'prev_word=book', 'prev_word=boom', 'prev_word=boosts', 'prev_word=borrowing', 'prev_word=both', 'prev_word=bowed', 'prev_word=breakfast', 'prev_word=brief', 'prev_word=bring', 'prev_word=buckle', 'prev_word=buffet', 'prev_word=buildings', 'prev_word=burlap', 'prev_word=buses', 'prev_word=business', 'prev_word=busloads', 'prev_word=but', 'prev_word=by', 'prev_word=calculate', 'prev_word=calculations', 'prev_word=called', 'prev_word=came', 'prev_word=can', 'prev_word=cancer', 'prev_word=cancer-causing', 'prev_word=capital', 'prev_word=capital-gains', 'prev_word=capture', 'prev_word=cars', 'prev_word=case', 'prev_word=cases', 'prev_word=cash', 'prev_word=casting', 'prev_word=caused', 'prev_word=causing', 'prev_word=ceiling', 'prev_word=cents', 'prev_word=chain', 'prev_word=chairman', 'prev_word=challenge', 'prev_word=changed', 'prev_word=chefs', 'prev_word=chief', 'prev_word=chip', 'prev_word=chips', 'prev_word=chocolate', 'prev_word=choice', 'prev_word=chrysotile', 'prev_word=cigarette', 'prev_word=cigarettes', 'prev_word=circulation', 'prev_word=citizens', 'prev_word=city', 'prev_word=claiming', 'prev_word=class', 'prev_word=classified', 'prev_word=clearly', 'prev_word=close', 'prev_word=closed', 'prev_word=closely', 'prev_word=cloud', 'prev_word=clouds', 'prev_word=cluttered', 'prev_word=collected', 'prev_word=collecting', 'prev_word=collections', 'prev_word=combined', 'prev_word=come', 'prev_word=comment', 'prev_word=commission', 'prev_word=common', 'prev_word=companies', 'prev_word=company', 'prev_word=comparable', 'prev_word=compared', 'prev_word=compatible', 'prev_word=compel', 'prev_word=compete', 'prev_word=competition', 'prev_word=competitor', 'prev_word=complained', 'prev_word=complete', 'prev_word=completed', 'prev_word=completely', 'prev_word=complicate', 'prev_word=complicated', 'prev_word=composite', 'prev_word=compound', 'prev_word=computer', 'prev_word=computerized', 'prev_word=concept', 'prev_word=concern', 'prev_word=concerned', 'prev_word=concerns', 'prev_word=confines', 'prev_word=conflicts', 'prev_word=conglomerate', 'prev_word=considered', 'prev_word=considering', 'prev_word=consomme', 'prev_word=construction', 'prev_word=consumer', 'prev_word=consumption', 'prev_word=contain', 'prev_word=continue', 'prev_word=continued', 'prev_word=continues', 'prev_word=continuing', 'prev_word=contract', 'prev_word=contracted', 'prev_word=contractor', 'prev_word=control', 'prev_word=controls', 'prev_word=copyright', 'prev_word=copyrights', 'prev_word=corporate', 'prev_word=cost', 'prev_word=costs', 'prev_word=cotton', 'prev_word=could', 'prev_word=countries', 'prev_word=country', 'prev_word=course', 'prev_word=court', 'prev_word=court-ordered', 'prev_word=courts', 'prev_word=craft', 'prev_word=creating', 'prev_word=creativity', 'prev_word=credits', 'prev_word=crews', 'prev_word=crocidolite', 'prev_word=curly', 'prev_word=current', 'prev_word=currently', 'prev_word=customers', 'prev_word=cutting', 'prev_word=dancing', 'prev_word=day', 'prev_word=days', 'prev_word=deaths', 'prev_word=debt', 'prev_word=decades', 'prev_word=decide', 'prev_word=decided', 'prev_word=decision', 'prev_word=decline', 'prev_word=declines', 'prev_word=declining', 'prev_word=decrease', 'prev_word=deemed', 'prev_word=default', 'prev_word=deficit', 'prev_word=degrees', 'prev_word=demand', 'prev_word=denial', 'prev_word=department', 'prev_word=depend', 'prev_word=describe', 'prev_word=described', 'prev_word=designer', 'prev_word=dessert', 'prev_word=details', 'prev_word=determined', 'prev_word=deterring', 'prev_word=development', 'prev_word=developments', 'prev_word=devices', 'prev_word=diagnosed', 'prev_word=did', 'prev_word=died', 'prev_word=different', 'prev_word=differential', 'prev_word=dinner', 'prev_word=diplomacy', 'prev_word=direct', 'prev_word=directly', 'prev_word=director', 'prev_word=directors', 'prev_word=disclosed', 'prev_word=discounts', 'prev_word=discouraging', 'prev_word=diseases', 'prev_word=disputed', 'prev_word=disputes', 'prev_word=disregard', 'prev_word=distribution', 'prev_word=disturbing', 'prev_word=diversifying', 'prev_word=dividends', 'prev_word=division', 'prev_word=do', 'prev_word=documents', 'prev_word=does', 'prev_word=doing', 'prev_word=dollar-denominated', 'prev_word=domestic', 'prev_word=doubled', 'prev_word=down', 'prev_word=downtown', 'prev_word=drain', 'prev_word=drinks', 'prev_word=drivers', 'prev_word=drooled', 'prev_word=drop', 'prev_word=dropped', 'prev_word=dry', 'prev_word=duckling', 'prev_word=dummies', 'prev_word=dumped', 'prev_word=during', 'prev_word=dust', 'prev_word=dusty', 'prev_word=each', 'prev_word=earlier', 'prev_word=earliest', 'prev_word=early', 'prev_word=earnings', 'prev_word=eased', 'prev_word=easily', 'prev_word=eat', 'prev_word=economic', 'prev_word=economy', 'prev_word=editor', 'prev_word=effective', 'prev_word=effectively', 'prev_word=efficiencies', 'prev_word=efforts', 'prev_word=either', 'prev_word=elaborate', 'prev_word=elected', 'prev_word=electric', 'prev_word=electric-utility', 'prev_word=electricity', 'prev_word=electronic', 'prev_word=electronics', 'prev_word=emerges', 'prev_word=employs', 'prev_word=enact', 'prev_word=end', 'prev_word=ended', 'prev_word=energy-services', 'prev_word=enforcement', 'prev_word=engineering', 'prev_word=enough', 'prev_word=ensnarled', 'prev_word=enters', 'prev_word=entertain', 'prev_word=equipment', 'prev_word=equity', 'prev_word=escort', 'prev_word=estimated', 'prev_word=evaluated', 'prev_word=even', 'prev_word=evening', 'prev_word=events', 'prev_word=ever', 'prev_word=every', 'prev_word=everyday', 'prev_word=exact', 'prev_word=example', 'prev_word=exceed', 'prev_word=execs', 'prev_word=executive', 'prev_word=executives', 'prev_word=exhaust', 'prev_word=exhibition', 'prev_word=existed', 'prev_word=expand', 'prev_word=expect', 'prev_word=expected', 'prev_word=expects', 'prev_word=expedited', 'prev_word=expenses', 'prev_word=explained', 'prev_word=export-oriented', 'prev_word=exports', 'prev_word=exposed', 'prev_word=exposures', 'prev_word=face', 'prev_word=faces', 'prev_word=fact', 'prev_word=factors', 'prev_word=factory', 'prev_word=failing', 'prev_word=fall', 'prev_word=fans', 'prev_word=far', 'prev_word=father', 'prev_word=favored', 'prev_word=fed', 'prev_word=federal', 'prev_word=fees', 'prev_word=fell', 'prev_word=few', 'prev_word=fewer', 'prev_word=fiber', 'prev_word=fibers', 'prev_word=field', 'prev_word=fierce', 'prev_word=fifth', 'prev_word=fight', 'prev_word=figures', 'prev_word=filed', 'prev_word=filing', 'prev_word=films', 'prev_word=filter', 'prev_word=filters', 'prev_word=financial', 'prev_word=financing', 'prev_word=finding', 'prev_word=findings', 'prev_word=fine', 'prev_word=firm', 'prev_word=firms', 'prev_word=first', 'prev_word=five', 'prev_word=fixtures', 'prev_word=flat', 'prev_word=fledgling', 'prev_word=followed', 'prev_word=food', 'prev_word=for', 'prev_word=force', 'prev_word=forecast', 'prev_word=forecasts', 'prev_word=foreign', 'prev_word=form', 'prev_word=former', 'prev_word=formerly', 'prev_word=forum', 'prev_word=forward', 'prev_word=found', 'prev_word=four', 'prev_word=four-color', 'prev_word=fraction', 'prev_word=fragile', 'prev_word=free', 'prev_word=from', 'prev_word=full', 'prev_word=fully', 'prev_word=fund', 'prev_word=funds', 'prev_word=further', 'prev_word=future', 'prev_word=gaining', 'prev_word=gains', 'prev_word=gallium', 'prev_word=gave', 'prev_word=general', 'prev_word=genuine', 'prev_word=giants', 'prev_word=give', 'prev_word=giveaways', 'prev_word=gloomy', 'prev_word=go', 'prev_word=good', 'prev_word=got', 'prev_word=government', 'prev_word=governor', 'prev_word=gradual', 'prev_word=grew', 'prev_word=group', 'prev_word=groups', 'prev_word=growing', 'prev_word=growth', 'prev_word=guaranteed', 'prev_word=guest', 'prev_word=guests', 'prev_word=had', 'prev_word=half', 'prev_word=hand', 'prev_word=handling', 'prev_word=hard', 'prev_word=hardware', 'prev_word=harms', 'prev_word=has', 'prev_word=hauled', 'prev_word=have', 'prev_word=having', 'prev_word=he', 'prev_word=heads', 'prev_word=heard', 'prev_word=heartland', 'prev_word=heavily', 'prev_word=heavy', 'prev_word=held', 'prev_word=help', 'prev_word=high', 'prev_word=high-technology', 'prev_word=higher', 'prev_word=highest', 'prev_word=him', 'prev_word=his', 'prev_word=holders', 'prev_word=holding', 'prev_word=holds', 'prev_word=honor', 'prev_word=hook', 'prev_word=hope', 'prev_word=hopes', 'prev_word=hostage', 'prev_word=hotel', 'prev_word=hottest', 'prev_word=household', 'prev_word=huge', 'prev_word=human', 'prev_word=hung', 'prev_word=hurting', 'prev_word=idea', 'prev_word=if', 'prev_word=illegal', 'prev_word=imported', 'prev_word=imports', 'prev_word=imposed', 'prev_word=improve', 'prev_word=improved', 'prev_word=improvements', 'prev_word=in', 'prev_word=inadequate', 'prev_word=incentive', 'prev_word=inched', 'prev_word=include', 'prev_word=includes', 'prev_word=including', 'prev_word=increase', 'prev_word=increased', 'prev_word=increases', 'prev_word=increasing', 'prev_word=incurred', 'prev_word=independent', 'prev_word=indicate', 'prev_word=indicator', 'prev_word=industrial', 'prev_word=industrialized', 'prev_word=industry', 'prev_word=information', 'prev_word=initial', 'prev_word=initialing', 'prev_word=instituted', 'prev_word=institutions', 'prev_word=intellectual', 'prev_word=intellectual-property', 'prev_word=intense', 'prev_word=interest', 'prev_word=interests', 'prev_word=interim', 'prev_word=internal', 'prev_word=international', 'prev_word=interview', 'prev_word=into', 'prev_word=introduce', 'prev_word=introducing', 'prev_word=introduction', 'prev_word=inventiveness', 'prev_word=investigation', 'prev_word=investigations', 'prev_word=investing', 'prev_word=investments', 'prev_word=investor', 'prev_word=investors', 'prev_word=invests', 'prev_word=involving', 'prev_word=is', 'prev_word=issue', 'prev_word=it', 'prev_word=its', 'prev_word=jet', 'prev_word=join', 'prev_word=joined', 'prev_word=jump', 'prev_word=just', 'prev_word=justify', 'prev_word=keep', 'prev_word=kind', 'prev_word=knowns', 'prev_word=labor', 'prev_word=large', 'prev_word=largest', 'prev_word=last', 'prev_word=later', 'prev_word=latest', 'prev_word=lauded', 'prev_word=law', 'prev_word=lawyer', 'prev_word=least', 'prev_word=leave', 'prev_word=leaves', 'prev_word=led', 'prev_word=legislation', 'prev_word=lengthened', 'prev_word=less', 'prev_word=less-serious', 'prev_word=lesser', 'prev_word=lieutenant', 'prev_word=lift', 'prev_word=lifted', 'prev_word=lights', 'prev_word=like', 'prev_word=likely', 'prev_word=link', 'prev_word=list', 'prev_word=literary', 'prev_word=lobster', 'prev_word=local', 'prev_word=located', 'prev_word=long', 'prev_word=longer', 'prev_word=longest', 'prev_word=longevity', 'prev_word=looking', 'prev_word=loss', 'prev_word=lower', 'prev_word=lower-priority', 'prev_word=lowered', 'prev_word=lung', 'prev_word=lungs', 'prev_word=machine', 'prev_word=machines', 'prev_word=made', 'prev_word=magazine', 'prev_word=maintaining', 'prev_word=make', 'prev_word=maker', 'prev_word=makers', 'prev_word=makes', 'prev_word=making', 'prev_word=malignant', 'prev_word=management', 'prev_word=manager', 'prev_word=managers', 'prev_word=manufacture', 'prev_word=manufacturing', 'prev_word=many', 'prev_word=market', 'prev_word=marketing', 'prev_word=marketplace', 'prev_word=material', 'prev_word=matter', 'prev_word=matters', 'prev_word=maturities', 'prev_word=maturity', 'prev_word=may', 'prev_word=meal', 'prev_word=measure', 'prev_word=mechanical', 'prev_word=mechanically', 'prev_word=medical', 'prev_word=medium-sized', 'prev_word=meet', 'prev_word=meeting', 'prev_word=meetings', 'prev_word=men', 'prev_word=mere', 'prev_word=merit', 'prev_word=mesothelioma', 'prev_word=message', 'prev_word=mid-October', 'prev_word=midnight', 'prev_word=might', 'prev_word=mignon', 'prev_word=miles', 'prev_word=million', 'prev_word=minute', 'prev_word=mixed', 'prev_word=modest', 'prev_word=money', 'prev_word=money-fund', 'prev_word=money-market', 'prev_word=month', 'prev_word=monthly', 'prev_word=months', 'prev_word=moons', 'prev_word=morbidity', 'prev_word=more', 'prev_word=morning', 'prev_word=most', 'prev_word=motor', 'prev_word=mousseline', 'prev_word=move', 'prev_word=moved', 'prev_word=movie', 'prev_word=much', 'prev_word=museum', 'prev_word=mutual', \"prev_word=n't\", 'prev_word=name', 'prev_word=named', 'prev_word=nation', 'prev_word=nations', 'prev_word=near', 'prev_word=needing', 'prev_word=needle-like', 'prev_word=negotiations', 'prev_word=negotiators', 'prev_word=new', 'prev_word=news', 'prev_word=newsweekly', 'prev_word=next', 'prev_word=nightmare', 'prev_word=nine', 'prev_word=no', 'prev_word=none', 'prev_word=nonexecutive', 'prev_word=nor', 'prev_word=not', 'prev_word=note', 'prev_word=noted', 'prev_word=now', 'prev_word=nuclear', 'prev_word=number', 'prev_word=obligations', 'prev_word=obtain', 'prev_word=occur', 'prev_word=of', 'prev_word=off', 'prev_word=offending', 'prev_word=offer', 'prev_word=offered', 'prev_word=officer', 'prev_word=officers', 'prev_word=official', 'prev_word=officials', 'prev_word=old', 'prev_word=on', 'prev_word=once', 'prev_word=one', 'prev_word=only', 'prev_word=open', 'prev_word=opened', 'prev_word=operating', 'prev_word=operational', 'prev_word=operations', 'prev_word=or', 'prev_word=order', 'prev_word=ordered', 'prev_word=orders', 'prev_word=other', 'prev_word=our', 'prev_word=out', 'prev_word=outlawed', 'prev_word=outside', 'prev_word=ovation', 'prev_word=over', 'prev_word=overruns', 'prev_word=overseas', 'prev_word=oversee', 'prev_word=own', 'prev_word=owned', 'prev_word=owners', 'prev_word=owns', 'prev_word=pace', 'prev_word=page', 'prev_word=pages', 'prev_word=paid', 'prev_word=paper', 'prev_word=parlors', 'prev_word=part', 'prev_word=particularly', 'prev_word=parts', 'prev_word=passenger', 'prev_word=past', 'prev_word=patent', 'prev_word=patents', 'prev_word=pathlogy', 'prev_word=pay', 'prev_word=paying', 'prev_word=payoff', 'prev_word=pending', 'prev_word=people', 'prev_word=per', 'prev_word=percentage', 'prev_word=performance', 'prev_word=perhaps', 'prev_word=period', 'prev_word=permanent', 'prev_word=permit', 'prev_word=persistent', 'prev_word=pharmaceutical', 'prev_word=pianist-comedian', 'prev_word=piracy', 'prev_word=pirates', 'prev_word=place', 'prev_word=placed', 'prev_word=places', 'prev_word=plan', 'prev_word=plant', 'prev_word=plus', 'prev_word=point', 'prev_word=pointed', 'prev_word=police', 'prev_word=political', 'prev_word=pool', 'prev_word=poor', 'prev_word=portfolio', 'prev_word=pose', 'prev_word=position', 'prev_word=positions', 'prev_word=possible', 'prev_word=posted', 'prev_word=potential', 'prev_word=pour', 'prev_word=poured', 'prev_word=power', 'prev_word=powwow', 'prev_word=precedent', 'prev_word=preliminary', 'prev_word=presence', 'prev_word=president', 'prev_word=presumably', 'prev_word=previous', 'prev_word=previously', 'prev_word=price', 'prev_word=priced', 'prev_word=primarily', 'prev_word=priority', 'prev_word=probably', 'prev_word=problem', 'prev_word=problems', 'prev_word=procedures', 'prev_word=proceedings', 'prev_word=process', 'prev_word=processors', 'prev_word=produce', 'prev_word=producers', 'prev_word=product-design', 'prev_word=products', 'prev_word=professor', 'prev_word=profit', 'prev_word=progress', 'prev_word=project', 'prev_word=prolonged', 'prev_word=promissory', 'prev_word=prompted', 'prev_word=properties', 'prev_word=property', 'prev_word=proposed', 'prev_word=prosecutors', 'prev_word=prospects', 'prev_word=protect', 'prev_word=protecting', 'prev_word=protection', 'prev_word=protections', 'prev_word=prototype', 'prev_word=prove', 'prev_word=providing', 'prev_word=provision', 'prev_word=public', 'prev_word=publishing', 'prev_word=purchase', 'prev_word=pursue', 'prev_word=question', 'prev_word=questionable', 'prev_word=race', 'prev_word=raced', 'prev_word=raise', 'prev_word=raising', 'prev_word=range', 'prev_word=raspberry', 'prev_word=rate', 'prev_word=ratepayers', 'prev_word=rates', 'prev_word=rather', 'prev_word=reached', 'prev_word=realization', 'prev_word=receive', 'prev_word=received', 'prev_word=receiving', 'prev_word=recent', 'prev_word=recently', 'prev_word=recognition', 'prev_word=recognize', 'prev_word=record', 'prev_word=recorded', 'prev_word=records', 'prev_word=red', 'prev_word=red-carpet', 'prev_word=reductions', 'prev_word=refile', 'prev_word=reflecting', 'prev_word=refund', 'prev_word=refunded', 'prev_word=refunds', 'prev_word=registered', 'prev_word=regulate', 'prev_word=regulation', 'prev_word=regulatory', 'prev_word=reinvestment', 'prev_word=rejected', 'prev_word=related', 'prev_word=relatively', 'prev_word=released', 'prev_word=remain', 'prev_word=remaining', 'prev_word=removed', 'prev_word=renewal', 'prev_word=renovated', 'prev_word=reorganization', 'prev_word=replaced', 'prev_word=report', 'prev_word=reported', 'prev_word=reports', 'prev_word=request', 'prev_word=require', 'prev_word=required', 'prev_word=requires', 'prev_word=research', 'prev_word=researchers', 'prev_word=resigned', 'prev_word=resilient', 'prev_word=resort', 'prev_word=resources', 'prev_word=result', 'prev_word=results', 'prev_word=retailing', 'prev_word=retain', 'prev_word=retaliation', 'prev_word=retired', 'prev_word=return', 'prev_word=revenue', 'prev_word=review', 'prev_word=reward', 'prev_word=rewards', 'prev_word=rights', 'prev_word=rises', 'prev_word=rising', 'prev_word=risk', 'prev_word=risks', 'prev_word=rival', 'prev_word=robotic', 'prev_word=rock', 'prev_word=roll', 'prev_word=rose', 'prev_word=round', 'prev_word=royalty', 'prev_word=rule', 'prev_word=ruled', 'prev_word=ruling', 'prev_word=rusty', 'prev_word=sacks', 'prev_word=said', 'prev_word=sale', 'prev_word=sales', 'prev_word=same', 'prev_word=sanctions', 'prev_word=sauce', 'prev_word=savings', 'prev_word=say', 'prev_word=saying', 'prev_word=says', 'prev_word=scenario', 'prev_word=schoolboys', 'prev_word=schools', 'prev_word=scientists', 'prev_word=scrapped', 'prev_word=scrutiny', 'prev_word=search-and-seizure', 'prev_word=seats', 'prev_word=second', 'prev_word=securities', 'prev_word=seeking', 'prev_word=seemed', 'prev_word=senior', 'prev_word=service', 'prev_word=set', 'prev_word=setback', 'prev_word=setting', 'prev_word=settled', 'prev_word=seven', 'prev_word=seven-day', 'prev_word=several', 'prev_word=share', 'prev_word=shareholders', 'prev_word=shares', 'prev_word=sharply', 'prev_word=she', 'prev_word=sheet', 'prev_word=sheets', 'prev_word=shore', 'prev_word=short-term', 'prev_word=should', 'prev_word=show', 'prev_word=showed', 'prev_word=showing', 'prev_word=showings', 'prev_word=sign', 'prev_word=signs', 'prev_word=simple', 'prev_word=since', 'prev_word=six', 'prev_word=six-month', 'prev_word=slash', 'prev_word=slid', 'prev_word=slide', 'prev_word=slow', 'prev_word=sluggish', 'prev_word=sluggishness', 'prev_word=small', 'prev_word=smokers', 'prev_word=smooth', 'prev_word=so', 'prev_word=so-called', 'prev_word=software', 'prev_word=sold', 'prev_word=some', 'prev_word=sooner', 'prev_word=space', 'prev_word=special', 'prev_word=specializing', 'prev_word=speed', 'prev_word=speedway', 'prev_word=spending', 'prev_word=spent', 'prev_word=spinoff', 'prev_word=spokesman', 'prev_word=spokeswoman', 'prev_word=spokewoman', 'prev_word=sponsor', 'prev_word=spring', 'prev_word=squeezed', 'prev_word=standard', 'prev_word=standards', 'prev_word=standing', 'prev_word=stars', 'prev_word=starters', 'prev_word=state', 'prev_word=state-owned', 'prev_word=stiff', 'prev_word=still', 'prev_word=stock', 'prev_word=stockholders', 'prev_word=stood', 'prev_word=stopped', 'prev_word=story', 'prev_word=striking', 'prev_word=stringently', 'prev_word=strings', 'prev_word=strong', 'prev_word=stronger', 'prev_word=studied', 'prev_word=study', 'prev_word=subject', 'prev_word=subscriber', 'prev_word=subscribers', 'prev_word=substance', 'prev_word=substantial', 'prev_word=succeed', 'prev_word=succeeds', 'prev_word=success', 'prev_word=such', 'prev_word=suffer', 'prev_word=summer', 'prev_word=summer\\\\/winter', 'prev_word=sunny', 'prev_word=supercomputer', 'prev_word=supercomputers', 'prev_word=support', 'prev_word=surplus', 'prev_word=survival', 'prev_word=surviving', 'prev_word=suspended', 'prev_word=symptoms', 'prev_word=systems', 'prev_word=take', 'prev_word=talking', 'prev_word=tallies', 'prev_word=target', 'prev_word=task', 'prev_word=tasty', 'prev_word=tax', 'prev_word=taxable', 'prev_word=taxes', 'prev_word=team', 'prev_word=teams', 'prev_word=technology', 'prev_word=telephones', 'prev_word=tells', 'prev_word=tempts', 'prev_word=terms', 'prev_word=terrine', 'prev_word=than', 'prev_word=that', 'prev_word=the', 'prev_word=their', 'prev_word=them', 'prev_word=themselves', 'prev_word=then', 'prev_word=theory', 'prev_word=there', 'prev_word=these', 'prev_word=they', 'prev_word=this', 'prev_word=those', 'prev_word=though', 'prev_word=thought', 'prev_word=threat', 'prev_word=three', 'prev_word=thrift', 'prev_word=through', 'prev_word=tied', 'prev_word=time', 'prev_word=times', 'prev_word=titans', 'prev_word=to', 'prev_word=today', 'prev_word=too', 'prev_word=took', 'prev_word=top', 'prev_word=top-yielding', 'prev_word=total', 'prev_word=totaled', 'prev_word=touchy', 'prev_word=town', 'prev_word=towns', 'prev_word=tracked', 'prev_word=tracking', 'prev_word=trade', 'prev_word=trademark', 'prev_word=trading', 'prev_word=traffic', 'prev_word=trained', 'prev_word=transaction', 'prev_word=transferring', 'prev_word=treat', 'prev_word=treatment', 'prev_word=tricky', 'prev_word=trillion', 'prev_word=troubled', 'prev_word=trucks', 'prev_word=true', 'prev_word=trying', 'prev_word=turned', 'prev_word=twice', 'prev_word=two', 'prev_word=type', 'prev_word=typically', 'prev_word=unauthorized', 'prev_word=under', 'prev_word=underlying', 'prev_word=underscore', 'prev_word=undersecretary', 'prev_word=unfair-trade', 'prev_word=unimpeded', 'prev_word=unit', 'prev_word=units', 'prev_word=unproven', 'prev_word=unreasonable', 'prev_word=until', 'prev_word=unusually', 'prev_word=up', 'prev_word=upheld', 'prev_word=us', 'prev_word=use', 'prev_word=used', 'prev_word=useful', 'prev_word=users', 'prev_word=uses', 'prev_word=using', 'prev_word=utility', 'prev_word=valuation', 'prev_word=value', 'prev_word=values', 'prev_word=vary', 'prev_word=varying', 'prev_word=veal', 'prev_word=vehicles', 'prev_word=ventilated', 'prev_word=very', 'prev_word=vice', 'prev_word=video-viewing', 'prev_word=videocassette', 'prev_word=virtually', 'prev_word=visitors', 'prev_word=voted', 'prev_word=vowed', 'prev_word=waiving', 'prev_word=want', 'prev_word=was', 'prev_word=watch', 'prev_word=watches', 'prev_word=watching', 'prev_word=way', 'prev_word=we', 'prev_word=week', 'prev_word=weeklies', 'prev_word=weeks', 'prev_word=welcomed', 'prev_word=well', 'prev_word=were', 'prev_word=what', 'prev_word=when', 'prev_word=where', 'prev_word=whether', 'prev_word=which', 'prev_word=while', 'prev_word=who', 'prev_word=whose', 'prev_word=why', 'prev_word=will', 'prev_word=winter', 'prev_word=with', 'prev_word=withdraw', 'prev_word=withdrawal', 'prev_word=without', 'prev_word=wives', 'prev_word=work', 'prev_word=worked', 'prev_word=workers', 'prev_word=working', 'prev_word=works', 'prev_word=world', 'prev_word=world-wide', 'prev_word=worried', 'prev_word=worst-case', 'prev_word=worth', 'prev_word=would', 'prev_word=year', 'prev_word=year-end', 'prev_word=year-to-year', 'prev_word=years', 'prev_word=yesterday', 'prev_word=yet', 'prev_word=yield', 'prev_word=yielding', 'prev_word=yields', 'prev_word=you', 'suffix-1=$', 'suffix-1=%', 'suffix-1=&', \"suffix-1='\", 'suffix-1=*', 'suffix-1=,', 'suffix-1=-', 'suffix-1=.', 'suffix-1=0', 'suffix-1=1', 'suffix-1=2', 'suffix-1=3', 'suffix-1=4', 'suffix-1=5', 'suffix-1=6', 'suffix-1=7', 'suffix-1=8', 'suffix-1=9', 'suffix-1=:', 'suffix-1=;', 'suffix-1=A', 'suffix-1=C', 'suffix-1=I', 'suffix-1=R', 'suffix-1=S', 'suffix-1=`', 'suffix-1=a', 'suffix-1=c', 'suffix-1=d', 'suffix-1=e', 'suffix-1=f', 'suffix-1=g', 'suffix-1=h', 'suffix-1=i', 'suffix-1=k', 'suffix-1=l', 'suffix-1=m', 'suffix-1=n', 'suffix-1=o', 'suffix-1=p', 'suffix-1=q', 'suffix-1=r', 'suffix-1=s', 'suffix-1=t', 'suffix-1=u', 'suffix-1=w', 'suffix-1=x', 'suffix-1=y', 'suffix-2=$', 'suffix-2=%', 'suffix-2=&', \"suffix-2='\", \"suffix-2=''\", \"suffix-2='s\", \"suffix-2='t\", 'suffix-2=*', 'suffix-2=,', 'suffix-2=--', 'suffix-2=-1', 'suffix-2=-2', 'suffix-2=-3', 'suffix-2=-4', 'suffix-2=-5', 'suffix-2=-6', 'suffix-2=-7', 'suffix-2=-8', 'suffix-2=-9', 'suffix-2=.', 'suffix-2=..', 'suffix-2=.1', 'suffix-2=.2', 'suffix-2=.3', 'suffix-2=.4', 'suffix-2=.5', 'suffix-2=.6', 'suffix-2=.7', 'suffix-2=.8', 'suffix-2=.9', 'suffix-2=.p', 'suffix-2=/2', 'suffix-2=0', 'suffix-2=00', 'suffix-2=01', 'suffix-2=04', 'suffix-2=0s', 'suffix-2=1', 'suffix-2=10', 'suffix-2=11', 'suffix-2=12', 'suffix-2=13', 'suffix-2=14', 'suffix-2=15', 'suffix-2=16', 'suffix-2=17', 'suffix-2=18', 'suffix-2=19', 'suffix-2=2', 'suffix-2=20', 'suffix-2=21', 'suffix-2=22', 'suffix-2=23', 'suffix-2=24', 'suffix-2=25', 'suffix-2=26', 'suffix-2=27', 'suffix-2=28', 'suffix-2=29', 'suffix-2=3', 'suffix-2=30', 'suffix-2=31', 'suffix-2=33', 'suffix-2=35', 'suffix-2=37', 'suffix-2=38', 'suffix-2=39', 'suffix-2=4', 'suffix-2=40', 'suffix-2=41', 'suffix-2=43', 'suffix-2=45', 'suffix-2=47', 'suffix-2=49', 'suffix-2=5', 'suffix-2=50', 'suffix-2=52', 'suffix-2=53', 'suffix-2=55', 'suffix-2=56', 'suffix-2=59', 'suffix-2=60', 'suffix-2=61', 'suffix-2=63', 'suffix-2=68', 'suffix-2=70', 'suffix-2=71', 'suffix-2=75', 'suffix-2=76', 'suffix-2=80', 'suffix-2=85', 'suffix-2=86', 'suffix-2=87', 'suffix-2=88', 'suffix-2=89', 'suffix-2=9', 'suffix-2=90', 'suffix-2=91', 'suffix-2=95', 'suffix-2=97', 'suffix-2=:', 'suffix-2=;', 'suffix-2=?*', 'suffix-2=A', 'suffix-2=A.', 'suffix-2=At', 'suffix-2=B-', 'suffix-2=B.', 'suffix-2=BC', 'suffix-2=By', 'suffix-2=D.', 'suffix-2=Du', 'suffix-2=EC', 'suffix-2=H.', 'suffix-2=He', 'suffix-2=I', 'suffix-2=II', 'suffix-2=In', 'suffix-2=It', 'suffix-2=J.', 'suffix-2=LC', 'suffix-2=M.', 'suffix-2=No', 'suffix-2=On', 'suffix-2=Os', 'suffix-2=P.', 'suffix-2=PS', 'suffix-2=R', 'suffix-2=R.', 'suffix-2=RC', 'suffix-2=S.', 'suffix-2=So', 'suffix-2=T.', 'suffix-2=U*', 'suffix-2=Us', 'suffix-2=V.', 'suffix-2=We', 'suffix-2=``', 'suffix-2=a', 'suffix-2=ad', 'suffix-2=ag', 'suffix-2=al', 'suffix-2=am', 'suffix-2=an', 'suffix-2=ap', 'suffix-2=aq', 'suffix-2=ar', 'suffix-2=as', 'suffix-2=at', 'suffix-2=au', 'suffix-2=aw', 'suffix-2=ax', 'suffix-2=ay', 'suffix-2=b.', 'suffix-2=be', 'suffix-2=bt', 'suffix-2=by', 'suffix-2=c.', 'suffix-2=ca', 'suffix-2=ce', 'suffix-2=ch', 'suffix-2=ck', 'suffix-2=co', 'suffix-2=cs', 'suffix-2=ct', 'suffix-2=cy', 'suffix-2=d.', 'suffix-2=da', 'suffix-2=de', 'suffix-2=di', 'suffix-2=do', 'suffix-2=ds', 'suffix-2=dy', 'suffix-2=ea', 'suffix-2=ed', 'suffix-2=ee', 'suffix-2=ef', 'suffix-2=ei', 'suffix-2=ek', 'suffix-2=el', 'suffix-2=em', 'suffix-2=en', 'suffix-2=ep', 'suffix-2=er', 'suffix-2=es', 'suffix-2=et', 'suffix-2=ew', 'suffix-2=ey', 'suffix-2=fe', 'suffix-2=ff', 'suffix-2=fs', 'suffix-2=ft', 'suffix-2=fy', 'suffix-2=ge', 'suffix-2=gh', 'suffix-2=gn', 'suffix-2=go', 'suffix-2=gs', 'suffix-2=gy', 'suffix-2=he', 'suffix-2=hi', 'suffix-2=hn', 'suffix-2=ho', 'suffix-2=hs', 'suffix-2=ht', 'suffix-2=hy', 'suffix-2=ia', 'suffix-2=ic', 'suffix-2=id', 'suffix-2=ie', 'suffix-2=if', 'suffix-2=ig', 'suffix-2=il', 'suffix-2=im', 'suffix-2=in', 'suffix-2=io', 'suffix-2=ip', 'suffix-2=ir', 'suffix-2=is', 'suffix-2=it', 'suffix-2=ix', 'suffix-2=ke', 'suffix-2=ks', 'suffix-2=ky', 'suffix-2=l.', 'suffix-2=la', 'suffix-2=ld', 'suffix-2=le', 'suffix-2=lf', 'suffix-2=li', 'suffix-2=ll', 'suffix-2=lm', 'suffix-2=lp', 'suffix-2=ls', 'suffix-2=lt', 'suffix-2=ly', 'suffix-2=ma', 'suffix-2=me', 'suffix-2=mp', 'suffix-2=ms', 'suffix-2=my', 'suffix-2=n.', 'suffix-2=na', 'suffix-2=nd', 'suffix-2=ne', 'suffix-2=ng', 'suffix-2=nk', 'suffix-2=nn', 'suffix-2=no', 'suffix-2=ns', 'suffix-2=nt', 'suffix-2=ny', 'suffix-2=o.', 'suffix-2=od', 'suffix-2=of', 'suffix-2=ok', 'suffix-2=ol', 'suffix-2=om', 'suffix-2=on', 'suffix-2=oo', 'suffix-2=op', 'suffix-2=or', 'suffix-2=os', 'suffix-2=ot', 'suffix-2=ou', 'suffix-2=ow', 'suffix-2=ox', 'suffix-2=p.', 'suffix-2=pe', 'suffix-2=ph', 'suffix-2=ps', 'suffix-2=pt', 'suffix-2=r.', 'suffix-2=ra', 'suffix-2=rd', 'suffix-2=re', 'suffix-2=ri', 'suffix-2=rk', 'suffix-2=rm', 'suffix-2=rn', 'suffix-2=rp', 'suffix-2=rs', 'suffix-2=rt', 'suffix-2=ry', 'suffix-2=s.', 'suffix-2=se', 'suffix-2=sh', 'suffix-2=sk', 'suffix-2=so', 'suffix-2=ss', 'suffix-2=st', 'suffix-2=su', 'suffix-2=td', 'suffix-2=te', 'suffix-2=th', 'suffix-2=to', 'suffix-2=ts', 'suffix-2=tt', 'suffix-2=ty', 'suffix-2=uc', 'suffix-2=ud', 'suffix-2=ue', 'suffix-2=ul', 'suffix-2=um', 'suffix-2=up', 'suffix-2=ur', 'suffix-2=us', 'suffix-2=ut', 'suffix-2=v.', 'suffix-2=ve', 'suffix-2=vy', 'suffix-2=we', 'suffix-2=wn', 'suffix-2=wo', 'suffix-2=ws', 'suffix-2=xt', 'suffix-2=ys', 'suffix-2=ze', 'suffix-3=$', 'suffix-3=%', 'suffix-3=&', \"suffix-3='\", \"suffix-3=''\", \"suffix-3='re\", \"suffix-3='s\", 'suffix-3=*', 'suffix-3=*-1', 'suffix-3=*-2', 'suffix-3=*-3', 'suffix-3=*-4', 'suffix-3=*-5', 'suffix-3=*-6', 'suffix-3=*-7', 'suffix-3=*-8', 'suffix-3=*-9', 'suffix-3=*?*', 'suffix-3=*U*', 'suffix-3=,', 'suffix-3=--', 'suffix-3=-10', 'suffix-3=-11', 'suffix-3=-12', 'suffix-3=-13', 'suffix-3=-14', 'suffix-3=-15', 'suffix-3=-16', 'suffix-3=-17', 'suffix-3=-18', 'suffix-3=-19', 'suffix-3=-20', 'suffix-3=-21', 'suffix-3=-22', 'suffix-3=-23', 'suffix-3=-24', 'suffix-3=-25', 'suffix-3=-26', 'suffix-3=-27', 'suffix-3=-28', 'suffix-3=-29', 'suffix-3=-90', 'suffix-3=.', 'suffix-3=...', 'suffix-3=.01', 'suffix-3=.04', 'suffix-3=.12', 'suffix-3=.14', 'suffix-3=.19', 'suffix-3=.22', 'suffix-3=.25', 'suffix-3=.29', 'suffix-3=.37', 'suffix-3=.38', 'suffix-3=.39', 'suffix-3=.45', 'suffix-3=.47', 'suffix-3=.53', 'suffix-3=.55', 'suffix-3=.56', 'suffix-3=.75', 'suffix-3=.80', 'suffix-3=.87', 'suffix-3=.90', 'suffix-3=.H.', 'suffix-3=.P.', 'suffix-3=.R.', 'suffix-3=.S.', 'suffix-3=.V.', 'suffix-3=0', 'suffix-3=0.4', 'suffix-3=0.5', 'suffix-3=0.7', 'suffix-3=000', 'suffix-3=004', 'suffix-3=056', 'suffix-3=1', 'suffix-3=1.5', 'suffix-3=100', 'suffix-3=101', 'suffix-3=11', 'suffix-3=12', 'suffix-3=120', 'suffix-3=125', 'suffix-3=140', 'suffix-3=15', 'suffix-3=16', 'suffix-3=160', 'suffix-3=17', 'suffix-3=18', 'suffix-3=19', 'suffix-3=190', 'suffix-3=195', 'suffix-3=2', 'suffix-3=2.2', 'suffix-3=2.5', 'suffix-3=2.6', 'suffix-3=2.7', 'suffix-3=20', 'suffix-3=21', 'suffix-3=212', 'suffix-3=22', 'suffix-3=237', 'suffix-3=241', 'suffix-3=245', 'suffix-3=25', 'suffix-3=250', 'suffix-3=27', 'suffix-3=28', 'suffix-3=29', 'suffix-3=295', 'suffix-3=3', 'suffix-3=3.1', 'suffix-3=3.2', 'suffix-3=3.4', 'suffix-3=30', 'suffix-3=301', 'suffix-3=31', 'suffix-3=328', 'suffix-3=33', 'suffix-3=35', 'suffix-3=37', 'suffix-3=370', 'suffix-3=375', 'suffix-3=376', 'suffix-3=38', 'suffix-3=4', 'suffix-3=4.8', 'suffix-3=40', 'suffix-3=400', 'suffix-3=41', 'suffix-3=43', 'suffix-3=45', 'suffix-3=450', 'suffix-3=453', 'suffix-3=47', 'suffix-3=49', 'suffix-3=5', 'suffix-3=5.5', 'suffix-3=5.9', 'suffix-3=50', 'suffix-3=500', 'suffix-3=50s', 'suffix-3=52', 'suffix-3=53', 'suffix-3=55', 'suffix-3=59', 'suffix-3=60', 'suffix-3=61', 'suffix-3=620', 'suffix-3=63', 'suffix-3=68', 'suffix-3=7.3', 'suffix-3=7.5', 'suffix-3=700', 'suffix-3=71', 'suffix-3=8.3', 'suffix-3=841', 'suffix-3=875', 'suffix-3=9', 'suffix-3=9.3', 'suffix-3=9.8', 'suffix-3=953', 'suffix-3=955', 'suffix-3=956', 'suffix-3=980', 'suffix-3=985', 'suffix-3=986', 'suffix-3=988', 'suffix-3=989', 'suffix-3=990', 'suffix-3=991', 'suffix-3=997', 'suffix-3=:', 'suffix-3=;', 'suffix-3=A', 'suffix-3=A.', 'suffix-3=All', 'suffix-3=And', 'suffix-3=At', 'suffix-3=B.', 'suffix-3=Big', 'suffix-3=But', 'suffix-3=By', 'suffix-3=CB-', 'suffix-3=Co.', 'suffix-3=D.', 'suffix-3=Dr.', 'suffix-3=Du', 'suffix-3=EOs', 'suffix-3=ERC', 'suffix-3=For', 'suffix-3=H.', 'suffix-3=He', 'suffix-3=Hot', 'suffix-3=I', 'suffix-3=IBC', 'suffix-3=III', 'suffix-3=In', 'suffix-3=It', 'suffix-3=J.', 'suffix-3=Jr.', 'suffix-3=Ltd', 'suffix-3=M.', 'suffix-3=May', 'suffix-3=Mr.', 'suffix-3=NEC', 'suffix-3=New', 'suffix-3=No', 'suffix-3=Not', 'suffix-3=Now', 'suffix-3=On', 'suffix-3=P.', 'suffix-3=PLC', 'suffix-3=PS', 'suffix-3=R', 'suffix-3=R.', 'suffix-3=S.p', 'suffix-3=SEC', 'suffix-3=She', 'suffix-3=So', 'suffix-3=T.', 'suffix-3=The', 'suffix-3=Us', 'suffix-3=We', 'suffix-3=You', 'suffix-3=\\\\/2', 'suffix-3=``', 'suffix-3=a', 'suffix-3=aby', 'suffix-3=ace', 'suffix-3=ach', 'suffix-3=ack', 'suffix-3=act', 'suffix-3=acy', 'suffix-3=ad', 'suffix-3=ada', 'suffix-3=ade', 'suffix-3=ado', 'suffix-3=ads', 'suffix-3=ady', 'suffix-3=aft', 'suffix-3=age', 'suffix-3=ago', 'suffix-3=aid', 'suffix-3=ain', 'suffix-3=ake', 'suffix-3=ald', 'suffix-3=ale', 'suffix-3=alf', 'suffix-3=all', 'suffix-3=als', 'suffix-3=aly', 'suffix-3=ame', 'suffix-3=ams', 'suffix-3=an', 'suffix-3=ana', 'suffix-3=and', 'suffix-3=ane', 'suffix-3=ans', 'suffix-3=ant', 'suffix-3=any', 'suffix-3=aps', 'suffix-3=ard', 'suffix-3=are', 'suffix-3=ari', 'suffix-3=ark', 'suffix-3=arm', 'suffix-3=ars', 'suffix-3=art', 'suffix-3=ary', 'suffix-3=as', 'suffix-3=ase', 'suffix-3=ash', 'suffix-3=ask', 'suffix-3=ass', 'suffix-3=ast', 'suffix-3=at', 'suffix-3=ate', 'suffix-3=ats', 'suffix-3=ave', 'suffix-3=avy', 'suffix-3=ays', 'suffix-3=bad', 'suffix-3=ban', 'suffix-3=be', 'suffix-3=bed', 'suffix-3=ber', 'suffix-3=bia', 'suffix-3=bid', 'suffix-3=big', 'suffix-3=bin', 'suffix-3=ble', 'suffix-3=bly', 'suffix-3=bor', 'suffix-3=bur', 'suffix-3=but', 'suffix-3=by', 'suffix-3=cal', 'suffix-3=can', 'suffix-3=ced', 'suffix-3=cer', 'suffix-3=ces', 'suffix-3=chi', 'suffix-3=chy', 'suffix-3=cit', 'suffix-3=cks', 'suffix-3=cky', 'suffix-3=cox', 'suffix-3=cts', 'suffix-3=cur', 'suffix-3=daq', 'suffix-3=day', 'suffix-3=dea', 'suffix-3=ded', 'suffix-3=der', 'suffix-3=des', 'suffix-3=dge', 'suffix-3=dia', 'suffix-3=did', 'suffix-3=dit', 'suffix-3=dly', 'suffix-3=do', 'suffix-3=dry', 'suffix-3=duc', 'suffix-3=dus', 'suffix-3=ead', 'suffix-3=eal', 'suffix-3=eam', 'suffix-3=ear', 'suffix-3=eas', 'suffix-3=eat', 'suffix-3=eau', 'suffix-3=eb.', 'suffix-3=ebt', 'suffix-3=ec.', 'suffix-3=ece', 'suffix-3=ecs', 'suffix-3=ect', 'suffix-3=eds', 'suffix-3=eed', 'suffix-3=eek', 'suffix-3=eel', 'suffix-3=een', 'suffix-3=eep', 'suffix-3=ees', 'suffix-3=eet', 'suffix-3=efs', 'suffix-3=ege', 'suffix-3=eil', 'suffix-3=eir', 'suffix-3=eks', 'suffix-3=eld', 'suffix-3=ell', 'suffix-3=elp', 'suffix-3=els', 'suffix-3=elt', 'suffix-3=ely', 'suffix-3=eme', 'suffix-3=ems', 'suffix-3=end', 'suffix-3=ens', 'suffix-3=ent', 'suffix-3=eph', 'suffix-3=ept', 'suffix-3=ere', 'suffix-3=erm', 'suffix-3=ern', 'suffix-3=ers', 'suffix-3=ert', 'suffix-3=ery', 'suffix-3=ese', 'suffix-3=ess', 'suffix-3=est', 'suffix-3=ete', 'suffix-3=ets', 'suffix-3=eum', 'suffix-3=eve', 'suffix-3=ews', 'suffix-3=ext', 'suffix-3=far', 'suffix-3=fed', 'suffix-3=fer', 'suffix-3=fet', 'suffix-3=few', 'suffix-3=ffe', 'suffix-3=fic', 'suffix-3=fit', 'suffix-3=for', 'suffix-3=fth', 'suffix-3=ful', 'suffix-3=fus', 'suffix-3=gal', 'suffix-3=gan', 'suffix-3=ged', 'suffix-3=ger', 'suffix-3=ges', 'suffix-3=get', 'suffix-3=ght', 'suffix-3=gin', 'suffix-3=gne', 'suffix-3=gns', 'suffix-3=go', 'suffix-3=got', 'suffix-3=gue', 'suffix-3=gus', 'suffix-3=had', 'suffix-3=han', 'suffix-3=has', 'suffix-3=hat', 'suffix-3=he', 'suffix-3=hed', 'suffix-3=hem', 'suffix-3=hen', 'suffix-3=her', 'suffix-3=hes', 'suffix-3=hey', 'suffix-3=him', 'suffix-3=hio', 'suffix-3=hip', 'suffix-3=his', 'suffix-3=hly', 'suffix-3=hon', 'suffix-3=how', 'suffix-3=hts', 'suffix-3=hue', 'suffix-3=hur', 'suffix-3=ial', 'suffix-3=iam', 'suffix-3=ian', 'suffix-3=ibe', 'suffix-3=ica', 'suffix-3=ice', 'suffix-3=ich', 'suffix-3=ick', 'suffix-3=ico', 'suffix-3=ics', 'suffix-3=ide', 'suffix-3=ied', 'suffix-3=ief', 'suffix-3=iel', 'suffix-3=ier', 'suffix-3=ies', 'suffix-3=iew', 'suffix-3=if', 'suffix-3=iff', 'suffix-3=ift', 'suffix-3=ify', 'suffix-3=igh', 'suffix-3=ign', 'suffix-3=ike', 'suffix-3=ild', 'suffix-3=ile', 'suffix-3=ill', 'suffix-3=ils', 'suffix-3=ily', 'suffix-3=ime', 'suffix-3=in', 'suffix-3=ina', 'suffix-3=ind', 'suffix-3=ine', 'suffix-3=ing', 'suffix-3=ink', 'suffix-3=ins', 'suffix-3=int', 'suffix-3=iny', 'suffix-3=iod', 'suffix-3=ion', 'suffix-3=ior', 'suffix-3=ips', 'suffix-3=ire', 'suffix-3=irm', 'suffix-3=is', 'suffix-3=ise', 'suffix-3=ish', 'suffix-3=isk', 'suffix-3=ist', 'suffix-3=it', 'suffix-3=ite', 'suffix-3=ith', 'suffix-3=its', 'suffix-3=ity', 'suffix-3=ium', 'suffix-3=ive', 'suffix-3=ize', 'suffix-3=jan', 'suffix-3=jet', 'suffix-3=ked', 'suffix-3=ken', 'suffix-3=ker', 'suffix-3=kes', 'suffix-3=ket', 'suffix-3=key', 'suffix-3=kle', 'suffix-3=kly', 'suffix-3=lan', 'suffix-3=lap', 'suffix-3=lar', 'suffix-3=las', 'suffix-3=lat', 'suffix-3=law', 'suffix-3=lds', 'suffix-3=led', 'suffix-3=lem', 'suffix-3=ler', 'suffix-3=les', 'suffix-3=ley', 'suffix-3=lic', 'suffix-3=lid', 'suffix-3=lio', 'suffix-3=lip', 'suffix-3=lis', 'suffix-3=ll.', 'suffix-3=lle', 'suffix-3=lli', 'suffix-3=lls', 'suffix-3=lly', 'suffix-3=lms', 'suffix-3=lo.', 'suffix-3=lor', 'suffix-3=low', 'suffix-3=lph', 'suffix-3=lso', 'suffix-3=lth', 'suffix-3=lts', 'suffix-3=lty', 'suffix-3=lue', 'suffix-3=lus', 'suffix-3=man', 'suffix-3=may', 'suffix-3=med', 'suffix-3=men', 'suffix-3=mer', 'suffix-3=mes', 'suffix-3=mic', 'suffix-3=mid', 'suffix-3=mit', 'suffix-3=mme', 'suffix-3=mon', 'suffix-3=mpt', \"suffix-3=n't\", 'suffix-3=nal', 'suffix-3=nc.', 'suffix-3=nce', 'suffix-3=ncy', 'suffix-3=nda', 'suffix-3=nds', 'suffix-3=ned', 'suffix-3=ner', 'suffix-3=nes', 'suffix-3=net', 'suffix-3=new', 'suffix-3=ney', 'suffix-3=nge', 'suffix-3=ngs', 'suffix-3=nic', 'suffix-3=nit', 'suffix-3=nks', 'suffix-3=nly', 'suffix-3=nn.', 'suffix-3=nny', 'suffix-3=no', 'suffix-3=non', 'suffix-3=nor', 'suffix-3=not', 'suffix-3=now', 'suffix-3=nse', 'suffix-3=nst', 'suffix-3=nth', 'suffix-3=nto', 'suffix-3=nts', 'suffix-3=nue', 'suffix-3=num', 'suffix-3=nut', 'suffix-3=oca', 'suffix-3=ock', 'suffix-3=ody', 'suffix-3=oes', 'suffix-3=of', 'suffix-3=off', 'suffix-3=ogy', 'suffix-3=ohn', 'suffix-3=oin', 'suffix-3=ois', 'suffix-3=oke', 'suffix-3=old', 'suffix-3=oll', 'suffix-3=olm', 'suffix-3=ols', 'suffix-3=oma', 'suffix-3=ome', 'suffix-3=oms', 'suffix-3=omy', 'suffix-3=on', 'suffix-3=ond', 'suffix-3=one', 'suffix-3=ong', 'suffix-3=onn', 'suffix-3=ons', 'suffix-3=ont', 'suffix-3=ony', 'suffix-3=ood', 'suffix-3=oof', 'suffix-3=ook', 'suffix-3=ool', 'suffix-3=oom', 'suffix-3=oon', 'suffix-3=oor', 'suffix-3=ope', 'suffix-3=or', 'suffix-3=ord', 'suffix-3=ore', 'suffix-3=ork', 'suffix-3=orm', 'suffix-3=orp', 'suffix-3=ors', 'suffix-3=ort', 'suffix-3=ory', 'suffix-3=ose', 'suffix-3=oss', 'suffix-3=ost', 'suffix-3=ote', 'suffix-3=oth', 'suffix-3=ott', 'suffix-3=oud', 'suffix-3=oul', 'suffix-3=oup', 'suffix-3=our', 'suffix-3=ous', 'suffix-3=out', 'suffix-3=ov.', 'suffix-3=ove', 'suffix-3=owe', 'suffix-3=own', 'suffix-3=oys', 'suffix-3=pan', 'suffix-3=pay', 'suffix-3=ped', 'suffix-3=pei', 'suffix-3=pel', 'suffix-3=pen', 'suffix-3=per', 'suffix-3=pes', 'suffix-3=pet', 'suffix-3=ple', 'suffix-3=ply', 'suffix-3=pts', 'suffix-3=ral', 'suffix-3=raw', 'suffix-3=ray', 'suffix-3=rce', 'suffix-3=rch', 'suffix-3=rds', 'suffix-3=rea', 'suffix-3=red', 'suffix-3=ree', 'suffix-3=res', 'suffix-3=rew', 'suffix-3=rge', 'suffix-3=rgy', 'suffix-3=ric', 'suffix-3=ril', 'suffix-3=rim', 'suffix-3=rio', 'suffix-3=rit', 'suffix-3=rks', 'suffix-3=rla', 'suffix-3=rld', 'suffix-3=rly', 'suffix-3=rma', 'suffix-3=rms', 'suffix-3=rns', 'suffix-3=rol', 'suffix-3=rom', 'suffix-3=ron', 'suffix-3=rop', 'suffix-3=rp.', 'suffix-3=rre', 'suffix-3=rry', 'suffix-3=rs.', 'suffix-3=rse', 'suffix-3=rst', 'suffix-3=rth', 'suffix-3=rts', 'suffix-3=rty', 'suffix-3=rue', 'suffix-3=rum', 'suffix-3=say', 'suffix-3=sed', 'suffix-3=see', 'suffix-3=ser', 'suffix-3=ses', 'suffix-3=set', 'suffix-3=she', 'suffix-3=sia', 'suffix-3=sis', 'suffix-3=six', 'suffix-3=sks', 'suffix-3=sly', 'suffix-3=so', 'suffix-3=son', 'suffix-3=sor', 'suffix-3=ss.', 'suffix-3=sts', 'suffix-3=sty', 'suffix-3=sue', 'suffix-3=tag', 'suffix-3=tal', 'suffix-3=tax', 'suffix-3=tch', 'suffix-3=tco', 'suffix-3=tcy', 'suffix-3=td.', 'suffix-3=ted', 'suffix-3=tel', 'suffix-3=tem', 'suffix-3=ter', 'suffix-3=tes', 'suffix-3=the', 'suffix-3=ths', 'suffix-3=tic', 'suffix-3=til', 'suffix-3=tly', 'suffix-3=to', 'suffix-3=ton', 'suffix-3=too', 'suffix-3=top', 'suffix-3=tor', 'suffix-3=tos', 'suffix-3=tra', 'suffix-3=try', 'suffix-3=tsu', 'suffix-3=tte', 'suffix-3=two', 'suffix-3=ual', 'suffix-3=uce', 'suffix-3=uch', 'suffix-3=ude', 'suffix-3=udi', 'suffix-3=uds', 'suffix-3=udy', 'suffix-3=ued', 'suffix-3=ues', 'suffix-3=uge', 'suffix-3=ugh', 'suffix-3=uit', 'suffix-3=uld', 'suffix-3=ule', 'suffix-3=ull', 'suffix-3=ult', 'suffix-3=uly', 'suffix-3=ume', 'suffix-3=ump', 'suffix-3=und', 'suffix-3=une', 'suffix-3=ung', 'suffix-3=uns', 'suffix-3=unt', 'suffix-3=up', 'suffix-3=ups', 'suffix-3=ure', 'suffix-3=urn', 'suffix-3=urt', 'suffix-3=ury', 'suffix-3=us', 'suffix-3=use', 'suffix-3=ust', 'suffix-3=ute', 'suffix-3=uth', 'suffix-3=uto', 'suffix-3=val', 'suffix-3=ved', 'suffix-3=ven', 'suffix-3=ver', 'suffix-3=ves', 'suffix-3=vie', 'suffix-3=wal', 'suffix-3=wan', 'suffix-3=was', 'suffix-3=way', 'suffix-3=we', 'suffix-3=wed', 'suffix-3=wer', 'suffix-3=who', 'suffix-3=why', 'suffix-3=wns', 'suffix-3=wow', 'suffix-3=wth', 'suffix-3=xas', 'suffix-3=xed', 'suffix-3=xes', 'suffix-3=y-3', 'suffix-3=yal', 'suffix-3=yer', 'suffix-3=yet', 'suffix-3=yor', 'suffix-3=you', 'suffix-3=ype', 'suffix-3=zda', 'suffix-3=zed', 'suffix-3=zia', 'suffix-3=zil', 'word=$', 'word=%', 'word=&', \"word='\", \"word=''\", \"word='re\", \"word='s\", 'word=*', 'word=*-1', 'word=*-10', 'word=*-11', 'word=*-12', 'word=*-13', 'word=*-14', 'word=*-15', 'word=*-16', 'word=*-17', 'word=*-18', 'word=*-19', 'word=*-2', 'word=*-20', 'word=*-21', 'word=*-22', 'word=*-23', 'word=*-24', 'word=*-25', 'word=*-26', 'word=*-27', 'word=*-28', 'word=*-29', 'word=*-3', 'word=*-4', 'word=*-5', 'word=*-6', 'word=*-7', 'word=*-8', 'word=*-9', 'word=*?*', 'word=*ICH*-1', 'word=*ICH*-2', 'word=*ICH*-3', 'word=*RNR*-1', 'word=*RNR*-4', 'word=*T*-1', 'word=*T*-10', 'word=*T*-11', 'word=*T*-12', 'word=*T*-13', 'word=*T*-14', 'word=*T*-15', 'word=*T*-16', 'word=*T*-17', 'word=*T*-18', 'word=*T*-19', 'word=*T*-2', 'word=*T*-20', 'word=*T*-21', 'word=*T*-22', 'word=*T*-23', 'word=*T*-24', 'word=*T*-25', 'word=*T*-26', 'word=*T*-27', 'word=*T*-28', 'word=*T*-3', 'word=*T*-4', 'word=*T*-5', 'word=*T*-6', 'word=*T*-7', 'word=*T*-8', 'word=*T*-9', 'word=*U*', 'word=,', 'word=--', 'word=-LCB-', 'word=-RCB-', 'word=.', 'word=...', 'word=0', 'word=0.4', 'word=0.7', 'word=1', 'word=1,620', 'word=1.5', 'word=1.55', 'word=10-lap', 'word=100', 'word=100,980', 'word=101', 'word=11', 'word=12', 'word=12-member', 'word=12.5', 'word=120', 'word=120,000', 'word=125', 'word=13,056', 'word=140', 'word=15', 'word=16', 'word=160', 'word=17', 'word=18', 'word=19', 'word=19.3', 'word=190', 'word=195', 'word=1950s', 'word=1953', 'word=1955', 'word=1956', 'word=1985', 'word=1986', 'word=1988', 'word=1989', 'word=1990', 'word=1991', 'word=1997', 'word=1\\\\/2', 'word=2', 'word=2,303,328', 'word=2,700', 'word=2.2', 'word=2.25', 'word=2.29', 'word=2.5', 'word=2.6', 'word=2.80', 'word=2.87', 'word=2.875', 'word=20', 'word=20.5', 'word=21', 'word=212', 'word=22', 'word=240,000', 'word=241', 'word=245', 'word=25', 'word=250', 'word=27', 'word=28', 'word=29', 'word=295', 'word=3', 'word=3,288,453', 'word=3.01', 'word=3.1', 'word=3.2', 'word=3.75', 'word=30', 'word=30,841', 'word=30-day', 'word=301', 'word=31', 'word=325,000', 'word=33', 'word=340,000', 'word=35', 'word=352.7', 'word=361,376', 'word=37', 'word=370', 'word=38', 'word=38.375', 'word=4', 'word=4,393,237', 'word=4.75', 'word=4.8', 'word=40', 'word=400', 'word=41', 'word=43', 'word=45', 'word=450', 'word=47', 'word=49', 'word=5', 'word=5.29', 'word=5.39', 'word=5.5', 'word=5.9', 'word=50', 'word=50.38', 'word=50.45', 'word=500', 'word=500,004', 'word=52', 'word=53', 'word=55', 'word=59', 'word=60', 'word=600,000', 'word=61', 'word=63', 'word=64-year-old', 'word=68', 'word=7.3', 'word=7.5', 'word=7.90', 'word=71', 'word=72.7', 'word=737.5', 'word=8.04', 'word=8.12', 'word=8.14', 'word=8.19', 'word=8.22', 'word=8.45', 'word=8.47', 'word=8.53', 'word=8.56', 'word=83.4', 'word=9', 'word=9.37', 'word=9.45', 'word=9.8', 'word=98.3', 'word=:', 'word=;', 'word=A', 'word=A.', 'word=About', 'word=According', 'word=After', 'word=Agency', 'word=Agnew', 'word=Alan', 'word=All', 'word=Along', 'word=Although', 'word=American', 'word=Among', 'word=Analysts', 'word=And', 'word=Appellate', 'word=April', 'word=Arabia', 'word=Areas', 'word=Arthur', 'word=Assets', 'word=Association', 'word=At', 'word=Audit', 'word=August', 'word=Automobile', 'word=Average', 'word=B.', 'word=Babcock', 'word=Back', 'word=Bailey', 'word=Banking', 'word=Barnum', 'word=Belt', 'word=Besides', 'word=Big', 'word=Blanchard', 'word=Boca', 'word=Bolduc', 'word=Borge', 'word=Boston', 'word=Both', 'word=Braidwood', 'word=Brazil', 'word=Brenda', 'word=British', 'word=Brooke', 'word=Bureau', 'word=Business', 'word=But', 'word=By', 'word=Byron', 'word=C-90', 'word=CEOs', 'word=Canada', 'word=Cancer', 'word=Carla', 'word=Carney', 'word=Champagne', 'word=Chapter', 'word=Cheese', 'word=China', 'word=Chinchon', 'word=Chrysler', 'word=Circuit', 'word=Circulation', 'word=Circulations', 'word=City', 'word=Clark', 'word=Co.', 'word=College', 'word=Colo.', 'word=Colorado', 'word=Commerce', 'word=Commission', 'word=Commonwealth', 'word=Compound', 'word=Computer', 'word=Congress', 'word=Conn', 'word=Conn.', 'word=Consolidated', 'word=Controls', 'word=Corp', 'word=Corp.', 'word=Court', 'word=Cray', 'word=Cray-3', 'word=Credit', 'word=Curry', 'word=D.', 'word=Dana-Farber', 'word=Daniel', 'word=Daniels', 'word=Darrell', 'word=Davenport', 'word=Dealers', 'word=Deane', 'word=Dec.', 'word=Despite', 'word=Documents', 'word=Dollar', 'word=Donald', 'word=Donoghue', 'word=Douglas', 'word=Dr.', 'word=Dreyfus', 'word=Du', 'word=Dutch', 'word=Eastern', 'word=Edison', 'word=Electric', 'word=Elsevier', 'word=Energy', 'word=England', 'word=Environmental', 'word=Exchange', 'word=Exports', 'word=FERC', 'word=Factory', 'word=Feb.', 'word=February', 'word=Federal', 'word=Fields', 'word=Financial', 'word=Finmeccanica', 'word=First', 'word=For', 'word=Fortune', 'word=Four', 'word=Frederick', 'word=From', 'word=Fujitsu', 'word=Fund', 'word=Gary', 'word=Glauber', 'word=Gold', 'word=Government', 'word=Grace', 'word=Greece', 'word=Gregory', 'word=Groton', 'word=Group', 'word=H.', 'word=Hammerton', 'word=Hampshire', 'word=Hartford', 'word=Harvard', 'word=Hatch', 'word=Haven', 'word=He', 'word=Hills', 'word=Hitachi', 'word=Hoffman', 'word=Hollingsworth', 'word=Hoosier', 'word=Hot', 'word=House', 'word=However', 'word=Hudnut', 'word=I', 'word=IBC', 'word=III', 'word=Ill.', 'word=Illinois', 'word=Illuminating', 'word=Imports', 'word=In', 'word=Inc.', 'word=India', 'word=Indiana', 'word=Indianapolis', 'word=Industry', 'word=Information', 'word=Instead', 'word=Institute', 'word=Instruments', 'word=International', 'word=It', 'word=Italian', 'word=Italy', 'word=J.', 'word=J.P.', 'word=James', 'word=January', 'word=Japan', 'word=Japanese', 'word=John', 'word=Joseph', 'word=Journal', 'word=Jr.', 'word=Judge', 'word=July', 'word=Kent', 'word=Knowing', 'word=Korea', 'word=LaSalle', 'word=Last', 'word=Legislation', 'word=Loews', 'word=Longer', 'word=Lorillard', 'word=Ltd', 'word=Ltd.', 'word=M.', 'word=Machines', 'word=Malaysia', 'word=Malcolm', 'word=Malizia', 'word=Manchester', 'word=Manufacturers', 'word=March', 'word=Mass.', 'word=May', 'word=Mayor', 'word=Maytag', 'word=Mazda', 'word=McDermott', 'word=Medicine', 'word=Messrs.', 'word=Mexico', 'word=Micronite', 'word=Ministry', 'word=Minneapolis', 'word=Minneapolis-based', 'word=Monday', 'word=Money', 'word=More', 'word=Moreover', 'word=Mortimer', 'word=Mossman', 'word=Motor', 'word=Mr.', 'word=Mrs.', 'word=N.H.', 'word=N.V.', 'word=NEC', 'word=Nasdaq', 'word=National', 'word=Negus', 'word=Neil', 'word=Neither', 'word=Nevertheless', 'word=New', 'word=News', 'word=Newsweek', 'word=No', 'word=Norman', 'word=Northeast', 'word=Not', 'word=Nov.', 'word=Now', 'word=October', 'word=Ohio', 'word=On', 'word=Operations', 'word=Orchestra', 'word=P.', 'word=PLC', 'word=PS', 'word=Pacific', 'word=Pardus', 'word=Phillips', 'word=Pierre', 'word=Plan', 'word=Plans', 'word=Pont', 'word=Post', 'word=Preliminary', 'word=Previously', 'word=Pro-forma', 'word=Protection', 'word=Public', 'word=Publishers', 'word=Queen', 'word=R', 'word=R.', 'word=Raton', 'word=Regarded', 'word=Regulatory', 'word=Report', 'word=Representative', 'word=Research', 'word=Rexinger', 'word=Richard', 'word=Ricken', 'word=Robert', 'word=Rockford', 'word=Roof', 'word=Ross', 'word=Rothschild', 'word=Rowe', 'word=Royal', 'word=Rudolph', 'word=Rust', 'word=S.p', 'word=SEC', 'word=Sales', 'word=Saudi', 'word=Securities', 'word=Senate', 'word=Seoul', 'word=Separately', 'word=September', 'word=Service', 'word=Seymour', 'word=She', 'word=Shorter', 'word=Signet', 'word=Smaby', 'word=So', 'word=South', 'word=Spain', 'word=Speedway', 'word=Spoon', 'word=Springs', 'word=State', 'word=Steel', 'word=Stevens', 'word=Stock', 'word=Supreme', 'word=Symphony', 'word=System', 'word=T.', 'word=Taipei', 'word=Taiwan', 'word=Talcott', 'word=Tassinari', 'word=Terrence', 'word=Texas', 'word=Thailand', 'word=That', 'word=The', 'word=Then', 'word=There', 'word=These', 'word=They', 'word=This', 'word=Those', 'word=Three', 'word=Time', 'word=Toronto', 'word=Toys', 'word=Trade', 'word=Treasury', 'word=Trojan', 'word=Trustco', 'word=Tuesday', 'word=Turkey', 'word=Typically', 'word=U.S.', 'word=Under', 'word=United', 'word=University', 'word=Until', 'word=Us', 'word=Utilities', 'word=Valley', 'word=Vermont', 'word=Victor', 'word=Vinken', 'word=Vitulli', 'word=Vose', 'word=W.R.', 'word=Warner', 'word=Washington', 'word=We', 'word=Wednesday', 'word=West', 'word=Westborough', 'word=Western', 'word=What', 'word=Wheeland', 'word=When', 'word=While', 'word=Wickliffe', 'word=Wilbur', 'word=Wilcox', 'word=William', 'word=Without', 'word=Workers', 'word=World', 'word=World-Wide', 'word=Yields', 'word=York', 'word=York-based', 'word=You', 'word=Zuckerman', 'word=``', 'word=a', 'word=able', 'word=about', 'word=accelerated', 'word=according', 'word=accumulated', 'word=acetate', 'word=acquire', 'word=acquisition', 'word=act', 'word=acts', 'word=actual', 'word=ad', 'word=added', 'word=addition', 'word=additional', 'word=addresses', 'word=administrative', 'word=advertisers', 'word=advertising', 'word=adviser', 'word=after', 'word=again', 'word=against', 'word=age', 'word=ago', 'word=agreement', 'word=aid', 'word=all', 'word=allegedly', 'word=almost', 'word=along', 'word=already', 'word=also', 'word=although', 'word=amending', 'word=amid', 'word=among', 'word=amount', 'word=amounts', 'word=amphobiles', 'word=an', 'word=and', 'word=announce', 'word=announced', 'word=announcer', 'word=annual', 'word=another', 'word=anticipated', 'word=anticipates', 'word=any', 'word=anyone', 'word=appealing', 'word=appeals', 'word=appear', 'word=appears', 'word=appliances', 'word=applied', 'word=apply', 'word=approval', 'word=approved', 'word=are', 'word=area', 'word=argue', 'word=arising', 'word=arm', 'word=around', 'word=arrangement', 'word=arsenide', 'word=as', 'word=asbestos', 'word=asbestos-related', 'word=asbestosis', 'word=asserted', 'word=assets', 'word=assume', 'word=at', 'word=attached', 'word=attempt', 'word=attempts', 'word=attention', 'word=attracts', 'word=auction', 'word=audit', 'word=authority', 'word=authors', 'word=auto', 'word=average', 'word=awards', 'word=aware', 'word=away', 'word=bad', 'word=balance', 'word=ballroom', 'word=ban', 'word=bankruptcy', 'word=banned', 'word=base', 'word=based', 'word=be', 'word=bearing', 'word=beat', 'word=because', 'word=become', 'word=been', 'word=before', 'word=began', 'word=begin', 'word=beginning', 'word=being', 'word=believe', 'word=believes', 'word=below', 'word=benefited', 'word=best', 'word=between', 'word=biannual', 'word=bid', 'word=bidders', 'word=bidding', 'word=big', 'word=bilateral', 'word=billion', 'word=bills', 'word=bin', 'word=blip', 'word=block', 'word=blue', 'word=board', 'word=boarding', 'word=body', 'word=bonds', 'word=bonuses', 'word=book', 'word=boom', 'word=boosts', 'word=borrowing', 'word=both', 'word=bowed', 'word=breakfast', 'word=brief', 'word=bring', 'word=buckle', 'word=buffet', 'word=buildings', 'word=burlap', 'word=buses', 'word=business', 'word=busloads', 'word=but', 'word=by', 'word=calculate', 'word=calculations', 'word=called', 'word=came', 'word=can', 'word=cancer', 'word=cancer-causing', 'word=capital', 'word=capital-gains', 'word=capture', 'word=cars', 'word=case', 'word=cases', 'word=cash', 'word=casting', 'word=caused', 'word=causing', 'word=ceiling', 'word=cents', 'word=chain', 'word=chairman', 'word=challenge', 'word=changed', 'word=chefs', 'word=chief', 'word=chip', 'word=chips', 'word=chocolate', 'word=choice', 'word=chrysotile', 'word=cigarette', 'word=cigarettes', 'word=circulation', 'word=citizens', 'word=city', 'word=claiming', 'word=class', 'word=classified', 'word=clearly', 'word=close', 'word=closed', 'word=closely', 'word=cloud', 'word=clouds', 'word=cluttered', 'word=collected', 'word=collecting', 'word=collections', 'word=combined', 'word=come', 'word=comment', 'word=commission', 'word=common', 'word=companies', 'word=company', 'word=comparable', 'word=compared', 'word=compatible', 'word=compel', 'word=compete', 'word=competition', 'word=competitor', 'word=complained', 'word=complete', 'word=completed', 'word=completely', 'word=complicate', 'word=complicated', 'word=composite', 'word=compound', 'word=computer', 'word=computerized', 'word=concept', 'word=concern', 'word=concerned', 'word=concerns', 'word=confines', 'word=conflicts', 'word=conglomerate', 'word=considered', 'word=considering', 'word=consomme', 'word=construction', 'word=consumer', 'word=consumption', 'word=contain', 'word=continue', 'word=continued', 'word=continues', 'word=continuing', 'word=contract', 'word=contracted', 'word=contractor', 'word=control', 'word=controls', 'word=copyright', 'word=copyrights', 'word=corporate', 'word=cost', 'word=costs', 'word=cotton', 'word=could', 'word=countries', 'word=country', 'word=course', 'word=court', 'word=court-ordered', 'word=courts', 'word=craft', 'word=creating', 'word=creativity', 'word=credits', 'word=crews', 'word=crocidolite', 'word=curly', 'word=current', 'word=currently', 'word=customers', 'word=cutting', 'word=dancing', 'word=day', 'word=days', 'word=deaths', 'word=debt', 'word=decades', 'word=decide', 'word=decided', 'word=decision', 'word=decline', 'word=declines', 'word=declining', 'word=decrease', 'word=deemed', 'word=default', 'word=deficit', 'word=degrees', 'word=demand', 'word=denial', 'word=department', 'word=depend', 'word=describe', 'word=described', 'word=designer', 'word=dessert', 'word=details', 'word=determined', 'word=deterring', 'word=development', 'word=developments', 'word=devices', 'word=diagnosed', 'word=did', 'word=died', 'word=different', 'word=differential', 'word=dinner', 'word=diplomacy', 'word=direct', 'word=directly', 'word=director', 'word=directors', 'word=disclosed', 'word=discounts', 'word=discouraging', 'word=diseases', 'word=disputed', 'word=disputes', 'word=disregard', 'word=distribution', 'word=disturbing', 'word=diversifying', 'word=dividends', 'word=division', 'word=do', 'word=documents', 'word=does', 'word=doing', 'word=dollar-denominated', 'word=domestic', 'word=doubled', 'word=down', 'word=downtown', 'word=drain', 'word=drinks', 'word=drivers', 'word=drooled', 'word=drop', 'word=dropped', 'word=dry', 'word=duckling', 'word=dummies', 'word=dumped', 'word=during', 'word=dust', 'word=dusty', 'word=each', 'word=earlier', 'word=earliest', 'word=early', 'word=earnings', 'word=eased', 'word=easily', 'word=eat', 'word=economic', 'word=economy', 'word=editor', 'word=effective', 'word=effectively', 'word=efficiencies', 'word=efforts', 'word=either', 'word=elaborate', 'word=elected', 'word=electric', 'word=electric-utility', 'word=electricity', 'word=electronic', 'word=electronics', 'word=emerges', 'word=employs', 'word=enact', 'word=end', 'word=ended', 'word=energy-services', 'word=enforcement', 'word=engineering', 'word=enough', 'word=ensnarled', 'word=enters', 'word=entertain', 'word=equipment', 'word=equity', 'word=escort', 'word=estimated', 'word=evaluated', 'word=even', 'word=evening', 'word=events', 'word=ever', 'word=every', 'word=everyday', 'word=exact', 'word=example', 'word=exceed', 'word=execs', 'word=executive', 'word=executives', 'word=exhaust', 'word=exhibition', 'word=existed', 'word=expand', 'word=expect', 'word=expected', 'word=expects', 'word=expedited', 'word=expenses', 'word=explained', 'word=export-oriented', 'word=exports', 'word=exposed', 'word=exposures', 'word=face', 'word=faces', 'word=fact', 'word=factors', 'word=factory', 'word=failing', 'word=fall', 'word=fans', 'word=far', 'word=father', 'word=favored', 'word=fed', 'word=federal', 'word=fees', 'word=fell', 'word=few', 'word=fewer', 'word=fiber', 'word=fibers', 'word=field', 'word=fierce', 'word=fifth', 'word=fight', 'word=figures', 'word=filed', 'word=filing', 'word=films', 'word=filter', 'word=filters', 'word=financial', 'word=financing', 'word=finding', 'word=findings', 'word=fine', 'word=firm', 'word=firms', 'word=first', 'word=five', 'word=fixtures', 'word=flat', 'word=fledgling', 'word=followed', 'word=food', 'word=for', 'word=force', 'word=forecast', 'word=forecasts', 'word=foreign', 'word=form', 'word=former', 'word=formerly', 'word=forum', 'word=forward', 'word=found', 'word=four', 'word=four-color', 'word=fraction', 'word=fragile', 'word=free', 'word=from', 'word=full', 'word=fully', 'word=fund', 'word=funds', 'word=further', 'word=future', 'word=gaining', 'word=gains', 'word=gallium', 'word=gave', 'word=general', 'word=genuine', 'word=giants', 'word=give', 'word=giveaways', 'word=gloomy', 'word=go', 'word=good', 'word=got', 'word=government', 'word=governor', 'word=gradual', 'word=grew', 'word=group', 'word=groups', 'word=growing', 'word=growth', 'word=guaranteed', 'word=guest', 'word=guests', 'word=had', 'word=half', 'word=hand', 'word=handling', 'word=hard', 'word=hardware', 'word=harms', 'word=has', 'word=hauled', 'word=have', 'word=having', 'word=he', 'word=heads', 'word=heard', 'word=heartland', 'word=heavily', 'word=heavy', 'word=held', 'word=help', 'word=high', 'word=high-technology', 'word=higher', 'word=highest', 'word=him', 'word=his', 'word=holders', 'word=holding', 'word=holds', 'word=honor', 'word=hook', 'word=hope', 'word=hopes', 'word=hostage', 'word=hotel', 'word=hottest', 'word=household', 'word=huge', 'word=human', 'word=hung', 'word=hurting', 'word=idea', 'word=if', 'word=illegal', 'word=imported', 'word=imports', 'word=imposed', 'word=improve', 'word=improved', 'word=improvements', 'word=in', 'word=inadequate', 'word=incentive', 'word=inched', 'word=include', 'word=includes', 'word=including', 'word=increase', 'word=increased', 'word=increases', 'word=increasing', 'word=incurred', 'word=independent', 'word=indicate', 'word=indicator', 'word=industrial', 'word=industrialized', 'word=industry', 'word=information', 'word=initial', 'word=initialing', 'word=instituted', 'word=institutions', 'word=intellectual', 'word=intellectual-property', 'word=intense', 'word=interest', 'word=interests', 'word=interim', 'word=internal', 'word=international', 'word=interview', 'word=into', 'word=introduce', 'word=introducing', 'word=introduction', 'word=inventiveness', 'word=investigation', 'word=investigations', 'word=investing', 'word=investments', 'word=investor', 'word=investors', 'word=invests', 'word=involving', 'word=is', 'word=issue', 'word=it', 'word=its', 'word=jet', 'word=join', 'word=joined', 'word=jump', 'word=just', 'word=justify', 'word=keep', 'word=kind', 'word=knowns', 'word=labor', 'word=large', 'word=largest', 'word=last', 'word=later', 'word=latest', 'word=lauded', 'word=law', 'word=lawyer', 'word=least', 'word=leave', 'word=leaves', 'word=led', 'word=legislation', 'word=lengthened', 'word=less', 'word=less-serious', 'word=lesser', 'word=lieutenant', 'word=lift', 'word=lifted', 'word=lights', 'word=like', 'word=likely', 'word=link', 'word=list', 'word=literary', 'word=lobster', 'word=local', 'word=located', 'word=long', 'word=longer', 'word=longest', 'word=longevity', 'word=looking', 'word=loss', 'word=lower', 'word=lower-priority', 'word=lowered', 'word=lung', 'word=lungs', 'word=machine', 'word=machines', 'word=made', 'word=magazine', 'word=maintaining', 'word=make', 'word=maker', 'word=makers', 'word=makes', 'word=making', 'word=malignant', 'word=management', 'word=manager', 'word=managers', 'word=manufacture', 'word=manufacturing', 'word=many', 'word=market', 'word=marketing', 'word=marketplace', 'word=material', 'word=matter', 'word=matters', 'word=maturities', 'word=maturity', 'word=may', 'word=meal', 'word=measure', 'word=mechanical', 'word=mechanically', 'word=medical', 'word=medium-sized', 'word=meet', 'word=meeting', 'word=meetings', 'word=men', 'word=mere', 'word=merit', 'word=mesothelioma', 'word=message', 'word=mid-October', 'word=midnight', 'word=might', 'word=mignon', 'word=miles', 'word=million', 'word=minute', 'word=mixed', 'word=modest', 'word=money', 'word=money-fund', 'word=money-market', 'word=month', 'word=monthly', 'word=months', 'word=moons', 'word=morbidity', 'word=more', 'word=morning', 'word=most', 'word=motor', 'word=mousseline', 'word=move', 'word=moved', 'word=movie', 'word=much', 'word=museum', 'word=mutual', \"word=n't\", 'word=name', 'word=named', 'word=nation', 'word=nations', 'word=near', 'word=needing', 'word=needle-like', 'word=negotiations', 'word=negotiators', 'word=new', 'word=news', 'word=newsweekly', 'word=next', 'word=nightmare', 'word=nine', 'word=no', 'word=none', 'word=nonexecutive', 'word=nor', 'word=not', 'word=note', 'word=noted', 'word=now', 'word=nuclear', 'word=number', 'word=obligations', 'word=obtain', 'word=occur', 'word=of', 'word=off', 'word=offending', 'word=offer', 'word=offered', 'word=officer', 'word=officers', 'word=official', 'word=officials', 'word=old', 'word=on', 'word=once', 'word=one', 'word=only', 'word=open', 'word=opened', 'word=operating', 'word=operational', 'word=operations', 'word=or', 'word=order', 'word=ordered', 'word=orders', 'word=other', 'word=our', 'word=out', 'word=outlawed', 'word=outside', 'word=ovation', 'word=over', 'word=overruns', 'word=overseas', 'word=oversee', 'word=own', 'word=owned', 'word=owners', 'word=owns', 'word=pace', 'word=page', 'word=pages', 'word=paid', 'word=paper', 'word=parlors', 'word=part', 'word=particularly', 'word=parts', 'word=passenger', 'word=past', 'word=patent', 'word=patents', 'word=pathlogy', 'word=pay', 'word=paying', 'word=payoff', 'word=pending', 'word=people', 'word=per', 'word=percentage', 'word=performance', 'word=perhaps', 'word=period', 'word=permanent', 'word=permit', 'word=persistent', 'word=pharmaceutical', 'word=pianist-comedian', 'word=piracy', 'word=pirates', 'word=place', 'word=placed', 'word=places', 'word=plan', 'word=plant', 'word=plus', 'word=point', 'word=pointed', 'word=police', 'word=political', 'word=pool', 'word=poor', 'word=portfolio', 'word=pose', 'word=position', 'word=positions', 'word=possible', 'word=posted', 'word=potential', 'word=pour', 'word=poured', 'word=power', 'word=powwow', 'word=precedent', 'word=preliminary', 'word=presence', 'word=president', 'word=presumably', 'word=previous', 'word=previously', 'word=price', 'word=priced', 'word=primarily', 'word=priority', 'word=probably', 'word=problem', 'word=problems', 'word=procedures', 'word=proceedings', 'word=process', 'word=processors', 'word=produce', 'word=producers', 'word=product-design', 'word=products', 'word=professor', 'word=profit', 'word=progress', 'word=project', 'word=prolonged', 'word=promissory', 'word=prompted', 'word=properties', 'word=property', 'word=proposed', 'word=prosecutors', 'word=prospects', 'word=protect', 'word=protecting', 'word=protection', 'word=protections', 'word=prototype', 'word=prove', 'word=providing', 'word=provision', 'word=public', 'word=publishing', 'word=purchase', 'word=pursue', 'word=question', 'word=questionable', 'word=race', 'word=raced', 'word=raise', 'word=raising', 'word=range', 'word=raspberry', 'word=rate', 'word=ratepayers', 'word=rates', 'word=rather', 'word=reached', 'word=realization', 'word=receive', 'word=received', 'word=receiving', 'word=recent', 'word=recently', 'word=recognition', 'word=recognize', 'word=record', 'word=recorded', 'word=records', 'word=red', 'word=red-carpet', 'word=reductions', 'word=refile', 'word=reflecting', 'word=refund', 'word=refunded', 'word=refunds', 'word=registered', 'word=regulate', 'word=regulation', 'word=regulatory', 'word=reinvestment', 'word=rejected', 'word=related', 'word=relatively', 'word=released', 'word=remain', 'word=remaining', 'word=removed', 'word=renewal', 'word=renovated', 'word=reorganization', 'word=replaced', 'word=report', 'word=reported', 'word=reports', 'word=request', 'word=require', 'word=required', 'word=requires', 'word=research', 'word=researchers', 'word=resigned', 'word=resilient', 'word=resort', 'word=resources', 'word=result', 'word=results', 'word=retailing', 'word=retain', 'word=retaliation', 'word=retired', 'word=return', 'word=revenue', 'word=review', 'word=reward', 'word=rewards', 'word=rights', 'word=rises', 'word=rising', 'word=risk', 'word=risks', 'word=rival', 'word=robotic', 'word=rock', 'word=roll', 'word=rose', 'word=round', 'word=royalty', 'word=rule', 'word=ruled', 'word=ruling', 'word=rusty', 'word=sacks', 'word=said', 'word=sale', 'word=sales', 'word=same', 'word=sanctions', 'word=sauce', 'word=savings', 'word=say', 'word=saying', 'word=says', 'word=scenario', 'word=schoolboys', 'word=schools', 'word=scientists', 'word=scrapped', 'word=scrutiny', 'word=search-and-seizure', 'word=seats', 'word=second', 'word=securities', 'word=seeking', 'word=seemed', 'word=senior', 'word=service', 'word=set', 'word=setback', 'word=setting', 'word=settled', 'word=seven', 'word=seven-day', 'word=several', 'word=share', 'word=shareholders', 'word=shares', 'word=sharply', 'word=she', 'word=sheet', 'word=sheets', 'word=shore', 'word=short-term', 'word=should', 'word=show', 'word=showed', 'word=showing', 'word=showings', 'word=sign', 'word=signs', 'word=simple', 'word=since', 'word=six', 'word=six-month', 'word=slash', 'word=slid', 'word=slide', 'word=slow', 'word=sluggish', 'word=sluggishness', 'word=small', 'word=smokers', 'word=smooth', 'word=so', 'word=so-called', 'word=software', 'word=sold', 'word=some', 'word=sooner', 'word=space', 'word=special', 'word=specializing', 'word=speed', 'word=speedway', 'word=spending', 'word=spent', 'word=spinoff', 'word=spokesman', 'word=spokeswoman', 'word=spokewoman', 'word=sponsor', 'word=spring', 'word=squeezed', 'word=standard', 'word=standards', 'word=standing', 'word=stars', 'word=starters', 'word=state', 'word=state-owned', 'word=stiff', 'word=still', 'word=stock', 'word=stockholders', 'word=stood', 'word=stopped', 'word=story', 'word=striking', 'word=stringently', 'word=strings', 'word=strong', 'word=stronger', 'word=studied', 'word=study', 'word=subject', 'word=subscriber', 'word=subscribers', 'word=substance', 'word=substantial', 'word=succeed', 'word=succeeds', 'word=success', 'word=such', 'word=suffer', 'word=summer', 'word=summer\\\\/winter', 'word=sunny', 'word=supercomputer', 'word=supercomputers', 'word=support', 'word=surplus', 'word=survival', 'word=surviving', 'word=suspended', 'word=symptoms', 'word=systems', 'word=take', 'word=talking', 'word=tallies', 'word=target', 'word=task', 'word=tasty', 'word=tax', 'word=taxable', 'word=taxes', 'word=team', 'word=teams', 'word=technology', 'word=telephones', 'word=tells', 'word=tempts', 'word=terms', 'word=terrine', 'word=than', 'word=that', 'word=the', 'word=their', 'word=them', 'word=themselves', 'word=then', 'word=theory', 'word=there', 'word=these', 'word=they', 'word=this', 'word=those', 'word=though', 'word=thought', 'word=threat', 'word=three', 'word=thrift', 'word=through', 'word=tied', 'word=time', 'word=times', 'word=titans', 'word=to', 'word=today', 'word=too', 'word=took', 'word=top', 'word=top-yielding', 'word=total', 'word=totaled', 'word=touchy', 'word=town', 'word=towns', 'word=tracked', 'word=tracking', 'word=trade', 'word=trademark', 'word=trading', 'word=traffic', 'word=trained', 'word=transaction', 'word=transferring', 'word=treat', 'word=treatment', 'word=tricky', 'word=trillion', 'word=troubled', 'word=trucks', 'word=true', 'word=trying', 'word=turned', 'word=twice', 'word=two', 'word=type', 'word=typically', 'word=unauthorized', 'word=under', 'word=underlying', 'word=underscore', 'word=undersecretary', 'word=unfair-trade', 'word=unimpeded', 'word=unit', 'word=units', 'word=unproven', 'word=unreasonable', 'word=until', 'word=unusually', 'word=up', 'word=upheld', 'word=us', 'word=use', 'word=used', 'word=useful', 'word=users', 'word=uses', 'word=using', 'word=utility', 'word=valuation', 'word=value', 'word=values', 'word=vary', 'word=varying', 'word=veal', 'word=vehicles', 'word=ventilated', 'word=very', 'word=vice', 'word=video-viewing', 'word=videocassette', 'word=virtually', 'word=visitors', 'word=voted', 'word=vowed', 'word=waiving', 'word=want', 'word=was', 'word=watch', 'word=watches', 'word=watching', 'word=way', 'word=we', 'word=week', 'word=weeklies', 'word=weeks', 'word=welcomed', 'word=well', 'word=were', 'word=what', 'word=when', 'word=where', 'word=whether', 'word=which', 'word=while', 'word=who', 'word=whose', 'word=why', 'word=will', 'word=winter', 'word=with', 'word=withdraw', 'word=withdrawal', 'word=without', 'word=wives', 'word=work', 'word=worked', 'word=workers', 'word=working', 'word=works', 'word=world', 'word=world-wide', 'word=worried', 'word=worst-case', 'word=worth', 'word=would', 'word=year', 'word=year-end', 'word=year-to-year', 'word=years', 'word=yesterday', 'word=yet', 'word=yield', 'word=yielding', 'word=yields', 'word=you']\n"
     ]
    }
   ],
   "source": [
    "tokens_flat = list(chain.from_iterable(penn_train_feature_sequences[:20])) ## selecting three sentence\n",
    "print('Total sequence of words', len(tokens_flat))\n",
    "print()\n",
    "vec = DictVectorizer(sparse=True)\n",
    "penn_vec = vec.fit_transform(tokens_flat)  # Sparse matrix of shape (n_tokens, n_features)\n",
    "\n",
    "print('We now have a list of tokens for the selection of sentences from the Penn treebank, each represented by a long sparse vector.')\n",
    "print('Shape for the total set of tokens', penn_vec.shape)\n",
    "print()\n",
    "\n",
    "    \n",
    "# Feature names (column names of the vector)\n",
    "print(list(vec.get_feature_names_out()))"
   ]
  },
  {
   "cell_type": "code",
   "execution_count": null,
   "id": "c3ccfed1-47ab-490f-b6de-37665b7de5f1",
   "metadata": {},
   "outputs": [],
   "source": []
  }
 ],
 "metadata": {
  "kernelspec": {
   "display_name": "hltenv",
   "language": "python",
   "name": "hltenv"
  },
  "language_info": {
   "codemirror_mode": {
    "name": "ipython",
    "version": 3
   },
   "file_extension": ".py",
   "mimetype": "text/x-python",
   "name": "python",
   "nbconvert_exporter": "python",
   "pygments_lexer": "ipython3",
   "version": "3.11.13"
  }
 },
 "nbformat": 4,
 "nbformat_minor": 5
}
