{
 "cells": [
  {
   "cell_type": "markdown",
   "metadata": {
    "tags": []
   },
   "source": [
    "# Lab7 Final assignment: putting it all together"
   ]
  },
  {
   "cell_type": "markdown",
   "metadata": {},
   "source": [
    "The final assignment is an individual assignment in which you put things together. You earn 5 points when you carry out the all the required tasks and an additional max 5 points for analysing and discussing the results poperly. The maximum score is 10 points.\n",
    "\n",
    "<ol>\n",
    "    <li><b>Annotated conversations</b>\n",
    "        <ul>\n",
    "        <li> Load the annotated conversations in a Pandas data frame (code is given)\n",
    "        <li> Provide a statistical analysis of the distribution of the emotion labels in the conversations\n",
    "        </ul>\n",
    "    <li><b>Baselines</b>\n",
    "        <ul> \n",
    "            <li>Define a majority baseline given the label distribution in the test set\n",
    "            <li>Create a lexical baseline using the emotion dictionary that you created in Lab2 from Wordnet and the Word2Vec models. This baseline checks each utterance for the Ekman emotion words and chooses the emotion with most hits. If there is no match, the utterance is neutral.\n",
    "            <li>Apply the two baselines to the conversations\n",
    "            <li>Generate a classification report for both\n",
    "        </ul>\n",
    "    </li>\n",
    "    <li><b>Create two different BoW-SVM emotion classifiers, one focusing on high recall and the other on high precision</b>\n",
    "        <ul>\n",
    "        <li> Load the train, test and development data combining MELD and WASSA data sets\n",
    "        <li> Give an overview and discuss the statistics of the Ekman emotion labels\n",
    "        <li> High recall:\n",
    "            <ul>\n",
    "                <li>Motivate and define the settings for getting high recall scores\n",
    "                <li>Create a BoW vector representation and train an SVM classifier\n",
    "                <li>Save the classifier to disk\n",
    "            </ul>\n",
    "        <li> High precision:\n",
    "            <ul>\n",
    "                <li>Motivate and define the settings for getting high precision scores\n",
    "                <li>Create a BoW vector representation and train an SVM classifier\n",
    "                <li>Save the classifier to disk\n",
    "            </ul>\n",
    "        <li> Load both classifiers in this notebook and apply them to the utterances in the conversations\n",
    "        <li> Generate a classification report and confusion matrix for both.\n",
    "        </ul>\n",
    "    <li><b>Discuss the result</b>\n",
    "        <ul>\n",
    "        <li> Report on similarities and differences in performances and confusion matrixes \n",
    "        <li> What did you expect (recall and precision) and is this confirmed or falsified?\n",
    "        <li> How do the classifiers compare to the two baselines?\n",
    "        </ul>\n",
    "    <li><b>Error analysis</b>\n",
    "        <ul>\n",
    "        <li> Manually select 20 utterances for an error analysis\n",
    "        <li> Motivate your selection to get a deeper understanding of the cases where the classifiers underperform\n",
    "        <li> Apply the BERT-GO model to the 20 utterances and map the emotion labels to the Ekman emotions\n",
    "        <li> Prompt an LLM to classify the 20 utterances with the Ekman emotions\n",
    "        <li> Compare the BERT-GO and Llama annotations with your SVM classifier results and the baselines.\n",
    "        <li> Discuss how you may improve the SVM classifiers\n",
    "        </ul>    \n",
    "</ol>"
   ]
  },
  {
   "cell_type": "markdown",
   "metadata": {},
   "source": [
    "For 2.), you build two BoW SVM classifiers in a separate notebook (use **lab5.meld-tweet-bow-svm-emotion-classifier.ipynb**) by combining the MELD and Tweet data into a single set of training data. Note that you can also include the test and development data for training since we are applying the model to the Llama conversations and not to the MELD and Wassa tests. "
   ]
  },
  {
   "cell_type": "markdown",
   "metadata": {},
   "source": [
    "## Submission"
   ]
  },
  {
   "cell_type": "markdown",
   "metadata": {},
   "source": [
    "The assignment should be made individually and submiited on CANVAS as a zip file that includes the following:\n",
    "\n",
    "   1. The notebook to create two different BoW-SVM classifiers: **lab5.meld-tweet-bow-svm-emotion-classifier.ipynb**\n",
    "   2. The current notebook **lab5.final_assignment.ipynb** with your code\n",
    "   3. A PDF report of max 6/7 pages:\n",
    "       1. Section 1 (1 page): what you have done and what choices did you make: be explicit about the settings and any data changes you made to train the two different classifiers on MELD+Tweets to get a high recall and a high precision version.\n",
    "       2. Section 2 (2 pages): report on the type/token ratio and the label distribution of the conversations, compare this to MELD and WASSA type/token ratios and label distributions. Motivate your choice of settings for the SVM classifiers on the type/token rations and label distributions.\n",
    "       2. Section 3 (2 pages): report on the Ekman classification results of the two SVM versions and the baselines. systems. Use a single table for recall, precision and f-score for all four classifiers and put confusion matrixes in the appendix.\n",
    "       3. Section 4: (1 page): motivate the sample for the error analysis compare the baselines and the SVM classifier with the results for the LLM (e.g. Llama or Qwen) and the go-BERT-classifier for the 20 cases.\n",
    "       4. Section 5: (1 page): how to improve the SVM classifiers.\n",
    "    \n",
    "Use the notebooks that are given as a guide with the code and the output. You should NOT discuss the results in the notebooks but in the report. Use the notebooks to run the experiments and get the results. Include the tables and figures in the report."
   ]
  },
  {
   "cell_type": "markdown",
   "metadata": {},
   "source": [
    "Some utility functions presented during this course are needed for this assignment. They are all included in the Python file **lab_util.py**. The next import makes these functions available in this notebook. There is no need to copy these functions into this notebook explicitly. After the import, you can call the function from **util**, e.g.:\n",
    "\n",
    "```emotion_labels = util.sort_predictions(emotion_labels[0])```\n",
    "\n",
    "```ekman_labels = util.get_averaged_mapped_scores_by_threshold(ekman_map, emotion_labels, threshold)```\n",
    "\n",
    "```util.plot_labels_with_counts(labels, values)```"
   ]
  },
  {
   "cell_type": "code",
   "execution_count": 14,
   "metadata": {
    "tags": []
   },
   "outputs": [],
   "source": [
    "import lab_util as util"
   ]
  },
  {
   "cell_type": "markdown",
   "metadata": {},
   "source": [
    "## 1. Annotated conversations"
   ]
  },
  {
   "cell_type": "markdown",
   "metadata": {
    "tags": []
   },
   "source": [
    "### 1.1 Loading the conversation"
   ]
  },
  {
   "cell_type": "markdown",
   "metadata": {},
   "source": [
    "You will receive a file with all the annoated conversations in JSON format. Adapt the path below to load this file using Pandas to create a data frame."
   ]
  },
  {
   "cell_type": "code",
   "execution_count": 7,
   "metadata": {},
   "outputs": [],
   "source": [
    "# THE CODE TO LOAD THE TEST DATA AND LABELS\n",
    "# replace the file path shown here to the JSON file that is given for the final assignment\n",
    "import pandas as pd\n",
    "annotation_file = \"/Users/piek/Desktop/t-MA-HLT-introduction-2024/ma-hlt-labs/lab0.llama/other/adjudicated_annotations.json\"\n",
    "df = pd.read_json(annotation_file)\n",
    "df = df.dropna()"
   ]
  },
  {
   "cell_type": "code",
   "execution_count": 8,
   "metadata": {
    "scrolled": true
   },
   "outputs": [
    {
     "data": {
      "text/html": [
       "<div>\n",
       "<style scoped>\n",
       "    .dataframe tbody tr th:only-of-type {\n",
       "        vertical-align: middle;\n",
       "    }\n",
       "\n",
       "    .dataframe tbody tr th {\n",
       "        vertical-align: top;\n",
       "    }\n",
       "\n",
       "    .dataframe thead th {\n",
       "        text-align: right;\n",
       "    }\n",
       "</style>\n",
       "<table border=\"1\" class=\"dataframe\">\n",
       "  <thead>\n",
       "    <tr style=\"text-align: right;\">\n",
       "      <th></th>\n",
       "      <th>utterance</th>\n",
       "      <th>speaker</th>\n",
       "      <th>turn_id</th>\n",
       "      <th>Annotator</th>\n",
       "      <th>Gold</th>\n",
       "      <th>Votes</th>\n",
       "      <th>Annotators</th>\n",
       "      <th>Adjudication</th>\n",
       "    </tr>\n",
       "  </thead>\n",
       "  <tbody>\n",
       "    <tr>\n",
       "      <th>0</th>\n",
       "      <td>Hi there! Going going well!</td>\n",
       "      <td>Raul</td>\n",
       "      <td>4</td>\n",
       "      <td>Pawel</td>\n",
       "      <td>neutral</td>\n",
       "      <td>[neutral, joy, joy]</td>\n",
       "      <td>[Pawel, Leo Mylonadis, Matt]</td>\n",
       "      <td>joy</td>\n",
       "    </tr>\n",
       "    <tr>\n",
       "      <th>1</th>\n",
       "      <td>From hike? Do yo want to convince me you're a ...</td>\n",
       "      <td>Raul</td>\n",
       "      <td>6</td>\n",
       "      <td>Pawel</td>\n",
       "      <td>neutral</td>\n",
       "      <td>[neutral, neutral, surprise]</td>\n",
       "      <td>[Pawel, Leo Mylonadis, Matt]</td>\n",
       "      <td>neutral</td>\n",
       "    </tr>\n",
       "    <tr>\n",
       "      <th>2</th>\n",
       "      <td>I hope that your dried llama food isn't anythi...</td>\n",
       "      <td>Raul</td>\n",
       "      <td>8</td>\n",
       "      <td>Pawel</td>\n",
       "      <td>disgust</td>\n",
       "      <td>[disgust, disgust, neutral]</td>\n",
       "      <td>[Pawel, Leo Mylonadis, Matt]</td>\n",
       "      <td>disgust</td>\n",
       "    </tr>\n",
       "    <tr>\n",
       "      <th>3</th>\n",
       "      <td>Don't wink wink at me!</td>\n",
       "      <td>Raul</td>\n",
       "      <td>10</td>\n",
       "      <td>Pawel</td>\n",
       "      <td>anger</td>\n",
       "      <td>[anger, anger, anger]</td>\n",
       "      <td>[Pawel, Leo Mylonadis, Matt]</td>\n",
       "      <td>anger</td>\n",
       "    </tr>\n",
       "    <tr>\n",
       "      <th>4</th>\n",
       "      <td>I think all the LLM hype is quite suspicious!</td>\n",
       "      <td>Raul</td>\n",
       "      <td>12</td>\n",
       "      <td>Pawel</td>\n",
       "      <td>anger</td>\n",
       "      <td>[anger, fear, surprise]</td>\n",
       "      <td>[Pawel, Leo Mylonadis, Matt]</td>\n",
       "      <td>anger</td>\n",
       "    </tr>\n",
       "  </tbody>\n",
       "</table>\n",
       "</div>"
      ],
      "text/plain": [
       "                                           utterance speaker  turn_id  \\\n",
       "0                        Hi there! Going going well!    Raul        4   \n",
       "1  From hike? Do yo want to convince me you're a ...    Raul        6   \n",
       "2  I hope that your dried llama food isn't anythi...    Raul        8   \n",
       "3                             Don't wink wink at me!    Raul       10   \n",
       "4      I think all the LLM hype is quite suspicious!    Raul       12   \n",
       "\n",
       "  Annotator     Gold                         Votes  \\\n",
       "0     Pawel  neutral           [neutral, joy, joy]   \n",
       "1     Pawel  neutral  [neutral, neutral, surprise]   \n",
       "2     Pawel  disgust   [disgust, disgust, neutral]   \n",
       "3     Pawel    anger         [anger, anger, anger]   \n",
       "4     Pawel    anger       [anger, fear, surprise]   \n",
       "\n",
       "                     Annotators Adjudication  \n",
       "0  [Pawel, Leo Mylonadis, Matt]          joy  \n",
       "1  [Pawel, Leo Mylonadis, Matt]      neutral  \n",
       "2  [Pawel, Leo Mylonadis, Matt]      disgust  \n",
       "3  [Pawel, Leo Mylonadis, Matt]        anger  \n",
       "4  [Pawel, Leo Mylonadis, Matt]        anger  "
      ]
     },
     "execution_count": 8,
     "metadata": {},
     "output_type": "execute_result"
    }
   ],
   "source": [
    "df.head()"
   ]
  },
  {
   "cell_type": "code",
   "execution_count": 9,
   "metadata": {},
   "outputs": [
    {
     "name": "stdout",
     "output_type": "stream",
     "text": [
      "neutral ['neutral', 'joy', 'joy'] joy\n",
      "neutral ['neutral', 'sadness', 'sadness'] sadness\n",
      "anger ['anger', 'sadness', 'sadness'] sadness\n",
      "neutral ['neutral', 'sadness', 'sadness'] sadness\n",
      "anger ['anger', 'sadness', 'sadness'] sadness\n",
      "neutral ['neutral', 'anger', 'neutral', 'anger', 'disgust', 'anger'] anger\n",
      "disgust ['disgust', 'anger', 'anger'] anger\n",
      "neutral ['neutral', 'joy', 'joy'] joy\n",
      "neutral ['neutral', 'joy', 'joy'] joy\n",
      "neutral ['neutral', 'anger', 'anger'] anger\n",
      "disgust ['disgust', 'anger', 'anger'] anger\n",
      "sadness ['sadness', 'disgust', 'disgust'] disgust\n",
      "surprise ['surprise', 'joy', 'joy'] joy\n",
      "neutral ['neutral', 'joy', 'joy'] joy\n",
      "anger ['anger', 'disgust', 'disgust'] disgust\n",
      "neutral ['neutral', 'joy', 'joy'] joy\n",
      "sadness ['sadness', 'fear', 'fear'] fear\n",
      "joy ['joy', 'surprise', 'surprise'] surprise\n",
      "fear ['fear', 'surprise', 'surprise'] surprise\n",
      "anger ['anger', 'neutral', 'neutral'] neutral\n",
      "joy ['joy', 'neutral', 'neutral'] neutral\n",
      "sadness ['sadness', 'anger', 'anger'] anger\n",
      "neutral ['neutral', 'disgust', 'disgust'] disgust\n",
      "neutral ['neutral', 'disgust', 'disgust'] disgust\n",
      "neutral ['neutral', 'disgust', 'disgust'] disgust\n",
      "neutral ['neutral', 'joy', 'joy'] joy\n",
      "neutral ['neutral', 'joy', 'joy'] joy\n",
      "neutral ['neutral', 'joy', 'joy'] joy\n",
      "neutral ['neutral', 'fear', 'fear'] fear\n",
      "neutral ['neutral', 'anger', 'anger'] anger\n",
      "neutral ['neutral', 'anger', 'anger'] anger\n",
      "neutral ['neutral', 'anger', 'anger'] anger\n",
      "surprise ['surprise', 'anger', 'anger'] anger\n",
      "neutral ['neutral', 'anger', 'anger'] anger\n",
      "neutral ['neutral', 'sadness', 'sadness'] sadness\n",
      "neutral ['neutral', 'fear', 'fear'] fear\n",
      "neutral ['neutral', 'joy', 'joy'] joy\n",
      "neutral ['neutral', 'joy', 'joy'] joy\n",
      "neutral ['neutral', 'joy', 'joy'] joy\n",
      "anger ['anger', 'neutral', 'neutral'] neutral\n",
      "surprise ['surprise', 'joy', 'joy'] joy\n",
      "joy ['joy', 'neutral', 'neutral'] neutral\n",
      "fear ['fear', 'sadness', 'sadness'] sadness\n",
      "fear ['fear', 'neutral', 'neutral'] neutral\n",
      "fear ['fear', 'surprise', 'surprise'] surprise\n",
      "surprise ['surprise', 'neutral', 'neutral'] neutral\n",
      "fear ['fear', 'neutral', 'neutral'] neutral\n",
      "joy ['joy', 'neutral', 'neutral'] neutral\n",
      "anger ['anger', 'sadness', 'sadness'] sadness\n",
      "fear ['fear', 'neutral', 'neutral'] neutral\n",
      "disgust ['disgust', 'anger', 'anger'] anger\n",
      "disgust ['disgust', 'anger', 'anger'] anger\n",
      "sadness ['sadness', 'neutral', 'neutral'] neutral\n",
      "joy ['joy', 'neutral', 'neutral'] neutral\n",
      "joy ['joy', 'neutral', 'neutral'] neutral\n",
      "anger ['anger', 'neutral', 'neutral'] neutral\n",
      "anger ['anger', 'surprise', 'surprise'] surprise\n",
      "sadness ['sadness', 'fear', 'fear'] fear\n",
      "sadness ['sadness', 'neutral', 'neutral'] neutral\n",
      "fear ['fear', 'neutral', 'neutral'] neutral\n",
      "fear ['fear', 'sadness', 'sadness'] sadness\n",
      "anger ['anger', 'disgust', 'disgust'] disgust\n",
      "disgust ['disgust', 'anger', 'anger'] anger\n",
      "anger ['anger', 'joy', 'joy'] joy\n",
      "surprise ['surprise', 'neutral', 'neutral'] neutral\n",
      "neutral ['neutral', 'joy', 'joy'] joy\n",
      "neutral ['neutral', 'joy', 'joy'] joy\n",
      "disgust ['disgust', 'fear', 'fear'] fear\n",
      "neutral ['neutral', 'anger', 'anger'] anger\n",
      "disgust ['disgust', 'fear', 'fear'] fear\n",
      "surprise ['surprise', 'joy', 'joy'] joy\n"
     ]
    }
   ],
   "source": [
    "for index, adjudication in enumerate(df['Adjudication']):\n",
    "    gold = df['Gold'].iloc[index]\n",
    "    if not gold == adjudication:\n",
    "        votes = df['Votes'].iloc[index]\n",
    "        print(gold, votes, adjudication)    "
   ]
  },
  {
   "cell_type": "markdown",
   "metadata": {
    "tags": []
   },
   "source": [
    "### 1.2 Provide a statistical analysis of the conversational data with the label distribution"
   ]
  },
  {
   "cell_type": "code",
   "execution_count": 15,
   "metadata": {},
   "outputs": [],
   "source": [
    "# [YOUR CODE FOR THE ANALYSIS GOES HERE]"
   ]
  },
  {
   "cell_type": "markdown",
   "metadata": {},
   "source": [
    "## 2. Baselines"
   ]
  },
  {
   "cell_type": "markdown",
   "metadata": {},
   "source": [
    "### 2.1 Majority baseline"
   ]
  },
  {
   "cell_type": "code",
   "execution_count": 19,
   "metadata": {},
   "outputs": [],
   "source": [
    "# [YOUR CODE FOR APPLYING THE MAJORITY BASELINE GOES HERE]"
   ]
  },
  {
   "cell_type": "markdown",
   "metadata": {},
   "source": [
    "### 2.2 Lexical baseline"
   ]
  },
  {
   "cell_type": "code",
   "execution_count": 22,
   "metadata": {},
   "outputs": [],
   "source": [
    "# [YOUR CODE FOR APPLYING THE LEXICAL BASELINE GOES HERE]"
   ]
  },
  {
   "cell_type": "markdown",
   "metadata": {},
   "source": [
    "### 2.3 Classification report"
   ]
  },
  {
   "cell_type": "code",
   "execution_count": 23,
   "metadata": {},
   "outputs": [],
   "source": [
    "#[HERE COMES THE CODE TO GENERATE THE CLASSIFICATION REPORT]"
   ]
  },
  {
   "cell_type": "markdown",
   "metadata": {},
   "source": [
    "## 3 Apply the BoW classifiers for high recall and high precision"
   ]
  },
  {
   "cell_type": "markdown",
   "metadata": {},
   "source": [
    "### 3.1 Load the BoW SVM classifier from MELD and TWEETS"
   ]
  },
  {
   "cell_type": "code",
   "execution_count": 24,
   "metadata": {
    "tags": []
   },
   "outputs": [],
   "source": [
    "# HERE COMES THE CODE TO LOAD THE BOW SVM CLASSIFIER BUILT FROM MELD AND WASSA TWEETS"
   ]
  },
  {
   "cell_type": "markdown",
   "metadata": {},
   "source": [
    "### 3.2 Apply each classifier to the conversation"
   ]
  },
  {
   "cell_type": "code",
   "execution_count": 25,
   "metadata": {
    "tags": []
   },
   "outputs": [],
   "source": [
    "# HERE COMES THE CODE TO APPLY THE CLASSIFIER TO THE UTTERANCES"
   ]
  },
  {
   "cell_type": "markdown",
   "metadata": {},
   "source": [
    "## 3.3 Evaluation"
   ]
  },
  {
   "cell_type": "code",
   "execution_count": 13,
   "metadata": {
    "tags": []
   },
   "outputs": [],
   "source": [
    "# HERE COMES THE CODE TO GENERATE THE CLASSIFICATION REPORT AND CONFUSION MATRIX"
   ]
  },
  {
   "cell_type": "markdown",
   "metadata": {},
   "source": [
    "## 4. Discussion of the results\n",
    "\n",
    "The dicussion of the results of the baselines and the SVM classfier should go to the report."
   ]
  },
  {
   "cell_type": "markdown",
   "metadata": {},
   "source": [
    "## 5. Error analysis\n",
    "\n",
    "Motivate a sampel 20 critical cases. Compare the performance of the SVM classifiers, the baselines, GO-Emotions and the LLM-annotation on the 20 critical cases. Results should be described in the report."
   ]
  },
  {
   "cell_type": "markdown",
   "metadata": {},
   "source": [
    "## End of the assignment"
   ]
  },
  {
   "cell_type": "code",
   "execution_count": null,
   "metadata": {},
   "outputs": [],
   "source": []
  }
 ],
 "metadata": {
  "kernelspec": {
   "display_name": "Python 3 (ipykernel)",
   "language": "python",
   "name": "python3"
  },
  "language_info": {
   "codemirror_mode": {
    "name": "ipython",
    "version": 3
   },
   "file_extension": ".py",
   "mimetype": "text/x-python",
   "name": "python",
   "nbconvert_exporter": "python",
   "pygments_lexer": "ipython3",
   "version": "3.11.13"
  }
 },
 "nbformat": 4,
 "nbformat_minor": 4
}
