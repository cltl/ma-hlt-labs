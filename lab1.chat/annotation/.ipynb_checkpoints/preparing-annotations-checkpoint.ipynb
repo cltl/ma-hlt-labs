{
 "cells": [
  {
   "cell_type": "markdown",
   "id": "18ae38ef-8895-43c7-ae1a-17a685a060d8",
   "metadata": {},
   "source": [
    "## Preparing annotations"
   ]
  },
  {
   "cell_type": "code",
   "execution_count": 13,
   "id": "0d694761-e54d-423d-9952-ec6539d4138b",
   "metadata": {},
   "outputs": [],
   "source": [
    "def get_speaker(d:dict):\n",
    "    speaker = \"\"\n",
    "    max_speaker = 0\n",
    "    speaker_count = {}\n",
    "    for item in d:\n",
    "        speaker_key = item[\"speaker\"]\n",
    "        if not speaker_key==\"Llama\":\n",
    "            if speaker_key in speaker_count:\n",
    "                speaker_count[speaker_key] += 1\n",
    "            else:\n",
    "                speaker_count[speaker_key] = 1\n",
    "    for s, count in speaker_count.items():\n",
    "        if count > max_speaker:\n",
    "            speaker = s\n",
    "            max_speaker = count\n",
    "    return speaker"
   ]
  },
  {
   "cell_type": "code",
   "execution_count": 75,
   "id": "742295c4-943c-42de-94b2-52311eb4c568",
   "metadata": {},
   "outputs": [],
   "source": [
    "def get_annotator(d:dict):\n",
    "    for item in d:\n",
    "        if \"Annotator\" in item:\n",
    "            annotator = item[\"Annotator\"]\n",
    "            if not annotator==\"auto\":\n",
    "                return annotator\n",
    "    return \"\""
   ]
  },
  {
   "cell_type": "code",
   "execution_count": 90,
   "id": "c0525480-e79d-4d17-8b31-269db1235996",
   "metadata": {},
   "outputs": [
    {
     "name": "stdout",
     "output_type": "stream",
     "text": [
      "Hello 1\n",
      "Wilbur 2\n",
      "Leon 2\n",
      "Hello! My name is Alice. 1\n",
      "Coins 2\n",
      "Robert 1\n",
      "Sissy 2\n",
      "Coco 1\n",
      "Moon. 1\n",
      "Igor 1\n",
      "Pretzel. 2\n",
      "Kristof 1\n",
      "Charles 1\n",
      "Boris 1\n",
      "Olaf 1\n",
      "Carol 2\n",
      "Bassie 2\n",
      "Sarah 1\n",
      "Big Head 1\n",
      "Hey, I'm Lolamama. 2\n",
      "Jake 2\n",
      "Dorkus 1\n",
      "Artemidorus 1\n",
      "Hajmola 1\n",
      "Bob 1\n",
      "Hi, my name is Anna. 1\n",
      "Amber 1\n"
     ]
    }
   ],
   "source": [
    "import json\n",
    "import glob\n",
    "import zipfile\n",
    "#import pandas as pd\n",
    "\n",
    "speaker_dict = {}\n",
    "chat_folder = \"/Users/piek/Desktop/t-MA-HLT-introduction-2024/lab-assignments/HLT-2024-lab0-submissions/combined\"\n",
    "all_conversations = []\n",
    "for filename in glob.glob(chat_folder + '/*.json'):\n",
    "    with open(filename) as f:\n",
    "       # print(filename)\n",
    "        d = json.load(f)\n",
    "        speaker_key = get_speaker(d)\n",
    "        if speaker_key in speaker_dict:\n",
    "            speaker_dict[speaker_key].append(d)\n",
    "        else:\n",
    "            speaker_dict[speaker_key] = [d]\n",
    "\n",
    "for speaker in speaker_dict:\n",
    "    print(speaker, len(speaker_dict[speaker]))"
   ]
  },
  {
   "cell_type": "markdown",
   "id": "e6d533dd-9eb1-4600-ba46-98fd40b80ac9",
   "metadata": {},
   "source": [
    "## Remove unannotated turns when doubled"
   ]
  },
  {
   "cell_type": "code",
   "execution_count": 91,
   "id": "b58128ae-6236-484c-ba72-e9b72919cde0",
   "metadata": {},
   "outputs": [
    {
     "name": "stdout",
     "output_type": "stream",
     "text": [
      "Wilbur annotator is Wilbur\n",
      "Leon annotator is Manya\n",
      "Coins annotator is Yuleum\n",
      "Sissy annotator is Melina Paxinou\n",
      "Pretzel. No annotations in either, choosing the first\n",
      "Pretzel. annotator is \n",
      "Carol annotator is Martha\n",
      "Bassie annotator is Sanne\n",
      "Hey, I'm Lolamama. annotator is Yunchong Huang\n",
      "Jake annotator is Elisabetta\n",
      "Hello 40\n",
      "Wilbur 44\n",
      "Leon 52\n",
      "Hello! My name is Alice. 42\n",
      "Coins 22\n",
      "Robert 56\n",
      "Sissy 42\n",
      "Coco 42\n",
      "Moon. 42\n",
      "Igor 42\n",
      "Pretzel. 46\n",
      "Kristof 28\n",
      "Charles 34\n",
      "Boris 42\n",
      "Olaf 40\n",
      "Carol 38\n",
      "Bassie 28\n",
      "Sarah 42\n",
      "Big Head 44\n",
      "Hey, I'm Lolamama. 52\n",
      "Jake 40\n",
      "Dorkus 40\n",
      "Artemidorus 26\n",
      "Hajmola 44\n",
      "Bob 44\n",
      "Hi, my name is Anna. 52\n",
      "Amber 42\n"
     ]
    }
   ],
   "source": [
    "cleaned_dict = {}\n",
    "for speaker in speaker_dict:\n",
    "    if len(speaker_dict[speaker])==1:\n",
    "        cleaned_dict[speaker] = speaker_dict[speaker][0]\n",
    "    else:\n",
    "        if get_annotator(speaker_dict[speaker][0]):\n",
    "            cleaned_dict[speaker] = speaker_dict[speaker][0]\n",
    "        elif get_annotator(speaker_dict[speaker][1]):\n",
    "            cleaned_dict[speaker] = speaker_dict[speaker][1]\n",
    "        else:\n",
    "            print(speaker, \"No annotations in either, choosing the first\")\n",
    "            cleaned_dict[speaker] = speaker_dict[speaker][0]\n",
    "        print(speaker, \"annotator is\", get_annotator(cleaned_dict[speaker]))\n",
    "\n",
    "for speaker in cleaned_dict:\n",
    "    data = cleaned_dict[speaker]\n",
    "    annotator = get_annotator(data)\n",
    "    if not annotator:\n",
    "        for item in data:\n",
    "            speaker_turn = item['speaker']\n",
    "            if speaker_turn == \"Llama\":\n",
    "                item[\"Annotator\"] = \"auto\"\n",
    "                item[\"Gold\"]= \"neutral\"\n",
    "            else:\n",
    "                item[\"Annotator\"] = \"\"\n",
    "                item[\"Gold\"]= \"\"\n",
    "    print(speaker, len(cleaned_dict[speaker]))"
   ]
  },
  {
   "cell_type": "markdown",
   "id": "1563fb74-8cf4-4734-9e17-b7b7a6a9367b",
   "metadata": {},
   "source": [
    "## Map spakers to friends"
   ]
  },
  {
   "cell_type": "code",
   "execution_count": 78,
   "id": "14dfcdd5-3144-40e1-bd1b-2613b7ab4398",
   "metadata": {},
   "outputs": [
    {
     "name": "stdout",
     "output_type": "stream",
     "text": [
      "[{'speaker': 'Bassie', 'friends': ['Sarah', 'Pretzel.']}, {'speaker': 'Sarah', 'friends': ['Pretzel.', 'Coco']}, {'speaker': 'Pretzel.', 'friends': ['Coco', 'Amber']}, {'speaker': 'Coco', 'friends': ['Amber', 'Jake']}, {'speaker': 'Amber', 'friends': ['Jake', 'Hajmola']}, {'speaker': 'Jake', 'friends': ['Hajmola', 'Moon.']}, {'speaker': 'Hajmola', 'friends': ['Moon.', 'Hello']}, {'speaker': 'Moon.', 'friends': ['Hello', \"Hey, I'm Lolamama.\"]}, {'speaker': 'Hello', 'friends': [\"Hey, I'm Lolamama.\", 'Hello! My name is Alice.']}, {'speaker': \"Hey, I'm Lolamama.\", 'friends': ['Hello! My name is Alice.', 'Artemidorus']}, {'speaker': 'Hello! My name is Alice.', 'friends': ['Artemidorus', 'Bob']}, {'speaker': 'Artemidorus', 'friends': ['Bob', 'Carol']}, {'speaker': 'Bob', 'friends': ['Carol', 'Charles']}, {'speaker': 'Carol', 'friends': ['Charles', 'Big Head']}, {'speaker': 'Charles', 'friends': ['Big Head', 'Wilbur']}, {'speaker': 'Big Head', 'friends': ['Wilbur', 'Dorkus']}, {'speaker': 'Wilbur', 'friends': ['Dorkus', 'Robert']}, {'speaker': 'Dorkus', 'friends': ['Robert', 'Hi, my name is Anna.']}, {'speaker': 'Robert', 'friends': ['Hi, my name is Anna.', 'Coins']}, {'speaker': 'Hi, my name is Anna.', 'friends': ['Coins', 'Sissy']}, {'speaker': 'Coins', 'friends': ['Sissy', 'Boris']}, {'speaker': 'Sissy', 'friends': ['Boris', 'Olaf']}, {'speaker': 'Boris', 'friends': ['Olaf', 'Leon']}, {'speaker': 'Olaf', 'friends': ['Leon', 'Kristof']}, {'speaker': 'Leon', 'friends': ['Kristof', 'Igor']}, {'speaker': 'Kristof', 'friends': ['Igor', 'Bassie']}, {'speaker': 'Igor', 'friends': ['Bassie', 'Sarah']}]\n"
     ]
    }
   ],
   "source": [
    "speaker_friends = [{\"speaker\": \"Bassie\", \"friends\": [\"Sarah\", \"Pretzel.\"]},\n",
    "{\"speaker\": \"Sarah\", \"friends\": [\"Pretzel.\", \"Coco\"]},\n",
    "{\"speaker\": \"Pretzel.\", \"friends\": [\"Coco\", \"Amber\"]},\n",
    "{\"speaker\": \"Coco\", \"friends\": [\"Amber\", \"Jake\"]},\n",
    "{\"speaker\": \"Amber\", \"friends\": [\"Jake\", \"Hajmola\"]},\n",
    "{\"speaker\": \"Jake\", \"friends\": [\"Hajmola\", \"Moon.\"]},\n",
    "{\"speaker\": \"Hajmola\", \"friends\": [\"Moon.\", \"Hello\"]},\n",
    "{\"speaker\": \"Moon.\", \"friends\": [\"Hello\", \"Hey, I'm Lolamama.\"]},\n",
    "{\"speaker\": \"Hello\", \"friends\": [\"Hey, I'm Lolamama.\", \"Hello! My name is Alice.\"]},\n",
    "{\"speaker\": \"Hey, I'm Lolamama.\", \"friends\": [\"Hello! My name is Alice.\", \"Artemidorus\"]},\n",
    "{\"speaker\": \"Hello! My name is Alice.\", \"friends\": [\"Artemidorus\", \"Bob\"]},\n",
    "{\"speaker\": \"Artemidorus\", \"friends\": [\"Bob\", \"Carol\"]},\n",
    "{\"speaker\": \"Bob\", \"friends\": [\"Carol\", \"Charles\"]},\n",
    "{\"speaker\": \"Carol\", \"friends\": [\"Charles\", \"Big Head\"]},\n",
    "{\"speaker\": \"Charles\", \"friends\": [\"Big Head\", \"Wilbur\"]},\n",
    "{\"speaker\": \"Big Head\", \"friends\": [\"Wilbur\", \"Dorkus\"]},\n",
    "{\"speaker\": \"Wilbur\", \"friends\": [\"Dorkus\", \"Robert\"]},\n",
    "{\"speaker\": \"Dorkus\", \"friends\": [\"Robert\", \"Hi, my name is Anna.\"]},\n",
    "{\"speaker\": \"Robert\", \"friends\": [\"Hi, my name is Anna.\", \"Coins\"]},\n",
    "{\"speaker\": \"Hi, my name is Anna.\", \"friends\": [\"Coins\", \"Sissy\"]},\n",
    "{\"speaker\": \"Coins\", \"friends\": [\"Sissy\", \"Boris\"]},\n",
    "{\"speaker\": \"Sissy\", \"friends\": [\"Boris\", \"Olaf\"]},\n",
    "{\"speaker\": \"Boris\", \"friends\": [\"Olaf\", \"Leon\"]},\n",
    "{\"speaker\": \"Olaf\", \"friends\": [\"Leon\", \"Kristof\"]},\n",
    "{\"speaker\": \"Leon\", \"friends\": [\"Kristof\", \"Igor\"]},\n",
    "{\"speaker\": \"Kristof\", \"friends\": [\"Igor\", \"Bassie\"]},\n",
    "{\"speaker\": \"Igor\", \"friends\": [\"Bassie\", \"Sarah\"]}]\n",
    "\n",
    "print(speaker_friends)"
   ]
  },
  {
   "cell_type": "code",
   "execution_count": 79,
   "id": "897e0fc3-46a1-411c-a746-998778760e30",
   "metadata": {},
   "outputs": [],
   "source": [
    "### Speaker check\n",
    "for item in speaker_friends:\n",
    "    speaker = item['speaker']\n",
    "    friends = item['friends']\n",
    "    if not speaker in cleaned_dict:\n",
    "        print('Cannot find speaker', speaker)\n",
    "        print('Aborting')\n",
    "        break\n",
    "    for f in friends:\n",
    "        if not f in cleaned_dict:\n",
    "            print('Cannot find friend', f)\n",
    "            print('Aborting')\n",
    "            break"
   ]
  },
  {
   "cell_type": "code",
   "execution_count": 92,
   "id": "3ecd8ba5-b3a2-4654-ba65-9ca27f2fdd63",
   "metadata": {},
   "outputs": [
    {
     "name": "stdout",
     "output_type": "stream",
     "text": [
      "/Users/piek/Desktop/t-MA-HLT-introduction-2024/ma-hlt-labs-class/lab0.llama/annotation_tasks/Bassie.json\n",
      "/Users/piek/Desktop/t-MA-HLT-introduction-2024/ma-hlt-labs-class/lab0.llama/annotation_tasks/Sarah.json\n",
      "/Users/piek/Desktop/t-MA-HLT-introduction-2024/ma-hlt-labs-class/lab0.llama/annotation_tasks/Pretzel..json\n",
      "/Users/piek/Desktop/t-MA-HLT-introduction-2024/ma-hlt-labs-class/lab0.llama/annotation_tasks/Coco.json\n",
      "/Users/piek/Desktop/t-MA-HLT-introduction-2024/ma-hlt-labs-class/lab0.llama/annotation_tasks/Amber.json\n",
      "/Users/piek/Desktop/t-MA-HLT-introduction-2024/ma-hlt-labs-class/lab0.llama/annotation_tasks/Jake.json\n",
      "/Users/piek/Desktop/t-MA-HLT-introduction-2024/ma-hlt-labs-class/lab0.llama/annotation_tasks/Hajmola.json\n",
      "/Users/piek/Desktop/t-MA-HLT-introduction-2024/ma-hlt-labs-class/lab0.llama/annotation_tasks/Moon..json\n",
      "/Users/piek/Desktop/t-MA-HLT-introduction-2024/ma-hlt-labs-class/lab0.llama/annotation_tasks/Hello.json\n",
      "/Users/piek/Desktop/t-MA-HLT-introduction-2024/ma-hlt-labs-class/lab0.llama/annotation_tasks/Hey, I'm Lolamama..json\n",
      "/Users/piek/Desktop/t-MA-HLT-introduction-2024/ma-hlt-labs-class/lab0.llama/annotation_tasks/Hello! My name is Alice..json\n",
      "/Users/piek/Desktop/t-MA-HLT-introduction-2024/ma-hlt-labs-class/lab0.llama/annotation_tasks/Artemidorus.json\n",
      "/Users/piek/Desktop/t-MA-HLT-introduction-2024/ma-hlt-labs-class/lab0.llama/annotation_tasks/Bob.json\n",
      "/Users/piek/Desktop/t-MA-HLT-introduction-2024/ma-hlt-labs-class/lab0.llama/annotation_tasks/Carol.json\n",
      "/Users/piek/Desktop/t-MA-HLT-introduction-2024/ma-hlt-labs-class/lab0.llama/annotation_tasks/Charles.json\n",
      "/Users/piek/Desktop/t-MA-HLT-introduction-2024/ma-hlt-labs-class/lab0.llama/annotation_tasks/Big Head.json\n",
      "/Users/piek/Desktop/t-MA-HLT-introduction-2024/ma-hlt-labs-class/lab0.llama/annotation_tasks/Wilbur.json\n",
      "/Users/piek/Desktop/t-MA-HLT-introduction-2024/ma-hlt-labs-class/lab0.llama/annotation_tasks/Dorkus.json\n",
      "/Users/piek/Desktop/t-MA-HLT-introduction-2024/ma-hlt-labs-class/lab0.llama/annotation_tasks/Robert.json\n",
      "/Users/piek/Desktop/t-MA-HLT-introduction-2024/ma-hlt-labs-class/lab0.llama/annotation_tasks/Hi, my name is Anna..json\n",
      "/Users/piek/Desktop/t-MA-HLT-introduction-2024/ma-hlt-labs-class/lab0.llama/annotation_tasks/Coins.json\n",
      "/Users/piek/Desktop/t-MA-HLT-introduction-2024/ma-hlt-labs-class/lab0.llama/annotation_tasks/Sissy.json\n",
      "/Users/piek/Desktop/t-MA-HLT-introduction-2024/ma-hlt-labs-class/lab0.llama/annotation_tasks/Boris.json\n",
      "/Users/piek/Desktop/t-MA-HLT-introduction-2024/ma-hlt-labs-class/lab0.llama/annotation_tasks/Olaf.json\n",
      "/Users/piek/Desktop/t-MA-HLT-introduction-2024/ma-hlt-labs-class/lab0.llama/annotation_tasks/Leon.json\n",
      "/Users/piek/Desktop/t-MA-HLT-introduction-2024/ma-hlt-labs-class/lab0.llama/annotation_tasks/Kristof.json\n",
      "/Users/piek/Desktop/t-MA-HLT-introduction-2024/ma-hlt-labs-class/lab0.llama/annotation_tasks/Igor.json\n"
     ]
    }
   ],
   "source": [
    "import pathlib, os\n",
    "current_working_directory = pathlib.Path.cwd()\n",
    "folder = \"annotation_tasks\"\n",
    "for item in speaker_friends:\n",
    "    speaker = item['speaker']\n",
    "    friends = item['friends']\n",
    "    annotator = get_annotator(cleaned_dict[speaker])\n",
    "    file = os.path.join(current_working_directory, folder, speaker+'.json')\n",
    "    print(file)\n",
    "    data = [cleaned_dict[speaker]]\n",
    "    for f in friends:\n",
    "        friend_data = cleaned_dict[f]\n",
    "        new_friend_data = []\n",
    "        for friend_item in friend_data:\n",
    "            speaker_turn = friend_item['speaker']\n",
    "            new_data = friend_item.copy()\n",
    "            if not speaker_turn=='Llama':\n",
    "                new_data[\"Annotator\"]= annotator\n",
    "                new_data[\"Gold\"]=\"\"\n",
    "            new_friend_data.append(new_data)\n",
    "        data.append(new_friend_data)\n",
    "    with open(file,'w') as file:\n",
    "        json.dump(data, file, indent = 4)"
   ]
  },
  {
   "cell_type": "code",
   "execution_count": null,
   "id": "ed66f85c-c16b-4d86-aec2-2d75cfc42ea5",
   "metadata": {},
   "outputs": [],
   "source": []
  }
 ],
 "metadata": {
  "kernelspec": {
   "display_name": "Python 3",
   "language": "python",
   "name": "python3"
  },
  "language_info": {
   "codemirror_mode": {
    "name": "ipython",
    "version": 3
   },
   "file_extension": ".py",
   "mimetype": "text/x-python",
   "name": "python",
   "nbconvert_exporter": "python",
   "pygments_lexer": "ipython3",
   "version": "3.10.11"
  }
 },
 "nbformat": 4,
 "nbformat_minor": 5
}
