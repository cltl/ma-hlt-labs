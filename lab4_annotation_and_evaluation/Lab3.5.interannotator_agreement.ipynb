{
 "cells": [
  {
   "cell_type": "markdown",
   "id": "d02963a8-0199-40dd-80e5-c3a528e5bbb9",
   "metadata": {},
   "source": [
    "# Lab 3.5 Interannotator agreement"
   ]
  },
  {
   "cell_type": "markdown",
   "id": "8893635e-1a2a-4ca5-9b7d-e6b2edc9e520",
   "metadata": {},
   "source": [
    "This notebook shows how you can calculate the Inter-Annotator agreement (IAA) for the annotation of conversations with Llama3 for Lab0. There are three well-known methods to calculate the IAA: Cohen's kappa, Fleiss Kappa and Krippendorf's alpha. All three measures compare the agreement against the chance that the annotators accidently agree. Cohen and Fleiss compare the agreement against the expected agreement by chance and Krippendorf against the expected disagreement by chance. Cohen can only compare two annotators and nominal data, Fleiss more than two annotators of nominal data, Krippendorf more than two annotators and many different data types. In general, scores of 0.6 or higher are considerd to be of sufficient quality. If scores are lower, the annotations cannot be trusted.\n",
    "\n",
    "We will use the **metrics** module from NLTK which provides an **agreement.AnnotationTask** function to feed the data that needs to be compared. We will take the data from the annotated Llama conversations that are stored as JSON file. We first import **json** and the **NLTK** module."
   ]
  },
  {
   "cell_type": "code",
   "execution_count": 4,
   "id": "ce745454-1ed6-4f99-b5da-455b44903f14",
   "metadata": {},
   "outputs": [],
   "source": [
    "import json\n",
    "from  nltk.metrics import agreement"
   ]
  },
  {
   "cell_type": "markdown",
   "id": "210bed78-03cb-4407-a3fb-7b1ef181163d",
   "metadata": {},
   "source": [
    "In the data folder, you find two annotations of the same conversation. The fake annotators are \"Piek\" and \"Hennie\". We can read the data from the file to create a json object for the original conversation with the two annotations. "
   ]
  },
  {
   "cell_type": "code",
   "execution_count": 4,
   "id": "9c341195-c366-49ce-a490-2a4164fb012c",
   "metadata": {},
   "outputs": [
    {
     "name": "stdout",
     "output_type": "stream",
     "text": [
      "35 35\n"
     ]
    }
   ],
   "source": [
    "# Assume JSON files with a conversation as a list of turns\n",
    "# each turn as an Annotator and a Gold label field\n",
    "# All conversations should have an equal number of turns\n",
    "\n",
    "file1 = open(\"./data/iaa/annotator_Piek_human_Piek_chat_with_llama.json\")\n",
    "conversation1 = json.load(file1)\n",
    "\n",
    "file2 = open(\"./data/iaa/annotator_Hennie_human_Piek_chat_with_llama.json\")\n",
    "conversation2 = json.load(file2)\n",
    "\n",
    "print(len(conversation1), len(conversation2))"
   ]
  },
  {
   "cell_type": "markdown",
   "id": "200d0df3-f637-4835-b1ee-7ab7bc191deb",
   "metadata": {},
   "source": [
    "By ckecking the length, we verify that the conversations have the same number of turns. The next function will extract a list of annotations from the data in the form of a tuple that consists of the name of the annotator, the turn identifier and the label. We are ignoring the turns uttered by Llama, as these were annotated automatically as \"neutral\"."
   ]
  },
  {
   "cell_type": "code",
   "execution_count": 5,
   "id": "35f39b9c-d34f-439a-9754-e20b5e199c05",
   "metadata": {},
   "outputs": [],
   "source": [
    "## This function takes as parameters a conversation in JSON format \n",
    "## and it returns a list of annotations in the form of a tuple:\n",
    "## annotator, turn id, label\n",
    "def get_chat_annotations(conversation=[]):\n",
    "    annotations = []\n",
    "    for turn in conversation:\n",
    "        speaker = turn['speaker']\n",
    "        turn_id = turn['turn_id']\n",
    "        if not speaker=='Llama':\n",
    "            annotator= turn['Annotator']\n",
    "            gold = turn['Gold']\n",
    "            annotations.append((annotator, turn_id, gold))\n",
    "    return annotations"
   ]
  },
  {
   "cell_type": "code",
   "execution_count": 7,
   "id": "a1c3241d-29e1-4911-9b9e-ea89dfe6381e",
   "metadata": {},
   "outputs": [
    {
     "name": "stdout",
     "output_type": "stream",
     "text": [
      "17 17\n",
      "('Piek', 2, 'neutral') ('Hennie', 2, 'neutral')\n",
      "('Piek', 4, 'sadness') ('Hennie', 4, 'joy')\n",
      "('Piek', 6, 'sadness') ('Hennie', 6, 'fear')\n",
      "('Piek', 8, 'joy') ('Hennie', 8, 'neutral')\n",
      "('Piek', 10, 'joy') ('Hennie', 10, 'neutral')\n",
      "('Piek', 12, 'neutral') ('Hennie', 12, 'joy')\n",
      "('Piek', 14, 'sadness') ('Hennie', 14, 'neutral')\n",
      "('Piek', 16, 'sadness') ('Hennie', 16, 'sadness')\n",
      "('Piek', 18, 'neutral') ('Hennie', 18, 'surprise')\n",
      "('Piek', 20, 'fear') ('Hennie', 20, 'fear')\n",
      "('Piek', 22, 'joy') ('Hennie', 22, 'joy')\n",
      "('Piek', 24, 'joy') ('Hennie', 24, 'joy')\n",
      "('Piek', 26, 'fear') ('Hennie', 26, 'fear')\n",
      "('Piek', 28, 'disgust') ('Hennie', 28, 'disgust')\n",
      "('Piek', 30, 'fear') ('Hennie', 30, 'fear')\n",
      "('Piek', 32, 'neutral') ('Hennie', 32, 'neutral')\n",
      "('Piek', 34, 'neutral') ('Hennie', 34, 'neutral')\n"
     ]
    }
   ],
   "source": [
    "anno1 = get_chat_annotations(conversation1)\n",
    "anno2 = get_chat_annotations(conversation2)\n",
    "print(len(anno1), len(anno2))\n",
    "for a1, a2 in zip(anno1, anno2):\n",
    "    print(a1, a2)"
   ]
  },
  {
   "cell_type": "markdown",
   "id": "022dedea-5419-4634-8574-df07c5d8dd6e",
   "metadata": {},
   "source": [
    "We extracted list of annotations with an equal length. By zipping both lists and getting the second element from the tuple for each pair, we can check if they have the same turn ids. Our data seems to be compatible. Now we can concatenate the two lists and call the **AnnotationTask** function with the combined data."
   ]
  },
  {
   "cell_type": "code",
   "execution_count": 21,
   "id": "dcb0bd0d-5de3-4ac4-b23e-2c8b6de73cd0",
   "metadata": {},
   "outputs": [
    {
     "name": "stdout",
     "output_type": "stream",
     "text": [
      "Cohen's Kappa: 0.47345132743362833\n",
      "Fleiss's Kappa: 0.47345132743362833\n",
      "Krippendorf's Kappa: 0.48206278026905836\n"
     ]
    }
   ],
   "source": [
    "data = anno1+anno2\n",
    "iaa = agreement.AnnotationTask(data=data)\n",
    "\n",
    "print(\"Cohen's Kappa:\", iaa.kappa())\n",
    "print(\"Fleiss's Kappa:\", iaa.multi_kappa())\n",
    "print(\"Krippendorf's Kappa:\", iaa.alpha())"
   ]
  },
  {
   "cell_type": "markdown",
   "id": "99854f4b-8bc7-4947-a659-8984e8b950c5",
   "metadata": {},
   "source": [
    "All three measures score below .6 so these two annotators disagree a lot. This means the annotation is not trustworthy and the annotation task needs to be reconsidered.\n",
    "\n",
    "You can easily see how you can do this for more than two annotators by extracting more annoations and concatenating these in data: data = ann1+anno2+anno3+anno4, etc.\n",
    "\n",
    "If you have a large crowd of annotations, you could take the majority vote as the adjudicated label. Next you can compare each annotator's labels against the adjudicated data set and validate the quality of the annotator."
   ]
  },
  {
   "cell_type": "markdown",
   "id": "8645d54f-2768-4a40-899c-456992eeb6d8",
   "metadata": {},
   "source": [
    "### End of notebook"
   ]
  },
  {
   "cell_type": "code",
   "execution_count": 6,
   "id": "a51eeb90-fb39-40a9-9733-c4635dd9c772",
   "metadata": {},
   "outputs": [
    {
     "data": {
      "text/html": [
       "<div>\n",
       "<style scoped>\n",
       "    .dataframe tbody tr th:only-of-type {\n",
       "        vertical-align: middle;\n",
       "    }\n",
       "\n",
       "    .dataframe tbody tr th {\n",
       "        vertical-align: top;\n",
       "    }\n",
       "\n",
       "    .dataframe thead th {\n",
       "        text-align: right;\n",
       "    }\n",
       "</style>\n",
       "<table border=\"1\" class=\"dataframe\">\n",
       "  <thead>\n",
       "    <tr style=\"text-align: right;\">\n",
       "      <th></th>\n",
       "      <th>utterance</th>\n",
       "      <th>speaker</th>\n",
       "      <th>turn_id</th>\n",
       "      <th>Annotator</th>\n",
       "      <th>Gold</th>\n",
       "      <th>Votes</th>\n",
       "      <th>Annotators</th>\n",
       "      <th>Adjudication</th>\n",
       "    </tr>\n",
       "  </thead>\n",
       "  <tbody>\n",
       "    <tr>\n",
       "      <th>0</th>\n",
       "      <td>Hi there! Going going well!</td>\n",
       "      <td>Raul</td>\n",
       "      <td>4</td>\n",
       "      <td>Pawel</td>\n",
       "      <td>neutral</td>\n",
       "      <td>[neutral, joy, joy]</td>\n",
       "      <td>[Pawel, Leo Mylonadis, Matt]</td>\n",
       "      <td>neutral</td>\n",
       "    </tr>\n",
       "    <tr>\n",
       "      <th>1</th>\n",
       "      <td>From hike? Do yo want to convince me you're a ...</td>\n",
       "      <td>Raul</td>\n",
       "      <td>6</td>\n",
       "      <td>Pawel</td>\n",
       "      <td>neutral</td>\n",
       "      <td>[neutral, neutral, surprise]</td>\n",
       "      <td>[Pawel, Leo Mylonadis, Matt]</td>\n",
       "      <td>neutral</td>\n",
       "    </tr>\n",
       "    <tr>\n",
       "      <th>2</th>\n",
       "      <td>I hope that your dried llama food isn't anythi...</td>\n",
       "      <td>Raul</td>\n",
       "      <td>8</td>\n",
       "      <td>Pawel</td>\n",
       "      <td>disgust</td>\n",
       "      <td>[disgust, disgust, neutral]</td>\n",
       "      <td>[Pawel, Leo Mylonadis, Matt]</td>\n",
       "      <td>disgust</td>\n",
       "    </tr>\n",
       "    <tr>\n",
       "      <th>3</th>\n",
       "      <td>Don't wink wink at me!</td>\n",
       "      <td>Raul</td>\n",
       "      <td>10</td>\n",
       "      <td>Pawel</td>\n",
       "      <td>anger</td>\n",
       "      <td>[anger, anger, anger]</td>\n",
       "      <td>[Pawel, Leo Mylonadis, Matt]</td>\n",
       "      <td>anger</td>\n",
       "    </tr>\n",
       "    <tr>\n",
       "      <th>4</th>\n",
       "      <td>I think all the LLM hype is quite suspicious!</td>\n",
       "      <td>Raul</td>\n",
       "      <td>12</td>\n",
       "      <td>Pawel</td>\n",
       "      <td>anger</td>\n",
       "      <td>[anger, fear, surprise]</td>\n",
       "      <td>[Pawel, Leo Mylonadis, Matt]</td>\n",
       "      <td>anger</td>\n",
       "    </tr>\n",
       "  </tbody>\n",
       "</table>\n",
       "</div>"
      ],
      "text/plain": [
       "                                           utterance speaker  turn_id  \\\n",
       "0                        Hi there! Going going well!    Raul        4   \n",
       "1  From hike? Do yo want to convince me you're a ...    Raul        6   \n",
       "2  I hope that your dried llama food isn't anythi...    Raul        8   \n",
       "3                             Don't wink wink at me!    Raul       10   \n",
       "4      I think all the LLM hype is quite suspicious!    Raul       12   \n",
       "\n",
       "  Annotator     Gold                         Votes  \\\n",
       "0     Pawel  neutral           [neutral, joy, joy]   \n",
       "1     Pawel  neutral  [neutral, neutral, surprise]   \n",
       "2     Pawel  disgust   [disgust, disgust, neutral]   \n",
       "3     Pawel    anger         [anger, anger, anger]   \n",
       "4     Pawel    anger       [anger, fear, surprise]   \n",
       "\n",
       "                     Annotators Adjudication  \n",
       "0  [Pawel, Leo Mylonadis, Matt]      neutral  \n",
       "1  [Pawel, Leo Mylonadis, Matt]      neutral  \n",
       "2  [Pawel, Leo Mylonadis, Matt]      disgust  \n",
       "3  [Pawel, Leo Mylonadis, Matt]        anger  \n",
       "4  [Pawel, Leo Mylonadis, Matt]        anger  "
      ]
     },
     "execution_count": 6,
     "metadata": {},
     "output_type": "execute_result"
    }
   ],
   "source": [
    "import pandas as pd\n",
    "\n",
    "annotation_file = \"/Users/piek/Desktop/t-MA-HLT-introduction-2024/ma-hlt-labs/lab0.llama/other/adjudicated_annotations.json\"\n",
    "\n",
    "df = pd.read_json(annotation_file)\n",
    "df.head()"
   ]
  },
  {
   "cell_type": "code",
   "execution_count": 7,
   "id": "d666b372-5350-469e-b2e0-417b05988fec",
   "metadata": {},
   "outputs": [
    {
     "name": "stdout",
     "output_type": "stream",
     "text": [
      "('Pawel', 'Raul_4', 'neutral') ('Leo Mylonadis', 'Raul_4', 'joy') ('Matt', 'Raul_4', 'joy')\n"
     ]
    }
   ],
   "source": [
    "anno1 = []\n",
    "anno2 = []\n",
    "anno3 = []\n",
    "for ind in df.index:\n",
    "    vote = df['Votes'][ind]\n",
    "    annotators = df['Annotators'][ind]\n",
    "    turn_id = df['turn_id'][ind]\n",
    "    speaker = df['speaker'][ind]\n",
    "    key = speaker+\"_\"+str(turn_id)\n",
    "    anno1.append((annotators[0], key, vote[0]))\n",
    "    if len(vote)==3:\n",
    "        anno2.append((annotators[1], key, vote[1]))\n",
    "        anno3.append((annotators[2], key, vote[2]))\n",
    "    elif len(vote)==2:\n",
    "        anno2.append((annotators[1], key, vote[1]))\n",
    "        anno3.append((\"missing3\", key, \"missing\"))\n",
    "    else:\n",
    "        anno2.append((\"missing2\", key, \"missing\"))\n",
    "        anno3.append((\"missing3\", key, \"missing\"))\n",
    "\n",
    "for a1, a2, a3 in zip(anno1, anno2, anno3):\n",
    "    print(a1, a2, a3)\n",
    "    break"
   ]
  },
  {
   "cell_type": "code",
   "execution_count": 8,
   "id": "f2c3fb86-5606-4f3e-82ad-ff02e1521743",
   "metadata": {},
   "outputs": [
    {
     "name": "stdout",
     "output_type": "stream",
     "text": [
      "Krippendorf's Kappa: 0.5604023776863283\n",
      "Krippendorf's Kappa: 0.5791274849602084\n",
      "Krippendorf's Kappa: 0.5933925302169503\n",
      "Krippendorf's Kappa: 0.5778072676734396\n"
     ]
    }
   ],
   "source": [
    "data = anno1+anno2\n",
    "iaa = agreement.AnnotationTask(data=data)\n",
    "print(\"Krippendorf's Kappa:\", iaa.alpha())\n",
    "\n",
    "data = anno1+anno3\n",
    "iaa = agreement.AnnotationTask(data=data)\n",
    "print(\"Krippendorf's Kappa:\", iaa.alpha())\n",
    "\n",
    "\n",
    "data = anno2+anno3\n",
    "iaa = agreement.AnnotationTask(data=data)\n",
    "print(\"Krippendorf's Kappa:\", iaa.alpha())\n",
    "\n",
    "\n",
    "data = anno1+anno2+anno3\n",
    "iaa = agreement.AnnotationTask(data=data)\n",
    "print(\"Krippendorf's Kappa:\", iaa.alpha())"
   ]
  },
  {
   "cell_type": "code",
   "execution_count": null,
   "id": "b3e502a6-3278-4663-b341-d3f28f4bc9d8",
   "metadata": {},
   "outputs": [],
   "source": []
  }
 ],
 "metadata": {
  "kernelspec": {
   "display_name": "Python 3 (ipykernel)",
   "language": "python",
   "name": "python3"
  },
  "language_info": {
   "codemirror_mode": {
    "name": "ipython",
    "version": 3
   },
   "file_extension": ".py",
   "mimetype": "text/x-python",
   "name": "python",
   "nbconvert_exporter": "python",
   "pygments_lexer": "ipython3",
   "version": "3.10.11"
  }
 },
 "nbformat": 4,
 "nbformat_minor": 5
}
