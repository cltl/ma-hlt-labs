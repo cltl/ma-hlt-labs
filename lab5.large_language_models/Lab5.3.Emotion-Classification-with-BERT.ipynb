{
 "cells": [
  {
   "cell_type": "markdown",
   "metadata": {},
   "source": [
    "# Lab 4.4 Emotion Classification using a fine-tuned BERT model"
   ]
  },
  {
   "cell_type": "markdown",
   "metadata": {},
   "source": [
    "Copyright: Vrije Universiteit Amsterdam, Faculty of Humanities, CLTL"
   ]
  },
  {
   "cell_type": "markdown",
   "metadata": {},
   "source": [
    "This notebook shows how you can use a BERT model that was fine-tuned for emotion detection using the GO dataset from Google.\n",
    "The GO dataset consists of 58k English Reddit comments, labeled for 27 emotion categories or Neutral:\n",
    "\n",
    "https://github.com/google-research/google-research/tree/master/goemotions\n",
    "\n",
    "REFERENCE:\n",
    "Demszky, Dorottya, Dana Movshovitz-Attias, Jeongwoo Ko, Alan Cowen, Gaurav Nemade, and Sujith Ravi. \"GoEmotions: A dataset of fine-grained emotions.\" arXiv preprint arXiv:2005.00547 (2020).\n"
   ]
  },
  {
   "cell_type": "markdown",
   "metadata": {},
   "source": [
    "The GO emotions are more nuanced than the six basic Ekman emotions derived from facial expressions. They are based on a diverse range of emotion data and not just facial expression:\n",
    "\n",
    "https://ai.googleblog.com/2021/10/goemotions-dataset-for-fine-grained.html\n",
    "\n",
    "\n",
    "```\n",
    "LABELS = [\n",
    "    'admiration',\n",
    "    'amusement',\n",
    "    'anger',\n",
    "    'annoyance',\n",
    "    'approval',\n",
    "    'caring',\n",
    "    'confusion',\n",
    "    'curiosity',\n",
    "    'desire',\n",
    "    'disappointment',\n",
    "    'disapproval',\n",
    "    'disgust',\n",
    "    'embarrassment',\n",
    "    'excitement',\n",
    "    'fear',\n",
    "    'gratitude',\n",
    "    'grief',\n",
    "    'joy',\n",
    "    'love',\n",
    "    'nervousness',\n",
    "    'optimism',\n",
    "    'pride',\n",
    "    'realization',\n",
    "    'relief',\n",
    "    'remorse',\n",
    "    'sadness',\n",
    "    'surprise',\n",
    "    'neutral',\n",
    "]```\n"
   ]
  },
  {
   "cell_type": "markdown",
   "metadata": {},
   "source": [
    "We will load a BERT language model that is finetuned for emotion detection using this *go_emotions* data set. The **pipeline** task for using this model is *sentiment-analysis*. The pipeline **sentiment-analysis** stands for **text classification** and it should be understood as the prototype for the type of classification that is carried out. In this case **text classification** assigns a label to the text as a whole and not to individual tokens. The **sentiment-analysis** pipeline can be used as an alias for using any model that is fine-tuned for text classification, regardless of the labels that have been used. The labels themselves do not carry any meaning for the model. We therefore can also use this task for topics and emotions as labels."
   ]
  },
  {
   "cell_type": "code",
   "execution_count": 1,
   "metadata": {
    "tags": []
   },
   "outputs": [
    {
     "name": "stderr",
     "output_type": "stream",
     "text": [
      "/opt/anaconda3/envs/hltenv/lib/python3.11/site-packages/requests/__init__.py:86: RequestsDependencyWarning: Unable to find acceptable character detection dependency (chardet or charset_normalizer).\n",
      "  warnings.warn(\n"
     ]
    }
   ],
   "source": [
    "from transformers import pipeline"
   ]
  },
  {
   "cell_type": "code",
   "execution_count": 2,
   "metadata": {
    "tags": []
   },
   "outputs": [
    {
     "name": "stderr",
     "output_type": "stream",
     "text": [
      "Device set to use cpu\n",
      "/opt/anaconda3/envs/hltenv/lib/python3.11/site-packages/transformers/pipelines/text_classification.py:106: UserWarning: `return_all_scores` is now deprecated,  if want a similar functionality use `top_k=None` instead of `return_all_scores=True` or `top_k=1` instead of `return_all_scores=False`.\n",
      "  warnings.warn(\n"
     ]
    }
   ],
   "source": [
    "model_name = \"bhadresh-savani/bert-base-go-emotion\" \n",
    "#### Depending on the version, use:\n",
    "emotion_pipeline = pipeline('sentiment-analysis', \n",
    "                    model=model_name, return_all_scores=True, device=-1)\n",
    "#### Or if you get an error for return_all_scores parameter, use:\n",
    "#emotion_pipeline = pipeline('sentiment-analysis', \n",
    "#                    model=model_name, top_k=None, device=-1)"
   ]
  },
  {
   "cell_type": "markdown",
   "metadata": {},
   "source": [
    "We set the **model** parameter to the name of the model as specified on Huggingface.\n",
    "\n",
    "The parameter **device** is optional. If you leave it out or set the value to \"-1\", you will use only your CPU. If your machine has GPUs, such as my Mac, you can set the value to the number of GPUs you want to use. If you can use the GPUs, loading and running will be a lot faster.\n",
    "\n",
    "The **top_k** parameter is also optional but can be used how many of the top ranked classes you want to return. We set it here to \"None\" so that get all the classes. In older versions of transformers this parameter was called **return_all_scores** which should be set to \"True\" to get all results."
   ]
  },
  {
   "cell_type": "markdown",
   "metadata": {},
   "source": [
    "We now created an instance *emotion_pipeline* of a transformer pipeline in analogy of an sentiment analysis classification task that we can apply to any utterance. The pipeline will use the tokenizer of the finetuned model and feed the sentence representation to the classifier as a sequence of contextualized token representations."
   ]
  },
  {
   "cell_type": "code",
   "execution_count": 3,
   "metadata": {
    "tags": []
   },
   "outputs": [],
   "source": [
    "emotion_labels = emotion_pipeline(\"Thanks for using it.\")"
   ]
  },
  {
   "cell_type": "code",
   "execution_count": 4,
   "metadata": {
    "tags": []
   },
   "outputs": [
    {
     "name": "stdout",
     "output_type": "stream",
     "text": [
      "{'label': 'admiration', 'score': 0.0007500767824240029}\n",
      "{'label': 'amusement', 'score': 0.00011047106818296015}\n",
      "{'label': 'anger', 'score': 9.69246102613397e-05}\n",
      "{'label': 'annoyance', 'score': 0.0002597436250653118}\n",
      "{'label': 'approval', 'score': 0.0011426012497395277}\n",
      "{'label': 'caring', 'score': 0.00030970710213296115}\n",
      "{'label': 'confusion', 'score': 0.00014959769032429904}\n",
      "{'label': 'curiosity', 'score': 0.00015838850231375545}\n",
      "{'label': 'desire', 'score': 0.0001385686337016523}\n",
      "{'label': 'disappointment', 'score': 0.00016352151578757912}\n",
      "{'label': 'disapproval', 'score': 0.0002003054687520489}\n",
      "{'label': 'disgust', 'score': 5.9684312873287126e-05}\n",
      "{'label': 'embarrassment', 'score': 5.588319982052781e-05}\n",
      "{'label': 'excitement', 'score': 0.00018467512563802302}\n",
      "{'label': 'fear', 'score': 5.239497113507241e-05}\n",
      "{'label': 'gratitude', 'score': 0.9934592247009277}\n",
      "{'label': 'grief', 'score': 2.022589251282625e-05}\n",
      "{'label': 'joy', 'score': 0.0003203645464964211}\n",
      "{'label': 'love', 'score': 0.00014530762564390898}\n",
      "{'label': 'nervousness', 'score': 3.97702278860379e-05}\n",
      "{'label': 'optimism', 'score': 0.00038285995833575726}\n",
      "{'label': 'pride', 'score': 8.253977284766734e-05}\n",
      "{'label': 'realization', 'score': 0.000444682635134086}\n",
      "{'label': 'relief', 'score': 0.00020675198175013065}\n",
      "{'label': 'remorse', 'score': 5.8207500842399895e-05}\n",
      "{'label': 'sadness', 'score': 9.699820657260716e-05}\n",
      "{'label': 'surprise', 'score': 0.00010775569535326213}\n",
      "{'label': 'neutral', 'score': 0.000802881782874465}\n"
     ]
    }
   ],
   "source": [
    "for result in emotion_labels[0]:\n",
    "    print(result)"
   ]
  },
  {
   "cell_type": "markdown",
   "metadata": {},
   "source": [
    "Although the GO emotions are a lot more nuanced than the Ekman emotions, it is possible to map the more specific emotions to Ekman's more basic ones and even to sentiments. The next mapping from the original Github of goemotions just do that:"
   ]
  },
  {
   "cell_type": "code",
   "execution_count": 5,
   "metadata": {
    "tags": []
   },
   "outputs": [],
   "source": [
    "### Mapping GO_Emotions to sentiment values\n",
    "sentiment_map={\n",
    "\"positive\": [\"amusement\", \"excitement\", \"joy\", \"love\", \"desire\", \"optimism\", \"caring\", \"pride\", \"admiration\", \"gratitude\", \"relief\", \"approval\"],\n",
    "\"negative\": [\"fear\", \"nervousness\", \"remorse\", \"embarrassment\", \"disappointment\", \"sadness\", \"grief\", \"disgust\", \"anger\", \"annoyance\", \"disapproval\"],\n",
    "\"ambiguous\": [\"realization\", \"surprise\", \"curiosity\", \"confusion\"]\n",
    "}\n",
    "\n",
    "### Mapping GO_Emotions to Ekman values\n",
    "ekman_map={\n",
    "\"anger\": [\"anger\", \"annoyance\", \"disapproval\"],\n",
    "\"disgust\": [\"disgust\"],\n",
    "\"fear\": [\"fear\", \"nervousness\"],\n",
    "\"joy\": [\"joy\", \"amusement\", \"approval\", \"excitement\", \"gratitude\",  \"love\", \"optimism\", \"relief\", \"pride\", \"admiration\", \"desire\", \"caring\"],\n",
    "\"sadness\": [\"sadness\", \"disappointment\", \"embarrassment\", \"grief\",  \"remorse\"],\n",
    "\"surprise\": [\"surprise\", \"realization\", \"confusion\", \"curiosity\"],\n",
    "\"neutral\": [\"neutral\"]\n",
    "}"
   ]
  },
  {
   "cell_type": "markdown",
   "metadata": {},
   "source": [
    "We can now make a few simple auxiliary functions that can translate GO emotions to Ekman or to sentiment values. The functions (1) sort the predictions by their score and (2) select the scores above a certain threshold. Only the ones above the threshold are mapped (3)."
   ]
  },
  {
   "cell_type": "code",
   "execution_count": 6,
   "metadata": {
    "tags": []
   },
   "outputs": [],
   "source": [
    "### Sort a list of results in JSON format by the value of the score element\n",
    "def sort_predictions(predictions):\n",
    "    return sorted(predictions, key=lambda x: x['score'], reverse=True)\n",
    "\n",
    "\n",
    "### Use a mapping to get a dictionary of the mapped GO_emotion scores above the thereshold\n",
    "def get_mapped_scores(emotion_map, go_emotion_scores, threshold):\n",
    "    mapped_scores = {}\n",
    "    for prediction in go_emotion_scores[0]:\n",
    "        if prediction['score']>=threshold:\n",
    "            go_emotion=prediction['label']\n",
    "            for key in emotion_map:\n",
    "                if go_emotion in emotion_map[key]:\n",
    "                    if not key in mapped_scores:\n",
    "                        mapped_scores[key]= [prediction['score']]\n",
    "                    else:\n",
    "                        mapped_scores[key].append(prediction['score'])\n",
    "    return mapped_scores\n",
    "\n",
    "### Get the averaged score for an emotion or sentiment from the GO_emotion scores above a threshold\n",
    "### mapped according to the emotion_map\n",
    "def get_averaged_mapped_scores_by_threshold(emotion_map, go_emotion_scores, threshold):\n",
    "    averaged_mapped_scores = []\n",
    "    mapped_scores = get_mapped_scores(emotion_map, go_emotion_scores, threshold)\n",
    "    for emotion in mapped_scores:\n",
    "        lst = mapped_scores[emotion]\n",
    "        averaged_score= sum(lst)/len(lst)\n",
    "        averaged_mapped_scores.append({'label':emotion, 'score':averaged_score})\n",
    "    return sort_predictions(averaged_mapped_scores)"
   ]
  },
  {
   "cell_type": "markdown",
   "metadata": {},
   "source": [
    "Using these function, we can print the averaged Ekman and the averaged sentiment score for any GO emotion classifition result:"
   ]
  },
  {
   "cell_type": "code",
   "execution_count": 7,
   "metadata": {
    "tags": []
   },
   "outputs": [
    {
     "name": "stdout",
     "output_type": "stream",
     "text": [
      "Threshold 0.05\n",
      "{'label': 'joy', 'score': 0.9934592247009277}\n",
      "\n",
      "Threshold 0.0001\n",
      "{'label': 'joy', 'score': 0.09065005534317937}\n",
      "{'label': 'neutral', 'score': 0.000802881782874465}\n",
      "{'label': 'anger', 'score': 0.00023002454690868035}\n",
      "{'label': 'surprise', 'score': 0.00021510613078135066}\n",
      "{'label': 'sadness', 'score': 0.00016352151578757912}\n"
     ]
    }
   ],
   "source": [
    "threshold = 0.05\n",
    "print('Threshold', threshold)\n",
    "ekman_labels = get_averaged_mapped_scores_by_threshold(ekman_map, emotion_labels, threshold)\n",
    "for ekman in ekman_labels:\n",
    "    print(ekman)\n",
    "\n",
    "print()\n",
    "threshold = 0.0001\n",
    "print('Threshold', threshold)\n",
    "ekman_labels = get_averaged_mapped_scores_by_threshold(ekman_map, emotion_labels, threshold)\n",
    "for ekman in ekman_labels:\n",
    "    print(ekman)"
   ]
  },
  {
   "cell_type": "code",
   "execution_count": 8,
   "metadata": {
    "tags": []
   },
   "outputs": [
    {
     "name": "stdout",
     "output_type": "stream",
     "text": [
      "Threshold 0.05\n",
      "{'label': 'positive', 'score': 0.9934592247009277}\n",
      "\n",
      "Threshold 0.0001\n",
      "{'label': 'positive', 'score': 0.09065005534317937}\n",
      "{'label': 'ambiguous', 'score': 0.00021510613078135066}\n",
      "{'label': 'negative', 'score': 0.00020785686986831328}\n"
     ]
    }
   ],
   "source": [
    "threshold = 0.05\n",
    "print('Threshold', threshold)\n",
    "sentiment_scores = get_averaged_mapped_scores_by_threshold(sentiment_map, emotion_labels, threshold)\n",
    "for sentiment in sentiment_scores:\n",
    "    print(sentiment)\n",
    "\n",
    "print()\n",
    "threshold = 0.0001\n",
    "print('Threshold', threshold)\n",
    "sentiment_scores = get_averaged_mapped_scores_by_threshold(sentiment_map, emotion_labels, threshold)\n",
    "for sentiment in sentiment_scores:\n",
    "    print(sentiment)"
   ]
  },
  {
   "cell_type": "markdown",
   "metadata": {
    "tags": []
   },
   "source": [
    "## Applying the GO Classifier to Llama conversations"
   ]
  },
  {
   "cell_type": "markdown",
   "metadata": {},
   "source": [
    "Remember that you has a conversation with Llama in the first week of the course. You saved this conversation to a JSON file on disk. Now is the time to load this JSON file again and to apply the GO emotion classifier to it.\n",
    "\n",
    "We will load the JSOn file into a Pandas dataframe because it is easier to view the results. Pandas has a specific **read_json** function for this."
   ]
  },
  {
   "cell_type": "code",
   "execution_count": 9,
   "metadata": {
    "tags": []
   },
   "outputs": [],
   "source": [
    "import pandas as pd"
   ]
  },
  {
   "cell_type": "code",
   "execution_count": 10,
   "metadata": {
    "tags": []
   },
   "outputs": [
    {
     "data": {
      "text/html": [
       "<div>\n",
       "<style scoped>\n",
       "    .dataframe tbody tr th:only-of-type {\n",
       "        vertical-align: middle;\n",
       "    }\n",
       "\n",
       "    .dataframe tbody tr th {\n",
       "        vertical-align: top;\n",
       "    }\n",
       "\n",
       "    .dataframe thead th {\n",
       "        text-align: right;\n",
       "    }\n",
       "</style>\n",
       "<table border=\"1\" class=\"dataframe\">\n",
       "  <thead>\n",
       "    <tr style=\"text-align: right;\">\n",
       "      <th></th>\n",
       "      <th>utterance</th>\n",
       "      <th>speaker</th>\n",
       "      <th>turn_id</th>\n",
       "      <th>Annotator</th>\n",
       "      <th>Gold</th>\n",
       "      <th>Votes</th>\n",
       "      <th>Annotators</th>\n",
       "      <th>Adjudication</th>\n",
       "    </tr>\n",
       "  </thead>\n",
       "  <tbody>\n",
       "    <tr>\n",
       "      <th>0</th>\n",
       "      <td>Hi there! Going going well!</td>\n",
       "      <td>Raul</td>\n",
       "      <td>4</td>\n",
       "      <td>Pawel</td>\n",
       "      <td>neutral</td>\n",
       "      <td>[neutral, joy, joy]</td>\n",
       "      <td>[Pawel, Leo Mylonadis, Matt]</td>\n",
       "      <td>joy</td>\n",
       "    </tr>\n",
       "    <tr>\n",
       "      <th>1</th>\n",
       "      <td>From hike? Do yo want to convince me you're a ...</td>\n",
       "      <td>Raul</td>\n",
       "      <td>6</td>\n",
       "      <td>Pawel</td>\n",
       "      <td>neutral</td>\n",
       "      <td>[neutral, neutral, surprise]</td>\n",
       "      <td>[Pawel, Leo Mylonadis, Matt]</td>\n",
       "      <td>neutral</td>\n",
       "    </tr>\n",
       "    <tr>\n",
       "      <th>2</th>\n",
       "      <td>I hope that your dried llama food isn't anythi...</td>\n",
       "      <td>Raul</td>\n",
       "      <td>8</td>\n",
       "      <td>Pawel</td>\n",
       "      <td>disgust</td>\n",
       "      <td>[disgust, disgust, neutral]</td>\n",
       "      <td>[Pawel, Leo Mylonadis, Matt]</td>\n",
       "      <td>disgust</td>\n",
       "    </tr>\n",
       "    <tr>\n",
       "      <th>3</th>\n",
       "      <td>Don't wink wink at me!</td>\n",
       "      <td>Raul</td>\n",
       "      <td>10</td>\n",
       "      <td>Pawel</td>\n",
       "      <td>anger</td>\n",
       "      <td>[anger, anger, anger]</td>\n",
       "      <td>[Pawel, Leo Mylonadis, Matt]</td>\n",
       "      <td>anger</td>\n",
       "    </tr>\n",
       "    <tr>\n",
       "      <th>4</th>\n",
       "      <td>I think all the LLM hype is quite suspicious!</td>\n",
       "      <td>Raul</td>\n",
       "      <td>12</td>\n",
       "      <td>Pawel</td>\n",
       "      <td>anger</td>\n",
       "      <td>[anger, fear, surprise]</td>\n",
       "      <td>[Pawel, Leo Mylonadis, Matt]</td>\n",
       "      <td>anger</td>\n",
       "    </tr>\n",
       "  </tbody>\n",
       "</table>\n",
       "</div>"
      ],
      "text/plain": [
       "                                           utterance speaker  turn_id  \\\n",
       "0                        Hi there! Going going well!    Raul        4   \n",
       "1  From hike? Do yo want to convince me you're a ...    Raul        6   \n",
       "2  I hope that your dried llama food isn't anythi...    Raul        8   \n",
       "3                             Don't wink wink at me!    Raul       10   \n",
       "4      I think all the LLM hype is quite suspicious!    Raul       12   \n",
       "\n",
       "  Annotator     Gold                         Votes  \\\n",
       "0     Pawel  neutral           [neutral, joy, joy]   \n",
       "1     Pawel  neutral  [neutral, neutral, surprise]   \n",
       "2     Pawel  disgust   [disgust, disgust, neutral]   \n",
       "3     Pawel    anger         [anger, anger, anger]   \n",
       "4     Pawel    anger       [anger, fear, surprise]   \n",
       "\n",
       "                     Annotators Adjudication  \n",
       "0  [Pawel, Leo Mylonadis, Matt]          joy  \n",
       "1  [Pawel, Leo Mylonadis, Matt]      neutral  \n",
       "2  [Pawel, Leo Mylonadis, Matt]      disgust  \n",
       "3  [Pawel, Leo Mylonadis, Matt]        anger  \n",
       "4  [Pawel, Leo Mylonadis, Matt]        anger  "
      ]
     },
     "execution_count": 10,
     "metadata": {},
     "output_type": "execute_result"
    }
   ],
   "source": [
    "annotation_file = \"/Users/piek/Desktop/t-MA-HLT-introduction-2025/ma-hlt-labs/lab1.chat/annotation/chats_2024/adjudicated_annotations.json\"\n",
    "df = pd.read_json(annotation_file)\n",
    "df.head()"
   ]
  },
  {
   "cell_type": "markdown",
   "metadata": {},
   "source": [
    "Now we can easily get the data from the columns."
   ]
  },
  {
   "cell_type": "code",
   "execution_count": 11,
   "metadata": {
    "tags": []
   },
   "outputs": [
    {
     "name": "stdout",
     "output_type": "stream",
     "text": [
      "523\n",
      "523\n"
     ]
    }
   ],
   "source": [
    "# THE CODE TO GET THE TEST TEXTS AND LABELS\n",
    "test_instances =df['utterance']\n",
    "test_labels = df['Adjudication']\n",
    "print(len(test_instances))\n",
    "print(len(test_labels))"
   ]
  },
  {
   "cell_type": "markdown",
   "metadata": {},
   "source": [
    "The next code takes each utterance from the **test_instances** and applies the GO-pipeline to get the predictions for the emotion_labels. These predictions are a list of lists, so we give the inner list to (1) sort the predictions and (2) take the highest scoring predictions and its score as the **go_emotion** result.\n",
    "\n",
    "The other two blocks of code in the for loop, take the same emotion label results but map these to Ekman values using the mapping and the threshold.\n",
    "\n",
    "All the results are collected in separate lists."
   ]
  },
  {
   "cell_type": "code",
   "execution_count": 12,
   "metadata": {
    "tags": []
   },
   "outputs": [
    {
     "name": "stdout",
     "output_type": "stream",
     "text": [
      "Processed utterances 20\n",
      "Processed utterances 40\n",
      "Processed utterances 60\n",
      "Processed utterances 80\n",
      "Processed utterances 100\n",
      "Processed utterances 120\n",
      "Processed utterances 140\n",
      "Processed utterances 160\n",
      "Processed utterances 180\n",
      "Processed utterances 200\n",
      "Processed utterances 220\n",
      "Processed utterances 240\n",
      "Processed utterances 260\n",
      "Processed utterances 280\n",
      "Processed utterances 300\n",
      "Processed utterances 320\n",
      "Processed utterances 340\n",
      "Processed utterances 360\n",
      "Processed utterances 380\n",
      "Processed utterances 400\n",
      "Processed utterances 420\n",
      "Processed utterances 440\n",
      "Processed utterances 460\n",
      "Processed utterances 480\n",
      "Processed utterances 500\n",
      "Processed utterances 520\n"
     ]
    }
   ],
   "source": [
    "threshold = 0.05\n",
    "\n",
    "go_ekman_emotions = []\n",
    "go_ekman_scores = []\n",
    "go_emotions = []\n",
    "go_scores = []\n",
    "\n",
    "counter = 0\n",
    "for utterance in test_instances:\n",
    "    counter += 1\n",
    "    if counter%20 == 0:\n",
    "        print('Processed utterances', counter)\n",
    "    emotion_labels = emotion_pipeline(utterance)\n",
    "    sorted_emotion_labels = sort_predictions(emotion_labels[0])\n",
    "    go_emotions.append(sorted_emotion_labels[0]['label'])\n",
    "    go_scores.append(sorted_emotion_labels[0]['score'])\n",
    "\n",
    "    ekman_labels = get_averaged_mapped_scores_by_threshold(ekman_map, emotion_labels, threshold)\n",
    "    if ekman_labels:\n",
    "        go_ekman_emotions.append(ekman_labels[0]['label'])\n",
    "        go_ekman_scores.append(ekman_labels[0]['score'])\n",
    "    else:\n",
    "        #### none of the labels scored above the threshold\n",
    "        go_ekman_emotions.append('None')\n",
    "        go_ekman_scores.append(0)\n"
   ]
  },
  {
   "cell_type": "markdown",
   "metadata": {},
   "source": [
    "We can now add the output to the pandas frame as separate columns, assuming that the values correspond to the rows."
   ]
  },
  {
   "cell_type": "code",
   "execution_count": 13,
   "metadata": {
    "tags": []
   },
   "outputs": [
    {
     "data": {
      "text/html": [
       "<div>\n",
       "<style scoped>\n",
       "    .dataframe tbody tr th:only-of-type {\n",
       "        vertical-align: middle;\n",
       "    }\n",
       "\n",
       "    .dataframe tbody tr th {\n",
       "        vertical-align: top;\n",
       "    }\n",
       "\n",
       "    .dataframe thead th {\n",
       "        text-align: right;\n",
       "    }\n",
       "</style>\n",
       "<table border=\"1\" class=\"dataframe\">\n",
       "  <thead>\n",
       "    <tr style=\"text-align: right;\">\n",
       "      <th></th>\n",
       "      <th>utterance</th>\n",
       "      <th>speaker</th>\n",
       "      <th>turn_id</th>\n",
       "      <th>Annotator</th>\n",
       "      <th>Gold</th>\n",
       "      <th>Votes</th>\n",
       "      <th>Annotators</th>\n",
       "      <th>Adjudication</th>\n",
       "      <th>Go_Ekman</th>\n",
       "      <th>Go_EkmanScore</th>\n",
       "      <th>Go</th>\n",
       "      <th>GoScore</th>\n",
       "    </tr>\n",
       "  </thead>\n",
       "  <tbody>\n",
       "    <tr>\n",
       "      <th>0</th>\n",
       "      <td>Hi there! Going going well!</td>\n",
       "      <td>Raul</td>\n",
       "      <td>4</td>\n",
       "      <td>Pawel</td>\n",
       "      <td>neutral</td>\n",
       "      <td>[neutral, joy, joy]</td>\n",
       "      <td>[Pawel, Leo Mylonadis, Matt]</td>\n",
       "      <td>joy</td>\n",
       "      <td>neutral</td>\n",
       "      <td>0.343307</td>\n",
       "      <td>neutral</td>\n",
       "      <td>0.343307</td>\n",
       "    </tr>\n",
       "    <tr>\n",
       "      <th>1</th>\n",
       "      <td>From hike? Do yo want to convince me you're a ...</td>\n",
       "      <td>Raul</td>\n",
       "      <td>6</td>\n",
       "      <td>Pawel</td>\n",
       "      <td>neutral</td>\n",
       "      <td>[neutral, neutral, surprise]</td>\n",
       "      <td>[Pawel, Leo Mylonadis, Matt]</td>\n",
       "      <td>neutral</td>\n",
       "      <td>neutral</td>\n",
       "      <td>0.326313</td>\n",
       "      <td>curiosity</td>\n",
       "      <td>0.426074</td>\n",
       "    </tr>\n",
       "    <tr>\n",
       "      <th>2</th>\n",
       "      <td>I hope that your dried llama food isn't anythi...</td>\n",
       "      <td>Raul</td>\n",
       "      <td>8</td>\n",
       "      <td>Pawel</td>\n",
       "      <td>disgust</td>\n",
       "      <td>[disgust, disgust, neutral]</td>\n",
       "      <td>[Pawel, Leo Mylonadis, Matt]</td>\n",
       "      <td>disgust</td>\n",
       "      <td>joy</td>\n",
       "      <td>0.789635</td>\n",
       "      <td>optimism</td>\n",
       "      <td>0.789635</td>\n",
       "    </tr>\n",
       "    <tr>\n",
       "      <th>3</th>\n",
       "      <td>Don't wink wink at me!</td>\n",
       "      <td>Raul</td>\n",
       "      <td>10</td>\n",
       "      <td>Pawel</td>\n",
       "      <td>anger</td>\n",
       "      <td>[anger, anger, anger]</td>\n",
       "      <td>[Pawel, Leo Mylonadis, Matt]</td>\n",
       "      <td>anger</td>\n",
       "      <td>neutral</td>\n",
       "      <td>0.264323</td>\n",
       "      <td>neutral</td>\n",
       "      <td>0.264323</td>\n",
       "    </tr>\n",
       "    <tr>\n",
       "      <th>4</th>\n",
       "      <td>I think all the LLM hype is quite suspicious!</td>\n",
       "      <td>Raul</td>\n",
       "      <td>12</td>\n",
       "      <td>Pawel</td>\n",
       "      <td>anger</td>\n",
       "      <td>[anger, fear, surprise]</td>\n",
       "      <td>[Pawel, Leo Mylonadis, Matt]</td>\n",
       "      <td>anger</td>\n",
       "      <td>neutral</td>\n",
       "      <td>0.398782</td>\n",
       "      <td>neutral</td>\n",
       "      <td>0.398782</td>\n",
       "    </tr>\n",
       "  </tbody>\n",
       "</table>\n",
       "</div>"
      ],
      "text/plain": [
       "                                           utterance speaker  turn_id  \\\n",
       "0                        Hi there! Going going well!    Raul        4   \n",
       "1  From hike? Do yo want to convince me you're a ...    Raul        6   \n",
       "2  I hope that your dried llama food isn't anythi...    Raul        8   \n",
       "3                             Don't wink wink at me!    Raul       10   \n",
       "4      I think all the LLM hype is quite suspicious!    Raul       12   \n",
       "\n",
       "  Annotator     Gold                         Votes  \\\n",
       "0     Pawel  neutral           [neutral, joy, joy]   \n",
       "1     Pawel  neutral  [neutral, neutral, surprise]   \n",
       "2     Pawel  disgust   [disgust, disgust, neutral]   \n",
       "3     Pawel    anger         [anger, anger, anger]   \n",
       "4     Pawel    anger       [anger, fear, surprise]   \n",
       "\n",
       "                     Annotators Adjudication Go_Ekman  Go_EkmanScore  \\\n",
       "0  [Pawel, Leo Mylonadis, Matt]          joy  neutral       0.343307   \n",
       "1  [Pawel, Leo Mylonadis, Matt]      neutral  neutral       0.326313   \n",
       "2  [Pawel, Leo Mylonadis, Matt]      disgust      joy       0.789635   \n",
       "3  [Pawel, Leo Mylonadis, Matt]        anger  neutral       0.264323   \n",
       "4  [Pawel, Leo Mylonadis, Matt]        anger  neutral       0.398782   \n",
       "\n",
       "          Go   GoScore  \n",
       "0    neutral  0.343307  \n",
       "1  curiosity  0.426074  \n",
       "2   optimism  0.789635  \n",
       "3    neutral  0.264323  \n",
       "4    neutral  0.398782  "
      ]
     },
     "execution_count": 13,
     "metadata": {},
     "output_type": "execute_result"
    }
   ],
   "source": [
    "df['Go_Ekman']=go_ekman_emotions\n",
    "df['Go_EkmanScore']=go_ekman_scores\n",
    "df['Go']=go_emotions\n",
    "df['GoScore']=go_scores\n",
    "df.head()"
   ]
  },
  {
   "cell_type": "markdown",
   "metadata": {},
   "source": [
    "It is easy to get a list of gold labels and a list of predictions from this table and to use **sklearn** to evaluate."
   ]
  },
  {
   "cell_type": "code",
   "execution_count": 14,
   "metadata": {
    "tags": []
   },
   "outputs": [
    {
     "name": "stdout",
     "output_type": "stream",
     "text": [
      "('joy', 'neutral')\n",
      "('neutral', 'neutral')\n",
      "('disgust', 'joy')\n",
      "('anger', 'neutral')\n",
      "('anger', 'neutral')\n",
      "('neutral', 'neutral')\n",
      "('anger', 'neutral')\n",
      "('sadness', 'neutral')\n",
      "('sadness', 'neutral')\n",
      "('neutral', 'neutral')\n",
      "('anger', 'neutral')\n",
      "('neutral', 'neutral')\n",
      "('anger', 'neutral')\n",
      "('neutral', 'neutral')\n",
      "('neutral', 'neutral')\n",
      "('anger', 'anger')\n",
      "('neutral', 'disgust')\n",
      "('disgust', 'neutral')\n",
      "('neutral', 'neutral')\n",
      "('neutral', 'neutral')\n",
      "('sadness', 'surprise')\n",
      "('sadness', 'anger')\n",
      "('anger', 'anger')\n",
      "('anger', 'neutral')\n",
      "('sadness', 'neutral')\n",
      "('anger', 'neutral')\n",
      "('neutral', 'neutral')\n",
      "('neutral', 'surprise')\n",
      "('neutral', 'surprise')\n",
      "('anger', 'joy')\n",
      "('anger', 'anger')\n",
      "('neutral', 'neutral')\n",
      "('neutral', 'joy')\n",
      "('neutral', 'neutral')\n",
      "('neutral', 'joy')\n",
      "('anger', 'anger')\n",
      "('neutral', 'neutral')\n",
      "('neutral', 'joy')\n",
      "('neutral', 'neutral')\n",
      "('neutral', 'neutral')\n",
      "('neutral', 'neutral')\n",
      "('disgust', 'neutral')\n",
      "('neutral', 'neutral')\n",
      "('neutral', 'joy')\n",
      "('neutral', 'neutral')\n",
      "('neutral', 'neutral')\n",
      "('joy', 'joy')\n",
      "('neutral', 'neutral')\n",
      "('neutral', 'anger')\n",
      "('anger', 'neutral')\n",
      "('anger', 'joy')\n",
      "('neutral', 'joy')\n",
      "('neutral', 'surprise')\n",
      "('neutral', 'neutral')\n",
      "('joy', 'joy')\n",
      "('neutral', 'neutral')\n",
      "('neutral', 'neutral')\n",
      "('neutral', 'neutral')\n",
      "('sadness', 'sadness')\n",
      "('anger', 'anger')\n",
      "('sadness', 'sadness')\n",
      "('sadness', 'joy')\n",
      "('fear', 'fear')\n",
      "('joy', 'neutral')\n",
      "('neutral', 'neutral')\n",
      "('anger', 'sadness')\n",
      "('sadness', 'sadness')\n",
      "('anger', 'anger')\n",
      "('joy', 'joy')\n",
      "('anger', 'joy')\n",
      "('sadness', 'sadness')\n",
      "('disgust', 'joy')\n",
      "('sadness', 'joy')\n",
      "('neutral', 'joy')\n",
      "('joy', 'joy')\n",
      "('joy', 'joy')\n",
      "('joy', 'joy')\n",
      "('neutral', 'neutral')\n",
      "('neutral', 'neutral')\n",
      "('anger', 'neutral')\n",
      "('neutral', 'neutral')\n",
      "('sadness', 'neutral')\n",
      "('joy', 'joy')\n",
      "('anger', 'anger')\n",
      "('neutral', 'neutral')\n",
      "('fear', 'anger')\n",
      "('anger', 'surprise')\n",
      "('neutral', 'surprise')\n",
      "('neutral', 'neutral')\n",
      "('neutral', 'neutral')\n",
      "('anger', 'neutral')\n",
      "('neutral', 'neutral')\n",
      "('disgust', 'neutral')\n",
      "('joy', 'neutral')\n",
      "('joy', 'neutral')\n",
      "('anger', 'neutral')\n",
      "('anger', 'fear')\n",
      "('neutral', 'neutral')\n",
      "('fear', 'neutral')\n",
      "('neutral', 'neutral')\n",
      "('joy', 'joy')\n",
      "('disgust', 'anger')\n",
      "('sadness', 'sadness')\n",
      "('joy', 'joy')\n",
      "('neutral', 'surprise')\n",
      "('neutral', 'neutral')\n",
      "('anger', 'anger')\n",
      "('neutral', 'surprise')\n",
      "('anger', 'disgust')\n",
      "('neutral', 'neutral')\n",
      "('sadness', 'anger')\n",
      "('neutral', 'joy')\n",
      "('anger', 'anger')\n",
      "('neutral', 'joy')\n",
      "('sadness', 'surprise')\n",
      "('anger', 'anger')\n",
      "('sadness', 'joy')\n",
      "('joy', 'surprise')\n",
      "('anger', 'anger')\n",
      "('neutral', 'surprise')\n",
      "('neutral', 'joy')\n",
      "('surprise', 'surprise')\n",
      "('neutral', 'neutral')\n",
      "('neutral', 'neutral')\n",
      "('neutral', 'joy')\n",
      "('anger', 'anger')\n",
      "('sadness', 'sadness')\n",
      "('surprise', 'neutral')\n",
      "('sadness', 'surprise')\n",
      "('joy', 'joy')\n",
      "('neutral', 'joy')\n",
      "('disgust', 'disgust')\n",
      "('anger', 'neutral')\n",
      "('joy', 'joy')\n",
      "('sadness', 'sadness')\n",
      "('anger', 'joy')\n",
      "('joy', 'joy')\n",
      "('fear', 'fear')\n",
      "('sadness', 'sadness')\n",
      "('joy', 'joy')\n",
      "('fear', 'fear')\n",
      "('surprise', 'surprise')\n",
      "('joy', 'joy')\n",
      "('sadness', 'sadness')\n",
      "('neutral', 'joy')\n",
      "('fear', 'fear')\n",
      "('anger', 'joy')\n",
      "('anger', 'joy')\n",
      "('anger', 'anger')\n",
      "('neutral', 'joy')\n",
      "('neutral', 'neutral')\n",
      "('anger', 'anger')\n",
      "('surprise', 'surprise')\n",
      "('fear', 'neutral')\n",
      "('surprise', 'surprise')\n",
      "('joy', 'joy')\n",
      "('neutral', 'neutral')\n",
      "('disgust', 'anger')\n",
      "('joy', 'neutral')\n",
      "('sadness', 'neutral')\n",
      "('sadness', 'joy')\n",
      "('fear', 'fear')\n",
      "('surprise', 'joy')\n",
      "('disgust', 'anger')\n",
      "('joy', 'joy')\n",
      "('neutral', 'anger')\n",
      "('joy', 'joy')\n",
      "('joy', 'joy')\n",
      "('surprise', 'surprise')\n",
      "('neutral', 'neutral')\n",
      "('joy', 'joy')\n",
      "('surprise', 'joy')\n",
      "('disgust', 'neutral')\n",
      "('joy', 'joy')\n",
      "('neutral', 'joy')\n",
      "('joy', 'joy')\n",
      "('fear', 'fear')\n",
      "('anger', 'anger')\n",
      "('fear', 'fear')\n",
      "('disgust', 'anger')\n",
      "('neutral', 'neutral')\n",
      "('fear', 'fear')\n",
      "('anger', 'anger')\n",
      "('anger', 'surprise')\n",
      "('sadness', 'anger')\n",
      "('anger', 'anger')\n",
      "('fear', 'fear')\n",
      "('anger', 'anger')\n",
      "('joy', 'sadness')\n",
      "('fear', 'joy')\n",
      "('fear', 'fear')\n",
      "('surprise', 'surprise')\n",
      "('sadness', 'sadness')\n",
      "('joy', 'joy')\n",
      "('neutral', 'neutral')\n",
      "('sadness', 'sadness')\n",
      "('sadness', 'fear')\n",
      "('anger', 'anger')\n",
      "('surprise', 'surprise')\n",
      "('joy', 'joy')\n",
      "('neutral', 'neutral')\n",
      "('fear', 'joy')\n",
      "('fear', 'surprise')\n",
      "('fear', 'fear')\n",
      "('disgust', 'disgust')\n",
      "('anger', 'anger')\n",
      "('neutral', 'anger')\n",
      "('neutral', 'neutral')\n",
      "('neutral', 'neutral')\n",
      "('neutral', 'anger')\n",
      "('fear', 'fear')\n",
      "('disgust', 'neutral')\n",
      "('disgust', 'joy')\n",
      "('neutral', 'surprise')\n",
      "('joy', 'joy')\n",
      "('neutral', 'surprise')\n",
      "('neutral', 'neutral')\n",
      "('joy', 'joy')\n",
      "('joy', 'joy')\n",
      "('neutral', 'neutral')\n",
      "('neutral', 'neutral')\n",
      "('neutral', 'anger')\n",
      "('fear', 'fear')\n",
      "('neutral', 'surprise')\n",
      "('neutral', 'anger')\n",
      "('neutral', 'joy')\n",
      "('neutral', 'neutral')\n",
      "('neutral', 'neutral')\n",
      "('neutral', 'neutral')\n",
      "('neutral', 'neutral')\n",
      "('neutral', 'neutral')\n",
      "('neutral', 'neutral')\n",
      "('neutral', 'joy')\n",
      "('neutral', 'joy')\n",
      "('neutral', 'joy')\n",
      "('neutral', 'surprise')\n",
      "('neutral', 'neutral')\n",
      "('neutral', 'surprise')\n",
      "('neutral', 'neutral')\n",
      "('anger', 'joy')\n",
      "('anger', 'joy')\n",
      "('anger', 'sadness')\n",
      "('neutral', 'neutral')\n",
      "('neutral', 'neutral')\n",
      "('neutral', 'neutral')\n",
      "('anger', 'joy')\n",
      "('neutral', 'neutral')\n",
      "('anger', 'sadness')\n",
      "('neutral', 'joy')\n",
      "('anger', 'neutral')\n",
      "('neutral', 'neutral')\n",
      "('sadness', 'neutral')\n",
      "('anger', 'neutral')\n",
      "('neutral', 'neutral')\n",
      "('sadness', 'neutral')\n",
      "('fear', 'fear')\n",
      "('sadness', 'joy')\n",
      "('fear', 'fear')\n",
      "('fear', 'surprise')\n",
      "('fear', 'fear')\n",
      "('neutral', 'surprise')\n",
      "('fear', 'surprise')\n",
      "('neutral', 'joy')\n",
      "('neutral', 'sadness')\n",
      "('fear', 'joy')\n",
      "('fear', 'joy')\n",
      "('neutral', 'joy')\n",
      "('joy', 'neutral')\n",
      "('neutral', 'joy')\n",
      "('fear', 'joy')\n",
      "('neutral', 'joy')\n",
      "('neutral', 'neutral')\n",
      "('fear', 'neutral')\n",
      "('joy', 'joy')\n",
      "('joy', 'joy')\n",
      "('fear', 'fear')\n",
      "('fear', 'neutral')\n",
      "('neutral', 'neutral')\n",
      "('fear', 'fear')\n",
      "('neutral', 'surprise')\n",
      "('neutral', 'neutral')\n",
      "('neutral', 'neutral')\n",
      "('neutral', 'joy')\n",
      "('joy', 'joy')\n",
      "('fear', 'joy')\n",
      "('anger', 'joy')\n",
      "('neutral', 'neutral')\n",
      "('neutral', 'fear')\n",
      "('sadness', 'neutral')\n",
      "('neutral', 'joy')\n",
      "('neutral', 'neutral')\n",
      "('neutral', 'neutral')\n",
      "('joy', 'joy')\n",
      "('neutral', 'neutral')\n",
      "('neutral', 'neutral')\n",
      "('sadness', 'anger')\n",
      "('joy', 'joy')\n",
      "('neutral', 'joy')\n",
      "('joy', 'joy')\n",
      "('surprise', 'surprise')\n",
      "('anger', 'anger')\n",
      "('anger', 'anger')\n",
      "('neutral', 'joy')\n",
      "('joy', 'joy')\n",
      "('neutral', 'neutral')\n",
      "('neutral', 'neutral')\n",
      "('neutral', 'joy')\n",
      "('joy', 'joy')\n",
      "('joy', 'joy')\n",
      "('joy', 'surprise')\n",
      "('neutral', 'neutral')\n",
      "('anger', 'anger')\n",
      "('neutral', 'surprise')\n",
      "('anger', 'anger')\n",
      "('neutral', 'neutral')\n",
      "('neutral', 'neutral')\n",
      "('fear', 'fear')\n",
      "('fear', 'anger')\n",
      "('fear', 'surprise')\n",
      "('neutral', 'surprise')\n",
      "('anger', 'neutral')\n",
      "('neutral', 'surprise')\n",
      "('anger', 'neutral')\n",
      "('joy', 'joy')\n",
      "('fear', 'neutral')\n",
      "('sadness', 'surprise')\n",
      "('anger', 'neutral')\n",
      "('sadness', 'joy')\n",
      "('joy', 'joy')\n",
      "('joy', 'joy')\n",
      "('neutral', 'neutral')\n",
      "('surprise', 'fear')\n",
      "('neutral', 'neutral')\n",
      "('surprise', 'neutral')\n",
      "('joy', 'surprise')\n",
      "('surprise', 'neutral')\n",
      "('neutral', 'neutral')\n",
      "('neutral', 'neutral')\n",
      "('fear', 'surprise')\n",
      "('fear', 'joy')\n",
      "('neutral', 'neutral')\n",
      "('anger', 'neutral')\n",
      "('neutral', 'neutral')\n",
      "('surprise', 'neutral')\n",
      "('surprise', 'surprise')\n",
      "('surprise', 'neutral')\n",
      "('neutral', 'neutral')\n",
      "('sadness', 'sadness')\n",
      "('neutral', 'neutral')\n",
      "('neutral', 'neutral')\n",
      "('anger', 'neutral')\n",
      "('fear', 'sadness')\n",
      "('anger', 'neutral')\n",
      "('sadness', 'neutral')\n",
      "('sadness', 'joy')\n",
      "('anger', 'neutral')\n",
      "('anger', 'surprise')\n",
      "('joy', 'joy')\n",
      "('anger', 'anger')\n",
      "('anger', 'surprise')\n",
      "('anger', 'joy')\n",
      "('anger', 'surprise')\n",
      "('neutral', 'joy')\n",
      "('anger', 'joy')\n",
      "('sadness', 'sadness')\n",
      "('sadness', 'neutral')\n",
      "('anger', 'anger')\n",
      "('sadness', 'joy')\n",
      "('sadness', 'neutral')\n",
      "('neutral', 'neutral')\n",
      "('anger', 'neutral')\n",
      "('joy', 'joy')\n",
      "('joy', 'neutral')\n",
      "('anger', 'anger')\n",
      "('fear', 'joy')\n",
      "('anger', 'neutral')\n",
      "('anger', 'neutral')\n",
      "('anger', 'neutral')\n",
      "('disgust', 'joy')\n",
      "('neutral', 'neutral')\n",
      "('fear', 'neutral')\n",
      "('neutral', 'surprise')\n",
      "('fear', 'surprise')\n",
      "('fear', 'surprise')\n",
      "('neutral', 'neutral')\n",
      "('joy', 'surprise')\n",
      "('neutral', 'neutral')\n",
      "('joy', 'neutral')\n",
      "('disgust', 'fear')\n",
      "('anger', 'anger')\n",
      "('anger', 'joy')\n",
      "('sadness', 'sadness')\n",
      "('neutral', 'neutral')\n",
      "('neutral', 'surprise')\n",
      "('neutral', 'neutral')\n",
      "('surprise', 'surprise')\n",
      "('joy', 'joy')\n",
      "('neutral', 'joy')\n",
      "('neutral', 'neutral')\n",
      "('anger', 'sadness')\n",
      "('anger', 'anger')\n",
      "('neutral', 'neutral')\n",
      "('fear', 'fear')\n",
      "('fear', 'fear')\n",
      "('neutral', 'joy')\n",
      "('surprise', 'surprise')\n",
      "('neutral', 'neutral')\n",
      "('surprise', 'neutral')\n",
      "('joy', 'joy')\n",
      "('joy', 'neutral')\n",
      "('disgust', 'neutral')\n",
      "('disgust', 'disgust')\n",
      "('joy', 'joy')\n",
      "('joy', 'joy')\n",
      "('sadness', 'neutral')\n",
      "('sadness', 'sadness')\n",
      "('neutral', 'joy')\n",
      "('neutral', 'joy')\n",
      "('neutral', 'joy')\n",
      "('neutral', 'joy')\n",
      "('neutral', 'surprise')\n",
      "('neutral', 'neutral')\n",
      "('anger', 'surprise')\n",
      "('sadness', 'sadness')\n",
      "('neutral', 'joy')\n",
      "('sadness', 'joy')\n",
      "('fear', 'surprise')\n",
      "('joy', 'neutral')\n",
      "('joy', 'joy')\n",
      "('fear', 'joy')\n",
      "('fear', 'fear')\n",
      "('neutral', 'joy')\n",
      "('neutral', 'surprise')\n",
      "('neutral', 'surprise')\n",
      "('sadness', 'sadness')\n",
      "('neutral', 'surprise')\n",
      "('neutral', 'surprise')\n",
      "('neutral', 'neutral')\n",
      "('disgust', 'joy')\n",
      "('neutral', 'joy')\n",
      "('anger', 'neutral')\n",
      "('sadness', 'sadness')\n",
      "('disgust', 'joy')\n",
      "('surprise', 'joy')\n",
      "('neutral', 'neutral')\n",
      "('joy', 'neutral')\n",
      "('sadness', 'joy')\n",
      "('anger', 'surprise')\n",
      "('neutral', 'joy')\n",
      "('joy', 'joy')\n",
      "('disgust', 'anger')\n",
      "('sadness', 'sadness')\n",
      "('surprise', 'surprise')\n",
      "('joy', 'joy')\n",
      "('fear', 'joy')\n",
      "('anger', 'neutral')\n",
      "('joy', 'joy')\n",
      "('neutral', 'neutral')\n",
      "('neutral', 'joy')\n",
      "('anger', 'joy')\n",
      "('anger', 'anger')\n",
      "('anger', 'neutral')\n",
      "('neutral', 'joy')\n",
      "('neutral', 'neutral')\n",
      "('fear', 'fear')\n",
      "('neutral', 'neutral')\n",
      "('sadness', 'sadness')\n",
      "('neutral', 'neutral')\n",
      "('neutral', 'neutral')\n",
      "('surprise', 'surprise')\n",
      "('surprise', 'surprise')\n",
      "('joy', 'joy')\n",
      "('anger', 'anger')\n",
      "('sadness', 'sadness')\n",
      "('neutral', 'joy')\n",
      "('surprise', 'neutral')\n",
      "('neutral', 'joy')\n",
      "('sadness', 'sadness')\n",
      "('joy', 'joy')\n",
      "('anger', 'anger')\n",
      "('anger', 'anger')\n",
      "('anger', 'neutral')\n",
      "('anger', 'neutral')\n",
      "('sadness', 'sadness')\n",
      "('neutral', 'neutral')\n",
      "('fear', 'joy')\n",
      "('joy', 'neutral')\n",
      "('neutral', 'neutral')\n",
      "('neutral', 'surprise')\n",
      "('joy', 'joy')\n",
      "('joy', 'joy')\n",
      "('neutral', 'neutral')\n",
      "('sadness', 'sadness')\n",
      "('anger', 'joy')\n",
      "('anger', 'neutral')\n",
      "('sadness', 'sadness')\n",
      "('joy', 'joy')\n",
      "('neutral', 'neutral')\n",
      "('joy', 'joy')\n",
      "('joy', 'joy')\n",
      "('joy', 'joy')\n",
      "('neutral', 'joy')\n",
      "('joy', 'joy')\n",
      "('surprise', 'surprise')\n",
      "('surprise', 'surprise')\n",
      "('fear', 'fear')\n",
      "('joy', 'neutral')\n",
      "('neutral', 'neutral')\n",
      "('joy', 'joy')\n",
      "('joy', 'joy')\n",
      "('anger', 'joy')\n",
      "('neutral', 'joy')\n",
      "('anger', 'surprise')\n",
      "('surprise', 'neutral')\n",
      "('sadness', 'neutral')\n",
      "('neutral', 'joy')\n",
      "('surprise', 'joy')\n",
      "('fear', 'fear')\n",
      "('joy', 'joy')\n",
      "('joy', 'joy')\n",
      "('disgust', 'neutral')\n",
      "('neutral', 'joy')\n",
      "('neutral', 'neutral')\n"
     ]
    }
   ],
   "source": [
    "predictions = df['Go_Ekman']\n",
    "for pair in zip(test_labels,predictions):\n",
    "    print(pair)"
   ]
  },
  {
   "cell_type": "code",
   "execution_count": 15,
   "metadata": {
    "tags": []
   },
   "outputs": [
    {
     "data": {
      "text/plain": [
       "<Axes: ylabel='count'>"
      ]
     },
     "execution_count": 15,
     "metadata": {},
     "output_type": "execute_result"
    },
    {
     "data": {
      "image/png": "[encoded data removed]",
      "text/plain": [
       "<Figure size 640x480 with 1 Axes>"
      ]
     },
     "metadata": {},
     "output_type": "display_data"
    }
   ],
   "source": [
    "gold = df.Gold.value_counts()\n",
    "gold.plot(kind='pie', autopct='%1.0f%%')"
   ]
  },
  {
   "cell_type": "markdown",
   "metadata": {},
   "source": [
    "To make sure we use the corect labels in the evaluation reports, we take all the labels from the Gold column and all the predictions and make it a unique set in alphabetic order. "
   ]
  },
  {
   "cell_type": "code",
   "execution_count": 16,
   "metadata": {
    "tags": []
   },
   "outputs": [
    {
     "name": "stdout",
     "output_type": "stream",
     "text": [
      "['anger', 'disgust', 'fear', 'joy', 'neutral', 'sadness', 'surprise']\n"
     ]
    }
   ],
   "source": [
    "labels = list(test_labels)+list(predictions)\n",
    "label_set = sorted(set(labels))\n",
    "print(label_set)"
   ]
  },
  {
   "cell_type": "markdown",
   "metadata": {},
   "source": [
    "We can now use this label_set for both the classification report and the confusion matrix."
   ]
  },
  {
   "cell_type": "code",
   "execution_count": 17,
   "metadata": {
    "tags": []
   },
   "outputs": [
    {
     "name": "stdout",
     "output_type": "stream",
     "text": [
      "GO EKMAN mapping ----------------------------------------------------------------\n",
      "Mapping threshold 0.05\n",
      "              precision    recall  f1-score   support\n",
      "\n",
      "       anger  0.6600000 0.3510638 0.4583333        94\n",
      "     disgust  0.6000000 0.1363636 0.2222222        22\n",
      "        fear  0.8333333 0.4716981 0.6024096        53\n",
      "         joy  0.3935484 0.7721519 0.5213675        79\n",
      "     neutral  0.5806452 0.5714286 0.5760000       189\n",
      "     sadness  0.7812500 0.4385965 0.5617978        57\n",
      "    surprise  0.2461538 0.5517241 0.3404255        29\n",
      "\n",
      "    accuracy                      0.5181644       523\n",
      "   macro avg  0.5849901 0.4704324 0.4689366       523\n",
      "weighted avg  0.5963836 0.5181644 0.5197835       523\n",
      "\n"
     ]
    }
   ],
   "source": [
    "from sklearn.metrics import classification_report\n",
    "from sklearn.metrics import confusion_matrix\n",
    "from sklearn.metrics import ConfusionMatrixDisplay\n",
    "\n",
    "predictions = df['Go_Ekman']\n",
    "report = classification_report(test_labels,predictions ,digits = 7, target_names=label_set)\n",
    "print('GO EKMAN mapping ----------------------------------------------------------------')\n",
    "print('Mapping threshold', threshold)\n",
    "\n",
    "print(report)"
   ]
  },
  {
   "cell_type": "code",
   "execution_count": 18,
   "metadata": {
    "tags": []
   },
   "outputs": [
    {
     "name": "stdout",
     "output_type": "stream",
     "text": [
      "Confusion matrix SVM\n",
      "[[ 33   1   1  16  31   4   8]\n",
      " [  5   3   1   6   7   0   0]\n",
      " [  2   0  25  11   6   1   8]\n",
      " [  0   0   0  61  13   1   4]\n",
      " [  6   1   1  47 108   1  25]\n",
      " [  4   0   1  10  13  25   4]\n",
      " [  0   0   1   4   8   0  16]]\n"
     ]
    },
    {
     "data": {
      "text/plain": [
       "<sklearn.metrics._plot.confusion_matrix.ConfusionMatrixDisplay at 0x174033ed0>"
      ]
     },
     "execution_count": 18,
     "metadata": {},
     "output_type": "execute_result"
    },
    {
     "data": {
      "image/png": "[encoded data removed]",
      "text/plain": [
       "<Figure size 640x480 with 2 Axes>"
      ]
     },
     "metadata": {},
     "output_type": "display_data"
    }
   ],
   "source": [
    "print('Confusion matrix SVM')\n",
    "cf_matrix = confusion_matrix(test_labels,predictions)\n",
    "print(cf_matrix)\n",
    "display = ConfusionMatrixDisplay(confusion_matrix=cf_matrix, display_labels=label_set)\n",
    "display.plot()"
   ]
  },
  {
   "cell_type": "markdown",
   "metadata": {},
   "source": [
    "We can see here that the most problematic class is **neutral** which has some false negatives falsely outputting joy and surprise and substantial amount false positives for utterances labeled as anger."
   ]
  },
  {
   "cell_type": "markdown",
   "metadata": {},
   "source": [
    "# End of this notebook"
   ]
  },
  {
   "cell_type": "code",
   "execution_count": null,
   "metadata": {},
   "outputs": [],
   "source": []
  }
 ],
 "metadata": {
  "kernelspec": {
   "display_name": "hltenv",
   "language": "python",
   "name": "hltenv"
  },
  "language_info": {
   "codemirror_mode": {
    "name": "ipython",
    "version": 3
   },
   "file_extension": ".py",
   "mimetype": "text/x-python",
   "name": "python",
   "nbconvert_exporter": "python",
   "pygments_lexer": "ipython3",
   "version": "3.11.13"
  }
 },
 "nbformat": 4,
 "nbformat_minor": 4
}
