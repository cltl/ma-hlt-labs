{
 "cells": [
  {
   "cell_type": "markdown",
   "id": "888c79db-d28c-49a3-ad6a-9a224a1fad6f",
   "metadata": {},
   "source": [
    "# Lab4 Assignment: train a CRF PoS tagger with main categories"
   ]
  },
  {
   "cell_type": "markdown",
   "id": "db17ac73-1537-4202-ba82-eaeaca3d7f59",
   "metadata": {},
   "source": [
    "In lab3.3, we have seen how to train a CRF classifier for Token in Sequence classification with Part-of-Speech tags. The evaluation based on the Penn Treebank showed that the performance varies a lot across the many different parts-of-speech. In this assignment, you need to reduce the tags to the main part-of-speech and retrain and test the classifier.\n",
    "For the assignment, we give you a function that maps the tags to a more basic set."
   ]
  },
  {
   "cell_type": "code",
   "execution_count": 2,
   "id": "29f56bbf-7464-4a87-ba72-3ff18576b649",
   "metadata": {},
   "outputs": [],
   "source": [
    "penn_tag_conversion = {'NNS': 'NN', \n",
    "             'VBD': 'VB', \n",
    "             'VBZ': 'VB', \n",
    "             'VBN': 'VB', \n",
    "             'PRP': 'PR', \n",
    "             'VBG': 'VB', \n",
    "             'VBP': 'VB', \n",
    "             'MD': 'VB', \n",
    "             'POS': '-NONE-', \n",
    "             'PRP$': 'PR',\n",
    "             ',': 'PUNCT', \n",
    "             '.': 'PUNCT', \n",
    "             '``': 'PUNCT', \n",
    "             \"''\": 'PUNCT', \n",
    "             '$': 'PUNCT', \n",
    "             ':': 'PUNCT', \n",
    "             'WDT': '-NONE-', \n",
    "             'JJR': 'JJ', \n",
    "             'WP': '-NONE-', \n",
    "             'NNPS': 'NNP', \n",
    "             'RP': '-NONE-', \n",
    "             'JJS': 'JJ', \n",
    "             'WRB': '-NONE-', \n",
    "             'RBR': '-NONE-', \n",
    "             '-RRB-': '-NONE-', \n",
    "             '-LRB-': '-NONE-', \n",
    "             'EX': '-NONE-', \n",
    "             'RBS': '-NONE-', \n",
    "             'PDT': '-NONE-', \n",
    "             '#': 'PUNCT', \n",
    "             'LS': '-NONE-', \n",
    "             'WP$': '-NONE-', \n",
    "             'FW': '-NONE-', \n",
    "             'UH': '-NONE-', \n",
    "             'SYM': '-NONE-'}"
   ]
  },
  {
   "cell_type": "code",
   "execution_count": null,
   "id": "759996eb-c744-4e91-96b9-be41b6cac743",
   "metadata": {},
   "outputs": [],
   "source": [
    "def simply_tag_set(penn_train_label_sequences):\n",
    "    basic_penn_train_label_sequences =[]\n",
    "    for label_sequence in penn_train_label_sequences:\n",
    "        new_label_sequence = []\n",
    "        for tag in label_sequence:\n",
    "            if tag in penn_tag_conversion:\n",
    "                basic_tag = penn_tag_conversion[tag]\n",
    "                new_label_sequence.append(basic_tag)\n",
    "            else:\n",
    "                new_label_sequence.append(tag)\n",
    "        basic_penn_train_label_sequences.append(new_label_sequence)\n",
    "    return basic_penn_train_label_sequences"
   ]
  },
  {
   "cell_type": "markdown",
   "id": "41a3b335-5bd4-43f1-9efd-6e67f480fecf",
   "metadata": {},
   "source": [
    "## 1. Load Penn treebank data"
   ]
  },
  {
   "cell_type": "markdown",
   "id": "ccfe4b62-3ecf-414e-9af5-fb6324bbd3e2",
   "metadata": {},
   "source": [
    "## 2. Feature extraction function"
   ]
  },
  {
   "cell_type": "markdown",
   "id": "9b0db548-83aa-47ae-88a5-72797c4ae282",
   "metadata": {},
   "source": [
    "## 3. Convert the sentences to sequences of features and the tags to sequences of tags"
   ]
  },
  {
   "cell_type": "markdown",
   "id": "5b21ccb6-273f-49b3-aae5-b89b059919a6",
   "metadata": {},
   "source": [
    "## 4. Convert the finegrained tags to basic tags"
   ]
  },
  {
   "cell_type": "markdown",
   "id": "8eb4eb8f-6560-4dff-8f96-f1b231113b04",
   "metadata": {},
   "source": [
    "## 5. Present the counts for the finegrained tags and the basic tags"
   ]
  },
  {
   "cell_type": "markdown",
   "id": "9a20d386-47a9-4803-9ca8-86ea85e0f059",
   "metadata": {},
   "source": [
    "## 6. Split the data into train and test"
   ]
  },
  {
   "cell_type": "markdown",
   "id": "e74ecf38-de31-48d1-a6d9-19ecf747937a",
   "metadata": {},
   "source": [
    "## 7. Train the CRF classifier"
   ]
  },
  {
   "cell_type": "markdown",
   "id": "ae1b854e-060c-47b5-a913-7f46ded4c776",
   "metadata": {},
   "source": [
    "## 8. Evaluate the classifier on the test set"
   ]
  },
  {
   "cell_type": "markdown",
   "id": "bd44d9aa-f61a-4ed3-9b81-fd518d8e4d42",
   "metadata": {},
   "source": [
    "## 9. Compare the results for the basic PoS tags with the results from Lab3.3"
   ]
  },
  {
   "cell_type": "code",
   "execution_count": null,
   "id": "02d55b4a-03bf-4a96-9a9a-0a22ca19d404",
   "metadata": {},
   "outputs": [],
   "source": []
  }
 ],
 "metadata": {
  "kernelspec": {
   "display_name": "Python 3",
   "language": "python",
   "name": "python3"
  },
  "language_info": {
   "codemirror_mode": {
    "name": "ipython",
    "version": 3
   },
   "file_extension": ".py",
   "mimetype": "text/x-python",
   "name": "python",
   "nbconvert_exporter": "python",
   "pygments_lexer": "ipython3",
   "version": "3.10.11"
  }
 },
 "nbformat": 4,
 "nbformat_minor": 5
}
