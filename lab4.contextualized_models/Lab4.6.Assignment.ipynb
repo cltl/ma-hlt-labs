{
 "cells": [
  {
   "cell_type": "markdown",
   "id": "f4bf91df-b25a-4485-85ce-47db5cbef03e",
   "metadata": {},
   "source": [
    "## Lab4 Assignment Large Langauge Models"
   ]
  },
  {
   "cell_type": "markdown",
   "id": "ab6472bc-9977-437c-bb2c-561b95862628",
   "metadata": {},
   "source": [
    "Copyright: Vrije Universiteit Amsterdam, Faculty of Humanities, CLTL"
   ]
  },
  {
   "cell_type": "markdown",
   "id": "4b3e785e-0429-4845-85a4-865c5500bfed",
   "metadata": {},
   "source": [
    "For this assignment, you need to load the WASSA tweet test data from Lab3 and use BERT finetuned with GO data and Llama with prompts to classify the test set. Experiment with two different prompts and explain your changes.\n",
    "\n",
    "Create a evaluation report using sklearn and compare the BERT and LLama performance. "
   ]
  },
  {
   "cell_type": "markdown",
   "id": "28a82066-9d56-4928-9766-a6a9e60bde11",
   "metadata": {},
   "source": [
    "# Name of the group and the students"
   ]
  },
  {
   "cell_type": "markdown",
   "id": "818a9c38-4744-436a-b690-c0b1f8d93d7e",
   "metadata": {},
   "source": [
    "Group name: [HERE SHOULD BE THE GROUP NAME]\n",
    "\n",
    "Student names: [HERE SHOULD BE THE STUDENT NAMES]"
   ]
  },
  {
   "cell_type": "markdown",
   "id": "7669cf62-a43d-428b-a3bc-66bd72251ca0",
   "metadata": {},
   "source": [
    "## 4.1 Use finetuned goBERT to assign Ekman emotion labels to tweets "
   ]
  },
  {
   "cell_type": "code",
   "execution_count": null,
   "id": "9a3c99e6-fc40-4464-bc1a-6fd395916184",
   "metadata": {},
   "outputs": [],
   "source": [
    "[Your code goes here]"
   ]
  },
  {
   "cell_type": "markdown",
   "id": "459bff6c-b03d-4f50-99ef-9d53b02579fa",
   "metadata": {},
   "source": [
    "## 4.2 Prompting Llama3 for emotions"
   ]
  },
  {
   "cell_type": "code",
   "execution_count": null,
   "id": "4b207e05-0887-443e-ad32-d5c14e5e9f98",
   "metadata": {},
   "outputs": [],
   "source": [
    "[Your code goes here]"
   ]
  },
  {
   "cell_type": "markdown",
   "id": "cff89590-e8ce-4969-ba96-b20e95776eaa",
   "metadata": {},
   "source": [
    "Explain the prompts you use."
   ]
  },
  {
   "cell_type": "markdown",
   "id": "996f4b29-1f9b-4bfc-a453-c2bd956e3913",
   "metadata": {},
   "source": [
    "## 4.3 Classification report and confusion matrix"
   ]
  },
  {
   "cell_type": "markdown",
   "id": "1c1ff801-93cc-4397-ba6d-c760e5598c2c",
   "metadata": {},
   "source": [
    "## 4.4 Comparison and discussion"
   ]
  },
  {
   "cell_type": "code",
   "execution_count": null,
   "id": "3fd6a581-6767-4540-a382-069b464ec2ad",
   "metadata": {},
   "outputs": [],
   "source": []
  }
 ],
 "metadata": {
  "kernelspec": {
   "display_name": "Python 3 (ipykernel)",
   "language": "python",
   "name": "python3"
  },
  "language_info": {
   "codemirror_mode": {
    "name": "ipython",
    "version": 3
   },
   "file_extension": ".py",
   "mimetype": "text/x-python",
   "name": "python",
   "nbconvert_exporter": "python",
   "pygments_lexer": "ipython3",
   "version": "3.10.11"
  }
 },
 "nbformat": 4,
 "nbformat_minor": 5
}
