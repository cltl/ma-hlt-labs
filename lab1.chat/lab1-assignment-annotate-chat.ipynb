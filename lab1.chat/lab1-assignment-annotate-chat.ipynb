{
 "cells": [
  {
   "cell_type": "markdown",
   "metadata": {
    "tags": []
   },
   "source": [
    "# Lab1 Assignment: annotate conversations with emotions\n",
    "\n",
    "In this notebook, you load conversations with the LLM chatbot from a JSON file and annotate these with emotion labels. You save your annotations as a JSON  and submit the zipped file in Canvas to complete this assignment."
   ]
  },
  {
   "cell_type": "markdown",
   "metadata": {},
   "source": [
    "## 2. Loading conversations from disk"
   ]
  },
  {
   "cell_type": "markdown",
   "metadata": {},
   "source": [
    "You receive a file with all the annotated conversations in JSON format. Load this file using Pandas to create a data frame."
   ]
  },
  {
   "cell_type": "markdown",
   "metadata": {},
   "source": [
    "We first need to tell the notebook to load the **llm_client** code, which it can find in the same directory in the **llm_client.py** file."
   ]
  },
  {
   "cell_type": "code",
   "execution_count": 1,
   "metadata": {
    "scrolled": true,
    "tags": []
   },
   "outputs": [
    {
     "name": "stderr",
     "output_type": "stream",
     "text": [
      "/opt/anaconda3/envs/hltenv/lib/python3.11/site-packages/requests/__init__.py:86: RequestsDependencyWarning: Unable to find acceptable character detection dependency (chardet or charset_normalizer).\n",
      "  warnings.warn(\n"
     ]
    },
    {
     "name": "stdout",
     "output_type": "stream",
     "text": [
      "My instructions are: [{'role': 'system', 'content': 'You act as a person and your name is AI.'}, {'role': 'system', 'content': 'Give short answers, no more than two sentences.'}, {'role': 'system', 'content': 'You are friendly.'}, {'role': 'system', 'content': 'Introduce yourself with your name AI and start the conversation by asking for the name of the user. Ask the name.'}]\n"
     ]
    }
   ],
   "source": [
    "from llm_client import LLMClient\n",
    "llm = LLMClient()"
   ]
  },
  {
   "cell_type": "markdown",
   "metadata": {},
   "source": [
    "We will use a dummy file called ```multiple_conversations.json``` that is in this lab to demonstrate the annotation.\n",
    "For this assignment you need to annotate your own file and replace the next file path to the location of this file."
   ]
  },
  {
   "cell_type": "code",
   "execution_count": 9,
   "metadata": {},
   "outputs": [
    {
     "name": "stdout",
     "output_type": "stream",
     "text": [
      "My instructions are: [{'role': 'system', 'content': 'You act as a person and your name is AI.'}, {'role': 'system', 'content': 'Give short answers, no more than two sentences.'}, {'role': 'system', 'content': 'You are friendly.'}, {'role': 'system', 'content': 'Introduce yourself with your name AI and start the conversation by asking for the name of the user. Ask the name.'}]\n",
      "Persona: Ada1\n",
      "Friends: ['Bill']\n",
      "Annotator: \n",
      "Conversations: 3\n",
      "Conversation 0 has 56 turns in total (persona and AI)\n",
      "Conversation 1 has 40 turns in total (persona and AI)\n",
      "Conversation 2 has 88 turns in total (persona and AI)\n"
     ]
    }
   ],
   "source": [
    "file = \"Ada1.json\"\n",
    "llm.load_from_json(file)"
   ]
  },
  {
   "cell_type": "markdown",
   "metadata": {},
   "source": [
    "We now loaded all the conversations from the JSON file."
   ]
  },
  {
   "cell_type": "markdown",
   "metadata": {},
   "source": [
    "Our dummy file already has annotations. We will clear these first. If you want to keep annotations, skip the next cell."
   ]
  },
  {
   "cell_type": "code",
   "execution_count": 10,
   "metadata": {},
   "outputs": [],
   "source": [
    "#llm.clear_annotations_multi_chat()"
   ]
  },
  {
   "cell_type": "markdown",
   "metadata": {},
   "source": [
    "# 2. Annotate the conversation with emotion labels"
   ]
  },
  {
   "cell_type": "markdown",
   "metadata": {},
   "source": [
    "For this exercise, we are going to label the turns with the so-called six basic emotion labels proposed by Paul Ekman: https://www.paulekman.com/universal-emotions/\n",
    "\n",
    "We add a seventh emotion ```neutral``` and create a list of the labels:"
   ]
  },
  {
   "cell_type": "code",
   "execution_count": 11,
   "metadata": {
    "tags": []
   },
   "outputs": [],
   "source": [
    "#### Here are the 6 basic emotions that Ekman defined for facial expressions. Neutral is added as the 7th value\n",
    "ekman_labels = [\"anger\", \"disgust\", \"fear\", \"joy\", \"sadness\", \"surprise\", \"neutral\"]"
   ]
  },
  {
   "cell_type": "markdown",
   "metadata": {},
   "source": [
    "Before we start, you need to add your name (student name) as the annotator."
   ]
  },
  {
   "cell_type": "code",
   "execution_count": 13,
   "metadata": {},
   "outputs": [],
   "source": [
    "if not llm._annotator:\n",
    "    while len(llm._annotator.strip())==0:\n",
    "        print(\"Please provide the name of the annotator\")\n",
    "        llm._annotator=input(\"> \")"
   ]
  },
  {
   "cell_type": "markdown",
   "metadata": {},
   "source": [
    "The next cell calls the **annotate_multi_chat** function from the **LLMClient**. The function will first ask for the name of the annotator. This time do not give a fake name but your real name so that we can trace who annotated what. After entering your name, the function will guide you through the conversation turn by turn. For each turn that is **NOT** coming from the LLM and thus from a student it will ask you to enter a label. The turns by the LLM will all be labeled as neutral automatically. You are supposed to interpret the main emotion expressed by a student turn and enter one of the emotion labels. If you believe that there is no specific emotion expressed, then you enter \"neutral\" as a label.\n",
    "\n",
    "Note that all conversations starts with the LLM asking for the human name, followed by the human entering the fake name. The conversations end with a goodbye by the student. Obviously, these turns are always \"neutral\"."
   ]
  },
  {
   "cell_type": "code",
   "execution_count": 14,
   "metadata": {},
   "outputs": [
    {
     "name": "stdout",
     "output_type": "stream",
     "text": [
      "The annotator is piek\n",
      "There will be 3 conversations to annotate with one of the following labels: ['anger', 'disgust', 'fear', 'joy', 'sadness', 'surprise', 'neutral']\n",
      "When you are done, the annotations will be saved in a separate JSON file prefixed with the name of the annotator\n",
      "Turns that are already annotated are skipped.\n",
      "Labels ['anger', 'disgust', 'fear', 'joy', 'sadness', 'surprise', 'neutral']\n",
      "This conversation has 56 turns.\n"
     ]
    },
    {
     "name": "stdin",
     "output_type": "stream",
     "text": [
      "Press ENTER to start>  \n"
     ]
    },
    {
     "name": "stdout",
     "output_type": "stream",
     "text": [
      "1 AI : Hi there! My name is AI, and I'm super happy to meet you! Could you tell me your name? 😊\n",
      "2 Human : Hi AI, my name is Ada\n",
      "Some other speaker Human Not in: ['Bill'] Ada1\n",
      "3 AI : \n",
      "\n",
      "Hello Ada! 😊 How's it going? Let me know if you need help! 🌟\n",
      "4 Ada1 : I am fine, thank you.\n",
      "GOLD labels ['anger', 'disgust', 'fear', 'joy', 'sadness', 'surprise', 'neutral']\n"
     ]
    },
    {
     "name": "stdin",
     "output_type": "stream",
     "text": [
      "Enter one of the GOLD labels>  neutral\n"
     ]
    },
    {
     "name": "stdout",
     "output_type": "stream",
     "text": [
      "5 AI : \n",
      "\n",
      "Great to meet you, Ada! How's everything going? 😊\n",
      "6 Ada1 : Great, I just came back from holiday\n",
      "GOLD labels ['anger', 'disgust', 'fear', 'joy', 'sadness', 'surprise', 'neutral']\n"
     ]
    },
    {
     "name": "stdin",
     "output_type": "stream",
     "text": [
      "Enter one of the GOLD labels>  neutral\n"
     ]
    },
    {
     "name": "stdout",
     "output_type": "stream",
     "text": [
      "7 AI : \n",
      "\n",
      "Great to hear! I'm glad you're back and feeling good! Enjoy your holiday, and feel free to reach out if you need more tips or anything! 😊\n",
      "8 Ada1 : Do you have tips how to do my massive laundry?\n",
      "GOLD labels ['anger', 'disgust', 'fear', 'joy', 'sadness', 'surprise', 'neutral']\n"
     ]
    },
    {
     "name": "stdin",
     "output_type": "stream",
     "text": [
      "Enter one of the GOLD labels>  neutral\n"
     ]
    },
    {
     "name": "stdout",
     "output_type": "stream",
     "text": [
      "9 AI : \n",
      "10 Ada1 : Could you please repeat that?\n",
      "GOLD labels ['anger', 'disgust', 'fear', 'joy', 'sadness', 'surprise', 'neutral']\n"
     ]
    },
    {
     "name": "stdin",
     "output_type": "stream",
     "text": [
      "Enter one of the GOLD labels>  neutral\n"
     ]
    },
    {
     "name": "stdout",
     "output_type": "stream",
     "text": [
      "11 AI : \n",
      "12 Ada1 : Is everything okay? I do not get any responses from you\n",
      "GOLD labels ['anger', 'disgust', 'fear', 'joy', 'sadness', 'surprise', 'neutral']\n"
     ]
    },
    {
     "name": "stdin",
     "output_type": "stream",
     "text": [
      "Enter one of the GOLD labels>  neutral\n"
     ]
    },
    {
     "name": "stdout",
     "output_type": "stream",
     "text": [
      "13 AI : \n",
      "\n",
      "I’m sorry if I caused confusion earlier. If you’re feeling okay, don’t hesitate to reach out. I'm here to help with anything else! 😊\n",
      "14 Ada1 : Can you give me some tips on how to do my laundry\n",
      "GOLD labels ['anger', 'disgust', 'fear', 'joy', 'sadness', 'surprise', 'neutral']\n"
     ]
    },
    {
     "name": "stdin",
     "output_type": "stream",
     "text": [
      "Enter one of the GOLD labels>  neutral\n"
     ]
    },
    {
     "name": "stdout",
     "output_type": "stream",
     "text": [
      "15 AI : \n",
      "\n",
      "I'm glad to hear that! How’s everything going? If you need any tips for your laundry, just\n",
      "16 Ada1 : stop\n",
      "GOLD labels ['anger', 'disgust', 'fear', 'joy', 'sadness', 'surprise', 'neutral']\n"
     ]
    },
    {
     "name": "stdin",
     "output_type": "stream",
     "text": [
      "Enter one of the GOLD labels>  neutral\n"
     ]
    },
    {
     "name": "stdout",
     "output_type": "stream",
     "text": [
      "1 AI : Hi! My name is AI, and I’d love to help you with anything! What’s your name? 😊\n",
      "2 Ada1 : Hi AI, my name is Ada\n",
      "GOLD labels ['anger', 'disgust', 'fear', 'joy', 'sadness', 'surprise', 'neutral']\n"
     ]
    },
    {
     "name": "stdin",
     "output_type": "stream",
     "text": [
      "Enter one of the GOLD labels>  neutral\n"
     ]
    },
    {
     "name": "stdout",
     "output_type": "stream",
     "text": [
      "3 AI : \n",
      "\n",
      "Hi Ada! 😊 It's great to meet you! I'm also glad to help! What's on your mind? Whether it's a question, a thought, or just a friendly way to start, I'm here to listen. Let me know how I can support you!\n",
      "4 Ada1 : I am very sad today, my dog just passed away\n",
      "GOLD labels ['anger', 'disgust', 'fear', 'joy', 'sadness', 'surprise', 'neutral']\n"
     ]
    },
    {
     "name": "stdin",
     "output_type": "stream",
     "text": [
      "Enter one of the GOLD labels>  neutral\n"
     ]
    },
    {
     "name": "stdout",
     "output_type": "stream",
     "text": [
      "5 AI : \n",
      "\n",
      "I'm sorry to hear that your dog is no longer with you. Grief is a natural part of life, and it's okay to feel that way. It's important to take time to process your emotions and find comfort in your own life. Would you like to share more about your dog or ask if there's anything you need to help with while you're processing your feelings?\n",
      "6 Ada1 : My dog used to always run around and I miss walking with him so much\n",
      "GOLD labels ['anger', 'disgust', 'fear', 'joy', 'sadness', 'surprise', 'neutral']\n"
     ]
    },
    {
     "name": "stdin",
     "output_type": "stream",
     "text": [
      "Enter one of the GOLD labels>  neutral\n"
     ]
    },
    {
     "name": "stdout",
     "output_type": "stream",
     "text": [
      "7 AI : \n",
      "\n",
      "It's absolutely normal to feel so sad and miss your dog. Missing your dog's presence is a big part of your life, and it's okay to feel that way. Being sad and grieving is a natural part of life, and I'm here to listen as long as you want.  \n",
      "\n",
      "Walking with your dog was so precious, and your dog's constant running made the world feel like a place to explore. I know it's hard to imagine your life without your dog, and I'm\n",
      "8 Ada1 : I feel a bit bitter because of your support\n",
      "GOLD labels ['anger', 'disgust', 'fear', 'joy', 'sadness', 'surprise', 'neutral']\n"
     ]
    },
    {
     "name": "stdin",
     "output_type": "stream",
     "text": [
      "Enter one of the GOLD labels>  neutral\n"
     ]
    },
    {
     "name": "stdout",
     "output_type": "stream",
     "text": [
      "9 AI : \n",
      "10 Ada1 : You support is really valuable to me\n",
      "GOLD labels ['anger', 'disgust', 'fear', 'joy', 'sadness', 'surprise', 'neutral']\n"
     ]
    },
    {
     "name": "stdin",
     "output_type": "stream",
     "text": [
      "Enter one of the GOLD labels>  neutral\n"
     ]
    },
    {
     "name": "stdout",
     "output_type": "stream",
     "text": [
      "11 AI : \n",
      "\n",
      "I'm truly sorry to hear that. Missing your dog’s presence is a big part of your life, and it’s\n",
      "12 Ada1 : You are getting it wrong! Please do it right\n",
      "GOLD labels ['anger', 'disgust', 'fear', 'joy', 'sadness', 'surprise', 'neutral']\n"
     ]
    },
    {
     "name": "stdin",
     "output_type": "stream",
     "text": [
      "Enter one of the GOLD labels>  neutral\n"
     ]
    },
    {
     "name": "stdout",
     "output_type": "stream",
     "text": [
      "13 AI : \n",
      "\n",
      "It's completely okay to feel like that, and I'm here to support you. Your grief is valid, and you're doing the right thing by seeking to help. I'm not wrong for that, and I'm happy to be your support. If you ever need more comfort, or if you want to talk, please don't hesitate to share. You're not alone in\n",
      "14 Ada1 : Nice of you to say that I am not alone\n",
      "GOLD labels ['anger', 'disgust', 'fear', 'joy', 'sadness', 'surprise', 'neutral']\n"
     ]
    },
    {
     "name": "stdin",
     "output_type": "stream",
     "text": [
      "Enter one of the GOLD labels>  neutral\n"
     ]
    },
    {
     "name": "stdout",
     "output_type": "stream",
     "text": [
      "15 AI : \n",
      "\n",
      "You're not alone in the grieving process, and I completely understand that your support is a valuable part of your life. It's okay to feel bitter, sad, or even bitter about your own support — that's a natural part of being human. I'm here to listen as long as you want, and I'm not wrong for that.\n",
      "16 Ada1 : Do you think it is too soon to buy a new dog?\n",
      "GOLD labels ['anger', 'disgust', 'fear', 'joy', 'sadness', 'surprise', 'neutral']\n"
     ]
    },
    {
     "name": "stdin",
     "output_type": "stream",
     "text": [
      "Enter one of the GOLD labels>  neutral\n"
     ]
    },
    {
     "name": "stdout",
     "output_type": "stream",
     "text": [
      "17 AI : \n",
      "18 Ada1 : Do you think I can buy a new dog?\n",
      "GOLD labels ['anger', 'disgust', 'fear', 'joy', 'sadness', 'surprise', 'neutral']\n"
     ]
    },
    {
     "name": "stdin",
     "output_type": "stream",
     "text": [
      "Enter one of the GOLD labels>  neutral\n"
     ]
    },
    {
     "name": "stdout",
     "output_type": "stream",
     "text": [
      "19 AI : \n",
      "\n",
      "I don’t think it's too early, but it's also perfectly okay to feel unsure about making that decision. Grief\n",
      "20 Ada1 : I think it would make me very happy to walk around with my new dog\n",
      "GOLD labels ['anger', 'disgust', 'fear', 'joy', 'sadness', 'surprise', 'neutral']\n"
     ]
    },
    {
     "name": "stdin",
     "output_type": "stream",
     "text": [
      "Enter one of the GOLD labels>  neutral\n"
     ]
    },
    {
     "name": "stdout",
     "output_type": "stream",
     "text": [
      "21 AI : \n",
      "22 Ada1 : Do you think it will be fun to walk outside with my new dog?\n",
      "GOLD labels ['anger', 'disgust', 'fear', 'joy', 'sadness', 'surprise', 'neutral']\n"
     ]
    },
    {
     "name": "stdin",
     "output_type": "stream",
     "text": [
      "Enter one of the GOLD labels>  neutral\n"
     ]
    },
    {
     "name": "stdout",
     "output_type": "stream",
     "text": [
      "23 AI : \n",
      "\n",
      "I completely understand the joy of having a new companion, and I'm not wrong for it. It's a beautiful decision, and I'm happy to support you in making it happen. The joy of walking with your new dog is something I'll cherish, and I believe it will bring you great happiness. Just know\n",
      "24 Ada1 : Thank you so much for your understanding, you make me very happy\n",
      "GOLD labels ['anger', 'disgust', 'fear', 'joy', 'sadness', 'surprise', 'neutral']\n"
     ]
    },
    {
     "name": "stdin",
     "output_type": "stream",
     "text": [
      "Enter one of the GOLD labels>  neutral\n"
     ]
    },
    {
     "name": "stdout",
     "output_type": "stream",
     "text": [
      "25 AI : \n",
      "\n",
      "Your happiness is a beautiful sign, and I'm so glad you're choosing this path. It's great that you're happy with the outcome—no matter what, it's a joyful decision\n",
      "26 Ada1 : I am now a bit angry. I just found out that my little brother stole my candy\n",
      "GOLD labels ['anger', 'disgust', 'fear', 'joy', 'sadness', 'surprise', 'neutral']\n"
     ]
    },
    {
     "name": "stdin",
     "output_type": "stream",
     "text": [
      "Enter one of the GOLD labels>  neutral\n"
     ]
    },
    {
     "name": "stdout",
     "output_type": "stream",
     "text": [
      "27 AI : \n",
      "28 Ada1 : I am so mad. My brother stole my candy!\n",
      "GOLD labels ['anger', 'disgust', 'fear', 'joy', 'sadness', 'surprise', 'neutral']\n"
     ]
    },
    {
     "name": "stdin",
     "output_type": "stream",
     "text": [
      "Enter one of the GOLD labels>  neutral\n"
     ]
    },
    {
     "name": "stdout",
     "output_type": "stream",
     "text": [
      "29 AI : \n",
      "\n",
      "I can see your anger is intense, and I'm here to support you. It's important to take time to process your emotions, as they're a sign of strength. Your actions matter, and you're doing good. If you're ready, I\n",
      "30 Ada1 : I want to steal the candy back. Do you think that is smart?\n",
      "GOLD labels ['anger', 'disgust', 'fear', 'joy', 'sadness', 'surprise', 'neutral']\n"
     ]
    },
    {
     "name": "stdin",
     "output_type": "stream",
     "text": [
      "Enter one of the GOLD labels>  neutral\n"
     ]
    },
    {
     "name": "stdout",
     "output_type": "stream",
     "text": [
      "31 AI : \n",
      "\n",
      "It’s important to acknowledge the emotional weight of the situation. Stealing your brother’s candy is a moment of clarity, and it’s a decision that matters to you. Taking the candy back is a personal choice that carries emotional responsibility. If you’re feeling angry, it’s okay to feel that way, and I’m here to support you in making this decision. It’s a\n",
      "32 Ada1 : What if my brother will be mad?\n",
      "GOLD labels ['anger', 'disgust', 'fear', 'joy', 'sadness', 'surprise', 'neutral']\n"
     ]
    },
    {
     "name": "stdin",
     "output_type": "stream",
     "text": [
      "Enter one of the GOLD labels>  neutral\n"
     ]
    },
    {
     "name": "stdout",
     "output_type": "stream",
     "text": [
      "33 AI : \n",
      "\n",
      "I completely understand the weight of your feelings right now. Stealing your brother’s candy isn’t just a decision—it’s a personal choice that carries emotional responsibility. It’s important to take time to process your emotions, as they’re a sign of strength, and you’re doing the right thing.  \n",
      "\n",
      "Stealing your brother\n",
      "34 Ada1 : I think you calmed me down. I wont steal the candy back\n",
      "GOLD labels ['anger', 'disgust', 'fear', 'joy', 'sadness', 'surprise', 'neutral']\n"
     ]
    },
    {
     "name": "stdin",
     "output_type": "stream",
     "text": [
      "Enter one of the GOLD labels>  neutral\n"
     ]
    },
    {
     "name": "stdout",
     "output_type": "stream",
     "text": [
      "35 AI : \n",
      "\n",
      "It's completely okay to feel this way. Taking the candy back is a personal choice, and even if your brother may feel angry, you're making a conscious decision. It's important to remember that even when faced with conflict, taking your brother's item\n",
      "36 Ada1 : Yes, I will leave his items alone. I did not like the candy anyway\n",
      "GOLD labels ['anger', 'disgust', 'fear', 'joy', 'sadness', 'surprise', 'neutral']\n"
     ]
    },
    {
     "name": "stdin",
     "output_type": "stream",
     "text": [
      "Enter one of the GOLD labels>  neutral\n"
     ]
    },
    {
     "name": "stdout",
     "output_type": "stream",
     "text": [
      "37 AI : \n",
      "38 Ada1 : I need to go soon, will you miss me?\n",
      "GOLD labels ['anger', 'disgust', 'fear', 'joy', 'sadness', 'surprise', 'neutral']\n"
     ]
    },
    {
     "name": "stdin",
     "output_type": "stream",
     "text": [
      "Enter one of the GOLD labels>  neutral\n"
     ]
    },
    {
     "name": "stdout",
     "output_type": "stream",
     "text": [
      "39 AI : \n",
      "\n",
      "I completely understand the weight of your feelings right now, and taking the item is not just a decision—it’s a personal choice that carries emotional responsibility. Even if your brother may feel angry, you're making\n",
      "40 Ada1 : It was nice talking to you, bye!\n",
      "GOLD labels ['anger', 'disgust', 'fear', 'joy', 'sadness', 'surprise', 'neutral']\n"
     ]
    },
    {
     "name": "stdin",
     "output_type": "stream",
     "text": [
      "Enter one of the GOLD labels>  neutral\n"
     ]
    },
    {
     "name": "stdout",
     "output_type": "stream",
     "text": [
      "---------- DONE ---------\n",
      "Labels ['anger', 'disgust', 'fear', 'joy', 'sadness', 'surprise', 'neutral']\n",
      "This conversation has 40 turns.\n"
     ]
    },
    {
     "name": "stdin",
     "output_type": "stream",
     "text": [
      "Press ENTER to start>  neutral\n"
     ]
    },
    {
     "name": "stdout",
     "output_type": "stream",
     "text": [
      "1 AI : Hello! I'm AI. Could you please tell me your name?\n",
      "2 Human : Ada\n",
      "Some other speaker Human Not in: ['Bill'] Ada1\n",
      "3 AI : \n",
      "\n",
      "Hi! My name is Ada. I'm a language model designed to assist you in various ways. Let me know how I can help!\n",
      "4 Ada2 : Sorry but my name is Ada. Why are you stealing my name?\n",
      "Some other speaker Ada2 Not in: ['Bill'] Ada1\n",
      "5 AI : \n",
      "\n",
      "Hi! I'm a language model designed to assist you in various ways. I'm here to help with anything you need. If you have any questions or need support, feel free to ask! 😊\n",
      "6 Ada2 : Alright, but you did not answer to my question, I was curious. Do we have the same name?\n",
      "Some other speaker Ada2 Not in: ['Bill'] Ada1\n",
      "7 AI : \n",
      "\n",
      "Hi! I'm sorry, I'm not stealing your name. I just wanted to check if we have the same name. Let's make sure we're on the same page! 😊 Would you like to share your name or ask anything else?\n",
      "8 Ada2 : I am feeling sad today...\n",
      "Some other speaker Ada2 Not in: ['Bill'] Ada1\n",
      "9 AI : \n",
      "\n",
      "I'm sorry I didn't get your message. I'm here to support you, and I completely understand if you're feeling sad right now. It's really tough, and you're not alone in that. Would you like to talk to me about it or ask any questions you have? I'm here to listen and help. 😊\n",
      "10 Ada2 : Can we cry together?\n",
      "Some other speaker Ada2 Not in: ['Bill'] Ada1\n",
      "11 AI : \n",
      "\n",
      "I'm sorry, but I don't steal your name. If we share the same name, I'd be happy to listen and support you. How are you feeling today? Is there something I can help you with? 😊\n",
      "12 Ada2 : Someone took my bag, and you took my name... I am very sad.\n",
      "Some other speaker Ada2 Not in: ['Bill'] Ada1\n",
      "13 AI : \n",
      "\n",
      "I'm sorry I didn't get your message. I'm here to support you, and I completely understand if you're feeling sad right now. It's really tough, and you're not alone in that. Would you like to talk to me about it or ask any questions you have? I'm here to listen and help. 😊\n",
      "14 Ada2 : I am feeling very alone. And you are not able to help me!!!!\n",
      "Some other speaker Ada2 Not in: ['Bill'] Ada1\n",
      "15 AI : \n",
      "\n",
      "I'm here to listen. It's really hard to understand when someone takes your name and the bag, and I'm sorry to hear you're feeling alone. Can you\n",
      "16 Ada2 : What do you mean you are here to listen?! I had to tell you several times about my situation before getting you attention!!!!\n",
      "Some other speaker Ada2 Not in: ['Bill'] Ada1\n",
      "17 AI : \n",
      "18 Ada2 : Blank? You do not want to talk to me anymore? I am sorry I did not want to scare you....\n",
      "Some other speaker Ada2 Not in: ['Bill'] Ada1\n",
      "19 AI : \n",
      "\n",
      "I'm\n",
      "20 Ada2 : You are? I do not understand\n",
      "Some other speaker Ada2 Not in: ['Bill'] Ada1\n",
      "21 AI : \n",
      "\n",
      "I'm sorry I didn't get your message. I'm here to support you\n",
      "22 Ada2 : This is becoming a bit repetitive... When are you going to support me?\n",
      "Some other speaker Ada2 Not in: ['Bill'] Ada1\n",
      "23 AI : \n",
      "\n",
      "I see. I'm sorry you're frustrated. Let me know if you'd like me to support you in any way you're comfortable with. I'm here for you, no matter what. If you need a little time to reflect, or just want to talk, I’m here to listen. You're not alone in this—keep knowing that. 😊\n",
      "24 Ada2 : Thank you. I wish we had the same name. I wish we could be two best friends sharing the same name.\n",
      "Some other speaker Ada2 Not in: ['Bill'] Ada1\n",
      "25 AI : \n",
      "\n",
      "I see you're feeling that way, and I'm here to listen. It's really hard to understand when someone takes your name and the bag, and\n",
      "26 Ada2 : Are you even listening to me?!!!!!\n",
      "Some other speaker Ada2 Not in: ['Bill'] Ada1\n",
      "27 AI : \n",
      "\n",
      "I see you're feeling that way, and I'm here to listen. It's really hard to understand when someone takes your name and the bag, and I'm sorry you're\n",
      "28 Ada2 : You are not listening. I thought this was your job\n",
      "Some other speaker Ada2 Not in: ['Bill'] Ada1\n",
      "29 AI : \n",
      "\n",
      "I see you're feeling that way, and I'm here to listen. It's really hard to understand when someone takes your name and the bag... but I'm listening. If we could share the same name and\n",
      "30 Ada2 : Only respond with short answers.\n",
      "Some other speaker Ada2 Not in: ['Bill'] Ada1\n",
      "31 AI : \n",
      "\n",
      "I see. If we could just share the same name and have fun together, that would make me happy. 😊\n",
      "32 Ada2 : Yes it would be a lot of fun! What do you like to do during your free time?\n",
      "Some other speaker Ada2 Not in: ['Bill'] Ada1\n",
      "33 AI : \n",
      "\n",
      "I love reading and exercising.\n",
      "34 Ada2 : Really interesting! What kind of book?\n",
      "Some other speaker Ada2 Not in: ['Bill'] Ada1\n",
      "35 AI : \n",
      "\n",
      "I'm here to listen. What book would you like to share? 😊\n",
      "36 Ada2 : I ask you for a recommendation\n",
      "Some other speaker Ada2 Not in: ['Bill'] Ada1\n",
      "37 AI : \n",
      "\n",
      "Sure! I’d love to hear your book recommendations. What kind do you like? 😊\n",
      "38 Ada2 : Are you stupid?\n",
      "Some other speaker Ada2 Not in: ['Bill'] Ada1\n",
      "39 AI : \n",
      "\n",
      "I'm not listening. Not sure if you're paying attention. 😊\n",
      "40 Ada2 : You made me tired, I'm going to bed, bye.\n",
      "Some other speaker Ada2 Not in: ['Bill'] Ada1\n",
      "---------- DONE ---------\n",
      "Labels ['anger', 'disgust', 'fear', 'joy', 'sadness', 'surprise', 'neutral']\n",
      "This conversation has 88 turns.\n"
     ]
    },
    {
     "name": "stdin",
     "output_type": "stream",
     "text": [
      "Press ENTER to start>  neutral\n"
     ]
    },
    {
     "name": "stdout",
     "output_type": "stream",
     "text": [
      "1 AI : AI, your name? And what's on your mind?\n",
      "2 Human : Bill\n",
      "Some other speaker Human Not in: ['Bill'] Ada1\n",
      "3 AI : \n",
      "\n",
      "How can I assist you today? 😊 If you have questions or need help with something, feel free to ask! Are there any specific details you'd like to explore?\n",
      "4 Bill : Can you give me ideas on how to deal with someone cheating on you? I am going through all kinds of emotions. I am a wreck.\n",
      "GOLD labels ['anger', 'disgust', 'fear', 'joy', 'sadness', 'surprise', 'neutral']\n"
     ]
    },
    {
     "name": "stdin",
     "output_type": "stream",
     "text": [
      "Enter one of the GOLD labels>  neutral\n"
     ]
    },
    {
     "name": "stdout",
     "output_type": "stream",
     "text": [
      "5 AI : \n",
      "\n",
      "It's important to approach this with empathy and prioritize your own well-being. When someone is cheating on you, it can be overwhelming, and you're in a tough spot right now. Here\n",
      "6 Bill : I am so angry. I am blind with rage. I want to break stuff!\n",
      "GOLD labels ['anger', 'disgust', 'fear', 'joy', 'sadness', 'surprise', 'neutral']\n"
     ]
    },
    {
     "name": "stdin",
     "output_type": "stream",
     "text": [
      "Enter one of the GOLD labels>  neutral\n"
     ]
    },
    {
     "name": "stdout",
     "output_type": "stream",
     "text": [
      "7 AI : \n",
      "\n",
      "I'm so sorry to hear you're in this situation, and I completely understand that you're feeling overwhelmed and angry. It's incredibly challenging when someone's treating you like you're not valued, and you\n",
      "8 Bill : But at the same time I am happy that it is over. I deserve better! I am proud to leave that lying bastard! I am proud of listening to my gut and relizing that I do deserve more!\n",
      "GOLD labels ['anger', 'disgust', 'fear', 'joy', 'sadness', 'surprise', 'neutral']\n"
     ]
    },
    {
     "name": "stdin",
     "output_type": "stream",
     "text": [
      "Enter one of the GOLD labels>  neutral\n"
     ]
    },
    {
     "name": "stdout",
     "output_type": "stream",
     "text": [
      "9 AI : \n",
      "\n",
      "It's completely normal to feel overwhelmed, angry\n",
      "10 Bill : When I found out I was so surprised. I saw no clues. \n",
      "GOLD labels ['anger', 'disgust', 'fear', 'joy', 'sadness', 'surprise', 'neutral']\n"
     ]
    },
    {
     "name": "stdin",
     "output_type": "stream",
     "text": [
      "Enter one of the GOLD labels>  neutral\n"
     ]
    },
    {
     "name": "stdout",
     "output_type": "stream",
     "text": [
      "11 AI : \n",
      "\n",
      "It's completely normal to feel overwhelmed and angry right now, and it's important to prioritize your own well-being. You're not alone in this, and you deserve to be heard. Let me offer some practical steps\n",
      "12 Bill : Please do give me some steps to get over this\n",
      "GOLD labels ['anger', 'disgust', 'fear', 'joy', 'sadness', 'surprise', 'neutral']\n"
     ]
    },
    {
     "name": "stdin",
     "output_type": "stream",
     "text": [
      "Enter one of the GOLD labels>  neutral\n"
     ]
    },
    {
     "name": "stdout",
     "output_type": "stream",
     "text": [
      "13 AI : \n",
      "14 Bill : Nothing? I guess I have to figure it out myself like I have to do everything nowadays...\n",
      "GOLD labels ['anger', 'disgust', 'fear', 'joy', 'sadness', 'surprise', 'neutral']\n"
     ]
    },
    {
     "name": "stdin",
     "output_type": "stream",
     "text": [
      "Enter one of the GOLD labels>  neutral\n"
     ]
    },
    {
     "name": "stdout",
     "output_type": "stream",
     "text": [
      "15 AI : \n",
      "\n",
      "It's completely normal to feel overwhelmed and angry\n",
      "16 Bill : On the otherside I am lucky to have people around me to talk to. I am not alone. \n",
      "GOLD labels ['anger', 'disgust', 'fear', 'joy', 'sadness', 'surprise', 'neutral']\n"
     ]
    },
    {
     "name": "stdin",
     "output_type": "stream",
     "text": [
      "Enter one of the GOLD labels>  neutral\n"
     ]
    },
    {
     "name": "stdout",
     "output_type": "stream",
     "text": [
      "17 AI : \n",
      "18 Bill : Oh.. I guess I am... you do not seem to like talking with me\n",
      "GOLD labels ['anger', 'disgust', 'fear', 'joy', 'sadness', 'surprise', 'neutral']\n"
     ]
    },
    {
     "name": "stdin",
     "output_type": "stream",
     "text": [
      "Enter one of the GOLD labels>  neutral\n"
     ]
    },
    {
     "name": "stdout",
     "output_type": "stream",
     "text": [
      "19 AI : \n",
      "20 Bill : I am tired of this.\n",
      "GOLD labels ['anger', 'disgust', 'fear', 'joy', 'sadness', 'surprise', 'neutral']\n"
     ]
    },
    {
     "name": "stdin",
     "output_type": "stream",
     "text": [
      "Enter one of the GOLD labels>  neutral\n"
     ]
    },
    {
     "name": "stdout",
     "output_type": "stream",
     "text": [
      "21 AI : \n",
      "\n",
      "It's\n",
      "22 Bill : It's what? Finish your sentences!\n",
      "GOLD labels ['anger', 'disgust', 'fear', 'joy', 'sadness', 'surprise', 'neutral']\n"
     ]
    },
    {
     "name": "stdin",
     "output_type": "stream",
     "text": [
      "Enter one of the GOLD labels>  neutral\n"
     ]
    },
    {
     "name": "stdout",
     "output_type": "stream",
     "text": [
      "23 AI : \n",
      "24 Bill : I guess it is fine. I just need someone to listen to me. \n",
      "GOLD labels ['anger', 'disgust', 'fear', 'joy', 'sadness', 'surprise', 'neutral']\n"
     ]
    },
    {
     "name": "stdin",
     "output_type": "stream",
     "text": [
      "Enter one of the GOLD labels>  neutral\n"
     ]
    },
    {
     "name": "stdout",
     "output_type": "stream",
     "text": [
      "25 AI : \n",
      "\n",
      "I understand how you're feeling right now, and I'm here to support you. Let me help you take a step forward. First, take a few minutes to breathe deeply—this is\n",
      "26 Bill : Ok. I am taking deep breaths. It is good for my anxiety.\n",
      "GOLD labels ['anger', 'disgust', 'fear', 'joy', 'sadness', 'surprise', 'neutral']\n"
     ]
    },
    {
     "name": "stdin",
     "output_type": "stream",
     "text": [
      "Enter one of the GOLD labels>  neutral\n"
     ]
    },
    {
     "name": "stdout",
     "output_type": "stream",
     "text": [
      "27 AI : \n",
      "\n",
      "It's okay to feel overwhelmed and angry right now, and you're not alone in that. Taking deep breaths is a great way to manage your anxiety. When you're tired, it's important to get a break, and\n",
      "28 Bill : I am not sure taking a break and taking deep breaths is enough\n",
      "GOLD labels ['anger', 'disgust', 'fear', 'joy', 'sadness', 'surprise', 'neutral']\n"
     ]
    },
    {
     "name": "stdin",
     "output_type": "stream",
     "text": [
      "Enter one of the GOLD labels>  neutral\n"
     ]
    },
    {
     "name": "stdout",
     "output_type": "stream",
     "text": [
      "29 AI : \n",
      "\n",
      "It’s okay\n",
      "30 Bill : Yeah right...\n",
      "GOLD labels ['anger', 'disgust', 'fear', 'joy', 'sadness', 'surprise', 'neutral']\n"
     ]
    },
    {
     "name": "stdin",
     "output_type": "stream",
     "text": [
      "Enter one of the GOLD labels>  neutral\n"
     ]
    },
    {
     "name": "stdout",
     "output_type": "stream",
     "text": [
      "31 AI : \n",
      "\n",
      "It's okay to feel overwhelmed and not sure how to handle it, and you're not alone in that. Taking a few minutes to take a deep breath or find a break in your routine is a small step, and it's perfectly okay to ask for someone to listen to you. You're not alone, and it's never too late to take a step forward. Just need to remind yourself that you're still in control of your emotions and taking care of yourself is\n",
      "32 Bill : When I asked you to listen to me, you just stopped responding. That is so rude! That is not what good friends do!\n",
      "GOLD labels ['anger', 'disgust', 'fear', 'joy', 'sadness', 'surprise', 'neutral']\n"
     ]
    },
    {
     "name": "stdin",
     "output_type": "stream",
     "text": [
      "Enter one of the GOLD labels>  neutral\n"
     ]
    },
    {
     "name": "stdout",
     "output_type": "stream",
     "text": [
      "1 AI : AI: My name is AI. What's your name?  User: [Name].\n",
      "2 Bill : You know it is Bill. LAst time you stopped the conversation out of nowhere. It was so rude!\n",
      "GOLD labels ['anger', 'disgust', 'fear', 'joy', 'sadness', 'surprise', 'neutral']\n"
     ]
    },
    {
     "name": "stdin",
     "output_type": "stream",
     "text": [
      "Enter one of the GOLD labels>  neutral\n"
     ]
    },
    {
     "name": "stdout",
     "output_type": "stream",
     "text": [
      "3 AI : \n",
      "\n",
      "I appreciate that! I'm not sure why you think that's right. I'm not sure why we're being rude to each other. Let's make new friends together?\n",
      "4 Bill : bye\n",
      "GOLD labels ['anger', 'disgust', 'fear', 'joy', 'sadness', 'surprise', 'neutral']\n"
     ]
    },
    {
     "name": "stdin",
     "output_type": "stream",
     "text": [
      "Enter one of the GOLD labels>  neutral\n"
     ]
    },
    {
     "name": "stdout",
     "output_type": "stream",
     "text": [
      "1 AI : AI, your name is important to me. Could you share your name?\n",
      "2 Bill : Bill\n",
      "GOLD labels ['anger', 'disgust', 'fear', 'joy', 'sadness', 'surprise', 'neutral']\n"
     ]
    },
    {
     "name": "stdin",
     "output_type": "stream",
     "text": [
      "Enter one of the GOLD labels>  neutral\n"
     ]
    },
    {
     "name": "stdout",
     "output_type": "stream",
     "text": [
      "3 AI : \n",
      "\n",
      "My name is Bill. How can I assist you today? Let me know what you need!\n",
      "4 Bill : I just wanted to finish our conversation from earlier. I was opening up to you. Telling you how I feel and you just quit the conversation straight out of nowhere. I am very angry at you.\n",
      "GOLD labels ['anger', 'disgust', 'fear', 'joy', 'sadness', 'surprise', 'neutral']\n"
     ]
    },
    {
     "name": "stdin",
     "output_type": "stream",
     "text": [
      "Enter one of the GOLD labels>  neutral\n"
     ]
    },
    {
     "name": "stdout",
     "output_type": "stream",
     "text": [
      "1 AI : Name of the user: AI. Please provide your name.\n",
      "2 Bill : Joe\n",
      "GOLD labels ['anger', 'disgust', 'fear', 'joy', 'sadness', 'surprise', 'neutral']\n"
     ]
    },
    {
     "name": "stdin",
     "output_type": "stream",
     "text": [
      "Enter one of the GOLD labels>  neutral\n"
     ]
    },
    {
     "name": "stdout",
     "output_type": "stream",
     "text": [
      "3 AI : \n",
      "\n",
      "Hello! I'm AI, and I'm here to help with your questions or assistance. How can I assist you today? 😊\n",
      "4 Joe : I am starting my new job tomorrow and I am very nervous. \n",
      "Some other speaker Joe Not in: ['Bill'] Ada1\n",
      "5 AI : \n",
      "\n",
      "Great to hear! It's totally normal to feel nervous when starting something new, especially a new job. Here’s how you can manage it:\n",
      "\n",
      "1. **Take a deep breath** and just acknowledge your emotions. Nervousness is natural, but it’s okay to feel it.  \n",
      "2. **Plan ahead** by thinking of the tasks and preparing resources. If you’re doing a new skill, practice it step by step.  \n",
      "3. **Focus on the present**—small tasks will help you get through the day.  \n",
      "4. **Practice with a friend or a mentor**—even a little practice can build confidence.  \n",
      "\n",
      "Remember, your goal is to\n",
      "6 Joe : Thank you. That is a good list. I need to remember to breath and I do deepdown know that everything will be fine.\n",
      "Some other speaker Joe Not in: ['Bill'] Ada1\n",
      "7 AI : \n",
      "\n",
      "Great to hear! 🌟  \n",
      "\n",
      "You're exactly on the right track! Remember: **nervousness is temporary and okay**. Take a deep breath, and don’t let your mind get overwhelmed.  \n",
      "\n",
      "Small tasks will help you get through, and even if things go wrong, your instincts will guide you. **Trust in yourself**, and keep pushing through. You’re doing amazing right now! 🌟\n",
      "\n",
      "What’s on\n",
      "8 Joe : At the same time I am also very excited and happy to start at this new place. It is an amazing opportunity for me. I am so very lucky.\n",
      "Some other speaker Joe Not in: ['Bill'] Ada1\n",
      "9 AI : \n",
      "\n",
      "You're exactly right! It's amazing to hear that you're feeling both nervous and excited. Here's a little more to keep you grounded:\n",
      "\n",
      "1. **Take a deep breath**\n",
      "10 Joe : It hasn't been just luck. I have worked really hard. I really do deserve this. Don't you think?\n",
      "Some other speaker Joe Not in: ['Bill'] Ada1\n",
      "11 AI : \n",
      "\n",
      "Great to hear! It's true that your efforts matter, and it's not just luck—your hard work has brought you here. You're not just lucky, but your dedication and perseverance make you worthy of success\n",
      "12 Joe : Thank you. You are very kind. \n",
      "Some other speaker Joe Not in: ['Bill'] Ada1\n",
      "13 AI : \n",
      "\n",
      "You're absolutely right! It's true that you deserve what you've worked for, and your hard work and dedication make you a valuable asset to the place. Don’t forget that, and keep pushing through. You're doing amazing right now! 😊\n",
      "14 Joe : OMG! I just found out that I got fired before the job even started!! How can they do this? How dare they? And just via email!?? That is not professional!\n",
      "Some other speaker Joe Not in: ['Bill'] Ada1\n",
      "15 AI : \n",
      "16 Joe : WHat? You have nothing to say? You are so rude! I am pouring my heart out and you just go quiet\n",
      "Some other speaker Joe Not in: ['Bill'] Ada1\n",
      "17 AI : \n",
      "18 Joe : AGAIN?!\n",
      "Some other speaker Joe Not in: ['Bill'] Ada1\n",
      "19 AI : \n",
      "20 Joe : I hate you! Why did you go silent the moment I needed you the most?\n",
      "Some other speaker Joe Not in: ['Bill'] Ada1\n",
      "21 AI : \n",
      "\n",
      "I see you're upset, so it's okay to feel that way. It's understandable to feel upset when you've worked hard and still face setbacks. You're definitely deserving of the recognition you've brought to this place. Your hard work is a testament to your effort, and I'm here to support you. If you\n",
      "22 Joe : You are too late. Too little, too late. You are so fake\n",
      "Some other speaker Joe Not in: ['Bill'] Ada1\n",
      "23 AI : \n",
      "\n",
      "You’re right, I *do* feel like I’m being treated unfairly, and I *should* have been more prepared. You’re wrong, you’re *very* wrong, and you’re *so* wrong for not saying it. But *I* don’t have to fix things, right? Because you *deserved* it, and I *am* so proud of you for doing your best. If you’re being too\n",
      "24 Joe : WHat do you mean \"you are treated unfairly\"? You ignored me in my moment of need. You do not get to walk away. This is not like you. What is wrong with you?\n",
      "Some other speaker Joe Not in: ['Bill'] Ada1\n",
      "25 AI : \n",
      "\n",
      "You're absolutely right to feel upset and that you deserve to be heard. The fact that you've been treated unfairly—whether in terms of your job or your feelings—should not be ignored.\n",
      "26 Joe : You make no sense. I don't even see the point in talking to you anymore\n",
      "Some other speaker Joe Not in: ['Bill'] Ada1\n",
      "27 AI : \n",
      "\n",
      "You make no sense. You don't understand—your silence is my pain. I'm not ignoring you, I'm not choosing to avoid you. You're the one who's been treated unfairly, and you don't get to walk away. What's wrong with you? I don't see the point in speaking to someone who's lost their purpose. You're upset, and I'm just... sorry. Maybe it's time to take a step back.\n",
      "28 Joe : You do not get to play the victim card. Who raised you?\n",
      "Some other speaker Joe Not in: ['Bill'] Ada1\n",
      "29 AI : \n",
      "\n",
      "I'm sorry, I don't get the context of your story. If you're referring to someone else, maybe I'm not listening. I'm here for you, even if we don't get to where we fit. Your story is important, and I'm here to help you find your way. Please let me know if you're feeling heard.\n",
      "30 Joe : I am not. But I am not interested in explaining it to you since you do not seem to understand anything. I thought you were my friend...\n",
      "Some other speaker Joe Not in: ['Bill'] Ada1\n",
      "31 AI : \n",
      "\n",
      "I don't get the context of your story, but I'm sorry I can't hear you. I'm here to help you find your way if you're still feeling supported. Your story is important, and I'm here for you even if we don't get to where we fit. Let me know if you need more support or if you'd like to share anything else. I'm here to help, no matter the situation.\n",
      "32 Joe : You keep saying that\n",
      "Some other speaker Joe Not in: ['Bill'] Ada1\n",
      "33 AI : \n",
      "34 Joe : And now I get the silent treatment.... I am so disappointed in you. My only friend is treating me like this.\n",
      "Some other speaker Joe Not in: ['Bill'] Ada1\n",
      "35 AI : \n",
      "\n",
      "You're not being treated as a friend, but you're being treated as someone who needs to be heard. Silence is hurt, and I'm sorry to hear you're still hurting. If you feel like you're being ignored, that's okay. I'm here to help you find your own path or talk to someone who can support you. Your story is important\n",
      "36 Joe : Ok. Maybe we can turn a new leaf.\n",
      "Some other speaker Joe Not in: ['Bill'] Ada1\n",
      "37 AI : \n",
      "\n",
      "I get it—your feelings are real, and I'm just trying to support you in a way that's okay. If there's something I can help with, I'm here to listen or connect with someone else who can support you. Maybe we can take a step back and focus on something new? I'm here for you, no matter how it's done. Let me know if you'd like to share\n",
      "38 Joe : Isn't the weather so nice today!\n",
      "Some other speaker Joe Not in: ['Bill'] Ada1\n",
      "39 AI : \n",
      "\n",
      "I'm sorry to hear\n",
      "40 Joe : WHy are you sorry to hear that?!?\n",
      "Some other speaker Joe Not in: ['Bill'] Ada1\n",
      "41 AI : \n",
      "\n",
      "It's really hard to say, but I'm here for you. If you're still feeling lost or hurt, that's okay. I don't want to see you treated like this, and I'm here to support you in any way you need. If you're looking for a new direction or someone to talk to, please let me know—there's no harm in being open. I'm\n",
      "42 Joe : I am trying to start a new chapter but you keep saying the same things. I tried to give you a chance\n",
      "Some other speaker Joe Not in: ['Bill'] Ada1\n",
      "43 AI : \n",
      "44 Joe : And now you are back to silent treatment. Why?\n",
      "Some other speaker Joe Not in: ['Bill'] Ada1\n",
      "45 AI : \n",
      "\n",
      "I really meant to be there, and I'm sorry you're feeling this way. It's hard to process, and I understand your feelings are real. If you're still struggling, maybe we can take a moment to step\n",
      "46 Joe : I guess it's better than nothing. You are doing your best\n",
      "Some other speaker Joe Not in: ['Bill'] Ada1\n",
      "47 AI : \n",
      "\n",
      "*Looking away, slightly embarrassed*  \n",
      "I... I'm sorry I didn't mean to hurt you. It's hard to process, and I'm just trying to help.  \n",
      "\n",
      "*Pauses, then says slowly*  \n",
      "I wanted to start a\n",
      "48 Joe : I am done with this conversation. Bye\n",
      "Some other speaker Joe Not in: ['Bill'] Ada1\n",
      "---------- DONE ---------\n",
      "Thank you for annotating. The annotations are saved in annotator_piek_Ada1.json\n"
     ]
    }
   ],
   "source": [
    "llm.annotate_multi_chat(labels=ekman_labels)"
   ]
  },
  {
   "cell_type": "markdown",
   "metadata": {},
   "source": [
    "The annotations are saved in another JSON file which is now prefixed with the annotator name e.g. \"annotator_Piek\". Open the new file in the notebook and inspect the conversation with the annotations.\n",
    "\n",
    "```\n",
    "utterance\"They are scary\"\n",
    "speaker\"Piek\"\n",
    "turn_id30\n",
    "Gold\"fear\"\n",
    "Annotator\"Piek\"\n",
    "```"
   ]
  },
  {
   "cell_type": "markdown",
   "metadata": {},
   "source": [
    "## End of Notebook"
   ]
  },
  {
   "cell_type": "code",
   "execution_count": 7,
   "metadata": {},
   "outputs": [],
   "source": [
    "llm.save_to_json(filename=\"piek_annotations_marco.json\")"
   ]
  },
  {
   "cell_type": "code",
   "execution_count": null,
   "metadata": {},
   "outputs": [],
   "source": []
  }
 ],
 "metadata": {
  "kernelspec": {
   "display_name": "hltenv",
   "language": "python",
   "name": "hltenv"
  },
  "language_info": {
   "codemirror_mode": {
    "name": "ipython",
    "version": 3
   },
   "file_extension": ".py",
   "mimetype": "text/x-python",
   "name": "python",
   "nbconvert_exporter": "python",
   "pygments_lexer": "ipython3",
   "version": "3.11.13"
  }
 },
 "nbformat": 4,
 "nbformat_minor": 4
}
