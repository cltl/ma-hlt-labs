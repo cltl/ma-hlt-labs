{
 "cells": [
  {
   "cell_type": "markdown",
   "metadata": {},
   "source": [
    "# Lab4.2 Testing and evaluating an emotion classifier"
   ]
  },
  {
   "cell_type": "markdown",
   "metadata": {},
   "source": [
    "Copyright: Vrije Universiteit Amsterdam, Faculty of Humanities, CLTL"
   ]
  },
  {
   "cell_type": "markdown",
   "metadata": {},
   "source": [
    "We explained in class why researchers create separate train, development (dev) and test splits for their data. This allows researchers to experiment with the training data by testing on the development set but report the final performance on the test set. This is to prevent optimising the paramters on the test set. Other researchers can do the same and the test results can be compared because they are from the same unseen test set.\n",
    "\n",
    "In this notebook **Lab3.2.train-emotion-detection-bow.ipynb** of Lab3, we trained an SVM classifier with the MELD training data. In this notebook, we will load the models again and test and evaluate their performance. For this we will use the test data that is provided by the MELD project.\n",
    "\n",
    "To learn about the properties and quality of a classifier and any other language processing model, we need to analyse:\n",
    "\n",
    "1. The training data it was build from\n",
    "2. The test data it has been tested on\n",
    "3. The performance of the model on the test data\n",
    "4. The confusion among categories in the predications that the model makes\n",
    "\n",
    "We will first analyse the label distribution of both the train and test data. For this we will use visualisations of the data. We next represent the test data according to the vectorizers that were built before and give these to the classifier to make the predictions. We use the sklearn evaluation functions measure the performance against the gold labels for the test set and we generate a confusion matrix to analyse this performance. Fianally, we adjust the distribution in the training data to address data distribution biases."
   ]
  },
  {
   "cell_type": "markdown",
   "metadata": {},
   "source": [
    "## 1. Loading the train and test data"
   ]
  },
  {
   "attachments": {},
   "cell_type": "markdown",
   "metadata": {},
   "source": [
    "We load the data from the  ```Lab3.machine_learning/data/MELD``` folder:\n",
    "\n",
    "* dev_sent_emo.csv\n",
    "* test_sent_emo.csv\n",
    "* train_sent_emo.csv\n",
    "\n",
    "We will load the data from the train and test file in Pandas to analyse the data distribution."
   ]
  },
  {
   "cell_type": "code",
   "execution_count": 2,
   "metadata": {
    "tags": []
   },
   "outputs": [],
   "source": [
    "import pandas as pd"
   ]
  },
  {
   "cell_type": "code",
   "execution_count": 3,
   "metadata": {
    "tags": []
   },
   "outputs": [],
   "source": [
    "filepath = '../Lab3.machine_learning/data/MELD/train_sent_emo.csv'\n",
    "# Create a dataframe object 'dftrain' by readig the file.\n",
    "dftrain = pd.read_csv(filepath)\n",
    "filepath = '../Lab3.machine_learning/data/MELD/test_sent_emo.csv'\n",
    "# Create a dataframe object 'dtest' by readig the file.\n",
    "dftest = pd.read_csv(filepath)"
   ]
  },
  {
   "cell_type": "code",
   "execution_count": 4,
   "metadata": {
    "scrolled": true,
    "tags": []
   },
   "outputs": [
    {
     "name": "stdout",
     "output_type": "stream",
     "text": [
      "<class 'pandas.core.frame.DataFrame'>\n",
      "RangeIndex: 9989 entries, 0 to 9988\n",
      "Data columns (total 11 columns):\n",
      " #   Column        Non-Null Count  Dtype \n",
      "---  ------        --------------  ----- \n",
      " 0   Sr No.        9989 non-null   int64 \n",
      " 1   Utterance     9989 non-null   object\n",
      " 2   Speaker       9989 non-null   object\n",
      " 3   Emotion       9989 non-null   object\n",
      " 4   Sentiment     9989 non-null   object\n",
      " 5   Dialogue_ID   9989 non-null   int64 \n",
      " 6   Utterance_ID  9989 non-null   int64 \n",
      " 7   Season        9989 non-null   int64 \n",
      " 8   Episode       9989 non-null   int64 \n",
      " 9   StartTime     9989 non-null   object\n",
      " 10  EndTime       9989 non-null   object\n",
      "dtypes: int64(5), object(6)\n",
      "memory usage: 858.6+ KB\n"
     ]
    }
   ],
   "source": [
    "dftrain.info()"
   ]
  },
  {
   "cell_type": "code",
   "execution_count": 5,
   "metadata": {
    "tags": []
   },
   "outputs": [
    {
     "name": "stdout",
     "output_type": "stream",
     "text": [
      "<class 'pandas.core.frame.DataFrame'>\n",
      "RangeIndex: 2610 entries, 0 to 2609\n",
      "Data columns (total 11 columns):\n",
      " #   Column        Non-Null Count  Dtype \n",
      "---  ------        --------------  ----- \n",
      " 0   Sr No.        2610 non-null   int64 \n",
      " 1   Utterance     2610 non-null   object\n",
      " 2   Speaker       2610 non-null   object\n",
      " 3   Emotion       2610 non-null   object\n",
      " 4   Sentiment     2610 non-null   object\n",
      " 5   Dialogue_ID   2610 non-null   int64 \n",
      " 6   Utterance_ID  2610 non-null   int64 \n",
      " 7   Season        2610 non-null   int64 \n",
      " 8   Episode       2610 non-null   int64 \n",
      " 9   StartTime     2610 non-null   object\n",
      " 10  EndTime       2610 non-null   object\n",
      "dtypes: int64(5), object(6)\n",
      "memory usage: 224.4+ KB\n"
     ]
    }
   ],
   "source": [
    "dftest.info()"
   ]
  },
  {
   "cell_type": "markdown",
   "metadata": {},
   "source": [
    "## Loading the trained classifier"
   ]
  },
  {
   "cell_type": "code",
   "execution_count": null,
   "metadata": {},
   "outputs": [],
   "source": [
    "# the countvectorizer\n",
    "filename_vectorizer = '../lab3.machine_learning/models/utterance_vectorizer.sav'\n",
    "# the tfidf transformer\n",
    "filename_tfidftransformer = '../lab3.machine_learning/models/utterance_tfidf_transformer.sav'\n",
    "# the classifier to disk\n",
    "filename_classifier = '../lab3.machine_learning/models/svm_linear_clf_bow.sav'\n",
    "\n",
    "# load the classifier and the vectorizer from disk\n",
    "loaded_classifier = pickle.load(open(filename_classifier, 'rb'))\n",
    "loaded_vectorizer = pickle.load(open(filename_vectorizer, 'rb'))\n",
    "loaded_tfidftransformer = pickle.load(open(filename_tfidftransformer, 'rb'))"
   ]
  },
  {
   "cell_type": "markdown",
   "metadata": {},
   "source": [
    "### 4.1 Representing the test text as numerical vectors <a class=\"anchor\" id =\"section4.2\"></a> "
   ]
  },
  {
   "cell_type": "markdown",
   "metadata": {},
   "source": [
    "We presented the training data as Bag-of-Word vectors but now we also need to  fit the test data to this Bag-of-Word model. Note that the representation of the test data needs to be compatible with the training data. To ensure this we use the vectorizer created from the training data to also represent the test data.\n",
    "\n",
    "Instead of *fit_transform*, we need to use the function *transform* from ```utterance_vec```. The *transform* function will represent the text according to the vector model of the training data and ignore all out-of-vocabulary words in the test texts. "
   ]
  },
  {
   "cell_type": "code",
   "execution_count": 45,
   "metadata": {
    "tags": []
   },
   "outputs": [
    {
     "name": "stdout",
     "output_type": "stream",
     "text": [
      "(2610, 1103)\n",
      "Why do all you're coffee mugs have numbers on the bottom?\n",
      "[0 0 0 0 0 0 0 0 0 0 1 0 0 0 0 0 0 0 0 0 0 0 0 0 0 0 0 0 0 0 1 0 0 0 0 0 0\n",
      " 0 0 0 0 0 0 0 0 0 0 0 0 0]\n"
     ]
    }
   ],
   "source": [
    "test_count_vectors = utterance_vec.transform(test_instances)\n",
    "print(test_count_vectors.shape)\n",
    "print(test_instances[0])\n",
    "print(test_count_vectors.toarray()[0][:50])"
   ]
  },
  {
   "cell_type": "markdown",
   "metadata": {},
   "source": [
    "We can see that the test data has vectors of the same length with many zeros and a few positions scored with one. There are as many vectors as test utterances.\n",
    "\n",
    "We can use the same tfidf_transformer we used before to turn the count vectors into weighted vectors:"
   ]
  },
  {
   "cell_type": "code",
   "execution_count": 46,
   "metadata": {
    "tags": []
   },
   "outputs": [],
   "source": [
    "test_tfidf_vectors = tfidf_transformer.transform(test_count_vectors)"
   ]
  },
  {
   "cell_type": "code",
   "execution_count": 47,
   "metadata": {
    "tags": []
   },
   "outputs": [
    {
     "name": "stdout",
     "output_type": "stream",
     "text": [
      "[0.         0.         0.         0.         0.         0.\n",
      " 0.         0.         0.         0.         0.48498825 0.\n",
      " 0.         0.         0.         0.         0.         0.\n",
      " 0.         0.         0.         0.         0.         0.\n",
      " 0.         0.         0.         0.         0.         0.\n",
      " 0.28648314 0.         0.         0.         0.         0.\n",
      " 0.         0.         0.         0.         0.         0.\n",
      " 0.         0.         0.         0.         0.         0.\n",
      " 0.         0.        ]\n"
     ]
    }
   ],
   "source": [
    "print(test_tfidf_vectors.toarray()[0][:50])"
   ]
  },
  {
   "cell_type": "markdown",
   "metadata": {},
   "source": [
    "### 5.1 Evaluating the performance of the classifier on the test data<a class=\"anchor\" id =\"section5.1\"></a> "
   ]
  },
  {
   "cell_type": "markdown",
   "metadata": {},
   "source": [
    "We apply the classifier to the test data to get the predictions. We generate a classification report and a confusion matrix to analyse the performance."
   ]
  },
  {
   "cell_type": "code",
   "execution_count": 49,
   "metadata": {
    "tags": []
   },
   "outputs": [
    {
     "name": "stdout",
     "output_type": "stream",
     "text": [
      "First ten predictions from the SVM classifier ['neutral' 'neutral' 'neutral' 'neutral' 'joy' 'neutral' 'neutral'\n",
      " 'neutral' 'neutral' 'joy']\n"
     ]
    }
   ],
   "source": [
    "# Predicting the Test set results, find macro recall\n",
    "y_pred_svm = svm_linear_clf.predict(test_tfidf_vectors)\n",
    "print('First ten predictions from the SVM classifier', y_pred_svm[0:10])"
   ]
  },
  {
   "cell_type": "code",
   "execution_count": 50,
   "metadata": {
    "tags": []
   },
   "outputs": [
    {
     "name": "stdout",
     "output_type": "stream",
     "text": [
      "BoW TFIDF SVM LINEAR ----------------------------------------------------------------\n",
      "Word frequency threshold 5\n",
      "              precision    recall  f1-score   support\n",
      "\n",
      "       anger  0.4333333 0.1884058 0.2626263       345\n",
      "     disgust  0.2000000 0.0294118 0.0512821        68\n",
      "        fear  0.1666667 0.0200000 0.0357143        50\n",
      "         joy  0.4369159 0.4651741 0.4506024       402\n",
      "     neutral  0.6398104 0.8598726 0.7336957      1256\n",
      "     sadness  0.3389831 0.0961538 0.1498127       208\n",
      "    surprise  0.4869888 0.4661922 0.4763636       281\n",
      "\n",
      "    accuracy                      0.5693487      2610\n",
      "   macro avg  0.3860997 0.3036015 0.3085853      2610\n",
      "weighted avg  0.5203171 0.5693487 0.5224376      2610\n",
      "\n"
     ]
    }
   ],
   "source": [
    "from sklearn.metrics import classification_report\n",
    "report = classification_report(test_labels,y_pred_svm,digits = 7, target_names = svm_linear_clf.classes_)\n",
    "print('BoW TFIDF SVM LINEAR ----------------------------------------------------------------')\n",
    "print('Word frequency threshold', frequency_threshold)\n",
    "\n",
    "print(report)"
   ]
  },
  {
   "cell_type": "markdown",
   "metadata": {},
   "source": [
    "In the classification report we see the precision, recall and f1-score for each label and averaged scores: accuracy, macro avg and weighted (or micro) average. Also note the support column that indicates how many test cases there are in each category and in total. There are a lot more test cases with `neutral` than for the other emotions."
   ]
  },
  {
   "cell_type": "markdown",
   "metadata": {},
   "source": [
    "We can see that the performance varies a lot across the emotions. The results for `neutral` are a lot better in precision and recall than the other emotions: `joy` and `surprise` have reasonable scores but the others have very low recall and `disgust` and `fear` also low precision. Overall macro average f1-score is 0.3 which is lower than the majority baseline of 0.48 when always choosing `neutral`. The weighted f1-score, in which the proportion of test cases per catgory is used to weigh the results, is just above the baseline. The higher support for neutral means it dominates both in the training data and in the test. If we would create a more-balanced test set, the macro-average score is expected to be a lot lower. Can you explain why?"
   ]
  },
  {
   "cell_type": "markdown",
   "metadata": {},
   "source": [
    "Sklearn can also generate a confusion matrix, which indicates which classes are confused with which other classes (false positives). For this we use the function ```metrics.confusion_matrix```. We visualise it using ```ConfusionMatrixDisplay``` that we need to import separately."
   ]
  },
  {
   "cell_type": "code",
   "execution_count": 51,
   "metadata": {
    "tags": []
   },
   "outputs": [
    {
     "name": "stdout",
     "output_type": "stream",
     "text": [
      "Confusion matrix SVM\n",
      "['anger' 'disgust' 'fear' 'joy' 'neutral' 'sadness' 'surprise']\n",
      "[[  65    2    0   78  162    3   35]\n",
      " [   5    2    1    8   42    2    8]\n",
      " [   4    1    1    9   25    4    6]\n",
      " [  20    2    2  187  156    5   30]\n",
      " [  27    3    2   74 1080   20   50]\n",
      " [  16    0    0   27  136   20    9]\n",
      " [  13    0    0   45   87    5  131]]\n"
     ]
    },
    {
     "data": {
      "text/plain": [
       "<sklearn.metrics._plot.confusion_matrix.ConfusionMatrixDisplay at 0x119437430>"
      ]
     },
     "execution_count": 51,
     "metadata": {},
     "output_type": "execute_result"
    },
    {
     "data": {
      "image/png": "[encoded data removed]",
      "text/plain": [
       "<Figure size 640x480 with 2 Axes>"
      ]
     },
     "metadata": {},
     "output_type": "display_data"
    }
   ],
   "source": [
    "from sklearn.metrics import ConfusionMatrixDisplay\n",
    "print('Confusion matrix SVM')\n",
    "print(svm_linear_clf.classes_)\n",
    "cf_matrix_svm = sklearn.metrics.confusion_matrix(test_labels,y_pred_svm)\n",
    "print(cf_matrix_svm)\n",
    "import matplotlib.pyplot as plt\n",
    "display = ConfusionMatrixDisplay(confusion_matrix=cf_matrix_svm, display_labels=svm_linear_clf.classes_)\n",
    "display.plot()"
   ]
  },
  {
   "cell_type": "markdown",
   "metadata": {},
   "source": [
    "The diagonals represent the correctly classified test utterances. All others indicate the confusions, where another class was wrongly assigned. It is clear the neutral column has most results not only for the True label neutral but also the other rows. Besides the dominance of `neutral`, we see that `anger` spills a bit into `joy`, `sadness` and `neutral`. Furthermore, note that `surprise` is confused with both `anger` and `joy`. This makes sense because you can be surprised in a positive and negative way. Think a minute how the sentiment labels in MELD may help here. How would you fix this?  "
   ]
  },
  {
   "cell_type": "markdown",
   "metadata": {},
   "source": [
    "## 3. Visualising the data <a class=\"anchor\" id =\"section3\"></a> "
   ]
  },
  {
   "cell_type": "markdown",
   "metadata": {},
   "source": [
    "There are many ways and packages for visualising data. Data visualisation is important because it may show **biases** or inspire **baseline** approaches. Data **biases** can make your system overfit to certain dominant classes and make it hard to detect rare cases. A **baseline** system is a solid and simple approach against which you want to compare your trained system. Typical baselines are:  assign **random classes** as output or always assign the most dominant **majority class**. Let's see what the majority class is in our data. Don't worry too much understanding the next code as long as you can use it."
   ]
  },
  {
   "cell_type": "markdown",
   "metadata": {},
   "source": [
    "To visualise data distributions, we use the **seaborn** package: https://seaborn.pydata.org/index.html\n",
    "\n",
    "Seaborn can do fancy data visualisations. Checkout the website to learn more.\n",
    "For now, we will use a simple function that you can apply to a column in a Pandas dataframe.\n",
    "\n",
    "If you did not install it yet, you need to install the package. Otherwise, you can skip the next cell."
   ]
  },
  {
   "cell_type": "code",
   "execution_count": 8,
   "metadata": {
    "tags": []
   },
   "outputs": [],
   "source": [
    "#!pip install seaborn"
   ]
  },
  {
   "cell_type": "markdown",
   "metadata": {},
   "source": [
    "If the installation is succesful, we can import it in this notebook as **sns**."
   ]
  },
  {
   "cell_type": "code",
   "execution_count": 9,
   "metadata": {
    "tags": []
   },
   "outputs": [],
   "source": [
    "import seaborn as sns"
   ]
  },
  {
   "cell_type": "markdown",
   "metadata": {},
   "source": [
    "Seaborn can create a figure directly from a column in a Pandas dataframe using the **countplot** function:"
   ]
  },
  {
   "cell_type": "code",
   "execution_count": 10,
   "metadata": {
    "jupyter": {
     "source_hidden": true
    },
    "tags": []
   },
   "outputs": [
    {
     "data": {
      "text/plain": [
       "<Axes: xlabel='Emotion', ylabel='count'>"
      ]
     },
     "execution_count": 10,
     "metadata": {},
     "output_type": "execute_result"
    },
    {
     "data": {
      "image/png": "[encoded data removed]",
      "text/plain": [
       "<Figure size 640x480 with 1 Axes>"
      ]
     },
     "metadata": {},
     "output_type": "display_data"
    }
   ],
   "source": [
    "sns.countplot(x=dftrain['Emotion'])"
   ]
  },
  {
   "cell_type": "markdown",
   "metadata": {},
   "source": [
    "This figure is rather basic. We do not see the totals of each category and need to guess the counts by eye-balling it. We want to get the proportions for these labels."
   ]
  },
  {
   "cell_type": "markdown",
   "metadata": {},
   "source": [
    "To add more information to the figure, we will use another package called **matplotlib**. There are many options and functions you can use to modify and adapt plots using **matplotlib**. We will show only a few here. You can read more about setting parameters for plotting figures here: https://matplotlib.org/stable/tutorials/introductory/customizing.html \n",
    "\n",
    "If not installed, install **matplotlib** in the usual way if you have not done so before. Otherwise, you can skip the next cell."
   ]
  },
  {
   "cell_type": "code",
   "execution_count": 27,
   "metadata": {
    "tags": []
   },
   "outputs": [],
   "source": [
    "#%conda install matplotlib\n",
    "\n",
    "#or\n",
    "\n",
    "#pip install matplotlib"
   ]
  },
  {
   "cell_type": "markdown",
   "metadata": {},
   "source": [
    "After succesful installation, we can import it as 'plt': "
   ]
  },
  {
   "cell_type": "code",
   "execution_count": 11,
   "metadata": {
    "tags": []
   },
   "outputs": [],
   "source": [
    "import matplotlib.pyplot as plt"
   ]
  },
  {
   "cell_type": "markdown",
   "metadata": {},
   "source": [
    "We need some code to first count how frequently emotion labels are assigned and next get their proportional values. First, we can get the counts for the Emotion values from the corresponding Pandas column. For this we use the **Counter** function of Python. This gives a dictionary with the values and their counts. From this dictionary we can get all the keys and values as lists.  The **Counter** class creates a dictionary with the keys in random order. We use another function **OrderedDict** to sort the keys alphabetically."
   ]
  },
  {
   "cell_type": "code",
   "execution_count": 12,
   "metadata": {
    "tags": []
   },
   "outputs": [
    {
     "name": "stdout",
     "output_type": "stream",
     "text": [
      "OrderedDict([('anger', 1109), ('disgust', 271), ('fear', 268), ('joy', 1743), ('neutral', 4710), ('sadness', 683), ('surprise', 1205)])\n",
      "['anger', 'disgust', 'fear', 'joy', 'neutral', 'sadness', 'surprise'] [1109, 271, 268, 1743, 4710, 683, 1205]\n"
     ]
    }
   ],
   "source": [
    "from collections import Counter, OrderedDict\n",
    "counts = Counter(dftrain['Emotion'])\n",
    "counts_sorted = OrderedDict(sorted(counts.items()))\n",
    "print(counts_sorted)\n",
    "labels = list(counts_sorted.keys())\n",
    "values = list(counts_sorted.values())\n",
    "print(labels, values)"
   ]
  },
  {
   "cell_type": "markdown",
   "metadata": {},
   "source": [
    "To make things easier, we defined a function called **plot_labels_with_counts** that takes the labels and values and plots them as bars using **Seaborn** while augmenting the bars with the proportion out of the total. We added this function to the **lab3_util.py** file that you need to import as **util**, so you can call it using **util.plot_labels_with_counts**."
   ]
  },
  {
   "cell_type": "code",
   "execution_count": 13,
   "metadata": {
    "tags": []
   },
   "outputs": [
    {
     "name": "stderr",
     "output_type": "stream",
     "text": [
      "/Users/piek/.pyenv/versions/3.10.11/lib/python3.10/site-packages/seaborn/_core.py:1485: FutureWarning: unique with argument that is not not a Series, Index, ExtensionArray, or np.ndarray is deprecated and will raise in a future version.\n",
      "  order = pd.unique(vector)\n"
     ]
    },
    {
     "data": {
      "image/png": "[encoded data removed]",
      "text/plain": [
       "<Figure size 640x480 with 1 Axes>"
      ]
     },
     "metadata": {},
     "output_type": "display_data"
    }
   ],
   "source": [
    "import lab3_util as util\n",
    "util.plot_labels_with_counts(labels, values)"
   ]
  },
  {
   "cell_type": "markdown",
   "metadata": {},
   "source": [
    "Now, we have the proportions on top of the bars. We clearly see that the emotions are not equally distributed over the utterances. Most utterances are `neutral` (47%) and `fear` and `disgust` are rare. It is important to realize this when training and testing the classifier."
   ]
  },
  {
   "cell_type": "markdown",
   "metadata": {},
   "source": [
    "On the basis of the stats for the emotion values, we can already have expectations for what a machine will learn from this data: **assign the class neutral!**\n",
    "\n",
    "A possible majority class baseline would be to always assign `neutral`. We will try that below."
   ]
  },
  {
   "cell_type": "markdown",
   "metadata": {},
   "source": [
    "Let us see if the test data has a similar distribution:"
   ]
  },
  {
   "cell_type": "code",
   "execution_count": 14,
   "metadata": {
    "tags": []
   },
   "outputs": [
    {
     "name": "stdout",
     "output_type": "stream",
     "text": [
      "OrderedDict([('anger', 345), ('disgust', 68), ('fear', 50), ('joy', 402), ('neutral', 1256), ('sadness', 208), ('surprise', 281)])\n"
     ]
    },
    {
     "name": "stderr",
     "output_type": "stream",
     "text": [
      "/Users/piek/.pyenv/versions/3.10.11/lib/python3.10/site-packages/seaborn/_core.py:1485: FutureWarning: unique with argument that is not not a Series, Index, ExtensionArray, or np.ndarray is deprecated and will raise in a future version.\n",
      "  order = pd.unique(vector)\n"
     ]
    },
    {
     "data": {
      "image/png": "[encoded data removed]",
      "text/plain": [
       "<Figure size 640x480 with 1 Axes>"
      ]
     },
     "metadata": {},
     "output_type": "display_data"
    }
   ],
   "source": [
    "counts = Counter(dftest['Emotion'])\n",
    "counts_sorted = OrderedDict(sorted(counts.items()))\n",
    "print(counts_sorted)\n",
    "labels = list(counts_sorted.keys())\n",
    "values = list(counts_sorted.values())\n",
    "util.plot_labels_with_counts(labels, values)"
   ]
  },
  {
   "cell_type": "markdown",
   "metadata": {},
   "source": [
    "We see that the test data is similar in terms of the distribution of emotions. This means that statistical expectations learned from the training data will be relevant for the test data. A ```neutral``` baseline always assigns the class neutral and will be correct in 48% of the cases.\n",
    "\n",
    "Think about this for a moment. Is this good or bad? For science or for applications?\n",
    "\n",
    "We want to build a model that performs better than this baseline. Anything performing at this level or lower did not learn much or the wrong things.\n",
    "\n",
    "In order to train a model to test against the baseline, we need to get all the utterances and the corresponding labels. For this we need to iterate over the Pandas data frame. The next section shows how we can do that.\n"
   ]
  },
  {
   "cell_type": "markdown",
   "metadata": {},
   "source": [
    "### 5.2 Balancing training data <a class=\"anchor\" id =\"section5.2\"></a> \n",
    "\n",
    "Our system performs just above the baseline of the dominant class *neutral*: .48. What can you do if one class is so dominant?\n",
    "\n",
    "Well, we can simply reduce the training data for the dominant class. The next code iterates over the rows in the dataframe and separately gets the utterance and label. To get the label that goes with the utterance, we need to pass the row index that goes with each utterance in the **iloc** function of the Emotion column. We use a general Python **enumerate** function to simultaneously get the utterance and the row index from the list of utterances in the Utterance column."
   ]
  },
  {
   "cell_type": "code",
   "execution_count": 52,
   "metadata": {
    "tags": []
   },
   "outputs": [],
   "source": [
    "## With sample we define how many training cases we want to skip to select the next training item\n",
    "## If set to 5 we take 1 out of 5\n",
    "sample = 5\n",
    "\n",
    "balanced_training_instances=[]\n",
    "balanced_training_labels=[]\n",
    "\n",
    "cnt_neutral = 0\n",
    "for row_nr, utterance in enumerate(dftrain['Utterance']):\n",
    "    emotion_label = dftrain['Emotion'].iloc[row_nr] # this reads as from the column 'Emotion' take the value from the row located at 'row_nr'\n",
    "    if emotion_label =='neutral':\n",
    "        cnt_neutral += 1\n",
    "        if cnt_neutral % sample == 0:  ### this checks if the count is dividable by the value of sample (no leftover)\n",
    "            balanced_training_instances.append(utterance)\n",
    "            balanced_training_labels.append(emotion_label)\n",
    "    else:\n",
    "        balanced_training_instances.append(utterance)\n",
    "        balanced_training_labels.append(emotion_label)"
   ]
  },
  {
   "cell_type": "code",
   "execution_count": 53,
   "metadata": {
    "tags": []
   },
   "outputs": [
    {
     "name": "stdout",
     "output_type": "stream",
     "text": [
      "<class 'pandas.core.frame.DataFrame'>\n",
      "RangeIndex: 6221 entries, 0 to 6220\n",
      "Data columns (total 1 columns):\n",
      " #   Column   Non-Null Count  Dtype \n",
      "---  ------   --------------  ----- \n",
      " 0   Emotion  6221 non-null   object\n",
      "dtypes: object(1)\n",
      "memory usage: 48.7+ KB\n",
      "None\n",
      "     Emotion\n",
      "0   surprise\n",
      "1    neutral\n",
      "2       fear\n",
      "3    neutral\n",
      "4   surprise\n",
      "5   surprise\n",
      "6    sadness\n",
      "7   surprise\n",
      "8       fear\n",
      "9    neutral\n",
      "10       joy\n",
      "11   sadness\n",
      "12  surprise\n",
      "13   disgust\n",
      "14   sadness\n"
     ]
    }
   ],
   "source": [
    "balanced_df = pd.DataFrame(balanced_training_labels, columns = ['Emotion'])\n",
    "print(balanced_df.info())\n",
    "print(balanced_df.head(15))"
   ]
  },
  {
   "cell_type": "code",
   "execution_count": 54,
   "metadata": {
    "tags": []
   },
   "outputs": [
    {
     "name": "stdout",
     "output_type": "stream",
     "text": [
      "['joy', 'surprise', 'anger', 'neutral', 'sadness', 'disgust', 'fear'] [1743, 1205, 1109, 942, 683, 271, 268]\n"
     ]
    },
    {
     "data": {
      "image/png": "[encoded data removed]",
      "text/plain": [
       "<Figure size 640x480 with 1 Axes>"
      ]
     },
     "metadata": {},
     "output_type": "display_data"
    }
   ],
   "source": [
    "counts = balanced_df.Emotion.value_counts()\n",
    "labels = counts.index.to_list()\n",
    "values = counts.to_list()\n",
    "print(labels, values)\n",
    "util.plot_labels_with_counts(labels, values)"
   ]
  },
  {
   "cell_type": "markdown",
   "metadata": {},
   "source": [
    "Will this work? Figure it out your self by retraining and testing a classifier."
   ]
  },
  {
   "cell_type": "markdown",
   "metadata": {},
   "source": [
    "# End of this notebook"
   ]
  },
  {
   "cell_type": "code",
   "execution_count": null,
   "metadata": {},
   "outputs": [],
   "source": []
  }
 ],
 "metadata": {
  "kernelspec": {
   "display_name": "Python 3",
   "language": "python",
   "name": "python3"
  },
  "language_info": {
   "codemirror_mode": {
    "name": "ipython",
    "version": 3
   },
   "file_extension": ".py",
   "mimetype": "text/x-python",
   "name": "python",
   "nbconvert_exporter": "python",
   "pygments_lexer": "ipython3",
   "version": "3.10.11"
  }
 },
 "nbformat": 4,
 "nbformat_minor": 4
}
