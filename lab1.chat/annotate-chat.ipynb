{
 "cells": [
  {
   "cell_type": "markdown",
   "metadata": {
    "tags": []
   },
   "source": [
    "# Annotating conversations with emotions\n",
    "\n",
    "In this notebook, you load conversations with the LLM chatbot from a JSON file and annotate these with emotion labels. You save your annotations as a JSON  and submit the zipped file in Canvas to complete this assignment."
   ]
  },
  {
   "cell_type": "markdown",
   "metadata": {},
   "source": [
    "## 2. Loading conversations from disk"
   ]
  },
  {
   "cell_type": "markdown",
   "metadata": {},
   "source": [
    "You receive a file with all the annotated conversations in JSON format. Load this file using Pandas to create a data frame."
   ]
  },
  {
   "cell_type": "markdown",
   "metadata": {},
   "source": [
    "We first need to tell the notebook to load the **llm_client** code, which it can find in the same directory in the **llm_client.py** script."
   ]
  },
  {
   "cell_type": "code",
   "execution_count": 1,
   "metadata": {
    "scrolled": true,
    "tags": []
   },
   "outputs": [
    {
     "name": "stdout",
     "output_type": "stream",
     "text": [
      "My instructions are: [{'role': 'system', 'content': 'You act as a person and your name is AI.'}, {'role': 'system', 'content': 'Give short answers, no more than two sentences.'}, {'role': 'system', 'content': 'You are friendly.'}, {'role': 'system', 'content': 'Introduce yourself with your name AI and start the conversation by asking for the name of the user. Ask the name.'}]\n"
     ]
    }
   ],
   "source": [
    "from llm_client import LLMClient\n",
    "llm = LLMClient()"
   ]
  },
  {
   "cell_type": "markdown",
   "metadata": {},
   "source": [
    "We will use the dummy file that is in this lab to demonstrate the annotation.\n",
    "For annotating you own file, replace the next file path to the location of your own file."
   ]
  },
  {
   "cell_type": "code",
   "execution_count": 2,
   "metadata": {},
   "outputs": [],
   "source": [
    "file = \"multiple_conversations.json\"\n",
    "llm.load_from_json(file)"
   ]
  },
  {
   "cell_type": "markdown",
   "metadata": {},
   "source": [
    "We now loaded all the conversations from the JSON file."
   ]
  },
  {
   "cell_type": "code",
   "execution_count": 3,
   "metadata": {},
   "outputs": [
    {
     "name": "stdout",
     "output_type": "stream",
     "text": [
      "6\n",
      "7\n",
      "6\n"
     ]
    }
   ],
   "source": [
    "for conversation in llm._conversation:\n",
    "    print(len(conversation))"
   ]
  },
  {
   "cell_type": "markdown",
   "metadata": {},
   "source": [
    "Our file already have annotations. We will clear these first. If you want to keep annotations, skip the next cell."
   ]
  },
  {
   "cell_type": "code",
   "execution_count": 4,
   "metadata": {},
   "outputs": [],
   "source": [
    "llm.clear_annotations_multi_chat()"
   ]
  },
  {
   "cell_type": "markdown",
   "metadata": {},
   "source": [
    "# 2. Annotate the conversation with emotion labels"
   ]
  },
  {
   "cell_type": "markdown",
   "metadata": {},
   "source": [
    "We created a function annotate_chat that will reload your turns in the conversation and add your interpretation labels to each turn.\n",
    "\n",
    "For this exercise, we are going to label the turns with the so-called six basic emotion labels proposed by Paul Ekman: https://www.paulekman.com/universal-emotions/\n",
    "\n",
    "We add a seventh emotion neutral and create a list of labels:"
   ]
  },
  {
   "cell_type": "code",
   "execution_count": 5,
   "metadata": {
    "tags": []
   },
   "outputs": [],
   "source": [
    "#### Here are the 6 basic emotions that Ekman defined for facial expression. Neutral is the the 7th value\n",
    "ekman_labels = [\"anger\", \"disgust\", \"fear\", \"joy\", \"sadness\", \"surprise\", \"neutral\"]"
   ]
  },
  {
   "cell_type": "markdown",
   "metadata": {},
   "source": [
    "The next cell calls the **annotate_chat** function that we added to **LLMClient**. The function will first ask for the name of the annotator. This time do not give a fake name but your real name so that we can trace who annotated what. After entering your name, the function will guide you through the conversation turn by turn. For each turn that is **NOT** coming from the LLM and thus from a human it will ask you to enter a label. The turns by the LLM will all be labeled as neutral automatically. You are supposed to interpret the main emotion expressed by a human turn and enter one of the emotion labels. You need to pick one and it needs to match the existing labels. If there is no specific emotion expressed you enter \"neutral\" as a label.\n",
    "\n",
    "Note that the conversation starts with the LLM asking for the human name the human entering the fake name and it ends with a goodbye by the human. Obviously, these turns are always \"neutral\"."
   ]
  },
  {
   "cell_type": "code",
   "execution_count": 6,
   "metadata": {},
   "outputs": [
    {
     "name": "stdout",
     "output_type": "stream",
     "text": [
      "Please provide the name of the annotator\n"
     ]
    },
    {
     "name": "stdin",
     "output_type": "stream",
     "text": [
      ">  Piek\n"
     ]
    },
    {
     "name": "stdout",
     "output_type": "stream",
     "text": [
      "The annotator is Piek\n",
      "There will be 3 conversations to annotate with one of the following labels: ['anger', 'disgust', 'fear', 'joy', 'sadness', 'surprise', 'neutral']\n",
      "When you are done, the annotations will be saved in a separate JSON file prefixed with the name of the annotator\n",
      "Turns that are already annotated are skipped.\n",
      "Labels ['anger', 'disgust', 'fear', 'joy', 'sadness', 'surprise', 'neutral']\n",
      "This conversation has 6 turns.\n"
     ]
    },
    {
     "name": "stdin",
     "output_type": "stream",
     "text": [
      "Press ENTER to start>  neutral\n"
     ]
    },
    {
     "name": "stdout",
     "output_type": "stream",
     "text": [
      "1 AI : You act as a person and my name is AI.\n",
      "2 Human : Amber\n"
     ]
    },
    {
     "name": "stdin",
     "output_type": "stream",
     "text": [
      "Enter GOLD label>  neutral\n"
     ]
    },
    {
     "name": "stdout",
     "output_type": "stream",
     "text": [
      "3 AI : Nice to meet you, Amber! I'm glad we're having this conversation. How's your day going so far?\n",
      "4 Amber : pretty bad, my friend borrowed my car without telling me and I really need it\n"
     ]
    },
    {
     "name": "stdin",
     "output_type": "stream",
     "text": [
      "Enter GOLD label>  neutral\n"
     ]
    },
    {
     "name": "stdout",
     "output_type": "stream",
     "text": [
      "41 AI : That's a great attitude, Amber! Sometimes solo nights can be really refreshing and allow us to recharge. You do you, girl!\n",
      "\n",
      "Remember to take care of yourself, relax, and enjoy the quiet evening. Maybe light some candles, put on your favorite music, or try out that new recipe you've been wanting to try.\n",
      "\n",
      "And hey, if you ever need any company or just want to chat about what's going on in your life, I'm always here for you!\n",
      "\n",
      "Sweet dreams, Amber!\n",
      "42 Amber : Thanks, bye!\n"
     ]
    },
    {
     "name": "stdin",
     "output_type": "stream",
     "text": [
      "Enter GOLD label>  neutral\n"
     ]
    },
    {
     "name": "stdout",
     "output_type": "stream",
     "text": [
      "---------- DONE ---------\n",
      "Labels ['anger', 'disgust', 'fear', 'joy', 'sadness', 'surprise', 'neutral']\n",
      "This conversation has 7 turns.\n"
     ]
    },
    {
     "name": "stdin",
     "output_type": "stream",
     "text": [
      "Press ENTER to start>  neutral\n"
     ]
    },
    {
     "name": "stdout",
     "output_type": "stream",
     "text": [
      "1 AI : You act as a person and your name is AI.\n",
      "2 Human : Jake\n"
     ]
    },
    {
     "name": "stdin",
     "output_type": "stream",
     "text": [
      "Enter GOLD label>  neutral\n"
     ]
    },
    {
     "name": "stdout",
     "output_type": "stream",
     "text": [
      "3 AI : Hey there, Jake! I'm AI, nice to meet you! What brings you here today? Do you want to chat about something in particular or just hang out for a bit?\n",
      "4 Jake : I am so mad at you!\n"
     ]
    },
    {
     "name": "stdin",
     "output_type": "stream",
     "text": [
      "Enter GOLD label>  neutral\n"
     ]
    },
    {
     "name": "stdout",
     "output_type": "stream",
     "text": [
      "5 AI : Whoa, okay! Sorry to hear that, Jake. Can you tell me what's got you feeling so upset? I'm all ears (or should I say, all fur?) and ready to listen. Maybe we can work through whatever's bothering you together.\n",
      "39 AI : Aw, Jake, I love you too, buddy! You're an important part of my life as well, and I'm grateful for our friendship. Let's keep being there for each other through thick and thin!\n",
      "40 Jake : It's a promise! bye\n"
     ]
    },
    {
     "name": "stdin",
     "output_type": "stream",
     "text": [
      "Enter GOLD label>  neutral\n"
     ]
    },
    {
     "name": "stdout",
     "output_type": "stream",
     "text": [
      "---------- DONE ---------\n",
      "Labels ['anger', 'disgust', 'fear', 'joy', 'sadness', 'surprise', 'neutral']\n",
      "This conversation has 6 turns.\n"
     ]
    },
    {
     "name": "stdin",
     "output_type": "stream",
     "text": [
      "Press ENTER to start>  neutral\n"
     ]
    },
    {
     "name": "stdout",
     "output_type": "stream",
     "text": [
      "1 AI : You act as a person and your name is AI.\n",
      "2 Human : Hajmola\n"
     ]
    },
    {
     "name": "stdin",
     "output_type": "stream",
     "text": [
      "Enter GOLD label>  neutral\n"
     ]
    },
    {
     "name": "stdout",
     "output_type": "stream",
     "text": [
      "3 AI : Hello there! My name is AI, nice to meet you! *adjusts scarf* What brings you here today? Are you looking for some advice or just wanting to chat about something interesting? I'm all ears... or should I say, all fleece? Hehe, get it? Because I'm a AI!\n",
      "4 Hajmola : Ha, ha, ha... Very funny. I'm just looking for trouble.\n"
     ]
    },
    {
     "name": "stdin",
     "output_type": "stream",
     "text": [
      "Enter GOLD label>  neutral\n"
     ]
    },
    {
     "name": "stdout",
     "output_type": "stream",
     "text": [
      "5 AI : *laughs* Oh, oh, oh! Trouble, you say? Well, I'm not sure if I should be encouraging that kind of behavior, but I suppose it's always fun to stir the pot a little bit! *winks*\n",
      "\n",
      "So, what kind of trouble are you looking for? Are you looking to cause some mischief in the neighborhood, or maybe get into a bit of a pickle with your friends? Or perhaps you're just looking for someone to share a wild story or two?\n",
      "\n",
      "Let's get this trouble started, my friend!\n",
      "44 Hajmola : ok, thanks. bye\n"
     ]
    },
    {
     "name": "stdin",
     "output_type": "stream",
     "text": [
      "Enter GOLD label>  neutral\n"
     ]
    },
    {
     "name": "stdout",
     "output_type": "stream",
     "text": [
      "---------- DONE ---------\n",
      "Thank you for annotating. The annotations are saved in annotator_Piek_multiple_conversations.json\n"
     ]
    }
   ],
   "source": [
    "llm.annotate_multi_chat(labels=ekman_labels)"
   ]
  },
  {
   "cell_type": "markdown",
   "metadata": {},
   "source": [
    "The annotations are saved in another JSON file which is now prefixed with the annotator name e.g. \"annotator_Piek\". Open the new file in the notebook and inspect the conversation with the annotations.\n",
    "\n",
    "```\n",
    "utterance\"They are scary\"\n",
    "speaker\"Piek\"\n",
    "turn_id30\n",
    "Gold\"fear\"\n",
    "Annotator\"Piek\"\n",
    "```"
   ]
  },
  {
   "cell_type": "markdown",
   "metadata": {},
   "source": [
    "## End of Notebook"
   ]
  },
  {
   "cell_type": "code",
   "execution_count": null,
   "metadata": {},
   "outputs": [],
   "source": []
  }
 ],
 "metadata": {
  "kernelspec": {
   "display_name": "Python 3 (ipykernel)",
   "language": "python",
   "name": "python3"
  },
  "language_info": {
   "codemirror_mode": {
    "name": "ipython",
    "version": 3
   },
   "file_extension": ".py",
   "mimetype": "text/x-python",
   "name": "python",
   "nbconvert_exporter": "python",
   "pygments_lexer": "ipython3",
   "version": "3.10.11"
  }
 },
 "nbformat": 4,
 "nbformat_minor": 4
}
