{
 "cells": [
  {
   "cell_type": "markdown",
   "metadata": {},
   "source": [
    "# Lab2.5: Using the Natural Language Toolkit (NLTK) to create concordances for polysemous words"
   ]
  },
  {
   "cell_type": "markdown",
   "metadata": {},
   "source": [
    "Concordancers are powerful tools that show patterns and structures in languages centered around words. In this lab session, you learn how to create a concordance or Key Word In Context (KWIC).\n",
    "\n",
    "The goals of this notebook are:\n",
    "\n",
    "* demonstrate how different meanings of words are reflected by their contexts\n",
    "* how to process a series of text files with the NLTK toolkit\n",
    "* how to build a concordance or KWIC (Key Word In Context) index using NLTK\n"
   ]
  },
  {
   "cell_type": "markdown",
   "metadata": {},
   "source": [
    "## Loading the text content from a number of files in a folder"
   ]
  },
  {
   "cell_type": "markdown",
   "metadata": {},
   "source": [
    "We are going to build a corpus with texts in two different domains to obtain the concordances of the word *mouse*. We collected 5 texts that contain the word *mouse* in a computer domain and 5 texts in an animal domain. These texts are in this Github.\n",
    "\n",
    "\n",
    "In order to load data, it is good to know where you are running this notebook and what the path is to your data. For this we use the folowing code:"
   ]
  },
  {
   "cell_type": "code",
   "execution_count": 1,
   "metadata": {},
   "outputs": [
    {
     "data": {
      "text/plain": [
       "'/Users/piek/Downloads/ma-hlt-labs/lab2.word_meaning'"
      ]
     },
     "execution_count": 1,
     "metadata": {},
     "output_type": "execute_result"
    }
   ],
   "source": [
    "import os\n",
    "os.getcwd()"
   ]
  },
  {
   "cell_type": "markdown",
   "metadata": {},
   "source": [
    "This should show the full path of where this notebook resides on your disk."
   ]
  },
  {
   "cell_type": "markdown",
   "metadata": {},
   "source": [
    "Now we can specifiy the path to our folder 'mouse_texts' with mouse text data and load it in our program."
   ]
  },
  {
   "cell_type": "code",
   "execution_count": 2,
   "metadata": {},
   "outputs": [
    {
     "name": "stdout",
     "output_type": "stream",
     "text": [
      "/Users/piek/Downloads/ma-hlt-labs/lab2.word_meaning/mouse_texts\n",
      "<generator object Path.iterdir at 0x7fe5701e2b30>\n",
      "comp_mouse3.txt\n",
      "comp_mouse2.txt\n",
      "comp_mouse1.txt\n",
      "comp_mouse5.txt\n",
      "comp_mouse4.txt\n",
      "animal_mouse3.txt\n",
      "animal_mouse2.txt\n",
      "animal_mouse1.txt\n",
      "animal_mouse5.txt\n",
      "animal_mouse4.txt\n"
     ]
    }
   ],
   "source": [
    "from pathlib import Path\n",
    "\n",
    "# The path to the folder with the text files. \n",
    "# Here I use a relative path from where I run the notebook\n",
    "# Adapt the path accordingly to where your data is and/or where you run your notebook\n",
    "# You can also specify the absolute path\n",
    "\n",
    "mousepath = Path(os.getcwd()+'/mouse_texts')\n",
    "print(mousepath)\n",
    "files_in_mousepath = mousepath.iterdir()\n",
    "print(files_in_mousepath)\n",
    "for item in files_in_mousepath:\n",
    "    if item.is_file():  # check of the item is not a subdirectory!!\n",
    "        print(item.name)"
   ]
  },
  {
   "cell_type": "markdown",
   "metadata": {},
   "source": [
    "In the next cell, we iterate over all the files in the folder and read these one by one. If the filename starts with \"animal_\", we add the text to the 'animal_corpus'. If it starts with the filename 'computer_' it goes to the 'computer_corpus'. All other files are ignored."
   ]
  },
  {
   "cell_type": "code",
   "execution_count": 3,
   "metadata": {},
   "outputs": [
    {
     "name": "stdout",
     "output_type": "stream",
     "text": [
      "animal_corpus: 1985\n",
      "computer_corpus: 2990\n"
     ]
    }
   ],
   "source": [
    "animal_corpus = \"\"\n",
    "computer_corpus = \"\"\n",
    "files_in_mousepath = mousepath.iterdir()\n",
    "for item in files_in_mousepath:\n",
    "    if item.is_file():  # check of the item is not a subdirectory!!\n",
    "        \n",
    "        with open(item) as infile:\n",
    "            if item.name.startswith(\"animal_\"):\n",
    "                animal_corpus += infile.read()\n",
    "            elif item.name.startswith(\"comp_\"):\n",
    "                computer_corpus += infile.read()\n",
    "\n",
    " \n",
    "print('animal_corpus:', len(animal_corpus))\n",
    "print('computer_corpus:', len(computer_corpus))"
   ]
  },
  {
   "cell_type": "markdown",
   "metadata": {},
   "source": [
    "If you carried out the instructions correctly, the variables \"animal_corpus\" and \"computer_corpus\" now contain the concatenated content of all files with a single meaning of the word \"mouse\"."
   ]
  },
  {
   "cell_type": "markdown",
   "metadata": {},
   "source": [
    "Note that it is not so difficult to imagine that you can divide texts from two domains over two different folders and read all text from each folder into a different variable. You can easily create your own corpus in this way."
   ]
  },
  {
   "cell_type": "markdown",
   "metadata": {},
   "source": [
    "### Get the separate word tokens from the content"
   ]
  },
  {
   "cell_type": "code",
   "execution_count": 5,
   "metadata": {},
   "outputs": [],
   "source": [
    "import nltk\n",
    "animal_tokens=nltk.word_tokenize(animal_corpus)\n",
    "computer_tokens=nltk.word_tokenize(computer_corpus)"
   ]
  },
  {
   "cell_type": "markdown",
   "metadata": {},
   "source": [
    "The tokenize function takes a full text as input as a string and splits the words using spaces and punctuation. Note that we did not split the text into sentence this time. This is because we want to create concordances that can exceed sentence borders.\n",
    "\n",
    "Tokenization is not trivial but essential to do anything with a text. To see what the function generates we use the following command to show the first ten tokens from the list of tokens."
   ]
  },
  {
   "cell_type": "code",
   "execution_count": 6,
   "metadata": {},
   "outputs": [
    {
     "name": "stdout",
     "output_type": "stream",
     "text": [
      "['Mouse', ',', '(', 'genus', 'Mus', ')', ',', 'the', 'common', 'name']\n",
      "['Some', 'tablet', 'and', 'laptop', 'manufacturers', 'may', 'say', 'that', 'the', 'best']\n"
     ]
    }
   ],
   "source": [
    "print(animal_tokens[:10])\n",
    "print(computer_tokens[:10])"
   ]
  },
  {
   "cell_type": "markdown",
   "metadata": {},
   "source": [
    "NLTK has specific function to process and analyse a text. To use these functions it is necessary to create  a NLTK text object from a list of tokens. We do that as follows:"
   ]
  },
  {
   "cell_type": "code",
   "execution_count": 7,
   "metadata": {},
   "outputs": [],
   "source": [
    "animal_text_object=nltk.Text(animal_tokens)\n",
    "computer_text_object=nltk.Text(computer_tokens)"
   ]
  },
  {
   "cell_type": "markdown",
   "metadata": {},
   "source": [
    "Try out \"text_object.\" and TAB to see what functions are available. Use the NLTK book to learn more: http://www.nltk.org/book/ch01.html. \n",
    "\n",
    "* text_object.collocations()\n",
    "* lexicon=text_object.vocab()\n",
    "* lexicon.keys()\n",
    "* lexicon.items()\n",
    "\n",
    "One of these function is the concordance function, which is what we are going to use next."
   ]
  },
  {
   "cell_type": "markdown",
   "metadata": {},
   "source": [
    "### Call the NLTK concordance function"
   ]
  },
  {
   "cell_type": "markdown",
   "metadata": {},
   "source": [
    "The concordance function takes a word as input to create the concordance surrounding this word based on the text. We are going to use the word 'mouse'"
   ]
  },
  {
   "cell_type": "code",
   "execution_count": 8,
   "metadata": {},
   "outputs": [
    {
     "name": "stdout",
     "output_type": "stream",
     "text": [
      "Displaying 8 of 8 matches:\n",
      " Mouse , ( genus Mus ) , the common name ge\n",
      "s ) long . In a scientific context , mouse refers to any of the 38 species in t\n",
      "us Mus , which is the Latin word for mouse . The house mouse ( Mus musculus ) ,\n",
      "the Latin word for mouse . The house mouse ( Mus musculus ) , native to Central\n",
      " . Their research was conducted in a mouse model of the disease.A mouse , plura\n",
      "ed in a mouse model of the disease.A mouse , plural mice , is a small rodent ch\n",
      " high breeding rate . The best known mouse species is the common house mouse ( \n",
      "wn mouse species is the common house mouse ( Mus musculus ) . It is also a popu\n"
     ]
    }
   ],
   "source": [
    "animal_text_object.concordance('mouse')"
   ]
  },
  {
   "cell_type": "markdown",
   "metadata": {},
   "source": [
    "As shown in the instructions of http://www.nltk.org/book/ch01.html the concordance function shows the lines from the text in which the target word occures with the left and right context. By centralizing the text around the target word a nice overview is obtained of the contexts."
   ]
  },
  {
   "cell_type": "code",
   "execution_count": 9,
   "metadata": {},
   "outputs": [
    {
     "name": "stdout",
     "output_type": "stream",
     "text": [
      "Displaying 15 of 15 matches:\n",
      " manufacturers may say that the best mouse is a finger tap , but we just don ’ \n",
      "There ’ s nothing quite like using a mouse to navigate your PC . No matter whet\n",
      "r as unruly as you prefer.A computer mouse is a handheld hardware input device \n",
      "olders . For desktop computers , the mouse is placed on a flat surface such as \n",
      "s placed on a flat surface such as a mouse pad or a desk and is placed in front\n",
      " is an example of a desktop computer mouse with two buttons and a wheel.A compu\n",
      "h two buttons and a wheel.A computer mouse is a hand-held pointing device that \n",
      " The first public demonstration of a mouse controlling a computer system was in\n",
      "itive games . The new Logitech G Pro mouse retains most of the design cues of t\n",
      "able ) , which is really light for a mouse . To put it into context , the Steel\n",
      "woops around the bottom curve of the mouse , and the the Logitech G logo still \n",
      "lights up , as well.With Apple Magic Mouse 2 Space Gray you swipe through web p\n",
      "multi-touch surface you control this mouse just like your smartphone . Those wh\n",
      "e precision of a laser . Apple Magic Mouse 2 works smoothly on any surface . An\n",
      " rechargeable battery and you have a mouse that you can benefit from for years \n"
     ]
    }
   ],
   "source": [
    "computer_text_object.concordance('mouse')"
   ]
  },
  {
   "cell_type": "markdown",
   "metadata": {},
   "source": [
    "Concordances show how we use words in different contexts. By dividing the text a priori on the basis of different contexts, we can now see how the same word *mouse* exhibits different meanings in different contexts."
   ]
  },
  {
   "cell_type": "markdown",
   "metadata": {},
   "source": [
    "# End of this Notebook"
   ]
  },
  {
   "cell_type": "code",
   "execution_count": null,
   "metadata": {},
   "outputs": [],
   "source": []
  }
 ],
 "metadata": {
  "kernelspec": {
   "display_name": "Python 3",
   "language": "python",
   "name": "python3"
  },
  "language_info": {
   "codemirror_mode": {
    "name": "ipython",
    "version": 3
   },
   "file_extension": ".py",
   "mimetype": "text/x-python",
   "name": "python",
   "nbconvert_exporter": "python",
   "pygments_lexer": "ipython3",
   "version": "3.9.7"
  }
 },
 "nbformat": 4,
 "nbformat_minor": 4
}
