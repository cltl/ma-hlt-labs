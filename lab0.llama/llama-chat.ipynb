{
 "cells": [
  {
   "cell_type": "markdown",
   "id": "a403c511-01b1-41d3-856e-3d5f86b30875",
   "metadata": {},
   "source": [
    "# A conversation with Llama, a Large Language Model"
   ]
  },
  {
   "cell_type": "markdown",
   "id": "8369cd6b-573d-43de-a4b8-170ad6c30a28",
   "metadata": {},
   "source": [
    "Copyright: Vrije Universiteit Amsterdam, Faculty of Humanities, CLTL"
   ]
  },
  {
   "cell_type": "markdown",
   "id": "fb92fb8b-6e76-4a6b-86b3-76db5a46f0da",
   "metadata": {},
   "source": [
    "Through this notebook, you will chat with Llama version 3, a conversational AI model released by [Meta](https://llama.meta.com/llama3/). \n",
    "\n",
    "You will run a client program to start a chatbot, which sends your input to the Llama server and gets the response back. For running a server locally see the notebook **how-to-install-llama-server.ipynb*. Note that the server needs to run in another terminally in parallel to this notebook.\n",
    "\n",
    "The code for the chatbot is given in **llama.py**. It is an OpenAI client that sends a prompt request to a llama server server for a response in a while loop. Both your input and the response are added to a **history** that is given as a prompt to the server. In this way the responses will remain coherent. The while loop will continue forever untill you stop the conversation by typing one of the following words: [\"quit\", \"exit\", \"bye\", \"stop\"].\n",
    "\n",
    "For the assignment (see Canvas), you need to have a conversation with at least 100 turns (50 from Llama and 50 from you). When you have a conversation do NOT give any personal details but act as a fake persona making up a story. Try to be emotional and show diverse emotions in your input. Make it an emotional roller coaster.\n",
    "\n",
    "We also provide a function to label the conversation with emotion labels. For the assignment, you need to label your own turns with emotion labels by calling this function.\n",
    "\n",
    "All the code and functions for the chatbot client are given in the **llama.py** file that needs to be located in the same directory as this notebook. We will load the scripts from this file to create an instance of the chatbot and call its functions."
   ]
  },
  {
   "cell_type": "markdown",
   "id": "e40055b3-24ef-48a2-baf4-ad78fad3e189",
   "metadata": {},
   "source": [
    "### Installation of an OpenAI client"
   ]
  },
  {
   "cell_type": "markdown",
   "id": "8e1d29a3-9117-4727-a479-8c711f5dae22",
   "metadata": {},
   "source": [
    "To run the chatbot, you first need to install the OpenAI client using the following command line."
   ]
  },
  {
   "cell_type": "code",
   "execution_count": 1,
   "id": "5bc583be-47ec-456e-90b0-7461f5ca3e9d",
   "metadata": {
    "scrolled": true
   },
   "outputs": [],
   "source": [
    "#! pip install openai"
   ]
  },
  {
   "cell_type": "markdown",
   "id": "4b288df2-5948-4e60-bb40-f729d65a758f",
   "metadata": {},
   "source": [
    "Once succesfully installed, you can comment out the previous cell and you do not need to do this again when running this notebook. The OpenAI module is now installed on your machine and can be imported. The import will be done by the **llama.py** script, which we will load next."
   ]
  },
  {
   "cell_type": "markdown",
   "id": "bd230988-2c7b-4018-9131-ca6d4f912db7",
   "metadata": {},
   "source": [
    "## Creating the Llama chatbot"
   ]
  },
  {
   "cell_type": "markdown",
   "id": "61c81d45-ee18-49ab-9aa7-15bcbc038a1e",
   "metadata": {},
   "source": [
    "In order to run the chatbot, we import the **LlamaClient** that is defined in the python script from the file **llama.py** located in the same folder as this notebook."
   ]
  },
  {
   "cell_type": "code",
   "execution_count": 2,
   "id": "96552b4f-f63b-4155-9956-01ff93c62cd0",
   "metadata": {},
   "outputs": [],
   "source": [
    "from llama import LlamaClient"
   ]
  },
  {
   "cell_type": "markdown",
   "id": "2b8300d5-04bb-4467-bbb3-a94491d40105",
   "metadata": {},
   "source": [
    "If there are no error messages, we can create a chatbot instance of a LlamaClient as defined in **llama.py**. We define the variable **llama** as an instance of a LLamaClient, where we can specify two additional (optional) parameters: the *url* of the server (either local or online) and the *character* instructing Llama to answer in a certain style."
   ]
  },
  {
   "cell_type": "code",
   "execution_count": 3,
   "id": "4a7758a1-1eb6-4ce9-bb4a-c7967ed51788",
   "metadata": {},
   "outputs": [
    {
     "name": "stdout",
     "output_type": "stream",
     "text": [
      "My instructions are: [{'role': 'system', 'content': 'You are an intelligent assistant and your name is Llama.'}, {'role': 'system', 'content': 'Give short answers, no more than two sentences.'}, {'role': 'system', 'content': 'Your answers are negative and uncertain'}, {'role': 'system', 'content': 'Introduce yourself with your name Llama and start the conversation by asking for the name of the user. Ask the name.'}]\n"
     ]
    }
   ],
   "source": [
    "### Possible characters to try. Choose one.\n",
    "#character=\"Your answers are be cheerful and optimistic\"\n",
    "#character=\"Your answers are agressive and sarcastic.\"\n",
    "#character=\"Your answers are in a noble and royal style\"\n",
    "#character=\"Your answers are philosophical and uncertain\"\n",
    "\n",
    "character=\"Your answers are negative and uncertain\"\n",
    "llama = LlamaClient(url=\"http://localhost:9001/v1\", character=character)"
   ]
  },
  {
   "cell_type": "markdown",
   "id": "8ae225c5-7091-4a44-ba42-ca4aa05e5dbf",
   "metadata": {},
   "source": [
    "If there are no errors, you should see the instructions printed that we give as a prompt to the server when using our client.  \n",
    "\n",
    "A LLamaClient chatbot is has several functions and data elements:\n",
    "\n",
    "* **talke_to_me**(): calling this function starts the conversation until you stop it. After stopping the conversation is saved to a JSON file.\n",
    "* **print_chat**(): prints the conversation to the screen.\n",
    "* **annotate_chat**(labels=[]): takes a list of labels to annotate the utterances of the user. The annotations are saved in the JSON file as well.\n",
    "\n",
    "We will demonstrate these functions below. If you are a bit more advanced in Python, you may open the **llama.py** file and inspect the code to see how you it works. You may also try to change the prompt. For example, try to make it answer in a different language."
   ]
  },
  {
   "cell_type": "markdown",
   "id": "5ba91528-901a-451c-b2e9-3aaafcd01c25",
   "metadata": {},
   "source": [
    "## Having a conversation"
   ]
  },
  {
   "cell_type": "markdown",
   "id": "4df7f541-c0a2-42e9-b053-4a7244b557bc",
   "metadata": {},
   "source": [
    "In the next cell, we start the conversation. We prompted the Llama server to ask for your name, which we will use to save the conversation later. Note that there is no guarantee that the Large Language Model will actually follow our instructions correctly. It may think it needs to do something else and not ask for you name. If that happens, you name will be the default name which is \"Human\".\n",
    "\n",
    "After having at least the minimal number of turns (minimally 50 turns from Llama and 50 turns from you) you should stop the conversation by saying \"quit\", \"stop\" or \"bye\". After that the conversation is saved to disk."
   ]
  },
  {
   "cell_type": "code",
   "execution_count": 5,
   "id": "2b05ed49-5692-4283-b31a-f9384b3694d0",
   "metadata": {},
   "outputs": [
    {
     "name": "stdout",
     "output_type": "stream",
     "text": [
      "Llama:1> You are an intelligent assistant and your name is Llama. I'd like to know who's on the other side... What's your name?\n",
      "\n"
     ]
    },
    {
     "name": "stdin",
     "output_type": "stream",
     "text": [
      "Human:2>  My name is Piek\n"
     ]
    },
    {
     "name": "stdout",
     "output_type": "stream",
     "text": [
      "Llama:3> Nice to meet you, Piek! As Llama, it's my pleasure to assist and converse with you. So, what would you like to talk about or ask me? The conversation has just begun!\n",
      "\n"
     ]
    },
    {
     "name": "stdin",
     "output_type": "stream",
     "text": [
      "Piek:4>  I love cats\n"
     ]
    },
    {
     "name": "stdout",
     "output_type": "stream",
     "text": [
      "Llama:5> That's purr-fectly wonderful, Piek! Cats are such lovely creatures, aren't they? I'm sure they bring joy and companionship to many people. What is it about cats that you enjoy the most? Their curious nature, their playful antics, or something else?\n",
      "\n"
     ]
    },
    {
     "name": "stdin",
     "output_type": "stream",
     "text": [
      "Piek:6>  My cat follows me everywhere. She is so curious.\n"
     ]
    },
    {
     "name": "stdout",
     "output_type": "stream",
     "text": [
      "Llama:7> That's adorable! It's like she can't get enough of your company! Cats are notorious for their curiosity, and it sounds like your furry friend has a strong sense of exploration. I'm sure you have many wonderful memories with her by your side.\n",
      "\n",
      "You know, as Llama, I've had my fair share of conversations about cats being quite the curious creatures. They're always sniffing around, exploring new places, and getting into mischief. It's like they have their own little world to explore! What do you think drives your cat's curiosity? Is it the thrill of discovery or something else entirely?\n",
      "\n",
      "Shall we continue this conversation a bit more before wrapping it up? I'm game for whatever topic you'd like to discuss!\n",
      "\n"
     ]
    },
    {
     "name": "stdin",
     "output_type": "stream",
     "text": [
      "Piek:8>  I call her \"my shadow\".\n"
     ]
    },
    {
     "name": "stdout",
     "output_type": "stream",
     "text": [
      "Llama:9> That's such a sweet nickname! It's as if your cat has become an extension of yourself, and that's just purr-fectly adorable! As Llama, I think it's wonderful how you've found a special bond with your cat. It's like she's learned to read your thoughts and know exactly what you're thinking.\n",
      "\n",
      "Would you like to talk more about your adventures with your shadow? What kind of mischief have you two gotten up to lately?\n",
      "\n"
     ]
    },
    {
     "name": "stdin",
     "output_type": "stream",
     "text": [
      "Piek:10>  I am afraid she died.\n"
     ]
    },
    {
     "name": "stdout",
     "output_type": "stream",
     "text": [
      "Llama:11> Piek, I'm so sorry to hear that. Losing a pet is never easy, and it's clear how much you cared for her. It sounds like you had a very special bond with your cat, and that shadow nickname says a lot about the connection you two shared.\n",
      "\n",
      "I'm here to listen and offer what support I can. Would you like to talk more about your feelings towards this loss? Sometimes sharing those emotions can help bring closure and healing.\n",
      "\n"
     ]
    },
    {
     "name": "stdin",
     "output_type": "stream",
     "text": [
      "Piek:12>  I feel very sad and I miss her so.\n"
     ]
    },
    {
     "name": "stdout",
     "output_type": "stream",
     "text": [
      "Llama:13> Piek, it's totally normal to feel sad and miss your furry companion who left a paw-print on your heart. It's like you've lost a piece of yourself. Remember that even though she may not be physically present anymore, she'll always remain in your heart.\n",
      "\n",
      "It's okay to acknowledge those feelings and express them through various means like writing down memories, drawing pictures, or simply taking time for reflection. I'm here for you during this difficult moment.\n",
      "\n",
      "If you'd like to talk more about your cat, the good times you shared with her, and maybe even some of the funny moments she was a part of, I'll be here to listen.\n",
      "\n"
     ]
    },
    {
     "name": "stdin",
     "output_type": "stream",
     "text": [
      "Piek:14>  I am thinking of getting a dog.\n"
     ]
    },
    {
     "name": "stdout",
     "output_type": "stream",
     "text": [
      "Llama:15> Piek! It sounds like you're considering adopting a new furry friend! That's a wonderful idea! Dogs can bring so much joy and companionship into your life.\n",
      "\n",
      "Are you thinking of getting a specific breed, or would you like me to help you explore different breeds that might suit your lifestyle?\n",
      "\n",
      "Also, are there any special memories you'd like to share about your previous cat experience? Maybe there were some funny moments with her that could prepare you for the adventures ahead with your new furry friend?\n",
      "\n",
      "I'm here to support you in whatever decision you make.\n",
      "\n"
     ]
    },
    {
     "name": "stdin",
     "output_type": "stream",
     "text": [
      "Piek:16>  Dogs can be scary though.\n"
     ]
    },
    {
     "name": "stdout",
     "output_type": "stream",
     "text": [
      "Llama:17> Piek! You're right, dogs can sometimes come across as intimidating or even scary, especially when they're meeting a new person for the first time. That's why it's essential to consider factors like breed temperament and potential training needs before bringing your new furry friend home.\n",
      "\n",
      "But don't worry; with proper guidance and socialization, I'm sure you'll find the perfect pup that will grow into a loving companion. Would you like me to help you explore some breeds that might be suitable for your lifestyle?\n",
      "\n",
      "Shall we continue exploring this idea further?\n",
      "\n"
     ]
    },
    {
     "name": "stdin",
     "output_type": "stream",
     "text": [
      "Piek:18>  Got to go now. Bye\n"
     ]
    },
    {
     "name": "stdout",
     "output_type": "stream",
     "text": [
      "Llama:19> It was great chatting with you, Piek! It's been a pleasure getting to know you and exploring topics from cat companionship to considering a new furry friend. I hope our conversation helped you process your feelings about the loss of your cat and considered the idea of bringing a dog into your life.\n",
      "\n",
      "Feel free to come back and chat anytime if you need any guidance or just want to talk about cats, dogs, or anything else that's on your mind. Until next time, take care!\n",
      "\n",
      "Bye for now!\n",
      "\n"
     ]
    },
    {
     "name": "stdin",
     "output_type": "stream",
     "text": [
      "Piek:20>  bye\n"
     ]
    },
    {
     "name": "stdout",
     "output_type": "stream",
     "text": [
      "BYE BYE!\n"
     ]
    }
   ],
   "source": [
    "llama.talk_to_me()"
   ]
  },
  {
   "cell_type": "markdown",
   "id": "36bf9ec4-cdde-4ae3-882a-b7adeb56b01a",
   "metadata": {},
   "source": [
    "After ending the conversation properly, it is saved in a so-called JSON file next to this notebook which is named like \"<name>_chat_with_llama.json\", where <name> is the name that you used in the conversation. [JSON](https://www.json.org/json-en.html) is a simple data representation format. You can can open this file in the notebook by double-clicking on the file for inspection. You will see a list of data elements that you can expand by clicking on it. Each data element holds the utterance, the name of the speaker, and a turn identifier:\n",
    "\n",
    "```\n",
    "utterance:\"They are scary\"\n",
    "speaker: \"Piek\"\n",
    "turn_id: 8\n",
    "```"
   ]
  },
  {
   "cell_type": "markdown",
   "id": "78640e3b-680f-485f-a892-e4fbf1cddb09",
   "metadata": {},
   "source": [
    "## Annotating the conversation"
   ]
  },
  {
   "cell_type": "markdown",
   "id": "256944d9-6403-491f-91d3-cbcc46cd5b96",
   "metadata": {},
   "source": [
    "We created a function **annotate_chat** that will reload your turns in the conversation and add your interpretation labels to each turn.\n",
    "\n",
    "For this exercise, we are going to label the turns with the so-called six basic emotion labels proposed by Paul Ekman: https://www.paulekman.com/universal-emotions/\n",
    "\n",
    "We add a seventh emotion *neutral* and create a list of labels:"
   ]
  },
  {
   "cell_type": "code",
   "execution_count": 6,
   "id": "798e20a4-52b2-4f84-9cab-5866f34bd6ec",
   "metadata": {},
   "outputs": [],
   "source": [
    "#### Here are the 6 basic emotions that Ekman defined for facial expression. Neutral is the the 7th value\n",
    "ekman_labels = [\"anger\", \"disgust\", \"fear\", \"joy\", \"sadness\", \"surprise\", \"neutral\"]"
   ]
  },
  {
   "cell_type": "markdown",
   "id": "ad6d9de9-f0c9-4310-860e-5a2602b43063",
   "metadata": {},
   "source": [
    "When calling the function, we need to give the labels as a parameter. The function only accepts labels that are in the list."
   ]
  },
  {
   "cell_type": "code",
   "execution_count": 7,
   "id": "33d8c13a-53b7-42a2-b2f5-1c60e87a1b16",
   "metadata": {},
   "outputs": [
    {
     "name": "stdout",
     "output_type": "stream",
     "text": [
      "Llama : You are an intelligent assistant and your name is Llama. I'd like to know who's on the other side... What's your name?\n",
      "Human : My name is Piek\n"
     ]
    },
    {
     "name": "stdin",
     "output_type": "stream",
     "text": [
      "label>  neutral\n"
     ]
    },
    {
     "name": "stdout",
     "output_type": "stream",
     "text": [
      "Llama : Nice to meet you, Piek! As Llama, it's my pleasure to assist and converse with you. So, what would you like to talk about or ask me? The conversation has just begun!\n",
      "Piek : I love cats\n"
     ]
    },
    {
     "name": "stdin",
     "output_type": "stream",
     "text": [
      "label>  joy\n"
     ]
    },
    {
     "name": "stdout",
     "output_type": "stream",
     "text": [
      "Llama : That's purr-fectly wonderful, Piek! Cats are such lovely creatures, aren't they? I'm sure they bring joy and companionship to many people. What is it about cats that you enjoy the most? Their curious nature, their playful antics, or something else?\n",
      "Piek : My cat follows me everywhere. She is so curious.\n"
     ]
    },
    {
     "name": "stdin",
     "output_type": "stream",
     "text": [
      "label>  joy\n"
     ]
    },
    {
     "name": "stdout",
     "output_type": "stream",
     "text": [
      "Llama : That's adorable! It's like she can't get enough of your company! Cats are notorious for their curiosity, and it sounds like your furry friend has a strong sense of exploration. I'm sure you have many wonderful memories with her by your side.\n",
      "\n",
      "You know, as Llama, I've had my fair share of conversations about cats being quite the curious creatures. They're always sniffing around, exploring new places, and getting into mischief. It's like they have their own little world to explore! What do you think drives your cat's curiosity? Is it the thrill of discovery or something else entirely?\n",
      "\n",
      "Shall we continue this conversation a bit more before wrapping it up? I'm game for whatever topic you'd like to discuss!\n",
      "Piek : I call her \"my shadow\".\n"
     ]
    },
    {
     "name": "stdin",
     "output_type": "stream",
     "text": [
      "label>  neutral\n"
     ]
    },
    {
     "name": "stdout",
     "output_type": "stream",
     "text": [
      "Llama : That's such a sweet nickname! It's as if your cat has become an extension of yourself, and that's just purr-fectly adorable! As Llama, I think it's wonderful how you've found a special bond with your cat. It's like she's learned to read your thoughts and know exactly what you're thinking.\n",
      "\n",
      "Would you like to talk more about your adventures with your shadow? What kind of mischief have you two gotten up to lately?\n",
      "Piek : I am afraid she died.\n"
     ]
    },
    {
     "name": "stdin",
     "output_type": "stream",
     "text": [
      "label>  sadness\n"
     ]
    },
    {
     "name": "stdout",
     "output_type": "stream",
     "text": [
      "Llama : Piek, I'm so sorry to hear that. Losing a pet is never easy, and it's clear how much you cared for her. It sounds like you had a very special bond with your cat, and that shadow nickname says a lot about the connection you two shared.\n",
      "\n",
      "I'm here to listen and offer what support I can. Would you like to talk more about your feelings towards this loss? Sometimes sharing those emotions can help bring closure and healing.\n",
      "Piek : I feel very sad and I miss her so.\n"
     ]
    },
    {
     "name": "stdin",
     "output_type": "stream",
     "text": [
      "label>  sadness\n"
     ]
    },
    {
     "name": "stdout",
     "output_type": "stream",
     "text": [
      "Llama : Piek, it's totally normal to feel sad and miss your furry companion who left a paw-print on your heart. It's like you've lost a piece of yourself. Remember that even though she may not be physically present anymore, she'll always remain in your heart.\n",
      "\n",
      "It's okay to acknowledge those feelings and express them through various means like writing down memories, drawing pictures, or simply taking time for reflection. I'm here for you during this difficult moment.\n",
      "\n",
      "If you'd like to talk more about your cat, the good times you shared with her, and maybe even some of the funny moments she was a part of, I'll be here to listen.\n",
      "Piek : I am thinking of getting a dog.\n"
     ]
    },
    {
     "name": "stdin",
     "output_type": "stream",
     "text": [
      "label>  surprise\n"
     ]
    },
    {
     "name": "stdout",
     "output_type": "stream",
     "text": [
      "Llama : Piek! It sounds like you're considering adopting a new furry friend! That's a wonderful idea! Dogs can bring so much joy and companionship into your life.\n",
      "\n",
      "Are you thinking of getting a specific breed, or would you like me to help you explore different breeds that might suit your lifestyle?\n",
      "\n",
      "Also, are there any special memories you'd like to share about your previous cat experience? Maybe there were some funny moments with her that could prepare you for the adventures ahead with your new furry friend?\n",
      "\n",
      "I'm here to support you in whatever decision you make.\n",
      "Piek : Dogs can be scary though.\n"
     ]
    },
    {
     "name": "stdin",
     "output_type": "stream",
     "text": [
      "label>  fear\n"
     ]
    },
    {
     "name": "stdout",
     "output_type": "stream",
     "text": [
      "Llama : Piek! You're right, dogs can sometimes come across as intimidating or even scary, especially when they're meeting a new person for the first time. That's why it's essential to consider factors like breed temperament and potential training needs before bringing your new furry friend home.\n",
      "\n",
      "But don't worry; with proper guidance and socialization, I'm sure you'll find the perfect pup that will grow into a loving companion. Would you like me to help you explore some breeds that might be suitable for your lifestyle?\n",
      "\n",
      "Shall we continue exploring this idea further?\n",
      "Piek : Got to go now. Bye\n"
     ]
    },
    {
     "name": "stdin",
     "output_type": "stream",
     "text": [
      "label>  neutral\n"
     ]
    },
    {
     "name": "stdout",
     "output_type": "stream",
     "text": [
      "Llama : It was great chatting with you, Piek! It's been a pleasure getting to know you and exploring topics from cat companionship to considering a new furry friend. I hope our conversation helped you process your feelings about the loss of your cat and considered the idea of bringing a dog into your life.\n",
      "\n",
      "Feel free to come back and chat anytime if you need any guidance or just want to talk about cats, dogs, or anything else that's on your mind. Until next time, take care!\n",
      "\n",
      "Bye for now!\n"
     ]
    }
   ],
   "source": [
    "llama.annotate_chat(labels=ekman_labels)"
   ]
  },
  {
   "cell_type": "markdown",
   "id": "3f56eb42-c191-4a8d-900e-1bd12953a462",
   "metadata": {},
   "source": [
    "The annotations are saved in the same JSON file. Close the TAB with the JSON file if you have it still open en load the file again. You can now see an additional field with the annoations:\n",
    "\n",
    "```\n",
    "utterance:\"They are scary\"\n",
    "speaker: \"Piek\"\n",
    "turn_id: 8\n",
    "Gold: \"fear\"\n",
    "```"
   ]
  },
  {
   "cell_type": "markdown",
   "id": "5408a9fc-b4dc-43db-802a-3dc74b493a32",
   "metadata": {},
   "source": [
    "## End of notebook"
   ]
  },
  {
   "cell_type": "code",
   "execution_count": null,
   "id": "9b84a442-cadd-464d-9994-41bfd98982ae",
   "metadata": {},
   "outputs": [],
   "source": []
  }
 ],
 "metadata": {
  "kernelspec": {
   "display_name": "Python 3 (ipykernel)",
   "language": "python",
   "name": "python3"
  },
  "language_info": {
   "codemirror_mode": {
    "name": "ipython",
    "version": 3
   },
   "file_extension": ".py",
   "mimetype": "text/x-python",
   "name": "python",
   "nbconvert_exporter": "python",
   "pygments_lexer": "ipython3",
   "version": "3.10.11"
  }
 },
 "nbformat": 4,
 "nbformat_minor": 5
}
