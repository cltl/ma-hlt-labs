{
 "cells": [
  {
   "cell_type": "markdown",
   "metadata": {},
   "source": [
    "# Lab4.2 Testing and evaluating an emotion text classifier"
   ]
  },
  {
   "cell_type": "markdown",
   "metadata": {},
   "source": [
    "Copyright: Vrije Universiteit Amsterdam, Faculty of Humanities, CLTL"
   ]
  },
  {
   "cell_type": "markdown",
   "metadata": {},
   "source": [
    "Researchers create separate train, development (dev) and test splits for their data. This allows them to experiment with the training data by testing on the development set without optimizing on the test set. The final performance is reported on the test set. Other researchers can follow the same procedure and their test results can be compared because they are on the same unseen test set.\n",
    "\n",
    "In the former notebook, we analysed the training and test data. In the notebook **Lab3.2.train-emotion-detection-bow.ipynb** of Lab3, we trained an SVM classifier with the MELD training data. In this notebook, we will load the model again and test and evaluate the performance on a test set that was not used during training. We will do the following:\n",
    "\n",
    "1. We load countvectorizer, tf.idf transformer and the SVM classifier from disk\n",
    "2. Represent the test data according to the countvectorizer, tf.idf transformer\n",
    "3. We get the predictions of the classifier on the test set\n",
    "4. Evaluate the performance on the test set against the gold labels\n",
    "5. Analyse possible confusion of the model across the categories\n"
   ]
  },
  {
   "cell_type": "markdown",
   "metadata": {},
   "source": [
    "## 1. Loading the trained classifier"
   ]
  },
  {
   "cell_type": "code",
   "execution_count": 9,
   "metadata": {},
   "outputs": [],
   "source": [
    "import pickle\n",
    "# the countvectorizer\n",
    "filename_vectorizer = '../lab3.machine_learning/models/utterance_vectorizer.sav'\n",
    "# the tfidf transformer\n",
    "filename_tfidftransformer = '../lab3.machine_learning/models/utterance_tfidf_transformer.sav'\n",
    "# the classifier to disk\n",
    "filename_classifier = '../lab3.machine_learning/models/svm_linear_clf_bow.sav'\n",
    "\n",
    "# load the classifier and the vectorizer from disk\n",
    "loaded_classifier = pickle.load(open(filename_classifier, 'rb'))\n",
    "loaded_vectorizer = pickle.load(open(filename_vectorizer, 'rb'))\n",
    "loaded_tfidftransformer = pickle.load(open(filename_tfidftransformer, 'rb'))"
   ]
  },
  {
   "cell_type": "markdown",
   "metadata": {},
   "source": [
    "## 2. Representing the test text as numerical vectors <a class=\"anchor\" id =\"section4.2\"></a> "
   ]
  },
  {
   "cell_type": "markdown",
   "metadata": {},
   "source": [
    "We first load the test data from the ```Lab3.machine_learning/data/MELDtest_sent_emo.csv``` in Pandas."
   ]
  },
  {
   "cell_type": "code",
   "execution_count": 7,
   "metadata": {
    "scrolled": true
   },
   "outputs": [
    {
     "name": "stdout",
     "output_type": "stream",
     "text": [
      "<class 'pandas.core.frame.DataFrame'>\n",
      "RangeIndex: 2610 entries, 0 to 2609\n",
      "Data columns (total 11 columns):\n",
      " #   Column        Non-Null Count  Dtype \n",
      "---  ------        --------------  ----- \n",
      " 0   Sr No.        2610 non-null   int64 \n",
      " 1   Utterance     2610 non-null   object\n",
      " 2   Speaker       2610 non-null   object\n",
      " 3   Emotion       2610 non-null   object\n",
      " 4   Sentiment     2610 non-null   object\n",
      " 5   Dialogue_ID   2610 non-null   int64 \n",
      " 6   Utterance_ID  2610 non-null   int64 \n",
      " 7   Season        2610 non-null   int64 \n",
      " 8   Episode       2610 non-null   int64 \n",
      " 9   StartTime     2610 non-null   object\n",
      " 10  EndTime       2610 non-null   object\n",
      "dtypes: int64(5), object(6)\n",
      "memory usage: 224.4+ KB\n"
     ]
    }
   ],
   "source": [
    "import pandas as pd\n",
    "filepath = '../Lab3.machine_learning/data/MELD/test_sent_emo.csv'\n",
    "# Create a dataframe object 'dtest' by readig the file.\n",
    "dftest = pd.read_csv(filepath)\n",
    "dftest.info()"
   ]
  },
  {
   "cell_type": "markdown",
   "metadata": {},
   "source": [
    "From the dataframe, we can pull out the column ```Utterance``` and ```Emotion``` columns to get the test texts and the test labels. We will compare the prediction of the model against the test labels which act as the gold labels."
   ]
  },
  {
   "cell_type": "code",
   "execution_count": 8,
   "metadata": {},
   "outputs": [],
   "source": [
    "test_instances=dftest['Utterance']\n",
    "test_labels = dftest['Emotion']"
   ]
  },
  {
   "cell_type": "markdown",
   "metadata": {},
   "source": [
    "The representation of the test data needs to be compatible with the training data. To ensure this we use the vectorizer created from the training data to also represent the test data.\n",
    "\n",
    "Instead of *fit_transform*, we need to use the function *transform* from ```loaded_vectorizer```. The *transform* function will represent the text according to the vector model of the training data and ignore all out-of-vocabulary words in the test texts. "
   ]
  },
  {
   "cell_type": "code",
   "execution_count": 10,
   "metadata": {
    "tags": []
   },
   "outputs": [
    {
     "name": "stderr",
     "output_type": "stream",
     "text": [
      "/Users/piek/.pyenv/versions/3.10.11/lib/python3.10/site-packages/sklearn/feature_extraction/text.py:406: UserWarning: Your stop_words may be inconsistent with your preprocessing. Tokenizing the stop words generated tokens [\"'d\", \"'ll\", \"'m\", \"'re\", \"'s\", \"'ve\", 'could', 'might', 'must', \"n't\", 'need', 'sha', 'wo', 'would'] not in stop_words.\n",
      "  warnings.warn(\n"
     ]
    },
    {
     "name": "stdout",
     "output_type": "stream",
     "text": [
      "(2610, 1103)\n",
      "Why do all you're coffee mugs have numbers on the bottom?\n",
      "[0 0 0 0 0 0 0 0 0 0 1 0 0 0 0 0 0 0 0 0 0 0 0 0 0 0 0 0 0 0 1 0 0 0 0 0 0\n",
      " 0 0 0 0 0 0 0 0 0 0 0 0 0]\n"
     ]
    }
   ],
   "source": [
    "test_count_vectors = loaded_vectorizer.transform(test_instances)\n",
    "print(test_count_vectors.shape)\n",
    "print(test_instances[0])\n",
    "print(test_count_vectors.toarray()[0][:50])"
   ]
  },
  {
   "cell_type": "markdown",
   "metadata": {},
   "source": [
    "We can see that the test data has vectors of the same length as the training data vectors of  Lab3.2.train-emotion-detection-bow.ipynb: 1103 dimensions. The vectors have many zeros and a few positions scored with one. There are as many vectors as test utterances: 2610.\n",
    "\n",
    "We can use the same ```loaded_tfidftransformer``` to turn the count vectors into weighted vectors:"
   ]
  },
  {
   "cell_type": "code",
   "execution_count": 11,
   "metadata": {
    "tags": []
   },
   "outputs": [],
   "source": [
    "test_tfidf_vectors = loaded_tfidftransformer.transform(test_count_vectors)"
   ]
  },
  {
   "cell_type": "code",
   "execution_count": 12,
   "metadata": {
    "tags": []
   },
   "outputs": [
    {
     "name": "stdout",
     "output_type": "stream",
     "text": [
      "[0.         0.         0.         0.         0.         0.\n",
      " 0.         0.         0.         0.         0.48498825 0.\n",
      " 0.         0.         0.         0.         0.         0.\n",
      " 0.         0.         0.         0.         0.         0.\n",
      " 0.         0.         0.         0.         0.         0.\n",
      " 0.28648314 0.         0.         0.         0.         0.\n",
      " 0.         0.         0.         0.         0.         0.\n",
      " 0.         0.         0.         0.         0.         0.\n",
      " 0.         0.        ]\n"
     ]
    }
   ],
   "source": [
    "print(test_tfidf_vectors.toarray()[0][:50])"
   ]
  },
  {
   "cell_type": "markdown",
   "metadata": {},
   "source": [
    "# 3. Getting the classifier predictions and evaluate the results"
   ]
  },
  {
   "cell_type": "markdown",
   "metadata": {},
   "source": [
    "We can now apply the classifier to the test data to get the predictions."
   ]
  },
  {
   "cell_type": "code",
   "execution_count": 13,
   "metadata": {
    "tags": []
   },
   "outputs": [
    {
     "name": "stdout",
     "output_type": "stream",
     "text": [
      "First ten predictions from the SVM classifier ['neutral' 'neutral' 'neutral' 'neutral' 'joy' 'neutral' 'neutral'\n",
      " 'neutral' 'neutral' 'joy']\n"
     ]
    }
   ],
   "source": [
    "# Predicting the Test set results, find macro recall\n",
    "y_pred_svm = loaded_classifier.predict(test_tfidf_vectors)\n",
    "print('First ten predictions from the SVM classifier', y_pred_svm[0:10])"
   ]
  },
  {
   "cell_type": "markdown",
   "metadata": {},
   "source": [
    "Sklearn provides functions to obtain the **recall**, **precision** and **f-score** for all the test set results. We can simply pass the human \"gold\" labels and the system \"predicted\" labels as input and set a parameter how to aggregate the overall score. The ```classification_report``` function gives the complete result:"
   ]
  },
  {
   "cell_type": "code",
   "execution_count": 14,
   "metadata": {
    "tags": []
   },
   "outputs": [
    {
     "name": "stdout",
     "output_type": "stream",
     "text": [
      "BoW TFIDF SVM LINEAR ----------------------------------------------------------------\n",
      "              precision    recall  f1-score   support\n",
      "\n",
      "       anger      0.433     0.188     0.263       345\n",
      "     disgust      0.200     0.029     0.051        68\n",
      "        fear      0.167     0.020     0.036        50\n",
      "         joy      0.437     0.465     0.451       402\n",
      "     neutral      0.640     0.860     0.734      1256\n",
      "     sadness      0.339     0.096     0.150       208\n",
      "    surprise      0.487     0.466     0.476       281\n",
      "\n",
      "    accuracy                          0.569      2610\n",
      "   macro avg      0.386     0.304     0.309      2610\n",
      "weighted avg      0.520     0.569     0.522      2610\n",
      "\n"
     ]
    }
   ],
   "source": [
    "from sklearn.metrics import classification_report\n",
    "report = classification_report(test_labels,y_pred_svm,digits = 3, target_names = loaded_classifier.classes_)\n",
    "print('BoW TFIDF SVM LINEAR ----------------------------------------------------------------')\n",
    "\n",
    "print(report)"
   ]
  },
  {
   "cell_type": "markdown",
   "metadata": {},
   "source": [
    "In the classification report we see the precision, recall and f1-score for each label and averaged scores: accuracy, macro avg and weighted (or micro) average. Also note the support column that indicates how many test cases there are in each category and in total. There are a lot more test cases with `neutral` than for the other emotions."
   ]
  },
  {
   "cell_type": "markdown",
   "metadata": {},
   "source": [
    "We can see that the performance varies a lot across the emotions. The results for `neutral` are a lot better in precision and recall than the other emotions: `joy` and `surprise` have reasonable scores but the others have very low recall and `disgust` and `fear` also low precision. Overall macro average f1-score is 0.3 which is lower than the majority baseline of 0.48 when always choosing `neutral`. The weighted f1-score, in which the proportion of test cases per catgory is used to weigh the results, is just above the baseline. The higher support for neutral means it dominates both in the training data and in the test. If we would create a more-balanced test set, the macro-average score is expected to be a lot lower. Can you explain why?"
   ]
  },
  {
   "cell_type": "markdown",
   "metadata": {},
   "source": [
    "Ideally, recall and precision are balanced but if they deviate it is worth thinking about the causes. Some possible causes for unbalanced or poor results are:\n",
    "\n",
    "* Not enough training data to capture all variation in the test data\n",
    "* Biased training data that makes one category stronger than the other(s)\n",
    "* Too much ambiguity so that words (as features) get different interpretations in different contexts\n",
    "* Over-fitting to the training data so that it learns features that do not generalise to the test data\n",
    "  \n",
    "During this master programme, you will work with many different data sets and analyse the performance of classifiers. Analysing different data, experimenting with text representations and machine learning algorithms is the best way to learn about possible causes and how to mitigate them. We already analysed the data proeprties in the previous notebook. Can you think of explanations for the performance based on the analysis of the data?"
   ]
  },
  {
   "cell_type": "markdown",
   "metadata": {},
   "source": [
    "To get more insight in how well the classifier can distinguish the different class, Sklearn can also generate a so-called confusion matrix, which indicates which classes are confused with which other classes (false positives). For this we use the function ```metrics.confusion_matrix```. We visualise it using ```ConfusionMatrixDisplay``` that we need to import separately."
   ]
  },
  {
   "cell_type": "code",
   "execution_count": 15,
   "metadata": {
    "tags": []
   },
   "outputs": [
    {
     "name": "stdout",
     "output_type": "stream",
     "text": [
      "Confusion matrix SVM\n",
      "['anger' 'disgust' 'fear' 'joy' 'neutral' 'sadness' 'surprise']\n",
      "[[  65    2    0   78  162    3   35]\n",
      " [   5    2    1    8   42    2    8]\n",
      " [   4    1    1    9   25    4    6]\n",
      " [  20    2    2  187  156    5   30]\n",
      " [  27    3    2   74 1080   20   50]\n",
      " [  16    0    0   27  136   20    9]\n",
      " [  13    0    0   45   87    5  131]]\n"
     ]
    },
    {
     "data": {
      "text/plain": [
       "<sklearn.metrics._plot.confusion_matrix.ConfusionMatrixDisplay at 0x132e14370>"
      ]
     },
     "execution_count": 15,
     "metadata": {},
     "output_type": "execute_result"
    },
    {
     "data": {
      "image/png": "[encoded data removed]",
      "text/plain": [
       "<Figure size 640x480 with 2 Axes>"
      ]
     },
     "metadata": {},
     "output_type": "display_data"
    }
   ],
   "source": [
    "from sklearn.metrics import confusion_matrix, ConfusionMatrixDisplay\n",
    "print('Confusion matrix SVM')\n",
    "print(loaded_classifier.classes_)\n",
    "cf_matrix_svm = confusion_matrix(test_labels,y_pred_svm)\n",
    "print(cf_matrix_svm)\n",
    "import matplotlib.pyplot as plt\n",
    "display = ConfusionMatrixDisplay(confusion_matrix=cf_matrix_svm, display_labels=loaded_classifier.classes_)\n",
    "display.plot()"
   ]
  },
  {
   "cell_type": "markdown",
   "metadata": {},
   "source": [
    "The diagonals represent the correctly classified test utterances. All others indicate the confusions, where another class was wrongly assigned (columns) or not assigned (rows). It is clear that the neutral column has most results not only for the **True** label (1080) but also the other rows in the Predicted column: 162, 42, 25, 156, 136, 87. Besides the dominance of `neutral`, we see that `anger` spills a bit into `joy`, `sadness` and `neutral` and `joy` into `anger`, `neutral` and `surprise`. Furthermore, note that `surprise` is confused with both `anger` and `joy`. This makes sense because you can be surprised in a positive and negative way. Think a minute how the sentiment labels in MELD may help here. How would you fix the last confusion?\n",
    "\n",
    "\n",
    "Our system performs just above the baseline of the dominant class *neutral*: .47 (see previous notebook on the data analysis). What can you do if one class is so dominant?\n",
    "The next notebook Lab4.4 describes a number of different approach to adjust the classifier."
   ]
  },
  {
   "cell_type": "markdown",
   "metadata": {},
   "source": [
    "# End of this notebook"
   ]
  },
  {
   "cell_type": "code",
   "execution_count": null,
   "metadata": {},
   "outputs": [],
   "source": []
  }
 ],
 "metadata": {
  "kernelspec": {
   "display_name": "Python 3",
   "language": "python",
   "name": "python3"
  },
  "language_info": {
   "codemirror_mode": {
    "name": "ipython",
    "version": 3
   },
   "file_extension": ".py",
   "mimetype": "text/x-python",
   "name": "python",
   "nbconvert_exporter": "python",
   "pygments_lexer": "ipython3",
   "version": "3.10.11"
  }
 },
 "nbformat": 4,
 "nbformat_minor": 4
}
