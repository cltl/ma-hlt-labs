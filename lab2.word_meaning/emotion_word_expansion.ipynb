{
 "cells": [
  {
   "cell_type": "markdown",
   "metadata": {},
   "source": [
    "# 🎭 Emotion Word Expansion: WordNet vs NRC\n",
    "This notebook demonstrates how to expand basic emotion terms using:\n",
    "\n",
    "- **WordNet** (via NLTK) with low-drift controls\n",
    "- **NRC Emotion Lexicon** (via NRCLex)\n",
    "- Side-by-side comparison\n",
    "\n",
    "You can use this for emotion modeling, lexicon building, or affective NLP."
   ]
  },
  {
   "cell_type": "code",
   "execution_count": 1,
   "metadata": {},
   "outputs": [
    {
     "name": "stdout",
     "output_type": "stream",
     "text": [
      "\u001b[33m  DEPRECATION: Building 'nrclex' using the legacy setup.py bdist_wheel mechanism, which will be removed in a future version. pip 25.3 will enforce this behaviour change. A possible replacement is to use the standardized build interface by setting the `--use-pep517` option, (possibly combined with `--no-build-isolation`), or adding a `pyproject.toml` file to the source tree of 'nrclex'. Discussion can be found at https://github.com/pypa/pip/issues/6334\u001b[0m\u001b[33m\n",
      "\u001b[0m"
     ]
    }
   ],
   "source": [
    "# 📦 Install required packages\n",
    "!pip install nltk nrclex --quiet\n"
   ]
  },
  {
   "cell_type": "code",
   "execution_count": 9,
   "metadata": {},
   "outputs": [
    {
     "name": "stderr",
     "output_type": "stream",
     "text": [
      "[nltk_data] Downloading package wordnet to /Users/piek/nltk_data...\n",
      "[nltk_data]   Package wordnet is already up-to-date!\n",
      "[nltk_data] Downloading package omw-1.4 to /Users/piek/nltk_data...\n",
      "[nltk_data]   Package omw-1.4 is already up-to-date!\n",
      "[nltk_data] Error loading nrc: Package 'nrc' not found in index\n"
     ]
    },
    {
     "data": {
      "text/plain": [
       "False"
      ]
     },
     "execution_count": 9,
     "metadata": {},
     "output_type": "execute_result"
    }
   ],
   "source": [
    "# 📚 NLTK data setup\n",
    "import nltk\n",
    "nltk.download('wordnet')\n",
    "nltk.download('omw-1.4')\n",
    "nltk.download('nrc')"
   ]
  },
  {
   "cell_type": "markdown",
   "metadata": {},
   "source": [
    "## 🔁 WordNet Expansion with Low Concept Drift"
   ]
  },
  {
   "cell_type": "code",
   "execution_count": 3,
   "metadata": {},
   "outputs": [],
   "source": [
    "from nltk.corpus import wordnet as wn\n",
    "\n",
    "def expand_emotion_wordnet(word):\n",
    "    related = set()\n",
    "    for pos in [wn.NOUN, wn.ADJ]:\n",
    "        synsets = wn.synsets(word, pos=pos)\n",
    "        if not synsets:\n",
    "            continue\n",
    "\n",
    "        syn = synsets[0]  # Most common meaning\n",
    "\n",
    "        for lemma in syn.lemmas():\n",
    "            related.add(lemma.name())\n",
    "            for ant in lemma.antonyms():\n",
    "                related.add(ant.name())\n",
    "            for deriv in lemma.derivationally_related_forms():\n",
    "                related.add(deriv.name())\n",
    "\n",
    "        if pos == wn.ADJ:\n",
    "            for similar in syn.similar_tos():\n",
    "                for lemma in similar.lemmas():\n",
    "                    related.add(lemma.name())\n",
    "\n",
    "    return sorted(related)"
   ]
  },
  {
   "cell_type": "markdown",
   "metadata": {},
   "source": [
    "## 🔍 NRC Emotion Lexicon (via NRCLex)"
   ]
  },
  {
   "cell_type": "code",
   "execution_count": 10,
   "metadata": {},
   "outputs": [
    {
     "name": "stdout",
     "output_type": "stream",
     "text": [
      "Requirement already satisfied: nrclex in /Users/piek/.pyenv/versions/3.10.11/lib/python3.10/site-packages (3.0.0)\n",
      "Requirement already satisfied: textblob in /Users/piek/.pyenv/versions/3.10.11/lib/python3.10/site-packages (from nrclex) (0.19.0)\n",
      "Requirement already satisfied: nltk>=3.9 in /Users/piek/.pyenv/versions/3.10.11/lib/python3.10/site-packages (from textblob->nrclex) (3.9.1)\n",
      "Requirement already satisfied: click in /Users/piek/.pyenv/versions/3.10.11/lib/python3.10/site-packages (from nltk>=3.9->textblob->nrclex) (8.1.3)\n",
      "Requirement already satisfied: joblib in /Users/piek/.pyenv/versions/3.10.11/lib/python3.10/site-packages (from nltk>=3.9->textblob->nrclex) (1.2.0)\n",
      "Requirement already satisfied: regex>=2021.8.3 in /Users/piek/.pyenv/versions/3.10.11/lib/python3.10/site-packages (from nltk>=3.9->textblob->nrclex) (2023.3.23)\n",
      "Requirement already satisfied: tqdm in /Users/piek/.pyenv/versions/3.10.11/lib/python3.10/site-packages (from nltk>=3.9->textblob->nrclex) (4.67.1)\n"
     ]
    }
   ],
   "source": [
    "http://saifmohammad.com/WebPages/NRC-Emotion-Lexicon.htm"
   ]
  },
  {
   "cell_type": "code",
   "execution_count": 15,
   "metadata": {},
   "outputs": [],
   "source": [
    "from collections import defaultdict\n",
    "\n",
    "def load_nrc_lexicon(filepath):\n",
    "    emotion_words = defaultdict(set)\n",
    "    with open(filepath, 'r', encoding='utf-8') as f:\n",
    "        for line in f:\n",
    "            word, emotion, score = line.strip().split('\\t')\n",
    "            if score == '1':\n",
    "                emotion_words[emotion].add(word)\n",
    "    return {emo: sorted(words) for emo, words in emotion_words.items()}\n",
    "\n",
    "filepath = \"NRC-Emotion-Lexicon-Wordlevel-v0.92.txt\"\n",
    "nrc_emotion_lexicon = load_nrc_lexicon(filepath)\n"
   ]
  },
  {
   "cell_type": "markdown",
   "metadata": {},
   "source": [
    "## ⚖️ Compare Emotion Expansions"
   ]
  },
  {
   "cell_type": "code",
   "execution_count": 16,
   "metadata": {},
   "outputs": [
    {
     "name": "stdout",
     "output_type": "stream",
     "text": [
      "\n",
      "--- ANGER ---\n",
      "WordNet (5): anger, angry, choler, choleric, ire...\n",
      "NRC     (1245): abandoned, abandonment, abhor, abhorrent, abolish, abomination, abuse, accursed, accusation, accused, accuser, accusing, actionable, adder, adversary...\n",
      "\n",
      "--- JOY ---\n",
      "WordNet (6): joy, joyful, joyfulness, joyous, joyousness, sorrow...\n",
      "NRC     (687): absolution, abundance, abundant, accolade, accompaniment, accomplish, accomplished, achieve, achievement, acrobat, admirable, admiration, adorable, adoration, adore...\n",
      "\n",
      "--- FEAR ---\n",
      "WordNet (5): fear, fearful, fearfulness, fearlessness, fright...\n",
      "NRC     (1474): abandon, abandoned, abandonment, abduction, abhor, abhorrent, abominable, abomination, abortion, absence, abuse, abyss, accident, accidental, accursed...\n",
      "\n",
      "--- SADNESS ---\n",
      "WordNet (5): happiness, sad, sadness, unhappiness, unhappy...\n",
      "NRC     (1187): abandon, abandoned, abandonment, abduction, abortion, abortive, abscess, absence, absent, absentee, abuse, abysmal, abyss, accident, accursed...\n",
      "\n",
      "--- SURPRISE ---\n",
      "WordNet (1): surprise...\n",
      "NRC     (532): abandonment, abduction, abrupt, accident, accidental, accidentally, accolade, advance, affront, aghast, alarm, alarming, alertness, alerts, allure...\n",
      "\n",
      "--- DISGUST ---\n",
      "WordNet (1): disgust...\n",
      "NRC     (1056): aberration, abhor, abhorrent, abject, abnormal, abominable, abomination, abortion, abundance, abuse, accusation, actionable, adder, adultery, adverse...\n"
     ]
    }
   ],
   "source": [
    "basic_emotions = ['anger', 'joy', 'fear', 'sadness', 'surprise', 'disgust']\n",
    "\n",
    "for emotion in basic_emotions:\n",
    "    print(f\"\\n--- {emotion.upper()} ---\")\n",
    "\n",
    "    wn_words = expand_emotion_wordnet(emotion)\n",
    "    print(f\"WordNet ({len(wn_words)}): {', '.join(wn_words[:15])}...\")\n",
    "\n",
    "    nrc_words = nrc_emotion_lexicon[emotion]\n",
    "    print(f\"NRC     ({len(nrc_words)}): {', '.join(nrc_words[:15])}...\")"
   ]
  },
  {
   "cell_type": "markdown",
   "metadata": {},
   "source": [
    "## 📤 Export Results to CSV"
   ]
  },
  {
   "cell_type": "code",
   "execution_count": 19,
   "metadata": {},
   "outputs": [
    {
     "data": {
      "text/html": [
       "<div>\n",
       "<style scoped>\n",
       "    .dataframe tbody tr th:only-of-type {\n",
       "        vertical-align: middle;\n",
       "    }\n",
       "\n",
       "    .dataframe tbody tr th {\n",
       "        vertical-align: top;\n",
       "    }\n",
       "\n",
       "    .dataframe thead th {\n",
       "        text-align: right;\n",
       "    }\n",
       "</style>\n",
       "<table border=\"1\" class=\"dataframe\">\n",
       "  <thead>\n",
       "    <tr style=\"text-align: right;\">\n",
       "      <th></th>\n",
       "      <th>emotion</th>\n",
       "      <th>wordnet_words</th>\n",
       "      <th>nrc_words</th>\n",
       "    </tr>\n",
       "  </thead>\n",
       "  <tbody>\n",
       "    <tr>\n",
       "      <th>0</th>\n",
       "      <td>anger</td>\n",
       "      <td>anger, angry, choler, choleric, ire</td>\n",
       "      <td>abandoned, abandonment, abhor, abhorrent, abol...</td>\n",
       "    </tr>\n",
       "    <tr>\n",
       "      <th>1</th>\n",
       "      <td>joy</td>\n",
       "      <td>joy, joyful, joyfulness, joyous, joyousness, s...</td>\n",
       "      <td>absolution, abundance, abundant, accolade, acc...</td>\n",
       "    </tr>\n",
       "    <tr>\n",
       "      <th>2</th>\n",
       "      <td>fear</td>\n",
       "      <td>fear, fearful, fearfulness, fearlessness, fright</td>\n",
       "      <td>abandon, abandoned, abandonment, abduction, ab...</td>\n",
       "    </tr>\n",
       "    <tr>\n",
       "      <th>3</th>\n",
       "      <td>sadness</td>\n",
       "      <td>happiness, sad, sadness, unhappiness, unhappy</td>\n",
       "      <td>abandon, abandoned, abandonment, abduction, ab...</td>\n",
       "    </tr>\n",
       "    <tr>\n",
       "      <th>4</th>\n",
       "      <td>surprise</td>\n",
       "      <td>surprise</td>\n",
       "      <td>abandonment, abduction, abrupt, accident, acci...</td>\n",
       "    </tr>\n",
       "  </tbody>\n",
       "</table>\n",
       "</div>"
      ],
      "text/plain": [
       "    emotion                                      wordnet_words  \\\n",
       "0     anger                anger, angry, choler, choleric, ire   \n",
       "1       joy  joy, joyful, joyfulness, joyous, joyousness, s...   \n",
       "2      fear   fear, fearful, fearfulness, fearlessness, fright   \n",
       "3   sadness      happiness, sad, sadness, unhappiness, unhappy   \n",
       "4  surprise                                           surprise   \n",
       "\n",
       "                                           nrc_words  \n",
       "0  abandoned, abandonment, abhor, abhorrent, abol...  \n",
       "1  absolution, abundance, abundant, accolade, acc...  \n",
       "2  abandon, abandoned, abandonment, abduction, ab...  \n",
       "3  abandon, abandoned, abandonment, abduction, ab...  \n",
       "4  abandonment, abduction, abrupt, accident, acci...  "
      ]
     },
     "execution_count": 19,
     "metadata": {},
     "output_type": "execute_result"
    }
   ],
   "source": [
    "import pandas as pd\n",
    "\n",
    "all_data = []\n",
    "for emotion in basic_emotions:\n",
    "    wn_words = expand_emotion_wordnet(emotion)\n",
    "    nrc_words = nrc_emotion_lexicon[emotion]\n",
    "\n",
    "    all_data.append({\n",
    "        'emotion': emotion,\n",
    "        'wordnet_words': \", \".join(wn_words),\n",
    "        'nrc_words': \", \".join(nrc_words)\n",
    "    })\n",
    "\n",
    "df = pd.DataFrame(all_data)\n",
    "df.to_csv(\"emotion_expansion_comparison.csv\", index=False)\n",
    "df.head()"
   ]
  },
  {
   "cell_type": "code",
   "execution_count": null,
   "metadata": {},
   "outputs": [],
   "source": []
  }
 ],
 "metadata": {
  "kernelspec": {
   "display_name": "Python 3",
   "language": "python",
   "name": "python3"
  },
  "language_info": {
   "codemirror_mode": {
    "name": "ipython",
    "version": 3
   },
   "file_extension": ".py",
   "mimetype": "text/x-python",
   "name": "python",
   "nbconvert_exporter": "python",
   "pygments_lexer": "ipython3",
   "version": "3.10.11"
  }
 },
 "nbformat": 4,
 "nbformat_minor": 4
}
