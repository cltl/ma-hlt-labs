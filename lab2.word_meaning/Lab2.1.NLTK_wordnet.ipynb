{
 "cells": [
  {
   "cell_type": "markdown",
   "metadata": {},
   "source": [
    "# Lab2.1: Words, concepts, semantic relations in Wordnet-NLTK"
   ]
  },
  {
   "cell_type": "markdown",
   "metadata": {},
   "source": [
    "Copyright: Vrije Universiteit Amsterdam, Faculty of Humanities, CLTL"
   ]
  },
  {
   "cell_type": "markdown",
   "metadata": {},
   "source": [
    "In this notebook, you are going to work with wordnet databases that have been incorporated in the NLTK package.\n",
    "Detailed information how to access and use wordnet can be found here: http://www.nltk.org/howto/wordnet.html\n",
    "\n",
    "Study the documentation and make yourself familiar with the different commands. Some of documentation is also explained below."
   ]
  },
  {
   "cell_type": "markdown",
   "metadata": {},
   "source": [
    "As an abstract model, WordNet provides a mapping of the vocabulary of a language to a set of concepts with semantic relations between these concepts. The concepts and relations form a huge semantic graph or space, in which one concept is related to another. In the next picture, you only see a fragment of the WordNet graph for all concepts related to communication, which is the concept in the center. This graph only shows the `hyponymy` relations, which are most dominant in WordNet. You can travel from the edge of the graph to the center and take another branch back the the edge. In this way, you could reach any communication related concept. \n",
    "\n",
    "![wordnet](./images/wn-communication.png)\n",
    "\n",
    "The graph is so dense that you cannot read the words that map to each concept. You can imagine how the graph would look like if you project the complete WordNet space as a universe.\n",
    "\n",
    "The mapping of the words of a language to the concepts is complex. Synonymous words form a so-called `synset`, e.g. `{board, surf board}`, which represents a single concept. However, a word from a synset such as `board` can also have other meanings (`polysemy`), and therefore occur in other synsets as well. There is therefore a many-to-many relation between words and concepts through the synset mappings. Finally, it is important to realize that nouns, verbs and adjectives form different subgraphs in WordNet and exhibit different relations.\n",
    "\n",
    "In this notebook, we will explain how to access the graph structure and explore it as well as how to measure how close or distant concepts and words are according to the graph. We first need to import the *wordnet* module from NLTK:"
   ]
  },
  {
   "cell_type": "code",
   "execution_count": 1,
   "metadata": {
    "tags": []
   },
   "outputs": [],
   "source": [
    "from nltk.corpus import wordnet as wn"
   ]
  },
  {
   "cell_type": "markdown",
   "metadata": {},
   "source": [
    "You can look up a word using the \"wn.synsets()\" function. This will give you a list of synsets in which the lookup string is matched with a lemma (synonym)."
   ]
  },
  {
   "cell_type": "code",
   "execution_count": 2,
   "metadata": {
    "tags": []
   },
   "outputs": [
    {
     "name": "stdout",
     "output_type": "stream",
     "text": [
      "Number of synsets with \"dog\" as a synonym: 8\n",
      "[Synset('dog.n.01'), Synset('frump.n.01'), Synset('dog.n.03'), Synset('cad.n.01'), Synset('frank.n.02'), Synset('pawl.n.01'), Synset('andiron.n.01'), Synset('chase.v.01')]\n"
     ]
    }
   ],
   "source": [
    "all_dog_synsets = wn.synsets('dog')\n",
    "print('Number of synsets with \"dog\" as a synonym:', len(all_dog_synsets))\n",
    "print(all_dog_synsets)"
   ]
  },
  {
   "cell_type": "markdown",
   "metadata": {},
   "source": [
    "The word \"dog\" thus occurs as a synonym in 8 synsets (concepts), which means it has 8 different meanings in WordNet and can be located in 8 different places in the graph.\n",
    "\n",
    "If we print the synsets, we get a shorthand representation in which the first synonym is shown from the complete synset. In some cases this is the word \"dog\" but we see also other words such as \"cad\", \"chase\". So \"dog\" is always one of the synonyms but not always the first one listed. You can also observe that the word is followed by a digit (the sense number of the word) and a part-of-speech tag. We see that \"dog\" can also be a verb in English according to WordNet because \"chase.v.01\" is a verb and synsets have only one part-of-speech.\n",
    "\n",
    "Let us inspect the details of a synset in more detail. We take the first synset from the list and print out some information to understand the structure."
   ]
  },
  {
   "cell_type": "code",
   "execution_count": 3,
   "metadata": {
    "tags": []
   },
   "outputs": [
    {
     "name": "stdout",
     "output_type": "stream",
     "text": [
      "The synset: Synset('dog.n.01')\n",
      "Python data type: <class 'nltk.corpus.reader.wordnet.Synset'>\n",
      "\n",
      "The synonyms: [Lemma('dog.n.01.dog'), Lemma('dog.n.01.domestic_dog'), Lemma('dog.n.01.Canis_familiaris')]\n",
      "\n",
      "The definition: a member of the genus Canis (probably descended from the common wolf) that has been domesticated by man since prehistoric times; occurs in many breeds\n",
      "\n",
      "The full path of hypernyms: [[Synset('entity.n.01'), Synset('physical_entity.n.01'), Synset('object.n.01'), Synset('whole.n.02'), Synset('living_thing.n.01'), Synset('organism.n.01'), Synset('animal.n.01'), Synset('chordate.n.01'), Synset('vertebrate.n.01'), Synset('mammal.n.01'), Synset('placental.n.01'), Synset('carnivore.n.01'), Synset('canine.n.02'), Synset('dog.n.01')], [Synset('entity.n.01'), Synset('physical_entity.n.01'), Synset('object.n.01'), Synset('whole.n.02'), Synset('living_thing.n.01'), Synset('organism.n.01'), Synset('animal.n.01'), Synset('domestic_animal.n.01'), Synset('dog.n.01')]]\n",
      "\n",
      "The maximum depth of its hyponymy chain is: 13\n"
     ]
    }
   ],
   "source": [
    "first_synset = all_dog_synsets[0]\n",
    "print('The synset:', first_synset)\n",
    "print('Python data type:', type(first_synset))\n",
    "print()\n",
    "print('The synonyms:', first_synset.lemmas())\n",
    "print()\n",
    "print('The definition:', first_synset.definition())\n",
    "print()\n",
    "print('The full path of hypernyms:', first_synset.hypernym_paths())\n",
    "print()\n",
    "print('The maximum depth of its hyponymy chain is:', first_synset.max_depth())"
   ]
  },
  {
   "cell_type": "markdown",
   "metadata": {},
   "source": [
    "We see that the synset is of a specific type **Synset** defined in the wordnet module. The function **lemmas** gives us all the synonyms (prefixed by the synset identifier (e.g. **dog.n.01**). We also can get the `definition`, the `hypernym_paths` and the `max_depth` at which we find this synset in the complete wordnet graph."
   ]
  },
  {
   "cell_type": "markdown",
   "metadata": {},
   "source": [
    "The function **hypernym_paths** is interesting. Let us inspect it a bit more. It gets all the `hypernym` relations upward starting from this synset untill there are no more hypernyms. Note that there can be multiple hypernym chains for a synset because occasionally WordNet gives multiple hypernyms for a synset. If you examine the output of the **hypernym_paths** function more closely, you will see it is actually a list of lists."
   ]
  },
  {
   "cell_type": "code",
   "execution_count": 6,
   "metadata": {
    "tags": []
   },
   "outputs": [
    {
     "name": "stdout",
     "output_type": "stream",
     "text": [
      "[Synset('entity.n.01'), Synset('physical_entity.n.01'), Synset('object.n.01'), Synset('whole.n.02'), Synset('living_thing.n.01'), Synset('organism.n.01'), Synset('animal.n.01'), Synset('chordate.n.01'), Synset('vertebrate.n.01'), Synset('mammal.n.01'), Synset('placental.n.01'), Synset('carnivore.n.01'), Synset('canine.n.02'), Synset('dog.n.01')]\n",
      "\n",
      "[Synset('entity.n.01'), Synset('physical_entity.n.01'), Synset('object.n.01'), Synset('whole.n.02'), Synset('living_thing.n.01'), Synset('organism.n.01'), Synset('animal.n.01'), Synset('domestic_animal.n.01'), Synset('dog.n.01')]\n",
      "\n"
     ]
    }
   ],
   "source": [
    "for path in first_synset.hypernym_paths():\n",
    "    print(path)\n",
    "    print()"
   ]
  },
  {
   "cell_type": "markdown",
   "metadata": {},
   "source": [
    "The next piece of code makes it easier to see the structure:"
   ]
  },
  {
   "cell_type": "code",
   "execution_count": 7,
   "metadata": {
    "tags": []
   },
   "outputs": [
    {
     "name": "stdout",
     "output_type": "stream",
     "text": [
      " Synset('entity.n.01')\n",
      "    Synset('physical_entity.n.01')\n",
      "       Synset('object.n.01')\n",
      "          Synset('whole.n.02')\n",
      "             Synset('living_thing.n.01')\n",
      "                Synset('organism.n.01')\n",
      "                   Synset('animal.n.01')\n",
      "                      Synset('chordate.n.01')\n",
      "                         Synset('vertebrate.n.01')\n",
      "                            Synset('mammal.n.01')\n",
      "                               Synset('placental.n.01')\n",
      "                                  Synset('carnivore.n.01')\n",
      "                                     Synset('canine.n.02')\n",
      "                                        Synset('dog.n.01')\n",
      " Synset('entity.n.01')\n",
      "    Synset('physical_entity.n.01')\n",
      "       Synset('object.n.01')\n",
      "          Synset('whole.n.02')\n",
      "             Synset('living_thing.n.01')\n",
      "                Synset('organism.n.01')\n",
      "                   Synset('animal.n.01')\n",
      "                      Synset('domestic_animal.n.01')\n",
      "                         Synset('dog.n.01')\n"
     ]
    }
   ],
   "source": [
    "for path in first_synset.hypernym_paths():\n",
    "    indent = \"\"\n",
    "    for hyper in path:\n",
    "        print(indent, hyper)\n",
    "        indent += \"   \""
   ]
  },
  {
   "cell_type": "markdown",
   "metadata": {},
   "source": [
    "We see that dog in its first sense has two pathes due to the hypernyms **canine.n.02** and **domestic_animal.n.01**. Two different ways of classifying dogs that eventually end up in the same top nodes from **animal.n.01** onwards but provide different routes to it. \n",
    "\n",
    "This makes you think about what all posssible ways there are to classify something and how to know these? \n",
    "\n",
    "What about wordnets for other lanuages. Should these be classified in the same way? Also for different cultures? Clearly WordNet is just a proxy for a semantic space for the English language and different choices could have been made when building it. Nevertheless, still it is the most precise proxy we have at the moment."
   ]
  },
  {
   "cell_type": "markdown",
   "metadata": {},
   "source": [
    "We can iterate over the list of all synsets with the synonym dog, get each synset as an 'object' and next call specific functions to know more what they represent. This gives us a better insight into the different meanings of \"dog\" in WordNet."
   ]
  },
  {
   "cell_type": "code",
   "execution_count": 8,
   "metadata": {
    "tags": []
   },
   "outputs": [
    {
     "name": "stdout",
     "output_type": "stream",
     "text": [
      "\n",
      "The synset = Synset('dog.n.01')\n",
      "Type <class 'nltk.corpus.reader.wordnet.Synset'>\n",
      "The synonyms =  [Lemma('dog.n.01.dog'), Lemma('dog.n.01.domestic_dog'), Lemma('dog.n.01.Canis_familiaris')]\n",
      "The definition = a member of the genus Canis (probably descended from the common wolf) that has been domesticated by man since prehistoric times; occurs in many breeds\n",
      "The maximum depth of its hyponymy chain is =  13\n",
      "\n",
      "The synset = Synset('frump.n.01')\n",
      "Type <class 'nltk.corpus.reader.wordnet.Synset'>\n",
      "The synonyms =  [Lemma('frump.n.01.frump'), Lemma('frump.n.01.dog')]\n",
      "The definition = a dull unattractive unpleasant girl or woman\n",
      "The maximum depth of its hyponymy chain is =  10\n",
      "\n",
      "The synset = Synset('dog.n.03')\n",
      "Type <class 'nltk.corpus.reader.wordnet.Synset'>\n",
      "The synonyms =  [Lemma('dog.n.03.dog')]\n",
      "The definition = informal term for a man\n",
      "The maximum depth of its hyponymy chain is =  9\n",
      "\n",
      "The synset = Synset('cad.n.01')\n",
      "Type <class 'nltk.corpus.reader.wordnet.Synset'>\n",
      "The synonyms =  [Lemma('cad.n.01.cad'), Lemma('cad.n.01.bounder'), Lemma('cad.n.01.blackguard'), Lemma('cad.n.01.dog'), Lemma('cad.n.01.hound'), Lemma('cad.n.01.heel')]\n",
      "The definition = someone who is morally reprehensible\n",
      "The maximum depth of its hyponymy chain is =  9\n",
      "\n",
      "The synset = Synset('frank.n.02')\n",
      "Type <class 'nltk.corpus.reader.wordnet.Synset'>\n",
      "The synonyms =  [Lemma('frank.n.02.frank'), Lemma('frank.n.02.frankfurter'), Lemma('frank.n.02.hotdog'), Lemma('frank.n.02.hot_dog'), Lemma('frank.n.02.dog'), Lemma('frank.n.02.wiener'), Lemma('frank.n.02.wienerwurst'), Lemma('frank.n.02.weenie')]\n",
      "The definition = a smooth-textured sausage of minced beef or pork usually smoked; often served on a bread roll\n",
      "The maximum depth of its hyponymy chain is =  7\n",
      "\n",
      "The synset = Synset('pawl.n.01')\n",
      "Type <class 'nltk.corpus.reader.wordnet.Synset'>\n",
      "The synonyms =  [Lemma('pawl.n.01.pawl'), Lemma('pawl.n.01.detent'), Lemma('pawl.n.01.click'), Lemma('pawl.n.01.dog')]\n",
      "The definition = a hinged catch that fits into a notch of a ratchet to move a wheel forward or prevent it from moving backward\n",
      "The maximum depth of its hyponymy chain is =  9\n",
      "\n",
      "The synset = Synset('andiron.n.01')\n",
      "Type <class 'nltk.corpus.reader.wordnet.Synset'>\n",
      "The synonyms =  [Lemma('andiron.n.01.andiron'), Lemma('andiron.n.01.firedog'), Lemma('andiron.n.01.dog'), Lemma('andiron.n.01.dog-iron')]\n",
      "The definition = metal supports for logs in a fireplace\n",
      "The maximum depth of its hyponymy chain is =  8\n",
      "\n",
      "The synset = Synset('chase.v.01')\n",
      "Type <class 'nltk.corpus.reader.wordnet.Synset'>\n",
      "The synonyms =  [Lemma('chase.v.01.chase'), Lemma('chase.v.01.chase_after'), Lemma('chase.v.01.trail'), Lemma('chase.v.01.tail'), Lemma('chase.v.01.tag'), Lemma('chase.v.01.give_chase'), Lemma('chase.v.01.dog'), Lemma('chase.v.01.go_after'), Lemma('chase.v.01.track')]\n",
      "The definition = go after with the intent to catch\n",
      "The maximum depth of its hyponymy chain is =  2\n"
     ]
    }
   ],
   "source": [
    "for synset in all_dog_synsets:\n",
    "    print()\n",
    "    print('The synset =', synset)\n",
    "    print('Type', type(synset))\n",
    "    print('The synonyms = ', synset.lemmas())\n",
    "    print('The definition =', synset.definition())\n",
    "    print('The maximum depth of its hyponymy chain is = ', synset.max_depth())"
   ]
  },
  {
   "cell_type": "markdown",
   "metadata": {},
   "source": [
    "Take you time to inspect the data and test your knowledge of the English language. Do these meanings make sense and how different are they?"
   ]
  },
  {
   "cell_type": "markdown",
   "metadata": {},
   "source": [
    "You can also obtain synsets with a certain part-of-speech only by passing a part-of-speech value as a parameter."
   ]
  },
  {
   "cell_type": "code",
   "execution_count": 9,
   "metadata": {
    "tags": []
   },
   "outputs": [
    {
     "name": "stdout",
     "output_type": "stream",
     "text": [
      "[Synset('chase.v.01')]\n"
     ]
    }
   ],
   "source": [
    "all_dog_verb_synsets = wn.synsets('dog', 'v')\n",
    "print(all_dog_verb_synsets)"
   ]
  },
  {
   "cell_type": "markdown",
   "metadata": {},
   "source": [
    "Remember from the lecture that the verbs do not have an augmented top layer in WordNet but the verb subnetwork consists of many isolated subgraphs as islands. So let's see what the hypernym path is for this verbal synset:"
   ]
  },
  {
   "cell_type": "code",
   "execution_count": 11,
   "metadata": {
    "tags": []
   },
   "outputs": [
    {
     "name": "stdout",
     "output_type": "stream",
     "text": [
      " Synset('travel.v.01') change location; move, travel, or proceed, also metaphorically\n",
      "    Synset('pursue.v.02') follow in or as if in pursuit\n",
      "       Synset('chase.v.01') go after with the intent to catch\n"
     ]
    }
   ],
   "source": [
    "for path in all_dog_verb_synsets[0].hypernym_paths():\n",
    "    indent = \"\"\n",
    "    for hyper in path:\n",
    "        print(indent, hyper, hyper.definition())\n",
    "        indent += \"   \""
   ]
  },
  {
   "cell_type": "markdown",
   "metadata": {},
   "source": [
    "Interesing. The path is very short and not so informative. Is there a way, to proceed further up than `travel.v.01`?\n",
    "What would you consider as a possible hypernym above `travel.v.01` and what would be the sibling concepts?\n",
    "\n",
    "These are the questions that wordnet builders need to answer."
   ]
  },
  {
   "cell_type": "markdown",
   "metadata": {},
   "source": [
    "Various functions can be called on the synset object yielding different data structures. Try some to get a feeling for it. Below we show the specific relations that synsets can have beside hyponymy:"
   ]
  },
  {
   "cell_type": "code",
   "execution_count": 10,
   "metadata": {
    "tags": []
   },
   "outputs": [
    {
     "name": "stdout",
     "output_type": "stream",
     "text": [
      "Part holonyms: []\n",
      "Member holonyms: [Synset('canis.n.01'), Synset('pack.n.06')]\n",
      "Substance holonyms: []\n",
      "Part meronyms: [Synset('flag.n.07')]\n",
      "Member meronyms: []\n",
      "Substance meronyms: []\n"
     ]
    }
   ],
   "source": [
    "doggy_synset = all_dog_synsets[0]\n",
    "#### Part - to -  whole relations:\n",
    "print('Part holonyms:',doggy_synset.part_holonyms())\n",
    "print('Member holonyms:',doggy_synset.member_holonyms())\n",
    "print('Substance holonyms:',doggy_synset.substance_holonyms())\n",
    "\n",
    "### Whole - to - part relations\n",
    "print('Part meronyms:',doggy_synset.part_meronyms())\n",
    "print('Member meronyms:',doggy_synset.member_meronyms())\n",
    "print('Substance meronyms:',doggy_synset.substance_meronyms())\n"
   ]
  },
  {
   "cell_type": "code",
   "execution_count": 11,
   "metadata": {
    "tags": []
   },
   "outputs": [
    {
     "name": "stdout",
     "output_type": "stream",
     "text": [
      "Caused: []\n",
      "Entailments: []\n",
      "Hyponyms: [Synset('hound.v.01'), Synset('quest.v.02'), Synset('run_down.v.07'), Synset('tree.v.03')]\n",
      "Examples: ['The policeman chased the mugger down the alley', 'the dog chased the rabbit']\n"
     ]
    }
   ],
   "source": [
    "chase_synset = all_dog_verb_synsets[0]\n",
    "#### Relations for verbal synsets\n",
    "print('Caused:', chase_synset.causes())\n",
    "print('Entailments:',chase_synset.entailments())\n",
    "print('Hyponyms:', chase_synset.hyponyms())\n",
    "print('Examples:', chase_synset.examples())\n"
   ]
  },
  {
   "cell_type": "markdown",
   "metadata": {},
   "source": [
    "To get the full Python object definition of a synset to show all options, you can use the 'dir' command:"
   ]
  },
  {
   "cell_type": "code",
   "execution_count": 10,
   "metadata": {
    "tags": []
   },
   "outputs": [
    {
     "data": {
      "text/plain": [
       "['__class__',\n",
       " '__delattr__',\n",
       " '__dict__',\n",
       " '__dir__',\n",
       " '__doc__',\n",
       " '__eq__',\n",
       " '__format__',\n",
       " '__ge__',\n",
       " '__getattribute__',\n",
       " '__gt__',\n",
       " '__hash__',\n",
       " '__init__',\n",
       " '__init_subclass__',\n",
       " '__le__',\n",
       " '__lt__',\n",
       " '__module__',\n",
       " '__ne__',\n",
       " '__new__',\n",
       " '__reduce__',\n",
       " '__reduce_ex__',\n",
       " '__repr__',\n",
       " '__setattr__',\n",
       " '__sizeof__',\n",
       " '__slots__',\n",
       " '__str__',\n",
       " '__subclasshook__',\n",
       " '__weakref__',\n",
       " '_all_hypernyms',\n",
       " '_definition',\n",
       " '_doc',\n",
       " '_examples',\n",
       " '_frame_ids',\n",
       " '_hypernyms',\n",
       " '_instance_hypernyms',\n",
       " '_iter_hypernym_lists',\n",
       " '_lemma_names',\n",
       " '_lemma_pointers',\n",
       " '_lemmas',\n",
       " '_lexname',\n",
       " '_max_depth',\n",
       " '_min_depth',\n",
       " '_name',\n",
       " '_needs_root',\n",
       " '_offset',\n",
       " '_pointers',\n",
       " '_pos',\n",
       " '_related',\n",
       " '_shortest_hypernym_paths',\n",
       " '_wordnet_corpus_reader',\n",
       " 'acyclic_tree',\n",
       " 'also_sees',\n",
       " 'attributes',\n",
       " 'causes',\n",
       " 'closure',\n",
       " 'common_hypernyms',\n",
       " 'definition',\n",
       " 'entailments',\n",
       " 'examples',\n",
       " 'frame_ids',\n",
       " 'hypernym_distances',\n",
       " 'hypernym_paths',\n",
       " 'hypernyms',\n",
       " 'hyponyms',\n",
       " 'in_region_domains',\n",
       " 'in_topic_domains',\n",
       " 'in_usage_domains',\n",
       " 'instance_hypernyms',\n",
       " 'instance_hyponyms',\n",
       " 'jcn_similarity',\n",
       " 'lch_similarity',\n",
       " 'lemma_names',\n",
       " 'lemmas',\n",
       " 'lexname',\n",
       " 'lin_similarity',\n",
       " 'lowest_common_hypernyms',\n",
       " 'max_depth',\n",
       " 'member_holonyms',\n",
       " 'member_meronyms',\n",
       " 'min_depth',\n",
       " 'mst',\n",
       " 'name',\n",
       " 'offset',\n",
       " 'part_holonyms',\n",
       " 'part_meronyms',\n",
       " 'path_similarity',\n",
       " 'pos',\n",
       " 'region_domains',\n",
       " 'res_similarity',\n",
       " 'root_hypernyms',\n",
       " 'shortest_path_distance',\n",
       " 'similar_tos',\n",
       " 'substance_holonyms',\n",
       " 'substance_meronyms',\n",
       " 'topic_domains',\n",
       " 'tree',\n",
       " 'usage_domains',\n",
       " 'verb_groups',\n",
       " 'wup_similarity']"
      ]
     },
     "execution_count": 10,
     "metadata": {},
     "output_type": "execute_result"
    }
   ],
   "source": [
    "dir(chase_synset)"
   ]
  },
  {
   "cell_type": "markdown",
   "metadata": {},
   "source": [
    "Some of these options may be familair to you if you have read the literature. We will look into the similarity functions more closely later on."
   ]
  },
  {
   "cell_type": "markdown",
   "metadata": {},
   "source": [
    "#### Get all dogs"
   ]
  },
  {
   "cell_type": "markdown",
   "metadata": {},
   "source": [
    "We can get more insight in the coverage of specific areas or semantic fields by collecting all the hyponyms \"below\" a synset, e.g. all types of dogs, cats, horses, ships, cars, etc.\n",
    "\n",
    "The next simple \"for\" loop iterates over all dog-hyponyms in the English wordnet and prints the definition and next the synonyms. We can easily see, which dogs have a synonym in which language and which have not."
   ]
  },
  {
   "cell_type": "code",
   "execution_count": 4,
   "metadata": {},
   "outputs": [
    {
     "name": "stdout",
     "output_type": "stream",
     "text": [
      "Number of dogs: 18\n",
      "\n",
      "Synset('basenji.n.01')\n",
      "small smooth-haired breed of African origin having a tightly curled tail and the inability to bark\n",
      "English: ['basenji']\n",
      "\n",
      "Synset('corgi.n.01')\n",
      "either of two Welsh breeds of long-bodied short-legged dogs with erect ears and a fox-like head\n",
      "English: ['corgi', 'Welsh_corgi']\n",
      "\n",
      "Synset('cur.n.01')\n",
      "an inferior dog or one of mixed breed\n",
      "English: ['cur', 'mongrel', 'mutt']\n",
      "\n",
      "Synset('dalmatian.n.02')\n",
      "a large breed having a smooth white coat with black or brown spots; originated in Dalmatia\n",
      "English: ['dalmatian', 'coach_dog', 'carriage_dog']\n",
      "\n",
      "Synset('great_pyrenees.n.01')\n",
      "bred of large heavy-coated white dogs resembling the Newfoundland\n",
      "English: ['Great_Pyrenees']\n",
      "\n",
      "Synset('griffon.n.02')\n",
      "breed of various very small compact wiry-coated dogs of Belgian origin having a short bearded muzzle\n",
      "English: ['griffon', 'Brussels_griffon', 'Belgian_griffon']\n",
      "\n",
      "Synset('hunting_dog.n.01')\n",
      "a dog used in hunting game\n",
      "English: ['hunting_dog']\n",
      "\n",
      "Synset('lapdog.n.01')\n",
      "a dog small and tame enough to be held in the lap\n",
      "English: ['lapdog']\n",
      "\n",
      "Synset('leonberg.n.01')\n",
      "a large dog (usually with a golden coat) produced by crossing a St Bernard and a Newfoundland\n",
      "English: ['Leonberg']\n",
      "\n",
      "Synset('mexican_hairless.n.01')\n",
      "any of an old breed of small nearly hairless dogs of Mexico\n",
      "English: ['Mexican_hairless']\n",
      "\n",
      "Synset('newfoundland.n.01')\n",
      "a breed of very large heavy dogs with a thick coarse usually black coat; highly intelligent dogs and vigorous swimmers; developed in Newfoundland\n",
      "English: ['Newfoundland', 'Newfoundland_dog']\n",
      "\n",
      "Synset('pooch.n.01')\n",
      "informal terms for dogs\n",
      "English: ['pooch', 'doggie', 'doggy', 'barker', 'bow-wow']\n",
      "\n",
      "Synset('poodle.n.01')\n",
      "an intelligent dog with a heavy curly solid-colored coat that is usually clipped; an old breed sometimes trained as sporting dogs or as performing dogs\n",
      "English: ['poodle', 'poodle_dog']\n",
      "\n",
      "Synset('pug.n.01')\n",
      "small compact smooth-coated breed of Asiatic origin having a tightly curled tail and broad flat wrinkled muzzle\n",
      "English: ['pug', 'pug-dog']\n",
      "\n",
      "Synset('puppy.n.01')\n",
      "a young dog\n",
      "English: ['puppy']\n",
      "\n",
      "Synset('spitz.n.01')\n",
      "any of various stocky heavy-coated breeds of dogs native to northern regions having pointed muzzles and erect ears with a curled furry tail\n",
      "English: ['spitz']\n",
      "\n",
      "Synset('toy_dog.n.01')\n",
      "any of several breeds of very small dogs kept purely as pets\n",
      "English: ['toy_dog', 'toy']\n",
      "\n",
      "Synset('working_dog.n.01')\n",
      "any of several breeds of usually large powerful dogs bred to work as draft animals and guard and guide dogs\n",
      "English: ['working_dog']\n",
      "\n"
     ]
    }
   ],
   "source": [
    "dog = wn.synset ('dog.n.01')\n",
    "dogs = dog.hyponyms()\n",
    "print('Number of dogs:', len(dogs))\n",
    "print()\n",
    "for s in dogs:\n",
    "    print(s)\n",
    "    print(s.definition())\n",
    "    print('English:', s.lemma_names('eng'))\n",
    "    print()"
   ]
  },
  {
   "cell_type": "markdown",
   "metadata": {},
   "source": [
    "The above code only gives the direct hyponyms as dogs but maybe there are more dogs as hyponyms of these hyponyms or even deeper down. To get these, we need a recursive function. A recursive function is a function that calls itself inside. These functions are extremely powerful and also elegant. But this comes with a risk: if you do not built in a way to stop the calling, it will run for ever and may consume all your memory.\n",
    "\n",
    "We define a function that takes a synset and its family and first adds the hyponyms as children and next for each child calls the function again to get the grand children. If there are any grand children these are also added to the family, if not the call is done and we return to the next child.\n",
    "\n",
    "The function terminates if all children have been processed. Because it is recursive, the same applies for the function applied to the children, and the children of the children, etc. Since the graph ends, the function also ends.\n",
    "\n",
    "What would happen if the WordNet builders made a mistake and made a hyponym also the hypernym of a concept?\n",
    "\n",
    "dog -is-a-> working_dog -is-a-> dog\n",
    "\n",
    "This would create a cycle and our function will never terminate. This is the danger of recursive functions that do not have a clear stopping condition. Your memory will get loaded and at some point everythiong slows down. Eventually, the application crashes and you may have to restart your computer. Not a real disaster, since you will not destroy anything but you may not have saved your work in other application or in this notebook. Let's hope that the WordNet builders did not make a mistake."
   ]
  },
  {
   "cell_type": "code",
   "execution_count": 5,
   "metadata": {},
   "outputs": [],
   "source": [
    "def get_hyponym_family (parent):\n",
    "    family=[]\n",
    "    children = parent.hyponyms()\n",
    "    if children:\n",
    "        family = family + children\n",
    "        for child in children:\n",
    "            grand_children = get_hyponym_family(child)\n",
    "            if grand_children:\n",
    "                family = family + grand_children\n",
    "    return family"
   ]
  },
  {
   "cell_type": "code",
   "execution_count": 6,
   "metadata": {},
   "outputs": [],
   "source": [
    "dog_family = get_hyponym_family(dog)"
   ]
  },
  {
   "cell_type": "code",
   "execution_count": 7,
   "metadata": {},
   "outputs": [
    {
     "name": "stdout",
     "output_type": "stream",
     "text": [
      "Number of the dog family: 189\n"
     ]
    }
   ],
   "source": [
    "print('Number of the dog family:', len(dog_family))"
   ]
  },
  {
   "cell_type": "markdown",
   "metadata": {},
   "source": [
    "Ahhh, we now have 189 dogs instead of 18!"
   ]
  },
  {
   "cell_type": "code",
   "execution_count": 8,
   "metadata": {},
   "outputs": [
    {
     "name": "stdout",
     "output_type": "stream",
     "text": [
      "[Synset('collie.n.01'), Synset('german_shepherd.n.01'), Synset('kelpie.n.02'), Synset('komondor.n.01'), Synset('old_english_sheepdog.n.01'), Synset('rottweiler.n.01'), Synset('shetland_sheepdog.n.01'), Synset('groenendael.n.01'), Synset('malinois.n.01'), Synset('malamute.n.01'), Synset('siberian_husky.n.01'), Synset('attack_dog.n.01'), Synset('housedog.n.01'), Synset('kuvasz.n.01'), Synset('pinscher.n.01'), Synset('schipperke.n.01'), Synset('affenpinscher.n.01'), Synset('doberman.n.01'), Synset('miniature_pinscher.n.01')]\n"
     ]
    }
   ],
   "source": [
    "print(dog_family[170:])"
   ]
  },
  {
   "cell_type": "markdown",
   "metadata": {},
   "source": [
    "A function such as the one above can be very handy to use in many programs. Note that the above function gives you the total set of synsets. A synset is a NLTK WordNet object and has many properties among which the actual synonyms."
   ]
  },
  {
   "cell_type": "markdown",
   "metadata": {},
   "source": [
    "Let's make another function that just gets the synonyms from all these synsets. This function iterates over all the synsets in the \"family\", gets the Wordnet Lemma objects and finally gets the lemmas for these. We add a parameter to specify the language for the synonyms."
   ]
  },
  {
   "cell_type": "code",
   "execution_count": 9,
   "metadata": {},
   "outputs": [],
   "source": [
    "def get_lemmas_from_wordnet_family(wnfamily, language):\n",
    "    lemmas = []\n",
    "    for synset in wnfamily:\n",
    "        slemmas = synset.lemma_names(language)\n",
    "        for slemma in slemmas:\n",
    "            lemmas.append(slemma)\n",
    "    return lemmas"
   ]
  },
  {
   "cell_type": "code",
   "execution_count": 10,
   "metadata": {
    "scrolled": true
   },
   "outputs": [
    {
     "name": "stdout",
     "output_type": "stream",
     "text": [
      "There are so many dogs in WordNet: 279\n",
      "['basenji', 'corgi', 'Welsh_corgi', 'cur', 'mongrel', 'mutt', 'dalmatian', 'coach_dog', 'carriage_dog', 'Great_Pyrenees', 'griffon', 'Brussels_griffon', 'Belgian_griffon', 'hunting_dog', 'lapdog', 'Leonberg', 'Mexican_hairless', 'Newfoundland', 'Newfoundland_dog', 'pooch', 'doggie', 'doggy', 'barker', 'bow-wow', 'poodle', 'poodle_dog', 'pug', 'pug-dog', 'puppy', 'spitz', 'toy_dog', 'toy', 'working_dog', 'Cardigan', 'Cardigan_Welsh_corgi', 'Pembroke', 'Pembroke_Welsh_corgi', 'feist', 'fice', 'pariah_dog', 'pye-dog', 'pie-dog', 'liver-spotted_dalmatian', 'Brabancon_griffon', 'courser', 'dachshund', 'dachsie', 'badger_dog', 'hound', 'hound_dog', 'Rhodesian_ridgeback', 'sporting_dog', 'gun_dog', 'terrier', 'sausage_dog', 'sausage_hound', 'Afghan_hound', 'Afghan', 'basset', 'basset_hound', 'beagle', 'bloodhound', 'sleuthhound', 'bluetick', 'boarhound', 'coonhound', 'foxhound', 'greyhound', 'harrier', 'Ibizan_hound', 'Ibizan_Podenco', 'Norwegian_elkhound', 'elkhound', 'otterhound', 'otter_hound', 'Plott_hound', 'redbone', 'Saluki', 'gazelle_hound', 'Scottish_deerhound', 'deerhound', 'staghound', 'Weimaraner', 'wolfhound', 'black-and-tan_coonhound', 'coondog', 'American_foxhound', 'English_foxhound', 'Walker_hound', 'Walker_foxhound', 'Italian_greyhound', 'whippet', 'borzoi', 'Russian_wolfhound', 'Irish_wolfhound', 'bird_dog', 'griffon', 'wire-haired_pointing_griffon', 'pointer', 'Spanish_pointer', 'retriever', 'setter', 'spaniel', 'water_dog', 'German_short-haired_pointer', 'vizsla', 'Hungarian_pointer', 'Chesapeake_Bay_retriever', 'curly-coated_retriever', 'flat-coated_retriever', 'golden_retriever', 'Labrador_retriever', 'English_setter', 'Gordon_setter', 'Irish_setter', 'red_setter', 'Brittany_spaniel', 'clumber', 'clumber_spaniel', 'cocker_spaniel', 'English_cocker_spaniel', 'cocker', 'field_spaniel', 'springer_spaniel', 'springer', 'Sussex_spaniel', 'water_spaniel', 'English_springer', 'English_springer_spaniel', 'Welsh_springer_spaniel', 'American_water_spaniel', 'Irish_water_spaniel', 'Airedale', 'Airedale_terrier', 'Australian_terrier', 'Bedlington_terrier', 'Border_terrier', 'Boston_bull', 'Boston_terrier', 'bullterrier', 'bull_terrier', 'cairn', 'cairn_terrier', 'Dandie_Dinmont', 'Dandie_Dinmont_terrier', 'fox_terrier', 'Irish_terrier', 'Kerry_blue_terrier', 'Lhasa', 'Lhasa_apso', 'Norfolk_terrier', 'Norwich_terrier', 'rat_terrier', 'ratter', 'schnauzer', 'Scotch_terrier', 'Scottish_terrier', 'Scottie', 'silky_terrier', 'Sydney_silky', 'Skye_terrier', 'soft-coated_wheaten_terrier', 'Tibetan_terrier', 'chrysanthemum_dog', 'West_Highland_white_terrier', 'wirehair', 'wirehaired_terrier', 'wire-haired_terrier', 'Yorkshire_terrier', 'American_Staffordshire_terrier', 'Staffordshire_terrier', 'American_pit_bull_terrier', 'pit_bull_terrier', 'Staffordshire_bullterrier', 'Staffordshire_bull_terrier', 'smooth-haired_fox_terrier', 'wire-haired_fox_terrier', 'Manchester_terrier', 'black-and-tan_terrier', 'toy_Manchester', 'toy_Manchester_terrier', 'giant_schnauzer', 'miniature_schnauzer', 'standard_schnauzer', 'Clydesdale_terrier', 'Lakeland_terrier', 'Welsh_terrier', 'Sealyham_terrier', 'Sealyham', 'large_poodle', 'miniature_poodle', 'standard_poodle', 'toy_poodle', 'chow', 'chow_chow', 'keeshond', 'Pomeranian', 'Samoyed', 'Samoyede', 'Chihuahua', 'Japanese_spaniel', 'Maltese_dog', 'Maltese_terrier', 'Maltese', 'Pekinese', 'Pekingese', 'Peke', 'Shih-Tzu', 'toy_spaniel', 'toy_terrier', 'English_toy_spaniel', 'King_Charles_spaniel', 'papillon', 'Blenheim_spaniel', 'boxer', 'bull_mastiff', 'bulldog', 'English_bulldog', 'Eskimo_dog', 'husky', 'Great_Dane', 'guide_dog', 'hearing_dog', 'mastiff', 'police_dog', 'Saint_Bernard', 'St_Bernard', 'seizure-alert_dog', 'Sennenhunde', 'shepherd_dog', 'sheepdog', 'sheep_dog', 'sled_dog', 'sledge_dog', 'watchdog', 'guard_dog', 'French_bulldog', 'Seeing_Eye_dog', 'Tibetan_mastiff', 'Appenzeller', 'Bernese_mountain_dog', 'EntleBucher', 'Greater_Swiss_Mountain_dog', 'Belgian_sheepdog', 'Belgian_shepherd', 'Border_collie', 'Bouvier_des_Flandres', 'Bouviers_des_Flandres', 'briard', 'collie', 'German_shepherd', 'German_shepherd_dog', 'German_police_dog', 'alsatian', 'kelpie', 'komondor', 'Old_English_sheepdog', 'bobtail', 'Rottweiler', 'Shetland_sheepdog', 'Shetland_sheep_dog', 'Shetland', 'groenendael', 'malinois', 'malamute', 'malemute', 'Alaskan_malamute', 'Siberian_husky', 'attack_dog', 'housedog', 'kuvasz', 'pinscher', 'schipperke', 'affenpinscher', 'monkey_pinscher', 'monkey_dog', 'Doberman', 'Doberman_pinscher', 'miniature_pinscher']\n"
     ]
    }
   ],
   "source": [
    "### Get the words for dogs in English at any level of specificity\n",
    "dog_lemmas = get_lemmas_from_wordnet_family(dog_family, 'eng')\n",
    "print('There are so many dogs in WordNet:', len(dog_lemmas))\n",
    "print(dog_lemmas)"
   ]
  },
  {
   "cell_type": "markdown",
   "metadata": {},
   "source": [
    "## Wordnet Similarity"
   ]
  },
  {
   "cell_type": "markdown",
   "metadata": {},
   "source": [
    "The structure of wordnet as a graph can be used to measure the similarity across concepts. The basic idea is that concepts can be connected by going up and down through the relations. By counting the steps, we can measure the distance between for example **car**, **train**, **man**, **woman**. In the image below, we can infer that \"train#1\" and \"bus#1\" are similar because they share the same hypernym \"public_transport\", but to get to e.g. \"knowledge\" requires many steps through the graph which makes \"knowledge\" very dissimilar."
   ]
  },
  {
   "cell_type": "markdown",
   "metadata": {},
   "source": [
    "![distance_in_wordnet](./images/wordnet_sim.png)"
   ]
  },
  {
   "cell_type": "markdown",
   "metadata": {},
   "source": [
    "A whole series of similarity functions have been added to NLTK that measure the distances in different ways but use the same basic strategy that exploits the relations between synsets. See the documentation for the other methods. \n",
    "\n",
    "We show here how it works for the most basic method **path** that counts the steps. We first obtain a few synsets:"
   ]
  },
  {
   "cell_type": "code",
   "execution_count": 12,
   "metadata": {},
   "outputs": [],
   "source": [
    "dog = wn.synset('dog.n.01')\n",
    "cat = wn.synset('cat.n.01')\n",
    "car = wn.synset('car.n.01')"
   ]
  },
  {
   "cell_type": "markdown",
   "metadata": {},
   "source": [
    "We can get the full hypernym path for these synsets:"
   ]
  },
  {
   "cell_type": "code",
   "execution_count": 13,
   "metadata": {},
   "outputs": [
    {
     "name": "stdout",
     "output_type": "stream",
     "text": [
      "dogs are a type of:\n",
      " Synset('entity.n.01')\n",
      "    Synset('physical_entity.n.01')\n",
      "       Synset('object.n.01')\n",
      "          Synset('whole.n.02')\n",
      "             Synset('living_thing.n.01')\n",
      "                Synset('organism.n.01')\n",
      "                   Synset('animal.n.01')\n",
      "                      Synset('chordate.n.01')\n",
      "                         Synset('vertebrate.n.01')\n",
      "                            Synset('mammal.n.01')\n",
      "                               Synset('placental.n.01')\n",
      "                                  Synset('carnivore.n.01')\n",
      "                                     Synset('canine.n.02')\n",
      "                                        Synset('dog.n.01')\n",
      " Synset('entity.n.01')\n",
      "    Synset('physical_entity.n.01')\n",
      "       Synset('object.n.01')\n",
      "          Synset('whole.n.02')\n",
      "             Synset('living_thing.n.01')\n",
      "                Synset('organism.n.01')\n",
      "                   Synset('animal.n.01')\n",
      "                      Synset('domestic_animal.n.01')\n",
      "                         Synset('dog.n.01')\n",
      "cats are a type of:\n",
      " Synset('entity.n.01')\n",
      "    Synset('physical_entity.n.01')\n",
      "       Synset('object.n.01')\n",
      "          Synset('whole.n.02')\n",
      "             Synset('living_thing.n.01')\n",
      "                Synset('organism.n.01')\n",
      "                   Synset('animal.n.01')\n",
      "                      Synset('chordate.n.01')\n",
      "                         Synset('vertebrate.n.01')\n",
      "                            Synset('mammal.n.01')\n",
      "                               Synset('placental.n.01')\n",
      "                                  Synset('carnivore.n.01')\n",
      "                                     Synset('feline.n.01')\n",
      "                                        Synset('cat.n.01')\n"
     ]
    }
   ],
   "source": [
    "print('dogs are a type of:')\n",
    "for path in dog.hypernym_paths():\n",
    "    indent = \"\"\n",
    "    for hyper in path:\n",
    "        print(indent, hyper)\n",
    "        indent += \"   \"\n",
    "\n",
    "print('cats are a type of:')\n",
    "for path in cat.hypernym_paths():\n",
    "    indent = \"\"\n",
    "    for hyper in path:\n",
    "        print(indent, hyper)\n",
    "        indent += \"   \""
   ]
  },
  {
   "cell_type": "markdown",
   "metadata": {},
   "source": [
    "First of all, we see that **cat** has only one path and we have seen that **dog** has two. The **cat** path is most similar to the **canine** path of **dog**."
   ]
  },
  {
   "cell_type": "markdown",
   "metadata": {},
   "source": [
    "We use the `path_similarity` function of a synset, which requires as input another synset. So let's get the score for dog and cat, where the function will use the shortest path from alternatives."
   ]
  },
  {
   "cell_type": "code",
   "execution_count": 14,
   "metadata": {},
   "outputs": [
    {
     "name": "stdout",
     "output_type": "stream",
     "text": [
      "0.2\n"
     ]
    }
   ],
   "source": [
    "print(dog.path_similarity(cat))"
   ]
  },
  {
   "cell_type": "markdown",
   "metadata": {},
   "source": [
    "Is this very similar? The only way to find out is to compare this with something else such as a **car**:"
   ]
  },
  {
   "cell_type": "code",
   "execution_count": 16,
   "metadata": {},
   "outputs": [
    {
     "name": "stdout",
     "output_type": "stream",
     "text": [
      "0.07692307692307693\n"
     ]
    }
   ],
   "source": [
    "car = wn.synset('car.n.01')\n",
    "print(dog.path_similarity(car))"
   ]
  },
  {
   "cell_type": "markdown",
   "metadata": {},
   "source": [
    "Right, this score is a lot lower."
   ]
  },
  {
   "cell_type": "markdown",
   "metadata": {},
   "source": [
    "Let's see if this also works for verbs."
   ]
  },
  {
   "cell_type": "code",
   "execution_count": 17,
   "metadata": {},
   "outputs": [
    {
     "name": "stdout",
     "output_type": "stream",
     "text": [
      "0.14285714285714285\n",
      "0.14285714285714285\n"
     ]
    }
   ],
   "source": [
    "hit = wn.synset('hit.v.01')\n",
    "slap = wn.synset('slap.v.01')\n",
    "print(hit.path_similarity(slap))\n",
    "print(wn.path_similarity(hit, slap))"
   ]
  },
  {
   "cell_type": "markdown",
   "metadata": {},
   "source": [
    "It seems to work well but......\n",
    "\n",
    "If you did some readings on WordNet, you know that the noun hierarchy has a single top-node synset 'entity-n-01'. All nominal synsets decent from this synset. This is not the case for verbs nor for adjectives. The verb part of WordNet therefore consists of '559' islands of disconnected synsets with 559 rootnodes. The English WordNet editors decided not to connect these islands in an artificial way as was done for nouns. We can see this when we get the hypernym path for each of the above synsets:"
   ]
  },
  {
   "cell_type": "code",
   "execution_count": 18,
   "metadata": {},
   "outputs": [
    {
     "name": "stdout",
     "output_type": "stream",
     "text": [
      "hit is a type of:\n",
      " Synset('move.v.02')\n",
      "    Synset('propel.v.01')\n",
      "       Synset('hit.v.01')\n",
      "slap is a type of:\n",
      " Synset('touch.v.01')\n",
      "    Synset('strike.v.01')\n",
      "       Synset('slap.v.01')\n"
     ]
    }
   ],
   "source": [
    "print('hit is a type of:')\n",
    "for path in hit.hypernym_paths():\n",
    "    indent = \"\"\n",
    "    for hyper in path:\n",
    "        print(indent, hyper)\n",
    "        indent += \"   \"\n",
    "print('slap is a type of:')\n",
    "for path in slap.hypernym_paths():\n",
    "    indent = \"\"\n",
    "    for hyper in path:\n",
    "        print(indent, hyper)\n",
    "        indent += \"   \""
   ]
  },
  {
   "cell_type": "markdown",
   "metadata": {},
   "source": [
    "So the top synsets **move** and **touch** are not connected in any way and there is no overlap between the pathes for the two verb synsets.\n",
    "\n",
    "We can also see this using the NLTK root_hypernyms() function for the above noun and verb synsets."
   ]
  },
  {
   "cell_type": "code",
   "execution_count": 19,
   "metadata": {},
   "outputs": [
    {
     "name": "stdout",
     "output_type": "stream",
     "text": [
      "Root for dog: [Synset('entity.n.01')]\n",
      "Root for cat: [Synset('entity.n.01')]\n",
      "Root for slap: [Synset('touch.v.01')]\n",
      "Root for hit: [Synset('move.v.02')]\n"
     ]
    }
   ],
   "source": [
    "print('Root for dog:', dog.root_hypernyms())\n",
    "print('Root for cat:', cat.root_hypernyms())\n",
    "print('Root for slap:', slap.root_hypernyms())\n",
    "print('Root for hit:', hit.root_hypernyms())"
   ]
  },
  {
   "cell_type": "markdown",
   "metadata": {},
   "source": [
    "How is it still possible to get a value for similarity if the subgraphs are not connected? Well, the package imposes a simulated root node by grouping all the subgraph top-nodes under a single node. This is the default setting. If you do not want to use this, you can turn it off by setting the parameter *simulate_root* to False."
   ]
  },
  {
   "cell_type": "code",
   "execution_count": 20,
   "metadata": {},
   "outputs": [
    {
     "name": "stdout",
     "output_type": "stream",
     "text": [
      "None\n",
      "None\n"
     ]
    }
   ],
   "source": [
    "print(hit.path_similarity(slap, simulate_root=False))\n",
    "print(wn.path_similarity(hit, slap, simulate_root=False))"
   ]
  },
  {
   "cell_type": "markdown",
   "metadata": {},
   "source": [
    "Without the simulated root there is no path from 'hit' to 'slap'."
   ]
  },
  {
   "cell_type": "markdown",
   "metadata": {},
   "source": [
    "## Using WordNet similarity for words instead of synsets"
   ]
  },
  {
   "cell_type": "markdown",
   "metadata": {},
   "source": [
    "Can we also determine the similarity of words?\n",
    "\n",
    "Yes we can but we first need to obtain all the synsets for a word and then compare each synset with the synsets of another word to get the most similar meanings of these words. \n",
    "We therefore need a **for-loop** inside a **for-loop**. The first loop gets the synsets for the first word and the second loop for each synset gets the synsets for the second word to compare."
   ]
  },
  {
   "cell_type": "code",
   "execution_count": 21,
   "metadata": {},
   "outputs": [
    {
     "name": "stdout",
     "output_type": "stream",
     "text": [
      "Synset('dog.n.01') :\n",
      "\t Synset('cat.n.01') : 0.2\n",
      "\t Synset('guy.n.01') : 0.125\n",
      "\t Synset('cat.n.03') : 0.125\n",
      "\t Synset('kat.n.01') : 0.07692307692307693\n",
      "\t Synset('cat-o'-nine-tails.n.01') : 0.08333333333333333\n",
      "\t Synset('caterpillar.n.02') : 0.07692307692307693\n",
      "\t Synset('big_cat.n.01') : 0.2\n",
      "\t Synset('computerized_tomography.n.01') : 0.05263157894736842\n",
      "Synset('frump.n.01') :\n",
      "\t Synset('cat.n.01') : 0.07142857142857142\n",
      "\t Synset('guy.n.01') : 0.125\n",
      "\t Synset('cat.n.03') : 0.125\n",
      "\t Synset('kat.n.01') : 0.1\n",
      "\t Synset('cat-o'-nine-tails.n.01') : 0.07142857142857142\n",
      "\t Synset('caterpillar.n.02') : 0.06666666666666667\n",
      "\t Synset('big_cat.n.01') : 0.07142857142857142\n",
      "\t Synset('computerized_tomography.n.01') : 0.05555555555555555\n",
      "Synset('dog.n.03') :\n",
      "\t Synset('cat.n.01') : 0.07692307692307693\n",
      "\t Synset('guy.n.01') : 0.2\n",
      "\t Synset('cat.n.03') : 0.14285714285714285\n",
      "\t Synset('kat.n.01') : 0.1111111111111111\n",
      "\t Synset('cat-o'-nine-tails.n.01') : 0.07692307692307693\n",
      "\t Synset('caterpillar.n.02') : 0.07142857142857142\n",
      "\t Synset('big_cat.n.01') : 0.07692307692307693\n",
      "\t Synset('computerized_tomography.n.01') : 0.058823529411764705\n",
      "Synset('cad.n.01') :\n",
      "\t Synset('cat.n.01') : 0.07692307692307693\n",
      "\t Synset('guy.n.01') : 0.14285714285714285\n",
      "\t Synset('cat.n.03') : 0.14285714285714285\n",
      "\t Synset('kat.n.01') : 0.1111111111111111\n",
      "\t Synset('cat-o'-nine-tails.n.01') : 0.07692307692307693\n",
      "\t Synset('caterpillar.n.02') : 0.07142857142857142\n",
      "\t Synset('big_cat.n.01') : 0.07692307692307693\n",
      "\t Synset('computerized_tomography.n.01') : 0.058823529411764705\n",
      "Synset('frank.n.02') :\n",
      "\t Synset('cat.n.01') : 0.05263157894736842\n",
      "\t Synset('guy.n.01') : 0.08333333333333333\n",
      "\t Synset('cat.n.03') : 0.08333333333333333\n",
      "\t Synset('kat.n.01') : 0.09090909090909091\n",
      "\t Synset('cat-o'-nine-tails.n.01') : 0.06666666666666667\n",
      "\t Synset('caterpillar.n.02') : 0.0625\n",
      "\t Synset('big_cat.n.01') : 0.05263157894736842\n",
      "\t Synset('computerized_tomography.n.01') : 0.05555555555555555\n",
      "Synset('pawl.n.01') :\n",
      "\t Synset('cat.n.01') : 0.058823529411764705\n",
      "\t Synset('guy.n.01') : 0.07692307692307693\n",
      "\t Synset('cat.n.03') : 0.07692307692307693\n",
      "\t Synset('kat.n.01') : 0.07142857142857142\n",
      "\t Synset('cat-o'-nine-tails.n.01') : 0.14285714285714285\n",
      "\t Synset('caterpillar.n.02') : 0.1\n",
      "\t Synset('big_cat.n.01') : 0.058823529411764705\n",
      "\t Synset('computerized_tomography.n.01') : 0.05\n",
      "Synset('andiron.n.01') :\n",
      "\t Synset('cat.n.01') : 0.0625\n",
      "\t Synset('guy.n.01') : 0.08333333333333333\n",
      "\t Synset('cat.n.03') : 0.08333333333333333\n",
      "\t Synset('kat.n.01') : 0.07692307692307693\n",
      "\t Synset('cat-o'-nine-tails.n.01') : 0.16666666666666666\n",
      "\t Synset('caterpillar.n.02') : 0.1111111111111111\n",
      "\t Synset('big_cat.n.01') : 0.0625\n",
      "\t Synset('computerized_tomography.n.01') : 0.05263157894736842\n"
     ]
    }
   ],
   "source": [
    "w1='dog'\n",
    "w2='cat'\n",
    "for s1 in wn.synsets(w1, 'n'):\n",
    "    print(s1,':')\n",
    "    for s2 in wn.synsets(w2, 'n'):\n",
    "        print('\\t', s2,':', s1.path_similarity(s2))"
   ]
  },
  {
   "cell_type": "markdown",
   "metadata": {},
   "source": [
    "We can use the highest similarity from all pairs to find the strongest association."
   ]
  },
  {
   "cell_type": "code",
   "execution_count": 22,
   "metadata": {},
   "outputs": [
    {
     "name": "stdout",
     "output_type": "stream",
     "text": [
      "Most similar are Synset('dog.n.01') Synset('cat.n.01') : 0.2\n",
      "Most similar are Synset('frump.n.01') Synset('guy.n.01') : 0.125\n",
      "Most similar are Synset('dog.n.03') Synset('guy.n.01') : 0.2\n",
      "Most similar are Synset('cad.n.01') Synset('guy.n.01') : 0.14285714285714285\n",
      "Most similar are Synset('frank.n.02') Synset('kat.n.01') : 0.09090909090909091\n",
      "Most similar are Synset('pawl.n.01') Synset('cat-o'-nine-tails.n.01') : 0.14285714285714285\n",
      "Most similar are Synset('andiron.n.01') Synset('cat-o'-nine-tails.n.01') : 0.16666666666666666\n"
     ]
    }
   ],
   "source": [
    "w1='dog'\n",
    "w2='cat'\n",
    "for s1 in wn.synsets(w1, 'n'):\n",
    "    top_sim_score = 0    \n",
    "    top_sim_synset_w1 = \"\"\n",
    "    top_sim_synset_w2 = \"\"\n",
    "    for s2 in wn.synsets(w2, 'n'):\n",
    "        sim = s1.path_similarity(s2)\n",
    "        if sim>top_sim_score:\n",
    "            top_sim_score = sim\n",
    "            top_sim_synset_w2 = s2\n",
    "    print('Most similar are', s1, top_sim_synset_w2,':', top_sim_score)"
   ]
  },
  {
   "cell_type": "markdown",
   "metadata": {},
   "source": [
    "If you need to use this code more often, it is convenient to define a function for it and always call this function instead of re-typing this code. Here is the function to measure shortest distance through the path function for any pair of words. This function assumes you imported NLTK wordnet as wn."
   ]
  },
  {
   "cell_type": "code",
   "execution_count": 24,
   "metadata": {},
   "outputs": [],
   "source": [
    "import nltk\n",
    "from nltk.corpus import wordnet as wn\n",
    "\n",
    "def word_similarity_wordnet_path(w1, w2):\n",
    "    top_sim_score = 0    \n",
    "    top_sim_synset_w1 = \"\"\n",
    "    top_sim_synset_w2 = \"\"\n",
    "    for s1 in wn.synsets(w1, 'n'):\n",
    "        for s2 in wn.synsets(w2, 'n'):\n",
    "            sim = s1.path_similarity(s2)\n",
    "            if sim>top_sim_score:\n",
    "                top_sim_score = sim\n",
    "                top_sim_synset_w1 = s1\n",
    "                top_sim_synset_w2 = s2\n",
    "    return top_sim_synset_w1, top_sim_synset_w2, top_sim_score"
   ]
  },
  {
   "cell_type": "code",
   "execution_count": 25,
   "metadata": {},
   "outputs": [
    {
     "name": "stdout",
     "output_type": "stream",
     "text": [
      "Synset('mouse.n.04') a hand-operated electronic device that controls the coordinates of a cursor on your computer screen as you move it around on a pad; on the bottom of the device is a ball that rolls on the surface of the pad\n",
      "Synset('keyboard.n.01') device consisting of a set of keys on a piano or organ or typewriter or typesetting machine or computer or the like\n",
      "Similarity 0.25\n"
     ]
    }
   ],
   "source": [
    "s1, s2, sim = word_similarity_wordnet_path(\"mouse\", \"keyboard\")\n",
    "print(s1, s1.definition())\n",
    "print(s2, s2.definition())\n",
    "print(\"Similarity\", sim)"
   ]
  },
  {
   "cell_type": "markdown",
   "metadata": {},
   "source": [
    "WordNet uses explicit representations of the meanings of words. It is debatable what these meanings are even when they were created by trained experts. In the next notebook, we look at word embeddings which do not distinguish between meanings at all. They plot words directly into a semantic space instead of words mapped to concepts first through their meanings."
   ]
  },
  {
   "cell_type": "markdown",
   "metadata": {},
   "source": [
    "## Wordnets in other languages"
   ]
  },
  {
   "cell_type": "markdown",
   "metadata": {},
   "source": [
    "There are wordnets in many different languages and many are linked to English. The ones that are freely available in the Open Multilingual Wordnet platform are also available in NLTK. You can use \"wn.langs\" to get the full list."
   ]
  },
  {
   "cell_type": "markdown",
   "metadata": {},
   "source": [
    "You might get an error regarding NLTK not finding a 'omw' dataset. You can download it just like you did in lab1."
   ]
  },
  {
   "cell_type": "code",
   "execution_count": 12,
   "metadata": {
    "tags": []
   },
   "outputs": [
    {
     "name": "stderr",
     "output_type": "stream",
     "text": [
      "[nltk_data] Downloading package omw to /Users/piek/nltk_data...\n",
      "[nltk_data]   Package omw is already up-to-date!\n"
     ]
    },
    {
     "data": {
      "text/plain": [
       "True"
      ]
     },
     "execution_count": 12,
     "metadata": {},
     "output_type": "execute_result"
    }
   ],
   "source": [
    "import nltk\n",
    "nltk.download('omw')"
   ]
  },
  {
   "cell_type": "markdown",
   "metadata": {},
   "source": [
    "Let's check out which languages have wordnets in the OMW package:"
   ]
  },
  {
   "cell_type": "code",
   "execution_count": 13,
   "metadata": {
    "pycharm": {
     "name": "#%%\n"
    },
    "tags": []
   },
   "outputs": [
    {
     "name": "stdout",
     "output_type": "stream",
     "text": [
      "['als', 'arb', 'bul', 'cat', 'cmn', 'dan', 'ell', 'eng', 'eus', 'fas', 'fin', 'fra', 'glg', 'heb', 'hrv', 'ind', 'ita', 'jpn', 'nld', 'nno', 'nob', 'pol', 'por', 'qcn', 'slv', 'spa', 'swe', 'tha', 'zsm']\n"
     ]
    }
   ],
   "source": [
    "print(sorted(wn.langs()))"
   ]
  },
  {
   "cell_type": "markdown",
   "metadata": {},
   "source": [
    "The listed language wordnets are created by translating the English synsets, following the so-called `Expand Method` (Vossen (ed.) 1998). This means that the concepts of the English wordnet are re-used and only the synonyms in the synsets are translated. Another approach is the merge method in which a wordnet is built independently from English and mapped to English afterwards. Only few wordnets are built following a merge approach and, often, they are not freely available as they started from existing dictionaries. The main reason for this is that building a wordnet from scratch is very expensive and labour-intensive.\n",
    "\n",
    "    Vossen, Piek. \"Introduction to eurowordnet.\" In EuroWordNet: A multilingual database with lexical semantic networks, pp. 1-17. Springer, Dordrecht, 1998.\n",
    "\n",
    "In NLTK, you only find wordnets built following the `Expand Method`. "
   ]
  },
  {
   "cell_type": "markdown",
   "metadata": {},
   "source": [
    "Starting from the English wordnet, you can  ask for any language lemmas linked to any English-based synset.\n",
    "\n",
    "Are there any Japanese lemmas linked to English dog sense 1? \n",
    "\n",
    "For this we need to use the function **lemma_names** on the synset and pass in the  3-letter language tag as a parameter: "
   ]
  },
  {
   "cell_type": "code",
   "execution_count": 14,
   "metadata": {
    "tags": []
   },
   "outputs": [
    {
     "data": {
      "text/plain": [
       "['イヌ', 'ドッグ', '洋犬', '犬', '飼犬', '飼い犬']"
      ]
     },
     "execution_count": 14,
     "metadata": {},
     "output_type": "execute_result"
    }
   ],
   "source": [
    "# Are there any Japanese lemmas linked to English dog sense 1\n",
    "wn.synset('dog.n.01').lemma_names('jpn')"
   ]
  },
  {
   "cell_type": "code",
   "execution_count": 15,
   "metadata": {
    "tags": []
   },
   "outputs": [
    {
     "data": {
      "text/plain": [
       "['hond', 'joekel']"
      ]
     },
     "execution_count": 15,
     "metadata": {},
     "output_type": "execute_result"
    }
   ],
   "source": [
    "# The same for Dutch\n",
    "wn.synset('dog.n.01').lemma_names('nld')"
   ]
  },
  {
   "cell_type": "markdown",
   "metadata": {},
   "source": [
    "So that is great but can we also get the synset directly through a Dutch or Japanese synonym?"
   ]
  },
  {
   "cell_type": "code",
   "execution_count": 16,
   "metadata": {
    "tags": []
   },
   "outputs": [
    {
     "data": {
      "text/plain": [
       "[]"
      ]
     },
     "execution_count": 16,
     "metadata": {},
     "output_type": "execute_result"
    }
   ],
   "source": [
    "wn.synsets('dog.n.01.hond')"
   ]
  },
  {
   "cell_type": "markdown",
   "metadata": {},
   "source": [
    "Unfortunately not. You cannot directly get the synsets in Wordnet through the same interface we have used before for 'dog'. The next call therefore also does not work:"
   ]
  },
  {
   "cell_type": "code",
   "execution_count": 17,
   "metadata": {
    "tags": []
   },
   "outputs": [
    {
     "name": "stdout",
     "output_type": "stream",
     "text": [
      "Number of synsets with \"hond\" as a synonym: 0\n",
      "[]\n"
     ]
    }
   ],
   "source": [
    "all_dog_synsets = wn.synsets('hond')\n",
    "print('Number of synsets with \"hond\" as a synonym:', len(all_dog_synsets))\n",
    "print(all_dog_synsets)"
   ]
  },
  {
   "cell_type": "markdown",
   "metadata": {},
   "source": [
    "To obtain the synsets for a non-English word, we first have to use the wn.lemmas() function to get the list of lemma objects for a specific language. The next cell shows this for the Dutch lemma *hond*."
   ]
  },
  {
   "cell_type": "code",
   "execution_count": 18,
   "metadata": {
    "tags": []
   },
   "outputs": [
    {
     "name": "stdout",
     "output_type": "stream",
     "text": [
      "[Lemma('dog.n.01.hond'), Lemma('asshole.n.01.hond')]\n"
     ]
    }
   ],
   "source": [
    "dutch_dog_lemmas = wn.lemmas('hond', lang='nld')\n",
    "print(dutch_dog_lemmas)"
   ]
  },
  {
   "cell_type": "code",
   "execution_count": 19,
   "metadata": {
    "tags": []
   },
   "outputs": [
    {
     "data": {
      "text/plain": [
       "nltk.corpus.reader.wordnet.Lemma"
      ]
     },
     "execution_count": 19,
     "metadata": {},
     "output_type": "execute_result"
    }
   ],
   "source": [
    "type(dutch_dog_lemmas[0])"
   ]
  },
  {
   "cell_type": "markdown",
   "metadata": {},
   "source": [
    "*Lemma* is yet another class defined in the wordnet module with attributes and functions, some of which overlap with those of a synset. Let's check them out through the 'dir' function."
   ]
  },
  {
   "cell_type": "code",
   "execution_count": 20,
   "metadata": {
    "tags": []
   },
   "outputs": [
    {
     "data": {
      "text/plain": [
       "['__class__',\n",
       " '__delattr__',\n",
       " '__dict__',\n",
       " '__dir__',\n",
       " '__doc__',\n",
       " '__eq__',\n",
       " '__format__',\n",
       " '__ge__',\n",
       " '__getattribute__',\n",
       " '__gt__',\n",
       " '__hash__',\n",
       " '__init__',\n",
       " '__init_subclass__',\n",
       " '__le__',\n",
       " '__lt__',\n",
       " '__module__',\n",
       " '__ne__',\n",
       " '__new__',\n",
       " '__reduce__',\n",
       " '__reduce_ex__',\n",
       " '__repr__',\n",
       " '__setattr__',\n",
       " '__sizeof__',\n",
       " '__slots__',\n",
       " '__str__',\n",
       " '__subclasshook__',\n",
       " '__unicode__',\n",
       " '__weakref__',\n",
       " '_frame_ids',\n",
       " '_frame_strings',\n",
       " '_hypernyms',\n",
       " '_instance_hypernyms',\n",
       " '_key',\n",
       " '_lang',\n",
       " '_lex_id',\n",
       " '_lexname_index',\n",
       " '_name',\n",
       " '_related',\n",
       " '_synset',\n",
       " '_syntactic_marker',\n",
       " '_wordnet_corpus_reader',\n",
       " 'also_sees',\n",
       " 'antonyms',\n",
       " 'attributes',\n",
       " 'causes',\n",
       " 'count',\n",
       " 'derivationally_related_forms',\n",
       " 'entailments',\n",
       " 'frame_ids',\n",
       " 'frame_strings',\n",
       " 'hypernyms',\n",
       " 'hyponyms',\n",
       " 'in_region_domains',\n",
       " 'in_topic_domains',\n",
       " 'in_usage_domains',\n",
       " 'instance_hypernyms',\n",
       " 'instance_hyponyms',\n",
       " 'key',\n",
       " 'lang',\n",
       " 'member_holonyms',\n",
       " 'member_meronyms',\n",
       " 'name',\n",
       " 'part_holonyms',\n",
       " 'part_meronyms',\n",
       " 'pertainyms',\n",
       " 'region_domains',\n",
       " 'similar_tos',\n",
       " 'substance_holonyms',\n",
       " 'substance_meronyms',\n",
       " 'synset',\n",
       " 'syntactic_marker',\n",
       " 'topic_domains',\n",
       " 'unicode_repr',\n",
       " 'usage_domains',\n",
       " 'verb_groups']"
      ]
     },
     "execution_count": 20,
     "metadata": {},
     "output_type": "execute_result"
    }
   ],
   "source": [
    "dutch_lemma = dutch_dog_lemmas[0]\n",
    "dir(dutch_lemma)"
   ]
  },
  {
   "cell_type": "markdown",
   "metadata": {},
   "source": [
    "Some are different from the `Synset` functions such as lang(). The function *.synset()* can be used to get the synsets associated with a lemma. Obviously, the synset information is the same as for the English wordnet because the Open Dutch Wordnet: http://wordpress.let.vupr.nl/odwn/ was created by expanding the English wordnet:\n",
    "\n",
    "    Postma, Marten, Emiel Van Miltenburg, Roxane Segers, Anneleen Schoen, and Piek Vossen. \"Open dutch wordnet.\" In Proceedings of the 8th Global WordNet Conference (GWC), pp. 302-310. 2016\n",
    "    "
   ]
  },
  {
   "cell_type": "code",
   "execution_count": 21,
   "metadata": {
    "tags": []
   },
   "outputs": [
    {
     "name": "stdout",
     "output_type": "stream",
     "text": [
      "Lemma('dog.n.01.hond') nld\n",
      "Synsets: Synset('dog.n.01')\n",
      "Synonym: hond\n",
      "Hypernyms: [Synset('canine.n.02'), Synset('domestic_animal.n.01')]\n",
      "Definition: a member of the genus Canis (probably descended from the common wolf) that has been domesticated by man since prehistoric times; occurs in many breeds\n"
     ]
    }
   ],
   "source": [
    "print(dutch_lemma, dutch_lemma.lang())\n",
    "\n",
    "dutch_dog_synset = dutch_lemma.synset()\n",
    "print('Synsets:', dutch_dog_synset)\n",
    "print('Synonym:', dutch_lemma._name)\n",
    "print('Hypernyms:', dutch_dog_synset.hypernyms())\n",
    "print('Definition:', dutch_dog_synset.definition())"
   ]
  },
  {
   "cell_type": "markdown",
   "metadata": {},
   "source": [
    "So we have many wordnets in different languages. Can we get statistics on their coverage?"
   ]
  },
  {
   "cell_type": "code",
   "execution_count": 22,
   "metadata": {
    "tags": []
   },
   "outputs": [
    {
     "name": "stdout",
     "output_type": "stream",
     "text": [
      "English: 117798\n",
      "Dutch: 36896\n",
      "Italian: 31477\n",
      "Japanese: 64797\n",
      "Slovene: 31631\n",
      "Spanish: 28647\n"
     ]
    }
   ],
   "source": [
    "print('English:', len(list(wn.all_lemma_names(pos='n', lang='eng'))))\n",
    "\n",
    "print('Dutch:', len(list(wn.all_lemma_names(pos='n', lang='nld'))))\n",
    "print('Italian:', len(list(wn.all_lemma_names(pos='n', lang='ita'))))\n",
    "print('Japanese:', len(list(wn.all_lemma_names(pos='n', lang='jpn'))))\n",
    "print('Slovene:', len(list(wn.all_lemma_names(pos='n', lang='slv'))))\n",
    "print('Spanish:', len(list(wn.all_lemma_names(pos='n', lang='spa'))))"
   ]
  },
  {
   "cell_type": "markdown",
   "metadata": {},
   "source": [
    "We can see that English has a lot more synonyms than the other wordnets. So there is still work to be done."
   ]
  },
  {
   "cell_type": "code",
   "execution_count": 23,
   "metadata": {
    "tags": []
   },
   "outputs": [
    {
     "name": "stdout",
     "output_type": "stream",
     "text": [
      "Number of dogs: 18\n",
      "\n",
      "Synset('basenji.n.01')\n",
      "small smooth-haired breed of African origin having a tightly curled tail and the inability to bark\n",
      "English: ['basenji']\n",
      "Dutch: []\n",
      "Japanese: []\n",
      "Italian: ['basenji', 'cane_del_Congo']\n",
      "Spanish: ['basenji']\n",
      "\n",
      "Synset('corgi.n.01')\n",
      "either of two Welsh breeds of long-bodied short-legged dogs with erect ears and a fox-like head\n",
      "English: ['corgi', 'Welsh_corgi']\n",
      "Dutch: []\n",
      "Japanese: ['ウェルシュ・コーギー']\n",
      "Italian: []\n",
      "Spanish: []\n",
      "\n",
      "Synset('cur.n.01')\n",
      "an inferior dog or one of mixed breed\n",
      "English: ['cur', 'mongrel', 'mutt']\n",
      "Dutch: ['mormel', 'idioot', 'halve_gare', 'bastaard', 'bastaardhond', 'straathond']\n",
      "Japanese: ['雑犬', '雑種犬', '駄犬']\n",
      "Italian: ['bastardo']\n",
      "Spanish: ['chucho', 'gozque', 'mestizo']\n",
      "\n",
      "Synset('dalmatian.n.02')\n",
      "a large breed having a smooth white coat with black or brown spots; originated in Dalmatia\n",
      "English: ['dalmatian', 'coach_dog', 'carriage_dog']\n",
      "Dutch: ['dalmatiër', 'Dalmatische']\n",
      "Japanese: []\n",
      "Italian: ['dalmata']\n",
      "Spanish: []\n",
      "\n",
      "Synset('great_pyrenees.n.01')\n",
      "bred of large heavy-coated white dogs resembling the Newfoundland\n",
      "English: ['Great_Pyrenees']\n",
      "Dutch: []\n",
      "Japanese: []\n",
      "Italian: ['mastino_dei_Pirenei']\n",
      "Spanish: []\n",
      "\n",
      "Synset('griffon.n.02')\n",
      "breed of various very small compact wiry-coated dogs of Belgian origin having a short bearded muzzle\n",
      "English: ['griffon', 'Brussels_griffon', 'Belgian_griffon']\n",
      "Dutch: []\n",
      "Japanese: ['グリフォン', 'ブリュッセルグリフォン', 'グリフォンブリュッセロワ']\n",
      "Italian: []\n",
      "Spanish: ['grifón']\n",
      "\n",
      "Synset('hunting_dog.n.01')\n",
      "a dog used in hunting game\n",
      "English: ['hunting_dog']\n",
      "Dutch: []\n",
      "Japanese: ['猟犬']\n",
      "Italian: ['cane_da_caccia']\n",
      "Spanish: []\n",
      "\n",
      "Synset('lapdog.n.01')\n",
      "a dog small and tame enough to be held in the lap\n",
      "English: ['lapdog']\n",
      "Dutch: []\n",
      "Japanese: []\n",
      "Italian: ['cagnolino', 'cagnolino_da_salotto']\n",
      "Spanish: []\n",
      "\n",
      "Synset('leonberg.n.01')\n",
      "a large dog (usually with a golden coat) produced by crossing a St Bernard and a Newfoundland\n",
      "English: ['Leonberg']\n",
      "Dutch: []\n",
      "Japanese: []\n",
      "Italian: []\n",
      "Spanish: []\n",
      "\n",
      "Synset('mexican_hairless.n.01')\n",
      "any of an old breed of small nearly hairless dogs of Mexico\n",
      "English: ['Mexican_hairless']\n",
      "Dutch: []\n",
      "Japanese: []\n",
      "Italian: []\n",
      "Spanish: []\n",
      "\n",
      "Synset('newfoundland.n.01')\n",
      "a breed of very large heavy dogs with a thick coarse usually black coat; highly intelligent dogs and vigorous swimmers; developed in Newfoundland\n",
      "English: ['Newfoundland', 'Newfoundland_dog']\n",
      "Dutch: []\n",
      "Japanese: []\n",
      "Italian: ['terranova', 'Terranova']\n",
      "Spanish: []\n",
      "\n",
      "Synset('pooch.n.01')\n",
      "informal terms for dogs\n",
      "English: ['pooch', 'doggie', 'doggy', 'barker', 'bow-wow']\n",
      "Dutch: ['bastaard', 'vuilnisbakkie']\n",
      "Japanese: ['わんこ', 'わんわん', 'わんちゃん']\n",
      "Italian: []\n",
      "Spanish: []\n",
      "\n",
      "Synset('poodle.n.01')\n",
      "an intelligent dog with a heavy curly solid-colored coat that is usually clipped; an old breed sometimes trained as sporting dogs or as performing dogs\n",
      "English: ['poodle', 'poodle_dog']\n",
      "Dutch: ['poedel']\n",
      "Japanese: ['プードル']\n",
      "Italian: ['barbone']\n",
      "Spanish: []\n",
      "\n",
      "Synset('pug.n.01')\n",
      "small compact smooth-coated breed of Asiatic origin having a tightly curled tail and broad flat wrinkled muzzle\n",
      "English: ['pug', 'pug-dog']\n",
      "Dutch: ['mops', 'mopshond']\n",
      "Japanese: ['パグ']\n",
      "Italian: []\n",
      "Spanish: ['pug']\n",
      "\n",
      "Synset('puppy.n.01')\n",
      "a young dog\n",
      "English: ['puppy']\n",
      "Dutch: ['hondejong', 'hondenjong', 'pup', 'puppy']\n",
      "Japanese: ['仔犬', '子犬', '小犬', '犬ころ', '犬児', '犬子', '狆ころ']\n",
      "Italian: ['cucciolo']\n",
      "Spanish: []\n",
      "\n",
      "Synset('spitz.n.01')\n",
      "any of various stocky heavy-coated breeds of dogs native to northern regions having pointed muzzles and erect ears with a curled furry tail\n",
      "English: ['spitz']\n",
      "Dutch: []\n",
      "Japanese: []\n",
      "Italian: []\n",
      "Spanish: ['spitz']\n",
      "\n",
      "Synset('toy_dog.n.01')\n",
      "any of several breeds of very small dogs kept purely as pets\n",
      "English: ['toy_dog', 'toy']\n",
      "Dutch: []\n",
      "Japanese: ['愛玩犬']\n",
      "Italian: []\n",
      "Spanish: []\n",
      "\n",
      "Synset('working_dog.n.01')\n",
      "any of several breeds of usually large powerful dogs bred to work as draft animals and guard and guide dogs\n",
      "English: ['working_dog']\n",
      "Dutch: ['werkhond']\n",
      "Japanese: ['ワーキングドッグ']\n",
      "Italian: ['cane_da_lavoro']\n",
      "Spanish: []\n",
      "\n"
     ]
    }
   ],
   "source": [
    "dog = wn.synset ('dog.n.01')\n",
    "dogs = dog.hyponyms()\n",
    "print('Number of dogs:', len(dogs))\n",
    "print()\n",
    "for s in dogs:\n",
    "    print(s)\n",
    "    print(s.definition())\n",
    "    print('English:', s.lemma_names('eng'))\n",
    "    print('Dutch:', s.lemma_names('nld'))\n",
    "    print('Japanese:', s.lemma_names('jpn'))\n",
    "    print('Italian:', s.lemma_names('ita'))\n",
    "    print('Spanish:', s.lemma_names('spa'))\n",
    "    print()"
   ]
  },
  {
   "cell_type": "markdown",
   "metadata": {},
   "source": [
    "We can now call the ```get_lemmas_from_wordnet_family``` function for another language:"
   ]
  },
  {
   "cell_type": "code",
   "execution_count": 11,
   "metadata": {},
   "outputs": [
    {
     "name": "stdout",
     "output_type": "stream",
     "text": [
      "There are so many Dutch dogs in WordNet: 69\n",
      "['mormel', 'idioot', 'halve_gare', 'bastaard', 'bastaardhond', 'straathond', 'dalmatiër', 'Dalmatische', 'bastaard', 'vuilnisbakkie', 'poedel', 'mops', 'mopshond', 'hondejong', 'hondenjong', 'pup', 'puppy', 'werkhond', 'Feist', 'dashond', 'taks', 'teckel', 'jachthond', 'vogelhond', 'terriër', 'Afghaanse_windhond', 'brak', 'snuffelaar', 'beagle', 'brak', 'vossenjacht', 'hazewind', 'hazewindhond', 'windhond', 'hond_voor_jacht_op_otters', 'trillen_op_zijn_benen', 'spaniël', 'waterhond', 'golden_retriever', 'Ierse_setter', 'bulterriër', 'Schotse_terriër', 'pitbullterriër', 'eten', 'keeshond', 'Pommers', 'Samojeed', 'chihuahua', 'Maltese', 'boxer', 'pugilist', 'vuistvechter', 'bokser', 'buldog', 'sledehond', 'bulhond', 'mastiff', 'politiehond', 'herdershond', 'sledehond', 'waakhond', 'Tibetaanse_mastiff', 'belgische_herder', 'Duitse_herdershond', 'komondor', 'Siberische_husky', 'schippersklokje', 'schippertje', 'dwergpinscher']\n"
     ]
    }
   ],
   "source": [
    "\n",
    "dutch_dog_lemmas = get_lemmas_from_wordnet_family(dog_family, 'nld')\n",
    "print('There are so many Dutch dogs in WordNet:', len(dutch_dog_lemmas))\n",
    "print(dutch_dog_lemmas)"
   ]
  },
  {
   "cell_type": "code",
   "execution_count": 33,
   "metadata": {
    "tags": []
   },
   "outputs": [
    {
     "name": "stdout",
     "output_type": "stream",
     "text": [
      "Synset('basenji.n.01')\n",
      "small smooth-haired breed of African origin having a tightly curled tail and the inability to bark\n",
      "English: ['basenji']\n",
      "Dutch: []\n",
      "Japanese: []\n",
      "Italian: ['basenji', 'cane_del_Congo']\n",
      "Spanish: ['basenji']\n",
      "\n",
      "Synset('corgi.n.01')\n",
      "either of two Welsh breeds of long-bodied short-legged dogs with erect ears and a fox-like head\n",
      "English: ['corgi', 'Welsh_corgi']\n",
      "Dutch: []\n",
      "Japanese: ['ウェルシュ・コーギー']\n",
      "Italian: []\n",
      "Spanish: []\n",
      "\n",
      "Synset('cur.n.01')\n",
      "an inferior dog or one of mixed breed\n",
      "English: ['cur', 'mongrel', 'mutt']\n",
      "Dutch: ['mormel', 'idioot', 'halve_gare', 'bastaard', 'bastaardhond', 'straathond']\n",
      "Japanese: ['雑犬', '雑種犬', '駄犬']\n",
      "Italian: ['bastardo']\n",
      "Spanish: ['chucho', 'gozque', 'mestizo']\n",
      "\n",
      "Synset('dalmatian.n.02')\n",
      "a large breed having a smooth white coat with black or brown spots; originated in Dalmatia\n",
      "English: ['dalmatian', 'coach_dog', 'carriage_dog']\n",
      "Dutch: ['dalmatiër', 'Dalmatische']\n",
      "Japanese: []\n",
      "Italian: ['dalmata']\n",
      "Spanish: []\n",
      "\n",
      "Synset('great_pyrenees.n.01')\n",
      "bred of large heavy-coated white dogs resembling the Newfoundland\n",
      "English: ['Great_Pyrenees']\n",
      "Dutch: []\n",
      "Japanese: []\n",
      "Italian: ['mastino_dei_Pirenei']\n",
      "Spanish: []\n",
      "\n",
      "Synset('griffon.n.02')\n",
      "breed of various very small compact wiry-coated dogs of Belgian origin having a short bearded muzzle\n",
      "English: ['griffon', 'Brussels_griffon', 'Belgian_griffon']\n",
      "Dutch: []\n",
      "Japanese: ['グリフォン', 'ブリュッセルグリフォン', 'グリフォンブリュッセロワ']\n",
      "Italian: []\n",
      "Spanish: ['grifón']\n",
      "\n",
      "Synset('hunting_dog.n.01')\n",
      "a dog used in hunting game\n",
      "English: ['hunting_dog']\n",
      "Dutch: []\n",
      "Japanese: ['猟犬']\n",
      "Italian: ['cane_da_caccia']\n",
      "Spanish: []\n",
      "\n",
      "Synset('lapdog.n.01')\n",
      "a dog small and tame enough to be held in the lap\n",
      "English: ['lapdog']\n",
      "Dutch: []\n",
      "Japanese: []\n",
      "Italian: ['cagnolino', 'cagnolino_da_salotto']\n",
      "Spanish: []\n",
      "\n",
      "Synset('leonberg.n.01')\n",
      "a large dog (usually with a golden coat) produced by crossing a St Bernard and a Newfoundland\n",
      "English: ['Leonberg']\n",
      "Dutch: []\n",
      "Japanese: []\n",
      "Italian: []\n",
      "Spanish: []\n",
      "\n",
      "Synset('mexican_hairless.n.01')\n",
      "any of an old breed of small nearly hairless dogs of Mexico\n",
      "English: ['Mexican_hairless']\n",
      "Dutch: []\n",
      "Japanese: []\n",
      "Italian: []\n",
      "Spanish: []\n",
      "\n",
      "Synset('newfoundland.n.01')\n",
      "a breed of very large heavy dogs with a thick coarse usually black coat; highly intelligent dogs and vigorous swimmers; developed in Newfoundland\n",
      "English: ['Newfoundland', 'Newfoundland_dog']\n",
      "Dutch: []\n",
      "Japanese: []\n",
      "Italian: ['terranova', 'Terranova']\n",
      "Spanish: []\n",
      "\n",
      "Synset('pooch.n.01')\n",
      "informal terms for dogs\n",
      "English: ['pooch', 'doggie', 'doggy', 'barker', 'bow-wow']\n",
      "Dutch: ['bastaard', 'vuilnisbakkie']\n",
      "Japanese: ['わんこ', 'わんわん', 'わんちゃん']\n",
      "Italian: []\n",
      "Spanish: []\n",
      "\n",
      "Synset('poodle.n.01')\n",
      "an intelligent dog with a heavy curly solid-colored coat that is usually clipped; an old breed sometimes trained as sporting dogs or as performing dogs\n",
      "English: ['poodle', 'poodle_dog']\n",
      "Dutch: ['poedel']\n",
      "Japanese: ['プードル']\n",
      "Italian: ['barbone']\n",
      "Spanish: []\n",
      "\n",
      "Synset('pug.n.01')\n",
      "small compact smooth-coated breed of Asiatic origin having a tightly curled tail and broad flat wrinkled muzzle\n",
      "English: ['pug', 'pug-dog']\n",
      "Dutch: ['mops', 'mopshond']\n",
      "Japanese: ['パグ']\n",
      "Italian: []\n",
      "Spanish: ['pug']\n",
      "\n",
      "Synset('puppy.n.01')\n",
      "a young dog\n",
      "English: ['puppy']\n",
      "Dutch: ['hondejong', 'hondenjong', 'pup', 'puppy']\n",
      "Japanese: ['仔犬', '子犬', '小犬', '犬ころ', '犬児', '犬子', '狆ころ']\n",
      "Italian: ['cucciolo']\n",
      "Spanish: []\n",
      "\n",
      "Synset('spitz.n.01')\n",
      "any of various stocky heavy-coated breeds of dogs native to northern regions having pointed muzzles and erect ears with a curled furry tail\n",
      "English: ['spitz']\n",
      "Dutch: []\n",
      "Japanese: []\n",
      "Italian: []\n",
      "Spanish: ['spitz']\n",
      "\n",
      "Synset('toy_dog.n.01')\n",
      "any of several breeds of very small dogs kept purely as pets\n",
      "English: ['toy_dog', 'toy']\n",
      "Dutch: []\n",
      "Japanese: ['愛玩犬']\n",
      "Italian: []\n",
      "Spanish: []\n",
      "\n",
      "Synset('working_dog.n.01')\n",
      "any of several breeds of usually large powerful dogs bred to work as draft animals and guard and guide dogs\n",
      "English: ['working_dog']\n",
      "Dutch: ['werkhond']\n",
      "Japanese: ['ワーキングドッグ']\n",
      "Italian: ['cane_da_lavoro']\n",
      "Spanish: []\n",
      "\n",
      "Synset('cardigan.n.02')\n",
      "slightly bowlegged variety of corgi having rounded ears and a long tail\n",
      "English: ['Cardigan', 'Cardigan_Welsh_corgi']\n",
      "Dutch: []\n",
      "Japanese: ['カーディガン']\n",
      "Italian: []\n",
      "Spanish: []\n",
      "\n",
      "Synset('pembroke.n.01')\n",
      "the smaller and straight-legged variety of corgi having pointed ears and a short tail\n",
      "English: ['Pembroke', 'Pembroke_Welsh_corgi']\n",
      "Dutch: []\n",
      "Japanese: ['ペンブローク']\n",
      "Italian: []\n",
      "Spanish: []\n",
      "\n",
      "Synset('feist.n.01')\n",
      "a nervous belligerent little mongrel dog\n",
      "English: ['feist', 'fice']\n",
      "Dutch: ['Feist']\n",
      "Japanese: []\n",
      "Italian: []\n",
      "Spanish: []\n",
      "\n",
      "Synset('pariah_dog.n.01')\n",
      "ownerless half-wild mongrel dog common around Asian villages especially India\n",
      "English: ['pariah_dog', 'pye-dog', 'pie-dog']\n",
      "Dutch: []\n",
      "Japanese: ['パイ', 'パリア', 'パリア犬']\n",
      "Italian: []\n",
      "Spanish: []\n",
      "\n",
      "Synset('liver-spotted_dalmatian.n.01')\n",
      "a brown-spotted dalmatian\n",
      "English: ['liver-spotted_dalmatian']\n",
      "Dutch: []\n",
      "Japanese: []\n",
      "Italian: []\n",
      "Spanish: []\n",
      "\n",
      "Synset('brabancon_griffon.n.01')\n",
      "a variety of Brussels griffon having a short smooth coat\n",
      "English: ['Brabancon_griffon']\n",
      "Dutch: []\n",
      "Japanese: ['ブラバンソングリフォン']\n",
      "Italian: []\n",
      "Spanish: []\n",
      "\n",
      "Synset('courser.n.03')\n",
      "a dog trained for coursing\n",
      "English: ['courser']\n",
      "Dutch: []\n",
      "Japanese: []\n",
      "Italian: []\n",
      "Spanish: []\n",
      "\n",
      "Synset('dachshund.n.01')\n",
      "small long-bodied short-legged German breed of dog having a short sleek coat and long drooping ears; suited for following game into burrows\n",
      "English: ['dachshund', 'dachsie', 'badger_dog']\n",
      "Dutch: ['dashond', 'taks', 'teckel']\n",
      "Japanese: ['ダックスフント']\n",
      "Italian: ['bassotto']\n",
      "Spanish: ['dachshund']\n",
      "\n",
      "Synset('hound.n.01')\n",
      "any of several breeds of dog used for hunting typically having large drooping ears\n",
      "English: ['hound', 'hound_dog']\n",
      "Dutch: ['jachthond']\n",
      "Japanese: ['狩犬', '狩り犬', '猟犬', '猟り犬', '走狗']\n",
      "Italian: ['bracco', 'segugio']\n",
      "Spanish: []\n",
      "\n",
      "Synset('rhodesian_ridgeback.n.01')\n",
      "a powerful short-haired African hunting dog having a crest of reversed hair along the spine\n",
      "English: ['Rhodesian_ridgeback']\n",
      "Dutch: []\n",
      "Japanese: []\n",
      "Italian: []\n",
      "Spanish: []\n",
      "\n",
      "Synset('sporting_dog.n.01')\n",
      "a dog trained to work with sportsmen when they hunt with guns\n",
      "English: ['sporting_dog', 'gun_dog']\n",
      "Dutch: ['vogelhond']\n",
      "Japanese: ['猟犬']\n",
      "Italian: ['bracco', 'cane_da_caccia']\n",
      "Spanish: ['perro_cazador', 'perro_de_caza']\n",
      "\n",
      "Synset('terrier.n.01')\n",
      "any of several usually small short-bodied breeds originally trained to hunt animals living underground\n",
      "English: ['terrier']\n",
      "Dutch: ['terriër']\n",
      "Japanese: ['テリア']\n",
      "Italian: ['terrier']\n",
      "Spanish: ['terrier']\n",
      "\n",
      "Synset('sausage_dog.n.01')\n",
      "informal term\n",
      "English: ['sausage_dog', 'sausage_hound']\n",
      "Dutch: []\n",
      "Japanese: []\n",
      "Italian: []\n",
      "Spanish: []\n",
      "\n",
      "Synset('afghan_hound.n.01')\n",
      "tall graceful breed of hound with a long silky coat; native to the Near East\n",
      "English: ['Afghan_hound', 'Afghan']\n",
      "Dutch: ['Afghaanse_windhond']\n",
      "Japanese: ['アフガン', 'アフガンハウンド']\n",
      "Italian: ['levriero_afgano']\n",
      "Spanish: []\n",
      "\n",
      "Synset('basset.n.01')\n",
      "smooth-haired breed of hound with short legs and long ears\n",
      "English: ['basset', 'basset_hound']\n",
      "Dutch: ['brak']\n",
      "Japanese: ['バセットハウンド']\n",
      "Italian: ['bassethound', 'basset_hound']\n",
      "Spanish: []\n",
      "\n",
      "Synset('beagle.n.01')\n",
      "a small short-legged smooth-coated breed of hound\n",
      "English: ['beagle']\n",
      "Dutch: ['snuffelaar', 'beagle', 'brak']\n",
      "Japanese: ['ビーグル']\n",
      "Italian: ['beagle']\n",
      "Spanish: []\n",
      "\n",
      "Synset('bloodhound.n.01')\n",
      "a breed of large powerful hound of European origin having very acute smell and used in tracking\n",
      "English: ['bloodhound', 'sleuthhound']\n",
      "Dutch: []\n",
      "Japanese: ['ブラッドハウンド', 'ブラッドハウンド犬', '警察犬']\n",
      "Italian: ['bracco', 'limiere', 'segugio']\n",
      "Spanish: []\n",
      "\n",
      "Synset('bluetick.n.01')\n",
      "a very fast American hound; white mottled with bluish grey\n",
      "English: ['bluetick']\n",
      "Dutch: []\n",
      "Japanese: []\n",
      "Italian: []\n",
      "Spanish: []\n",
      "\n",
      "Synset('boarhound.n.01')\n",
      "large hound used in hunting wild boars\n",
      "English: ['boarhound']\n",
      "Dutch: []\n",
      "Japanese: []\n",
      "Italian: []\n",
      "Spanish: []\n",
      "\n",
      "Synset('coonhound.n.01')\n",
      "any of several breeds of hound developed for hunting raccoons\n",
      "English: ['coonhound']\n",
      "Dutch: []\n",
      "Japanese: []\n",
      "Italian: []\n",
      "Spanish: []\n",
      "\n",
      "Synset('foxhound.n.01')\n",
      "medium-sized glossy-coated hounds developed for hunting foxes\n",
      "English: ['foxhound']\n",
      "Dutch: ['vossenjacht']\n",
      "Japanese: ['フォックスハウンド']\n",
      "Italian: []\n",
      "Spanish: ['foxhound']\n",
      "\n",
      "Synset('greyhound.n.01')\n",
      "a tall slender dog of an ancient breed noted for swiftness and keen sight; used as a racing dog\n",
      "English: ['greyhound']\n",
      "Dutch: ['hazewind', 'hazewindhond', 'windhond']\n",
      "Japanese: []\n",
      "Italian: ['levriere', 'levriero', 'veltro']\n",
      "Spanish: ['galgo_inglés']\n",
      "\n",
      "Synset('harrier.n.02')\n",
      "a hound that resembles a foxhound but is smaller; used to hunt rabbits\n",
      "English: ['harrier']\n",
      "Dutch: []\n",
      "Japanese: []\n",
      "Italian: []\n",
      "Spanish: []\n",
      "\n",
      "Synset('ibizan_hound.n.01')\n",
      "breed of slender agile medium-sized hound found chiefly in the Balearic Islands; said to have been bred originally by the Pharaohs of ancient Egypt\n",
      "English: ['Ibizan_hound', 'Ibizan_Podenco']\n",
      "Dutch: []\n",
      "Japanese: []\n",
      "Italian: []\n",
      "Spanish: []\n",
      "\n",
      "Synset('norwegian_elkhound.n.01')\n",
      "breed of compact medium-sized dog with a heavy grey coat developed in Norway for hunting elk\n",
      "English: ['Norwegian_elkhound', 'elkhound']\n",
      "Dutch: []\n",
      "Japanese: []\n",
      "Italian: []\n",
      "Spanish: []\n",
      "\n",
      "Synset('otterhound.n.01')\n",
      "hardy British hound having long pendulous ears and a thick coarse shaggy coat with an oily undercoat; bred for hunting otters\n",
      "English: ['otterhound', 'otter_hound']\n",
      "Dutch: ['hond_voor_jacht_op_otters']\n",
      "Japanese: ['オッターハウンド']\n",
      "Italian: []\n",
      "Spanish: ['otterhound']\n",
      "\n",
      "Synset('plott_hound.n.01')\n",
      "a brindle-coated American hound used in hunting bears and wild boars\n",
      "English: ['Plott_hound']\n",
      "Dutch: []\n",
      "Japanese: []\n",
      "Italian: []\n",
      "Spanish: []\n",
      "\n",
      "Synset('redbone.n.01')\n",
      "a speedy red or red-and-tan American hound\n",
      "English: ['redbone']\n",
      "Dutch: []\n",
      "Japanese: []\n",
      "Italian: []\n",
      "Spanish: []\n",
      "\n",
      "Synset('saluki.n.01')\n",
      "old breed of tall swift keen-eyed hunting dogs resembling greyhounds; from Egypt and southwestern Asia\n",
      "English: ['Saluki', 'gazelle_hound']\n",
      "Dutch: []\n",
      "Japanese: []\n",
      "Italian: ['levriero_persiano', 'saluki']\n",
      "Spanish: []\n",
      "\n",
      "Synset('scottish_deerhound.n.01')\n",
      "very large and tall rough-coated dog bred for hunting deer; known as the royal dog of Scotland\n",
      "English: ['Scottish_deerhound', 'deerhound']\n",
      "Dutch: []\n",
      "Japanese: []\n",
      "Italian: ['levriero_inglese_a_pelo_ruvido']\n",
      "Spanish: []\n",
      "\n",
      "Synset('staghound.n.01')\n",
      "a large heavy hound formerly used in hunting stags and other large game; similar to but larger than a foxhound\n",
      "English: ['staghound']\n",
      "Dutch: []\n",
      "Japanese: []\n",
      "Italian: []\n",
      "Spanish: []\n",
      "\n",
      "Synset('weimaraner.n.01')\n",
      "large breed of hound having a smooth greyish coat; originated in Germany\n",
      "English: ['Weimaraner']\n",
      "Dutch: []\n",
      "Japanese: []\n",
      "Italian: []\n",
      "Spanish: []\n",
      "\n",
      "Synset('wolfhound.n.01')\n",
      "the largest breed of dogs; formerly used to hunt wolves\n",
      "English: ['wolfhound']\n",
      "Dutch: []\n",
      "Japanese: ['ウルフハウンド']\n",
      "Italian: ['cane_lupo']\n",
      "Spanish: []\n",
      "\n",
      "Synset('black-and-tan_coonhound.n.01')\n",
      "American breed of large powerful hound dogs used for hunting raccoons and other game\n",
      "English: ['black-and-tan_coonhound']\n",
      "Dutch: []\n",
      "Japanese: []\n",
      "Italian: []\n",
      "Spanish: []\n",
      "\n",
      "Synset('coondog.n.01')\n",
      "any dog trained to hunt raccoons\n",
      "English: ['coondog']\n",
      "Dutch: []\n",
      "Japanese: []\n",
      "Italian: []\n",
      "Spanish: ['coondog']\n",
      "\n",
      "Synset('american_foxhound.n.01')\n",
      "an American breed of foxhounds used for hunting both in packs and individually\n",
      "English: ['American_foxhound']\n",
      "Dutch: []\n",
      "Japanese: []\n",
      "Italian: []\n",
      "Spanish: []\n",
      "\n",
      "Synset('english_foxhound.n.01')\n",
      "an English breed slightly larger than the American foxhounds originally used to hunt in packs\n",
      "English: ['English_foxhound']\n",
      "Dutch: []\n",
      "Japanese: []\n",
      "Italian: []\n",
      "Spanish: []\n",
      "\n",
      "Synset('walker_hound.n.01')\n",
      "an American breed of foxhound\n",
      "English: ['Walker_hound', 'Walker_foxhound']\n",
      "Dutch: []\n",
      "Japanese: []\n",
      "Italian: []\n",
      "Spanish: ['perro_raposero', 'perro_zorrero']\n",
      "\n",
      "Synset('italian_greyhound.n.01')\n",
      "a toy dog developed from the greyhound\n",
      "English: ['Italian_greyhound']\n",
      "Dutch: []\n",
      "Japanese: ['イタリアン・グレーハウンド']\n",
      "Italian: ['levriero_italiano', 'piccolo_levriero_italiano']\n",
      "Spanish: []\n",
      "\n",
      "Synset('whippet.n.01')\n",
      "small slender dog of greyhound type developed in England\n",
      "English: ['whippet']\n",
      "Dutch: []\n",
      "Japanese: []\n",
      "Italian: ['piccolo_levriero_inglese', 'whippet']\n",
      "Spanish: ['whippet']\n",
      "\n",
      "Synset('borzoi.n.01')\n",
      "tall fast-moving dog breed\n",
      "English: ['borzoi', 'Russian_wolfhound']\n",
      "Dutch: []\n",
      "Japanese: ['ボルゾイ']\n",
      "Italian: ['borzoi', 'levriero_russo']\n",
      "Spanish: ['borzoi']\n",
      "\n",
      "Synset('irish_wolfhound.n.01')\n",
      "large breed of hound with a rough thick coat\n",
      "English: ['Irish_wolfhound']\n",
      "Dutch: ['trillen_op_zijn_benen']\n",
      "Japanese: ['アイリッシュウルフハウンド']\n",
      "Italian: ['levriero_irlandese']\n",
      "Spanish: []\n",
      "\n",
      "Synset('bird_dog.n.01')\n",
      "a gun dog trained to locate or retrieve birds\n",
      "English: ['bird_dog']\n",
      "Dutch: []\n",
      "Japanese: []\n",
      "Italian: []\n",
      "Spanish: []\n",
      "\n",
      "Synset('griffon.n.03')\n",
      "breed of medium-sized long-headed dogs with downy undercoat and harsh wiry outer coat; originated in Holland but largely developed in France\n",
      "English: ['griffon', 'wire-haired_pointing_griffon']\n",
      "Dutch: []\n",
      "Japanese: ['グリフォン']\n",
      "Italian: []\n",
      "Spanish: []\n",
      "\n",
      "Synset('pointer.n.04')\n",
      "a strong slender smooth-haired dog of Spanish origin having a white coat with brown or black patches; scents out and points to game\n",
      "English: ['pointer', 'Spanish_pointer']\n",
      "Dutch: []\n",
      "Japanese: ['ポインター']\n",
      "Italian: []\n",
      "Spanish: []\n",
      "\n",
      "Synset('retriever.n.01')\n",
      "a dog with heavy water-resistant coat that can be trained to retrieve game\n",
      "English: ['retriever']\n",
      "Dutch: []\n",
      "Japanese: ['自動引下器']\n",
      "Italian: ['cane_da_riporto']\n",
      "Spanish: []\n",
      "\n",
      "Synset('setter.n.02')\n",
      "a long-haired dog formerly trained to crouch on finding game but now to point\n",
      "English: ['setter']\n",
      "Dutch: []\n",
      "Japanese: ['セッター']\n",
      "Italian: ['setter']\n",
      "Spanish: []\n",
      "\n",
      "Synset('spaniel.n.01')\n",
      "any of several breeds of small to medium-sized gun dogs with a long silky coat and long frilled ears\n",
      "English: ['spaniel']\n",
      "Dutch: ['spaniël']\n",
      "Japanese: ['スパニエル']\n",
      "Italian: ['epagneul']\n",
      "Spanish: []\n",
      "\n",
      "Synset('water_dog.n.02')\n",
      "a dog accustomed to water and usually trained to retrieve waterfowl\n",
      "English: ['water_dog']\n",
      "Dutch: ['waterhond']\n",
      "Japanese: []\n",
      "Italian: []\n",
      "Spanish: []\n",
      "\n",
      "Synset('german_short-haired_pointer.n.01')\n",
      "liver or liver-and-white hunting dog developed in Germany; 3/4 pointer and 1/4 bloodhound\n",
      "English: ['German_short-haired_pointer']\n",
      "Dutch: []\n",
      "Japanese: []\n",
      "Italian: []\n",
      "Spanish: []\n",
      "\n",
      "Synset('vizsla.n.01')\n",
      "Hungarian hunting dog resembling the Weimaraner but having a rich deep red coat\n",
      "English: ['vizsla', 'Hungarian_pointer']\n",
      "Dutch: []\n",
      "Japanese: []\n",
      "Italian: []\n",
      "Spanish: ['vizsla']\n",
      "\n",
      "Synset('chesapeake_bay_retriever.n.01')\n",
      "American breed having a short thick oily coat ranging from brown to light tan\n",
      "English: ['Chesapeake_Bay_retriever']\n",
      "Dutch: []\n",
      "Japanese: ['チェサピーク・ベイ・レトリーバー']\n",
      "Italian: []\n",
      "Spanish: []\n",
      "\n",
      "Synset('curly-coated_retriever.n.01')\n",
      "an English breed having a tightly curled black or liver-colored coat; retrieves game from land or water\n",
      "English: ['curly-coated_retriever']\n",
      "Dutch: []\n",
      "Japanese: []\n",
      "Italian: []\n",
      "Spanish: []\n",
      "\n",
      "Synset('flat-coated_retriever.n.01')\n",
      "an English breed having a shiny black or liver-colored coat; retrieves game from land or water\n",
      "English: ['flat-coated_retriever']\n",
      "Dutch: []\n",
      "Japanese: []\n",
      "Italian: []\n",
      "Spanish: []\n",
      "\n",
      "Synset('golden_retriever.n.01')\n",
      "an English breed having a long silky golden coat\n",
      "English: ['golden_retriever']\n",
      "Dutch: ['golden_retriever']\n",
      "Japanese: ['ゴールデン・レトリバー']\n",
      "Italian: ['golden_retriever']\n",
      "Spanish: []\n",
      "\n",
      "Synset('labrador_retriever.n.01')\n",
      "breed originally from Labrador having a short black or golden-brown coat\n",
      "English: ['Labrador_retriever']\n",
      "Dutch: []\n",
      "Japanese: ['ラブラドール・レトリバー']\n",
      "Italian: ['labrador', 'labrador_retriever']\n",
      "Spanish: []\n",
      "\n",
      "Synset('english_setter.n.01')\n",
      "an English breed having a plumed tail and a soft silky coat that is chiefly white\n",
      "English: ['English_setter']\n",
      "Dutch: []\n",
      "Japanese: []\n",
      "Italian: []\n",
      "Spanish: []\n",
      "\n",
      "Synset('gordon_setter.n.01')\n",
      "a Scottish breed with a black-and-tan coat\n",
      "English: ['Gordon_setter']\n",
      "Dutch: []\n",
      "Japanese: []\n",
      "Italian: []\n",
      "Spanish: []\n",
      "\n",
      "Synset('irish_setter.n.01')\n",
      "an Irish breed with a chestnut-brown or mahogany-red coat\n",
      "English: ['Irish_setter', 'red_setter']\n",
      "Dutch: ['Ierse_setter']\n",
      "Japanese: ['アイリッシュ・セッター']\n",
      "Italian: []\n",
      "Spanish: []\n",
      "\n",
      "Synset('brittany_spaniel.n.01')\n",
      "tall active short-tailed French breed of bird dog having a usually smooth orange- or liver-and-white coat\n",
      "English: ['Brittany_spaniel']\n",
      "Dutch: []\n",
      "Japanese: []\n",
      "Italian: []\n",
      "Spanish: []\n",
      "\n",
      "Synset('clumber.n.01')\n",
      "a thickset spaniel with longish silky hair\n",
      "English: ['clumber', 'clumber_spaniel']\n",
      "Dutch: []\n",
      "Japanese: []\n",
      "Italian: []\n",
      "Spanish: []\n",
      "\n",
      "Synset('cocker_spaniel.n.01')\n",
      "a small breed with wavy silky hair; originally developed in England\n",
      "English: ['cocker_spaniel', 'English_cocker_spaniel', 'cocker']\n",
      "Dutch: []\n",
      "Japanese: ['コッカースパニエル']\n",
      "Italian: ['cocker']\n",
      "Spanish: []\n",
      "\n",
      "Synset('field_spaniel.n.01')\n",
      "large usually black hunting and retrieving spaniel with a dense flat or slightly wavy coat; cross between cocker and Sussex spaniel\n",
      "English: ['field_spaniel']\n",
      "Dutch: []\n",
      "Japanese: []\n",
      "Italian: []\n",
      "Spanish: []\n",
      "\n",
      "Synset('springer_spaniel.n.01')\n",
      "a large spaniel with wavy silky coat usually black or liver and white\n",
      "English: ['springer_spaniel', 'springer']\n",
      "Dutch: []\n",
      "Japanese: ['スプリンガースパニエル']\n",
      "Italian: []\n",
      "Spanish: []\n",
      "\n",
      "Synset('sussex_spaniel.n.01')\n",
      "an English breed with short legs and a golden liver-colored coat\n",
      "English: ['Sussex_spaniel']\n",
      "Dutch: []\n",
      "Japanese: []\n",
      "Italian: []\n",
      "Spanish: []\n",
      "\n",
      "Synset('water_spaniel.n.01')\n",
      "any dog of two large curly-coated breeds used for hunting waterfowl\n",
      "English: ['water_spaniel']\n",
      "Dutch: []\n",
      "Japanese: ['ウォータースパニエル']\n",
      "Italian: []\n",
      "Spanish: []\n",
      "\n",
      "Synset('english_springer.n.01')\n",
      "a breed having typically a black-and-white coat\n",
      "English: ['English_springer', 'English_springer_spaniel']\n",
      "Dutch: []\n",
      "Japanese: ['イングリッシュ・スプリンガー・スパニエル']\n",
      "Italian: []\n",
      "Spanish: []\n",
      "\n",
      "Synset('welsh_springer_spaniel.n.01')\n",
      "a red-and-white breed slightly smaller than the English springer spaniel\n",
      "English: ['Welsh_springer_spaniel']\n",
      "Dutch: []\n",
      "Japanese: ['ウェルシュスプリンガースパニエル']\n",
      "Italian: []\n",
      "Spanish: []\n",
      "\n",
      "Synset('american_water_spaniel.n.01')\n",
      "breed of medium-sized spaniels originating in America having chocolate or liver-colored curly coat\n",
      "English: ['American_water_spaniel']\n",
      "Dutch: []\n",
      "Japanese: []\n",
      "Italian: []\n",
      "Spanish: []\n",
      "\n",
      "Synset('irish_water_spaniel.n.01')\n",
      "breed of large spaniels developed in Ireland having a heavy coat of liver-colored curls and a topknot of long curls and a nearly hairless tail\n",
      "English: ['Irish_water_spaniel']\n",
      "Dutch: []\n",
      "Japanese: []\n",
      "Italian: []\n",
      "Spanish: []\n",
      "\n",
      "Synset('airedale.n.01')\n",
      "breed of large wiry-coated terrier bred in Yorkshire\n",
      "English: ['Airedale', 'Airedale_terrier']\n",
      "Dutch: []\n",
      "Japanese: []\n",
      "Italian: []\n",
      "Spanish: []\n",
      "\n",
      "Synset('australian_terrier.n.01')\n",
      "small greyish wire-haired breed of terrier from Australia similar to the cairn\n",
      "English: ['Australian_terrier']\n",
      "Dutch: []\n",
      "Japanese: []\n",
      "Italian: []\n",
      "Spanish: []\n",
      "\n",
      "Synset('bedlington_terrier.n.01')\n",
      "a light terrier groomed to resemble a lamb\n",
      "English: ['Bedlington_terrier']\n",
      "Dutch: []\n",
      "Japanese: ['ベドリントン・テリア']\n",
      "Italian: []\n",
      "Spanish: []\n",
      "\n",
      "Synset('border_terrier.n.01')\n",
      "small rough-coated terrier of British origin\n",
      "English: ['Border_terrier']\n",
      "Dutch: []\n",
      "Japanese: []\n",
      "Italian: []\n",
      "Spanish: []\n",
      "\n",
      "Synset('boston_bull.n.01')\n",
      "small pug-faced American terrier breed having a smooth brindle or black coat with white markings\n",
      "English: ['Boston_bull', 'Boston_terrier']\n",
      "Dutch: []\n",
      "Japanese: []\n",
      "Italian: []\n",
      "Spanish: []\n",
      "\n",
      "Synset('bullterrier.n.01')\n",
      "a powerful short-haired terrier originated in England by crossing the bulldog with terriers\n",
      "English: ['bullterrier', 'bull_terrier']\n",
      "Dutch: ['bulterriër']\n",
      "Japanese: []\n",
      "Italian: ['bull_terrier']\n",
      "Spanish: []\n",
      "\n",
      "Synset('cairn.n.02')\n",
      "small rough-haired breed of terrier from Scotland\n",
      "English: ['cairn', 'cairn_terrier']\n",
      "Dutch: []\n",
      "Japanese: ['ケアーン・テリア']\n",
      "Italian: []\n",
      "Spanish: []\n",
      "\n",
      "Synset('dandie_dinmont.n.01')\n",
      "a breed of small terrier with long wiry coat and drooping ears\n",
      "English: ['Dandie_Dinmont', 'Dandie_Dinmont_terrier']\n",
      "Dutch: []\n",
      "Japanese: []\n",
      "Italian: []\n",
      "Spanish: []\n",
      "\n",
      "Synset('fox_terrier.n.01')\n",
      "small lively black-and-white terriers formerly used to dig out foxes\n",
      "English: ['fox_terrier']\n",
      "Dutch: []\n",
      "Japanese: ['フォックステリア']\n",
      "Italian: ['fox_terrier', 'fox-terrier']\n",
      "Spanish: []\n",
      "\n",
      "Synset('irish_terrier.n.01')\n",
      "medium-sized breed with a wiry brown coat; developed in Ireland\n",
      "English: ['Irish_terrier']\n",
      "Dutch: []\n",
      "Japanese: []\n",
      "Italian: []\n",
      "Spanish: []\n",
      "\n",
      "Synset('kerry_blue_terrier.n.01')\n",
      "an Irish breed of medium-sized terriers with a silky blue-grey coat\n",
      "English: ['Kerry_blue_terrier']\n",
      "Dutch: []\n",
      "Japanese: []\n",
      "Italian: []\n",
      "Spanish: []\n",
      "\n",
      "Synset('lhasa.n.02')\n",
      "a breed of terrier having a long heavy coat raised in Tibet as watchdogs\n",
      "English: ['Lhasa', 'Lhasa_apso']\n",
      "Dutch: []\n",
      "Japanese: ['ラサ']\n",
      "Italian: []\n",
      "Spanish: []\n",
      "\n",
      "Synset('norfolk_terrier.n.01')\n",
      "English breed of small terrier with a straight wiry grizzled coat and dropped ears\n",
      "English: ['Norfolk_terrier']\n",
      "Dutch: []\n",
      "Japanese: []\n",
      "Italian: []\n",
      "Spanish: []\n",
      "\n",
      "Synset('norwich_terrier.n.01')\n",
      "English breed of small short-legged terrier with a straight wiry red or grey or black-and-tan coat and erect ears\n",
      "English: ['Norwich_terrier']\n",
      "Dutch: []\n",
      "Japanese: []\n",
      "Italian: []\n",
      "Spanish: []\n",
      "\n",
      "Synset('rat_terrier.n.01')\n",
      "any of several breeds of terrier developed to catch rats\n",
      "English: ['rat_terrier', 'ratter']\n",
      "Dutch: []\n",
      "Japanese: []\n",
      "Italian: []\n",
      "Spanish: []\n",
      "\n",
      "Synset('schnauzer.n.01')\n",
      "old German breed of sturdy black or greyish wire-haired terriers having a blunt muzzle ranging in size from fairly small to very large; used as ratters and guard dogs or police dogs\n",
      "English: ['schnauzer']\n",
      "Dutch: []\n",
      "Japanese: ['シュナウザー', 'シュナウツァー']\n",
      "Italian: ['schnauzer']\n",
      "Spanish: []\n",
      "\n",
      "Synset('scotch_terrier.n.01')\n",
      "old Scottish breed of small long-haired usually black terrier with erect tail and ears\n",
      "English: ['Scotch_terrier', 'Scottish_terrier', 'Scottie']\n",
      "Dutch: ['Schotse_terriër']\n",
      "Japanese: ['スコッチテリア']\n",
      "Italian: []\n",
      "Spanish: []\n",
      "\n",
      "Synset('silky_terrier.n.01')\n",
      "Australian breed of toy dogs having a silky blue coat\n",
      "English: ['silky_terrier', 'Sydney_silky']\n",
      "Dutch: []\n",
      "Japanese: []\n",
      "Italian: []\n",
      "Spanish: []\n",
      "\n",
      "Synset('skye_terrier.n.01')\n",
      "Scottish breed of terrier with shaggy hair and long low body with short legs; native to the Isle of Skye\n",
      "English: ['Skye_terrier']\n",
      "Dutch: []\n",
      "Japanese: []\n",
      "Italian: []\n",
      "Spanish: []\n",
      "\n",
      "Synset('soft-coated_wheaten_terrier.n.01')\n",
      "Irish breed of medium-sized terrier with an abundant coat any shade of wheat and very hairy head and muzzle\n",
      "English: ['soft-coated_wheaten_terrier']\n",
      "Dutch: []\n",
      "Japanese: []\n",
      "Italian: []\n",
      "Spanish: []\n",
      "\n",
      "Synset('tibetan_terrier.n.01')\n",
      "breed of medium-sized terriers bred in Tibet resembling Old English sheepdogs with fluffy curled tails\n",
      "English: ['Tibetan_terrier', 'chrysanthemum_dog']\n",
      "Dutch: []\n",
      "Japanese: []\n",
      "Italian: []\n",
      "Spanish: []\n",
      "\n",
      "Synset('west_highland_white_terrier.n.01')\n",
      "small white long-coated terrier developed in Scotland\n",
      "English: ['West_Highland_white_terrier']\n",
      "Dutch: []\n",
      "Japanese: ['ウエスト・ハイランド・ホワイト・テリア']\n",
      "Italian: []\n",
      "Spanish: []\n",
      "\n",
      "Synset('wirehair.n.01')\n",
      "a terrier with wiry hair\n",
      "English: ['wirehair', 'wirehaired_terrier', 'wire-haired_terrier']\n",
      "Dutch: []\n",
      "Japanese: []\n",
      "Italian: []\n",
      "Spanish: []\n",
      "\n",
      "Synset('yorkshire_terrier.n.01')\n",
      "very small breed having a long glossy coat of bluish-grey and tan\n",
      "English: ['Yorkshire_terrier']\n",
      "Dutch: []\n",
      "Japanese: ['ヨークシャーテリア']\n",
      "Italian: []\n",
      "Spanish: []\n",
      "\n",
      "Synset('american_staffordshire_terrier.n.01')\n",
      "American breed of muscular terriers with a short close-lying stiff coat\n",
      "English: ['American_Staffordshire_terrier', 'Staffordshire_terrier', 'American_pit_bull_terrier', 'pit_bull_terrier']\n",
      "Dutch: ['pitbullterriër']\n",
      "Japanese: ['アメリカン・ピット・ブル・テリア']\n",
      "Italian: []\n",
      "Spanish: []\n",
      "\n",
      "Synset('staffordshire_bullterrier.n.01')\n",
      "English breed of strong stocky dog having a broad skull and smooth coat\n",
      "English: ['Staffordshire_bullterrier', 'Staffordshire_bull_terrier']\n",
      "Dutch: []\n",
      "Japanese: []\n",
      "Italian: []\n",
      "Spanish: []\n",
      "\n",
      "Synset('smooth-haired_fox_terrier.n.01')\n",
      "a fox terrier with smooth hair\n",
      "English: ['smooth-haired_fox_terrier']\n",
      "Dutch: []\n",
      "Japanese: []\n",
      "Italian: []\n",
      "Spanish: []\n",
      "\n",
      "Synset('wire-haired_fox_terrier.n.01')\n",
      "a fox terrier with wiry hair\n",
      "English: ['wire-haired_fox_terrier']\n",
      "Dutch: []\n",
      "Japanese: []\n",
      "Italian: []\n",
      "Spanish: []\n",
      "\n",
      "Synset('manchester_terrier.n.01')\n",
      "a breed of short-haired rat terrier with a black-and-tan coat that was developed in Manchester, England\n",
      "English: ['Manchester_terrier', 'black-and-tan_terrier']\n",
      "Dutch: []\n",
      "Japanese: []\n",
      "Italian: []\n",
      "Spanish: []\n",
      "\n",
      "Synset('toy_manchester.n.01')\n",
      "breed of small Manchester terrier\n",
      "English: ['toy_Manchester', 'toy_Manchester_terrier']\n",
      "Dutch: []\n",
      "Japanese: []\n",
      "Italian: []\n",
      "Spanish: []\n",
      "\n",
      "Synset('giant_schnauzer.n.01')\n",
      "a large schnauzer\n",
      "English: ['giant_schnauzer']\n",
      "Dutch: []\n",
      "Japanese: ['ジャイアント・シュナウザー']\n",
      "Italian: ['schnauzer_gigante']\n",
      "Spanish: []\n",
      "\n",
      "Synset('miniature_schnauzer.n.01')\n",
      "a small schnauzer\n",
      "English: ['miniature_schnauzer']\n",
      "Dutch: []\n",
      "Japanese: ['ミニチュア・シュナウザー']\n",
      "Italian: ['schnauzer_nano']\n",
      "Spanish: []\n",
      "\n",
      "Synset('standard_schnauzer.n.01')\n",
      "a medium-sized schnauzer\n",
      "English: ['standard_schnauzer']\n",
      "Dutch: []\n",
      "Japanese: []\n",
      "Italian: ['schnauzer_medio']\n",
      "Spanish: ['Schnauzer_estándar']\n",
      "\n",
      "Synset('clydesdale_terrier.n.01')\n",
      "selectively bred small Skye terrier with erect ears and a long silky coat\n",
      "English: ['Clydesdale_terrier']\n",
      "Dutch: []\n",
      "Japanese: []\n",
      "Italian: []\n",
      "Spanish: []\n",
      "\n",
      "Synset('lakeland_terrier.n.01')\n",
      "breed of wire-haired terrier originally from the Lake District of England and used for hunting\n",
      "English: ['Lakeland_terrier']\n",
      "Dutch: []\n",
      "Japanese: []\n",
      "Italian: []\n",
      "Spanish: []\n",
      "\n",
      "Synset('welsh_terrier.n.01')\n",
      "wire-haired terrier resembling Airedales but smaller; developed in Wales for hunting\n",
      "English: ['Welsh_terrier']\n",
      "Dutch: []\n",
      "Japanese: ['ウェルシュテリア']\n",
      "Italian: []\n",
      "Spanish: []\n",
      "\n",
      "Synset('sealyham_terrier.n.01')\n",
      "a wire-haired terrier with short legs that was first bred in Sealyham\n",
      "English: ['Sealyham_terrier', 'Sealyham']\n",
      "Dutch: []\n",
      "Japanese: []\n",
      "Italian: []\n",
      "Spanish: []\n",
      "\n",
      "Synset('large_poodle.n.01')\n",
      "the largest breed of poodle\n",
      "English: ['large_poodle']\n",
      "Dutch: []\n",
      "Japanese: []\n",
      "Italian: []\n",
      "Spanish: []\n",
      "\n",
      "Synset('miniature_poodle.n.01')\n",
      "a breed of small poodles\n",
      "English: ['miniature_poodle']\n",
      "Dutch: []\n",
      "Japanese: []\n",
      "Italian: []\n",
      "Spanish: []\n",
      "\n",
      "Synset('standard_poodle.n.01')\n",
      "a breed or medium-sized poodles\n",
      "English: ['standard_poodle']\n",
      "Dutch: []\n",
      "Japanese: []\n",
      "Italian: []\n",
      "Spanish: ['Poodle_de_estándar', 'Poodle_estándar']\n",
      "\n",
      "Synset('toy_poodle.n.01')\n",
      "the breed of very small poodles\n",
      "English: ['toy_poodle']\n",
      "Dutch: []\n",
      "Japanese: []\n",
      "Italian: ['barboncino_nano']\n",
      "Spanish: []\n",
      "\n",
      "Synset('chow.n.03')\n",
      "breed of medium-sized dogs with a thick coat and fluffy curled tails and distinctive blue-black tongues; believed to have originated in northern China\n",
      "English: ['chow', 'chow_chow']\n",
      "Dutch: ['eten']\n",
      "Japanese: ['チャウチャウ']\n",
      "Italian: []\n",
      "Spanish: ['chow_chow']\n",
      "\n",
      "Synset('keeshond.n.01')\n",
      "a spitz-like dog having a shaggy greyish coat and tightly curled tail originating in Holland\n",
      "English: ['keeshond']\n",
      "Dutch: ['keeshond']\n",
      "Japanese: []\n",
      "Italian: []\n",
      "Spanish: []\n",
      "\n",
      "Synset('pomeranian.n.01')\n",
      "breed of very small compact long-haired dogs of the spitz type\n",
      "English: ['Pomeranian']\n",
      "Dutch: ['Pommers']\n",
      "Japanese: ['スピッツ']\n",
      "Italian: []\n",
      "Spanish: []\n",
      "\n",
      "Synset('samoyed.n.03')\n",
      "Siberian breed of white or cream-colored dog of the spitz family\n",
      "English: ['Samoyed', 'Samoyede']\n",
      "Dutch: ['Samojeed']\n",
      "Japanese: []\n",
      "Italian: ['samoiedo']\n",
      "Spanish: []\n",
      "\n",
      "Synset('chihuahua.n.03')\n",
      "an old breed of tiny short-haired dog with protruding eyes from Mexico held to antedate Aztec civilization\n",
      "English: ['Chihuahua']\n",
      "Dutch: ['chihuahua']\n",
      "Japanese: ['チワワ']\n",
      "Italian: ['chihuahua']\n",
      "Spanish: []\n",
      "\n",
      "Synset('japanese_spaniel.n.01')\n",
      "breed of toy dogs originating in Japan having a silky black-and-white or red-and-white coat\n",
      "English: ['Japanese_spaniel']\n",
      "Dutch: []\n",
      "Japanese: ['狆']\n",
      "Italian: []\n",
      "Spanish: []\n",
      "\n",
      "Synset('maltese_dog.n.01')\n",
      "breed of toy dogs having a long straight silky white coat\n",
      "English: ['Maltese_dog', 'Maltese_terrier', 'Maltese']\n",
      "Dutch: ['Maltese']\n",
      "Japanese: ['マルチーズ']\n",
      "Italian: ['maltese']\n",
      "Spanish: []\n",
      "\n",
      "Synset('pekinese.n.01')\n",
      "a Chinese breed of small short-legged dogs with a long silky coat and broad flat muzzle\n",
      "English: ['Pekinese', 'Pekingese', 'Peke']\n",
      "Dutch: []\n",
      "Japanese: ['ペキニーズ']\n",
      "Italian: ['pechinese']\n",
      "Spanish: []\n",
      "\n",
      "Synset('shih-tzu.n.01')\n",
      "a Chinese breed of small dog similar to a Pekingese\n",
      "English: ['Shih-Tzu']\n",
      "Dutch: []\n",
      "Japanese: ['シーズー']\n",
      "Italian: []\n",
      "Spanish: []\n",
      "\n",
      "Synset('toy_spaniel.n.01')\n",
      "a very small spaniel\n",
      "English: ['toy_spaniel']\n",
      "Dutch: []\n",
      "Japanese: ['トイスパニエル']\n",
      "Italian: []\n",
      "Spanish: []\n",
      "\n",
      "Synset('toy_terrier.n.01')\n",
      "a small active dog\n",
      "English: ['toy_terrier']\n",
      "Dutch: []\n",
      "Japanese: ['トイテリア']\n",
      "Italian: []\n",
      "Spanish: []\n",
      "\n",
      "Synset('english_toy_spaniel.n.01')\n",
      "British breed having a long silky coat and rounded head with a short upturned muzzle\n",
      "English: ['English_toy_spaniel']\n",
      "Dutch: []\n",
      "Japanese: []\n",
      "Italian: []\n",
      "Spanish: []\n",
      "\n",
      "Synset('king_charles_spaniel.n.01')\n",
      "a toy English spaniel with a black-and-tan coat; named after Charles II who popularized it\n",
      "English: ['King_Charles_spaniel']\n",
      "Dutch: []\n",
      "Japanese: ['キングチャールズスパニエル']\n",
      "Italian: []\n",
      "Spanish: []\n",
      "\n",
      "Synset('papillon.n.01')\n",
      "small slender toy spaniel with erect ears and a black-spotted brown to white coat\n",
      "English: ['papillon']\n",
      "Dutch: []\n",
      "Japanese: ['パピヨン']\n",
      "Italian: []\n",
      "Spanish: []\n",
      "\n",
      "Synset('blenheim_spaniel.n.01')\n",
      "red-and-white variety of English toy spaniel\n",
      "English: ['Blenheim_spaniel']\n",
      "Dutch: []\n",
      "Japanese: ['ブレナムスパニエル']\n",
      "Italian: []\n",
      "Spanish: []\n",
      "\n",
      "Synset('boxer.n.04')\n",
      "a breed of stocky medium-sized short-haired dog with a brindled coat and square-jawed muzzle developed in Germany\n",
      "English: ['boxer']\n",
      "Dutch: ['boxer', 'pugilist', 'vuistvechter', 'bokser']\n",
      "Japanese: ['ボクサー']\n",
      "Italian: ['boxer']\n",
      "Spanish: []\n",
      "\n",
      "Synset('bull_mastiff.n.01')\n",
      "large powerful breed developed by crossing the bulldog and the mastiff\n",
      "English: ['bull_mastiff']\n",
      "Dutch: []\n",
      "Japanese: []\n",
      "Italian: []\n",
      "Spanish: []\n",
      "\n",
      "Synset('bulldog.n.01')\n",
      "a sturdy thickset short-haired breed with a large head and strong undershot lower jaw; developed originally in England for bull baiting\n",
      "English: ['bulldog', 'English_bulldog']\n",
      "Dutch: ['buldog']\n",
      "Japanese: ['ブルドッグ']\n",
      "Italian: ['bulldog']\n",
      "Spanish: ['bulldog']\n",
      "\n",
      "Synset('eskimo_dog.n.01')\n",
      "breed of heavy-coated Arctic sled dog\n",
      "English: ['Eskimo_dog', 'husky']\n",
      "Dutch: ['sledehond']\n",
      "Japanese: ['エスキモー犬']\n",
      "Italian: ['husky']\n",
      "Spanish: ['husky', 'perro_esquimal', 'perro_siberiano']\n",
      "\n",
      "Synset('great_dane.n.01')\n",
      "very large powerful smooth-coated breed of dog\n",
      "English: ['Great_Dane']\n",
      "Dutch: []\n",
      "Japanese: ['グレートデン']\n",
      "Italian: ['alano', 'danese']\n",
      "Spanish: ['Gran_Danés']\n",
      "\n",
      "Synset('guide_dog.n.01')\n",
      "a dog trained to guide the blind\n",
      "English: ['guide_dog']\n",
      "Dutch: []\n",
      "Japanese: ['盲導犬']\n",
      "Italian: ['cane_per_ciechi']\n",
      "Spanish: ['perro_guía']\n",
      "\n",
      "Synset('hearing_dog.n.01')\n",
      "dog trained to assist the deaf by signaling the occurrence of certain sounds\n",
      "English: ['hearing_dog']\n",
      "Dutch: []\n",
      "Japanese: []\n",
      "Italian: []\n",
      "Spanish: []\n",
      "\n",
      "Synset('mastiff.n.01')\n",
      "an old breed of powerful deep-chested smooth-coated dog used chiefly as a watchdog and guard dog\n",
      "English: ['mastiff']\n",
      "Dutch: ['bulhond', 'mastiff']\n",
      "Japanese: ['マスチフ', 'マスティフ']\n",
      "Italian: ['mastino']\n",
      "Spanish: []\n",
      "\n",
      "Synset('police_dog.n.01')\n",
      "any dog trained to assist police especially in tracking\n",
      "English: ['police_dog']\n",
      "Dutch: ['politiehond']\n",
      "Japanese: ['警察犬']\n",
      "Italian: ['cane_poliziotto']\n",
      "Spanish: ['perro_policía']\n",
      "\n",
      "Synset('saint_bernard.n.01')\n",
      "a Swiss alpine breed of large powerful dog with a thick coat of hair used as a rescue dog\n",
      "English: ['Saint_Bernard', 'St_Bernard']\n",
      "Dutch: []\n",
      "Japanese: ['サンベルナール峠']\n",
      "Italian: ['San_Bernardo']\n",
      "Spanish: ['San_Bernardo']\n",
      "\n",
      "Synset('seizure-alert_dog.n.01')\n",
      "a dog that can alert or assist people with seizure disorders\n",
      "English: ['seizure-alert_dog']\n",
      "Dutch: []\n",
      "Japanese: []\n",
      "Italian: []\n",
      "Spanish: []\n",
      "\n",
      "Synset('sennenhunde.n.01')\n",
      "any of four Swiss breeds\n",
      "English: ['Sennenhunde']\n",
      "Dutch: []\n",
      "Japanese: []\n",
      "Italian: []\n",
      "Spanish: []\n",
      "\n",
      "Synset('shepherd_dog.n.01')\n",
      "any of various usually long-haired breeds of dog reared to herd and guard sheep\n",
      "English: ['shepherd_dog', 'sheepdog', 'sheep_dog']\n",
      "Dutch: ['herdershond']\n",
      "Japanese: ['シェパード', '牧羊犬']\n",
      "Italian: ['cane_da_pastore', 'cane_pastore']\n",
      "Spanish: ['perro_pastor']\n",
      "\n",
      "Synset('sled_dog.n.01')\n",
      "a dog trained to draw a sled usually in a team\n",
      "English: ['sled_dog', 'sledge_dog']\n",
      "Dutch: ['sledehond']\n",
      "Japanese: []\n",
      "Italian: ['cane_da_slitta']\n",
      "Spanish: ['perro_de_trineo']\n",
      "\n",
      "Synset('watchdog.n.02')\n",
      "a dog trained to guard property\n",
      "English: ['watchdog', 'guard_dog']\n",
      "Dutch: ['waakhond']\n",
      "Japanese: ['ウォッチドッグ', '番犬']\n",
      "Italian: ['cane_da_guardia']\n",
      "Spanish: []\n",
      "\n",
      "Synset('french_bulldog.n.01')\n",
      "small stocky version of the bulldog having a sleek coat and square head\n",
      "English: ['French_bulldog']\n",
      "Dutch: []\n",
      "Japanese: ['フレンチ・ブルドッグ']\n",
      "Italian: []\n",
      "Spanish: []\n",
      "\n",
      "Synset('seeing_eye_dog.n.01')\n",
      "(trademark) a guide dog trained to guide a blind person\n",
      "English: ['Seeing_Eye_dog']\n",
      "Dutch: []\n",
      "Japanese: ['盲導犬']\n",
      "Italian: []\n",
      "Spanish: []\n",
      "\n",
      "Synset('tibetan_mastiff.n.01')\n",
      "very large powerful rough-coated dog native to central Asia\n",
      "English: ['Tibetan_mastiff']\n",
      "Dutch: ['Tibetaanse_mastiff']\n",
      "Japanese: ['チベタンマスチフ']\n",
      "Italian: ['mastino_del_Tibet']\n",
      "Spanish: []\n",
      "\n",
      "Synset('appenzeller.n.01')\n",
      "a smaller of the four Swiss breeds\n",
      "English: ['Appenzeller']\n",
      "Dutch: []\n",
      "Japanese: []\n",
      "Italian: []\n",
      "Spanish: []\n",
      "\n",
      "Synset('bernese_mountain_dog.n.01')\n",
      "large powerful long-haired black-coated Swiss dog with deep tan or russet markings on legs and white blaze and feet and chest marking; formerly used for draft\n",
      "English: ['Bernese_mountain_dog']\n",
      "Dutch: []\n",
      "Japanese: ['バーニーズ・マウンテン・ドッグ']\n",
      "Italian: []\n",
      "Spanish: []\n",
      "\n",
      "Synset('entlebucher.n.01')\n",
      "the smallest of the Sennenhunde\n",
      "English: ['EntleBucher']\n",
      "Dutch: []\n",
      "Japanese: []\n",
      "Italian: []\n",
      "Spanish: []\n",
      "\n",
      "Synset('greater_swiss_mountain_dog.n.01')\n",
      "the largest of the four Swiss breeds\n",
      "English: ['Greater_Swiss_Mountain_dog']\n",
      "Dutch: []\n",
      "Japanese: []\n",
      "Italian: []\n",
      "Spanish: []\n",
      "\n",
      "Synset('belgian_sheepdog.n.01')\n",
      "hardy working dog developed in Belgium for herding sheep\n",
      "English: ['Belgian_sheepdog', 'Belgian_shepherd']\n",
      "Dutch: ['belgische_herder']\n",
      "Japanese: []\n",
      "Italian: ['pastore_belga']\n",
      "Spanish: ['pastor_belga']\n",
      "\n",
      "Synset('border_collie.n.01')\n",
      "developed in the area between Scotland and England usually having a black coat with white on the head and tip of tail used for herding both sheep and cattle\n",
      "English: ['Border_collie']\n",
      "Dutch: []\n",
      "Japanese: ['ボーダー・コリー']\n",
      "Italian: []\n",
      "Spanish: []\n",
      "\n",
      "Synset('bouvier_des_flandres.n.01')\n",
      "rough-coated breed used originally in Belgium for herding and guarding cattle\n",
      "English: ['Bouvier_des_Flandres', 'Bouviers_des_Flandres']\n",
      "Dutch: []\n",
      "Japanese: []\n",
      "Italian: []\n",
      "Spanish: []\n",
      "\n",
      "Synset('briard.n.01')\n",
      "old French breed of large strong usually black dogs having a long tail and long wavy and slightly stiff coat\n",
      "English: ['briard']\n",
      "Dutch: []\n",
      "Japanese: []\n",
      "Italian: []\n",
      "Spanish: ['pastor_de_brie']\n",
      "\n",
      "Synset('collie.n.01')\n",
      "a silky-coated sheepdog with a long ruff and long narrow head developed in Scotland\n",
      "English: ['collie']\n",
      "Dutch: []\n",
      "Japanese: ['コリー']\n",
      "Italian: ['collie', 'pastore_scozzese']\n",
      "Spanish: []\n",
      "\n",
      "Synset('german_shepherd.n.01')\n",
      "breed of large shepherd dogs used in police work and as a guide for the blind\n",
      "English: ['German_shepherd', 'German_shepherd_dog', 'German_police_dog', 'alsatian']\n",
      "Dutch: ['Duitse_herdershond']\n",
      "Japanese: ['シェパード']\n",
      "Italian: ['alsaziano', 'cane_lupo', 'pastore_tedesco']\n",
      "Spanish: []\n",
      "\n",
      "Synset('kelpie.n.02')\n",
      "an Australian sheepdog with pointed ears\n",
      "English: ['kelpie']\n",
      "Dutch: []\n",
      "Japanese: []\n",
      "Italian: []\n",
      "Spanish: []\n",
      "\n",
      "Synset('komondor.n.01')\n",
      "Hungarian breed of large powerful shaggy-coated white dog; used also as guard dog\n",
      "English: ['komondor']\n",
      "Dutch: ['komondor']\n",
      "Japanese: []\n",
      "Italian: []\n",
      "Spanish: ['komondor']\n",
      "\n",
      "Synset('old_english_sheepdog.n.01')\n",
      "large sheepdog with a profuse shaggy bluish-grey-and-white coat and short tail; believed to trace back to the Roman occupation of Britain\n",
      "English: ['Old_English_sheepdog', 'bobtail']\n",
      "Dutch: []\n",
      "Japanese: ['ボブテール']\n",
      "Italian: []\n",
      "Spanish: []\n",
      "\n",
      "Synset('rottweiler.n.01')\n",
      "German breed of large vigorous short-haired cattle dogs\n",
      "English: ['Rottweiler']\n",
      "Dutch: []\n",
      "Japanese: []\n",
      "Italian: []\n",
      "Spanish: []\n",
      "\n",
      "Synset('shetland_sheepdog.n.01')\n",
      "a small sheepdog resembling a collie that was developed in the Shetland Islands\n",
      "English: ['Shetland_sheepdog', 'Shetland_sheep_dog', 'Shetland']\n",
      "Dutch: []\n",
      "Japanese: ['シェットランド・シープドッグ']\n",
      "Italian: []\n",
      "Spanish: []\n",
      "\n",
      "Synset('groenendael.n.01')\n",
      "black-coated sheepdog with a heavily plumed tail\n",
      "English: ['groenendael']\n",
      "Dutch: []\n",
      "Japanese: []\n",
      "Italian: ['pastore_belga_Groenendael']\n",
      "Spanish: []\n",
      "\n",
      "Synset('malinois.n.01')\n",
      "fawn-colored short-haired sheepdog\n",
      "English: ['malinois']\n",
      "Dutch: []\n",
      "Japanese: []\n",
      "Italian: ['pastore_belga_di_Malines']\n",
      "Spanish: ['Malinois']\n",
      "\n",
      "Synset('malamute.n.01')\n",
      "breed of sled dog developed in Alaska\n",
      "English: ['malamute', 'malemute', 'Alaskan_malamute']\n",
      "Dutch: []\n",
      "Japanese: ['アラスカン・マラミュート']\n",
      "Italian: ['alaskan_malamut', 'malamut']\n",
      "Spanish: []\n",
      "\n",
      "Synset('siberian_husky.n.01')\n",
      "breed of sled dog developed in northeastern Siberia; they resemble the larger Alaskan malamutes\n",
      "English: ['Siberian_husky']\n",
      "Dutch: ['Siberische_husky']\n",
      "Japanese: ['シベリアンハスキー']\n",
      "Italian: []\n",
      "Spanish: []\n",
      "\n",
      "Synset('attack_dog.n.01')\n",
      "a watchdog trained to attack on command\n",
      "English: ['attack_dog']\n",
      "Dutch: []\n",
      "Japanese: []\n",
      "Italian: []\n",
      "Spanish: []\n",
      "\n",
      "Synset('housedog.n.01')\n",
      "a dog trained to guard a house\n",
      "English: ['housedog']\n",
      "Dutch: []\n",
      "Japanese: []\n",
      "Italian: []\n",
      "Spanish: ['perro_guardián']\n",
      "\n",
      "Synset('kuvasz.n.01')\n",
      "long-established Hungarian breed of tall light-footed but sturdy white dog; used also as a hunting dog\n",
      "English: ['kuvasz']\n",
      "Dutch: []\n",
      "Japanese: []\n",
      "Italian: []\n",
      "Spanish: []\n",
      "\n",
      "Synset('pinscher.n.01')\n",
      "any of three breeds of dogs whose ears and tail are usually cropped\n",
      "English: ['pinscher']\n",
      "Dutch: []\n",
      "Japanese: []\n",
      "Italian: []\n",
      "Spanish: ['pinscher']\n",
      "\n",
      "Synset('schipperke.n.01')\n",
      "breed of small stocky black dogs originally used as watchdogs on boats in the Netherlands and Belgium\n",
      "English: ['schipperke']\n",
      "Dutch: ['schippersklokje', 'schippertje']\n",
      "Japanese: []\n",
      "Italian: []\n",
      "Spanish: ['schipperke']\n",
      "\n",
      "Synset('affenpinscher.n.01')\n",
      "European breed of small dog resembling a terrier with dark wiry hair and a tufted muzzle\n",
      "English: ['affenpinscher', 'monkey_pinscher', 'monkey_dog']\n",
      "Dutch: []\n",
      "Japanese: ['アーフェンピンシャー']\n",
      "Italian: []\n",
      "Spanish: ['affenpinscher']\n",
      "\n",
      "Synset('doberman.n.01')\n",
      "medium large breed of dog of German origin with a glossy black and tan coat; used as a watchdog\n",
      "English: ['Doberman', 'Doberman_pinscher']\n",
      "Dutch: []\n",
      "Japanese: []\n",
      "Italian: ['doberman']\n",
      "Spanish: []\n",
      "\n",
      "Synset('miniature_pinscher.n.01')\n",
      "small German version of a Doberman pinscher\n",
      "English: ['miniature_pinscher']\n",
      "Dutch: ['dwergpinscher']\n",
      "Japanese: ['ミニチュア・ピンシャー']\n",
      "Italian: []\n",
      "Spanish: []\n",
      "\n"
     ]
    }
   ],
   "source": [
    "for s in dog_family: \n",
    "    print(s)\n",
    "    print(s.definition())\n",
    "    print('English:', s.lemma_names('eng'))\n",
    "    print('Dutch:', s.lemma_names('nld'))\n",
    "    print('Japanese:', s.lemma_names('jpn'))\n",
    "    print('Italian:', s.lemma_names('ita'))\n",
    "    print('Spanish:', s.lemma_names('spa'))\n",
    "    print()"
   ]
  },
  {
   "cell_type": "markdown",
   "metadata": {},
   "source": [
    "Because of the way that we defined the function, the dogs deeper in the hierarchy or closer to the edge of the graph are added at the end of the list. If you look closely at the results, you can also see that the coverage decreases towards the end of the `dog_family`. We expect that more specific and less frequent dog names closer to the edge are less likely translated using the expand method."
   ]
  },
  {
   "cell_type": "markdown",
   "metadata": {},
   "source": [
    "The next simple code counts the missing dogs per language."
   ]
  },
  {
   "cell_type": "code",
   "execution_count": 34,
   "metadata": {
    "tags": []
   },
   "outputs": [
    {
     "name": "stdout",
     "output_type": "stream",
     "text": [
      "Missing dogs in Dutch: 142\n",
      "Missing dogs in Japanse: 100\n",
      "Missing dogs in Italian: 127\n",
      "Missing dogs in Spanish: 154\n"
     ]
    }
   ],
   "source": [
    "dog_gaps_nl = 0\n",
    "dog_gaps_jp = 0\n",
    "dog_gaps_es = 0\n",
    "dog_gaps_it = 0\n",
    "\n",
    "\n",
    "for s in dog_family: \n",
    "    if not s.lemma_names('nld'):\n",
    "        dog_gaps_nl +=1\n",
    "    \n",
    "    if not s.lemma_names('jpn'):\n",
    "        dog_gaps_jp +=1\n",
    "    \n",
    "    if not s.lemma_names('ita'):\n",
    "        dog_gaps_it +=1\n",
    "    \n",
    "    if not s.lemma_names('spa'):\n",
    "        dog_gaps_es +=1\n",
    "        \n",
    "print('Missing dogs in Dutch:', dog_gaps_nl)\n",
    "print('Missing dogs in Japanse:', dog_gaps_jp)\n",
    "print('Missing dogs in Italian:', dog_gaps_it)\n",
    "print('Missing dogs in Spanish:', dog_gaps_es)"
   ]
  },
  {
   "cell_type": "markdown",
   "metadata": {},
   "source": [
    "Something to think about: could there be any dogs that are not in the English WordNet but are common in other languages? Where can you find the answer to such a question?"
   ]
  },
  {
   "cell_type": "markdown",
   "metadata": {},
   "source": [
    "# End of this notebook"
   ]
  },
  {
   "cell_type": "code",
   "execution_count": null,
   "metadata": {},
   "outputs": [],
   "source": []
  }
 ],
 "metadata": {
  "kernelspec": {
   "display_name": "hltenv",
   "language": "python",
   "name": "hltenv"
  },
  "language_info": {
   "codemirror_mode": {
    "name": "ipython",
    "version": 3
   },
   "file_extension": ".py",
   "mimetype": "text/x-python",
   "name": "python",
   "nbconvert_exporter": "python",
   "pygments_lexer": "ipython3",
   "version": "3.9.16"
  }
 },
 "nbformat": 4,
 "nbformat_minor": 4
}
