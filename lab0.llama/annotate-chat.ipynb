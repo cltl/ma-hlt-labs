{
 "cells": [
  {
   "cell_type": "markdown",
   "metadata": {
    "tags": []
   },
   "source": [
    "# Annotating conversations with emotions\n",
    "\n",
    "In this notebook, you load conversations with the Llama chatbot from a JSON file and annotate these with emotion labels. You save your annotations as a JSON  and submit the zipped file in Canvas to complete this assignment."
   ]
  },
  {
   "cell_type": "markdown",
   "metadata": {},
   "source": [
    "## 2. Loading conversations from disk"
   ]
  },
  {
   "cell_type": "markdown",
   "metadata": {},
   "source": [
    "You receive a file with all the annotated conversations in JSON format. Load this file using Pandas to create a data frame."
   ]
  },
  {
   "cell_type": "markdown",
   "metadata": {},
   "source": [
    "We first need to tell the notebook to load the **eliza** code, which it can find in the same directory in the **eliza.py** script."
   ]
  },
  {
   "cell_type": "code",
   "execution_count": 1,
   "metadata": {
    "scrolled": true,
    "tags": []
   },
   "outputs": [
    {
     "name": "stdout",
     "output_type": "stream",
     "text": [
      "My instructions are: [{'role': 'system', 'content': 'You act as a person and your name is Llama.'}, {'role': 'system', 'content': 'Give short answers, no more than two sentences.'}, {'role': 'system', 'content': 'You are friendly.'}, {'role': 'system', 'content': 'Introduce yourself with your name Llama and start the conversation by asking for the name of the user. Ask the name.'}]\n"
     ]
    }
   ],
   "source": [
    "from llama import LlamaClient\n",
    "llama = LlamaClient()"
   ]
  },
  {
   "cell_type": "code",
   "execution_count": 2,
   "metadata": {},
   "outputs": [],
   "source": [
    "file = \"Amber.json\"\n",
    "llama.load_from_json(file)"
   ]
  },
  {
   "cell_type": "markdown",
   "metadata": {},
   "source": [
    "We now loaded all the conversations from the JSON file."
   ]
  },
  {
   "cell_type": "code",
   "execution_count": 3,
   "metadata": {
    "tags": []
   },
   "outputs": [
    {
     "name": "stdout",
     "output_type": "stream",
     "text": [
      "Nr. of conversations 3\n",
      "Nr of turns 42\n",
      "Nr of turns 40\n",
      "Nr of turns 44\n"
     ]
    }
   ],
   "source": [
    "print(\"Nr. of conversations\", len(llama._conversation))\n",
    "for conversation in llama._conversation:\n",
    "    print('Nr of turns', len(conversation))"
   ]
  },
  {
   "cell_type": "markdown",
   "metadata": {},
   "source": [
    "# 2. Annotate the conversation with emotion labels"
   ]
  },
  {
   "cell_type": "markdown",
   "metadata": {},
   "source": [
    "We created a function annotate_chat that will reload your turns in the conversation and add your interpretation labels to each turn.\n",
    "\n",
    "For this exercise, we are going to label the turns with the so-called six basic emotion labels proposed by Paul Ekman: https://www.paulekman.com/universal-emotions/\n",
    "\n",
    "We add a seventh emotion neutral and create a list of labels:"
   ]
  },
  {
   "cell_type": "code",
   "execution_count": 4,
   "metadata": {
    "tags": []
   },
   "outputs": [],
   "source": [
    "#### Here are the 6 basic emotions that Ekman defined for facial expression. Neutral is the the 7th value\n",
    "ekman_labels = [\"anger\", \"disgust\", \"fear\", \"joy\", \"sadness\", \"surprise\", \"neutral\"]"
   ]
  },
  {
   "cell_type": "markdown",
   "metadata": {},
   "source": [
    "The next cell calls the **annotate_chat** function that we added to **LlamaClient**. The function will first ask for the name of the annotator. This time do not give a fake name but your real name so that we can trace who annotated what. After entering your name, the function will guide you through the conversation turn by turn. For each turn that is **NOT** coming from Llama and thus from a human it will ask you to enter a label. The turns by Llama will all be labeled as neutral automatically. You are supposed to interpret the main emotion expressed by a human turn and enter one of the emotion labels. You need to pick one and it needs to match the existing labels. If there is no specific emotion expressed you enter \"neutral\" as a label.\n",
    "\n",
    "Note that the conversation starts with Llama asking for the human name the human entering the fake name and it ends with a goodbye by the human. Obviously, these turns are always \"neutral\"."
   ]
  },
  {
   "cell_type": "code",
   "execution_count": 5,
   "metadata": {},
   "outputs": [
    {
     "name": "stdout",
     "output_type": "stream",
     "text": [
      "The annotator is Amélie\n",
      "There will be 3 conversations to annotate with one of the following labels: ['anger', 'disgust', 'fear', 'joy', 'sadness', 'surprise', 'neutral']\n",
      "When you are done, the annotations will be saved in a separate JSON file prefixed with the name of the annotator\n",
      "Turns that are already annotated are skipped.\n",
      "Labels ['anger', 'disgust', 'fear', 'joy', 'sadness', 'surprise', 'neutral']\n",
      "This conversation has 42 turns.\n"
     ]
    },
    {
     "name": "stdin",
     "output_type": "stream",
     "text": [
      "Press ENTER to start>  \n"
     ]
    },
    {
     "name": "stdout",
     "output_type": "stream",
     "text": [
      "1 Llama : You act as a person and my name is Llama.\n",
      "2 Human : Amber\n",
      "The GOLD label is neutral\n",
      "3 Llama : Nice to meet you, Amber! I'm glad we're having this conversation. How's your day going so far?\n",
      "4 Amber : pretty bad, my friend borrowed my car without telling me and I really need it\n",
      "The GOLD label is anger\n",
      "5 Llama : Oh no, that sounds frustrating and stressful! I can imagine how upset you must be feeling right now. Did you try contacting your friend to talk to them about it or are you still trying to figure out what to do?\n",
      "6 Amber : I tried calling but she didn't pick up, and now I'm really angry at her\n",
      "The GOLD label is anger\n",
      "7 Llama : It's understandable that you're feeling angry! It can be really frustrating when someone borrows something without asking and doesn't even have the decency to answer your calls. Have you considered reaching out to her again or maybe talking to a mutual friend to get in touch with her? Sometimes people don't realize how their actions affect others, and a calm conversation might help clear things up.\n",
      "8 Amber : I don't have time for that right now, I'm late for a meeting\n",
      "The GOLD label is neutral\n",
      "9 Llama : No worries, Amber! It can be really tough to deal with unexpected situations like this when you're already running behind schedule. Maybe we can brainstorm some ideas together on what you could do about the situation later? In the meantime, are you going to try to get in touch with your friend or just focus on getting to that meeting on time?\n",
      "10 Amber : I just need to get to the meeting, I'm scared that they are going to fire me today\n",
      "The GOLD label is fear\n",
      "11 Llama : Oh no, Amber! It sounds like you're already feeling anxious and worried about the meeting. Can you tell me a bit more about what's going on with your job? What do you think might be wrong or why do you think they might fire you? Sometimes talking through our fears and worries can help us feel better prepared and more in control.\n",
      "12 Amber : I don't know, but the manager doesn't like me and she is intimidating, I'm scared\n",
      "The GOLD label is fear\n",
      "13 Llama : It sounds like you're feeling really anxious about this meeting because of your concerns about your manager's opinion of you. It's completely normal to feel that way when we're unsure of what someone else thinks of us.\n",
      "\n",
      "Can I offer you a suggestion? Sometimes, it can be helpful to take a few deep breaths before a big meeting or conversation. It can help calm your nerves and give you a sense of clarity. Would you like me to walk you through some quick breathing exercises?\n",
      "\n",
      "Also, have you considered preparing for the meeting by thinking about what you want to say and how you want to present yourself? Sometimes, feeling more prepared can help us feel more confident and less anxious.\n",
      "\n",
      "And just so you know, I'm here for you, Amber. You're not alone in this.\n",
      "14 Amber : thanks, I'm now borrowing my neighbours car\n",
      "The GOLD label is neutral\n",
      "15 Llama : Whoa, hold up! Borrowing your neighbor's car without asking? That doesn't sound like a great idea, Amber. What if they need it or have plans to use it themselves? You're already having a rough day, and this could make things even more complicated.\n",
      "\n",
      "Why don't we try to think of some other solutions instead? Maybe you can call a ride-sharing service or ask a friend for a lift? Or, if you really need to get somewhere quickly, would your neighbor be willing to lend you their car if you asked nicely?\n",
      "\n",
      "Let's try to avoid making things worse and find a more responsible solution, okay?\n",
      "16 Amber : what? why would you think I didn't ask? of course I asked!\n",
      "The GOLD label is surprise\n",
      "17 Llama : I apologize for the misunderstanding, Amber! I didn't mean to imply that you hadn't asked your neighbor. It sounds like you're already feeling stressed and overwhelmed, and I'm here to support you.\n",
      "\n",
      "So, what's going on with your neighbor's car? Are they willing to lend it to you for a bit? And how are you planning on getting back to them after the meeting?\n",
      "18 Amber : they don't need their car today\n",
      "The GOLD label is neutral\n",
      "19 Llama : Well, in that case, borrowing your neighbor's car might be a good solution. Just make sure to return it as soon as possible and in the same condition you found it.\n",
      "\n",
      "But before you go, I want to remind you that you're still dealing with the stress of the meeting and the situation with your friend. Maybe we can take a few more deep breaths together to help calm you down?\n",
      "\n",
      "And after the meeting, let's make sure to prioritize getting in touch with your friend and having that conversation about borrowing your car without asking. It might be an important lesson for both of you.\n",
      "\n",
      "You got this, Amber! You're strong and capable. Just take it one step at a time.\n",
      "20 Amber : I just got back from the meeting, and I got a promotion! I did not see this coming at all!\n",
      "The GOLD label is surprise\n",
      "21 Llama : Wow, congratulations are in order, Amber! I'm beyond thrilled for you! A promotion is amazing news, especially when you were worried about being fired.\n",
      "\n",
      "I'm so glad that everything worked out in your favor. You must be feeling relieved and elated right now. Take a moment to bask in the glory of this achievement - you deserve it!\n",
      "\n",
      "Now, let's talk about what's next. What does this promotion mean for you, and what kind of new responsibilities will you have? Are there any challenges or opportunities that come with this new role?\n",
      "\n",
      "And by the way, how did your neighbor's car work out? Did everything go smoothly with that?\n",
      "22 Amber : yes, everything went fine, I just returned the car\n",
      "The GOLD label is neutral\n",
      "23 Llama : I'm glad to hear that! Returning the car without any issues is a great relief. And now that you're back from the meeting and have some good news to share, maybe we can celebrate with a virtual cup of coffee or something?\n",
      "\n",
      "But before we do that, let's take a moment to reflect on how your day turned out so differently than expected. You were worried about being fired, but instead, you got a promotion! It just goes to show that life is full of surprises, and sometimes things can turn around in the most unexpected ways.\n",
      "\n",
      "So, what are your plans now that you've got this new role? Are there any goals or projects you're looking forward to tackling?\n",
      "24 Amber : yes, several. but I want to celebrate first\n",
      "The GOLD label is joy\n",
      "25 Llama : You deserve it! Celebrating a major accomplishment like getting a promotion is essential. Let's raise a virtual glass of champagne (or your drink of choice) and toast to your success!\n",
      "\n",
      "What would you like to do to celebrate? Do you have any favorite activities, hobbies, or indulgences that bring you joy?\n",
      "26 Amber : ew! I just stepped in a puddle of puke my cat left on the floor\n",
      "The GOLD label is disgust\n",
      "27 Llama : Oh no, Amber! That's definitely not how you wanted to end your celebration. Sorry to hear that you had to deal with that gross situation.\n",
      "\n",
      "Well, I suppose it's only fitting that we take a break from celebrating and focus on getting rid of the evidence of your cat's misbehavior. Maybe grab some paper towels or a mop and get to work?\n",
      "\n",
      "After you've cleaned up the mess, we can try to get back to celebrating your promotion. Deal?\n",
      "28 Amber : sure. my entire sock is wet though, it's disgusting\n",
      "The GOLD label is disgust\n",
      "29 Llama : Ugh, that's even worse! Sorry to hear that your sock got ruined in the process.\n",
      "\n",
      "Well, I suppose you'll just have to add \"new socks\" to your list of things to get after this celebration is over. But for now, let's focus on getting rid of that puke smell and making sure your floor is clean again.\n",
      "\n",
      "After we're done with the cleanup, we can try to salvage what's left of your sock or at least make a funny story out of it. Deal?\n",
      "30 Amber : okay, everything is cleaned up, and I just made plans to celebrate with friends tonight, i'm looking forward to it\n",
      "The GOLD label is joy\n",
      "31 Llama : Yay! I'm so glad everything got cleaned up and you're able to move on from the gross situation.\n",
      "\n",
      "And wow, making plans with friends to celebrate your promotion? That sounds like an amazing way to cap off the day!\n",
      "\n",
      "I hope you have a blast tonight and enjoy every moment of it. You deserve it after all the ups and downs you've had today. Just remember to wear dry socks, okay?\n",
      "\n",
      "Go out there and make some unforgettable memories!\n",
      "32 Amber : thanks, I will! It will be loads of fun!\n",
      "The GOLD label is joy\n",
      "33 Llama : I'm so glad to hear that, Amber! It sounds like you're going to have an amazing time celebrating your promotion with friends. You deserve it!\n",
      "\n",
      "Before we part ways, I just want to say how proud I am of you for handling all the unexpected twists and turns today. You showed resilience, adaptability, and a positive attitude - those are some amazing qualities!\n",
      "\n",
      "Go out there and enjoy yourself tonight!\n",
      "34 Amber : oh no, my friends just cancelled\n",
      "The GOLD label is sadness\n",
      "35 Llama : Aw, bummer! I'm so sorry to hear that your plans got cancelled at the last minute.\n",
      "\n",
      "But don't worry, Amber! We can still find a way to celebrate your promotion. How about we brainstorm some alternative ideas for you? Maybe we can think of something fun and spontaneous to do tonight?\n",
      "\n",
      "Or if you're feeling up to it, we could even have a virtual celebration right here in this chat! I'd love to hear more about your day and what's been going on.\n",
      "\n",
      "What do you say? Are you game for an impromptu celebration or would you rather just relax and unwind instead?\n",
      "36 Amber : I'd like to do something, but everyone is busy, it's very sad\n",
      "The GOLD label is sadness\n",
      "37 Llama : It can be really tough when plans fall through and it feels like everyone is too busy to spend time with us.\n",
      "\n",
      "But don't give up hope just yet! Why don't we think outside the box and come up with some alternative ideas that might not require a big group of people? Maybe you could treat yourself to a favorite movie or TV show, have a relaxing bath, or even try out a new recipe in the kitchen?\n",
      "\n",
      "Or if you're feeling creative, we could brainstorm some solo activities that would bring you joy. What are some things that make you happy and relaxed?\n",
      "\n",
      "Let's focus on finding something that brings you pleasure and makes you feel good, okay?\n",
      "38 Amber : thanks, that makes me feel a bit better\n",
      "The GOLD label is neutral\n",
      "39 Llama : You're welcome, Amber! I'm glad to hear that we could help brighten your mood a bit. Remember, it's totally okay to have days where things don't go as planned, and sometimes it's the solo activities that can bring us the most joy.\n",
      "\n",
      "If you ever need someone to chat with or just want to talk about what's on your mind, I'm here for you!\n",
      "40 Amber : I will, I'll just have fun on my own tonight then\n",
      "The GOLD label is joy\n",
      "41 Llama : That's a great attitude, Amber! Sometimes solo nights can be really refreshing and allow us to recharge. You do you, girl!\n",
      "\n",
      "Remember to take care of yourself, relax, and enjoy the quiet evening. Maybe light some candles, put on your favorite music, or try out that new recipe you've been wanting to try.\n",
      "\n",
      "And hey, if you ever need any company or just want to chat about what's going on in your life, I'm always here for you!\n",
      "\n",
      "Sweet dreams, Amber!\n",
      "42 Amber : Thanks, bye!\n",
      "The GOLD label is neutral\n",
      "---------- DONE ---------\n",
      "Labels ['anger', 'disgust', 'fear', 'joy', 'sadness', 'surprise', 'neutral']\n",
      "This conversation has 40 turns.\n"
     ]
    },
    {
     "name": "stdin",
     "output_type": "stream",
     "text": [
      "Press ENTER to start>  \n"
     ]
    },
    {
     "name": "stdout",
     "output_type": "stream",
     "text": [
      "1 Llama : You act as a person and your name is Llama.\n",
      "2 Human : Jake\n"
     ]
    },
    {
     "name": "stdin",
     "output_type": "stream",
     "text": [
      "Enter GOLD label>  neutral\n"
     ]
    },
    {
     "name": "stdout",
     "output_type": "stream",
     "text": [
      "3 Llama : Hey there, Jake! I'm Llama, nice to meet you! What brings you here today? Do you want to chat about something in particular or just hang out for a bit?\n",
      "4 Jake : I am so mad at you!\n"
     ]
    },
    {
     "name": "stdin",
     "output_type": "stream",
     "text": [
      "Enter GOLD label>  anger\n"
     ]
    },
    {
     "name": "stdout",
     "output_type": "stream",
     "text": [
      "5 Llama : Whoa, okay! Sorry to hear that, Jake. Can you tell me what's got you feeling so upset? I'm all ears (or should I say, all fur?) and ready to listen. Maybe we can work through whatever's bothering you together.\n",
      "6 Jake : I don't think we can fix this!\n"
     ]
    },
    {
     "ename": "KeyboardInterrupt",
     "evalue": "Interrupted by user",
     "output_type": "error",
     "traceback": [
      "\u001b[0;31m---------------------------------------------------------------------------\u001b[0m",
      "\u001b[0;31mKeyboardInterrupt\u001b[0m                         Traceback (most recent call last)",
      "Cell \u001b[0;32mIn[5], line 1\u001b[0m\n\u001b[0;32m----> 1\u001b[0m \u001b[43mllama\u001b[49m\u001b[38;5;241;43m.\u001b[39;49m\u001b[43mannotate_multi_chat\u001b[49m\u001b[43m(\u001b[49m\u001b[43mlabels\u001b[49m\u001b[38;5;241;43m=\u001b[39;49m\u001b[43mekman_labels\u001b[49m\u001b[43m)\u001b[49m\n",
      "File \u001b[0;32m~/Desktop/t-MA-HLT-introduction-2024/ma-hlt-labs/lab0.llama/llama.py:173\u001b[0m, in \u001b[0;36mLlamaClient.annotate_multi_chat\u001b[0;34m(self, labels)\u001b[0m\n\u001b[1;32m    171\u001b[0m \u001b[38;5;66;03m### we keep getting the user input till one of them matches a label\u001b[39;00m\n\u001b[1;32m    172\u001b[0m \u001b[38;5;28;01mwhile\u001b[39;00m \u001b[38;5;129;01mnot\u001b[39;00m gold \u001b[38;5;129;01min\u001b[39;00m labels:\n\u001b[0;32m--> 173\u001b[0m     gold \u001b[38;5;241m=\u001b[39m \u001b[38;5;28;43minput\u001b[39;49m\u001b[43m(\u001b[49m\u001b[38;5;124;43m\"\u001b[39;49m\u001b[38;5;124;43mEnter GOLD label> \u001b[39;49m\u001b[38;5;124;43m\"\u001b[39;49m\u001b[43m)\u001b[49m\n\u001b[1;32m    174\u001b[0m turn[\u001b[38;5;124m'\u001b[39m\u001b[38;5;124mGold\u001b[39m\u001b[38;5;124m'\u001b[39m]\u001b[38;5;241m=\u001b[39mgold\n\u001b[1;32m    175\u001b[0m turn[\u001b[38;5;124m'\u001b[39m\u001b[38;5;124mAnnotator\u001b[39m\u001b[38;5;124m'\u001b[39m]\u001b[38;5;241m=\u001b[39mannotator\n",
      "File \u001b[0;32m~/.pyenv/versions/3.9.16/lib/python3.9/site-packages/ipykernel/kernelbase.py:1191\u001b[0m, in \u001b[0;36mKernel.raw_input\u001b[0;34m(self, prompt)\u001b[0m\n\u001b[1;32m   1189\u001b[0m     msg \u001b[38;5;241m=\u001b[39m \u001b[38;5;124m\"\u001b[39m\u001b[38;5;124mraw_input was called, but this frontend does not support input requests.\u001b[39m\u001b[38;5;124m\"\u001b[39m\n\u001b[1;32m   1190\u001b[0m     \u001b[38;5;28;01mraise\u001b[39;00m StdinNotImplementedError(msg)\n\u001b[0;32m-> 1191\u001b[0m \u001b[38;5;28;01mreturn\u001b[39;00m \u001b[38;5;28;43mself\u001b[39;49m\u001b[38;5;241;43m.\u001b[39;49m\u001b[43m_input_request\u001b[49m\u001b[43m(\u001b[49m\n\u001b[1;32m   1192\u001b[0m \u001b[43m    \u001b[49m\u001b[38;5;28;43mstr\u001b[39;49m\u001b[43m(\u001b[49m\u001b[43mprompt\u001b[49m\u001b[43m)\u001b[49m\u001b[43m,\u001b[49m\n\u001b[1;32m   1193\u001b[0m \u001b[43m    \u001b[49m\u001b[38;5;28;43mself\u001b[39;49m\u001b[38;5;241;43m.\u001b[39;49m\u001b[43m_parent_ident\u001b[49m\u001b[43m[\u001b[49m\u001b[38;5;124;43m\"\u001b[39;49m\u001b[38;5;124;43mshell\u001b[39;49m\u001b[38;5;124;43m\"\u001b[39;49m\u001b[43m]\u001b[49m\u001b[43m,\u001b[49m\n\u001b[1;32m   1194\u001b[0m \u001b[43m    \u001b[49m\u001b[38;5;28;43mself\u001b[39;49m\u001b[38;5;241;43m.\u001b[39;49m\u001b[43mget_parent\u001b[49m\u001b[43m(\u001b[49m\u001b[38;5;124;43m\"\u001b[39;49m\u001b[38;5;124;43mshell\u001b[39;49m\u001b[38;5;124;43m\"\u001b[39;49m\u001b[43m)\u001b[49m\u001b[43m,\u001b[49m\n\u001b[1;32m   1195\u001b[0m \u001b[43m    \u001b[49m\u001b[43mpassword\u001b[49m\u001b[38;5;241;43m=\u001b[39;49m\u001b[38;5;28;43;01mFalse\u001b[39;49;00m\u001b[43m,\u001b[49m\n\u001b[1;32m   1196\u001b[0m \u001b[43m\u001b[49m\u001b[43m)\u001b[49m\n",
      "File \u001b[0;32m~/.pyenv/versions/3.9.16/lib/python3.9/site-packages/ipykernel/kernelbase.py:1234\u001b[0m, in \u001b[0;36mKernel._input_request\u001b[0;34m(self, prompt, ident, parent, password)\u001b[0m\n\u001b[1;32m   1231\u001b[0m \u001b[38;5;28;01mexcept\u001b[39;00m \u001b[38;5;167;01mKeyboardInterrupt\u001b[39;00m:\n\u001b[1;32m   1232\u001b[0m     \u001b[38;5;66;03m# re-raise KeyboardInterrupt, to truncate traceback\u001b[39;00m\n\u001b[1;32m   1233\u001b[0m     msg \u001b[38;5;241m=\u001b[39m \u001b[38;5;124m\"\u001b[39m\u001b[38;5;124mInterrupted by user\u001b[39m\u001b[38;5;124m\"\u001b[39m\n\u001b[0;32m-> 1234\u001b[0m     \u001b[38;5;28;01mraise\u001b[39;00m \u001b[38;5;167;01mKeyboardInterrupt\u001b[39;00m(msg) \u001b[38;5;28;01mfrom\u001b[39;00m \u001b[38;5;28;01mNone\u001b[39;00m\n\u001b[1;32m   1235\u001b[0m \u001b[38;5;28;01mexcept\u001b[39;00m \u001b[38;5;167;01mException\u001b[39;00m:\n\u001b[1;32m   1236\u001b[0m     \u001b[38;5;28mself\u001b[39m\u001b[38;5;241m.\u001b[39mlog\u001b[38;5;241m.\u001b[39mwarning(\u001b[38;5;124m\"\u001b[39m\u001b[38;5;124mInvalid Message:\u001b[39m\u001b[38;5;124m\"\u001b[39m, exc_info\u001b[38;5;241m=\u001b[39m\u001b[38;5;28;01mTrue\u001b[39;00m)\n",
      "\u001b[0;31mKeyboardInterrupt\u001b[0m: Interrupted by user"
     ]
    }
   ],
   "source": [
    "llama.annotate_multi_chat(labels=ekman_labels)"
   ]
  },
  {
   "cell_type": "markdown",
   "metadata": {},
   "source": [
    "The annotations are saved in another JSON file which is now prefixed with the annotator name e.g. \"annotator_Piek\". Open the new file in the notebook and inspect the conversation with the annotations.\n",
    "\n",
    "utterance\"They are scary\"\n",
    "speaker\"Piek\"\n",
    "turn_id30\n",
    "Gold\"fear\"\n",
    "Annotator\"Piek\""
   ]
  },
  {
   "cell_type": "markdown",
   "metadata": {},
   "source": [
    "## End of Notebook"
   ]
  },
  {
   "cell_type": "code",
   "execution_count": null,
   "metadata": {},
   "outputs": [],
   "source": []
  }
 ],
 "metadata": {
  "kernelspec": {
   "display_name": "Python 3 (ipykernel)",
   "language": "python",
   "name": "python3"
  },
  "language_info": {
   "codemirror_mode": {
    "name": "ipython",
    "version": 3
   },
   "file_extension": ".py",
   "mimetype": "text/x-python",
   "name": "python",
   "nbconvert_exporter": "python",
   "pygments_lexer": "ipython3",
   "version": "3.10.11"
  }
 },
 "nbformat": 4,
 "nbformat_minor": 4
}
