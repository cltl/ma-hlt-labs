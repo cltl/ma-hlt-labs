{
 "cells": [
  {
   "cell_type": "markdown",
   "id": "a403c511-01b1-41d3-856e-3d5f86b30875",
   "metadata": {},
   "source": [
    "# Lab4.5 Emotional classification with Llama3"
   ]
  },
  {
   "cell_type": "markdown",
   "id": "f8a989fb-0cd9-41ee-a45b-b6989c6eef20",
   "metadata": {},
   "source": [
    "Copyright: Vrije Universiteit Amsterdam, Faculty of Humanities, CLTL"
   ]
  },
  {
   "cell_type": "markdown",
   "id": "fb92fb8b-6e76-4a6b-86b3-76db5a46f0da",
   "metadata": {},
   "source": [
    "Through this notebook, you will annotate a text with Llama version 3, a Generative Large Language Model model released by [Meta](https://llama.meta.com/llama3/). \n",
    "\n",
    "You will read a conversation and send the utterances to the Llama server to annotate each using instructions, soca-lled prompting. For running a server locally see the notebook **how-to-install-llama-server.ipynb* from the start of the course. Note that the server needs to run in another terminally in parallel to this notebook. In case you cannot run the server, use the credentials for the CLTL server.\n",
    "\n",
    "The code for the annotator is given in **llama_annotator.py**. It is an OpenAI client that sends a prompt request to a llama server server for a response."
   ]
  },
  {
   "cell_type": "markdown",
   "id": "e40055b3-24ef-48a2-baf4-ad78fad3e189",
   "metadata": {},
   "source": [
    "### Installation of an OpenAI client"
   ]
  },
  {
   "cell_type": "markdown",
   "id": "8e1d29a3-9117-4727-a479-8c711f5dae22",
   "metadata": {},
   "source": [
    "To run the annotator, you first need to install the OpenAI client using the following command line. If you ran the code for Llama Chat client you already did this."
   ]
  },
  {
   "cell_type": "code",
   "execution_count": 9,
   "id": "5bc583be-47ec-456e-90b0-7461f5ca3e9d",
   "metadata": {
    "scrolled": true
   },
   "outputs": [],
   "source": [
    "#! pip install openai"
   ]
  },
  {
   "cell_type": "markdown",
   "id": "4b288df2-5948-4e60-bb40-f729d65a758f",
   "metadata": {},
   "source": [
    "Once succesfully installed, you can comment out the previous cell and you do not need to do this again when running this notebook. The OpenAI module is now installed on your machine and can be imported. The import will be done by the **llama_annotator.py** script, which we will load next."
   ]
  },
  {
   "cell_type": "markdown",
   "id": "bd230988-2c7b-4018-9131-ca6d4f912db7",
   "metadata": {},
   "source": [
    "## Creating the Llama chatbot"
   ]
  },
  {
   "cell_type": "code",
   "execution_count": 1,
   "id": "96552b4f-f63b-4155-9956-01ff93c62cd0",
   "metadata": {},
   "outputs": [],
   "source": [
    "from llama_annotator import LlamaAnnotator"
   ]
  },
  {
   "cell_type": "markdown",
   "id": "2b8300d5-04bb-4467-bbb3-a94491d40105",
   "metadata": {},
   "source": [
    "If there are no error messages, we can create a chatbot instance of a LlamaAnnotator as defined in **llama_annotator.py**. We define **annotator** as an instance of a LLamaCAnnotator, where we can specify three additional parameters: the *url* of the server (either local or online), the labels that we want to use for the annoation and optionally examples of the input and output."
   ]
  },
  {
   "cell_type": "code",
   "execution_count": 6,
   "id": "4a7758a1-1eb6-4ce9-bb4a-c7967ed51788",
   "metadata": {},
   "outputs": [
    {
     "name": "stdout",
     "output_type": "stream",
     "text": [
      "My instructions are: [{'role': 'system', 'content': 'You are an intelligent assistant.'}, {'role': 'system', 'content': 'You will receive utterances from a conversation as Input in JSON format.'}, {'role': 'system', 'content': \"You need to decide whether one of the following labels apply:['anger', 'disgust', 'fear', 'joy', 'sadness', 'surprise', 'neutral']\"}, {'role': 'system', 'content': 'Output the most appropriate label in JSON format.'}, {'role': 'system', 'content': 'Do not output anything else.'}, {'role': 'system', 'content': 'Here are a few examples:'}, {'role': 'user', 'content': 'I love dogs'}, {'role': 'system', 'content': 'joy'}, {'role': 'user', 'content': 'I hate cats'}, {'role': 'system', 'content': 'disgust'}]\n"
     ]
    }
   ],
   "source": [
    "### Labels to try\n",
    "sentiment_labels = [\"positive\", \"negative\", \"neutral\"]\n",
    "ekman_labels = [\"anger\", \"disgust\", \"fear\", \"joy\", \"sadness\", \"surprise\", \"neutral\"]\n",
    "examples = [{\"Input\": \"I love dogs\", \"Output\": \"joy\"}, {\"Input\": \"I hate cats\", \"Output\": \"disgust\"}]\n",
    "cltl_url = \"http://130.37.53.128:9001/v1\"\n",
    "local_url = \"http://localhost:9001/v1\"\n",
    "#annotator = LlamaAnnotator(url=cltl_url, labels=ekman_labels, examples=examples)\n",
    "annotator = LlamaAnnotator(url=local_url, labels=ekman_labels, examples=examples)"
   ]
  },
  {
   "cell_type": "markdown",
   "id": "01a0efb0-1ee3-4466-858e-74e6c9656287",
   "metadata": {},
   "source": [
    "We are now going to read the conversation that we had before with Llama with our annotations and send these to the server again to annotate."
   ]
  },
  {
   "cell_type": "code",
   "execution_count": 7,
   "id": "bab5ae50-badd-4376-a90b-5de41404f917",
   "metadata": {},
   "outputs": [
    {
     "data": {
      "text/html": [
       "<div>\n",
       "<style scoped>\n",
       "    .dataframe tbody tr th:only-of-type {\n",
       "        vertical-align: middle;\n",
       "    }\n",
       "\n",
       "    .dataframe tbody tr th {\n",
       "        vertical-align: top;\n",
       "    }\n",
       "\n",
       "    .dataframe thead th {\n",
       "        text-align: right;\n",
       "    }\n",
       "</style>\n",
       "<table border=\"1\" class=\"dataframe\">\n",
       "  <thead>\n",
       "    <tr style=\"text-align: right;\">\n",
       "      <th></th>\n",
       "      <th>utterance</th>\n",
       "      <th>speaker</th>\n",
       "      <th>turn_id</th>\n",
       "      <th>Annotator</th>\n",
       "      <th>Gold</th>\n",
       "      <th>Votes</th>\n",
       "      <th>Annotators</th>\n",
       "      <th>Adjudication</th>\n",
       "    </tr>\n",
       "  </thead>\n",
       "  <tbody>\n",
       "    <tr>\n",
       "      <th>2</th>\n",
       "      <td>I hope that your dried llama food isn't anythi...</td>\n",
       "      <td>Raul</td>\n",
       "      <td>8</td>\n",
       "      <td>Pawel</td>\n",
       "      <td>disgust</td>\n",
       "      <td>[disgust, disgust, neutral]</td>\n",
       "      <td>[Pawel, Leo Mylonadis, Matt]</td>\n",
       "      <td>disgust</td>\n",
       "    </tr>\n",
       "    <tr>\n",
       "      <th>8</th>\n",
       "      <td>I am not beefed just upset by many things. Wea...</td>\n",
       "      <td>Robert</td>\n",
       "      <td>8</td>\n",
       "      <td>Pawel</td>\n",
       "      <td>anger</td>\n",
       "      <td>[anger, sadness, sadness]</td>\n",
       "      <td>[Pawel, Leo Mylonadis, Matt]</td>\n",
       "      <td>sadness</td>\n",
       "    </tr>\n",
       "    <tr>\n",
       "      <th>11</th>\n",
       "      <td>Well,when it's coming to life abnd lemons I wo...</td>\n",
       "      <td>Robert</td>\n",
       "      <td>14</td>\n",
       "      <td>Pawel</td>\n",
       "      <td>neutral</td>\n",
       "      <td>[neutral, sadness, anger]</td>\n",
       "      <td>[Pawel, Leo Mylonadis, Matt]</td>\n",
       "      <td>neutral</td>\n",
       "    </tr>\n",
       "    <tr>\n",
       "      <th>30</th>\n",
       "      <td>Can you please stop acting as if you're happy ...</td>\n",
       "      <td>Hi, my name is Anna.</td>\n",
       "      <td>10</td>\n",
       "      <td>Pawel</td>\n",
       "      <td>anger</td>\n",
       "      <td>[anger, neutral, anger, neutral, anger, joy]</td>\n",
       "      <td>[Pawel, Pawel, Leo Mylonadis, Leo Mylonadis, L...</td>\n",
       "      <td>anger</td>\n",
       "    </tr>\n",
       "    <tr>\n",
       "      <th>142</th>\n",
       "      <td>I will go for some beer with my friends! Can't...</td>\n",
       "      <td>Carol</td>\n",
       "      <td>26</td>\n",
       "      <td>Urtė</td>\n",
       "      <td>joy</td>\n",
       "      <td>[joy, joy, joy]</td>\n",
       "      <td>[Urtė, Aidona Katsanaki Menares, Martha]</td>\n",
       "      <td>joy</td>\n",
       "    </tr>\n",
       "  </tbody>\n",
       "</table>\n",
       "</div>"
      ],
      "text/plain": [
       "                                             utterance               speaker  \\\n",
       "2    I hope that your dried llama food isn't anythi...                  Raul   \n",
       "8    I am not beefed just upset by many things. Wea...                Robert   \n",
       "11   Well,when it's coming to life abnd lemons I wo...                Robert   \n",
       "30   Can you please stop acting as if you're happy ...  Hi, my name is Anna.   \n",
       "142  I will go for some beer with my friends! Can't...                 Carol   \n",
       "\n",
       "     turn_id Annotator     Gold                                         Votes  \\\n",
       "2          8     Pawel  disgust                   [disgust, disgust, neutral]   \n",
       "8          8     Pawel    anger                     [anger, sadness, sadness]   \n",
       "11        14     Pawel  neutral                     [neutral, sadness, anger]   \n",
       "30        10     Pawel    anger  [anger, neutral, anger, neutral, anger, joy]   \n",
       "142       26      Urtė      joy                               [joy, joy, joy]   \n",
       "\n",
       "                                            Annotators Adjudication  \n",
       "2                         [Pawel, Leo Mylonadis, Matt]      disgust  \n",
       "8                         [Pawel, Leo Mylonadis, Matt]      sadness  \n",
       "11                        [Pawel, Leo Mylonadis, Matt]      neutral  \n",
       "30   [Pawel, Pawel, Leo Mylonadis, Leo Mylonadis, L...        anger  \n",
       "142           [Urtė, Aidona Katsanaki Menares, Martha]          joy  "
      ]
     },
     "execution_count": 7,
     "metadata": {},
     "output_type": "execute_result"
    }
   ],
   "source": [
    "import pandas as pd\n",
    "\n",
    "annotation_file = \"/Users/piek/Desktop/t-MA-HLT-introduction-2024/ma-hlt-labs-class/lab0.llama/other/adjudicated_annotations.json\"\n",
    "annotation_file = \"/Users/piek/Downloads/specific_utterances.json\"\n",
    "\n",
    "df = pd.read_json(annotation_file)\n",
    "df.head()"
   ]
  },
  {
   "cell_type": "markdown",
   "id": "cf4df24a-75c7-4671-8e8e-6836dee05399",
   "metadata": {},
   "source": [
    "From the Pandas dataframe, we can select the \"utterance\" column as the list of utterances and give this to the ```anotate``` funciton that is defined for our LlamaAnotator. We store the output in the annotations list."
   ]
  },
  {
   "cell_type": "code",
   "execution_count": null,
   "id": "10eefe2d-5f4b-4678-90b7-c2093b341f4d",
   "metadata": {},
   "outputs": [],
   "source": []
  },
  {
   "cell_type": "code",
   "execution_count": 8,
   "id": "12a4ffd2-0ab7-4fc4-bc24-84ffbbd27cc3",
   "metadata": {},
   "outputs": [
    {
     "name": "stdout",
     "output_type": "stream",
     "text": [
      "Processed 10 turns out of 20\n",
      "Processed 20 turns out of 20\n",
      "[{'Input': \"I hope that your dried llama food isn't anything illicit! \", 'Output': 'surprise'}, {'Input': 'I am not beefed just upset by many things. Weather was just a beginning.', 'Output': 'anger'}, {'Input': \"Well,when it's coming to life abnd lemons I would rather mnix gin and tonic. Especially after such a morning.   \", 'Output': 'surprise'}, {'Input': \"Can you please stop acting as if you're happy and interested. That is super annoying!\", 'Output': 'anger'}, {'Input': \"I will go for some beer with my friends! Can't wait!\", 'Output': 'joy'}, {'Input': \"To be honest, my trip is a bit rushed. My friends dropped out last minute, so I have to go for a solo-trip this time. I'm so annoyed and frustrated with that!\", 'Output': 'sadness'}, {'Input': \"I believe I can try. I'm just so disgusted with my friends' behaviour!\", 'Output': 'disgust'}, {'Input': \"The problem is that with friends we planned to do camping, but now I have to book hotels last minute! It will cost me a fortune! It's so frustrating!\", 'Output': '{\"anger\"}'}, {'Input': 'Oh noooo, the words! they are overwhelming me, the dreams! They return!!', 'Output': 'surprise'}, {'Input': \"Really fed up now! Didn't think llama's were intellectual, and you proved my point\", 'Output': 'anger'}]\n"
     ]
    }
   ],
   "source": [
    "utterances = df[\"utterance\"]\n",
    "subset = 100\n",
    "annotations = annotator.annotate(utterances[:subset])\n",
    "print(annotations[:10])"
   ]
  },
  {
   "cell_type": "markdown",
   "id": "2e4d2feb-6d0a-4be7-a65a-7988247b2672",
   "metadata": {},
   "source": [
    "We can add the predictions from Llama to the dataframe but Llama does not always precisely follow the instructions e.g. \"Output: Output:neutral\". We therefore need to clean and filter the output. Specifically, we check if any of the Ekman labels is a substring of the Llama output and then take that value. If none of these is matched, we set the value to None."
   ]
  },
  {
   "cell_type": "code",
   "execution_count": null,
   "id": "a4365185-a9b9-48b9-85a2-8e05d9301b43",
   "metadata": {},
   "outputs": [],
   "source": []
  },
  {
   "cell_type": "code",
   "execution_count": 7,
   "id": "29ec6125-84d6-4510-b8b9-dd268881fa78",
   "metadata": {},
   "outputs": [
    {
     "name": "stdout",
     "output_type": "stream",
     "text": [
      "['neutral', 'None', 'fear', 'None', 'surprise', 'surprise', 'None', 'None', 'fear', 'neutral', 'sadness', 'fear', 'fear', 'fear', 'sadness', 'joy', 'fear', 'surprise', 'surprise', 'surprise', 'fear', 'joy', 'joy', 'fear', 'neutral', 'neutral', 'joy', 'fear', 'fear', 'fear', 'fear', 'fear', 'fear', 'sadness', 'fear', 'sadness', 'sadness', 'fear', 'sadness', 'sadness', 'fear', 'fear', 'fear', 'sadness', 'sadness', 'sadness', 'fear', 'fear', 'fear', 'fear', 'sadness', 'anger', 'neutral', 'neutral', 'fear', 'None', 'sadness', 'sadness', 'sadness', 'None', 'sadness', 'None', 'None', 'None', 'sadness', 'sadness', 'sadness', 'None', 'None', 'sadness', 'None', 'None', 'None', 'anger', 'sadness', 'None', 'None', 'joy', 'sadness', 'anger', 'anger', 'None', 'joy', 'None', 'None', 'sadness', 'sadness', 'None', 'neutral', 'joy', 'joy', 'sadness', 'neutral', 'neutral', 'fear', 'fear', 'fear', 'disgust', 'sadness', 'neutral']\n"
     ]
    }
   ],
   "source": [
    "test_labels = df['Adjudication'][:subset]\n",
    "\n",
    "predictions = []\n",
    "for anno in annotations:\n",
    "    if 'Output' in anno:\n",
    "        prediction = anno['Output']\n",
    "    else:\n",
    "        prediction = \"None\"\n",
    "    llama_label = \"None\"\n",
    "    for label in test_labels:\n",
    "        if label in prediction:\n",
    "            llama_label = label\n",
    "    predictions.append(llama_label)\n",
    "print(predictions)"
   ]
  },
  {
   "cell_type": "markdown",
   "id": "f1e0b6f4-91b7-4c18-8ee3-f25fd54cb1a8",
   "metadata": {},
   "source": [
    "Note that Llama may not follow the instructions correctly despite the instructions. It may ignore the JSON format, make up new labels or do other \"creative\" things being triggered by the input text. Always check the output carefully. If Llama does not generate the right output, we can consider this as an error. In this case, it generates \"Output:sadness\" as a label in one case."
   ]
  },
  {
   "cell_type": "code",
   "execution_count": 8,
   "id": "e3069bfc-20c6-4c51-81a9-1387d37f9f73",
   "metadata": {},
   "outputs": [
    {
     "name": "stdout",
     "output_type": "stream",
     "text": [
      "('neutral', 'neutral')\n",
      "('neutral', 'None')\n",
      "('anger', 'fear')\n",
      "('surprise', 'None')\n",
      "('fear', 'surprise')\n",
      "('fear', 'surprise')\n",
      "('joy', 'None')\n",
      "('neutral', 'None')\n",
      "('disgust', 'fear')\n",
      "('joy', 'neutral')\n",
      "('sadness', 'sadness')\n",
      "('sadness', 'fear')\n",
      "('fear', 'fear')\n",
      "('surprise', 'fear')\n",
      "('disgust', 'sadness')\n",
      "('joy', 'joy')\n",
      "('anger', 'fear')\n",
      "('joy', 'surprise')\n",
      "('joy', 'surprise')\n",
      "('surprise', 'surprise')\n",
      "('joy', 'fear')\n",
      "('joy', 'joy')\n",
      "('surprise', 'joy')\n",
      "('disgust', 'fear')\n",
      "('joy', 'neutral')\n",
      "('neutral', 'neutral')\n",
      "('joy', 'joy')\n",
      "('fear', 'fear')\n",
      "('anger', 'fear')\n",
      "('fear', 'fear')\n",
      "('disgust', 'fear')\n",
      "('neutral', 'fear')\n",
      "('fear', 'fear')\n",
      "('sadness', 'sadness')\n",
      "('anger', 'fear')\n",
      "('sadness', 'sadness')\n",
      "('anger', 'sadness')\n",
      "('fear', 'fear')\n",
      "('anger', 'sadness')\n",
      "('joy', 'sadness')\n",
      "('fear', 'fear')\n",
      "('fear', 'fear')\n",
      "('surprise', 'fear')\n",
      "('sadness', 'sadness')\n",
      "('joy', 'sadness')\n",
      "('neutral', 'sadness')\n",
      "('fear', 'fear')\n",
      "('neutral', 'fear')\n",
      "('joy', 'fear')\n",
      "('disgust', 'fear')\n",
      "('sadness', 'sadness')\n",
      "('joy', 'anger')\n",
      "('neutral', 'neutral')\n",
      "('neutral', 'neutral')\n",
      "('disgust', 'fear')\n",
      "('neutral', 'None')\n",
      "('anger', 'sadness')\n",
      "('neutral', 'sadness')\n",
      "('sadness', 'sadness')\n",
      "('neutral', 'None')\n",
      "('anger', 'sadness')\n",
      "('neutral', 'None')\n",
      "('sadness', 'None')\n",
      "('anger', 'None')\n",
      "('sadness', 'sadness')\n",
      "('neutral', 'sadness')\n",
      "('anger', 'sadness')\n",
      "('neutral', 'None')\n",
      "('neutral', 'None')\n",
      "('surprise', 'sadness')\n",
      "('neutral', 'None')\n",
      "('neutral', 'None')\n",
      "('neutral', 'None')\n",
      "('anger', 'anger')\n",
      "('sadness', 'sadness')\n",
      "('surprise', 'None')\n",
      "('sadness', 'None')\n",
      "('joy', 'joy')\n",
      "('neutral', 'sadness')\n",
      "('anger', 'anger')\n",
      "('anger', 'anger')\n",
      "('neutral', 'None')\n",
      "('sadness', 'joy')\n",
      "('anger', 'None')\n",
      "('joy', 'None')\n",
      "('sadness', 'sadness')\n",
      "('sadness', 'sadness')\n",
      "('joy', 'None')\n",
      "('fear', 'neutral')\n",
      "('joy', 'joy')\n",
      "('joy', 'joy')\n",
      "('sadness', 'sadness')\n",
      "('neutral', 'neutral')\n",
      "('fear', 'neutral')\n",
      "('anger', 'fear')\n",
      "('anger', 'fear')\n",
      "('anger', 'fear')\n",
      "('anger', 'disgust')\n",
      "('neutral', 'sadness')\n",
      "('disgust', 'neutral')\n",
      "['None', 'anger', 'disgust', 'fear', 'joy', 'neutral', 'sadness', 'surprise']\n"
     ]
    }
   ],
   "source": [
    "### We pair the test_labels and the predictions\n",
    "for pair in zip(test_labels,predictions):\n",
    "    print(pair)\n",
    "\n",
    "labels = list(test_labels)+list(predictions)\n",
    "label_set = sorted(set(labels))\n",
    "print(label_set)"
   ]
  },
  {
   "cell_type": "code",
   "execution_count": 9,
   "id": "f98ad790-6ab6-4877-8278-48016f505ac5",
   "metadata": {
    "scrolled": true
   },
   "outputs": [
    {
     "name": "stdout",
     "output_type": "stream",
     "text": [
      "Llama Ekman ----------------------------------------------------------------\n",
      "              precision    recall  f1-score   support\n",
      "\n",
      "        None  0.0000000 0.0000000 0.0000000         0\n",
      "       anger  0.7500000 0.1666667 0.2727273        18\n",
      "     disgust  0.0000000 0.0000000 0.0000000         7\n",
      "        fear  0.2962963 0.6666667 0.4102564        12\n",
      "         joy  0.7500000 0.3333333 0.4615385        18\n",
      "     neutral  0.5000000 0.2173913 0.3030303        23\n",
      "     sadness  0.4400000 0.7333333 0.5500000        15\n",
      "    surprise  0.2000000 0.1428571 0.1666667         7\n",
      "\n",
      "    accuracy                      0.3400000       100\n",
      "   macro avg  0.3670370 0.2825311 0.2705274       100\n",
      "weighted avg  0.5005556 0.3400000 0.3452622       100\n",
      "\n"
     ]
    },
    {
     "name": "stderr",
     "output_type": "stream",
     "text": [
      "/Users/piek/Desktop/t-MA-HLT-introduction-2024/ma-hlt-labs-class/venv2/lib/python3.10/site-packages/sklearn/metrics/_classification.py:1531: UndefinedMetricWarning: Recall is ill-defined and being set to 0.0 in labels with no true samples. Use `zero_division` parameter to control this behavior.\n",
      "  _warn_prf(average, modifier, f\"{metric.capitalize()} is\", len(result))\n",
      "/Users/piek/Desktop/t-MA-HLT-introduction-2024/ma-hlt-labs-class/venv2/lib/python3.10/site-packages/sklearn/metrics/_classification.py:1531: UndefinedMetricWarning: Recall is ill-defined and being set to 0.0 in labels with no true samples. Use `zero_division` parameter to control this behavior.\n",
      "  _warn_prf(average, modifier, f\"{metric.capitalize()} is\", len(result))\n",
      "/Users/piek/Desktop/t-MA-HLT-introduction-2024/ma-hlt-labs-class/venv2/lib/python3.10/site-packages/sklearn/metrics/_classification.py:1531: UndefinedMetricWarning: Recall is ill-defined and being set to 0.0 in labels with no true samples. Use `zero_division` parameter to control this behavior.\n",
      "  _warn_prf(average, modifier, f\"{metric.capitalize()} is\", len(result))\n"
     ]
    }
   ],
   "source": [
    "from sklearn.metrics import classification_report\n",
    "from sklearn.metrics import confusion_matrix\n",
    "from sklearn.metrics import ConfusionMatrixDisplay\n",
    "\n",
    "report = classification_report(test_labels,predictions ,digits = 7, target_names=label_set)\n",
    "print('Llama Ekman ----------------------------------------------------------------')\n",
    "\n",
    "print(report)"
   ]
  },
  {
   "cell_type": "markdown",
   "id": "82ea2d16-48e6-4bec-a229-19442f4ae57c",
   "metadata": {},
   "source": [
    "We can see that the results are not very good, which we could have guessed from the paired list of values: \"joy\" is never assigned and \"sadness\" is assigned when it should not. Think about how to improve the prompt to make it better. "
   ]
  },
  {
   "cell_type": "code",
   "execution_count": 10,
   "id": "ee65ad8b-5d8c-4f91-8824-882724525fd8",
   "metadata": {},
   "outputs": [
    {
     "name": "stdout",
     "output_type": "stream",
     "text": [
      "Confusion matrix SVM\n",
      "[[ 0  0  0  0  0  0  0  0]\n",
      " [ 2  3  1  7  0  0  5  0]\n",
      " [ 0  0  0  5  0  1  1  0]\n",
      " [ 0  0  0  8  0  2  0  2]\n",
      " [ 3  1  0  2  6  2  2  2]\n",
      " [11  0  0  2  0  5  5  0]\n",
      " [ 2  0  0  1  1  0 11  0]\n",
      " [ 2  0  0  2  1  0  1  1]]\n"
     ]
    },
    {
     "data": {
      "text/plain": [
       "<sklearn.metrics._plot.confusion_matrix.ConfusionMatrixDisplay at 0x11eb51bd0>"
      ]
     },
     "execution_count": 10,
     "metadata": {},
     "output_type": "execute_result"
    },
    {
     "data": {
      "image/png": "[encoded data removed]",
      "text/plain": [
       "<Figure size 640x480 with 2 Axes>"
      ]
     },
     "metadata": {},
     "output_type": "display_data"
    }
   ],
   "source": [
    "print('Confusion matrix SVM')\n",
    "cf_matrix = confusion_matrix(test_labels,predictions)\n",
    "print(cf_matrix)\n",
    "display = ConfusionMatrixDisplay(confusion_matrix=cf_matrix, display_labels=label_set)\n",
    "display.plot()"
   ]
  },
  {
   "cell_type": "markdown",
   "id": "5408a9fc-b4dc-43db-802a-3dc74b493a32",
   "metadata": {},
   "source": [
    "## End of notebook"
   ]
  },
  {
   "cell_type": "code",
   "execution_count": 9,
   "id": "9b84a442-cadd-464d-9994-41bfd98982ae",
   "metadata": {},
   "outputs": [
    {
     "data": {
      "text/plain": [
       "20"
      ]
     },
     "execution_count": 9,
     "metadata": {},
     "output_type": "execute_result"
    }
   ],
   "source": [
    "len(annotations)"
   ]
  },
  {
   "cell_type": "code",
   "execution_count": 10,
   "id": "e2a19cbe-c031-4eb0-b67b-b55a3d64caeb",
   "metadata": {},
   "outputs": [
    {
     "name": "stdout",
     "output_type": "stream",
     "text": [
      "[{'Input': \"I hope that your dried llama food isn't anything illicit! \", 'Output': 'surprise'}, {'Input': 'I am not beefed just upset by many things. Weather was just a beginning.', 'Output': 'anger'}, {'Input': \"Well,when it's coming to life abnd lemons I would rather mnix gin and tonic. Especially after such a morning.   \", 'Output': 'surprise'}, {'Input': \"Can you please stop acting as if you're happy and interested. That is super annoying!\", 'Output': 'anger'}, {'Input': \"I will go for some beer with my friends! Can't wait!\", 'Output': 'joy'}, {'Input': \"To be honest, my trip is a bit rushed. My friends dropped out last minute, so I have to go for a solo-trip this time. I'm so annoyed and frustrated with that!\", 'Output': 'sadness'}, {'Input': \"I believe I can try. I'm just so disgusted with my friends' behaviour!\", 'Output': 'disgust'}, {'Input': \"The problem is that with friends we planned to do camping, but now I have to book hotels last minute! It will cost me a fortune! It's so frustrating!\", 'Output': '{\"anger\"}'}, {'Input': 'Oh noooo, the words! they are overwhelming me, the dreams! They return!!', 'Output': 'surprise'}, {'Input': \"Really fed up now! Didn't think llama's were intellectual, and you proved my point\", 'Output': 'anger'}, {'Input': 'No! They do not deserve a treat!', 'Output': 'anger'}, {'Input': \"What do you want to be when you're older?\", 'Output': 'neutral'}, {'Input': \"i don't think I will ever love again\", 'Output': 'sadness'}, {'Input': \"but no one knows me here... no one cares for me, nor loves me. I'm heartbroken and alone\", 'Output': 'sadness'}, {'Input': \"you're such a killjoy\", 'Output': '\"sadness\"'}, {'Input': \"I don't think we can fix this!\", 'Output': 'sadness'}, {'Input': \"Easy for you to talk. You're life is perfect right now. I am so jealous!\", 'Output': 'anger'}, {'Input': 'Yes, they are placed on my dining table for now. What are your favorite flowers?', 'Output': 'sadness'}, {'Input': 'He is so funny hahah I always think of certain iconic lines by him and they never fail to make me laugh', 'Output': 'joy'}, {'Input': 'Hm, how about flowers to keep away flies? Flies are so gross to me. They seem so unclean and they rub their hands together so menacingly... Makes me shudder to think of the germs they carry on them! Ugh!!', 'Output': 'fear'}]\n"
     ]
    }
   ],
   "source": [
    "print(annotations)"
   ]
  },
  {
   "cell_type": "code",
   "execution_count": 12,
   "id": "b15d6878-496b-4bf3-8155-c51cde7d1ec7",
   "metadata": {},
   "outputs": [],
   "source": [
    "import json\n",
    "filename = \"sample_annotation_llama.json\"\n",
    "with open(filename,'w') as file:\n",
    "    json.dump(annotations, file, indent = 4)"
   ]
  },
  {
   "cell_type": "code",
   "execution_count": null,
   "id": "4e97370e-8f45-4237-8fa9-89791bf8bc15",
   "metadata": {},
   "outputs": [],
   "source": []
  }
 ],
 "metadata": {
  "kernelspec": {
   "display_name": "Python 3",
   "language": "python",
   "name": "python3"
  },
  "language_info": {
   "codemirror_mode": {
    "name": "ipython",
    "version": 3
   },
   "file_extension": ".py",
   "mimetype": "text/x-python",
   "name": "python",
   "nbconvert_exporter": "python",
   "pygments_lexer": "ipython3",
   "version": "3.10.11"
  }
 },
 "nbformat": 4,
 "nbformat_minor": 5
}
