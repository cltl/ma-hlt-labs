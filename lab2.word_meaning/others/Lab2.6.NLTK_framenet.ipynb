{
 "cells": [
  {
   "cell_type": "markdown",
   "metadata": {},
   "source": [
    "# Lab2.6: Words, concepts, semantic relations in FrameNet-NLTK"
   ]
  },
  {
   "cell_type": "markdown",
   "metadata": {},
   "source": [
    "Copyright, Vrije Universiteit Amsterdam, Faculty of Humanities, CLTL"
   ]
  },
  {
   "cell_type": "markdown",
   "metadata": {},
   "source": [
    "FrameNet is a database about situation semantics developed at Berkeley University under the leadership of Fillmore:\n",
    "\n",
    "https://framenet.icsi.berkeley.edu\n",
    "\n",
    "FrameNet provides over a thousand frames that represent conceptual schemata for events involving participants in certain roles.\n",
    "\n",
    "We are going to use the FrameNet module inside the NLTK package to assign frames to the main predicates of sentences according to spaCy."
   ]
  },
  {
   "cell_type": "markdown",
   "metadata": {},
   "source": [
    "## 1. FrameNet in NLTK"
   ]
  },
  {
   "cell_type": "code",
   "execution_count": 1,
   "metadata": {},
   "outputs": [],
   "source": [
    "import nltk"
   ]
  },
  {
   "cell_type": "markdown",
   "metadata": {},
   "source": [
    "We assume you have NLTK already installed. To use the FrameNet module, you need to download FrameNet within it. Run the following cell to download it within NLTK. If you have already done this before, FrameNet is included in NLTK and you do not need to download it again."
   ]
  },
  {
   "cell_type": "code",
   "execution_count": 2,
   "metadata": {},
   "outputs": [
    {
     "name": "stderr",
     "output_type": "stream",
     "text": [
      "[nltk_data] Downloading package framenet_v17 to\n",
      "[nltk_data]     /Users/piek/nltk_data...\n",
      "[nltk_data]   Package framenet_v17 is already up-to-date!\n"
     ]
    },
    {
     "data": {
      "text/plain": [
       "True"
      ]
     },
     "execution_count": 2,
     "metadata": {},
     "output_type": "execute_result"
    }
   ],
   "source": [
    "nltk.download('framenet_v17')"
   ]
  },
  {
   "cell_type": "markdown",
   "metadata": {},
   "source": [
    "To check if the install was succesful, the following code cell should work:"
   ]
  },
  {
   "cell_type": "markdown",
   "metadata": {},
   "source": [
    "After succesful download you can comment out the previous cell."
   ]
  },
  {
   "cell_type": "code",
   "execution_count": 3,
   "metadata": {},
   "outputs": [
    {
     "data": {
      "text/plain": [
       "1221"
      ]
     },
     "execution_count": 3,
     "metadata": {},
     "output_type": "execute_result"
    }
   ],
   "source": [
    "from nltk.corpus import framenet as fn\n",
    "len(fn.frames())"
   ]
  },
  {
   "cell_type": "markdown",
   "metadata": {},
   "source": [
    "Now you know how many different frames there are. The function *frames* gives a list of frame data. Let's have look at the first 5 items in the list."
   ]
  },
  {
   "cell_type": "code",
   "execution_count": 4,
   "metadata": {},
   "outputs": [
    {
     "data": {
      "text/plain": [
       "[frame (2031): Abandonment\n",
       "\n",
       "[URL] https://framenet2.icsi.berkeley.edu/fnReports/data/frame/Abandonment.xml\n",
       "\n",
       "[definition]\n",
       "  An Agent leaves behind a Theme effectively rendering it no longer\n",
       "  within their control or of the normal security as one's property.\n",
       "  'Carolyn abandoned her car and jumped on a red double decker\n",
       "  bus.'  'Perhaps he left the key in the ignition'  'Abandonment of\n",
       "  a child is considered to be a serious crime in many\n",
       "  jurisdictions.'  There are also metaphorically used examples:\n",
       "  'She left her old ways behind .'\n",
       "\n",
       "[semTypes] 0 semantic types\n",
       "\n",
       "[frameRelations] 1 frame relations\n",
       "  <Parent=Intentionally_affect -- Inheritance -> Child=Abandonment>\n",
       "\n",
       "[lexUnit] 5 lexical units\n",
       "  abandon.v (14839), abandoned.a (14843), abandonment.n (14842),\n",
       "  forget.v (15317), leave.v (14841)\n",
       "\n",
       "\n",
       "[FE] 12 frame elements\n",
       "            Core: Agent (12338), Theme (12339)\n",
       "      Peripheral: Degree (14482), Duration (12343), Manner (12342), Means (15920), Place (12340), Purpose (15921), Time (12341)\n",
       "  Extra-Thematic: Depictive (12862), Event_description (15962), Explanation (12861)\n",
       "\n",
       "[FEcoreSets] 0 frame element core sets\n",
       "  \n",
       ", frame (262): Abounding_with\n",
       "\n",
       "[URL] https://framenet2.icsi.berkeley.edu/fnReports/data/frame/Abounding_with.xml\n",
       "\n",
       "[definition]\n",
       "  A Location is filled or covered with the Theme.  The Location is\n",
       "  realized as the External Argument, and the Theme either as PP\n",
       "  complement headed by with, in or of.  NB:  This frame does not\n",
       "  include uses of adjectives like paved when they merely specify\n",
       "  the Type of some location, as in \"paved and unpaved roads\".  'The\n",
       "  waters of the bay teemed with fish.' 'The waters of the bay were\n",
       "  teeming with fish.' 'The road was completely covered in mud.'\n",
       "\n",
       "[semTypes] 0 semantic types\n",
       "\n",
       "[frameRelations] 7 frame relations\n",
       "  <Parent=Abounding_with -- Inheritance -> Child=Lively_place>\n",
       "  <Parent=Locative_relation -- Inheritance -> Child=Abounding_with>\n",
       "  <Parent=Abounding_with -- Using -> Child=Expensiveness>\n",
       "  <Parent=Abounding_with -- Using -> Child=Mass_motion>\n",
       "  <Parent=Abundance -- Using -> Child=Abounding_with>\n",
       "  <MainEntry=Distributed_position -- See_also -> ReferringEntry=Abounding_with>\n",
       "  <Neutral=Distributed_abundance -- Perspective_on -> Perspectivized=Abounding_with>\n",
       "\n",
       "[lexUnit] 67 lexical units\n",
       "  adorned.a (7012), asphalted.a (7013), bedecked.a (7021),\n",
       "  bejewelled.a (7022), bespattered.a (7023), blanketed.a (4798),\n",
       "  brimming.a (6996), brushed.a (7014), buttered.a (6969), chock-a-\n",
       "  block.a (6999), chock-full.a (6998), cloaked.a (4799), coated.a\n",
       "  (6916), covered.a (4797), crammed.a (6992), crawl.v (4768),\n",
       "  crawling.a (4767), crowded.a (4771), dabbed.a (6963), decked.a\n",
       "  (7020), decorated.a (7028), dotted.a (6917), draped.a (6995),\n",
       "  drizzled.a (6967), dusted.a (7000), embellished.a (7132),\n",
       "  festooned.a (7019), filled.a (7009), full.a (7010), gilded.a\n",
       "  (7130), glazed.a (7129), heaped.a (6991), hung.a (7015),\n",
       "  injected.a (6994), jammed.a (7016), jostling.a (4774),\n",
       "  lacquered.a (7126), lined.a (7030), littered.a (17675),\n",
       "  ornamented.a (7031), overcrowded.a (7004), overfilled.a (7005),\n",
       "  painted.a (7109), panelled.a (7139), paved.a (7018), piled.a\n",
       "  (17295), plastered.a (6970), replete.a (6997), rife.a (13511),\n",
       "  smeared.a (6972), spattered.a (7024), splattered.a (6987),\n",
       "  sprinkled.a (6993), strewn.a (6973), studded.a (7029), stuffed.a\n",
       "  (6988), surfaced.a (7001), swarm.v (4773), swarming.a (4772),\n",
       "  teem.v (4765), teeming.a (6918), throng.v (4769), thronged.a\n",
       "  (4770), thronging.a (5184), tiled.a (6990), varnished.a (7053),\n",
       "  wallpapered.a (7002)\n",
       "\n",
       "\n",
       "[FE] 5 frame elements\n",
       "            Core: Location (2261), Theme (2260)\n",
       "      Peripheral: Degree (2271), Time (10821)\n",
       "  Extra-Thematic: Depictive (3491)\n",
       "\n",
       "[FEcoreSets] 0 frame element core sets\n",
       "  \n",
       ", ...]"
      ]
     },
     "execution_count": 4,
     "metadata": {},
     "output_type": "execute_result"
    }
   ],
   "source": [
    "fn.frames()[:5]"
   ]
  },
  {
   "cell_type": "markdown",
   "metadata": {},
   "source": [
    "There are some instructions how to use FrameNet in NLTK although they are sparse:\n",
    "\n",
    "http://www.nltk.org/howto/framenet.html\n"
   ]
  },
  {
   "cell_type": "code",
   "execution_count": 5,
   "metadata": {},
   "outputs": [
    {
     "name": "stdout",
     "output_type": "stream",
     "text": [
      "[<frame ID=590 name=Killing>]\n"
     ]
    }
   ],
   "source": [
    "### get the frame identifier for a specific Frame\n",
    "print(fn.frames('Killing'))"
   ]
  },
  {
   "cell_type": "code",
   "execution_count": 6,
   "metadata": {},
   "outputs": [
    {
     "name": "stdout",
     "output_type": "stream",
     "text": [
      "frame (262): Abounding_with\n",
      "\n",
      "[URL] https://framenet2.icsi.berkeley.edu/fnReports/data/frame/Abounding_with.xml\n",
      "\n",
      "[definition]\n",
      "  A Location is filled or covered with the Theme.  The Location is\n",
      "  realized as the External Argument, and the Theme either as PP\n",
      "  complement headed by with, in or of.  NB:  This frame does not\n",
      "  include uses of adjectives like paved when they merely specify\n",
      "  the Type of some location, as in \"paved and unpaved roads\".  'The\n",
      "  waters of the bay teemed with fish.' 'The waters of the bay were\n",
      "  teeming with fish.' 'The road was completely covered in mud.'\n",
      "\n",
      "[semTypes] 0 semantic types\n",
      "\n",
      "[frameRelations] 7 frame relations\n",
      "  <Parent=Abounding_with -- Inheritance -> Child=Lively_place>\n",
      "  <Parent=Locative_relation -- Inheritance -> Child=Abounding_with>\n",
      "  <Parent=Abounding_with -- Using -> Child=Expensiveness>\n",
      "  <Parent=Abounding_with -- Using -> Child=Mass_motion>\n",
      "  <Parent=Abundance -- Using -> Child=Abounding_with>\n",
      "  <MainEntry=Distributed_position -- See_also -> ReferringEntry=Abounding_with>\n",
      "  <Neutral=Distributed_abundance -- Perspective_on -> Perspectivized=Abounding_with>\n",
      "\n",
      "[lexUnit] 67 lexical units\n",
      "  adorned.a (7012), asphalted.a (7013), bedecked.a (7021),\n",
      "  bejewelled.a (7022), bespattered.a (7023), blanketed.a (4798),\n",
      "  brimming.a (6996), brushed.a (7014), buttered.a (6969), chock-a-\n",
      "  block.a (6999), chock-full.a (6998), cloaked.a (4799), coated.a\n",
      "  (6916), covered.a (4797), crammed.a (6992), crawl.v (4768),\n",
      "  crawling.a (4767), crowded.a (4771), dabbed.a (6963), decked.a\n",
      "  (7020), decorated.a (7028), dotted.a (6917), draped.a (6995),\n",
      "  drizzled.a (6967), dusted.a (7000), embellished.a (7132),\n",
      "  festooned.a (7019), filled.a (7009), full.a (7010), gilded.a\n",
      "  (7130), glazed.a (7129), heaped.a (6991), hung.a (7015),\n",
      "  injected.a (6994), jammed.a (7016), jostling.a (4774),\n",
      "  lacquered.a (7126), lined.a (7030), littered.a (17675),\n",
      "  ornamented.a (7031), overcrowded.a (7004), overfilled.a (7005),\n",
      "  painted.a (7109), panelled.a (7139), paved.a (7018), piled.a\n",
      "  (17295), plastered.a (6970), replete.a (6997), rife.a (13511),\n",
      "  smeared.a (6972), spattered.a (7024), splattered.a (6987),\n",
      "  sprinkled.a (6993), strewn.a (6973), studded.a (7029), stuffed.a\n",
      "  (6988), surfaced.a (7001), swarm.v (4773), swarming.a (4772),\n",
      "  teem.v (4765), teeming.a (6918), throng.v (4769), thronged.a\n",
      "  (4770), thronging.a (5184), tiled.a (6990), varnished.a (7053),\n",
      "  wallpapered.a (7002)\n",
      "\n",
      "\n",
      "[FE] 5 frame elements\n",
      "            Core: Location (2261), Theme (2260)\n",
      "      Peripheral: Degree (2271), Time (10821)\n",
      "  Extra-Thematic: Depictive (3491)\n",
      "\n",
      "[FEcoreSets] 0 frame element core sets\n",
      "  \n",
      "\n",
      "frame (59): Filling\n",
      "\n",
      "[URL] https://framenet2.icsi.berkeley.edu/fnReports/data/frame/Filling.xml\n",
      "\n",
      "[definition]\n",
      "  These are words relating to filling containers and covering areas\n",
      "  with some thing, things or substance, the Theme. The area or\n",
      "  container can appear as the direct object with all these verbs,\n",
      "  and is designated Goal because it is the goal of motion of the\n",
      "  Theme. Corresponding to its nuclear argument status, it is also\n",
      "  affected in some crucial way, unlike goals in other frames.\n",
      "  'Lionel Hutz coated the wall with paint. '\n",
      "\n",
      "[semTypes] 0 semantic types\n",
      "\n",
      "[frameRelations] 5 frame relations\n",
      "  <Parent=Container_focused_placing -- Inheritance -> Child=Filling>\n",
      "  <MainEntry=Cause_motion -- See_also -> ReferringEntry=Filling>\n",
      "  <MainEntry=Distributed_position -- See_also -> ReferringEntry=Filling>\n",
      "  <MainEntry=Placing -- See_also -> ReferringEntry=Filling>\n",
      "  <Causative=Filling -- Causative_of -> Inchoative/state=Fullness>\n",
      "\n",
      "[lexUnit] 59 lexical units\n",
      "  accessorize.v (17364), adorn.v (1007), anoint.v (1008), asphalt.v\n",
      "  (3900), brush.v (2584), butter.v (3894), coat.v (3904), cover.v\n",
      "  (1009), cram.v (2580), crowd.v (6919), dab.v (2577), daub.v\n",
      "  (2578), douse.v (3928), drape.v (2576), dress.v (15822),\n",
      "  drizzle.v (2598), dust.v (1010), embellish.v (7131), fill.v\n",
      "  (3908), flood.v (5205), gild.v (7127), glaze.v (7128), hang.v\n",
      "  (2585), heap.v (2599), inject.v (2579), jam.v (2625), load.v\n",
      "  (1011), pack.v (1012), paint.v (7108), panel.v (7138), pave.v\n",
      "  (7017), pile.v (2612), plank.v (15775), plant.v (2626), plaster.v\n",
      "  (2575), pump.v (2614), scatter.v (2627), seed.v (2582), shower.v\n",
      "  (2592), smear.v (1013), sow.v (2581), spatter.v (2586), splash.v\n",
      "  (2587), splatter.v (2588), spray.v (2589), spread.v (1014),\n",
      "  sprinkle.v (2590), squirt.v (2591), strew.v (3925), stuff.v\n",
      "  (1015), suffuse.v (3907), surface.v (3901), tile.v (3902),\n",
      "  varnish.v (7107), wallpaper.v (3903), wash.v (15630), wax.v\n",
      "  (15613), wrap.v (1016), yoke.v (15779)\n",
      "\n",
      "\n",
      "[FE] 17 frame elements\n",
      "            Core: Agent (253), Cause (9897), Goal (257), Theme (254)\n",
      "      Peripheral: Degree (840), Instrument (1952), Manner (844), Means (845), Path (256), Place (1950), Source (255), Time (1949)\n",
      "  Extra-Thematic: Depictive (841), Explanation (1948), Purpose (1951), Result (846), Subregion (3579)\n",
      "\n",
      "[FEcoreSets] 0 frame element core sets\n",
      "  \n",
      "\n",
      "frame (386): Ingest_substance\n",
      "\n",
      "[URL] https://framenet2.icsi.berkeley.edu/fnReports/data/frame/Ingest_substance.xml\n",
      "\n",
      "[definition]\n",
      "  In this frame an Ingestor takes a Substance into his or her body.\n",
      "  The Delivery_device can appear as a direct object.    'You should\n",
      "  refrain from taking vodka up the nose.'  'Smoking a cigarette\n",
      "  only takes a couple of minutes . CNI '\n",
      "\n",
      "[semTypes] 0 semantic types\n",
      "\n",
      "[frameRelations] 2 frame relations\n",
      "  <Parent=Ingest_substance -- Inheritance -> Child=Ingestion>\n",
      "  <Parent=Intentionally_act -- Inheritance -> Child=Ingest_substance>\n",
      "\n",
      "[lexUnit] 15 lexical units\n",
      "  do.v (7123), drag.n (6910), drag.v (6909), have.v (17699),\n",
      "  inject.v (7115), pop.v (6913), puff.v (15301), pull.v (6912),\n",
      "  shoot.v (7118), smoke.v (6907), sniff.v (7121), snort.v (6908),\n",
      "  take.v (7125), toke.n (6911), use.v (7124)\n",
      "\n",
      "\n",
      "[FE] 11 frame elements\n",
      "            Core: Delivery_device (3458), Ingestor (3459), Substance (3460)\n",
      "      Peripheral: Duration (3466), Entry_path (3465), Manner (3453), Means (3454), Place (3455), Purpose (3456), Time (3457)\n",
      "  Extra-Thematic: Frequency (3461)\n",
      "\n",
      "[FEcoreSets] 1 frame element core sets\n",
      "  Delivery_device, Substance\n",
      "\n",
      "frame (62): Placing\n",
      "\n",
      "[URL] https://framenet2.icsi.berkeley.edu/fnReports/data/frame/Placing.xml\n",
      "\n",
      "[definition]\n",
      "  Generally without overall (translational) motion,  an Agent\n",
      "  places a Theme at a location, the Goal, which is profiled.  In\n",
      "  this frame, the Theme is under the control of the Agent/Cause at\n",
      "  the time of its arrival at the Goal.  'David placed his briefcase\n",
      "  on the floor.'  This frame differs from Filling in that it\n",
      "  focuses on the Theme rather than the effect on the Goal entity.\n",
      "  It differs from Removing in focusing on the Goal rather than the\n",
      "  Source of motion for the Theme.\n",
      "\n",
      "[semTypes] 0 semantic types\n",
      "\n",
      "[frameRelations] 22 frame relations\n",
      "  <Parent=Placing -- Inheritance -> Child=Burying>\n",
      "  <Parent=Placing -- Inheritance -> Child=Dispersal>\n",
      "  <Parent=Transitive_action -- Inheritance -> Child=Placing>\n",
      "  <Complex=Cause_motion -- Subframe -> Component=Placing>\n",
      "  <Parent=Motion -- Using -> Child=Placing>\n",
      "  <Parent=Placing -- Using -> Child=Arranging>\n",
      "  <Parent=Placing -- Using -> Child=Dressing>\n",
      "  <Parent=Placing -- Using -> Child=Dunking>\n",
      "  <Parent=Placing -- Using -> Child=Installing>\n",
      "  <Parent=Placing -- Using -> Child=Storing>\n",
      "  <MainEntry=Cause_motion -- See_also -> ReferringEntry=Placing>\n",
      "  <MainEntry=Placing -- See_also -> ReferringEntry=Filling>\n",
      "  <MainEntry=Placing -- See_also -> ReferringEntry=Removing>\n",
      "  <Source=Placing -- ReFraming_Mapping -> Target=Arranging>\n",
      "  <Source=Placing -- ReFraming_Mapping -> Target=Assigned_location>\n",
      "  <Source=Placing -- ReFraming_Mapping -> Target=Attaching>\n",
      "  <Source=Placing -- ReFraming_Mapping -> Target=Bringing>\n",
      "  <Source=Placing -- ReFraming_Mapping -> Target=Cause_fluidic_motion>\n",
      "  <Source=Placing -- ReFraming_Mapping -> Target=Dispersal>\n",
      "  <Source=Placing -- ReFraming_Mapping -> Target=Planting>\n",
      "  <Earlier=Removing -- Precedes -> Later=Placing>\n",
      "  <Neutral=Placing_scenario -- Perspective_on -> Perspectivized=Placing>\n",
      "\n",
      "[lexUnit] 69 lexical units\n",
      "  archive.v (2441), arrange.v (11298), bag.v (2433), bestow.v\n",
      "  (5354), billet.v (2435), bin.v (2438), bottle.v (2440), box.v\n",
      "  (2442), brush.v (2511), cage.v (2443), cram.v (2548), crate.v\n",
      "  (2445), dab.v (2493), daub.v (2487), deposit.v (1084), drape.v\n",
      "  (2496), drizzle.v (2488), dust.v (2528), embed.v (1085),\n",
      "  emplace.v (13994), enclose.v (14796), file.v (2447), gag.v\n",
      "  (17284), garage.v (2448), hang.v (1086), heap.v (2529), immerse.v\n",
      "  (1087), implant.v (1088), implanted.a (16966), inject.v (1089),\n",
      "  insert.v (1090), insertion.n (1091), jam.v (2530), lay.v (1092),\n",
      "  lean.v (1093), load.v (1094), lodge.v (1095), pack.v (1097),\n",
      "  package.v (5356), park.v (1098), perch.v (2455), pile.v (1099),\n",
      "  place.v (1100), placement.n (1101), plant.v (1102), plunge.v\n",
      "  (6034), pocket.v (2449), position.v (1103), pot.v (3913), put.v\n",
      "  (5355), rest.v (1104), rub.v (2546), set.v (1105), sheathe.v\n",
      "  (3914), shelve.v (2451), shoulder.v (3916), shower.v (2571),\n",
      "  sit.v (2486), situate.v (1106), smear.v (1107), stable.v (2454),\n",
      "  stand.v (1109), stash.v (1110), stick.v (4726), stow.v (1113),\n",
      "  stuff.v (1114), tuck.v (1115), warehouse.v (3915), wrap.v (1116)\n",
      "\n",
      "\n",
      "[FE] 21 frame elements\n",
      "            Core: Agent (273), Cause (1975), Goal (277), Theme (274)\n",
      "      Peripheral: Area (1964), Distance (1972), Manner (278), Means (736), Path (276), Place (741), Source (275), Speed (1973), Time (743)\n",
      "  Extra-Thematic: Beneficiary (10835), Cotheme (1971), Degree (731), Depictive (733), Duration (739), Explanation (742), Purpose (5742), Result (737)\n",
      "\n",
      "[FEcoreSets] 0 frame element core sets\n",
      "  \n",
      "\n"
     ]
    }
   ],
   "source": [
    "### get the frames for a specific lemma and print all information for each\n",
    "word = 'inject'\n",
    "frames = fn.frames_by_lemma(word)\n",
    "for frame in frames:\n",
    "    print(frame)"
   ]
  },
  {
   "cell_type": "markdown",
   "metadata": {},
   "source": [
    "Take your time to read the information which is rich."
   ]
  },
  {
   "cell_type": "markdown",
   "metadata": {},
   "source": [
    "If you do not know the precise name of a frame you can also look for substrings:"
   ]
  },
  {
   "cell_type": "code",
   "execution_count": 7,
   "metadata": {},
   "outputs": [
    {
     "name": "stdout",
     "output_type": "stream",
     "text": [
      "Medical_conditions\n",
      "Medical_instruments\n",
      "Medical_interaction_scenario\n",
      "Medical_intervention\n",
      "Medical_professionals\n",
      "Medical_specialties\n"
     ]
    }
   ],
   "source": [
    "### get frames with the substring 'medical' regardless of case\n",
    "frames = fn.frames(r'(?i)medical')\n",
    "for frame in frames:\n",
    "    print(frame.name)\n"
   ]
  },
  {
   "cell_type": "code",
   "execution_count": 8,
   "metadata": {},
   "outputs": [
    {
     "data": {
      "text/plain": [
       "{'cBy': 'MJE',\n",
       " 'cDate': '03/19/2003 04:20:05 PST Wed',\n",
       " 'name': 'Killing',\n",
       " 'ID': 590,\n",
       " '_type': 'frame',\n",
       " 'definition': \"A Killer or Cause causes the death of the Victim. 'John drowned Martha.'\",\n",
       " 'definitionMarkup': '<def-root>A <fen>Killer</fen> or <fen>Cause</fen> causes the death of the <fen>Victim</fen>.\\n<ex><fex name=\"Killer\">John</fex> <t>drowned</t> <fex name=\"Victim\">Martha</fex>.</ex></def-root>',\n",
       " 'FE': {'Beneficiary': <fe ID=11725 name=Beneficiary>, 'Cause': <fe ID=4452 name=Cause>, 'Circumstances': <fe ID=11726 name=Circumstances>, 'Containing_event': <fe ID=14606 name=Containing_event>, 'Degree': <fe ID=4752 name=Degree>, 'Depictive': <fe ID=4458 name=Depictive>, 'Explanation': <fe ID=4455 name=Explanation>, 'Frequency': <fe ID=13175 name=Frequency>, 'Instrument': <fe ID=4480 name=Instrument>, 'Killer': <fe ID=4450 name=Killer>, 'Manner': <fe ID=4482 name=Manner>, 'Means': <fe ID=4454 name=Means>, 'Period_of_iterations': <fe ID=11728 name=Period_of_iterations>, 'Place': <fe ID=4456 name=Place>, 'Purpose': <fe ID=4453 name=Purpose>, 'Result': <fe ID=4460 name=Result>, 'Time': <fe ID=4457 name=Time>, 'Victim': <fe ID=4451 name=Victim>},\n",
       " 'FEcoreSets': [[<fe ID=4454 name=Means>, <fe ID=4450 name=Killer>, ...]],\n",
       " 'lexUnit': {'annihilate.v': <lu ID=8631 name=annihilate.v>, 'annihilation.n': <lu ID=8914 name=annihilation.n>, 'asphyxiate.v': <lu ID=8645 name=asphyxiate.v>, 'assassin.n': <lu ID=9074 name=assassin.n>, 'assassinate.v': <lu ID=8632 name=assassinate.v>, 'assassination.n': <lu ID=9068 name=assassination.n>, 'behead.v': <lu ID=8633 name=behead.v>, 'beheading.n': <lu ID=9067 name=beheading.n>, 'blood-bath.n': <lu ID=9075 name=blood-bath.n>, 'bloodshed.n': <lu ID=16812 name=bloodshed.n>, 'butcher.v': <lu ID=9066 name=butcher.v>, 'butchery.n': <lu ID=9069 name=butchery.n>, 'carnage.n': <lu ID=9070 name=carnage.n>, 'crucifixion.n': <lu ID=9044 name=crucifixion.n>, 'crucify.v': <lu ID=9043 name=crucify.v>, 'deadly.a': <lu ID=9097 name=deadly.a>, 'decapitate.v': <lu ID=9045 name=decapitate.v>, 'decapitation.n': <lu ID=9076 name=decapitation.n>, 'destroy.v': <lu ID=14610 name=destroy.v>, 'dispatch.v': <lu ID=8906 name=dispatch.v>, 'do in.v': <lu ID=17590 name=do in.v>, 'drown.v': <lu ID=8636 name=drown.v>, 'eliminate.v': <lu ID=8634 name=eliminate.v>, 'euthanasia.n': <lu ID=8651 name=euthanasia.n>, 'euthanize.v': <lu ID=8650 name=euthanize.v>, 'exterminate.v': <lu ID=8635 name=exterminate.v>, 'extermination.n': <lu ID=9077 name=extermination.n>, 'fatal.a': <lu ID=9098 name=fatal.a>, 'fatality.n': <lu ID=9099 name=fatality.n>, 'fratricide.n': <lu ID=9080 name=fratricide.n>, 'garrotte.v': <lu ID=9086 name=garrotte.v>, 'genocide.n': <lu ID=9065 name=genocide.n>, 'holocaust.n': <lu ID=9063 name=holocaust.n>, 'homicide.n': <lu ID=8647 name=homicide.n>, 'immolation.n': <lu ID=9091 name=immolation.n>, 'infanticide.n': <lu ID=9057 name=infanticide.n>, 'kill.v': <lu ID=8630 name=kill.v>, 'killer.n': <lu ID=9055 name=killer.n>, 'killing.n': <lu ID=9051 name=killing.n>, 'lethal.a': <lu ID=8907 name=lethal.a>, 'liquidate.v': <lu ID=8638 name=liquidate.v>, 'liquidation.n': <lu ID=9042 name=liquidation.n>, 'liquidator.n': <lu ID=9050 name=liquidator.n>, 'lynch.v': <lu ID=9049 name=lynch.v>, 'massacre.n': <lu ID=9056 name=massacre.n>, 'massacre.v': <lu ID=9047 name=massacre.v>, 'matricide.n': <lu ID=9064 name=matricide.n>, 'murder.n': <lu ID=9052 name=murder.n>, 'murder.v': <lu ID=8639 name=murder.v>, 'murderer.n': <lu ID=9087 name=murderer.n>, 'patricide.n': <lu ID=9092 name=patricide.n>, 'pogrom.n': <lu ID=9061 name=pogrom.n>, 'regicide.n': <lu ID=9060 name=regicide.n>, 'shooting.n': <lu ID=9062 name=shooting.n>, 'silence.v': <lu ID=9093 name=silence.v>, 'slaughter.n': <lu ID=9053 name=slaughter.n>, 'slaughter.v': <lu ID=9048 name=slaughter.v>, 'slaughterer.n': <lu ID=9088 name=slaughterer.n>, 'slay.v': <lu ID=8640 name=slay.v>, 'slayer.n': <lu ID=9090 name=slayer.n>, 'slaying.n': <lu ID=9059 name=slaying.n>, 'smother.v': <lu ID=8643 name=smother.v>, 'smothering.n': <lu ID=9058 name=smothering.n>, 'starve.v': <lu ID=8644 name=starve.v>, 'suffocate.v': <lu ID=8642 name=suffocate.v>, 'suffocation.n': <lu ID=9073 name=suffocation.n>, 'suicide.n': <lu ID=8648 name=suicide.n>, 'suicide.v': <lu ID=8646 name=suicide.v>, \"take (someone's) life.idio\": <lu ID=18400 name=take (someone's) life.idio>, 'take out.v': <lu ID=16449 name=take out.v>, 'terminate.v': <lu ID=8641 name=terminate.v>},\n",
       " 'semTypes': [],\n",
       " 'frameRelations': [<Parent=Killing -- Inheritance -> Child=Execution>, <Parent=Transitive_action -- Inheritance -> Child=Killing>, ...],\n",
       " 'URL': 'https://framenet2.icsi.berkeley.edu/fnReports/data/frame/Killing.xml'}"
      ]
     },
     "execution_count": 8,
     "metadata": {},
     "output_type": "execute_result"
    }
   ],
   "source": [
    "### get a specific frame through its identifier\n",
    "f = fn.frame(590)\n",
    "### check what properties and functions are provided for a frame\n",
    "dict(f)"
   ]
  },
  {
   "cell_type": "code",
   "execution_count": 9,
   "metadata": {},
   "outputs": [
    {
     "name": "stdout",
     "output_type": "stream",
     "text": [
      "ID 590\n",
      "FRAME: Killing\n",
      "DEFINITION A Killer or Cause causes the death of the Victim. 'John drowned Martha.'\n",
      "\n",
      "LEXICAL UNITS:\n",
      "kill.v\n",
      "annihilate.v\n",
      "assassinate.v\n",
      "behead.v\n",
      "eliminate.v\n",
      "exterminate.v\n",
      "drown.v\n",
      "liquidate.v\n",
      "murder.v\n",
      "slay.v\n",
      "terminate.v\n",
      "suffocate.v\n",
      "smother.v\n",
      "starve.v\n",
      "asphyxiate.v\n",
      "suicide.v\n",
      "homicide.n\n",
      "suicide.n\n",
      "euthanize.v\n",
      "euthanasia.n\n",
      "dispatch.v\n",
      "lethal.a\n",
      "annihilation.n\n",
      "liquidation.n\n",
      "crucify.v\n",
      "crucifixion.n\n",
      "decapitate.v\n",
      "massacre.v\n",
      "slaughter.v\n",
      "lynch.v\n",
      "liquidator.n\n",
      "killing.n\n",
      "murder.n\n",
      "slaughter.n\n",
      "killer.n\n",
      "massacre.n\n",
      "infanticide.n\n",
      "smothering.n\n",
      "slaying.n\n",
      "regicide.n\n",
      "pogrom.n\n",
      "shooting.n\n",
      "holocaust.n\n",
      "matricide.n\n",
      "genocide.n\n",
      "butcher.v\n",
      "beheading.n\n",
      "assassination.n\n",
      "butchery.n\n",
      "carnage.n\n",
      "suffocation.n\n",
      "assassin.n\n",
      "blood-bath.n\n",
      "decapitation.n\n",
      "extermination.n\n",
      "fratricide.n\n",
      "garrotte.v\n",
      "murderer.n\n",
      "slaughterer.n\n",
      "slayer.n\n",
      "immolation.n\n",
      "patricide.n\n",
      "silence.v\n",
      "deadly.a\n",
      "fatal.a\n",
      "fatality.n\n",
      "destroy.v\n",
      "take out.v\n",
      "bloodshed.n\n",
      "do in.v\n",
      "take (someone's) life.idio\n",
      "\n",
      "FRAME ELEMENTS:\n",
      "Killer\n",
      "Victim\n",
      "Cause\n",
      "Purpose\n",
      "Means\n",
      "Explanation\n",
      "Place\n",
      "Time\n",
      "Depictive\n",
      "Result\n",
      "Instrument\n",
      "Manner\n",
      "Degree\n",
      "Beneficiary\n",
      "Circumstances\n",
      "Period_of_iterations\n",
      "Frequency\n",
      "Containing_event\n"
     ]
    }
   ],
   "source": [
    "#### print some properties of a frame structure in NLTK\n",
    "\n",
    "print('ID', f.ID)\n",
    "print('FRAME:',f.name)\n",
    "print('DEFINITION', f.definition)\n",
    "print()\n",
    "print('LEXICAL UNITS:')\n",
    "for lu in f.lexUnit:\n",
    "    print(lu)\n",
    "print()\n",
    "print('FRAME ELEMENTS:')\n",
    "for fe in f.FE:\n",
    "    print(fe)"
   ]
  },
  {
   "cell_type": "code",
   "execution_count": 10,
   "metadata": {},
   "outputs": [
    {
     "name": "stdout",
     "output_type": "stream",
     "text": [
      "FRAME RELATIONS:\n",
      "Killing\n",
      "Transitive_action\n",
      "Killing\n",
      "Killing\n",
      "Killing\n",
      "Killing\n"
     ]
    }
   ],
   "source": [
    "print('FRAME RELATIONS:')\n",
    "for relation in f.frameRelations:\n",
    "   # print(relation.subFrameName)\n",
    "    print(relation.superFrameName)\n",
    "    #print(relation)"
   ]
  },
  {
   "cell_type": "markdown",
   "metadata": {},
   "source": [
    "## 2 Getting frames for predicates"
   ]
  },
  {
   "cell_type": "markdown",
   "metadata": {},
   "source": [
    "Frames can be evoked by many different words and phrases. In the following example, the subject and object of *cause* are also events and actually more informative than the main predicate:\n",
    "\n",
    "```Vaccination can cause autism```\n",
    "\n",
    "In this notebook, we are restricting ourselves to predicates, as it is more complex to decide whether subjects and objects denote events as well. To find the predicates, we can rely on the syntactic parsing by spaCy as we did in the previous notebook."
   ]
  },
  {
   "cell_type": "code",
   "execution_count": 12,
   "metadata": {},
   "outputs": [],
   "source": [
    "import spacy\n",
    "from spacy import displacy\n",
    "# depending on how you installed spaCy, the name of the model might be different\n",
    "nlp = spacy.load(name='en_core_web_sm') \n",
    "text = \"John makes the cake . He got sick . He went to bed .\"\n",
    "doc = nlp(text)"
   ]
  },
  {
   "cell_type": "markdown",
   "metadata": {},
   "source": [
    "Let is first see what frames we would get from all the words in the above text:"
   ]
  },
  {
   "cell_type": "code",
   "execution_count": 13,
   "metadata": {},
   "outputs": [
    {
     "name": "stdout",
     "output_type": "stream",
     "text": [
      "John\n",
      "Number of frames: 0\n",
      "makes\n",
      "Number of frames: 27\n",
      "the\n",
      "Number of frames: 107\n",
      "cake\n",
      "Number of frames: 3\n",
      ".\n",
      "Number of frames: 1073\n",
      "He\n",
      "Number of frames: 203\n",
      "got\n",
      "Number of frames: 51\n",
      "sick\n",
      "Number of frames: 5\n",
      ".\n",
      "Number of frames: 1073\n",
      "He\n",
      "Number of frames: 203\n",
      "went\n",
      "Number of frames: 79\n",
      "to\n",
      "Number of frames: 227\n",
      "bed\n",
      "Number of frames: 9\n",
      ".\n",
      "Number of frames: 1073\n"
     ]
    }
   ],
   "source": [
    "for token in doc:\n",
    "    print(token)\n",
    "    frames = fn.frames_by_lemma(token.lemma_)\n",
    "    print('Number of frames:', len(frames))\n"
   ]
  },
  {
   "cell_type": "markdown",
   "metadata": {},
   "source": [
    "So that is a lot of possible frames and it is not clear how they connect. Furhermore, each period is associated with 1073 frames, which does not make sense. We could limit the analysis by only considering the main predicates and the tokens that have a dependency relation. Let's see what dependency structure spaCy gives for the text."
   ]
  },
  {
   "cell_type": "code",
   "execution_count": 14,
   "metadata": {},
   "outputs": [
    {
     "data": {
      "text/html": [
       "<span class=\"tex2jax_ignore\"><svg xmlns=\"http://www.w3.org/2000/svg\" xmlns:xlink=\"http://www.w3.org/1999/xlink\" xml:lang=\"en\" id=\"da74914b24fb4bae885c4e9a479abb25-0\" class=\"displacy\" width=\"1975\" height=\"312.0\" direction=\"ltr\" style=\"max-width: none; height: 312.0px; color: #000000; background: #ffffff; font-family: Arial; direction: ltr\">\n",
       "<text class=\"displacy-token\" fill=\"currentColor\" text-anchor=\"middle\" y=\"222.0\">\n",
       "    <tspan class=\"displacy-word\" fill=\"currentColor\" x=\"50\">John</tspan>\n",
       "    <tspan class=\"displacy-tag\" dy=\"2em\" fill=\"currentColor\" x=\"50\">PROPN</tspan>\n",
       "</text>\n",
       "\n",
       "<text class=\"displacy-token\" fill=\"currentColor\" text-anchor=\"middle\" y=\"222.0\">\n",
       "    <tspan class=\"displacy-word\" fill=\"currentColor\" x=\"225\">makes</tspan>\n",
       "    <tspan class=\"displacy-tag\" dy=\"2em\" fill=\"currentColor\" x=\"225\">VERB</tspan>\n",
       "</text>\n",
       "\n",
       "<text class=\"displacy-token\" fill=\"currentColor\" text-anchor=\"middle\" y=\"222.0\">\n",
       "    <tspan class=\"displacy-word\" fill=\"currentColor\" x=\"400\">the</tspan>\n",
       "    <tspan class=\"displacy-tag\" dy=\"2em\" fill=\"currentColor\" x=\"400\">DET</tspan>\n",
       "</text>\n",
       "\n",
       "<text class=\"displacy-token\" fill=\"currentColor\" text-anchor=\"middle\" y=\"222.0\">\n",
       "    <tspan class=\"displacy-word\" fill=\"currentColor\" x=\"575\">cake .</tspan>\n",
       "    <tspan class=\"displacy-tag\" dy=\"2em\" fill=\"currentColor\" x=\"575\">NOUN</tspan>\n",
       "</text>\n",
       "\n",
       "<text class=\"displacy-token\" fill=\"currentColor\" text-anchor=\"middle\" y=\"222.0\">\n",
       "    <tspan class=\"displacy-word\" fill=\"currentColor\" x=\"750\">He</tspan>\n",
       "    <tspan class=\"displacy-tag\" dy=\"2em\" fill=\"currentColor\" x=\"750\">PRON</tspan>\n",
       "</text>\n",
       "\n",
       "<text class=\"displacy-token\" fill=\"currentColor\" text-anchor=\"middle\" y=\"222.0\">\n",
       "    <tspan class=\"displacy-word\" fill=\"currentColor\" x=\"925\">got</tspan>\n",
       "    <tspan class=\"displacy-tag\" dy=\"2em\" fill=\"currentColor\" x=\"925\">VERB</tspan>\n",
       "</text>\n",
       "\n",
       "<text class=\"displacy-token\" fill=\"currentColor\" text-anchor=\"middle\" y=\"222.0\">\n",
       "    <tspan class=\"displacy-word\" fill=\"currentColor\" x=\"1100\">sick .</tspan>\n",
       "    <tspan class=\"displacy-tag\" dy=\"2em\" fill=\"currentColor\" x=\"1100\">ADJ</tspan>\n",
       "</text>\n",
       "\n",
       "<text class=\"displacy-token\" fill=\"currentColor\" text-anchor=\"middle\" y=\"222.0\">\n",
       "    <tspan class=\"displacy-word\" fill=\"currentColor\" x=\"1275\">He</tspan>\n",
       "    <tspan class=\"displacy-tag\" dy=\"2em\" fill=\"currentColor\" x=\"1275\">PRON</tspan>\n",
       "</text>\n",
       "\n",
       "<text class=\"displacy-token\" fill=\"currentColor\" text-anchor=\"middle\" y=\"222.0\">\n",
       "    <tspan class=\"displacy-word\" fill=\"currentColor\" x=\"1450\">went</tspan>\n",
       "    <tspan class=\"displacy-tag\" dy=\"2em\" fill=\"currentColor\" x=\"1450\">VERB</tspan>\n",
       "</text>\n",
       "\n",
       "<text class=\"displacy-token\" fill=\"currentColor\" text-anchor=\"middle\" y=\"222.0\">\n",
       "    <tspan class=\"displacy-word\" fill=\"currentColor\" x=\"1625\">to</tspan>\n",
       "    <tspan class=\"displacy-tag\" dy=\"2em\" fill=\"currentColor\" x=\"1625\">ADP</tspan>\n",
       "</text>\n",
       "\n",
       "<text class=\"displacy-token\" fill=\"currentColor\" text-anchor=\"middle\" y=\"222.0\">\n",
       "    <tspan class=\"displacy-word\" fill=\"currentColor\" x=\"1800\">bed .</tspan>\n",
       "    <tspan class=\"displacy-tag\" dy=\"2em\" fill=\"currentColor\" x=\"1800\">NOUN</tspan>\n",
       "</text>\n",
       "\n",
       "<g class=\"displacy-arrow\">\n",
       "    <path class=\"displacy-arc\" id=\"arrow-da74914b24fb4bae885c4e9a479abb25-0-0\" stroke-width=\"2px\" d=\"M70,177.0 C70,89.5 220.0,89.5 220.0,177.0\" fill=\"none\" stroke=\"currentColor\"/>\n",
       "    <text dy=\"1.25em\" style=\"font-size: 0.8em; letter-spacing: 1px\">\n",
       "        <textPath xlink:href=\"#arrow-da74914b24fb4bae885c4e9a479abb25-0-0\" class=\"displacy-label\" startOffset=\"50%\" side=\"left\" fill=\"currentColor\" text-anchor=\"middle\">nsubj</textPath>\n",
       "    </text>\n",
       "    <path class=\"displacy-arrowhead\" d=\"M70,179.0 L62,167.0 78,167.0\" fill=\"currentColor\"/>\n",
       "</g>\n",
       "\n",
       "<g class=\"displacy-arrow\">\n",
       "    <path class=\"displacy-arc\" id=\"arrow-da74914b24fb4bae885c4e9a479abb25-0-1\" stroke-width=\"2px\" d=\"M420,177.0 C420,89.5 570.0,89.5 570.0,177.0\" fill=\"none\" stroke=\"currentColor\"/>\n",
       "    <text dy=\"1.25em\" style=\"font-size: 0.8em; letter-spacing: 1px\">\n",
       "        <textPath xlink:href=\"#arrow-da74914b24fb4bae885c4e9a479abb25-0-1\" class=\"displacy-label\" startOffset=\"50%\" side=\"left\" fill=\"currentColor\" text-anchor=\"middle\">det</textPath>\n",
       "    </text>\n",
       "    <path class=\"displacy-arrowhead\" d=\"M420,179.0 L412,167.0 428,167.0\" fill=\"currentColor\"/>\n",
       "</g>\n",
       "\n",
       "<g class=\"displacy-arrow\">\n",
       "    <path class=\"displacy-arc\" id=\"arrow-da74914b24fb4bae885c4e9a479abb25-0-2\" stroke-width=\"2px\" d=\"M245,177.0 C245,2.0 575.0,2.0 575.0,177.0\" fill=\"none\" stroke=\"currentColor\"/>\n",
       "    <text dy=\"1.25em\" style=\"font-size: 0.8em; letter-spacing: 1px\">\n",
       "        <textPath xlink:href=\"#arrow-da74914b24fb4bae885c4e9a479abb25-0-2\" class=\"displacy-label\" startOffset=\"50%\" side=\"left\" fill=\"currentColor\" text-anchor=\"middle\">dobj</textPath>\n",
       "    </text>\n",
       "    <path class=\"displacy-arrowhead\" d=\"M575.0,179.0 L583.0,167.0 567.0,167.0\" fill=\"currentColor\"/>\n",
       "</g>\n",
       "\n",
       "<g class=\"displacy-arrow\">\n",
       "    <path class=\"displacy-arc\" id=\"arrow-da74914b24fb4bae885c4e9a479abb25-0-3\" stroke-width=\"2px\" d=\"M770,177.0 C770,89.5 920.0,89.5 920.0,177.0\" fill=\"none\" stroke=\"currentColor\"/>\n",
       "    <text dy=\"1.25em\" style=\"font-size: 0.8em; letter-spacing: 1px\">\n",
       "        <textPath xlink:href=\"#arrow-da74914b24fb4bae885c4e9a479abb25-0-3\" class=\"displacy-label\" startOffset=\"50%\" side=\"left\" fill=\"currentColor\" text-anchor=\"middle\">nsubj</textPath>\n",
       "    </text>\n",
       "    <path class=\"displacy-arrowhead\" d=\"M770,179.0 L762,167.0 778,167.0\" fill=\"currentColor\"/>\n",
       "</g>\n",
       "\n",
       "<g class=\"displacy-arrow\">\n",
       "    <path class=\"displacy-arc\" id=\"arrow-da74914b24fb4bae885c4e9a479abb25-0-4\" stroke-width=\"2px\" d=\"M945,177.0 C945,89.5 1095.0,89.5 1095.0,177.0\" fill=\"none\" stroke=\"currentColor\"/>\n",
       "    <text dy=\"1.25em\" style=\"font-size: 0.8em; letter-spacing: 1px\">\n",
       "        <textPath xlink:href=\"#arrow-da74914b24fb4bae885c4e9a479abb25-0-4\" class=\"displacy-label\" startOffset=\"50%\" side=\"left\" fill=\"currentColor\" text-anchor=\"middle\">acomp</textPath>\n",
       "    </text>\n",
       "    <path class=\"displacy-arrowhead\" d=\"M1095.0,179.0 L1103.0,167.0 1087.0,167.0\" fill=\"currentColor\"/>\n",
       "</g>\n",
       "\n",
       "<g class=\"displacy-arrow\">\n",
       "    <path class=\"displacy-arc\" id=\"arrow-da74914b24fb4bae885c4e9a479abb25-0-5\" stroke-width=\"2px\" d=\"M1295,177.0 C1295,89.5 1445.0,89.5 1445.0,177.0\" fill=\"none\" stroke=\"currentColor\"/>\n",
       "    <text dy=\"1.25em\" style=\"font-size: 0.8em; letter-spacing: 1px\">\n",
       "        <textPath xlink:href=\"#arrow-da74914b24fb4bae885c4e9a479abb25-0-5\" class=\"displacy-label\" startOffset=\"50%\" side=\"left\" fill=\"currentColor\" text-anchor=\"middle\">nsubj</textPath>\n",
       "    </text>\n",
       "    <path class=\"displacy-arrowhead\" d=\"M1295,179.0 L1287,167.0 1303,167.0\" fill=\"currentColor\"/>\n",
       "</g>\n",
       "\n",
       "<g class=\"displacy-arrow\">\n",
       "    <path class=\"displacy-arc\" id=\"arrow-da74914b24fb4bae885c4e9a479abb25-0-6\" stroke-width=\"2px\" d=\"M1470,177.0 C1470,89.5 1620.0,89.5 1620.0,177.0\" fill=\"none\" stroke=\"currentColor\"/>\n",
       "    <text dy=\"1.25em\" style=\"font-size: 0.8em; letter-spacing: 1px\">\n",
       "        <textPath xlink:href=\"#arrow-da74914b24fb4bae885c4e9a479abb25-0-6\" class=\"displacy-label\" startOffset=\"50%\" side=\"left\" fill=\"currentColor\" text-anchor=\"middle\">prep</textPath>\n",
       "    </text>\n",
       "    <path class=\"displacy-arrowhead\" d=\"M1620.0,179.0 L1628.0,167.0 1612.0,167.0\" fill=\"currentColor\"/>\n",
       "</g>\n",
       "\n",
       "<g class=\"displacy-arrow\">\n",
       "    <path class=\"displacy-arc\" id=\"arrow-da74914b24fb4bae885c4e9a479abb25-0-7\" stroke-width=\"2px\" d=\"M1645,177.0 C1645,89.5 1795.0,89.5 1795.0,177.0\" fill=\"none\" stroke=\"currentColor\"/>\n",
       "    <text dy=\"1.25em\" style=\"font-size: 0.8em; letter-spacing: 1px\">\n",
       "        <textPath xlink:href=\"#arrow-da74914b24fb4bae885c4e9a479abb25-0-7\" class=\"displacy-label\" startOffset=\"50%\" side=\"left\" fill=\"currentColor\" text-anchor=\"middle\">pobj</textPath>\n",
       "    </text>\n",
       "    <path class=\"displacy-arrowhead\" d=\"M1795.0,179.0 L1803.0,167.0 1787.0,167.0\" fill=\"currentColor\"/>\n",
       "</g>\n",
       "</svg></span>"
      ],
      "text/plain": [
       "<IPython.core.display.HTML object>"
      ]
     },
     "metadata": {},
     "output_type": "display_data"
    }
   ],
   "source": [
    "displacy.render(doc, jupyter=True, style='dep')"
   ]
  },
  {
   "cell_type": "markdown",
   "metadata": {},
   "source": [
    "We could get the frames for *make*, *get* and *went* and see how the subject, object and other complements could relate to it. For this we build a specific function."
   ]
  },
  {
   "cell_type": "markdown",
   "metadata": {},
   "source": [
    "Given the spaCy objects and the dependency relations we can define a function that does the following:\n",
    "\n",
    "* find tokens that have a specific dependency relation to an a head, i.e. nsubj, nobj, prep\n",
    "* create a dictionary with head and the tokens with the dependency relations\n",
    "* we output sets with the predicate and the dependent tokens\n"
   ]
  },
  {
   "cell_type": "code",
   "execution_count": 15,
   "metadata": {},
   "outputs": [],
   "source": [
    "def get_predicate_subject_object(doc, rels={'nsubj', 'dobj', 'prep'}):\n",
    "    \"\"\"\n",
    "    extract predicates with:\n",
    "    -subject\n",
    "    -object\n",
    "    \n",
    "    :param spacy.tokens.doc.Doc doc: spaCy object after processing text\n",
    "    \n",
    "    :rtype: list \n",
    "    :return: list of tuples (predicate, subject, object)\n",
    "    \"\"\"\n",
    "    ### We create an empty dictionary as a structure to collect all the predicates\n",
    "    ### A dictionary has keys and some information for each key.\n",
    "    ### How this works will be explained in the Python course\n",
    "    ### Below, we will use the token identifiers from spacy as the entries\n",
    "    predicates = {} ### No entries\n",
    "    \n",
    "    for token in doc:\n",
    "        if token.dep_ in rels:\n",
    "            \n",
    "            head = token.head\n",
    "            head_id = head.i\n",
    "            \n",
    "            ## In case there is no information on the head_id we create an empty dict() first\n",
    "            if head_id not in predicates:\n",
    "                predicates[head_id] = dict()\n",
    "            \n",
    "            ## Now we now for sure that there is an entry for the head_id\n",
    "            ## and we can add information to it\n",
    "            predicates[head_id][token.dep_] = token.text\n",
    "    \n",
    "    ### After the previous loop we have a dictionary with head_ids and tokens that have a dependency to it\n",
    "    ### We can iterate over all entries in this dictionary and obtain the information we need\n",
    "    ### All information is added as a list to the output variable which consists of 4 elements:\n",
    "    ### the lemma of the predicate, the nsubj, dobj and prop token if present\n",
    "    output = []\n",
    "    for pred_token, pred_info in predicates.items():\n",
    "        one_row = (doc[pred_token].lemma_, \n",
    "                   pred_info.get('nsubj', None),\n",
    "                   pred_info.get('dobj', None),\n",
    "                   pred_info.get('prep', None)\n",
    "                  )\n",
    "        output.append(one_row)\n",
    "    \n",
    "    return output"
   ]
  },
  {
   "cell_type": "markdown",
   "metadata": {},
   "source": [
    "Given that we can process the text with spaCy and obtain the events, we can now make a simple script to iterate over de event tuples and obtain all the frames for each event word. We then pick the first frame from the list and get the frame elements that belong to it."
   ]
  },
  {
   "cell_type": "code",
   "execution_count": 16,
   "metadata": {},
   "outputs": [
    {
     "name": "stdout",
     "output_type": "stream",
     "text": [
      "[('make', 'John', 'cake', None), ('get', 'He', None, None), ('go', 'He', None, 'to')]\n",
      "\n",
      "('make', 'John', 'cake', None)\n",
      "Number of frames: 27\n",
      "First frame listed Arriving ['Theme', 'Source', 'Path', 'Goal', 'Manner', 'Means', 'Mode_of_transportation', 'Cotheme', 'Time', 'New_situation', 'Depictive', 'Period_of_iterations', 'Circumstances', 'Purpose', 'Degree', 'Event_description', 'Re-encoding', 'Frequency', 'Place']\n",
      "\n",
      "('get', 'He', None, None)\n",
      "Number of frames: 51\n",
      "First frame listed Abandonment ['Agent', 'Theme', 'Place', 'Time', 'Manner', 'Duration', 'Explanation', 'Depictive', 'Degree', 'Means', 'Purpose', 'Event_description']\n",
      "\n",
      "('go', 'He', None, 'to')\n",
      "Number of frames: 79\n",
      "First frame listed Accoutrements ['Wearer', 'Style', 'Material', 'Accoutrement', 'Descriptor', 'Use', 'Part', 'Body_location', 'Creator', 'Time_of_creation', 'Name']\n",
      "\n"
     ]
    }
   ],
   "source": [
    "events = get_predicate_subject_object(doc)\n",
    "print(events)\n",
    "print()\n",
    "\n",
    "for event in events:\n",
    "    predicate=event[0]\n",
    "    print(event)\n",
    "    frames = fn.frames_by_lemma(predicate)\n",
    "    print('Number of frames:', len(frames))\n",
    "    frame_names=[]\n",
    "    for frame in frames:\n",
    "        frame_names.append(frame.name)\n",
    "    #print(frame_names)\n",
    "    first_frame = frames[0]\n",
    "    first_frame_elements = []\n",
    "    for fe in first_frame.FE:\n",
    "        first_frame_elements.append(fe)\n",
    "    print('First frame listed', first_frame.name, first_frame_elements)\n",
    "    print()"
   ]
  },
  {
   "cell_type": "markdown",
   "metadata": {},
   "source": [
    "We can see that these predicates are very polysemous! Many of these frames are very general and a-specific. So which of these frames are most relevant for our sentences? In other words, which frames tell the story!\n",
    "\n",
    "We only show the first frame now. Semantic parsing mainly consists of chosing the correct frame for the sentence. This is a disambiguation problem. Once the frame is selected the frame elements need to be associated with the dependent phrases."
   ]
  },
  {
   "cell_type": "markdown",
   "metadata": {},
   "source": [
    "## End of this Notebook"
   ]
  },
  {
   "cell_type": "code",
   "execution_count": null,
   "metadata": {},
   "outputs": [],
   "source": []
  }
 ],
 "metadata": {
  "kernelspec": {
   "display_name": "hltenv",
   "language": "python",
   "name": "hltenv"
  },
  "language_info": {
   "codemirror_mode": {
    "name": "ipython",
    "version": 3
   },
   "file_extension": ".py",
   "mimetype": "text/x-python",
   "name": "python",
   "nbconvert_exporter": "python",
   "pygments_lexer": "ipython3",
   "version": "3.9.16"
  }
 },
 "nbformat": 4,
 "nbformat_minor": 4
}
