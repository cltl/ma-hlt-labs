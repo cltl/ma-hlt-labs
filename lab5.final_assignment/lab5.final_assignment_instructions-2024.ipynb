{
 "cells": [
  {
   "cell_type": "markdown",
   "metadata": {
    "tags": []
   },
   "source": [
    "# Lab5 Final assignment: putting it all together"
   ]
  },
  {
   "cell_type": "markdown",
   "metadata": {},
   "source": [
    "The final assignment is an individual assignment in which you put things together. You earn 6 points when you carry out the basic tasks and an additional 4 points for analysing and discussing the results poperly. The maximum score is 10 points.\n",
    "\n",
    "<ol>\n",
    "    <li><b>Annotated conversations</b> [2 Points]\n",
    "        <ul>\n",
    "        <li> Load the annotated conversations in a Pandas data frame (code is given)\n",
    "        <li> Provide a statistical analysis of the distribution of the emotion labels\n",
    "        </ul>\n",
    "    <li><b>Create two different BoW-SVM emotion classifiers, one focusing on high recall and the other on high precision</b> [2 POINTS]\n",
    "        <ul>\n",
    "        <li> Load the train, test and development data combining MELD and WASSA data sets\n",
    "        <li> Give an overview and discuss the statistics of the Ekman emotion labels\n",
    "        <li> High recall:\n",
    "            <ul>\n",
    "                <li>Motivate and define the settings for getting high recall scores\n",
    "                <li>Create a BoW vector representation and train an SVM classifier\n",
    "                <li>Save the classifier to disk\n",
    "            </ul>\n",
    "        <li> High precision:\n",
    "            <ul>\n",
    "                <li>Motivate and define the settings for getting high precision scores\n",
    "                <li>Create a BoW vector representation and train an SVM classifier\n",
    "                <li>Save the classifier to disk\n",
    "            </ul>\n",
    "        <li> Load both classifiers in this notebook and apply them to the utterances in the conversations\n",
    "        <li> Generate a classification report and confusion matrix for both.\n",
    "        </ul>\n",
    "    <li><b>High precision version: Train a BoW SVM Ekman emotion classifier combining both the MELD and Tweet data focusing on high precision</b> [2 POINTS]\n",
    "        <ul>\n",
    "        <li> Load the train, test and development data from MELD and WASSA\n",
    "        <li> Discuss the statistics of the training data for the Ekman emotions\n",
    "        <li> Create a BoW vector representation and train an SVM classifier\n",
    "        <li> Save the classifier to disk\n",
    "        <li> Load the classifier in this notebook and apply it to the Llama utterances\n",
    "        <li> Generate a classification report and confusion matrix as evaluation\n",
    "        </ul>\n",
    "    <li><b>Discuss the result</b> [4 POINTS]\n",
    "        <ul>\n",
    "        <li> Report on similarities and differences in performances and confusion matrixes \n",
    "        <li> What did you expect (recall and precision) and is this confirmed or falsified?\n",
    "        <li>Compare the results with the performance of the GO classifier and Llama3 from assignment Lab4.6</li>\n",
    "        <li> An error analysis of a manual selection of 10-20 utterances [motivate your selection]?\n",
    "        <li> Discuss how you could improve the SVM classification\n",
    "        </ul>    \n",
    "</ol>"
   ]
  },
  {
   "cell_type": "markdown",
   "metadata": {},
   "source": [
    "For 3.), you build a BoW SVM classifier in a separate notebook (use **lab5.meld-tweet-bow-svm-emotion-classifier.ipynb**) to combine the MELD and Tweet data into a single set of training data. Note that you can also include the test and development data for training since we are applying the model to the Eliza conversations and not to the MELD and Wassa tests. "
   ]
  },
  {
   "cell_type": "markdown",
   "metadata": {},
   "source": [
    "## 1. Submission"
   ]
  },
  {
   "cell_type": "markdown",
   "metadata": {},
   "source": [
    "The assignment should be made individually and submiited on CANVAS as a zip file that includes the following:\n",
    "\n",
    "   1. The notebook to create a BoW-SVM combining MELD and Tweets for Ekman classification: **lab5.meld-tweet-bow-svm-emotion-classifier.ipynb**\n",
    "   2. The current notebook **lab5.final_assignment.ipynb** with your code\n",
    "   3. A PDF report of max 5 pages:\n",
    "       1. Section 1: what you have done and what choices did you make: be explicit about the settings and any data changes you made to train a classifier on MELD+Tweets in order to get a high recall and a high precision version.\n",
    "       2. Section 2: report on the Ekman classification results of the two SVM versions and also the results for the GO and LLama classificaiton. Use a single table for recall, precision and f-score and put confusion matrixes in the appendix.\n",
    "       3. Section 3: discuss the results comparing the SVM, Llama and the goBERT-classifier and the insights from your error analysis\n",
    "       4. Section 4: how to improve the SVM classifier\n",
    "    \n",
    "Use the notebooks that are given as a guide with the code and the output. You should NOT discuss the results in the notebooks but in the report. Use the notebooks to run the experiments and get the results. Include the tables and figures in the report."
   ]
  },
  {
   "cell_type": "markdown",
   "metadata": {},
   "source": [
    "Some utility functions presented during this course are needed for this assignment. They are all included in the Python file **lab5_util.py**. The next import makes these functions available in this notebook. There is no need to copy these functions into this notebook explicitly. After the import, you can call the function from **util**, e.g.:\n",
    "\n",
    "```emotion_labels = sort_predictions(emotion_labels[0])```\n",
    "\n",
    "```ekman_labels = util.get_averaged_mapped_scores_by_threshold(ekman_map, emotion_labels, threshold)```\n",
    "\n",
    "```util.plot_labels_with_counts(labels, values)```"
   ]
  },
  {
   "cell_type": "code",
   "execution_count": 2,
   "metadata": {
    "tags": []
   },
   "outputs": [],
   "source": [
    "import lab5_util as util"
   ]
  },
  {
   "cell_type": "markdown",
   "metadata": {
    "tags": []
   },
   "source": [
    "## 2. Loading the conversation saved on disk"
   ]
  },
  {
   "cell_type": "markdown",
   "metadata": {},
   "source": [
    "You receive a file with all the annoated conversations in JSON format. Load this file using Pandas to create a data frame.\n",
    "The next code also applies the **get_test_utterances_and_labels** functions in util to extract from the dataframe the utterances and the Gold labels. It skips the utterances and labels from Llama, which are all labeled automatically as ```neutral```.\n"
   ]
  },
  {
   "cell_type": "code",
   "execution_count": 6,
   "metadata": {},
   "outputs": [],
   "source": [
    "# THE CODE TO LOAD THE TEST DATA AND LABELS\n",
    "import pandas as pd\n",
    "file = open(\"../lab3.machine_learning/data/iaa/annotator_Piek_human_Piek_chat_with_llama.json\")\n",
    "df = pd.read_json(file)\n",
    "df = df.dropna()"
   ]
  },
  {
   "cell_type": "code",
   "execution_count": 7,
   "metadata": {},
   "outputs": [
    {
     "data": {
      "text/html": [
       "<div>\n",
       "<style scoped>\n",
       "    .dataframe tbody tr th:only-of-type {\n",
       "        vertical-align: middle;\n",
       "    }\n",
       "\n",
       "    .dataframe tbody tr th {\n",
       "        vertical-align: top;\n",
       "    }\n",
       "\n",
       "    .dataframe thead th {\n",
       "        text-align: right;\n",
       "    }\n",
       "</style>\n",
       "<table border=\"1\" class=\"dataframe\">\n",
       "  <thead>\n",
       "    <tr style=\"text-align: right;\">\n",
       "      <th></th>\n",
       "      <th>utterance</th>\n",
       "      <th>speaker</th>\n",
       "      <th>turn_id</th>\n",
       "      <th>Gold</th>\n",
       "      <th>Annotator</th>\n",
       "    </tr>\n",
       "  </thead>\n",
       "  <tbody>\n",
       "    <tr>\n",
       "      <th>0</th>\n",
       "      <td>You are an intelligent assistant and your name...</td>\n",
       "      <td>Llama</td>\n",
       "      <td>1</td>\n",
       "      <td>neutral</td>\n",
       "      <td>auto</td>\n",
       "    </tr>\n",
       "    <tr>\n",
       "      <th>1</th>\n",
       "      <td>Piek</td>\n",
       "      <td>Human</td>\n",
       "      <td>2</td>\n",
       "      <td>neutral</td>\n",
       "      <td>Piek</td>\n",
       "    </tr>\n",
       "    <tr>\n",
       "      <th>2</th>\n",
       "      <td>Nice to meet you, Piek! I'm Llama, your friend...</td>\n",
       "      <td>Llama</td>\n",
       "      <td>3</td>\n",
       "      <td>neutral</td>\n",
       "      <td>auto</td>\n",
       "    </tr>\n",
       "    <tr>\n",
       "      <th>3</th>\n",
       "      <td>I am lonely</td>\n",
       "      <td>Piek</td>\n",
       "      <td>4</td>\n",
       "      <td>sadness</td>\n",
       "      <td>Piek</td>\n",
       "    </tr>\n",
       "    <tr>\n",
       "      <th>4</th>\n",
       "      <td>Piek, it sounds like you're feeling a bit down...</td>\n",
       "      <td>Llama</td>\n",
       "      <td>5</td>\n",
       "      <td>neutral</td>\n",
       "      <td>auto</td>\n",
       "    </tr>\n",
       "  </tbody>\n",
       "</table>\n",
       "</div>"
      ],
      "text/plain": [
       "                                           utterance speaker  turn_id  \\\n",
       "0  You are an intelligent assistant and your name...   Llama        1   \n",
       "1                                               Piek   Human        2   \n",
       "2  Nice to meet you, Piek! I'm Llama, your friend...   Llama        3   \n",
       "3                                        I am lonely    Piek        4   \n",
       "4  Piek, it sounds like you're feeling a bit down...   Llama        5   \n",
       "\n",
       "      Gold Annotator  \n",
       "0  neutral      auto  \n",
       "1  neutral      Piek  \n",
       "2  neutral      auto  \n",
       "3  sadness      Piek  \n",
       "4  neutral      auto  "
      ]
     },
     "execution_count": 7,
     "metadata": {},
     "output_type": "execute_result"
    }
   ],
   "source": [
    "df.head()"
   ]
  },
  {
   "cell_type": "code",
   "execution_count": 8,
   "metadata": {},
   "outputs": [
    {
     "name": "stdout",
     "output_type": "stream",
     "text": [
      "17 17\n"
     ]
    }
   ],
   "source": [
    "test_instances, test_labels = util.get_test_utterances_and_labels(df)\n",
    "print(len(test_instances), len(test_labels))"
   ]
  },
  {
   "cell_type": "markdown",
   "metadata": {},
   "source": [
    "You have now an equal number of utterances and labels to test the classifiers."
   ]
  },
  {
   "cell_type": "markdown",
   "metadata": {
    "tags": []
   },
   "source": [
    "## 3 Provide a statistical analysis of the test data"
   ]
  },
  {
   "cell_type": "code",
   "execution_count": 1,
   "metadata": {},
   "outputs": [],
   "source": [
    "# [YOUR CODE FOR THE ANALYSIS GOES HERE]"
   ]
  },
  {
   "cell_type": "markdown",
   "metadata": {},
   "source": [
    "## 4 Apply the BoW classifiers for high recall and high precision"
   ]
  },
  {
   "cell_type": "markdown",
   "metadata": {},
   "source": [
    "### 4.1 Load the BoW SVM classifier from MELD and TWEETS"
   ]
  },
  {
   "cell_type": "code",
   "execution_count": 2,
   "metadata": {
    "tags": []
   },
   "outputs": [],
   "source": [
    "# HERE COMES THE CODE TO LOAD THE BOW SVM CLASSIFIER BUILT FROM MELD AND WASSA TWEETS"
   ]
  },
  {
   "cell_type": "markdown",
   "metadata": {},
   "source": [
    "### 4.2 Apply each classifier to the conversation"
   ]
  },
  {
   "cell_type": "code",
   "execution_count": 3,
   "metadata": {
    "tags": []
   },
   "outputs": [],
   "source": [
    "# HERE COMES THE CODE TO APPLY THE CLASSIFIER TO THE UTTERANCES"
   ]
  },
  {
   "cell_type": "markdown",
   "metadata": {},
   "source": [
    "## 4.3 Evaluation"
   ]
  },
  {
   "cell_type": "code",
   "execution_count": 4,
   "metadata": {
    "tags": []
   },
   "outputs": [],
   "source": [
    "# HERE COMES THE CODE TO GENERATE THE CLASSIFICATION REPORT AND CONFUSION MATRIX"
   ]
  },
  {
   "cell_type": "markdown",
   "metadata": {},
   "source": [
    "## End of the assignment"
   ]
  },
  {
   "cell_type": "code",
   "execution_count": null,
   "metadata": {},
   "outputs": [],
   "source": []
  }
 ],
 "metadata": {
  "kernelspec": {
   "display_name": "Python 3",
   "language": "python",
   "name": "python3"
  },
  "language_info": {
   "codemirror_mode": {
    "name": "ipython",
    "version": 3
   },
   "file_extension": ".py",
   "mimetype": "text/x-python",
   "name": "python",
   "nbconvert_exporter": "python",
   "pygments_lexer": "ipython3",
   "version": "3.9.16"
  }
 },
 "nbformat": 4,
 "nbformat_minor": 4
}
