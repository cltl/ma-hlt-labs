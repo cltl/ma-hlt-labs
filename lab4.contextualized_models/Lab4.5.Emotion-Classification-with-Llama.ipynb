{
 "cells": [
  {
   "cell_type": "markdown",
   "id": "a403c511-01b1-41d3-856e-3d5f86b30875",
   "metadata": {},
   "source": [
    "# Lab4.5 Emotional classification with Llama3"
   ]
  },
  {
   "cell_type": "markdown",
   "id": "f8a989fb-0cd9-41ee-a45b-b6989c6eef20",
   "metadata": {},
   "source": [
    "Copyright: Vrije Universiteit Amsterdam, Faculty of Humanities, CLTL"
   ]
  },
  {
   "cell_type": "markdown",
   "id": "fb92fb8b-6e76-4a6b-86b3-76db5a46f0da",
   "metadata": {},
   "source": [
    "Through this notebook, you will annotate a text with Llama version 3, a Generative Large Language Model model released by [Meta](https://llama.meta.com/llama3/). \n",
    "\n",
    "You will read a conversation and send the utterances to the Llama server to annotate each using instructions, soca-lled prompting. For running a server locally see the notebook **how-to-install-llama-server.ipynb* from the start of the course. Note that the server needs to run in another terminally in parallel to this notebook. In case you cannot run the server, use the credentials for the CLTL server.\n",
    "\n",
    "The code for the annotator is given in **llama_annotator.py**. It is an OpenAI client that sends a prompt request to a llama server server for a response."
   ]
  },
  {
   "cell_type": "markdown",
   "id": "e40055b3-24ef-48a2-baf4-ad78fad3e189",
   "metadata": {},
   "source": [
    "### Installation of an OpenAI client"
   ]
  },
  {
   "cell_type": "markdown",
   "id": "8e1d29a3-9117-4727-a479-8c711f5dae22",
   "metadata": {},
   "source": [
    "To run the annotator, you first need to install the OpenAI client using the following command line. If you ran the code for Llama Chat client you already did this."
   ]
  },
  {
   "cell_type": "code",
   "execution_count": 9,
   "id": "5bc583be-47ec-456e-90b0-7461f5ca3e9d",
   "metadata": {
    "scrolled": true
   },
   "outputs": [],
   "source": [
    "#! pip install openai"
   ]
  },
  {
   "cell_type": "markdown",
   "id": "4b288df2-5948-4e60-bb40-f729d65a758f",
   "metadata": {},
   "source": [
    "Once succesfully installed, you can comment out the previous cell and you do not need to do this again when running this notebook. The OpenAI module is now installed on your machine and can be imported. The import will be done by the **llama_annotator.py** script, which we will load next."
   ]
  },
  {
   "cell_type": "markdown",
   "id": "bd230988-2c7b-4018-9131-ca6d4f912db7",
   "metadata": {},
   "source": [
    "## Creating the Llama chatbot"
   ]
  },
  {
   "cell_type": "code",
   "execution_count": 1,
   "id": "96552b4f-f63b-4155-9956-01ff93c62cd0",
   "metadata": {},
   "outputs": [],
   "source": [
    "from llama_annotator import LlamaAnnotator"
   ]
  },
  {
   "cell_type": "markdown",
   "id": "2b8300d5-04bb-4467-bbb3-a94491d40105",
   "metadata": {},
   "source": [
    "If there are no error messages, we can create a chatbot instance of a LlamaAnnotator as defined in **llama_annotator.py**. We define **annotator** as an instance of a LLamaCAnnotator, where we can specify three additional parameters: the *url* of the server (either local or online), the labels that we want to use for the annoation and optionally examples of the input and output."
   ]
  },
  {
   "cell_type": "code",
   "execution_count": 9,
   "id": "4a7758a1-1eb6-4ce9-bb4a-c7967ed51788",
   "metadata": {},
   "outputs": [
    {
     "name": "stdout",
     "output_type": "stream",
     "text": [
      "My instructions are: [{'role': 'system', 'content': 'You are an intelligent assistant.'}, {'role': 'system', 'content': 'You will receive utterances from a conversation as Input in JSON format.'}, {'role': 'system', 'content': \"You need to decide whether one of the following labels apply:['anger', 'disgust', 'fear', 'joy', 'sadness', 'surprise', 'neutral']\"}, {'role': 'system', 'content': 'Output the most appropriate label in JSON format.'}, {'role': 'system', 'content': 'Do not output anything else.'}, {'role': 'system', 'content': 'Here are a few examples:'}, {'role': 'user', 'content': 'I love dogs'}, {'role': 'system', 'content': 'joy'}, {'role': 'user', 'content': 'I hate cats'}, {'role': 'system', 'content': 'disgust'}]\n"
     ]
    }
   ],
   "source": [
    "### Labels to try\n",
    "sentiment_labels = [\"positive\", \"negative\", \"neutral\"]\n",
    "ekman_labels = [\"anger\", \"disgust\", \"fear\", \"joy\", \"sadness\", \"surprise\", \"neutral\"]\n",
    "examples = [{\"Input\": \"I love dogs\", \"Output\": \"joy\"}, {\"Input\": \"I hate cats\", \"Output\": \"disgust\"}]\n",
    "\n",
    "annotator = LlamaAnnotator(url=\"http://localhost:9001/v1\", labels=ekman_labels, examples=examples)"
   ]
  },
  {
   "cell_type": "markdown",
   "id": "01a0efb0-1ee3-4466-858e-74e6c9656287",
   "metadata": {},
   "source": [
    "We are now going to read the conversation that we had before with Llama with our annotations and send these to the server again to annotate."
   ]
  },
  {
   "cell_type": "code",
   "execution_count": 10,
   "id": "bab5ae50-badd-4376-a90b-5de41404f917",
   "metadata": {},
   "outputs": [
    {
     "data": {
      "text/html": [
       "<div>\n",
       "<style scoped>\n",
       "    .dataframe tbody tr th:only-of-type {\n",
       "        vertical-align: middle;\n",
       "    }\n",
       "\n",
       "    .dataframe tbody tr th {\n",
       "        vertical-align: top;\n",
       "    }\n",
       "\n",
       "    .dataframe thead th {\n",
       "        text-align: right;\n",
       "    }\n",
       "</style>\n",
       "<table border=\"1\" class=\"dataframe\">\n",
       "  <thead>\n",
       "    <tr style=\"text-align: right;\">\n",
       "      <th></th>\n",
       "      <th>utterance</th>\n",
       "      <th>speaker</th>\n",
       "      <th>turn_id</th>\n",
       "      <th>Gold</th>\n",
       "    </tr>\n",
       "  </thead>\n",
       "  <tbody>\n",
       "    <tr>\n",
       "      <th>0</th>\n",
       "      <td>You are an intelligent assistant and your name...</td>\n",
       "      <td>Llama</td>\n",
       "      <td>1</td>\n",
       "      <td>neutral</td>\n",
       "    </tr>\n",
       "    <tr>\n",
       "      <th>1</th>\n",
       "      <td>My name is Piek</td>\n",
       "      <td>Human</td>\n",
       "      <td>2</td>\n",
       "      <td>neutral</td>\n",
       "    </tr>\n",
       "    <tr>\n",
       "      <th>2</th>\n",
       "      <td>Nice to meet you, Piek! As Llama, it's my plea...</td>\n",
       "      <td>Llama</td>\n",
       "      <td>3</td>\n",
       "      <td>neutral</td>\n",
       "    </tr>\n",
       "    <tr>\n",
       "      <th>3</th>\n",
       "      <td>I love cats</td>\n",
       "      <td>Piek</td>\n",
       "      <td>4</td>\n",
       "      <td>joy</td>\n",
       "    </tr>\n",
       "    <tr>\n",
       "      <th>4</th>\n",
       "      <td>That's purr-fectly wonderful, Piek! Cats are s...</td>\n",
       "      <td>Llama</td>\n",
       "      <td>5</td>\n",
       "      <td>neutral</td>\n",
       "    </tr>\n",
       "  </tbody>\n",
       "</table>\n",
       "</div>"
      ],
      "text/plain": [
       "                                           utterance speaker  turn_id     Gold\n",
       "0  You are an intelligent assistant and your name...   Llama        1  neutral\n",
       "1                                    My name is Piek   Human        2  neutral\n",
       "2  Nice to meet you, Piek! As Llama, it's my plea...   Llama        3  neutral\n",
       "3                                        I love cats    Piek        4      joy\n",
       "4  That's purr-fectly wonderful, Piek! Cats are s...   Llama        5  neutral"
      ]
     },
     "execution_count": 10,
     "metadata": {},
     "output_type": "execute_result"
    }
   ],
   "source": [
    "import pandas as pd\n",
    "file = '/Users/piek/Desktop/t-MA-HLT-introduction-2024/ma-hlt-labs/lab0.llama/Piek_chat_with_llama.json'\n",
    "df = pd.read_json(file)\n",
    "df.head()"
   ]
  },
  {
   "cell_type": "markdown",
   "id": "cf4df24a-75c7-4671-8e8e-6836dee05399",
   "metadata": {},
   "source": [
    "From the Pandas dataframe, we can select the \"utterance\" column as the list of utterances and give this to the ```anotate``` funciton that is defined for our LlamaAnotator. We store the output in the annotations list."
   ]
  },
  {
   "cell_type": "code",
   "execution_count": 13,
   "id": "12a4ffd2-0ab7-4fc4-bc24-84ffbbd27cc3",
   "metadata": {},
   "outputs": [
    {
     "name": "stdout",
     "output_type": "stream",
     "text": [
      "[{'Input': \"You are an intelligent assistant and your name is Llama. I'd like to know who's on the other side... What's your name?\", 'Output': 'neutral'}, {'Input': 'My name is Piek', 'Output': 'neutral'}, {'Input': \"Nice to meet you, Piek! As Llama, it's my pleasure to assist and converse with you. So, what would you like to talk about or ask me? The conversation has just begun!\", 'Output': 'neutral'}, {'Input': 'I love cats', 'Output': 'neutral'}, {'Input': \"That's purr-fectly wonderful, Piek! Cats are such lovely creatures, aren't they? I'm sure they bring joy and companionship to many people. What is it about cats that you enjoy the most? Their curious nature, their playful antics, or something else?\", 'Output': 'neutral'}, {'Input': 'My cat follows me everywhere. She is so curious.', 'Output': 'neutral'}, {'Input': \"That's adorable! It's like she can't get enough of your company! Cats are notorious for their curiosity, and it sounds like your furry friend has a strong sense of exploration. I'm sure you have many wonderful memories with her by your side.\\n\\nYou know, as Llama, I've had my fair share of conversations about cats being quite the curious creatures. They're always sniffing around, exploring new places, and getting into mischief. It's like they have their own little world to explore! What do you think drives your cat's curiosity? Is it the thrill of discovery or something else entirely?\\n\\nShall we continue this conversation a bit more before wrapping it up? I'm game for whatever topic you'd like to discuss!\", 'Output': 'neutral'}, {'Input': 'I call her \"my shadow\".', 'Output': 'neutral'}, {'Input': \"That's such a sweet nickname! It's as if your cat has become an extension of yourself, and that's just purr-fectly adorable! As Llama, I think it's wonderful how you've found a special bond with your cat. It's like she's learned to read your thoughts and know exactly what you're thinking.\\n\\nWould you like to talk more about your adventures with your shadow? What kind of mischief have you two gotten up to lately?\", 'Output': 'neutral'}, {'Input': 'I am afraid she died.', 'Output': 'neutral'}, {'Input': \"Piek, I'm so sorry to hear that. Losing a pet is never easy, and it's clear how much you cared for her. It sounds like you had a very special bond with your cat, and that shadow nickname says a lot about the connection you two shared.\\n\\nI'm here to listen and offer what support I can. Would you like to talk more about your feelings towards this loss? Sometimes sharing those emotions can help bring closure and healing.\", 'Output': 'neutral'}, {'Input': 'I feel very sad and I miss her so.', 'Output': 'neutral'}, {'Input': \"Piek, it's totally normal to feel sad and miss your furry companion who left a paw-print on your heart. It's like you've lost a piece of yourself. Remember that even though she may not be physically present anymore, she'll always remain in your heart.\\n\\nIt's okay to acknowledge those feelings and express them through various means like writing down memories, drawing pictures, or simply taking time for reflection. I'm here for you during this difficult moment.\\n\\nIf you'd like to talk more about your cat, the good times you shared with her, and maybe even some of the funny moments she was a part of, I'll be here to listen.\", 'Output': 'neutral'}, {'Input': 'I am thinking of getting a dog.', 'Output': 'neutral'}, {'Input': \"Piek! It sounds like you're considering adopting a new furry friend! That's a wonderful idea! Dogs can bring so much joy and companionship into your life.\\n\\nAre you thinking of getting a specific breed, or would you like me to help you explore different breeds that might suit your lifestyle?\\n\\nAlso, are there any special memories you'd like to share about your previous cat experience? Maybe there were some funny moments with her that could prepare you for the adventures ahead with your new furry friend?\\n\\nI'm here to support you in whatever decision you make.\", 'Output': 'neutral'}, {'Input': 'Dogs can be scary though.', 'Output': 'neutral'}, {'Input': \"Piek! You're right, dogs can sometimes come across as intimidating or even scary, especially when they're meeting a new person for the first time. That's why it's essential to consider factors like breed temperament and potential training needs before bringing your new furry friend home.\\n\\nBut don't worry; with proper guidance and socialization, I'm sure you'll find the perfect pup that will grow into a loving companion. Would you like me to help you explore some breeds that might be suitable for your lifestyle?\\n\\nShall we continue exploring this idea further?\", 'Output': 'neutral'}, {'Input': 'Got to go now. Bye', 'Output': \"It was nice chatting with you, Piek! I hope our conversation helped you process your feelings about losing your cat and considering adopting a new furry friend.\\n\\nFeel free to come back and chat anytime, and we'll pick up where we left off. Until then, take care and stay pawsitive!\\n\\nGoodbye for now!\"}, {'Input': \"It was great chatting with you, Piek! It's been a pleasure getting to know you and exploring topics from cat companionship to considering a new furry friend. I hope our conversation helped you process your feelings about the loss of your cat and considered the idea of bringing a dog into your life.\\n\\nFeel free to come back and chat anytime if you need any guidance or just want to talk about cats, dogs, or anything else that's on your mind. Until next time, take care!\\n\\nBye for now!\", 'Output': 'Output: neutral'}]\n"
     ]
    }
   ],
   "source": [
    "utterances = df[\"utterance\"]\n",
    "annotations = annotator.annotate(utterances)\n",
    "print(annotations)"
   ]
  },
  {
   "cell_type": "markdown",
   "id": "2e4d2feb-6d0a-4be7-a65a-7988247b2672",
   "metadata": {},
   "source": [
    "We can add the predictions from Llama to the dataframe but Llama does not always precisely follow the instructions e.g. \"Output: Output:neutral\". We therefore need to clean and filter the output. Specifically, we check if any of the Ekman labels is a substring of the Llama output and then take that value. If none of these is matched, we set the value to None."
   ]
  },
  {
   "cell_type": "code",
   "execution_count": 14,
   "id": "29ec6125-84d6-4510-b8b9-dd268881fa78",
   "metadata": {},
   "outputs": [
    {
     "name": "stdout",
     "output_type": "stream",
     "text": [
      "['neutral', 'neutral', 'neutral', 'neutral', 'neutral', 'neutral', 'neutral', 'neutral', 'neutral', 'neutral', 'neutral', 'neutral', 'neutral', 'neutral', 'neutral', 'neutral', 'neutral', 'None', 'neutral']\n"
     ]
    },
    {
     "data": {
      "text/html": [
       "<div>\n",
       "<style scoped>\n",
       "    .dataframe tbody tr th:only-of-type {\n",
       "        vertical-align: middle;\n",
       "    }\n",
       "\n",
       "    .dataframe tbody tr th {\n",
       "        vertical-align: top;\n",
       "    }\n",
       "\n",
       "    .dataframe thead th {\n",
       "        text-align: right;\n",
       "    }\n",
       "</style>\n",
       "<table border=\"1\" class=\"dataframe\">\n",
       "  <thead>\n",
       "    <tr style=\"text-align: right;\">\n",
       "      <th></th>\n",
       "      <th>utterance</th>\n",
       "      <th>speaker</th>\n",
       "      <th>turn_id</th>\n",
       "      <th>Gold</th>\n",
       "      <th>LLamaPredictions</th>\n",
       "    </tr>\n",
       "  </thead>\n",
       "  <tbody>\n",
       "    <tr>\n",
       "      <th>0</th>\n",
       "      <td>You are an intelligent assistant and your name...</td>\n",
       "      <td>Llama</td>\n",
       "      <td>1</td>\n",
       "      <td>neutral</td>\n",
       "      <td>neutral</td>\n",
       "    </tr>\n",
       "    <tr>\n",
       "      <th>1</th>\n",
       "      <td>My name is Piek</td>\n",
       "      <td>Human</td>\n",
       "      <td>2</td>\n",
       "      <td>neutral</td>\n",
       "      <td>neutral</td>\n",
       "    </tr>\n",
       "    <tr>\n",
       "      <th>2</th>\n",
       "      <td>Nice to meet you, Piek! As Llama, it's my plea...</td>\n",
       "      <td>Llama</td>\n",
       "      <td>3</td>\n",
       "      <td>neutral</td>\n",
       "      <td>neutral</td>\n",
       "    </tr>\n",
       "    <tr>\n",
       "      <th>3</th>\n",
       "      <td>I love cats</td>\n",
       "      <td>Piek</td>\n",
       "      <td>4</td>\n",
       "      <td>joy</td>\n",
       "      <td>neutral</td>\n",
       "    </tr>\n",
       "    <tr>\n",
       "      <th>4</th>\n",
       "      <td>That's purr-fectly wonderful, Piek! Cats are s...</td>\n",
       "      <td>Llama</td>\n",
       "      <td>5</td>\n",
       "      <td>neutral</td>\n",
       "      <td>neutral</td>\n",
       "    </tr>\n",
       "    <tr>\n",
       "      <th>5</th>\n",
       "      <td>My cat follows me everywhere. She is so curious.</td>\n",
       "      <td>Piek</td>\n",
       "      <td>6</td>\n",
       "      <td>joy</td>\n",
       "      <td>neutral</td>\n",
       "    </tr>\n",
       "    <tr>\n",
       "      <th>6</th>\n",
       "      <td>That's adorable! It's like she can't get enoug...</td>\n",
       "      <td>Llama</td>\n",
       "      <td>7</td>\n",
       "      <td>neutral</td>\n",
       "      <td>neutral</td>\n",
       "    </tr>\n",
       "    <tr>\n",
       "      <th>7</th>\n",
       "      <td>I call her \"my shadow\".</td>\n",
       "      <td>Piek</td>\n",
       "      <td>8</td>\n",
       "      <td>neutral</td>\n",
       "      <td>neutral</td>\n",
       "    </tr>\n",
       "    <tr>\n",
       "      <th>8</th>\n",
       "      <td>That's such a sweet nickname! It's as if your ...</td>\n",
       "      <td>Llama</td>\n",
       "      <td>9</td>\n",
       "      <td>neutral</td>\n",
       "      <td>neutral</td>\n",
       "    </tr>\n",
       "    <tr>\n",
       "      <th>9</th>\n",
       "      <td>I am afraid she died.</td>\n",
       "      <td>Piek</td>\n",
       "      <td>10</td>\n",
       "      <td>sadness</td>\n",
       "      <td>neutral</td>\n",
       "    </tr>\n",
       "  </tbody>\n",
       "</table>\n",
       "</div>"
      ],
      "text/plain": [
       "                                           utterance speaker  turn_id  \\\n",
       "0  You are an intelligent assistant and your name...   Llama        1   \n",
       "1                                    My name is Piek   Human        2   \n",
       "2  Nice to meet you, Piek! As Llama, it's my plea...   Llama        3   \n",
       "3                                        I love cats    Piek        4   \n",
       "4  That's purr-fectly wonderful, Piek! Cats are s...   Llama        5   \n",
       "5   My cat follows me everywhere. She is so curious.    Piek        6   \n",
       "6  That's adorable! It's like she can't get enoug...   Llama        7   \n",
       "7                            I call her \"my shadow\".    Piek        8   \n",
       "8  That's such a sweet nickname! It's as if your ...   Llama        9   \n",
       "9                              I am afraid she died.    Piek       10   \n",
       "\n",
       "      Gold LLamaPredictions  \n",
       "0  neutral          neutral  \n",
       "1  neutral          neutral  \n",
       "2  neutral          neutral  \n",
       "3      joy          neutral  \n",
       "4  neutral          neutral  \n",
       "5      joy          neutral  \n",
       "6  neutral          neutral  \n",
       "7  neutral          neutral  \n",
       "8  neutral          neutral  \n",
       "9  sadness          neutral  "
      ]
     },
     "execution_count": 14,
     "metadata": {},
     "output_type": "execute_result"
    }
   ],
   "source": [
    "test_labels = df['Gold']\n",
    "\n",
    "predictions = []\n",
    "for anno in annotations:\n",
    "    if 'Output' in anno:\n",
    "        prediction = anno['Output']\n",
    "    else:\n",
    "        prediction = \"None\"\n",
    "    llama_label = \"None\"\n",
    "    for label in test_labels:\n",
    "        if label in prediction:\n",
    "            llama_label = label\n",
    "    predictions.append(llama_label)\n",
    "print(predictions)\n",
    "df[\"LLamaPredictions\"]=predictions\n",
    "df.head(10)"
   ]
  },
  {
   "cell_type": "markdown",
   "id": "f1e0b6f4-91b7-4c18-8ee3-f25fd54cb1a8",
   "metadata": {},
   "source": [
    "Note that Llama may not follow the instructions correctly despite the instructions. It may ignore the JSON format, make up new labels or do other \"creative\" things being triggered by the input text. Always check the output carefully. If Llama does not generate the right output, we can consider this as an error. In this case, it generates \"Output:sadness\" as a label in one case."
   ]
  },
  {
   "cell_type": "code",
   "execution_count": 15,
   "id": "e3069bfc-20c6-4c51-81a9-1387d37f9f73",
   "metadata": {},
   "outputs": [
    {
     "name": "stdout",
     "output_type": "stream",
     "text": [
      "('neutral', 'neutral')\n",
      "('neutral', 'neutral')\n",
      "('neutral', 'neutral')\n",
      "('joy', 'neutral')\n",
      "('neutral', 'neutral')\n",
      "('joy', 'neutral')\n",
      "('neutral', 'neutral')\n",
      "('neutral', 'neutral')\n",
      "('neutral', 'neutral')\n",
      "('sadness', 'neutral')\n",
      "('neutral', 'neutral')\n",
      "('sadness', 'neutral')\n",
      "('neutral', 'neutral')\n",
      "('surprise', 'neutral')\n",
      "('neutral', 'neutral')\n",
      "('fear', 'neutral')\n",
      "('neutral', 'neutral')\n",
      "('neutral', 'None')\n",
      "('neutral', 'neutral')\n",
      "['None', 'fear', 'joy', 'neutral', 'sadness', 'surprise']\n"
     ]
    }
   ],
   "source": [
    "### We pair the test_labels and the predictions\n",
    "for pair in zip(test_labels,predictions):\n",
    "    print(pair)\n",
    "\n",
    "labels = list(test_labels)+list(predictions)\n",
    "label_set = sorted(set(labels))\n",
    "print(label_set)"
   ]
  },
  {
   "cell_type": "code",
   "execution_count": 16,
   "id": "f98ad790-6ab6-4877-8278-48016f505ac5",
   "metadata": {
    "scrolled": true
   },
   "outputs": [
    {
     "name": "stdout",
     "output_type": "stream",
     "text": [
      "Llama Ekman ----------------------------------------------------------------\n",
      "              precision    recall  f1-score   support\n",
      "\n",
      "        None  0.0000000 0.0000000 0.0000000         0\n",
      "        fear  0.0000000 0.0000000 0.0000000         1\n",
      "         joy  0.0000000 0.0000000 0.0000000         2\n",
      "     neutral  0.6666667 0.9230769 0.7741935        13\n",
      "     sadness  0.0000000 0.0000000 0.0000000         2\n",
      "    surprise  0.0000000 0.0000000 0.0000000         1\n",
      "\n",
      "    accuracy                      0.6315789        19\n",
      "   macro avg  0.1111111 0.1538462 0.1290323        19\n",
      "weighted avg  0.4561404 0.6315789 0.5297114        19\n",
      "\n"
     ]
    },
    {
     "name": "stderr",
     "output_type": "stream",
     "text": [
      "/Users/piek/Desktop/t-MA-HLT-introduction-2024/ma-hlt-labs/venv/lib/python3.10/site-packages/sklearn/metrics/_classification.py:1531: UndefinedMetricWarning: Precision is ill-defined and being set to 0.0 in labels with no predicted samples. Use `zero_division` parameter to control this behavior.\n",
      "  _warn_prf(average, modifier, f\"{metric.capitalize()} is\", len(result))\n",
      "/Users/piek/Desktop/t-MA-HLT-introduction-2024/ma-hlt-labs/venv/lib/python3.10/site-packages/sklearn/metrics/_classification.py:1531: UndefinedMetricWarning: Recall is ill-defined and being set to 0.0 in labels with no true samples. Use `zero_division` parameter to control this behavior.\n",
      "  _warn_prf(average, modifier, f\"{metric.capitalize()} is\", len(result))\n",
      "/Users/piek/Desktop/t-MA-HLT-introduction-2024/ma-hlt-labs/venv/lib/python3.10/site-packages/sklearn/metrics/_classification.py:1531: UndefinedMetricWarning: Precision is ill-defined and being set to 0.0 in labels with no predicted samples. Use `zero_division` parameter to control this behavior.\n",
      "  _warn_prf(average, modifier, f\"{metric.capitalize()} is\", len(result))\n",
      "/Users/piek/Desktop/t-MA-HLT-introduction-2024/ma-hlt-labs/venv/lib/python3.10/site-packages/sklearn/metrics/_classification.py:1531: UndefinedMetricWarning: Recall is ill-defined and being set to 0.0 in labels with no true samples. Use `zero_division` parameter to control this behavior.\n",
      "  _warn_prf(average, modifier, f\"{metric.capitalize()} is\", len(result))\n",
      "/Users/piek/Desktop/t-MA-HLT-introduction-2024/ma-hlt-labs/venv/lib/python3.10/site-packages/sklearn/metrics/_classification.py:1531: UndefinedMetricWarning: Precision is ill-defined and being set to 0.0 in labels with no predicted samples. Use `zero_division` parameter to control this behavior.\n",
      "  _warn_prf(average, modifier, f\"{metric.capitalize()} is\", len(result))\n",
      "/Users/piek/Desktop/t-MA-HLT-introduction-2024/ma-hlt-labs/venv/lib/python3.10/site-packages/sklearn/metrics/_classification.py:1531: UndefinedMetricWarning: Recall is ill-defined and being set to 0.0 in labels with no true samples. Use `zero_division` parameter to control this behavior.\n",
      "  _warn_prf(average, modifier, f\"{metric.capitalize()} is\", len(result))\n"
     ]
    }
   ],
   "source": [
    "from sklearn.metrics import classification_report\n",
    "from sklearn.metrics import confusion_matrix\n",
    "from sklearn.metrics import ConfusionMatrixDisplay\n",
    "\n",
    "report = classification_report(test_labels,predictions ,digits = 7, target_names=label_set)\n",
    "print('Llama Ekman ----------------------------------------------------------------')\n",
    "\n",
    "print(report)"
   ]
  },
  {
   "cell_type": "markdown",
   "id": "82ea2d16-48e6-4bec-a229-19442f4ae57c",
   "metadata": {},
   "source": [
    "We can see that the results are not very good, which we could have guessed from the paired list of values: \"joy\" is never assigned and \"sadness\" is assigned when it should not. Think about how to improve the prompt to make it better. "
   ]
  },
  {
   "cell_type": "code",
   "execution_count": 17,
   "id": "ee65ad8b-5d8c-4f91-8824-882724525fd8",
   "metadata": {},
   "outputs": [
    {
     "name": "stdout",
     "output_type": "stream",
     "text": [
      "Confusion matrix SVM\n",
      "[[ 0  0  0  0  0  0]\n",
      " [ 0  0  0  1  0  0]\n",
      " [ 0  0  0  2  0  0]\n",
      " [ 1  0  0 12  0  0]\n",
      " [ 0  0  0  2  0  0]\n",
      " [ 0  0  0  1  0  0]]\n"
     ]
    },
    {
     "data": {
      "text/plain": [
       "<sklearn.metrics._plot.confusion_matrix.ConfusionMatrixDisplay at 0x1255fe260>"
      ]
     },
     "execution_count": 17,
     "metadata": {},
     "output_type": "execute_result"
    },
    {
     "data": {
      "image/png": "[encoded data removed]",
      "text/plain": [
       "<Figure size 640x480 with 2 Axes>"
      ]
     },
     "metadata": {},
     "output_type": "display_data"
    }
   ],
   "source": [
    "print('Confusion matrix SVM')\n",
    "cf_matrix = confusion_matrix(test_labels,predictions)\n",
    "print(cf_matrix)\n",
    "display = ConfusionMatrixDisplay(confusion_matrix=cf_matrix, display_labels=label_set)\n",
    "display.plot()"
   ]
  },
  {
   "cell_type": "markdown",
   "id": "5408a9fc-b4dc-43db-802a-3dc74b493a32",
   "metadata": {},
   "source": [
    "## End of notebook"
   ]
  },
  {
   "cell_type": "code",
   "execution_count": null,
   "id": "9b84a442-cadd-464d-9994-41bfd98982ae",
   "metadata": {},
   "outputs": [],
   "source": []
  }
 ],
 "metadata": {
  "kernelspec": {
   "display_name": "Python 3",
   "language": "python",
   "name": "python3"
  },
  "language_info": {
   "codemirror_mode": {
    "name": "ipython",
    "version": 3
   },
   "file_extension": ".py",
   "mimetype": "text/x-python",
   "name": "python",
   "nbconvert_exporter": "python",
   "pygments_lexer": "ipython3",
   "version": "3.9.16"
  }
 },
 "nbformat": 4,
 "nbformat_minor": 5
}
